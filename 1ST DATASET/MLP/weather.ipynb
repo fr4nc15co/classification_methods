{
 "cells": [
  {
   "cell_type": "code",
   "execution_count": 1,
   "metadata": {},
   "outputs": [],
   "source": [
    "#from codecarbon import EmissionsTracker\n",
    "#try:\n",
    "#    tracker.stop()  # Intenta detener cualquier instancia previa de codecarbon\n",
    "##except:\n",
    "##    pass  # Ignora el error si no hay ninguna instancia activa\n",
    "# Iniciar el medidor\n",
    "#tracker = EmissionsTracker()\n",
    "#tracker.start()"
   ]
  },
  {
   "cell_type": "code",
   "execution_count": 2,
   "metadata": {},
   "outputs": [],
   "source": [
    "import numpy as np # linear algebra\n",
    "np.random.seed(10)\n",
    "import pandas as pd # data processing, CSV file I/O (e.g. pd.read_csv)\n",
    "import matplotlib.pyplot as plt\n",
    "import seaborn as sns\n",
    "\n",
    "# Required magic to display matplotlib plots in notebooks\n",
    "%matplotlib inline\n",
    "\n",
    "from sklearn import metrics\n",
    "from sklearn.metrics import accuracy_score, confusion_matrix\n",
    "from sklearn.model_selection import train_test_split"
   ]
  },
  {
   "cell_type": "code",
   "execution_count": 3,
   "metadata": {},
   "outputs": [],
   "source": [
    "data = '/Users/lucia/.cache/kagglehub/datasets/trisha2094/weatheraus/versions/1/weatherAUS.csv'\n",
    "\n",
    "df = pd.read_csv(data)"
   ]
  },
  {
   "cell_type": "code",
   "execution_count": 4,
   "metadata": {},
   "outputs": [
    {
     "data": {
      "text/html": [
       "<div>\n",
       "<style scoped>\n",
       "    .dataframe tbody tr th:only-of-type {\n",
       "        vertical-align: middle;\n",
       "    }\n",
       "\n",
       "    .dataframe tbody tr th {\n",
       "        vertical-align: top;\n",
       "    }\n",
       "\n",
       "    .dataframe thead th {\n",
       "        text-align: right;\n",
       "    }\n",
       "</style>\n",
       "<table border=\"1\" class=\"dataframe\">\n",
       "  <thead>\n",
       "    <tr style=\"text-align: right;\">\n",
       "      <th></th>\n",
       "      <th>Date</th>\n",
       "      <th>Location</th>\n",
       "      <th>MinTemp</th>\n",
       "      <th>MaxTemp</th>\n",
       "      <th>Rainfall</th>\n",
       "      <th>Evaporation</th>\n",
       "      <th>Sunshine</th>\n",
       "      <th>WindGustDir</th>\n",
       "      <th>WindGustSpeed</th>\n",
       "      <th>WindDir9am</th>\n",
       "      <th>...</th>\n",
       "      <th>Humidity3pm</th>\n",
       "      <th>Pressure9am</th>\n",
       "      <th>Pressure3pm</th>\n",
       "      <th>Cloud9am</th>\n",
       "      <th>Cloud3pm</th>\n",
       "      <th>Temp9am</th>\n",
       "      <th>Temp3pm</th>\n",
       "      <th>RainToday</th>\n",
       "      <th>RISK_MM</th>\n",
       "      <th>RainTomorrow</th>\n",
       "    </tr>\n",
       "  </thead>\n",
       "  <tbody>\n",
       "    <tr>\n",
       "      <th>0</th>\n",
       "      <td>2008-12-01</td>\n",
       "      <td>Albury</td>\n",
       "      <td>13.4</td>\n",
       "      <td>22.9</td>\n",
       "      <td>0.6</td>\n",
       "      <td>NaN</td>\n",
       "      <td>NaN</td>\n",
       "      <td>W</td>\n",
       "      <td>44.0</td>\n",
       "      <td>W</td>\n",
       "      <td>...</td>\n",
       "      <td>22.0</td>\n",
       "      <td>1007.7</td>\n",
       "      <td>1007.1</td>\n",
       "      <td>8.0</td>\n",
       "      <td>NaN</td>\n",
       "      <td>16.9</td>\n",
       "      <td>21.8</td>\n",
       "      <td>No</td>\n",
       "      <td>0.0</td>\n",
       "      <td>No</td>\n",
       "    </tr>\n",
       "    <tr>\n",
       "      <th>1</th>\n",
       "      <td>2008-12-02</td>\n",
       "      <td>Albury</td>\n",
       "      <td>7.4</td>\n",
       "      <td>25.1</td>\n",
       "      <td>0.0</td>\n",
       "      <td>NaN</td>\n",
       "      <td>NaN</td>\n",
       "      <td>WNW</td>\n",
       "      <td>44.0</td>\n",
       "      <td>NNW</td>\n",
       "      <td>...</td>\n",
       "      <td>25.0</td>\n",
       "      <td>1010.6</td>\n",
       "      <td>1007.8</td>\n",
       "      <td>NaN</td>\n",
       "      <td>NaN</td>\n",
       "      <td>17.2</td>\n",
       "      <td>24.3</td>\n",
       "      <td>No</td>\n",
       "      <td>0.0</td>\n",
       "      <td>No</td>\n",
       "    </tr>\n",
       "    <tr>\n",
       "      <th>2</th>\n",
       "      <td>2008-12-03</td>\n",
       "      <td>Albury</td>\n",
       "      <td>12.9</td>\n",
       "      <td>25.7</td>\n",
       "      <td>0.0</td>\n",
       "      <td>NaN</td>\n",
       "      <td>NaN</td>\n",
       "      <td>WSW</td>\n",
       "      <td>46.0</td>\n",
       "      <td>W</td>\n",
       "      <td>...</td>\n",
       "      <td>30.0</td>\n",
       "      <td>1007.6</td>\n",
       "      <td>1008.7</td>\n",
       "      <td>NaN</td>\n",
       "      <td>2.0</td>\n",
       "      <td>21.0</td>\n",
       "      <td>23.2</td>\n",
       "      <td>No</td>\n",
       "      <td>0.0</td>\n",
       "      <td>No</td>\n",
       "    </tr>\n",
       "    <tr>\n",
       "      <th>3</th>\n",
       "      <td>2008-12-04</td>\n",
       "      <td>Albury</td>\n",
       "      <td>9.2</td>\n",
       "      <td>28.0</td>\n",
       "      <td>0.0</td>\n",
       "      <td>NaN</td>\n",
       "      <td>NaN</td>\n",
       "      <td>NE</td>\n",
       "      <td>24.0</td>\n",
       "      <td>SE</td>\n",
       "      <td>...</td>\n",
       "      <td>16.0</td>\n",
       "      <td>1017.6</td>\n",
       "      <td>1012.8</td>\n",
       "      <td>NaN</td>\n",
       "      <td>NaN</td>\n",
       "      <td>18.1</td>\n",
       "      <td>26.5</td>\n",
       "      <td>No</td>\n",
       "      <td>1.0</td>\n",
       "      <td>No</td>\n",
       "    </tr>\n",
       "    <tr>\n",
       "      <th>4</th>\n",
       "      <td>2008-12-05</td>\n",
       "      <td>Albury</td>\n",
       "      <td>17.5</td>\n",
       "      <td>32.3</td>\n",
       "      <td>1.0</td>\n",
       "      <td>NaN</td>\n",
       "      <td>NaN</td>\n",
       "      <td>W</td>\n",
       "      <td>41.0</td>\n",
       "      <td>ENE</td>\n",
       "      <td>...</td>\n",
       "      <td>33.0</td>\n",
       "      <td>1010.8</td>\n",
       "      <td>1006.0</td>\n",
       "      <td>7.0</td>\n",
       "      <td>8.0</td>\n",
       "      <td>17.8</td>\n",
       "      <td>29.7</td>\n",
       "      <td>No</td>\n",
       "      <td>0.2</td>\n",
       "      <td>No</td>\n",
       "    </tr>\n",
       "  </tbody>\n",
       "</table>\n",
       "<p>5 rows × 24 columns</p>\n",
       "</div>"
      ],
      "text/plain": [
       "         Date Location  MinTemp  MaxTemp  Rainfall  Evaporation  Sunshine  \\\n",
       "0  2008-12-01   Albury     13.4     22.9       0.6          NaN       NaN   \n",
       "1  2008-12-02   Albury      7.4     25.1       0.0          NaN       NaN   \n",
       "2  2008-12-03   Albury     12.9     25.7       0.0          NaN       NaN   \n",
       "3  2008-12-04   Albury      9.2     28.0       0.0          NaN       NaN   \n",
       "4  2008-12-05   Albury     17.5     32.3       1.0          NaN       NaN   \n",
       "\n",
       "  WindGustDir  WindGustSpeed WindDir9am  ... Humidity3pm  Pressure9am  \\\n",
       "0           W           44.0          W  ...        22.0       1007.7   \n",
       "1         WNW           44.0        NNW  ...        25.0       1010.6   \n",
       "2         WSW           46.0          W  ...        30.0       1007.6   \n",
       "3          NE           24.0         SE  ...        16.0       1017.6   \n",
       "4           W           41.0        ENE  ...        33.0       1010.8   \n",
       "\n",
       "   Pressure3pm  Cloud9am  Cloud3pm  Temp9am  Temp3pm  RainToday  RISK_MM  \\\n",
       "0       1007.1       8.0       NaN     16.9     21.8         No      0.0   \n",
       "1       1007.8       NaN       NaN     17.2     24.3         No      0.0   \n",
       "2       1008.7       NaN       2.0     21.0     23.2         No      0.0   \n",
       "3       1012.8       NaN       NaN     18.1     26.5         No      1.0   \n",
       "4       1006.0       7.0       8.0     17.8     29.7         No      0.2   \n",
       "\n",
       "   RainTomorrow  \n",
       "0            No  \n",
       "1            No  \n",
       "2            No  \n",
       "3            No  \n",
       "4            No  \n",
       "\n",
       "[5 rows x 24 columns]"
      ]
     },
     "execution_count": 4,
     "metadata": {},
     "output_type": "execute_result"
    }
   ],
   "source": [
    "df.head()"
   ]
  },
  {
   "cell_type": "code",
   "execution_count": 5,
   "metadata": {},
   "outputs": [
    {
     "data": {
      "text/plain": [
       "Index(['Date', 'Location', 'MinTemp', 'MaxTemp', 'Rainfall', 'Evaporation',\n",
       "       'Sunshine', 'WindGustDir', 'WindGustSpeed', 'WindDir9am', 'WindDir3pm',\n",
       "       'WindSpeed9am', 'WindSpeed3pm', 'Humidity9am', 'Humidity3pm',\n",
       "       'Pressure9am', 'Pressure3pm', 'Cloud9am', 'Cloud3pm', 'Temp9am',\n",
       "       'Temp3pm', 'RainToday', 'RISK_MM', 'RainTomorrow'],\n",
       "      dtype='object')"
      ]
     },
     "execution_count": 5,
     "metadata": {},
     "output_type": "execute_result"
    }
   ],
   "source": [
    "df.columns"
   ]
  },
  {
   "cell_type": "code",
   "execution_count": 6,
   "metadata": {},
   "outputs": [],
   "source": [
    "# parse the dates, currently coded as strings, into datetime format\n",
    "\n",
    "df['Date'] = pd.to_datetime(df['Date'])"
   ]
  },
  {
   "cell_type": "code",
   "execution_count": 7,
   "metadata": {},
   "outputs": [
    {
     "data": {
      "text/plain": [
       "0    2008\n",
       "1    2008\n",
       "2    2008\n",
       "3    2008\n",
       "4    2008\n",
       "Name: Year, dtype: int64"
      ]
     },
     "execution_count": 7,
     "metadata": {},
     "output_type": "execute_result"
    }
   ],
   "source": [
    "# extract year from date\n",
    "\n",
    "df['Year'] = df['Date'].dt.year\n",
    "\n",
    "df['Year'].head()"
   ]
  },
  {
   "cell_type": "code",
   "execution_count": 8,
   "metadata": {},
   "outputs": [
    {
     "data": {
      "text/plain": [
       "0    12\n",
       "1    12\n",
       "2    12\n",
       "3    12\n",
       "4    12\n",
       "Name: Month, dtype: int64"
      ]
     },
     "execution_count": 8,
     "metadata": {},
     "output_type": "execute_result"
    }
   ],
   "source": [
    "# extract month from date\n",
    "\n",
    "df['Month'] = df['Date'].dt.month\n",
    "\n",
    "df['Month'].head()"
   ]
  },
  {
   "cell_type": "code",
   "execution_count": 9,
   "metadata": {},
   "outputs": [
    {
     "data": {
      "text/plain": [
       "0    1\n",
       "1    2\n",
       "2    3\n",
       "3    4\n",
       "4    5\n",
       "Name: Day, dtype: int64"
      ]
     },
     "execution_count": 9,
     "metadata": {},
     "output_type": "execute_result"
    }
   ],
   "source": [
    "# extract day from date\n",
    "\n",
    "df['Day'] = df['Date'].dt.day\n",
    "\n",
    "df['Day'].head()"
   ]
  },
  {
   "cell_type": "code",
   "execution_count": 10,
   "metadata": {},
   "outputs": [],
   "source": [
    "# drop the original Date variable\n",
    "\n",
    "df.drop('Date', axis=1, inplace = True)"
   ]
  },
  {
   "cell_type": "code",
   "execution_count": 11,
   "metadata": {},
   "outputs": [
    {
     "name": "stdout",
     "output_type": "stream",
     "text": [
      "Shape of X: (142193, 25)\n",
      "Shape of y: (142193,)\n"
     ]
    }
   ],
   "source": [
    "y = df[\"RainTomorrow\"]  # Variable objetivo\n",
    "X = df.drop(columns=[\"RainTomorrow\"])  # Resto de variables como features\n",
    "\n",
    "# Mostrar las dimensiones para verificar\n",
    "print(f\"Shape of X: {X.shape}\")\n",
    "print(f\"Shape of y: {y.shape}\")"
   ]
  },
  {
   "cell_type": "code",
   "execution_count": 12,
   "metadata": {},
   "outputs": [],
   "source": [
    "# Split the dataset into training and testing sets\n",
    "X_train, X_test, y_train, y_test = train_test_split(\n",
    "    X, y, test_size=0.2, random_state=42)"
   ]
  },
  {
   "cell_type": "code",
   "execution_count": 13,
   "metadata": {},
   "outputs": [
    {
     "data": {
      "text/plain": [
       "Index(['Location', 'MinTemp', 'MaxTemp', 'Rainfall', 'Evaporation', 'Sunshine',\n",
       "       'WindGustDir', 'WindGustSpeed', 'WindDir9am', 'WindDir3pm',\n",
       "       'WindSpeed9am', 'WindSpeed3pm', 'Humidity9am', 'Humidity3pm',\n",
       "       'Pressure9am', 'Pressure3pm', 'Cloud9am', 'Cloud3pm', 'Temp9am',\n",
       "       'Temp3pm', 'RainToday', 'RISK_MM', 'Year', 'Month', 'Day'],\n",
       "      dtype='object')"
      ]
     },
     "execution_count": 13,
     "metadata": {},
     "output_type": "execute_result"
    }
   ],
   "source": [
    "X_train.columns"
   ]
  },
  {
   "cell_type": "code",
   "execution_count": 14,
   "metadata": {},
   "outputs": [],
   "source": [
    "from sklearn.preprocessing import LabelEncoder\n",
    "import numpy as np\n",
    "\n",
    "# Identificar columnas categóricas\n",
    "categorical_features = X_train.select_dtypes(include=['object', 'category'])\n",
    "\n",
    "# Identificar columnas numéricas\n",
    "numerical_features = X_train.select_dtypes(include=['number'])\n",
    "\n",
    "# Convertir las categóricas en valores numéricos\n",
    "categorical_encoded = categorical_features.apply(lambda col: LabelEncoder().fit_transform(col))\n",
    "\n",
    "# Unir columnas numéricas y categóricas codificadas\n",
    "features = np.hstack((numerical_features.to_numpy(), categorical_encoded.to_numpy()))\n",
    "\n",
    "# Labels (y_train ya es la variable objetivo)\n",
    "labels = y_train.to_numpy()"
   ]
  },
  {
   "cell_type": "code",
   "execution_count": 15,
   "metadata": {},
   "outputs": [
    {
     "name": "stdout",
     "output_type": "stream",
     "text": [
      "Tipo de labels: object\n",
      "NaN en labels: 0\n",
      "NaN en features después de la imputación:\n",
      "[0 0 0 0 0 0 0 0 0 0 0 0 0 0 0 0 0 0 0 0 0 0 0 0 0]\n"
     ]
    }
   ],
   "source": [
    "import numpy as np\n",
    "import pandas as pd\n",
    "from sklearn.impute import SimpleImputer\n",
    "\n",
    "# 1. Verificar tipo de labels antes de buscar NaN\n",
    "print(f\"Tipo de labels: {labels.dtype}\")\n",
    "\n",
    "# Si labels es un array NumPy de tipo float, usamos np.isnan()\n",
    "if np.issubdtype(labels.dtype, np.number):\n",
    "    print(f\"NaN en labels: {np.isnan(labels).sum()}\")\n",
    "else:\n",
    "    # Si labels no es numérico, convertirlo a pandas.Series y usar .isna()\n",
    "    labels_series = pd.Series(labels)\n",
    "    print(f\"NaN en labels: {labels_series.isna().sum()}\")\n",
    "\n",
    "# 2. Eliminar filas donde labels tenga NaN\n",
    "mask = pd.Series(labels).notna()\n",
    "features = features[mask]\n",
    "labels = labels[mask]\n",
    "\n",
    "# 3. Imputar NaN en features\n",
    "num_cols = numerical_features.columns\n",
    "cat_cols = categorical_features.columns\n",
    "\n",
    "# Imputar numéricas con la media\n",
    "num_imputer = SimpleImputer(strategy='mean')\n",
    "features[:, :len(num_cols)] = num_imputer.fit_transform(features[:, :len(num_cols)])\n",
    "\n",
    "# Imputar categóricas con el modo\n",
    "cat_imputer = SimpleImputer(strategy='most_frequent')\n",
    "features[:, len(num_cols):] = cat_imputer.fit_transform(features[:, len(num_cols):])\n",
    "\n",
    "# Verificar que ya no haya NaN en features\n",
    "print(f\"NaN en features después de la imputación:\\n{np.isnan(features).sum(axis=0)}\")\n"
   ]
  },
  {
   "cell_type": "markdown",
   "metadata": {},
   "source": [
    "PERCEPTRON"
   ]
  },
  {
   "cell_type": "code",
   "execution_count": 16,
   "metadata": {},
   "outputs": [],
   "source": [
    "# Define the sigmoid activator; we ask if we want the sigmoid or its derivative\n",
    "def sigmoid_act(x, der=False):\n",
    "    import numpy as np\n",
    "    \n",
    "    if (der==True) : #derivative of the sigmoid\n",
    "        f = x/(1-x)\n",
    "    else : # sigmoid\n",
    "        f = 1/(1+ np.exp(-x))\n",
    "    \n",
    "    return f\n"
   ]
  },
  {
   "cell_type": "code",
   "execution_count": 17,
   "metadata": {},
   "outputs": [],
   "source": [
    "# We may employ the Rectifier Linear Unit (ReLU)\n",
    "def ReLU_act(x, der=False):\n",
    "    import numpy as np\n",
    "    \n",
    "    if (der== True):\n",
    "        if x>0 :\n",
    "            f= 1\n",
    "        else :\n",
    "            f = 0\n",
    "    else :\n",
    "        if x>0:\n",
    "            f = x\n",
    "        else :\n",
    "            f = 0\n",
    "    return f"
   ]
  },
  {
   "cell_type": "code",
   "execution_count": 19,
   "metadata": {},
   "outputs": [],
   "source": [
    "\n",
    "# Now we are ready to define the perceptron; \n",
    "# it eats a np.array (that may be a list of features )\n",
    "def perceptron(X, act='Sigmoid'): \n",
    "    import numpy as np\n",
    "    \n",
    "    shapes = X.shape # Pick the number of (rows, columns)!\n",
    "    n= shapes[0]+shapes[1]\n",
    "    # Generating random weights and bias\n",
    "    w = 2*np.random.random(shapes) - 0.5 # We want w to be between -1 and 1\n",
    "    b = np.random.random(1)\n",
    "    \n",
    "    # Initialize the function\n",
    "    f = b[0]\n",
    "    for i in range(0, X.shape[0]-1) : # run over column elements\n",
    "        for j in range(0, X.shape[1]-1) : # run over rows elements\n",
    "            f += w[i, j]*X[i,j]/n\n",
    "    # Pass it to the activation function and return it as an output\n",
    "    if act == 'Sigmoid':\n",
    "        output = sigmoid_act(f)\n",
    "    else :\n",
    "        output = ReLU_act(f)\n",
    "        \n",
    "    return output"
   ]
  },
  {
   "cell_type": "code",
   "execution_count": 20,
   "metadata": {},
   "outputs": [],
   "source": [
    "from sklearn.preprocessing import StandardScaler\n",
    "\n",
    "scaler = StandardScaler()\n",
    "features_scaled = scaler.fit_transform(features)\n"
   ]
  },
  {
   "cell_type": "code",
   "execution_count": 21,
   "metadata": {},
   "outputs": [
    {
     "name": "stdout",
     "output_type": "stream",
     "text": [
      "Output with sigmoid activator:  0.5231442366384295\n",
      "Output with ReLU activator:  0.682468666530021\n"
     ]
    }
   ],
   "source": [
    "print('Output with sigmoid activator: ', perceptron(features_scaled))\n",
    "print('Output with ReLU activator: ', perceptron(features_scaled))"
   ]
  },
  {
   "cell_type": "markdown",
   "metadata": {},
   "source": [
    "PERCEPTRÓN MULTICAPA"
   ]
  },
  {
   "cell_type": "code",
   "execution_count": 22,
   "metadata": {},
   "outputs": [],
   "source": [
    "import numpy as np\n",
    "\n",
    "# Define the sigmoid activator; we ask if we want the sigmoid or its derivative\n",
    "def sigmoid_act(x, der=False):\n",
    "    import numpy as np\n",
    "    \n",
    "    if (der==True) : #derivative of the sigmoid\n",
    "        f = 1/(1+ np.exp(- x))*(1-1/(1+ np.exp(- x)))\n",
    "    else : # sigmoid\n",
    "        f = 1/(1+ np.exp(- x))\n",
    "    \n",
    "    return f\n",
    "\n",
    "# We may employ the Rectifier Linear Unit (ReLU)\n",
    "def ReLU_act(x, der=False):\n",
    "    import numpy as np\n",
    "    \n",
    "    if (der == True): # the derivative of the ReLU is the Heaviside Theta\n",
    "        f = np.heaviside(x, 1)\n",
    "    else :\n",
    "        f = np.maximum(x, 0)\n",
    "    \n",
    "    return f"
   ]
  },
  {
   "cell_type": "code",
   "execution_count": 23,
   "metadata": {},
   "outputs": [
    {
     "name": "stdout",
     "output_type": "stream",
     "text": [
      "Training records: 79627\n",
      "Test records: 34127\n"
     ]
    }
   ],
   "source": [
    "# split into training and testing sets\n",
    "from sklearn.model_selection import train_test_split\n",
    "\n",
    "X_train, X_test, Y_train, Y_test = train_test_split(features, labels, test_size=0.30)\n",
    "\n",
    "print('Training records:',Y_train.size)\n",
    "print('Test records:',Y_test.size)"
   ]
  },
  {
   "cell_type": "code",
   "execution_count": 24,
   "metadata": {},
   "outputs": [
    {
     "name": "stdout",
     "output_type": "stream",
     "text": [
      "Nueva distribución de clases en Y_train:\n",
      "Yes    61645\n",
      "No     61645\n",
      "dtype: int64\n"
     ]
    }
   ],
   "source": [
    "from imblearn.over_sampling import SMOTE\n",
    "\n",
    "#Aplicar SMOTE para balancear los datos\n",
    "smote = SMOTE(random_state=42)\n",
    "X_train_balanced, Y_train_balanced = smote.fit_resample(X_train, Y_train)\n",
    "\n",
    "# Verificar la nueva distribución\n",
    "print(\"Nueva distribución de clases en Y_train:\")\n",
    "print(pd.Series(Y_train_balanced).value_counts())\n",
    "\n",
    "X_train = X_train_balanced\n",
    "Y_train = Y_train_balanced"
   ]
  },
  {
   "cell_type": "code",
   "execution_count": 25,
   "metadata": {},
   "outputs": [],
   "source": [
    "from sklearn.preprocessing import LabelEncoder\n",
    "\n",
    "# Convertir 'Yes' -> 1 y 'No' -> 0\n",
    "label_encoder = LabelEncoder()\n",
    "Y_train = label_encoder.fit_transform(Y_train)\n",
    "Y_test = label_encoder.transform(Y_test)  # También convertir Y_test si lo necesitas\n"
   ]
  },
  {
   "cell_type": "code",
   "execution_count": 26,
   "metadata": {},
   "outputs": [
    {
     "name": "stderr",
     "output_type": "stream",
     "text": [
      "/var/folders/6p/rj62j_kn3_z770jd73t206640000gn/T/ipykernel_95829/3998926874.py:10: RuntimeWarning: overflow encountered in exp\n",
      "  f = 1/(1+ np.exp(- x))\n"
     ]
    },
    {
     "data": {
      "image/png": "[encoded data removed]",
      "text/plain": [
       "<Figure size 720x432 with 1 Axes>"
      ]
     },
     "metadata": {
      "needs_background": "light"
     },
     "output_type": "display_data"
    },
    {
     "data": {
      "image/png": "[encoded data removed]",
      "text/plain": [
       "<Figure size 720x432 with 1 Axes>"
      ]
     },
     "metadata": {
      "needs_background": "light"
     },
     "output_type": "display_data"
    }
   ],
   "source": [
    "# Set up the number of perceptron per each layer:\n",
    "p=4 # Layer 1\n",
    "q=4 # Layer 2\n",
    "\n",
    "# Set up the Learning rate\n",
    "eta =  1/623\n",
    "\n",
    "\n",
    "# 0: Random initialize the relevant data (weights and bias)\n",
    "w1 = 2*np.random.rand(p , X_train.shape[1]) - 0.5 # Layer 1\n",
    "b1 = np.random.rand(p)\n",
    "\n",
    "w2 = 2*np.random.rand(q , p) - 0.5  # Layer 2\n",
    "b2 = np.random.rand(q)\n",
    "\n",
    "wOut = 2*np.random.rand(q) - 0.5  # Output Layer\n",
    "bOut = np.random.rand(1)\n",
    "\n",
    "mu = []\n",
    "vec_y = []\n",
    "\n",
    "# Start looping over the passengers, i.e. over I.\n",
    "\n",
    "for I in range(0, X_train.shape[0]): #loop in all the passengers:\n",
    "    \n",
    "    # 1: input the data \n",
    "    x = X_train[I]\n",
    "    \n",
    "    \n",
    "    # 2: Start the algorithm\n",
    "    \n",
    "    # 2.1: Feed forward\n",
    "    z1 = ReLU_act(np.dot(w1, x) + b1) # output layer 1 \n",
    "    z2 = ReLU_act(np.dot(w2, z1) + b2) # output layer 2\n",
    "    y = sigmoid_act(np.dot(wOut, z2) + bOut) # Output of the Output layer\n",
    "    \n",
    "    #2.2: Compute the output layer's error\n",
    "    delta_Out =  (y-Y_train[I]) * sigmoid_act(y, der=True)\n",
    "    \n",
    "    #2.3: Backpropagate\n",
    "    delta_2 = delta_Out * wOut * ReLU_act(z2, der=True) # Second Layer Error\n",
    "    delta_1 = np.dot(delta_2, w2) * ReLU_act(z1, der=True) # First Layer Error\n",
    "    \n",
    "    # 3: Gradient descent (updating bias and weights)\n",
    "    wOut = wOut - eta*delta_Out*z2  # Outer Layer\n",
    "    bOut = bOut - eta*delta_Out\n",
    "    \n",
    "    w2 = w2 - eta*np.kron(delta_2, z1).reshape(q,p) # Hidden Layer 2\n",
    "    b2 = b2 - eta*delta_2\n",
    "    \n",
    "    w1 = w1 - eta*np.kron(delta_1, x).reshape(p, x.shape[0]) # Hidden Layer 1\n",
    "    b1 = b1 - eta*delta_1\n",
    "    \n",
    "    # 4. Computation of the loss function. Esta es la pérdida cuadrática media para medir la diferencia entre predicción y realidad.\n",
    "    mu.append((1/2)*(y-Y_train[I])**2)\n",
    "    vec_y.append(y[0])\n",
    "\n",
    "\n",
    "# Plotting the Cost function for each training data     \n",
    "plt.figure(figsize=(10,6))\n",
    "plt.scatter(np.arange(0, X_train.shape[0]), mu, alpha=0.3, s=4, label='mu')\n",
    "plt.title('Loss for each training data point', fontsize=20)\n",
    "plt.xlabel('Training data', fontsize=16)\n",
    "plt.ylabel('Loss', fontsize=16)\n",
    "plt.show()\n",
    "\n",
    "# Plotting the average cost function over 10 training data    \n",
    "pino = []\n",
    "for i in range(0, 9):\n",
    "    pippo = 0\n",
    "    for m in range(0, 59):\n",
    "        pippo+=vec_y[60*i+m]/60\n",
    "    pino.append(pippo)\n",
    "    \n",
    "    \n",
    "\n",
    "plt.figure(figsize=(10,6))\n",
    "plt.scatter(np.arange(0, 9), pino, alpha=1, s=10, label='error')\n",
    "plt.title('Averege Loss by epoch', fontsize=20)\n",
    "plt.xlabel('Epoch', fontsize=16)\n",
    "plt.ylabel('Loss', fontsize=16)\n",
    "plt.show()"
   ]
  },
  {
   "cell_type": "markdown",
   "metadata": {},
   "source": [
    "ANN"
   ]
  },
  {
   "cell_type": "code",
   "execution_count": 27,
   "metadata": {},
   "outputs": [],
   "source": [
    "def ANN_train(X_train, Y_train, p=4, q=4, eta=0.0015):\n",
    "    import numpy as np\n",
    "    import matplotlib.pyplot as plt\n",
    "    \n",
    "    # 0: Random initialize the relevant data \n",
    "    w1 = 2*np.random.rand(p , X_train.shape[1]) - 0.5 # Layer 1\n",
    "    b1 = np.random.rand(p)\n",
    "\n",
    "    w2 = 2*np.random.rand(q , p) - 0.5  # Layer 2\n",
    "    b2 = np.random.rand(q)\n",
    "\n",
    "    wOut = 2*np.random.rand(q) - 0.5   # Output Layer\n",
    "    bOut = np.random.rand(1)\n",
    "\n",
    "    mu = []\n",
    "    vec_y = []\n",
    "\n",
    "    # Start looping over the passengers, i.e. over I.\n",
    "\n",
    "    for I in range(0, X_train.shape[0]-1): #loop in all the passengers:\n",
    "    \n",
    "        # 1: input the data \n",
    "        x = X_train[I]\n",
    "    \n",
    "        # 2: Start the algorithm\n",
    "    \n",
    "        # 2.1: Feed forward\n",
    "        z1 = ReLU_act(np.dot(w1, x) + b1) # output layer 1 \n",
    "        z2 = ReLU_act(np.dot(w2, z1) + b2) # output layer 2\n",
    "        y = sigmoid_act(np.dot(wOut, z2) + bOut) # Output of the Output layer\n",
    "    \n",
    "        #2.2: Compute the output layer's error\n",
    "        delta_Out = 2 * (y-Y_train[I]) * sigmoid_act(y, der=True)\n",
    "    \n",
    "        #2.3: Backpropagate\n",
    "        delta_2 = delta_Out * wOut * ReLU_act(z2, der=True) # Second Layer Error\n",
    "        delta_1 = np.dot(delta_2, w2) * ReLU_act(z1, der=True) # First Layer Error\n",
    "    \n",
    "        # 3: Gradient descent \n",
    "        wOut = wOut - eta*delta_Out*z2  # Outer Layer\n",
    "        bOut = bOut - eta*delta_Out\n",
    "    \n",
    "        w2 = w2 - eta*np.kron(delta_2, z1).reshape(q,p) # Hidden Layer 2\n",
    "        b2 = b2 -  eta*delta_2\n",
    "    \n",
    "        w1 = w1 - eta*np.kron(delta_1, x).reshape(p, x.shape[0])\n",
    "        b1 = b1 - eta*delta_1\n",
    "    \n",
    "        # 4. Computation of the loss function\n",
    "        mu.append((y-Y_train[I])**2)\n",
    "        vec_y.append(y)\n",
    "    \n",
    "    batch_loss = []\n",
    "    for i in range(0, 10):\n",
    "        loss_avg = 0\n",
    "        for m in range(0, 60):\n",
    "            loss_avg+=vec_y[60*i+m]/60\n",
    "        batch_loss.append(loss_avg)\n",
    "\n",
    "    \n",
    "    \n",
    "    plt.figure(figsize=(10,6))\n",
    "    plt.scatter(range(1, len(batch_loss) + 1), batch_loss, alpha=1, s=100, label='Loss', color='red')  # Aumentamos el tamaño y cambiamos color\n",
    "    plt.title('Average Loss by Epoch', fontsize=20)\n",
    "    plt.xlabel('Epoch', fontsize=16)\n",
    "    plt.ylabel('Loss', fontsize=16)\n",
    "    plt.xticks(range(1, len(batch_loss) + 1))  # Asegurar que el eje X muestra los valores correctamente\n",
    "    plt.ylim(min(batch_loss) * 0.9, max(batch_loss) * 1.1)  # Ajustar el rango del eje Y\n",
    "    plt.grid(True)  # Agregar cuadrícula para mejor visibilidad\n",
    "    plt.legend()  # Agregar leyenda para claridad\n",
    "    plt.show()\n",
    "\n",
    "    \n",
    "    return w1, b1, w2, b2, wOut, bOut, mu"
   ]
  },
  {
   "cell_type": "code",
   "execution_count": 28,
   "metadata": {},
   "outputs": [
    {
     "name": "stdout",
     "output_type": "stream",
     "text": [
      "Contenido de pino: [0.368662918785496, 0.4863954625155923, 0.4829608706924101, 0.472982843423254, 0.4661318228491865, 0.4589844069641164, 0.4504437999022355, 0.44242263625101796, 0.4361884614565481]\n",
      "Longitud de pino: 9\n"
     ]
    }
   ],
   "source": [
    "print(\"Contenido de pino:\", pino)\n",
    "print(\"Longitud de pino:\", len(pino))\n"
   ]
  },
  {
   "cell_type": "code",
   "execution_count": 29,
   "metadata": {},
   "outputs": [
    {
     "name": "stderr",
     "output_type": "stream",
     "text": [
      "/var/folders/6p/rj62j_kn3_z770jd73t206640000gn/T/ipykernel_95829/3998926874.py:10: RuntimeWarning: overflow encountered in exp\n",
      "  f = 1/(1+ np.exp(- x))\n",
      "/Users/lucia/opt/anaconda3/lib/python3.9/site-packages/numpy/core/numeric.py:936: RuntimeWarning: overflow encountered in multiply\n",
      "  return multiply(a.ravel()[:, newaxis], b.ravel()[newaxis, :], out)\n"
     ]
    },
    {
     "data": {
      "image/png": "[encoded data removed]",
      "text/plain": [
       "<Figure size 720x432 with 1 Axes>"
      ]
     },
     "metadata": {
      "needs_background": "light"
     },
     "output_type": "display_data"
    }
   ],
   "source": [
    "w1, b1, w2, b2, wOut, bOut, mu = ANN_train(X_train, Y_train, p=8, q=4, eta=0.0015)\n"
   ]
  },
  {
   "cell_type": "markdown",
   "metadata": {},
   "source": [
    "PREDICCIONES"
   ]
  },
  {
   "cell_type": "code",
   "execution_count": 30,
   "metadata": {},
   "outputs": [],
   "source": [
    "def ANN_pred(X_test, w1, b1, w2, b2, wOut, bOut, mu):\n",
    "    import numpy as np\n",
    "    \n",
    "    pred = []\n",
    "    \n",
    "    for I in range(0, X_test.shape[0]): #loop in all the passengers\n",
    "        # 1: input the data \n",
    "        x = X_test[I]\n",
    "        \n",
    "        # 2.1: Feed forward\n",
    "        z1 = ReLU_act(np.dot(w1, x) + b1) # output layer 1 \n",
    "        z2 = ReLU_act(np.dot(w2, z1) + b2) # output layer 2\n",
    "        y = sigmoid_act(np.dot(wOut, z2) + bOut)  # Output of the Output layer\n",
    "        \n",
    "        # Append the prediction;\n",
    "        # We now need a binary classifier; we this apply an Heaviside Theta and we set to 0.5 the threshold\n",
    "        # if y < 0.5 the output is zero, otherwise is 1\n",
    "        pred.append( np.heaviside(y - 0.5, 1)[0] )\n",
    "    \n",
    "    \n",
    "    return np.array(pred);\n",
    "\n"
   ]
  },
  {
   "cell_type": "code",
   "execution_count": 31,
   "metadata": {},
   "outputs": [],
   "source": [
    "predictions = ANN_pred(X_test, w1, b1, w2, b2, wOut, bOut, mu)"
   ]
  },
  {
   "cell_type": "markdown",
   "metadata": {},
   "source": [
    "EVALUACIÓN"
   ]
  },
  {
   "cell_type": "code",
   "execution_count": 31,
   "metadata": {},
   "outputs": [
    {
     "data": {
      "text/plain": [
       "array([0, 0, 0, ..., 0, 1, 0])"
      ]
     },
     "execution_count": 31,
     "metadata": {},
     "output_type": "execute_result"
    }
   ],
   "source": [
    "Y_test"
   ]
  },
  {
   "cell_type": "code",
   "execution_count": 33,
   "metadata": {},
   "outputs": [
    {
     "data": {
      "text/plain": [
       "array([nan, nan, nan, ..., nan, nan, nan])"
      ]
     },
     "execution_count": 33,
     "metadata": {},
     "output_type": "execute_result"
    }
   ],
   "source": [
    "predictions"
   ]
  },
  {
   "cell_type": "code",
   "execution_count": null,
   "metadata": {},
   "outputs": [],
   "source": [
    "\n",
    "# Detener el medidor y obtener los resultados\n",
    "#tracker.stop()"
   ]
  }
 ],
 "metadata": {
  "kernelspec": {
   "display_name": "base",
   "language": "python",
   "name": "python3"
  },
  "language_info": {
   "codemirror_mode": {
    "name": "ipython",
    "version": 3
   },
   "file_extension": ".py",
   "mimetype": "text/x-python",
   "name": "python",
   "nbconvert_exporter": "python",
   "pygments_lexer": "ipython3",
   "version": "3.9.12"
  }
 },
 "nbformat": 4,
 "nbformat_minor": 2
}
