{
 "cells": [
  {
   "cell_type": "code",
   "execution_count": 1,
   "metadata": {},
   "outputs": [
    {
     "name": "stderr",
     "output_type": "stream",
     "text": [
      "[codecarbon INFO @ 21:09:49] [setup] RAM Tracking...\n",
      "[codecarbon INFO @ 21:09:49] [setup] CPU Tracking...\n",
      "[codecarbon WARNING @ 21:09:53] No CPU tracking mode found. Falling back on CPU constant mode. \n",
      " Mac OS and ARM processor detected: Please enable PowerMetrics sudo to measure CPU\n",
      "\n",
      "[codecarbon INFO @ 21:09:54] CPU Model on constant consumption mode: Apple M1\n",
      "[codecarbon INFO @ 21:09:54] [setup] GPU Tracking...\n",
      "[codecarbon INFO @ 21:09:54] No GPU found.\n",
      "[codecarbon INFO @ 21:09:54] >>> Tracker's metadata:\n",
      "[codecarbon INFO @ 21:09:54]   Platform system: macOS-10.16-x86_64-i386-64bit\n",
      "[codecarbon INFO @ 21:09:54]   Python version: 3.9.12\n",
      "[codecarbon INFO @ 21:09:54]   CodeCarbon version: 2.8.3\n",
      "[codecarbon INFO @ 21:09:54]   Available RAM : 8.000 GB\n",
      "[codecarbon INFO @ 21:09:54]   CPU count: 8\n",
      "[codecarbon INFO @ 21:09:54]   CPU model: Apple M1\n",
      "[codecarbon INFO @ 21:09:54]   GPU count: None\n",
      "[codecarbon INFO @ 21:09:54]   GPU model: None\n",
      "[codecarbon INFO @ 21:09:57] Saving emissions data to file /Users/lucia/Desktop/classification_methods/1ST DATASET/SVM/emissions.csv\n"
     ]
    }
   ],
   "source": [
    "from codecarbon import EmissionsTracker\n",
    "try:\n",
    "    tracker.stop()  # Intenta detener cualquier instancia previa de codecarbon\n",
    "except:\n",
    "    pass  # Ignora el error si no hay ninguna instancia activa\n",
    "# Iniciar el medidor\n",
    "tracker = EmissionsTracker()\n",
    "tracker.start()"
   ]
  },
  {
   "cell_type": "code",
   "execution_count": 2,
   "metadata": {},
   "outputs": [],
   "source": [
    "import numpy as np # linear algebra\n",
    "import pandas as pd # data processing, CSV file I/O (e.g. pd.read_csv)\n",
    "import matplotlib.pyplot as plt # for data visualization\n",
    "import seaborn as sns # for statistical data visualization"
   ]
  },
  {
   "cell_type": "code",
   "execution_count": 3,
   "metadata": {},
   "outputs": [
    {
     "name": "stdout",
     "output_type": "stream",
     "text": [
      "Requirement already satisfied: kagglehub in /Users/lucia/opt/anaconda3/lib/python3.9/site-packages (0.3.7)\n",
      "Requirement already satisfied: tqdm in /Users/lucia/opt/anaconda3/lib/python3.9/site-packages (from kagglehub) (4.64.0)\n",
      "Requirement already satisfied: model-signing in /Users/lucia/opt/anaconda3/lib/python3.9/site-packages (from kagglehub) (0.2.0)\n",
      "Requirement already satisfied: requests in /Users/lucia/opt/anaconda3/lib/python3.9/site-packages (from kagglehub) (2.27.1)\n",
      "Requirement already satisfied: packaging in /Users/lucia/opt/anaconda3/lib/python3.9/site-packages (from kagglehub) (21.3)\n",
      "Requirement already satisfied: sigstore in /Users/lucia/opt/anaconda3/lib/python3.9/site-packages (from model-signing->kagglehub) (3.6.1)\n",
      "Requirement already satisfied: cryptography in /Users/lucia/opt/anaconda3/lib/python3.9/site-packages (from model-signing->kagglehub) (44.0.0)\n",
      "Requirement already satisfied: typing-extensions in /Users/lucia/opt/anaconda3/lib/python3.9/site-packages (from model-signing->kagglehub) (4.12.2)\n",
      "Requirement already satisfied: in-toto-attestation in /Users/lucia/opt/anaconda3/lib/python3.9/site-packages (from model-signing->kagglehub) (0.9.3)\n",
      "Requirement already satisfied: cffi>=1.12 in /Users/lucia/opt/anaconda3/lib/python3.9/site-packages (from cryptography->model-signing->kagglehub) (1.15.0)\n",
      "Requirement already satisfied: pycparser in /Users/lucia/opt/anaconda3/lib/python3.9/site-packages (from cffi>=1.12->cryptography->model-signing->kagglehub) (2.21)\n",
      "Requirement already satisfied: protobuf in /Users/lucia/opt/anaconda3/lib/python3.9/site-packages (from in-toto-attestation->model-signing->kagglehub) (4.25.5)\n",
      "Requirement already satisfied: pyparsing!=3.0.5,>=2.0.2 in /Users/lucia/opt/anaconda3/lib/python3.9/site-packages (from packaging->kagglehub) (3.2.0)\n",
      "Requirement already satisfied: idna<4,>=2.5 in /Users/lucia/opt/anaconda3/lib/python3.9/site-packages (from requests->kagglehub) (3.3)\n",
      "Requirement already satisfied: certifi>=2017.4.17 in /Users/lucia/opt/anaconda3/lib/python3.9/site-packages (from requests->kagglehub) (2021.10.8)\n",
      "Requirement already satisfied: urllib3<1.27,>=1.21.1 in /Users/lucia/opt/anaconda3/lib/python3.9/site-packages (from requests->kagglehub) (1.26.9)\n",
      "Requirement already satisfied: charset-normalizer~=2.0.0 in /Users/lucia/opt/anaconda3/lib/python3.9/site-packages (from requests->kagglehub) (2.0.4)\n",
      "Requirement already satisfied: pydantic<3,>=2 in /Users/lucia/opt/anaconda3/lib/python3.9/site-packages (from sigstore->model-signing->kagglehub) (2.10.6)\n",
      "Requirement already satisfied: importlib_resources~=5.7 in /Users/lucia/opt/anaconda3/lib/python3.9/site-packages (from sigstore->model-signing->kagglehub) (5.13.0)\n",
      "Requirement already satisfied: pyjwt>=2.1 in /Users/lucia/opt/anaconda3/lib/python3.9/site-packages (from sigstore->model-signing->kagglehub) (2.1.0)\n",
      "Requirement already satisfied: pyOpenSSL>=23.0.0 in /Users/lucia/opt/anaconda3/lib/python3.9/site-packages (from sigstore->model-signing->kagglehub) (25.0.0)\n",
      "Requirement already satisfied: tuf~=5.0 in /Users/lucia/opt/anaconda3/lib/python3.9/site-packages (from sigstore->model-signing->kagglehub) (5.1.0)\n",
      "Requirement already satisfied: rfc3161-client~=0.1.2 in /Users/lucia/opt/anaconda3/lib/python3.9/site-packages (from sigstore->model-signing->kagglehub) (0.1.2)\n",
      "Requirement already satisfied: id>=1.1.0 in /Users/lucia/opt/anaconda3/lib/python3.9/site-packages (from sigstore->model-signing->kagglehub) (1.5.0)\n",
      "Requirement already satisfied: sigstore-protobuf-specs==0.3.2 in /Users/lucia/opt/anaconda3/lib/python3.9/site-packages (from sigstore->model-signing->kagglehub) (0.3.2)\n",
      "Requirement already satisfied: platformdirs~=4.2 in /Users/lucia/opt/anaconda3/lib/python3.9/site-packages (from sigstore->model-signing->kagglehub) (4.3.6)\n",
      "Requirement already satisfied: rich~=13.0 in /Users/lucia/opt/anaconda3/lib/python3.9/site-packages (from sigstore->model-signing->kagglehub) (13.9.4)\n",
      "Requirement already satisfied: rfc8785~=0.1.2 in /Users/lucia/opt/anaconda3/lib/python3.9/site-packages (from sigstore->model-signing->kagglehub) (0.1.4)\n",
      "Requirement already satisfied: sigstore-rekor-types==0.0.18 in /Users/lucia/opt/anaconda3/lib/python3.9/site-packages (from sigstore->model-signing->kagglehub) (0.0.18)\n",
      "Requirement already satisfied: pyasn1~=0.6 in /Users/lucia/opt/anaconda3/lib/python3.9/site-packages (from sigstore->model-signing->kagglehub) (0.6.1)\n",
      "Requirement already satisfied: betterproto==2.0.0b6 in /Users/lucia/opt/anaconda3/lib/python3.9/site-packages (from sigstore-protobuf-specs==0.3.2->sigstore->model-signing->kagglehub) (2.0.0b6)\n",
      "Requirement already satisfied: python-dateutil<3.0,>=2.8 in /Users/lucia/opt/anaconda3/lib/python3.9/site-packages (from betterproto==2.0.0b6->sigstore-protobuf-specs==0.3.2->sigstore->model-signing->kagglehub) (2.8.2)\n",
      "Requirement already satisfied: grpclib<0.5.0,>=0.4.1 in /Users/lucia/opt/anaconda3/lib/python3.9/site-packages (from betterproto==2.0.0b6->sigstore-protobuf-specs==0.3.2->sigstore->model-signing->kagglehub) (0.4.7)\n",
      "Requirement already satisfied: h2<5,>=3.1.0 in /Users/lucia/opt/anaconda3/lib/python3.9/site-packages (from grpclib<0.5.0,>=0.4.1->betterproto==2.0.0b6->sigstore-protobuf-specs==0.3.2->sigstore->model-signing->kagglehub) (4.2.0)\n",
      "Requirement already satisfied: multidict in /Users/lucia/opt/anaconda3/lib/python3.9/site-packages (from grpclib<0.5.0,>=0.4.1->betterproto==2.0.0b6->sigstore-protobuf-specs==0.3.2->sigstore->model-signing->kagglehub) (5.2.0)\n",
      "Requirement already satisfied: hpack<5,>=4.1 in /Users/lucia/opt/anaconda3/lib/python3.9/site-packages (from h2<5,>=3.1.0->grpclib<0.5.0,>=0.4.1->betterproto==2.0.0b6->sigstore-protobuf-specs==0.3.2->sigstore->model-signing->kagglehub) (4.1.0)\n",
      "Requirement already satisfied: hyperframe<7,>=6.1 in /Users/lucia/opt/anaconda3/lib/python3.9/site-packages (from h2<5,>=3.1.0->grpclib<0.5.0,>=0.4.1->betterproto==2.0.0b6->sigstore-protobuf-specs==0.3.2->sigstore->model-signing->kagglehub) (6.1.0)\n",
      "Requirement already satisfied: zipp>=3.1.0 in /Users/lucia/opt/anaconda3/lib/python3.9/site-packages (from importlib_resources~=5.7->sigstore->model-signing->kagglehub) (3.7.0)\n",
      "Requirement already satisfied: annotated-types>=0.6.0 in /Users/lucia/opt/anaconda3/lib/python3.9/site-packages (from pydantic<3,>=2->sigstore->model-signing->kagglehub) (0.7.0)\n",
      "Requirement already satisfied: pydantic-core==2.27.2 in /Users/lucia/opt/anaconda3/lib/python3.9/site-packages (from pydantic<3,>=2->sigstore->model-signing->kagglehub) (2.27.2)\n",
      "Requirement already satisfied: email-validator>=2.0.0 in /Users/lucia/opt/anaconda3/lib/python3.9/site-packages (from pydantic<3,>=2->sigstore->model-signing->kagglehub) (2.2.0)\n",
      "Requirement already satisfied: dnspython>=2.0.0 in /Users/lucia/opt/anaconda3/lib/python3.9/site-packages (from email-validator>=2.0.0->pydantic<3,>=2->sigstore->model-signing->kagglehub) (2.7.0)\n",
      "Requirement already satisfied: six>=1.5 in /Users/lucia/opt/anaconda3/lib/python3.9/site-packages (from python-dateutil<3.0,>=2.8->betterproto==2.0.0b6->sigstore-protobuf-specs==0.3.2->sigstore->model-signing->kagglehub) (1.16.0)\n",
      "Requirement already satisfied: pygments<3.0.0,>=2.13.0 in /Users/lucia/opt/anaconda3/lib/python3.9/site-packages (from rich~=13.0->sigstore->model-signing->kagglehub) (2.18.0)\n",
      "Requirement already satisfied: markdown-it-py>=2.2.0 in /Users/lucia/opt/anaconda3/lib/python3.9/site-packages (from rich~=13.0->sigstore->model-signing->kagglehub) (3.0.0)\n",
      "Requirement already satisfied: mdurl~=0.1 in /Users/lucia/opt/anaconda3/lib/python3.9/site-packages (from markdown-it-py>=2.2.0->rich~=13.0->sigstore->model-signing->kagglehub) (0.1.2)\n",
      "Requirement already satisfied: securesystemslib~=1.0 in /Users/lucia/opt/anaconda3/lib/python3.9/site-packages (from tuf~=5.0->sigstore->model-signing->kagglehub) (1.2.0)\n",
      "Note: you may need to restart the kernel to use updated packages.\n"
     ]
    }
   ],
   "source": [
    "%pip install --upgrade kagglehub"
   ]
  },
  {
   "cell_type": "code",
   "execution_count": 4,
   "metadata": {},
   "outputs": [],
   "source": [
    "data = '/Users/lucia/.cache/kagglehub/datasets/trisha2094/weatheraus/versions/1/weatherAUS.csv'\n",
    "\n",
    "df = pd.read_csv(data)"
   ]
  },
  {
   "cell_type": "markdown",
   "metadata": {},
   "source": [
    "PREPROCESADO DE DATOS"
   ]
  },
  {
   "cell_type": "code",
   "execution_count": 5,
   "metadata": {},
   "outputs": [
    {
     "data": {
      "text/html": [
       "<div>\n",
       "<style scoped>\n",
       "    .dataframe tbody tr th:only-of-type {\n",
       "        vertical-align: middle;\n",
       "    }\n",
       "\n",
       "    .dataframe tbody tr th {\n",
       "        vertical-align: top;\n",
       "    }\n",
       "\n",
       "    .dataframe thead th {\n",
       "        text-align: right;\n",
       "    }\n",
       "</style>\n",
       "<table border=\"1\" class=\"dataframe\">\n",
       "  <thead>\n",
       "    <tr style=\"text-align: right;\">\n",
       "      <th></th>\n",
       "      <th>Date</th>\n",
       "      <th>Location</th>\n",
       "      <th>MinTemp</th>\n",
       "      <th>MaxTemp</th>\n",
       "      <th>Rainfall</th>\n",
       "      <th>Evaporation</th>\n",
       "      <th>Sunshine</th>\n",
       "      <th>WindGustDir</th>\n",
       "      <th>WindGustSpeed</th>\n",
       "      <th>WindDir9am</th>\n",
       "      <th>...</th>\n",
       "      <th>Humidity3pm</th>\n",
       "      <th>Pressure9am</th>\n",
       "      <th>Pressure3pm</th>\n",
       "      <th>Cloud9am</th>\n",
       "      <th>Cloud3pm</th>\n",
       "      <th>Temp9am</th>\n",
       "      <th>Temp3pm</th>\n",
       "      <th>RainToday</th>\n",
       "      <th>RISK_MM</th>\n",
       "      <th>RainTomorrow</th>\n",
       "    </tr>\n",
       "  </thead>\n",
       "  <tbody>\n",
       "    <tr>\n",
       "      <th>0</th>\n",
       "      <td>2008-12-01</td>\n",
       "      <td>Albury</td>\n",
       "      <td>13.4</td>\n",
       "      <td>22.9</td>\n",
       "      <td>0.6</td>\n",
       "      <td>NaN</td>\n",
       "      <td>NaN</td>\n",
       "      <td>W</td>\n",
       "      <td>44.0</td>\n",
       "      <td>W</td>\n",
       "      <td>...</td>\n",
       "      <td>22.0</td>\n",
       "      <td>1007.7</td>\n",
       "      <td>1007.1</td>\n",
       "      <td>8.0</td>\n",
       "      <td>NaN</td>\n",
       "      <td>16.9</td>\n",
       "      <td>21.8</td>\n",
       "      <td>No</td>\n",
       "      <td>0.0</td>\n",
       "      <td>No</td>\n",
       "    </tr>\n",
       "    <tr>\n",
       "      <th>1</th>\n",
       "      <td>2008-12-02</td>\n",
       "      <td>Albury</td>\n",
       "      <td>7.4</td>\n",
       "      <td>25.1</td>\n",
       "      <td>0.0</td>\n",
       "      <td>NaN</td>\n",
       "      <td>NaN</td>\n",
       "      <td>WNW</td>\n",
       "      <td>44.0</td>\n",
       "      <td>NNW</td>\n",
       "      <td>...</td>\n",
       "      <td>25.0</td>\n",
       "      <td>1010.6</td>\n",
       "      <td>1007.8</td>\n",
       "      <td>NaN</td>\n",
       "      <td>NaN</td>\n",
       "      <td>17.2</td>\n",
       "      <td>24.3</td>\n",
       "      <td>No</td>\n",
       "      <td>0.0</td>\n",
       "      <td>No</td>\n",
       "    </tr>\n",
       "    <tr>\n",
       "      <th>2</th>\n",
       "      <td>2008-12-03</td>\n",
       "      <td>Albury</td>\n",
       "      <td>12.9</td>\n",
       "      <td>25.7</td>\n",
       "      <td>0.0</td>\n",
       "      <td>NaN</td>\n",
       "      <td>NaN</td>\n",
       "      <td>WSW</td>\n",
       "      <td>46.0</td>\n",
       "      <td>W</td>\n",
       "      <td>...</td>\n",
       "      <td>30.0</td>\n",
       "      <td>1007.6</td>\n",
       "      <td>1008.7</td>\n",
       "      <td>NaN</td>\n",
       "      <td>2.0</td>\n",
       "      <td>21.0</td>\n",
       "      <td>23.2</td>\n",
       "      <td>No</td>\n",
       "      <td>0.0</td>\n",
       "      <td>No</td>\n",
       "    </tr>\n",
       "    <tr>\n",
       "      <th>3</th>\n",
       "      <td>2008-12-04</td>\n",
       "      <td>Albury</td>\n",
       "      <td>9.2</td>\n",
       "      <td>28.0</td>\n",
       "      <td>0.0</td>\n",
       "      <td>NaN</td>\n",
       "      <td>NaN</td>\n",
       "      <td>NE</td>\n",
       "      <td>24.0</td>\n",
       "      <td>SE</td>\n",
       "      <td>...</td>\n",
       "      <td>16.0</td>\n",
       "      <td>1017.6</td>\n",
       "      <td>1012.8</td>\n",
       "      <td>NaN</td>\n",
       "      <td>NaN</td>\n",
       "      <td>18.1</td>\n",
       "      <td>26.5</td>\n",
       "      <td>No</td>\n",
       "      <td>1.0</td>\n",
       "      <td>No</td>\n",
       "    </tr>\n",
       "    <tr>\n",
       "      <th>4</th>\n",
       "      <td>2008-12-05</td>\n",
       "      <td>Albury</td>\n",
       "      <td>17.5</td>\n",
       "      <td>32.3</td>\n",
       "      <td>1.0</td>\n",
       "      <td>NaN</td>\n",
       "      <td>NaN</td>\n",
       "      <td>W</td>\n",
       "      <td>41.0</td>\n",
       "      <td>ENE</td>\n",
       "      <td>...</td>\n",
       "      <td>33.0</td>\n",
       "      <td>1010.8</td>\n",
       "      <td>1006.0</td>\n",
       "      <td>7.0</td>\n",
       "      <td>8.0</td>\n",
       "      <td>17.8</td>\n",
       "      <td>29.7</td>\n",
       "      <td>No</td>\n",
       "      <td>0.2</td>\n",
       "      <td>No</td>\n",
       "    </tr>\n",
       "  </tbody>\n",
       "</table>\n",
       "<p>5 rows × 24 columns</p>\n",
       "</div>"
      ],
      "text/plain": [
       "         Date Location  MinTemp  MaxTemp  Rainfall  Evaporation  Sunshine  \\\n",
       "0  2008-12-01   Albury     13.4     22.9       0.6          NaN       NaN   \n",
       "1  2008-12-02   Albury      7.4     25.1       0.0          NaN       NaN   \n",
       "2  2008-12-03   Albury     12.9     25.7       0.0          NaN       NaN   \n",
       "3  2008-12-04   Albury      9.2     28.0       0.0          NaN       NaN   \n",
       "4  2008-12-05   Albury     17.5     32.3       1.0          NaN       NaN   \n",
       "\n",
       "  WindGustDir  WindGustSpeed WindDir9am  ... Humidity3pm  Pressure9am  \\\n",
       "0           W           44.0          W  ...        22.0       1007.7   \n",
       "1         WNW           44.0        NNW  ...        25.0       1010.6   \n",
       "2         WSW           46.0          W  ...        30.0       1007.6   \n",
       "3          NE           24.0         SE  ...        16.0       1017.6   \n",
       "4           W           41.0        ENE  ...        33.0       1010.8   \n",
       "\n",
       "   Pressure3pm  Cloud9am  Cloud3pm  Temp9am  Temp3pm  RainToday  RISK_MM  \\\n",
       "0       1007.1       8.0       NaN     16.9     21.8         No      0.0   \n",
       "1       1007.8       NaN       NaN     17.2     24.3         No      0.0   \n",
       "2       1008.7       NaN       2.0     21.0     23.2         No      0.0   \n",
       "3       1012.8       NaN       NaN     18.1     26.5         No      1.0   \n",
       "4       1006.0       7.0       8.0     17.8     29.7         No      0.2   \n",
       "\n",
       "   RainTomorrow  \n",
       "0            No  \n",
       "1            No  \n",
       "2            No  \n",
       "3            No  \n",
       "4            No  \n",
       "\n",
       "[5 rows x 24 columns]"
      ]
     },
     "execution_count": 5,
     "metadata": {},
     "output_type": "execute_result"
    }
   ],
   "source": [
    "df.head()"
   ]
  },
  {
   "cell_type": "code",
   "execution_count": 6,
   "metadata": {},
   "outputs": [
    {
     "data": {
      "text/plain": [
       "(142193, 24)"
      ]
     },
     "execution_count": 6,
     "metadata": {},
     "output_type": "execute_result"
    }
   ],
   "source": [
    "df.shape"
   ]
  },
  {
   "cell_type": "code",
   "execution_count": 7,
   "metadata": {},
   "outputs": [
    {
     "data": {
      "text/plain": [
       "Index(['Date', 'Location', 'MinTemp', 'MaxTemp', 'Rainfall', 'Evaporation',\n",
       "       'Sunshine', 'WindGustDir', 'WindGustSpeed', 'WindDir9am', 'WindDir3pm',\n",
       "       'WindSpeed9am', 'WindSpeed3pm', 'Humidity9am', 'Humidity3pm',\n",
       "       'Pressure9am', 'Pressure3pm', 'Cloud9am', 'Cloud3pm', 'Temp9am',\n",
       "       'Temp3pm', 'RainToday', 'RISK_MM', 'RainTomorrow'],\n",
       "      dtype='object')"
      ]
     },
     "execution_count": 7,
     "metadata": {},
     "output_type": "execute_result"
    }
   ],
   "source": [
    "col_names = df.columns\n",
    "\n",
    "col_names"
   ]
  },
  {
   "cell_type": "code",
   "execution_count": 8,
   "metadata": {},
   "outputs": [
    {
     "data": {
      "text/plain": [
       "No     110316\n",
       "Yes     31877\n",
       "Name: RainTomorrow, dtype: int64"
      ]
     },
     "execution_count": 8,
     "metadata": {},
     "output_type": "execute_result"
    }
   ],
   "source": [
    "df['RainTomorrow'].value_counts()"
   ]
  },
  {
   "cell_type": "code",
   "execution_count": 9,
   "metadata": {},
   "outputs": [
    {
     "name": "stdout",
     "output_type": "stream",
     "text": [
      "<class 'pandas.core.frame.DataFrame'>\n",
      "RangeIndex: 142193 entries, 0 to 142192\n",
      "Data columns (total 24 columns):\n",
      " #   Column         Non-Null Count   Dtype  \n",
      "---  ------         --------------   -----  \n",
      " 0   Date           142193 non-null  object \n",
      " 1   Location       142193 non-null  object \n",
      " 2   MinTemp        141556 non-null  float64\n",
      " 3   MaxTemp        141871 non-null  float64\n",
      " 4   Rainfall       140787 non-null  float64\n",
      " 5   Evaporation    81350 non-null   float64\n",
      " 6   Sunshine       74377 non-null   float64\n",
      " 7   WindGustDir    132863 non-null  object \n",
      " 8   WindGustSpeed  132923 non-null  float64\n",
      " 9   WindDir9am     132180 non-null  object \n",
      " 10  WindDir3pm     138415 non-null  object \n",
      " 11  WindSpeed9am   140845 non-null  float64\n",
      " 12  WindSpeed3pm   139563 non-null  float64\n",
      " 13  Humidity9am    140419 non-null  float64\n",
      " 14  Humidity3pm    138583 non-null  float64\n",
      " 15  Pressure9am    128179 non-null  float64\n",
      " 16  Pressure3pm    128212 non-null  float64\n",
      " 17  Cloud9am       88536 non-null   float64\n",
      " 18  Cloud3pm       85099 non-null   float64\n",
      " 19  Temp9am        141289 non-null  float64\n",
      " 20  Temp3pm        139467 non-null  float64\n",
      " 21  RainToday      140787 non-null  object \n",
      " 22  RISK_MM        142193 non-null  float64\n",
      " 23  RainTomorrow   142193 non-null  object \n",
      "dtypes: float64(17), object(7)\n",
      "memory usage: 26.0+ MB\n"
     ]
    }
   ],
   "source": [
    "#imbalanced data\n",
    "df.info()"
   ]
  },
  {
   "cell_type": "code",
   "execution_count": 10,
   "metadata": {},
   "outputs": [
    {
     "data": {
      "text/plain": [
       "Date                 0\n",
       "Location             0\n",
       "MinTemp            637\n",
       "MaxTemp            322\n",
       "Rainfall          1406\n",
       "Evaporation      60843\n",
       "Sunshine         67816\n",
       "WindGustDir       9330\n",
       "WindGustSpeed     9270\n",
       "WindDir9am       10013\n",
       "WindDir3pm        3778\n",
       "WindSpeed9am      1348\n",
       "WindSpeed3pm      2630\n",
       "Humidity9am       1774\n",
       "Humidity3pm       3610\n",
       "Pressure9am      14014\n",
       "Pressure3pm      13981\n",
       "Cloud9am         53657\n",
       "Cloud3pm         57094\n",
       "Temp9am            904\n",
       "Temp3pm           2726\n",
       "RainToday         1406\n",
       "RISK_MM              0\n",
       "RainTomorrow         0\n",
       "dtype: int64"
      ]
     },
     "execution_count": 10,
     "metadata": {},
     "output_type": "execute_result"
    }
   ],
   "source": [
    "df.isnull().sum()"
   ]
  },
  {
   "cell_type": "code",
   "execution_count": 11,
   "metadata": {},
   "outputs": [],
   "source": [
    "df.drop(['RISK_MM'], axis=1, inplace=True)"
   ]
  },
  {
   "cell_type": "markdown",
   "metadata": {},
   "source": [
    "CATEGORICAL VARIABLES"
   ]
  },
  {
   "cell_type": "code",
   "execution_count": 12,
   "metadata": {},
   "outputs": [
    {
     "name": "stdout",
     "output_type": "stream",
     "text": [
      "There are 7 categorical variables\n",
      "\n",
      "The categorical variables are : ['Date', 'Location', 'WindGustDir', 'WindDir9am', 'WindDir3pm', 'RainToday', 'RainTomorrow']\n"
     ]
    }
   ],
   "source": [
    "# find categorical variables\n",
    "\n",
    "categorical = [var for var in df.columns if df[var].dtype=='O']\n",
    "\n",
    "print('There are {} categorical variables\\n'.format(len(categorical)))\n",
    "\n",
    "print('The categorical variables are :', categorical)"
   ]
  },
  {
   "cell_type": "code",
   "execution_count": 13,
   "metadata": {},
   "outputs": [
    {
     "data": {
      "text/html": [
       "<div>\n",
       "<style scoped>\n",
       "    .dataframe tbody tr th:only-of-type {\n",
       "        vertical-align: middle;\n",
       "    }\n",
       "\n",
       "    .dataframe tbody tr th {\n",
       "        vertical-align: top;\n",
       "    }\n",
       "\n",
       "    .dataframe thead th {\n",
       "        text-align: right;\n",
       "    }\n",
       "</style>\n",
       "<table border=\"1\" class=\"dataframe\">\n",
       "  <thead>\n",
       "    <tr style=\"text-align: right;\">\n",
       "      <th></th>\n",
       "      <th>Date</th>\n",
       "      <th>Location</th>\n",
       "      <th>WindGustDir</th>\n",
       "      <th>WindDir9am</th>\n",
       "      <th>WindDir3pm</th>\n",
       "      <th>RainToday</th>\n",
       "      <th>RainTomorrow</th>\n",
       "    </tr>\n",
       "  </thead>\n",
       "  <tbody>\n",
       "    <tr>\n",
       "      <th>0</th>\n",
       "      <td>2008-12-01</td>\n",
       "      <td>Albury</td>\n",
       "      <td>W</td>\n",
       "      <td>W</td>\n",
       "      <td>WNW</td>\n",
       "      <td>No</td>\n",
       "      <td>No</td>\n",
       "    </tr>\n",
       "    <tr>\n",
       "      <th>1</th>\n",
       "      <td>2008-12-02</td>\n",
       "      <td>Albury</td>\n",
       "      <td>WNW</td>\n",
       "      <td>NNW</td>\n",
       "      <td>WSW</td>\n",
       "      <td>No</td>\n",
       "      <td>No</td>\n",
       "    </tr>\n",
       "    <tr>\n",
       "      <th>2</th>\n",
       "      <td>2008-12-03</td>\n",
       "      <td>Albury</td>\n",
       "      <td>WSW</td>\n",
       "      <td>W</td>\n",
       "      <td>WSW</td>\n",
       "      <td>No</td>\n",
       "      <td>No</td>\n",
       "    </tr>\n",
       "    <tr>\n",
       "      <th>3</th>\n",
       "      <td>2008-12-04</td>\n",
       "      <td>Albury</td>\n",
       "      <td>NE</td>\n",
       "      <td>SE</td>\n",
       "      <td>E</td>\n",
       "      <td>No</td>\n",
       "      <td>No</td>\n",
       "    </tr>\n",
       "    <tr>\n",
       "      <th>4</th>\n",
       "      <td>2008-12-05</td>\n",
       "      <td>Albury</td>\n",
       "      <td>W</td>\n",
       "      <td>ENE</td>\n",
       "      <td>NW</td>\n",
       "      <td>No</td>\n",
       "      <td>No</td>\n",
       "    </tr>\n",
       "  </tbody>\n",
       "</table>\n",
       "</div>"
      ],
      "text/plain": [
       "         Date Location WindGustDir WindDir9am WindDir3pm RainToday  \\\n",
       "0  2008-12-01   Albury           W          W        WNW        No   \n",
       "1  2008-12-02   Albury         WNW        NNW        WSW        No   \n",
       "2  2008-12-03   Albury         WSW          W        WSW        No   \n",
       "3  2008-12-04   Albury          NE         SE          E        No   \n",
       "4  2008-12-05   Albury           W        ENE         NW        No   \n",
       "\n",
       "  RainTomorrow  \n",
       "0           No  \n",
       "1           No  \n",
       "2           No  \n",
       "3           No  \n",
       "4           No  "
      ]
     },
     "execution_count": 13,
     "metadata": {},
     "output_type": "execute_result"
    }
   ],
   "source": [
    "# view the categorical variables\n",
    "\n",
    "df[categorical].head()"
   ]
  },
  {
   "cell_type": "code",
   "execution_count": 14,
   "metadata": {},
   "outputs": [
    {
     "name": "stdout",
     "output_type": "stream",
     "text": [
      "WindGustDir     9330\n",
      "WindDir9am     10013\n",
      "WindDir3pm      3778\n",
      "RainToday       1406\n",
      "dtype: int64\n"
     ]
    }
   ],
   "source": [
    "# print categorical variables containing missing values\n",
    "\n",
    "cat1 = [var for var in categorical if df[var].isnull().sum()!=0]\n",
    "\n",
    "print(df[cat1].isnull().sum())"
   ]
  },
  {
   "cell_type": "code",
   "execution_count": 15,
   "metadata": {},
   "outputs": [
    {
     "name": "stdout",
     "output_type": "stream",
     "text": [
      "2013-12-01    49\n",
      "2014-01-09    49\n",
      "2014-01-11    49\n",
      "2014-01-12    49\n",
      "2014-01-13    49\n",
      "              ..\n",
      "2007-11-29     1\n",
      "2007-11-28     1\n",
      "2007-11-27     1\n",
      "2007-11-26     1\n",
      "2008-01-31     1\n",
      "Name: Date, Length: 3436, dtype: int64\n",
      "Canberra            3418\n",
      "Sydney              3337\n",
      "Perth               3193\n",
      "Darwin              3192\n",
      "Hobart              3188\n",
      "Brisbane            3161\n",
      "Adelaide            3090\n",
      "Bendigo             3034\n",
      "Townsville          3033\n",
      "AliceSprings        3031\n",
      "MountGambier        3030\n",
      "Launceston          3028\n",
      "Ballarat            3028\n",
      "Albany              3016\n",
      "Albury              3011\n",
      "PerthAirport        3009\n",
      "MelbourneAirport    3009\n",
      "Mildura             3007\n",
      "SydneyAirport       3005\n",
      "Nuriootpa           3002\n",
      "Sale                3000\n",
      "Watsonia            2999\n",
      "Tuggeranong         2998\n",
      "Portland            2996\n",
      "Woomera             2990\n",
      "Cairns              2988\n",
      "Cobar               2988\n",
      "Wollongong          2983\n",
      "GoldCoast           2980\n",
      "WaggaWagga          2976\n",
      "Penrith             2964\n",
      "NorfolkIsland       2964\n",
      "SalmonGums          2955\n",
      "Newcastle           2955\n",
      "CoffsHarbour        2953\n",
      "Witchcliffe         2952\n",
      "Richmond            2951\n",
      "Dartmoor            2943\n",
      "NorahHead           2929\n",
      "BadgerysCreek       2928\n",
      "MountGinini         2907\n",
      "Moree               2854\n",
      "Walpole             2819\n",
      "PearceRAAF          2762\n",
      "Williamtown         2553\n",
      "Melbourne           2435\n",
      "Nhil                1569\n",
      "Katherine           1559\n",
      "Uluru               1521\n",
      "Name: Location, dtype: int64\n",
      "W      9780\n",
      "SE     9309\n",
      "E      9071\n",
      "N      9033\n",
      "SSE    8993\n",
      "S      8949\n",
      "WSW    8901\n",
      "SW     8797\n",
      "SSW    8610\n",
      "WNW    8066\n",
      "NW     8003\n",
      "ENE    7992\n",
      "ESE    7305\n",
      "NE     7060\n",
      "NNW    6561\n",
      "NNE    6433\n",
      "Name: WindGustDir, dtype: int64\n",
      "N      11393\n",
      "SE      9162\n",
      "E       9024\n",
      "SSE     8966\n",
      "NW      8552\n",
      "S       8493\n",
      "W       8260\n",
      "SW      8237\n",
      "NNE     7948\n",
      "NNW     7840\n",
      "ENE     7735\n",
      "ESE     7558\n",
      "NE      7527\n",
      "SSW     7448\n",
      "WNW     7194\n",
      "WSW     6843\n",
      "Name: WindDir9am, dtype: int64\n",
      "SE     10663\n",
      "W       9911\n",
      "S       9598\n",
      "WSW     9329\n",
      "SW      9182\n",
      "SSE     9142\n",
      "N       8667\n",
      "WNW     8656\n",
      "NW      8468\n",
      "ESE     8382\n",
      "E       8342\n",
      "NE      8164\n",
      "SSW     8010\n",
      "NNW     7733\n",
      "ENE     7724\n",
      "NNE     6444\n",
      "Name: WindDir3pm, dtype: int64\n",
      "No     109332\n",
      "Yes     31455\n",
      "Name: RainToday, dtype: int64\n",
      "No     110316\n",
      "Yes     31877\n",
      "Name: RainTomorrow, dtype: int64\n"
     ]
    }
   ],
   "source": [
    "# view frequency of categorical variables\n",
    "\n",
    "for var in categorical: \n",
    "    \n",
    "    print(df[var].value_counts())"
   ]
  },
  {
   "cell_type": "code",
   "execution_count": 16,
   "metadata": {},
   "outputs": [
    {
     "name": "stdout",
     "output_type": "stream",
     "text": [
      "2013-12-01    0.000345\n",
      "2014-01-09    0.000345\n",
      "2014-01-11    0.000345\n",
      "2014-01-12    0.000345\n",
      "2014-01-13    0.000345\n",
      "                ...   \n",
      "2007-11-29    0.000007\n",
      "2007-11-28    0.000007\n",
      "2007-11-27    0.000007\n",
      "2007-11-26    0.000007\n",
      "2008-01-31    0.000007\n",
      "Name: Date, Length: 3436, dtype: float64\n",
      "Canberra            0.024038\n",
      "Sydney              0.023468\n",
      "Perth               0.022455\n",
      "Darwin              0.022448\n",
      "Hobart              0.022420\n",
      "Brisbane            0.022230\n",
      "Adelaide            0.021731\n",
      "Bendigo             0.021337\n",
      "Townsville          0.021330\n",
      "AliceSprings        0.021316\n",
      "MountGambier        0.021309\n",
      "Launceston          0.021295\n",
      "Ballarat            0.021295\n",
      "Albany              0.021211\n",
      "Albury              0.021175\n",
      "PerthAirport        0.021161\n",
      "MelbourneAirport    0.021161\n",
      "Mildura             0.021147\n",
      "SydneyAirport       0.021133\n",
      "Nuriootpa           0.021112\n",
      "Sale                0.021098\n",
      "Watsonia            0.021091\n",
      "Tuggeranong         0.021084\n",
      "Portland            0.021070\n",
      "Woomera             0.021028\n",
      "Cairns              0.021014\n",
      "Cobar               0.021014\n",
      "Wollongong          0.020979\n",
      "GoldCoast           0.020957\n",
      "WaggaWagga          0.020929\n",
      "Penrith             0.020845\n",
      "NorfolkIsland       0.020845\n",
      "SalmonGums          0.020782\n",
      "Newcastle           0.020782\n",
      "CoffsHarbour        0.020768\n",
      "Witchcliffe         0.020761\n",
      "Richmond            0.020753\n",
      "Dartmoor            0.020697\n",
      "NorahHead           0.020599\n",
      "BadgerysCreek       0.020592\n",
      "MountGinini         0.020444\n",
      "Moree               0.020071\n",
      "Walpole             0.019825\n",
      "PearceRAAF          0.019424\n",
      "Williamtown         0.017954\n",
      "Melbourne           0.017125\n",
      "Nhil                0.011034\n",
      "Katherine           0.010964\n",
      "Uluru               0.010697\n",
      "Name: Location, dtype: float64\n",
      "W      0.068780\n",
      "SE     0.065467\n",
      "E      0.063794\n",
      "N      0.063526\n",
      "SSE    0.063245\n",
      "S      0.062936\n",
      "WSW    0.062598\n",
      "SW     0.061867\n",
      "SSW    0.060552\n",
      "WNW    0.056726\n",
      "NW     0.056283\n",
      "ENE    0.056205\n",
      "ESE    0.051374\n",
      "NE     0.049651\n",
      "NNW    0.046142\n",
      "NNE    0.045241\n",
      "Name: WindGustDir, dtype: float64\n",
      "N      0.080123\n",
      "SE     0.064434\n",
      "E      0.063463\n",
      "SSE    0.063055\n",
      "NW     0.060144\n",
      "S      0.059729\n",
      "W      0.058090\n",
      "SW     0.057928\n",
      "NNE    0.055896\n",
      "NNW    0.055136\n",
      "ENE    0.054398\n",
      "ESE    0.053153\n",
      "NE     0.052935\n",
      "SSW    0.052380\n",
      "WNW    0.050593\n",
      "WSW    0.048125\n",
      "Name: WindDir9am, dtype: float64\n",
      "SE     0.074990\n",
      "W      0.069701\n",
      "S      0.067500\n",
      "WSW    0.065608\n",
      "SW     0.064574\n",
      "SSE    0.064293\n",
      "N      0.060952\n",
      "WNW    0.060875\n",
      "NW     0.059553\n",
      "ESE    0.058948\n",
      "E      0.058667\n",
      "NE     0.057415\n",
      "SSW    0.056332\n",
      "NNW    0.054384\n",
      "ENE    0.054321\n",
      "NNE    0.045319\n",
      "Name: WindDir3pm, dtype: float64\n",
      "No     0.768899\n",
      "Yes    0.221213\n",
      "Name: RainToday, dtype: float64\n",
      "No     0.775819\n",
      "Yes    0.224181\n",
      "Name: RainTomorrow, dtype: float64\n"
     ]
    }
   ],
   "source": [
    "# view frequency distribution of categorical variables\n",
    "\n",
    "for var in categorical: \n",
    "    \n",
    "    print(df[var].value_counts()/float(len(df)))"
   ]
  },
  {
   "cell_type": "code",
   "execution_count": 17,
   "metadata": {},
   "outputs": [
    {
     "name": "stdout",
     "output_type": "stream",
     "text": [
      "Date  contains  3436  labels\n",
      "Location  contains  49  labels\n",
      "WindGustDir  contains  17  labels\n",
      "WindDir9am  contains  17  labels\n",
      "WindDir3pm  contains  17  labels\n",
      "RainToday  contains  3  labels\n",
      "RainTomorrow  contains  2  labels\n"
     ]
    }
   ],
   "source": [
    "# check for cardinality in categorical variables\n",
    "\n",
    "for var in categorical:\n",
    "    \n",
    "    print(var, ' contains ', len(df[var].unique()), ' labels')"
   ]
  },
  {
   "cell_type": "markdown",
   "metadata": {},
   "source": [
    "DATE"
   ]
  },
  {
   "cell_type": "code",
   "execution_count": 18,
   "metadata": {},
   "outputs": [
    {
     "data": {
      "text/plain": [
       "dtype('O')"
      ]
     },
     "execution_count": 18,
     "metadata": {},
     "output_type": "execute_result"
    }
   ],
   "source": [
    "df['Date'].dtypes"
   ]
  },
  {
   "cell_type": "code",
   "execution_count": 19,
   "metadata": {},
   "outputs": [],
   "source": [
    "# parse the dates, currently coded as strings, into datetime format\n",
    "\n",
    "df['Date'] = pd.to_datetime(df['Date'])"
   ]
  },
  {
   "cell_type": "code",
   "execution_count": 20,
   "metadata": {},
   "outputs": [
    {
     "data": {
      "text/plain": [
       "0    2008\n",
       "1    2008\n",
       "2    2008\n",
       "3    2008\n",
       "4    2008\n",
       "Name: Year, dtype: int64"
      ]
     },
     "execution_count": 20,
     "metadata": {},
     "output_type": "execute_result"
    }
   ],
   "source": [
    "# extract year from date\n",
    "\n",
    "df['Year'] = df['Date'].dt.year\n",
    "\n",
    "df['Year'].head()"
   ]
  },
  {
   "cell_type": "code",
   "execution_count": 21,
   "metadata": {},
   "outputs": [
    {
     "data": {
      "text/plain": [
       "0    12\n",
       "1    12\n",
       "2    12\n",
       "3    12\n",
       "4    12\n",
       "Name: Month, dtype: int64"
      ]
     },
     "execution_count": 21,
     "metadata": {},
     "output_type": "execute_result"
    }
   ],
   "source": [
    "# extract month from date\n",
    "\n",
    "df['Month'] = df['Date'].dt.month\n",
    "\n",
    "df['Month'].head()"
   ]
  },
  {
   "cell_type": "code",
   "execution_count": 22,
   "metadata": {},
   "outputs": [
    {
     "data": {
      "text/plain": [
       "0    1\n",
       "1    2\n",
       "2    3\n",
       "3    4\n",
       "4    5\n",
       "Name: Day, dtype: int64"
      ]
     },
     "execution_count": 22,
     "metadata": {},
     "output_type": "execute_result"
    }
   ],
   "source": [
    "# extract day from date\n",
    "\n",
    "df['Day'] = df['Date'].dt.day\n",
    "\n",
    "df['Day'].head()"
   ]
  },
  {
   "cell_type": "code",
   "execution_count": 23,
   "metadata": {},
   "outputs": [
    {
     "name": "stdout",
     "output_type": "stream",
     "text": [
      "<class 'pandas.core.frame.DataFrame'>\n",
      "RangeIndex: 142193 entries, 0 to 142192\n",
      "Data columns (total 26 columns):\n",
      " #   Column         Non-Null Count   Dtype         \n",
      "---  ------         --------------   -----         \n",
      " 0   Date           142193 non-null  datetime64[ns]\n",
      " 1   Location       142193 non-null  object        \n",
      " 2   MinTemp        141556 non-null  float64       \n",
      " 3   MaxTemp        141871 non-null  float64       \n",
      " 4   Rainfall       140787 non-null  float64       \n",
      " 5   Evaporation    81350 non-null   float64       \n",
      " 6   Sunshine       74377 non-null   float64       \n",
      " 7   WindGustDir    132863 non-null  object        \n",
      " 8   WindGustSpeed  132923 non-null  float64       \n",
      " 9   WindDir9am     132180 non-null  object        \n",
      " 10  WindDir3pm     138415 non-null  object        \n",
      " 11  WindSpeed9am   140845 non-null  float64       \n",
      " 12  WindSpeed3pm   139563 non-null  float64       \n",
      " 13  Humidity9am    140419 non-null  float64       \n",
      " 14  Humidity3pm    138583 non-null  float64       \n",
      " 15  Pressure9am    128179 non-null  float64       \n",
      " 16  Pressure3pm    128212 non-null  float64       \n",
      " 17  Cloud9am       88536 non-null   float64       \n",
      " 18  Cloud3pm       85099 non-null   float64       \n",
      " 19  Temp9am        141289 non-null  float64       \n",
      " 20  Temp3pm        139467 non-null  float64       \n",
      " 21  RainToday      140787 non-null  object        \n",
      " 22  RainTomorrow   142193 non-null  object        \n",
      " 23  Year           142193 non-null  int64         \n",
      " 24  Month          142193 non-null  int64         \n",
      " 25  Day            142193 non-null  int64         \n",
      "dtypes: datetime64[ns](1), float64(16), int64(3), object(6)\n",
      "memory usage: 28.2+ MB\n"
     ]
    }
   ],
   "source": [
    "# again view the summary of dataset\n",
    "\n",
    "df.info()"
   ]
  },
  {
   "cell_type": "code",
   "execution_count": 24,
   "metadata": {},
   "outputs": [],
   "source": [
    "# drop the original Date variable\n",
    "\n",
    "df.drop('Date', axis=1, inplace = True)"
   ]
  },
  {
   "cell_type": "code",
   "execution_count": 25,
   "metadata": {},
   "outputs": [
    {
     "data": {
      "text/html": [
       "<div>\n",
       "<style scoped>\n",
       "    .dataframe tbody tr th:only-of-type {\n",
       "        vertical-align: middle;\n",
       "    }\n",
       "\n",
       "    .dataframe tbody tr th {\n",
       "        vertical-align: top;\n",
       "    }\n",
       "\n",
       "    .dataframe thead th {\n",
       "        text-align: right;\n",
       "    }\n",
       "</style>\n",
       "<table border=\"1\" class=\"dataframe\">\n",
       "  <thead>\n",
       "    <tr style=\"text-align: right;\">\n",
       "      <th></th>\n",
       "      <th>Location</th>\n",
       "      <th>MinTemp</th>\n",
       "      <th>MaxTemp</th>\n",
       "      <th>Rainfall</th>\n",
       "      <th>Evaporation</th>\n",
       "      <th>Sunshine</th>\n",
       "      <th>WindGustDir</th>\n",
       "      <th>WindGustSpeed</th>\n",
       "      <th>WindDir9am</th>\n",
       "      <th>WindDir3pm</th>\n",
       "      <th>...</th>\n",
       "      <th>Pressure3pm</th>\n",
       "      <th>Cloud9am</th>\n",
       "      <th>Cloud3pm</th>\n",
       "      <th>Temp9am</th>\n",
       "      <th>Temp3pm</th>\n",
       "      <th>RainToday</th>\n",
       "      <th>RainTomorrow</th>\n",
       "      <th>Year</th>\n",
       "      <th>Month</th>\n",
       "      <th>Day</th>\n",
       "    </tr>\n",
       "  </thead>\n",
       "  <tbody>\n",
       "    <tr>\n",
       "      <th>0</th>\n",
       "      <td>Albury</td>\n",
       "      <td>13.4</td>\n",
       "      <td>22.9</td>\n",
       "      <td>0.6</td>\n",
       "      <td>NaN</td>\n",
       "      <td>NaN</td>\n",
       "      <td>W</td>\n",
       "      <td>44.0</td>\n",
       "      <td>W</td>\n",
       "      <td>WNW</td>\n",
       "      <td>...</td>\n",
       "      <td>1007.1</td>\n",
       "      <td>8.0</td>\n",
       "      <td>NaN</td>\n",
       "      <td>16.9</td>\n",
       "      <td>21.8</td>\n",
       "      <td>No</td>\n",
       "      <td>No</td>\n",
       "      <td>2008</td>\n",
       "      <td>12</td>\n",
       "      <td>1</td>\n",
       "    </tr>\n",
       "    <tr>\n",
       "      <th>1</th>\n",
       "      <td>Albury</td>\n",
       "      <td>7.4</td>\n",
       "      <td>25.1</td>\n",
       "      <td>0.0</td>\n",
       "      <td>NaN</td>\n",
       "      <td>NaN</td>\n",
       "      <td>WNW</td>\n",
       "      <td>44.0</td>\n",
       "      <td>NNW</td>\n",
       "      <td>WSW</td>\n",
       "      <td>...</td>\n",
       "      <td>1007.8</td>\n",
       "      <td>NaN</td>\n",
       "      <td>NaN</td>\n",
       "      <td>17.2</td>\n",
       "      <td>24.3</td>\n",
       "      <td>No</td>\n",
       "      <td>No</td>\n",
       "      <td>2008</td>\n",
       "      <td>12</td>\n",
       "      <td>2</td>\n",
       "    </tr>\n",
       "    <tr>\n",
       "      <th>2</th>\n",
       "      <td>Albury</td>\n",
       "      <td>12.9</td>\n",
       "      <td>25.7</td>\n",
       "      <td>0.0</td>\n",
       "      <td>NaN</td>\n",
       "      <td>NaN</td>\n",
       "      <td>WSW</td>\n",
       "      <td>46.0</td>\n",
       "      <td>W</td>\n",
       "      <td>WSW</td>\n",
       "      <td>...</td>\n",
       "      <td>1008.7</td>\n",
       "      <td>NaN</td>\n",
       "      <td>2.0</td>\n",
       "      <td>21.0</td>\n",
       "      <td>23.2</td>\n",
       "      <td>No</td>\n",
       "      <td>No</td>\n",
       "      <td>2008</td>\n",
       "      <td>12</td>\n",
       "      <td>3</td>\n",
       "    </tr>\n",
       "    <tr>\n",
       "      <th>3</th>\n",
       "      <td>Albury</td>\n",
       "      <td>9.2</td>\n",
       "      <td>28.0</td>\n",
       "      <td>0.0</td>\n",
       "      <td>NaN</td>\n",
       "      <td>NaN</td>\n",
       "      <td>NE</td>\n",
       "      <td>24.0</td>\n",
       "      <td>SE</td>\n",
       "      <td>E</td>\n",
       "      <td>...</td>\n",
       "      <td>1012.8</td>\n",
       "      <td>NaN</td>\n",
       "      <td>NaN</td>\n",
       "      <td>18.1</td>\n",
       "      <td>26.5</td>\n",
       "      <td>No</td>\n",
       "      <td>No</td>\n",
       "      <td>2008</td>\n",
       "      <td>12</td>\n",
       "      <td>4</td>\n",
       "    </tr>\n",
       "    <tr>\n",
       "      <th>4</th>\n",
       "      <td>Albury</td>\n",
       "      <td>17.5</td>\n",
       "      <td>32.3</td>\n",
       "      <td>1.0</td>\n",
       "      <td>NaN</td>\n",
       "      <td>NaN</td>\n",
       "      <td>W</td>\n",
       "      <td>41.0</td>\n",
       "      <td>ENE</td>\n",
       "      <td>NW</td>\n",
       "      <td>...</td>\n",
       "      <td>1006.0</td>\n",
       "      <td>7.0</td>\n",
       "      <td>8.0</td>\n",
       "      <td>17.8</td>\n",
       "      <td>29.7</td>\n",
       "      <td>No</td>\n",
       "      <td>No</td>\n",
       "      <td>2008</td>\n",
       "      <td>12</td>\n",
       "      <td>5</td>\n",
       "    </tr>\n",
       "  </tbody>\n",
       "</table>\n",
       "<p>5 rows × 25 columns</p>\n",
       "</div>"
      ],
      "text/plain": [
       "  Location  MinTemp  MaxTemp  Rainfall  Evaporation  Sunshine WindGustDir  \\\n",
       "0   Albury     13.4     22.9       0.6          NaN       NaN           W   \n",
       "1   Albury      7.4     25.1       0.0          NaN       NaN         WNW   \n",
       "2   Albury     12.9     25.7       0.0          NaN       NaN         WSW   \n",
       "3   Albury      9.2     28.0       0.0          NaN       NaN          NE   \n",
       "4   Albury     17.5     32.3       1.0          NaN       NaN           W   \n",
       "\n",
       "   WindGustSpeed WindDir9am WindDir3pm  ...  Pressure3pm  Cloud9am  Cloud3pm  \\\n",
       "0           44.0          W        WNW  ...       1007.1       8.0       NaN   \n",
       "1           44.0        NNW        WSW  ...       1007.8       NaN       NaN   \n",
       "2           46.0          W        WSW  ...       1008.7       NaN       2.0   \n",
       "3           24.0         SE          E  ...       1012.8       NaN       NaN   \n",
       "4           41.0        ENE         NW  ...       1006.0       7.0       8.0   \n",
       "\n",
       "   Temp9am  Temp3pm  RainToday  RainTomorrow  Year  Month  Day  \n",
       "0     16.9     21.8         No            No  2008     12    1  \n",
       "1     17.2     24.3         No            No  2008     12    2  \n",
       "2     21.0     23.2         No            No  2008     12    3  \n",
       "3     18.1     26.5         No            No  2008     12    4  \n",
       "4     17.8     29.7         No            No  2008     12    5  \n",
       "\n",
       "[5 rows x 25 columns]"
      ]
     },
     "execution_count": 25,
     "metadata": {},
     "output_type": "execute_result"
    }
   ],
   "source": [
    "df.head()"
   ]
  },
  {
   "cell_type": "markdown",
   "metadata": {},
   "source": [
    "LOCATION"
   ]
  },
  {
   "cell_type": "code",
   "execution_count": 26,
   "metadata": {},
   "outputs": [
    {
     "name": "stdout",
     "output_type": "stream",
     "text": [
      "Location contains 49 labels\n"
     ]
    }
   ],
   "source": [
    "# print number of labels in Location variable\n",
    "\n",
    "print('Location contains', len(df.Location.unique()), 'labels')"
   ]
  },
  {
   "cell_type": "code",
   "execution_count": 27,
   "metadata": {},
   "outputs": [
    {
     "data": {
      "text/plain": [
       "array(['Albury', 'BadgerysCreek', 'Cobar', 'CoffsHarbour', 'Moree',\n",
       "       'Newcastle', 'NorahHead', 'NorfolkIsland', 'Penrith', 'Richmond',\n",
       "       'Sydney', 'SydneyAirport', 'WaggaWagga', 'Williamtown',\n",
       "       'Wollongong', 'Canberra', 'Tuggeranong', 'MountGinini', 'Ballarat',\n",
       "       'Bendigo', 'Sale', 'MelbourneAirport', 'Melbourne', 'Mildura',\n",
       "       'Nhil', 'Portland', 'Watsonia', 'Dartmoor', 'Brisbane', 'Cairns',\n",
       "       'GoldCoast', 'Townsville', 'Adelaide', 'MountGambier', 'Nuriootpa',\n",
       "       'Woomera', 'Albany', 'Witchcliffe', 'PearceRAAF', 'PerthAirport',\n",
       "       'Perth', 'SalmonGums', 'Walpole', 'Hobart', 'Launceston',\n",
       "       'AliceSprings', 'Darwin', 'Katherine', 'Uluru'], dtype=object)"
      ]
     },
     "execution_count": 27,
     "metadata": {},
     "output_type": "execute_result"
    }
   ],
   "source": [
    "# check labels in location variable\n",
    "\n",
    "df.Location.unique()"
   ]
  },
  {
   "cell_type": "code",
   "execution_count": 28,
   "metadata": {},
   "outputs": [
    {
     "data": {
      "text/plain": [
       "Canberra            3418\n",
       "Sydney              3337\n",
       "Perth               3193\n",
       "Darwin              3192\n",
       "Hobart              3188\n",
       "Brisbane            3161\n",
       "Adelaide            3090\n",
       "Bendigo             3034\n",
       "Townsville          3033\n",
       "AliceSprings        3031\n",
       "MountGambier        3030\n",
       "Launceston          3028\n",
       "Ballarat            3028\n",
       "Albany              3016\n",
       "Albury              3011\n",
       "PerthAirport        3009\n",
       "MelbourneAirport    3009\n",
       "Mildura             3007\n",
       "SydneyAirport       3005\n",
       "Nuriootpa           3002\n",
       "Sale                3000\n",
       "Watsonia            2999\n",
       "Tuggeranong         2998\n",
       "Portland            2996\n",
       "Woomera             2990\n",
       "Cairns              2988\n",
       "Cobar               2988\n",
       "Wollongong          2983\n",
       "GoldCoast           2980\n",
       "WaggaWagga          2976\n",
       "Penrith             2964\n",
       "NorfolkIsland       2964\n",
       "SalmonGums          2955\n",
       "Newcastle           2955\n",
       "CoffsHarbour        2953\n",
       "Witchcliffe         2952\n",
       "Richmond            2951\n",
       "Dartmoor            2943\n",
       "NorahHead           2929\n",
       "BadgerysCreek       2928\n",
       "MountGinini         2907\n",
       "Moree               2854\n",
       "Walpole             2819\n",
       "PearceRAAF          2762\n",
       "Williamtown         2553\n",
       "Melbourne           2435\n",
       "Nhil                1569\n",
       "Katherine           1559\n",
       "Uluru               1521\n",
       "Name: Location, dtype: int64"
      ]
     },
     "execution_count": 28,
     "metadata": {},
     "output_type": "execute_result"
    }
   ],
   "source": [
    "# check frequency distribution of values in Location variable\n",
    "\n",
    "df.Location.value_counts()"
   ]
  },
  {
   "cell_type": "code",
   "execution_count": 29,
   "metadata": {},
   "outputs": [
    {
     "data": {
      "text/html": [
       "<div>\n",
       "<style scoped>\n",
       "    .dataframe tbody tr th:only-of-type {\n",
       "        vertical-align: middle;\n",
       "    }\n",
       "\n",
       "    .dataframe tbody tr th {\n",
       "        vertical-align: top;\n",
       "    }\n",
       "\n",
       "    .dataframe thead th {\n",
       "        text-align: right;\n",
       "    }\n",
       "</style>\n",
       "<table border=\"1\" class=\"dataframe\">\n",
       "  <thead>\n",
       "    <tr style=\"text-align: right;\">\n",
       "      <th></th>\n",
       "      <th>Albany</th>\n",
       "      <th>Albury</th>\n",
       "      <th>AliceSprings</th>\n",
       "      <th>BadgerysCreek</th>\n",
       "      <th>Ballarat</th>\n",
       "      <th>Bendigo</th>\n",
       "      <th>Brisbane</th>\n",
       "      <th>Cairns</th>\n",
       "      <th>Canberra</th>\n",
       "      <th>Cobar</th>\n",
       "      <th>...</th>\n",
       "      <th>Townsville</th>\n",
       "      <th>Tuggeranong</th>\n",
       "      <th>Uluru</th>\n",
       "      <th>WaggaWagga</th>\n",
       "      <th>Walpole</th>\n",
       "      <th>Watsonia</th>\n",
       "      <th>Williamtown</th>\n",
       "      <th>Witchcliffe</th>\n",
       "      <th>Wollongong</th>\n",
       "      <th>Woomera</th>\n",
       "    </tr>\n",
       "  </thead>\n",
       "  <tbody>\n",
       "    <tr>\n",
       "      <th>0</th>\n",
       "      <td>0</td>\n",
       "      <td>1</td>\n",
       "      <td>0</td>\n",
       "      <td>0</td>\n",
       "      <td>0</td>\n",
       "      <td>0</td>\n",
       "      <td>0</td>\n",
       "      <td>0</td>\n",
       "      <td>0</td>\n",
       "      <td>0</td>\n",
       "      <td>...</td>\n",
       "      <td>0</td>\n",
       "      <td>0</td>\n",
       "      <td>0</td>\n",
       "      <td>0</td>\n",
       "      <td>0</td>\n",
       "      <td>0</td>\n",
       "      <td>0</td>\n",
       "      <td>0</td>\n",
       "      <td>0</td>\n",
       "      <td>0</td>\n",
       "    </tr>\n",
       "    <tr>\n",
       "      <th>1</th>\n",
       "      <td>0</td>\n",
       "      <td>1</td>\n",
       "      <td>0</td>\n",
       "      <td>0</td>\n",
       "      <td>0</td>\n",
       "      <td>0</td>\n",
       "      <td>0</td>\n",
       "      <td>0</td>\n",
       "      <td>0</td>\n",
       "      <td>0</td>\n",
       "      <td>...</td>\n",
       "      <td>0</td>\n",
       "      <td>0</td>\n",
       "      <td>0</td>\n",
       "      <td>0</td>\n",
       "      <td>0</td>\n",
       "      <td>0</td>\n",
       "      <td>0</td>\n",
       "      <td>0</td>\n",
       "      <td>0</td>\n",
       "      <td>0</td>\n",
       "    </tr>\n",
       "    <tr>\n",
       "      <th>2</th>\n",
       "      <td>0</td>\n",
       "      <td>1</td>\n",
       "      <td>0</td>\n",
       "      <td>0</td>\n",
       "      <td>0</td>\n",
       "      <td>0</td>\n",
       "      <td>0</td>\n",
       "      <td>0</td>\n",
       "      <td>0</td>\n",
       "      <td>0</td>\n",
       "      <td>...</td>\n",
       "      <td>0</td>\n",
       "      <td>0</td>\n",
       "      <td>0</td>\n",
       "      <td>0</td>\n",
       "      <td>0</td>\n",
       "      <td>0</td>\n",
       "      <td>0</td>\n",
       "      <td>0</td>\n",
       "      <td>0</td>\n",
       "      <td>0</td>\n",
       "    </tr>\n",
       "    <tr>\n",
       "      <th>3</th>\n",
       "      <td>0</td>\n",
       "      <td>1</td>\n",
       "      <td>0</td>\n",
       "      <td>0</td>\n",
       "      <td>0</td>\n",
       "      <td>0</td>\n",
       "      <td>0</td>\n",
       "      <td>0</td>\n",
       "      <td>0</td>\n",
       "      <td>0</td>\n",
       "      <td>...</td>\n",
       "      <td>0</td>\n",
       "      <td>0</td>\n",
       "      <td>0</td>\n",
       "      <td>0</td>\n",
       "      <td>0</td>\n",
       "      <td>0</td>\n",
       "      <td>0</td>\n",
       "      <td>0</td>\n",
       "      <td>0</td>\n",
       "      <td>0</td>\n",
       "    </tr>\n",
       "    <tr>\n",
       "      <th>4</th>\n",
       "      <td>0</td>\n",
       "      <td>1</td>\n",
       "      <td>0</td>\n",
       "      <td>0</td>\n",
       "      <td>0</td>\n",
       "      <td>0</td>\n",
       "      <td>0</td>\n",
       "      <td>0</td>\n",
       "      <td>0</td>\n",
       "      <td>0</td>\n",
       "      <td>...</td>\n",
       "      <td>0</td>\n",
       "      <td>0</td>\n",
       "      <td>0</td>\n",
       "      <td>0</td>\n",
       "      <td>0</td>\n",
       "      <td>0</td>\n",
       "      <td>0</td>\n",
       "      <td>0</td>\n",
       "      <td>0</td>\n",
       "      <td>0</td>\n",
       "    </tr>\n",
       "  </tbody>\n",
       "</table>\n",
       "<p>5 rows × 48 columns</p>\n",
       "</div>"
      ],
      "text/plain": [
       "   Albany  Albury  AliceSprings  BadgerysCreek  Ballarat  Bendigo  Brisbane  \\\n",
       "0       0       1             0              0         0        0         0   \n",
       "1       0       1             0              0         0        0         0   \n",
       "2       0       1             0              0         0        0         0   \n",
       "3       0       1             0              0         0        0         0   \n",
       "4       0       1             0              0         0        0         0   \n",
       "\n",
       "   Cairns  Canberra  Cobar  ...  Townsville  Tuggeranong  Uluru  WaggaWagga  \\\n",
       "0       0         0      0  ...           0            0      0           0   \n",
       "1       0         0      0  ...           0            0      0           0   \n",
       "2       0         0      0  ...           0            0      0           0   \n",
       "3       0         0      0  ...           0            0      0           0   \n",
       "4       0         0      0  ...           0            0      0           0   \n",
       "\n",
       "   Walpole  Watsonia  Williamtown  Witchcliffe  Wollongong  Woomera  \n",
       "0        0         0            0            0           0        0  \n",
       "1        0         0            0            0           0        0  \n",
       "2        0         0            0            0           0        0  \n",
       "3        0         0            0            0           0        0  \n",
       "4        0         0            0            0           0        0  \n",
       "\n",
       "[5 rows x 48 columns]"
      ]
     },
     "execution_count": 29,
     "metadata": {},
     "output_type": "execute_result"
    }
   ],
   "source": [
    "# let's do One Hot Encoding of Location variable\n",
    "# get k-1 dummy variables after One Hot Encoding \n",
    "# preview the dataset with head() method\n",
    "\n",
    "pd.get_dummies(df.Location, drop_first=True).head()"
   ]
  },
  {
   "cell_type": "markdown",
   "metadata": {},
   "source": [
    "WINDGUSTDIR"
   ]
  },
  {
   "cell_type": "code",
   "execution_count": 30,
   "metadata": {},
   "outputs": [
    {
     "name": "stdout",
     "output_type": "stream",
     "text": [
      "WindGustDir contains 17 labels\n"
     ]
    }
   ],
   "source": [
    "# print number of labels in WindGustDir variable\n",
    "\n",
    "print('WindGustDir contains', len(df['WindGustDir'].unique()), 'labels')"
   ]
  },
  {
   "cell_type": "code",
   "execution_count": 31,
   "metadata": {},
   "outputs": [
    {
     "data": {
      "text/plain": [
       "array(['W', 'WNW', 'WSW', 'NE', 'NNW', 'N', 'NNE', 'SW', 'ENE', 'SSE',\n",
       "       'S', 'NW', 'SE', 'ESE', nan, 'E', 'SSW'], dtype=object)"
      ]
     },
     "execution_count": 31,
     "metadata": {},
     "output_type": "execute_result"
    }
   ],
   "source": [
    "# check labels in WindGustDir variable\n",
    "\n",
    "df['WindGustDir'].unique()"
   ]
  },
  {
   "cell_type": "code",
   "execution_count": 32,
   "metadata": {},
   "outputs": [
    {
     "data": {
      "text/plain": [
       "W      9780\n",
       "SE     9309\n",
       "E      9071\n",
       "N      9033\n",
       "SSE    8993\n",
       "S      8949\n",
       "WSW    8901\n",
       "SW     8797\n",
       "SSW    8610\n",
       "WNW    8066\n",
       "NW     8003\n",
       "ENE    7992\n",
       "ESE    7305\n",
       "NE     7060\n",
       "NNW    6561\n",
       "NNE    6433\n",
       "Name: WindGustDir, dtype: int64"
      ]
     },
     "execution_count": 32,
     "metadata": {},
     "output_type": "execute_result"
    }
   ],
   "source": [
    "# check frequency distribution of values in WindGustDir variable\n",
    "\n",
    "df.WindGustDir.value_counts()"
   ]
  },
  {
   "cell_type": "code",
   "execution_count": 33,
   "metadata": {},
   "outputs": [
    {
     "data": {
      "text/html": [
       "<div>\n",
       "<style scoped>\n",
       "    .dataframe tbody tr th:only-of-type {\n",
       "        vertical-align: middle;\n",
       "    }\n",
       "\n",
       "    .dataframe tbody tr th {\n",
       "        vertical-align: top;\n",
       "    }\n",
       "\n",
       "    .dataframe thead th {\n",
       "        text-align: right;\n",
       "    }\n",
       "</style>\n",
       "<table border=\"1\" class=\"dataframe\">\n",
       "  <thead>\n",
       "    <tr style=\"text-align: right;\">\n",
       "      <th></th>\n",
       "      <th>ENE</th>\n",
       "      <th>ESE</th>\n",
       "      <th>N</th>\n",
       "      <th>NE</th>\n",
       "      <th>NNE</th>\n",
       "      <th>NNW</th>\n",
       "      <th>NW</th>\n",
       "      <th>S</th>\n",
       "      <th>SE</th>\n",
       "      <th>SSE</th>\n",
       "      <th>SSW</th>\n",
       "      <th>SW</th>\n",
       "      <th>W</th>\n",
       "      <th>WNW</th>\n",
       "      <th>WSW</th>\n",
       "      <th>NaN</th>\n",
       "    </tr>\n",
       "  </thead>\n",
       "  <tbody>\n",
       "    <tr>\n",
       "      <th>0</th>\n",
       "      <td>0</td>\n",
       "      <td>0</td>\n",
       "      <td>0</td>\n",
       "      <td>0</td>\n",
       "      <td>0</td>\n",
       "      <td>0</td>\n",
       "      <td>0</td>\n",
       "      <td>0</td>\n",
       "      <td>0</td>\n",
       "      <td>0</td>\n",
       "      <td>0</td>\n",
       "      <td>0</td>\n",
       "      <td>1</td>\n",
       "      <td>0</td>\n",
       "      <td>0</td>\n",
       "      <td>0</td>\n",
       "    </tr>\n",
       "    <tr>\n",
       "      <th>1</th>\n",
       "      <td>0</td>\n",
       "      <td>0</td>\n",
       "      <td>0</td>\n",
       "      <td>0</td>\n",
       "      <td>0</td>\n",
       "      <td>0</td>\n",
       "      <td>0</td>\n",
       "      <td>0</td>\n",
       "      <td>0</td>\n",
       "      <td>0</td>\n",
       "      <td>0</td>\n",
       "      <td>0</td>\n",
       "      <td>0</td>\n",
       "      <td>1</td>\n",
       "      <td>0</td>\n",
       "      <td>0</td>\n",
       "    </tr>\n",
       "    <tr>\n",
       "      <th>2</th>\n",
       "      <td>0</td>\n",
       "      <td>0</td>\n",
       "      <td>0</td>\n",
       "      <td>0</td>\n",
       "      <td>0</td>\n",
       "      <td>0</td>\n",
       "      <td>0</td>\n",
       "      <td>0</td>\n",
       "      <td>0</td>\n",
       "      <td>0</td>\n",
       "      <td>0</td>\n",
       "      <td>0</td>\n",
       "      <td>0</td>\n",
       "      <td>0</td>\n",
       "      <td>1</td>\n",
       "      <td>0</td>\n",
       "    </tr>\n",
       "    <tr>\n",
       "      <th>3</th>\n",
       "      <td>0</td>\n",
       "      <td>0</td>\n",
       "      <td>0</td>\n",
       "      <td>1</td>\n",
       "      <td>0</td>\n",
       "      <td>0</td>\n",
       "      <td>0</td>\n",
       "      <td>0</td>\n",
       "      <td>0</td>\n",
       "      <td>0</td>\n",
       "      <td>0</td>\n",
       "      <td>0</td>\n",
       "      <td>0</td>\n",
       "      <td>0</td>\n",
       "      <td>0</td>\n",
       "      <td>0</td>\n",
       "    </tr>\n",
       "    <tr>\n",
       "      <th>4</th>\n",
       "      <td>0</td>\n",
       "      <td>0</td>\n",
       "      <td>0</td>\n",
       "      <td>0</td>\n",
       "      <td>0</td>\n",
       "      <td>0</td>\n",
       "      <td>0</td>\n",
       "      <td>0</td>\n",
       "      <td>0</td>\n",
       "      <td>0</td>\n",
       "      <td>0</td>\n",
       "      <td>0</td>\n",
       "      <td>1</td>\n",
       "      <td>0</td>\n",
       "      <td>0</td>\n",
       "      <td>0</td>\n",
       "    </tr>\n",
       "  </tbody>\n",
       "</table>\n",
       "</div>"
      ],
      "text/plain": [
       "   ENE  ESE  N  NE  NNE  NNW  NW  S  SE  SSE  SSW  SW  W  WNW  WSW  NaN\n",
       "0    0    0  0   0    0    0   0  0   0    0    0   0  1    0    0    0\n",
       "1    0    0  0   0    0    0   0  0   0    0    0   0  0    1    0    0\n",
       "2    0    0  0   0    0    0   0  0   0    0    0   0  0    0    1    0\n",
       "3    0    0  0   1    0    0   0  0   0    0    0   0  0    0    0    0\n",
       "4    0    0  0   0    0    0   0  0   0    0    0   0  1    0    0    0"
      ]
     },
     "execution_count": 33,
     "metadata": {},
     "output_type": "execute_result"
    }
   ],
   "source": [
    "# let's do One Hot Encoding of WindGustDir variable\n",
    "# get k-1 dummy variables after One Hot Encoding \n",
    "# also add an additional dummy variable to indicate there was missing data\n",
    "# preview the dataset with head() method\n",
    "\n",
    "pd.get_dummies(df.WindGustDir, drop_first=True, dummy_na=True).head()"
   ]
  },
  {
   "cell_type": "markdown",
   "metadata": {},
   "source": [
    "WINDRI9AM"
   ]
  },
  {
   "cell_type": "code",
   "execution_count": 34,
   "metadata": {},
   "outputs": [
    {
     "name": "stdout",
     "output_type": "stream",
     "text": [
      "WindDir9am contains 17 labels\n"
     ]
    }
   ],
   "source": [
    "# print number of labels in WindDir9am variable\n",
    "\n",
    "print('WindDir9am contains', len(df['WindDir9am'].unique()), 'labels')"
   ]
  },
  {
   "cell_type": "code",
   "execution_count": 35,
   "metadata": {},
   "outputs": [
    {
     "data": {
      "text/plain": [
       "array(['W', 'NNW', 'SE', 'ENE', 'SW', 'SSE', 'S', 'NE', nan, 'SSW', 'N',\n",
       "       'WSW', 'ESE', 'E', 'NW', 'WNW', 'NNE'], dtype=object)"
      ]
     },
     "execution_count": 35,
     "metadata": {},
     "output_type": "execute_result"
    }
   ],
   "source": [
    "# check labels in WindDir9am variable\n",
    "\n",
    "df['WindDir9am'].unique()"
   ]
  },
  {
   "cell_type": "code",
   "execution_count": 36,
   "metadata": {},
   "outputs": [
    {
     "data": {
      "text/plain": [
       "N      11393\n",
       "SE      9162\n",
       "E       9024\n",
       "SSE     8966\n",
       "NW      8552\n",
       "S       8493\n",
       "W       8260\n",
       "SW      8237\n",
       "NNE     7948\n",
       "NNW     7840\n",
       "ENE     7735\n",
       "ESE     7558\n",
       "NE      7527\n",
       "SSW     7448\n",
       "WNW     7194\n",
       "WSW     6843\n",
       "Name: WindDir9am, dtype: int64"
      ]
     },
     "execution_count": 36,
     "metadata": {},
     "output_type": "execute_result"
    }
   ],
   "source": [
    "# check frequency distribution of values in WindDir9am variable\n",
    "\n",
    "df['WindDir9am'].value_counts()"
   ]
  },
  {
   "cell_type": "code",
   "execution_count": 37,
   "metadata": {},
   "outputs": [
    {
     "data": {
      "text/html": [
       "<div>\n",
       "<style scoped>\n",
       "    .dataframe tbody tr th:only-of-type {\n",
       "        vertical-align: middle;\n",
       "    }\n",
       "\n",
       "    .dataframe tbody tr th {\n",
       "        vertical-align: top;\n",
       "    }\n",
       "\n",
       "    .dataframe thead th {\n",
       "        text-align: right;\n",
       "    }\n",
       "</style>\n",
       "<table border=\"1\" class=\"dataframe\">\n",
       "  <thead>\n",
       "    <tr style=\"text-align: right;\">\n",
       "      <th></th>\n",
       "      <th>ENE</th>\n",
       "      <th>ESE</th>\n",
       "      <th>N</th>\n",
       "      <th>NE</th>\n",
       "      <th>NNE</th>\n",
       "      <th>NNW</th>\n",
       "      <th>NW</th>\n",
       "      <th>S</th>\n",
       "      <th>SE</th>\n",
       "      <th>SSE</th>\n",
       "      <th>SSW</th>\n",
       "      <th>SW</th>\n",
       "      <th>W</th>\n",
       "      <th>WNW</th>\n",
       "      <th>WSW</th>\n",
       "      <th>NaN</th>\n",
       "    </tr>\n",
       "  </thead>\n",
       "  <tbody>\n",
       "    <tr>\n",
       "      <th>0</th>\n",
       "      <td>0</td>\n",
       "      <td>0</td>\n",
       "      <td>0</td>\n",
       "      <td>0</td>\n",
       "      <td>0</td>\n",
       "      <td>0</td>\n",
       "      <td>0</td>\n",
       "      <td>0</td>\n",
       "      <td>0</td>\n",
       "      <td>0</td>\n",
       "      <td>0</td>\n",
       "      <td>0</td>\n",
       "      <td>1</td>\n",
       "      <td>0</td>\n",
       "      <td>0</td>\n",
       "      <td>0</td>\n",
       "    </tr>\n",
       "    <tr>\n",
       "      <th>1</th>\n",
       "      <td>0</td>\n",
       "      <td>0</td>\n",
       "      <td>0</td>\n",
       "      <td>0</td>\n",
       "      <td>0</td>\n",
       "      <td>1</td>\n",
       "      <td>0</td>\n",
       "      <td>0</td>\n",
       "      <td>0</td>\n",
       "      <td>0</td>\n",
       "      <td>0</td>\n",
       "      <td>0</td>\n",
       "      <td>0</td>\n",
       "      <td>0</td>\n",
       "      <td>0</td>\n",
       "      <td>0</td>\n",
       "    </tr>\n",
       "    <tr>\n",
       "      <th>2</th>\n",
       "      <td>0</td>\n",
       "      <td>0</td>\n",
       "      <td>0</td>\n",
       "      <td>0</td>\n",
       "      <td>0</td>\n",
       "      <td>0</td>\n",
       "      <td>0</td>\n",
       "      <td>0</td>\n",
       "      <td>0</td>\n",
       "      <td>0</td>\n",
       "      <td>0</td>\n",
       "      <td>0</td>\n",
       "      <td>1</td>\n",
       "      <td>0</td>\n",
       "      <td>0</td>\n",
       "      <td>0</td>\n",
       "    </tr>\n",
       "    <tr>\n",
       "      <th>3</th>\n",
       "      <td>0</td>\n",
       "      <td>0</td>\n",
       "      <td>0</td>\n",
       "      <td>0</td>\n",
       "      <td>0</td>\n",
       "      <td>0</td>\n",
       "      <td>0</td>\n",
       "      <td>0</td>\n",
       "      <td>1</td>\n",
       "      <td>0</td>\n",
       "      <td>0</td>\n",
       "      <td>0</td>\n",
       "      <td>0</td>\n",
       "      <td>0</td>\n",
       "      <td>0</td>\n",
       "      <td>0</td>\n",
       "    </tr>\n",
       "    <tr>\n",
       "      <th>4</th>\n",
       "      <td>1</td>\n",
       "      <td>0</td>\n",
       "      <td>0</td>\n",
       "      <td>0</td>\n",
       "      <td>0</td>\n",
       "      <td>0</td>\n",
       "      <td>0</td>\n",
       "      <td>0</td>\n",
       "      <td>0</td>\n",
       "      <td>0</td>\n",
       "      <td>0</td>\n",
       "      <td>0</td>\n",
       "      <td>0</td>\n",
       "      <td>0</td>\n",
       "      <td>0</td>\n",
       "      <td>0</td>\n",
       "    </tr>\n",
       "  </tbody>\n",
       "</table>\n",
       "</div>"
      ],
      "text/plain": [
       "   ENE  ESE  N  NE  NNE  NNW  NW  S  SE  SSE  SSW  SW  W  WNW  WSW  NaN\n",
       "0    0    0  0   0    0    0   0  0   0    0    0   0  1    0    0    0\n",
       "1    0    0  0   0    0    1   0  0   0    0    0   0  0    0    0    0\n",
       "2    0    0  0   0    0    0   0  0   0    0    0   0  1    0    0    0\n",
       "3    0    0  0   0    0    0   0  0   1    0    0   0  0    0    0    0\n",
       "4    1    0  0   0    0    0   0  0   0    0    0   0  0    0    0    0"
      ]
     },
     "execution_count": 37,
     "metadata": {},
     "output_type": "execute_result"
    }
   ],
   "source": [
    "# let's do One Hot Encoding of WindDir9am variable\n",
    "# get k-1 dummy variables after One Hot Encoding \n",
    "# also add an additional dummy variable to indicate there was missing data\n",
    "# preview the dataset with head() method\n",
    "\n",
    "pd.get_dummies(df.WindDir9am, drop_first=True, dummy_na=True).head()"
   ]
  },
  {
   "cell_type": "markdown",
   "metadata": {},
   "source": [
    "WINDIR3PM"
   ]
  },
  {
   "cell_type": "code",
   "execution_count": 38,
   "metadata": {},
   "outputs": [
    {
     "name": "stdout",
     "output_type": "stream",
     "text": [
      "WindDir3pm contains 17 labels\n"
     ]
    }
   ],
   "source": [
    "# print number of labels in WindDir3pm variable\n",
    "\n",
    "print('WindDir3pm contains', len(df['WindDir3pm'].unique()), 'labels')"
   ]
  },
  {
   "cell_type": "code",
   "execution_count": 39,
   "metadata": {},
   "outputs": [
    {
     "data": {
      "text/plain": [
       "array(['WNW', 'WSW', 'E', 'NW', 'W', 'SSE', 'ESE', 'ENE', 'NNW', 'SSW',\n",
       "       'SW', 'SE', 'N', 'S', 'NNE', nan, 'NE'], dtype=object)"
      ]
     },
     "execution_count": 39,
     "metadata": {},
     "output_type": "execute_result"
    }
   ],
   "source": [
    "# check labels in WindDir3pm variable\n",
    "\n",
    "df['WindDir3pm'].unique()"
   ]
  },
  {
   "cell_type": "code",
   "execution_count": 40,
   "metadata": {},
   "outputs": [
    {
     "data": {
      "text/plain": [
       "SE     10663\n",
       "W       9911\n",
       "S       9598\n",
       "WSW     9329\n",
       "SW      9182\n",
       "SSE     9142\n",
       "N       8667\n",
       "WNW     8656\n",
       "NW      8468\n",
       "ESE     8382\n",
       "E       8342\n",
       "NE      8164\n",
       "SSW     8010\n",
       "NNW     7733\n",
       "ENE     7724\n",
       "NNE     6444\n",
       "Name: WindDir3pm, dtype: int64"
      ]
     },
     "execution_count": 40,
     "metadata": {},
     "output_type": "execute_result"
    }
   ],
   "source": [
    "# check frequency distribution of values in WindDir3pm variable\n",
    "\n",
    "df['WindDir3pm'].value_counts()"
   ]
  },
  {
   "cell_type": "code",
   "execution_count": 41,
   "metadata": {},
   "outputs": [
    {
     "data": {
      "text/html": [
       "<div>\n",
       "<style scoped>\n",
       "    .dataframe tbody tr th:only-of-type {\n",
       "        vertical-align: middle;\n",
       "    }\n",
       "\n",
       "    .dataframe tbody tr th {\n",
       "        vertical-align: top;\n",
       "    }\n",
       "\n",
       "    .dataframe thead th {\n",
       "        text-align: right;\n",
       "    }\n",
       "</style>\n",
       "<table border=\"1\" class=\"dataframe\">\n",
       "  <thead>\n",
       "    <tr style=\"text-align: right;\">\n",
       "      <th></th>\n",
       "      <th>ENE</th>\n",
       "      <th>ESE</th>\n",
       "      <th>N</th>\n",
       "      <th>NE</th>\n",
       "      <th>NNE</th>\n",
       "      <th>NNW</th>\n",
       "      <th>NW</th>\n",
       "      <th>S</th>\n",
       "      <th>SE</th>\n",
       "      <th>SSE</th>\n",
       "      <th>SSW</th>\n",
       "      <th>SW</th>\n",
       "      <th>W</th>\n",
       "      <th>WNW</th>\n",
       "      <th>WSW</th>\n",
       "      <th>NaN</th>\n",
       "    </tr>\n",
       "  </thead>\n",
       "  <tbody>\n",
       "    <tr>\n",
       "      <th>0</th>\n",
       "      <td>0</td>\n",
       "      <td>0</td>\n",
       "      <td>0</td>\n",
       "      <td>0</td>\n",
       "      <td>0</td>\n",
       "      <td>0</td>\n",
       "      <td>0</td>\n",
       "      <td>0</td>\n",
       "      <td>0</td>\n",
       "      <td>0</td>\n",
       "      <td>0</td>\n",
       "      <td>0</td>\n",
       "      <td>0</td>\n",
       "      <td>1</td>\n",
       "      <td>0</td>\n",
       "      <td>0</td>\n",
       "    </tr>\n",
       "    <tr>\n",
       "      <th>1</th>\n",
       "      <td>0</td>\n",
       "      <td>0</td>\n",
       "      <td>0</td>\n",
       "      <td>0</td>\n",
       "      <td>0</td>\n",
       "      <td>0</td>\n",
       "      <td>0</td>\n",
       "      <td>0</td>\n",
       "      <td>0</td>\n",
       "      <td>0</td>\n",
       "      <td>0</td>\n",
       "      <td>0</td>\n",
       "      <td>0</td>\n",
       "      <td>0</td>\n",
       "      <td>1</td>\n",
       "      <td>0</td>\n",
       "    </tr>\n",
       "    <tr>\n",
       "      <th>2</th>\n",
       "      <td>0</td>\n",
       "      <td>0</td>\n",
       "      <td>0</td>\n",
       "      <td>0</td>\n",
       "      <td>0</td>\n",
       "      <td>0</td>\n",
       "      <td>0</td>\n",
       "      <td>0</td>\n",
       "      <td>0</td>\n",
       "      <td>0</td>\n",
       "      <td>0</td>\n",
       "      <td>0</td>\n",
       "      <td>0</td>\n",
       "      <td>0</td>\n",
       "      <td>1</td>\n",
       "      <td>0</td>\n",
       "    </tr>\n",
       "    <tr>\n",
       "      <th>3</th>\n",
       "      <td>0</td>\n",
       "      <td>0</td>\n",
       "      <td>0</td>\n",
       "      <td>0</td>\n",
       "      <td>0</td>\n",
       "      <td>0</td>\n",
       "      <td>0</td>\n",
       "      <td>0</td>\n",
       "      <td>0</td>\n",
       "      <td>0</td>\n",
       "      <td>0</td>\n",
       "      <td>0</td>\n",
       "      <td>0</td>\n",
       "      <td>0</td>\n",
       "      <td>0</td>\n",
       "      <td>0</td>\n",
       "    </tr>\n",
       "    <tr>\n",
       "      <th>4</th>\n",
       "      <td>0</td>\n",
       "      <td>0</td>\n",
       "      <td>0</td>\n",
       "      <td>0</td>\n",
       "      <td>0</td>\n",
       "      <td>0</td>\n",
       "      <td>1</td>\n",
       "      <td>0</td>\n",
       "      <td>0</td>\n",
       "      <td>0</td>\n",
       "      <td>0</td>\n",
       "      <td>0</td>\n",
       "      <td>0</td>\n",
       "      <td>0</td>\n",
       "      <td>0</td>\n",
       "      <td>0</td>\n",
       "    </tr>\n",
       "  </tbody>\n",
       "</table>\n",
       "</div>"
      ],
      "text/plain": [
       "   ENE  ESE  N  NE  NNE  NNW  NW  S  SE  SSE  SSW  SW  W  WNW  WSW  NaN\n",
       "0    0    0  0   0    0    0   0  0   0    0    0   0  0    1    0    0\n",
       "1    0    0  0   0    0    0   0  0   0    0    0   0  0    0    1    0\n",
       "2    0    0  0   0    0    0   0  0   0    0    0   0  0    0    1    0\n",
       "3    0    0  0   0    0    0   0  0   0    0    0   0  0    0    0    0\n",
       "4    0    0  0   0    0    0   1  0   0    0    0   0  0    0    0    0"
      ]
     },
     "execution_count": 41,
     "metadata": {},
     "output_type": "execute_result"
    }
   ],
   "source": [
    "# let's do One Hot Encoding of WindDir3pm variable\n",
    "# get k-1 dummy variables after One Hot Encoding \n",
    "# also add an additional dummy variable to indicate there was missing data\n",
    "# preview the dataset with head() method\n",
    "\n",
    "pd.get_dummies(df.WindDir3pm, drop_first=True, dummy_na=True).head()"
   ]
  },
  {
   "cell_type": "markdown",
   "metadata": {},
   "source": [
    "RAINTODAY"
   ]
  },
  {
   "cell_type": "code",
   "execution_count": 42,
   "metadata": {},
   "outputs": [
    {
     "name": "stdout",
     "output_type": "stream",
     "text": [
      "RainToday contains 3 labels\n"
     ]
    }
   ],
   "source": [
    "# print number of labels in RainToday variable\n",
    "\n",
    "print('RainToday contains', len(df['RainToday'].unique()), 'labels')"
   ]
  },
  {
   "cell_type": "code",
   "execution_count": 43,
   "metadata": {},
   "outputs": [
    {
     "data": {
      "text/plain": [
       "array(['No', 'Yes', nan], dtype=object)"
      ]
     },
     "execution_count": 43,
     "metadata": {},
     "output_type": "execute_result"
    }
   ],
   "source": [
    "# check labels in WindGustDir variable\n",
    "\n",
    "df['RainToday'].unique()"
   ]
  },
  {
   "cell_type": "code",
   "execution_count": 44,
   "metadata": {},
   "outputs": [
    {
     "data": {
      "text/plain": [
       "No     109332\n",
       "Yes     31455\n",
       "Name: RainToday, dtype: int64"
      ]
     },
     "execution_count": 44,
     "metadata": {},
     "output_type": "execute_result"
    }
   ],
   "source": [
    "# check frequency distribution of values in WindGustDir variable\n",
    "\n",
    "df.RainToday.value_counts()"
   ]
  },
  {
   "cell_type": "code",
   "execution_count": 45,
   "metadata": {},
   "outputs": [
    {
     "data": {
      "text/html": [
       "<div>\n",
       "<style scoped>\n",
       "    .dataframe tbody tr th:only-of-type {\n",
       "        vertical-align: middle;\n",
       "    }\n",
       "\n",
       "    .dataframe tbody tr th {\n",
       "        vertical-align: top;\n",
       "    }\n",
       "\n",
       "    .dataframe thead th {\n",
       "        text-align: right;\n",
       "    }\n",
       "</style>\n",
       "<table border=\"1\" class=\"dataframe\">\n",
       "  <thead>\n",
       "    <tr style=\"text-align: right;\">\n",
       "      <th></th>\n",
       "      <th>Yes</th>\n",
       "      <th>NaN</th>\n",
       "    </tr>\n",
       "  </thead>\n",
       "  <tbody>\n",
       "    <tr>\n",
       "      <th>0</th>\n",
       "      <td>0</td>\n",
       "      <td>0</td>\n",
       "    </tr>\n",
       "    <tr>\n",
       "      <th>1</th>\n",
       "      <td>0</td>\n",
       "      <td>0</td>\n",
       "    </tr>\n",
       "    <tr>\n",
       "      <th>2</th>\n",
       "      <td>0</td>\n",
       "      <td>0</td>\n",
       "    </tr>\n",
       "    <tr>\n",
       "      <th>3</th>\n",
       "      <td>0</td>\n",
       "      <td>0</td>\n",
       "    </tr>\n",
       "    <tr>\n",
       "      <th>4</th>\n",
       "      <td>0</td>\n",
       "      <td>0</td>\n",
       "    </tr>\n",
       "  </tbody>\n",
       "</table>\n",
       "</div>"
      ],
      "text/plain": [
       "   Yes  NaN\n",
       "0    0    0\n",
       "1    0    0\n",
       "2    0    0\n",
       "3    0    0\n",
       "4    0    0"
      ]
     },
     "execution_count": 45,
     "metadata": {},
     "output_type": "execute_result"
    }
   ],
   "source": [
    "# let's do One Hot Encoding of RainToday variable\n",
    "# get k-1 dummy variables after One Hot Encoding \n",
    "# also add an additional dummy variable to indicate there was missing data\n",
    "# preview the dataset with head() method\n",
    "\n",
    "pd.get_dummies(df.RainToday, drop_first=True, dummy_na=True).head()"
   ]
  },
  {
   "cell_type": "markdown",
   "metadata": {},
   "source": [
    "NUMERICAL VARIABLES"
   ]
  },
  {
   "cell_type": "code",
   "execution_count": 46,
   "metadata": {},
   "outputs": [
    {
     "name": "stdout",
     "output_type": "stream",
     "text": [
      "There are 19 numerical variables\n",
      "\n",
      "The numerical variables are : ['MinTemp', 'MaxTemp', 'Rainfall', 'Evaporation', 'Sunshine', 'WindGustSpeed', 'WindSpeed9am', 'WindSpeed3pm', 'Humidity9am', 'Humidity3pm', 'Pressure9am', 'Pressure3pm', 'Cloud9am', 'Cloud3pm', 'Temp9am', 'Temp3pm', 'Year', 'Month', 'Day']\n"
     ]
    }
   ],
   "source": [
    "# find numerical variables\n",
    "\n",
    "numerical = [var for var in df.columns if df[var].dtype!='O']\n",
    "\n",
    "print('There are {} numerical variables\\n'.format(len(numerical)))\n",
    "\n",
    "print('The numerical variables are :', numerical)"
   ]
  },
  {
   "cell_type": "code",
   "execution_count": 47,
   "metadata": {},
   "outputs": [
    {
     "data": {
      "text/html": [
       "<div>\n",
       "<style scoped>\n",
       "    .dataframe tbody tr th:only-of-type {\n",
       "        vertical-align: middle;\n",
       "    }\n",
       "\n",
       "    .dataframe tbody tr th {\n",
       "        vertical-align: top;\n",
       "    }\n",
       "\n",
       "    .dataframe thead th {\n",
       "        text-align: right;\n",
       "    }\n",
       "</style>\n",
       "<table border=\"1\" class=\"dataframe\">\n",
       "  <thead>\n",
       "    <tr style=\"text-align: right;\">\n",
       "      <th></th>\n",
       "      <th>MinTemp</th>\n",
       "      <th>MaxTemp</th>\n",
       "      <th>Rainfall</th>\n",
       "      <th>Evaporation</th>\n",
       "      <th>Sunshine</th>\n",
       "      <th>WindGustSpeed</th>\n",
       "      <th>WindSpeed9am</th>\n",
       "      <th>WindSpeed3pm</th>\n",
       "      <th>Humidity9am</th>\n",
       "      <th>Humidity3pm</th>\n",
       "      <th>Pressure9am</th>\n",
       "      <th>Pressure3pm</th>\n",
       "      <th>Cloud9am</th>\n",
       "      <th>Cloud3pm</th>\n",
       "      <th>Temp9am</th>\n",
       "      <th>Temp3pm</th>\n",
       "      <th>Year</th>\n",
       "      <th>Month</th>\n",
       "      <th>Day</th>\n",
       "    </tr>\n",
       "  </thead>\n",
       "  <tbody>\n",
       "    <tr>\n",
       "      <th>0</th>\n",
       "      <td>13.4</td>\n",
       "      <td>22.9</td>\n",
       "      <td>0.6</td>\n",
       "      <td>NaN</td>\n",
       "      <td>NaN</td>\n",
       "      <td>44.0</td>\n",
       "      <td>20.0</td>\n",
       "      <td>24.0</td>\n",
       "      <td>71.0</td>\n",
       "      <td>22.0</td>\n",
       "      <td>1007.7</td>\n",
       "      <td>1007.1</td>\n",
       "      <td>8.0</td>\n",
       "      <td>NaN</td>\n",
       "      <td>16.9</td>\n",
       "      <td>21.8</td>\n",
       "      <td>2008</td>\n",
       "      <td>12</td>\n",
       "      <td>1</td>\n",
       "    </tr>\n",
       "    <tr>\n",
       "      <th>1</th>\n",
       "      <td>7.4</td>\n",
       "      <td>25.1</td>\n",
       "      <td>0.0</td>\n",
       "      <td>NaN</td>\n",
       "      <td>NaN</td>\n",
       "      <td>44.0</td>\n",
       "      <td>4.0</td>\n",
       "      <td>22.0</td>\n",
       "      <td>44.0</td>\n",
       "      <td>25.0</td>\n",
       "      <td>1010.6</td>\n",
       "      <td>1007.8</td>\n",
       "      <td>NaN</td>\n",
       "      <td>NaN</td>\n",
       "      <td>17.2</td>\n",
       "      <td>24.3</td>\n",
       "      <td>2008</td>\n",
       "      <td>12</td>\n",
       "      <td>2</td>\n",
       "    </tr>\n",
       "    <tr>\n",
       "      <th>2</th>\n",
       "      <td>12.9</td>\n",
       "      <td>25.7</td>\n",
       "      <td>0.0</td>\n",
       "      <td>NaN</td>\n",
       "      <td>NaN</td>\n",
       "      <td>46.0</td>\n",
       "      <td>19.0</td>\n",
       "      <td>26.0</td>\n",
       "      <td>38.0</td>\n",
       "      <td>30.0</td>\n",
       "      <td>1007.6</td>\n",
       "      <td>1008.7</td>\n",
       "      <td>NaN</td>\n",
       "      <td>2.0</td>\n",
       "      <td>21.0</td>\n",
       "      <td>23.2</td>\n",
       "      <td>2008</td>\n",
       "      <td>12</td>\n",
       "      <td>3</td>\n",
       "    </tr>\n",
       "    <tr>\n",
       "      <th>3</th>\n",
       "      <td>9.2</td>\n",
       "      <td>28.0</td>\n",
       "      <td>0.0</td>\n",
       "      <td>NaN</td>\n",
       "      <td>NaN</td>\n",
       "      <td>24.0</td>\n",
       "      <td>11.0</td>\n",
       "      <td>9.0</td>\n",
       "      <td>45.0</td>\n",
       "      <td>16.0</td>\n",
       "      <td>1017.6</td>\n",
       "      <td>1012.8</td>\n",
       "      <td>NaN</td>\n",
       "      <td>NaN</td>\n",
       "      <td>18.1</td>\n",
       "      <td>26.5</td>\n",
       "      <td>2008</td>\n",
       "      <td>12</td>\n",
       "      <td>4</td>\n",
       "    </tr>\n",
       "    <tr>\n",
       "      <th>4</th>\n",
       "      <td>17.5</td>\n",
       "      <td>32.3</td>\n",
       "      <td>1.0</td>\n",
       "      <td>NaN</td>\n",
       "      <td>NaN</td>\n",
       "      <td>41.0</td>\n",
       "      <td>7.0</td>\n",
       "      <td>20.0</td>\n",
       "      <td>82.0</td>\n",
       "      <td>33.0</td>\n",
       "      <td>1010.8</td>\n",
       "      <td>1006.0</td>\n",
       "      <td>7.0</td>\n",
       "      <td>8.0</td>\n",
       "      <td>17.8</td>\n",
       "      <td>29.7</td>\n",
       "      <td>2008</td>\n",
       "      <td>12</td>\n",
       "      <td>5</td>\n",
       "    </tr>\n",
       "  </tbody>\n",
       "</table>\n",
       "</div>"
      ],
      "text/plain": [
       "   MinTemp  MaxTemp  Rainfall  Evaporation  Sunshine  WindGustSpeed  \\\n",
       "0     13.4     22.9       0.6          NaN       NaN           44.0   \n",
       "1      7.4     25.1       0.0          NaN       NaN           44.0   \n",
       "2     12.9     25.7       0.0          NaN       NaN           46.0   \n",
       "3      9.2     28.0       0.0          NaN       NaN           24.0   \n",
       "4     17.5     32.3       1.0          NaN       NaN           41.0   \n",
       "\n",
       "   WindSpeed9am  WindSpeed3pm  Humidity9am  Humidity3pm  Pressure9am  \\\n",
       "0          20.0          24.0         71.0         22.0       1007.7   \n",
       "1           4.0          22.0         44.0         25.0       1010.6   \n",
       "2          19.0          26.0         38.0         30.0       1007.6   \n",
       "3          11.0           9.0         45.0         16.0       1017.6   \n",
       "4           7.0          20.0         82.0         33.0       1010.8   \n",
       "\n",
       "   Pressure3pm  Cloud9am  Cloud3pm  Temp9am  Temp3pm  Year  Month  Day  \n",
       "0       1007.1       8.0       NaN     16.9     21.8  2008     12    1  \n",
       "1       1007.8       NaN       NaN     17.2     24.3  2008     12    2  \n",
       "2       1008.7       NaN       2.0     21.0     23.2  2008     12    3  \n",
       "3       1012.8       NaN       NaN     18.1     26.5  2008     12    4  \n",
       "4       1006.0       7.0       8.0     17.8     29.7  2008     12    5  "
      ]
     },
     "execution_count": 47,
     "metadata": {},
     "output_type": "execute_result"
    }
   ],
   "source": [
    "# view the numerical variables\n",
    "\n",
    "df[numerical].head()"
   ]
  },
  {
   "cell_type": "code",
   "execution_count": 48,
   "metadata": {},
   "outputs": [
    {
     "data": {
      "text/plain": [
       "MinTemp            637\n",
       "MaxTemp            322\n",
       "Rainfall          1406\n",
       "Evaporation      60843\n",
       "Sunshine         67816\n",
       "WindGustSpeed     9270\n",
       "WindSpeed9am      1348\n",
       "WindSpeed3pm      2630\n",
       "Humidity9am       1774\n",
       "Humidity3pm       3610\n",
       "Pressure9am      14014\n",
       "Pressure3pm      13981\n",
       "Cloud9am         53657\n",
       "Cloud3pm         57094\n",
       "Temp9am            904\n",
       "Temp3pm           2726\n",
       "Year                 0\n",
       "Month                0\n",
       "Day                  0\n",
       "dtype: int64"
      ]
     },
     "execution_count": 48,
     "metadata": {},
     "output_type": "execute_result"
    }
   ],
   "source": [
    "# check missing values in numerical variables\n",
    "\n",
    "df[numerical].isnull().sum()"
   ]
  },
  {
   "cell_type": "code",
   "execution_count": 49,
   "metadata": {},
   "outputs": [
    {
     "name": "stdout",
     "output_type": "stream",
     "text": [
      "        MinTemp   MaxTemp  Rainfall  Evaporation  Sunshine  WindGustSpeed  \\\n",
      "count  141556.0  141871.0  140787.0      81350.0   74377.0       132923.0   \n",
      "mean       12.0      23.0       2.0          5.0       8.0           40.0   \n",
      "std         6.0       7.0       8.0          4.0       4.0           14.0   \n",
      "min        -8.0      -5.0       0.0          0.0       0.0            6.0   \n",
      "25%         8.0      18.0       0.0          3.0       5.0           31.0   \n",
      "50%        12.0      23.0       0.0          5.0       8.0           39.0   \n",
      "75%        17.0      28.0       1.0          7.0      11.0           48.0   \n",
      "max        34.0      48.0     371.0        145.0      14.0          135.0   \n",
      "\n",
      "       WindSpeed9am  WindSpeed3pm  Humidity9am  Humidity3pm  Pressure9am  \\\n",
      "count      140845.0      139563.0     140419.0     138583.0     128179.0   \n",
      "mean           14.0          19.0         69.0         51.0       1018.0   \n",
      "std             9.0           9.0         19.0         21.0          7.0   \n",
      "min             0.0           0.0          0.0          0.0        980.0   \n",
      "25%             7.0          13.0         57.0         37.0       1013.0   \n",
      "50%            13.0          19.0         70.0         52.0       1018.0   \n",
      "75%            19.0          24.0         83.0         66.0       1022.0   \n",
      "max           130.0          87.0        100.0        100.0       1041.0   \n",
      "\n",
      "       Pressure3pm  Cloud9am  Cloud3pm   Temp9am   Temp3pm      Year  \\\n",
      "count     128212.0   88536.0   85099.0  141289.0  139467.0  142193.0   \n",
      "mean        1015.0       4.0       5.0      17.0      22.0    2013.0   \n",
      "std            7.0       3.0       3.0       6.0       7.0       3.0   \n",
      "min          977.0       0.0       0.0      -7.0      -5.0    2007.0   \n",
      "25%         1010.0       1.0       2.0      12.0      17.0    2011.0   \n",
      "50%         1015.0       5.0       5.0      17.0      21.0    2013.0   \n",
      "75%         1020.0       7.0       7.0      22.0      26.0    2015.0   \n",
      "max         1040.0       9.0       9.0      40.0      47.0    2017.0   \n",
      "\n",
      "          Month       Day  \n",
      "count  142193.0  142193.0  \n",
      "mean        6.0      16.0  \n",
      "std         3.0       9.0  \n",
      "min         1.0       1.0  \n",
      "25%         3.0       8.0  \n",
      "50%         6.0      16.0  \n",
      "75%         9.0      23.0  \n",
      "max        12.0      31.0   2\n"
     ]
    }
   ],
   "source": [
    "# view summary statistics in numerical variables\n",
    "\n",
    "print(round(df[numerical].describe()),2)"
   ]
  },
  {
   "cell_type": "markdown",
   "metadata": {},
   "source": [
    "On closer inspection, we can see that the Rainfall, Evaporation, WindSpeed9am and WindSpeed3pm columns may contain outliers."
   ]
  },
  {
   "cell_type": "code",
   "execution_count": 50,
   "metadata": {},
   "outputs": [
    {
     "data": {
      "text/plain": [
       "Text(0, 0.5, 'WindSpeed3pm')"
      ]
     },
     "execution_count": 50,
     "metadata": {},
     "output_type": "execute_result"
    },
    {
     "data": {
      "image/png": "[encoded data removed]",
      "text/plain": [
       "<Figure size 1080x720 with 4 Axes>"
      ]
     },
     "metadata": {
      "needs_background": "light"
     },
     "output_type": "display_data"
    }
   ],
   "source": [
    "# draw boxplots to visualize outliers\n",
    "\n",
    "plt.figure(figsize=(15,10))\n",
    "\n",
    "\n",
    "plt.subplot(2, 2, 1)\n",
    "fig = df.boxplot(column='Rainfall')\n",
    "fig.set_title('')\n",
    "fig.set_ylabel('Rainfall')\n",
    "\n",
    "\n",
    "plt.subplot(2, 2, 2)\n",
    "fig = df.boxplot(column='Evaporation')\n",
    "fig.set_title('')\n",
    "fig.set_ylabel('Evaporation')\n",
    "\n",
    "\n",
    "plt.subplot(2, 2, 3)\n",
    "fig = df.boxplot(column='WindSpeed9am')\n",
    "fig.set_title('')\n",
    "fig.set_ylabel('WindSpeed9am')\n",
    "\n",
    "plt.subplot(2, 2, 4)\n",
    "fig = df.boxplot(column='WindSpeed3pm')\n",
    "fig.set_title('')\n",
    "fig.set_ylabel('WindSpeed3pm')"
   ]
  },
  {
   "cell_type": "markdown",
   "metadata": {},
   "source": [
    "The above boxplots confirm that there are lot of outliers in these variables.\n",
    "\n",
    "Check the distribution of variables"
   ]
  },
  {
   "cell_type": "code",
   "execution_count": 51,
   "metadata": {},
   "outputs": [
    {
     "data": {
      "text/plain": [
       "Text(0, 0.5, 'RainTomorrow')"
      ]
     },
     "execution_count": 51,
     "metadata": {},
     "output_type": "execute_result"
    },
    {
     "data": {
      "image/png": "[encoded data removed]",
      "text/plain": [
       "<Figure size 1080x720 with 4 Axes>"
      ]
     },
     "metadata": {
      "needs_background": "light"
     },
     "output_type": "display_data"
    }
   ],
   "source": [
    "# plot histogram to check distribution\n",
    "\n",
    "plt.figure(figsize=(15,10))\n",
    "\n",
    "\n",
    "plt.subplot(2, 2, 1)\n",
    "fig = df.Rainfall.hist(bins=10)\n",
    "fig.set_xlabel('Rainfall')\n",
    "fig.set_ylabel('RainTomorrow')\n",
    "\n",
    "\n",
    "plt.subplot(2, 2, 2)\n",
    "fig = df.Evaporation.hist(bins=10)\n",
    "fig.set_xlabel('Evaporation')\n",
    "fig.set_ylabel('RainTomorrow')\n",
    "\n",
    "\n",
    "plt.subplot(2, 2, 3)\n",
    "fig = df.WindSpeed9am.hist(bins=10)\n",
    "fig.set_xlabel('WindSpeed9am')\n",
    "fig.set_ylabel('RainTomorrow')\n",
    "\n",
    "plt.subplot(2, 2, 4)\n",
    "fig = df.WindSpeed3pm.hist(bins=10)\n",
    "fig.set_xlabel('WindSpeed3pm')\n",
    "fig.set_ylabel('RainTomorrow')"
   ]
  },
  {
   "cell_type": "markdown",
   "metadata": {},
   "source": [
    "We can see that all the four variables are skewed. So, I will use interquantile range to find outliers."
   ]
  },
  {
   "cell_type": "code",
   "execution_count": 52,
   "metadata": {},
   "outputs": [
    {
     "name": "stdout",
     "output_type": "stream",
     "text": [
      "Rainfall outliers are values < -2.4000000000000004 or > 3.2\n"
     ]
    }
   ],
   "source": [
    "# find outliers for Rainfall variable\n",
    "\n",
    "IQR = df.Rainfall.quantile(0.75) - df.Rainfall.quantile(0.25)\n",
    "Lower_fence = df.Rainfall.quantile(0.25) - (IQR * 3)\n",
    "Upper_fence = df.Rainfall.quantile(0.75) + (IQR * 3)\n",
    "print('Rainfall outliers are values < {lowerboundary} or > {upperboundary}'.format(lowerboundary=Lower_fence, upperboundary=Upper_fence))"
   ]
  },
  {
   "cell_type": "code",
   "execution_count": 53,
   "metadata": {},
   "outputs": [
    {
     "name": "stdout",
     "output_type": "stream",
     "text": [
      "Evaporation outliers are values < -11.800000000000002 or > 21.800000000000004\n"
     ]
    }
   ],
   "source": [
    "# find outliers for Evaporation variable\n",
    "\n",
    "IQR = df.Evaporation.quantile(0.75) - df.Evaporation.quantile(0.25)\n",
    "Lower_fence = df.Evaporation.quantile(0.25) - (IQR * 3)\n",
    "Upper_fence = df.Evaporation.quantile(0.75) + (IQR * 3)\n",
    "print('Evaporation outliers are values < {lowerboundary} or > {upperboundary}'.format(lowerboundary=Lower_fence, upperboundary=Upper_fence))"
   ]
  },
  {
   "cell_type": "code",
   "execution_count": 54,
   "metadata": {},
   "outputs": [
    {
     "name": "stdout",
     "output_type": "stream",
     "text": [
      "WindSpeed9am outliers are values < -29.0 or > 55.0\n"
     ]
    }
   ],
   "source": [
    "# find outliers for WindSpeed9am variable\n",
    "\n",
    "IQR = df.WindSpeed9am.quantile(0.75) - df.WindSpeed9am.quantile(0.25)\n",
    "Lower_fence = df.WindSpeed9am.quantile(0.25) - (IQR * 3)\n",
    "Upper_fence = df.WindSpeed9am.quantile(0.75) + (IQR * 3)\n",
    "print('WindSpeed9am outliers are values < {lowerboundary} or > {upperboundary}'.format(lowerboundary=Lower_fence, upperboundary=Upper_fence))"
   ]
  },
  {
   "cell_type": "code",
   "execution_count": 55,
   "metadata": {},
   "outputs": [
    {
     "name": "stdout",
     "output_type": "stream",
     "text": [
      "WindSpeed3pm outliers are values < -20.0 or > 57.0\n"
     ]
    }
   ],
   "source": [
    "# find outliers for WindSpeed3pm variable\n",
    "\n",
    "IQR = df.WindSpeed3pm.quantile(0.75) - df.WindSpeed3pm.quantile(0.25)\n",
    "Lower_fence = df.WindSpeed3pm.quantile(0.25) - (IQR * 3)\n",
    "Upper_fence = df.WindSpeed3pm.quantile(0.75) + (IQR * 3)\n",
    "print('WindSpeed3pm outliers are values < {lowerboundary} or > {upperboundary}'.format(lowerboundary=Lower_fence, upperboundary=Upper_fence))"
   ]
  },
  {
   "cell_type": "markdown",
   "metadata": {},
   "source": [
    "DIVIDING IN TRAIN AND SET"
   ]
  },
  {
   "cell_type": "code",
   "execution_count": 56,
   "metadata": {},
   "outputs": [],
   "source": [
    "X = df.drop(['RainTomorrow'], axis=1)\n",
    "\n",
    "y = df['RainTomorrow']"
   ]
  },
  {
   "cell_type": "code",
   "execution_count": 57,
   "metadata": {},
   "outputs": [],
   "source": [
    "from sklearn.model_selection import train_test_split\n",
    "\n",
    "X_train, X_test, y_train, y_test = train_test_split(X, y, test_size = 0.2, random_state = 0)"
   ]
  },
  {
   "cell_type": "code",
   "execution_count": 58,
   "metadata": {},
   "outputs": [
    {
     "data": {
      "text/plain": [
       "((113754, 24), (28439, 24))"
      ]
     },
     "execution_count": 58,
     "metadata": {},
     "output_type": "execute_result"
    }
   ],
   "source": [
    "#20% test, 80% training\n",
    "X_train.shape, X_test.shape"
   ]
  },
  {
   "cell_type": "code",
   "execution_count": 59,
   "metadata": {},
   "outputs": [
    {
     "data": {
      "text/plain": [
       "['Location', 'WindGustDir', 'WindDir9am', 'WindDir3pm', 'RainToday']"
      ]
     },
     "execution_count": 59,
     "metadata": {},
     "output_type": "execute_result"
    }
   ],
   "source": [
    "# display categorical variables\n",
    "\n",
    "categorical = [col for col in X_train.columns if X_train[col].dtypes == 'O']\n",
    "\n",
    "categorical"
   ]
  },
  {
   "cell_type": "code",
   "execution_count": 60,
   "metadata": {},
   "outputs": [
    {
     "data": {
      "text/plain": [
       "['MinTemp',\n",
       " 'MaxTemp',\n",
       " 'Rainfall',\n",
       " 'Evaporation',\n",
       " 'Sunshine',\n",
       " 'WindGustSpeed',\n",
       " 'WindSpeed9am',\n",
       " 'WindSpeed3pm',\n",
       " 'Humidity9am',\n",
       " 'Humidity3pm',\n",
       " 'Pressure9am',\n",
       " 'Pressure3pm',\n",
       " 'Cloud9am',\n",
       " 'Cloud3pm',\n",
       " 'Temp9am',\n",
       " 'Temp3pm',\n",
       " 'Year',\n",
       " 'Month',\n",
       " 'Day']"
      ]
     },
     "execution_count": 60,
     "metadata": {},
     "output_type": "execute_result"
    }
   ],
   "source": [
    "# display numerical variables\n",
    "\n",
    "numerical = [col for col in X_train.columns if X_train[col].dtypes != 'O']\n",
    "\n",
    "numerical"
   ]
  },
  {
   "cell_type": "code",
   "execution_count": 61,
   "metadata": {},
   "outputs": [
    {
     "data": {
      "text/plain": [
       "MinTemp            495\n",
       "MaxTemp            264\n",
       "Rainfall          1139\n",
       "Evaporation      48718\n",
       "Sunshine         54314\n",
       "WindGustSpeed     7367\n",
       "WindSpeed9am      1086\n",
       "WindSpeed3pm      2094\n",
       "Humidity9am       1449\n",
       "Humidity3pm       2890\n",
       "Pressure9am      11212\n",
       "Pressure3pm      11186\n",
       "Cloud9am         43137\n",
       "Cloud3pm         45768\n",
       "Temp9am            740\n",
       "Temp3pm           2171\n",
       "Year                 0\n",
       "Month                0\n",
       "Day                  0\n",
       "dtype: int64"
      ]
     },
     "execution_count": 61,
     "metadata": {},
     "output_type": "execute_result"
    }
   ],
   "source": [
    "# check missing values in numerical variables in X_train\n",
    "\n",
    "X_train[numerical].isnull().sum()"
   ]
  },
  {
   "cell_type": "code",
   "execution_count": 62,
   "metadata": {},
   "outputs": [
    {
     "data": {
      "text/plain": [
       "MinTemp            142\n",
       "MaxTemp             58\n",
       "Rainfall           267\n",
       "Evaporation      12125\n",
       "Sunshine         13502\n",
       "WindGustSpeed     1903\n",
       "WindSpeed9am       262\n",
       "WindSpeed3pm       536\n",
       "Humidity9am        325\n",
       "Humidity3pm        720\n",
       "Pressure9am       2802\n",
       "Pressure3pm       2795\n",
       "Cloud9am         10520\n",
       "Cloud3pm         11326\n",
       "Temp9am            164\n",
       "Temp3pm            555\n",
       "Year                 0\n",
       "Month                0\n",
       "Day                  0\n",
       "dtype: int64"
      ]
     },
     "execution_count": 62,
     "metadata": {},
     "output_type": "execute_result"
    }
   ],
   "source": [
    "# check missing values in numerical variables in X_test\n",
    "\n",
    "X_test[numerical].isnull().sum()"
   ]
  },
  {
   "cell_type": "code",
   "execution_count": 63,
   "metadata": {},
   "outputs": [],
   "source": [
    "# impute missing values in X_train and X_test with respective column median in X_train\n",
    "\n",
    "for df1 in [X_train, X_test]:\n",
    "    for col in numerical:\n",
    "        col_median=X_train[col].median()\n",
    "        df1[col].fillna(col_median, inplace=True)     "
   ]
  },
  {
   "cell_type": "code",
   "execution_count": 64,
   "metadata": {},
   "outputs": [
    {
     "data": {
      "text/plain": [
       "MinTemp          0\n",
       "MaxTemp          0\n",
       "Rainfall         0\n",
       "Evaporation      0\n",
       "Sunshine         0\n",
       "WindGustSpeed    0\n",
       "WindSpeed9am     0\n",
       "WindSpeed3pm     0\n",
       "Humidity9am      0\n",
       "Humidity3pm      0\n",
       "Pressure9am      0\n",
       "Pressure3pm      0\n",
       "Cloud9am         0\n",
       "Cloud3pm         0\n",
       "Temp9am          0\n",
       "Temp3pm          0\n",
       "Year             0\n",
       "Month            0\n",
       "Day              0\n",
       "dtype: int64"
      ]
     },
     "execution_count": 64,
     "metadata": {},
     "output_type": "execute_result"
    }
   ],
   "source": [
    "# check again missing values in numerical variables in X_train\n",
    "\n",
    "X_train[numerical].isnull().sum()"
   ]
  },
  {
   "cell_type": "code",
   "execution_count": 65,
   "metadata": {},
   "outputs": [
    {
     "data": {
      "text/plain": [
       "MinTemp          0\n",
       "MaxTemp          0\n",
       "Rainfall         0\n",
       "Evaporation      0\n",
       "Sunshine         0\n",
       "WindGustSpeed    0\n",
       "WindSpeed9am     0\n",
       "WindSpeed3pm     0\n",
       "Humidity9am      0\n",
       "Humidity3pm      0\n",
       "Pressure9am      0\n",
       "Pressure3pm      0\n",
       "Cloud9am         0\n",
       "Cloud3pm         0\n",
       "Temp9am          0\n",
       "Temp3pm          0\n",
       "Year             0\n",
       "Month            0\n",
       "Day              0\n",
       "dtype: int64"
      ]
     },
     "execution_count": 65,
     "metadata": {},
     "output_type": "execute_result"
    }
   ],
   "source": [
    "# check missing values in numerical variables in X_test\n",
    "\n",
    "X_test[numerical].isnull().sum()"
   ]
  },
  {
   "cell_type": "code",
   "execution_count": 66,
   "metadata": {},
   "outputs": [],
   "source": [
    "# impute missing categorical variables with most frequent value\n",
    "\n",
    "for df2 in [X_train, X_test]:\n",
    "    df2['WindGustDir'].fillna(X_train['WindGustDir'].mode()[0], inplace=True)\n",
    "    df2['WindDir9am'].fillna(X_train['WindDir9am'].mode()[0], inplace=True)\n",
    "    df2['WindDir3pm'].fillna(X_train['WindDir3pm'].mode()[0], inplace=True)\n",
    "    df2['RainToday'].fillna(X_train['RainToday'].mode()[0], inplace=True)"
   ]
  },
  {
   "cell_type": "code",
   "execution_count": 67,
   "metadata": {},
   "outputs": [
    {
     "data": {
      "text/plain": [
       "Location       0\n",
       "WindGustDir    0\n",
       "WindDir9am     0\n",
       "WindDir3pm     0\n",
       "RainToday      0\n",
       "dtype: int64"
      ]
     },
     "execution_count": 67,
     "metadata": {},
     "output_type": "execute_result"
    }
   ],
   "source": [
    "# check missing values in categorical variables in X_train\n",
    "\n",
    "X_train[categorical].isnull().sum()"
   ]
  },
  {
   "cell_type": "code",
   "execution_count": 68,
   "metadata": {},
   "outputs": [],
   "source": [
    "def max_value(df3, variable, top):\n",
    "    return np.where(df3[variable]>top, top, df3[variable])\n",
    "\n",
    "for df3 in [X_train, X_test]:\n",
    "    df3['Rainfall'] = max_value(df3, 'Rainfall', 3.2)\n",
    "    df3['Evaporation'] = max_value(df3, 'Evaporation', 21.8)\n",
    "    df3['WindSpeed9am'] = max_value(df3, 'WindSpeed9am', 55)\n",
    "    df3['WindSpeed3pm'] = max_value(df3, 'WindSpeed3pm', 57)"
   ]
  },
  {
   "cell_type": "code",
   "execution_count": 69,
   "metadata": {},
   "outputs": [
    {
     "data": {
      "text/plain": [
       "(57.0, 57.0)"
      ]
     },
     "execution_count": 69,
     "metadata": {},
     "output_type": "execute_result"
    }
   ],
   "source": [
    "X_train.WindSpeed3pm.max(), X_test.WindSpeed3pm.max()\n"
   ]
  },
  {
   "cell_type": "code",
   "execution_count": 70,
   "metadata": {},
   "outputs": [],
   "source": [
    "# encode RainToday variable\n",
    "\n",
    "import category_encoders as ce\n",
    "\n",
    "encoder = ce.BinaryEncoder(cols=['RainToday'])\n",
    "\n",
    "X_train = encoder.fit_transform(X_train)\n",
    "\n",
    "X_test = encoder.transform(X_test)"
   ]
  },
  {
   "cell_type": "code",
   "execution_count": 71,
   "metadata": {},
   "outputs": [],
   "source": [
    "X_train = pd.concat([X_train[numerical], X_train[['RainToday_0', 'RainToday_1']],\n",
    "                     pd.get_dummies(X_train.Location), \n",
    "                     pd.get_dummies(X_train.WindGustDir),\n",
    "                     pd.get_dummies(X_train.WindDir9am),\n",
    "                     pd.get_dummies(X_train.WindDir3pm)], axis=1)"
   ]
  },
  {
   "cell_type": "code",
   "execution_count": 72,
   "metadata": {},
   "outputs": [],
   "source": [
    "X_test = pd.concat([X_test[numerical], X_test[['RainToday_0', 'RainToday_1']],\n",
    "                     pd.get_dummies(X_test.Location), \n",
    "                     pd.get_dummies(X_test.WindGustDir),\n",
    "                     pd.get_dummies(X_test.WindDir9am),\n",
    "                     pd.get_dummies(X_test.WindDir3pm)], axis=1)"
   ]
  },
  {
   "cell_type": "markdown",
   "metadata": {},
   "source": [
    "NORMALIZACIÓN"
   ]
  },
  {
   "cell_type": "code",
   "execution_count": 73,
   "metadata": {},
   "outputs": [],
   "source": [
    "cols = X_train.columns"
   ]
  },
  {
   "cell_type": "code",
   "execution_count": 74,
   "metadata": {},
   "outputs": [],
   "source": [
    "from sklearn.preprocessing import MinMaxScaler\n",
    "\n",
    "scaler = MinMaxScaler()\n",
    "\n",
    "X_train = scaler.fit_transform(X_train)\n",
    "\n",
    "X_test = scaler.transform(X_test)\n"
   ]
  },
  {
   "cell_type": "code",
   "execution_count": 75,
   "metadata": {},
   "outputs": [],
   "source": [
    "X_train = pd.DataFrame(X_train, columns=[cols])\n"
   ]
  },
  {
   "cell_type": "code",
   "execution_count": 76,
   "metadata": {},
   "outputs": [],
   "source": [
    "X_test = pd.DataFrame(X_test, columns=[cols])\n"
   ]
  },
  {
   "cell_type": "code",
   "execution_count": 77,
   "metadata": {},
   "outputs": [
    {
     "data": {
      "text/html": [
       "<div>\n",
       "<style scoped>\n",
       "    .dataframe tbody tr th:only-of-type {\n",
       "        vertical-align: middle;\n",
       "    }\n",
       "\n",
       "    .dataframe tbody tr th {\n",
       "        vertical-align: top;\n",
       "    }\n",
       "\n",
       "    .dataframe thead tr th {\n",
       "        text-align: left;\n",
       "    }\n",
       "</style>\n",
       "<table border=\"1\" class=\"dataframe\">\n",
       "  <thead>\n",
       "    <tr>\n",
       "      <th></th>\n",
       "      <th>MinTemp</th>\n",
       "      <th>MaxTemp</th>\n",
       "      <th>Rainfall</th>\n",
       "      <th>Evaporation</th>\n",
       "      <th>Sunshine</th>\n",
       "      <th>WindGustSpeed</th>\n",
       "      <th>WindSpeed9am</th>\n",
       "      <th>WindSpeed3pm</th>\n",
       "      <th>Humidity9am</th>\n",
       "      <th>Humidity3pm</th>\n",
       "      <th>...</th>\n",
       "      <th>NNW</th>\n",
       "      <th>NW</th>\n",
       "      <th>S</th>\n",
       "      <th>SE</th>\n",
       "      <th>SSE</th>\n",
       "      <th>SSW</th>\n",
       "      <th>SW</th>\n",
       "      <th>W</th>\n",
       "      <th>WNW</th>\n",
       "      <th>WSW</th>\n",
       "    </tr>\n",
       "  </thead>\n",
       "  <tbody>\n",
       "    <tr>\n",
       "      <th>0</th>\n",
       "      <td>0.608076</td>\n",
       "      <td>0.638941</td>\n",
       "      <td>0.00</td>\n",
       "      <td>0.165138</td>\n",
       "      <td>0.765517</td>\n",
       "      <td>0.209302</td>\n",
       "      <td>0.200000</td>\n",
       "      <td>0.333333</td>\n",
       "      <td>0.63</td>\n",
       "      <td>0.61</td>\n",
       "      <td>...</td>\n",
       "      <td>0.0</td>\n",
       "      <td>0.0</td>\n",
       "      <td>0.0</td>\n",
       "      <td>0.0</td>\n",
       "      <td>0.0</td>\n",
       "      <td>0.0</td>\n",
       "      <td>0.0</td>\n",
       "      <td>0.0</td>\n",
       "      <td>0.0</td>\n",
       "      <td>0.0</td>\n",
       "    </tr>\n",
       "    <tr>\n",
       "      <th>1</th>\n",
       "      <td>0.356295</td>\n",
       "      <td>0.362949</td>\n",
       "      <td>0.25</td>\n",
       "      <td>0.036697</td>\n",
       "      <td>0.586207</td>\n",
       "      <td>0.310078</td>\n",
       "      <td>0.309091</td>\n",
       "      <td>0.385965</td>\n",
       "      <td>0.80</td>\n",
       "      <td>0.55</td>\n",
       "      <td>...</td>\n",
       "      <td>0.0</td>\n",
       "      <td>0.0</td>\n",
       "      <td>1.0</td>\n",
       "      <td>0.0</td>\n",
       "      <td>0.0</td>\n",
       "      <td>0.0</td>\n",
       "      <td>0.0</td>\n",
       "      <td>0.0</td>\n",
       "      <td>0.0</td>\n",
       "      <td>0.0</td>\n",
       "    </tr>\n",
       "    <tr>\n",
       "      <th>2</th>\n",
       "      <td>0.434679</td>\n",
       "      <td>0.381853</td>\n",
       "      <td>1.00</td>\n",
       "      <td>0.220183</td>\n",
       "      <td>0.586207</td>\n",
       "      <td>0.193798</td>\n",
       "      <td>0.236364</td>\n",
       "      <td>0.157895</td>\n",
       "      <td>0.70</td>\n",
       "      <td>0.61</td>\n",
       "      <td>...</td>\n",
       "      <td>0.0</td>\n",
       "      <td>0.0</td>\n",
       "      <td>0.0</td>\n",
       "      <td>0.0</td>\n",
       "      <td>1.0</td>\n",
       "      <td>0.0</td>\n",
       "      <td>0.0</td>\n",
       "      <td>0.0</td>\n",
       "      <td>0.0</td>\n",
       "      <td>0.0</td>\n",
       "    </tr>\n",
       "    <tr>\n",
       "      <th>3</th>\n",
       "      <td>0.536817</td>\n",
       "      <td>0.722117</td>\n",
       "      <td>0.00</td>\n",
       "      <td>0.366972</td>\n",
       "      <td>0.800000</td>\n",
       "      <td>0.271318</td>\n",
       "      <td>0.163636</td>\n",
       "      <td>0.298246</td>\n",
       "      <td>0.40</td>\n",
       "      <td>0.23</td>\n",
       "      <td>...</td>\n",
       "      <td>0.0</td>\n",
       "      <td>0.0</td>\n",
       "      <td>0.0</td>\n",
       "      <td>0.0</td>\n",
       "      <td>0.0</td>\n",
       "      <td>0.0</td>\n",
       "      <td>1.0</td>\n",
       "      <td>0.0</td>\n",
       "      <td>0.0</td>\n",
       "      <td>0.0</td>\n",
       "    </tr>\n",
       "    <tr>\n",
       "      <th>4</th>\n",
       "      <td>0.356295</td>\n",
       "      <td>0.361059</td>\n",
       "      <td>1.00</td>\n",
       "      <td>0.009174</td>\n",
       "      <td>0.503448</td>\n",
       "      <td>0.170543</td>\n",
       "      <td>0.272727</td>\n",
       "      <td>0.228070</td>\n",
       "      <td>0.92</td>\n",
       "      <td>0.47</td>\n",
       "      <td>...</td>\n",
       "      <td>0.0</td>\n",
       "      <td>0.0</td>\n",
       "      <td>0.0</td>\n",
       "      <td>0.0</td>\n",
       "      <td>0.0</td>\n",
       "      <td>0.0</td>\n",
       "      <td>0.0</td>\n",
       "      <td>0.0</td>\n",
       "      <td>0.0</td>\n",
       "      <td>0.0</td>\n",
       "    </tr>\n",
       "    <tr>\n",
       "      <th>...</th>\n",
       "      <td>...</td>\n",
       "      <td>...</td>\n",
       "      <td>...</td>\n",
       "      <td>...</td>\n",
       "      <td>...</td>\n",
       "      <td>...</td>\n",
       "      <td>...</td>\n",
       "      <td>...</td>\n",
       "      <td>...</td>\n",
       "      <td>...</td>\n",
       "      <td>...</td>\n",
       "      <td>...</td>\n",
       "      <td>...</td>\n",
       "      <td>...</td>\n",
       "      <td>...</td>\n",
       "      <td>...</td>\n",
       "      <td>...</td>\n",
       "      <td>...</td>\n",
       "      <td>...</td>\n",
       "      <td>...</td>\n",
       "      <td>...</td>\n",
       "    </tr>\n",
       "    <tr>\n",
       "      <th>28434</th>\n",
       "      <td>0.581948</td>\n",
       "      <td>0.540643</td>\n",
       "      <td>0.00</td>\n",
       "      <td>0.339450</td>\n",
       "      <td>0.862069</td>\n",
       "      <td>0.240310</td>\n",
       "      <td>0.436364</td>\n",
       "      <td>0.456140</td>\n",
       "      <td>0.57</td>\n",
       "      <td>0.40</td>\n",
       "      <td>...</td>\n",
       "      <td>0.0</td>\n",
       "      <td>0.0</td>\n",
       "      <td>0.0</td>\n",
       "      <td>1.0</td>\n",
       "      <td>0.0</td>\n",
       "      <td>0.0</td>\n",
       "      <td>0.0</td>\n",
       "      <td>0.0</td>\n",
       "      <td>0.0</td>\n",
       "      <td>0.0</td>\n",
       "    </tr>\n",
       "    <tr>\n",
       "      <th>28435</th>\n",
       "      <td>0.603325</td>\n",
       "      <td>0.559546</td>\n",
       "      <td>0.25</td>\n",
       "      <td>0.220183</td>\n",
       "      <td>0.586207</td>\n",
       "      <td>0.286822</td>\n",
       "      <td>0.363636</td>\n",
       "      <td>0.298246</td>\n",
       "      <td>0.52</td>\n",
       "      <td>0.38</td>\n",
       "      <td>...</td>\n",
       "      <td>0.0</td>\n",
       "      <td>1.0</td>\n",
       "      <td>0.0</td>\n",
       "      <td>0.0</td>\n",
       "      <td>0.0</td>\n",
       "      <td>0.0</td>\n",
       "      <td>0.0</td>\n",
       "      <td>0.0</td>\n",
       "      <td>0.0</td>\n",
       "      <td>0.0</td>\n",
       "    </tr>\n",
       "    <tr>\n",
       "      <th>28436</th>\n",
       "      <td>0.365796</td>\n",
       "      <td>0.536862</td>\n",
       "      <td>0.00</td>\n",
       "      <td>0.220183</td>\n",
       "      <td>0.586207</td>\n",
       "      <td>0.193798</td>\n",
       "      <td>0.036364</td>\n",
       "      <td>0.298246</td>\n",
       "      <td>0.57</td>\n",
       "      <td>0.36</td>\n",
       "      <td>...</td>\n",
       "      <td>1.0</td>\n",
       "      <td>0.0</td>\n",
       "      <td>0.0</td>\n",
       "      <td>0.0</td>\n",
       "      <td>0.0</td>\n",
       "      <td>0.0</td>\n",
       "      <td>0.0</td>\n",
       "      <td>0.0</td>\n",
       "      <td>0.0</td>\n",
       "      <td>0.0</td>\n",
       "    </tr>\n",
       "    <tr>\n",
       "      <th>28437</th>\n",
       "      <td>0.679335</td>\n",
       "      <td>0.610586</td>\n",
       "      <td>0.00</td>\n",
       "      <td>0.220183</td>\n",
       "      <td>0.586207</td>\n",
       "      <td>0.209302</td>\n",
       "      <td>0.309091</td>\n",
       "      <td>0.333333</td>\n",
       "      <td>0.90</td>\n",
       "      <td>0.76</td>\n",
       "      <td>...</td>\n",
       "      <td>0.0</td>\n",
       "      <td>0.0</td>\n",
       "      <td>0.0</td>\n",
       "      <td>0.0</td>\n",
       "      <td>0.0</td>\n",
       "      <td>0.0</td>\n",
       "      <td>0.0</td>\n",
       "      <td>0.0</td>\n",
       "      <td>0.0</td>\n",
       "      <td>0.0</td>\n",
       "    </tr>\n",
       "    <tr>\n",
       "      <th>28438</th>\n",
       "      <td>0.410926</td>\n",
       "      <td>0.355388</td>\n",
       "      <td>1.00</td>\n",
       "      <td>0.055046</td>\n",
       "      <td>0.103448</td>\n",
       "      <td>0.255814</td>\n",
       "      <td>0.200000</td>\n",
       "      <td>0.333333</td>\n",
       "      <td>0.91</td>\n",
       "      <td>0.78</td>\n",
       "      <td>...</td>\n",
       "      <td>0.0</td>\n",
       "      <td>0.0</td>\n",
       "      <td>0.0</td>\n",
       "      <td>0.0</td>\n",
       "      <td>0.0</td>\n",
       "      <td>0.0</td>\n",
       "      <td>0.0</td>\n",
       "      <td>0.0</td>\n",
       "      <td>0.0</td>\n",
       "      <td>1.0</td>\n",
       "    </tr>\n",
       "  </tbody>\n",
       "</table>\n",
       "<p>28439 rows × 118 columns</p>\n",
       "</div>"
      ],
      "text/plain": [
       "        MinTemp   MaxTemp Rainfall Evaporation  Sunshine WindGustSpeed  \\\n",
       "0      0.608076  0.638941     0.00    0.165138  0.765517      0.209302   \n",
       "1      0.356295  0.362949     0.25    0.036697  0.586207      0.310078   \n",
       "2      0.434679  0.381853     1.00    0.220183  0.586207      0.193798   \n",
       "3      0.536817  0.722117     0.00    0.366972  0.800000      0.271318   \n",
       "4      0.356295  0.361059     1.00    0.009174  0.503448      0.170543   \n",
       "...         ...       ...      ...         ...       ...           ...   \n",
       "28434  0.581948  0.540643     0.00    0.339450  0.862069      0.240310   \n",
       "28435  0.603325  0.559546     0.25    0.220183  0.586207      0.286822   \n",
       "28436  0.365796  0.536862     0.00    0.220183  0.586207      0.193798   \n",
       "28437  0.679335  0.610586     0.00    0.220183  0.586207      0.209302   \n",
       "28438  0.410926  0.355388     1.00    0.055046  0.103448      0.255814   \n",
       "\n",
       "      WindSpeed9am WindSpeed3pm Humidity9am Humidity3pm  ...  NNW   NW    S  \\\n",
       "0         0.200000     0.333333        0.63        0.61  ...  0.0  0.0  0.0   \n",
       "1         0.309091     0.385965        0.80        0.55  ...  0.0  0.0  1.0   \n",
       "2         0.236364     0.157895        0.70        0.61  ...  0.0  0.0  0.0   \n",
       "3         0.163636     0.298246        0.40        0.23  ...  0.0  0.0  0.0   \n",
       "4         0.272727     0.228070        0.92        0.47  ...  0.0  0.0  0.0   \n",
       "...            ...          ...         ...         ...  ...  ...  ...  ...   \n",
       "28434     0.436364     0.456140        0.57        0.40  ...  0.0  0.0  0.0   \n",
       "28435     0.363636     0.298246        0.52        0.38  ...  0.0  1.0  0.0   \n",
       "28436     0.036364     0.298246        0.57        0.36  ...  1.0  0.0  0.0   \n",
       "28437     0.309091     0.333333        0.90        0.76  ...  0.0  0.0  0.0   \n",
       "28438     0.200000     0.333333        0.91        0.78  ...  0.0  0.0  0.0   \n",
       "\n",
       "        SE  SSE  SSW   SW    W  WNW  WSW  \n",
       "0      0.0  0.0  0.0  0.0  0.0  0.0  0.0  \n",
       "1      0.0  0.0  0.0  0.0  0.0  0.0  0.0  \n",
       "2      0.0  1.0  0.0  0.0  0.0  0.0  0.0  \n",
       "3      0.0  0.0  0.0  1.0  0.0  0.0  0.0  \n",
       "4      0.0  0.0  0.0  0.0  0.0  0.0  0.0  \n",
       "...    ...  ...  ...  ...  ...  ...  ...  \n",
       "28434  1.0  0.0  0.0  0.0  0.0  0.0  0.0  \n",
       "28435  0.0  0.0  0.0  0.0  0.0  0.0  0.0  \n",
       "28436  0.0  0.0  0.0  0.0  0.0  0.0  0.0  \n",
       "28437  0.0  0.0  0.0  0.0  0.0  0.0  0.0  \n",
       "28438  0.0  0.0  0.0  0.0  0.0  0.0  1.0  \n",
       "\n",
       "[28439 rows x 118 columns]"
      ]
     },
     "execution_count": 77,
     "metadata": {},
     "output_type": "execute_result"
    }
   ],
   "source": [
    "X_test"
   ]
  },
  {
   "cell_type": "markdown",
   "metadata": {},
   "source": [
    "MODELO"
   ]
  },
  {
   "cell_type": "code",
   "execution_count": 78,
   "metadata": {},
   "outputs": [
    {
     "name": "stderr",
     "output_type": "stream",
     "text": [
      "[codecarbon INFO @ 21:10:12] Energy consumed for RAM : 0.000013 kWh. RAM Power : 3.0 W\n",
      "[codecarbon INFO @ 21:10:12] Energy consumed for all CPUs : 0.000021 kWh. Total CPU Power : 5.0 W\n",
      "[codecarbon INFO @ 21:10:12] 0.000033 kWh of electricity used since the beginning.\n",
      "[codecarbon INFO @ 21:10:27] Energy consumed for RAM : 0.000025 kWh. RAM Power : 3.0 W\n",
      "[codecarbon INFO @ 21:10:27] Energy consumed for all CPUs : 0.000042 kWh. Total CPU Power : 5.0 W\n",
      "[codecarbon INFO @ 21:10:27] 0.000067 kWh of electricity used since the beginning.\n",
      "[codecarbon INFO @ 21:10:42] Energy consumed for RAM : 0.000037 kWh. RAM Power : 3.0 W\n",
      "[codecarbon INFO @ 21:10:42] Energy consumed for all CPUs : 0.000063 kWh. Total CPU Power : 5.0 W\n",
      "[codecarbon INFO @ 21:10:42] 0.000100 kWh of electricity used since the beginning.\n",
      "[codecarbon INFO @ 21:10:57] Energy consumed for RAM : 0.000050 kWh. RAM Power : 3.0 W\n",
      "[codecarbon INFO @ 21:10:57] Energy consumed for all CPUs : 0.000083 kWh. Total CPU Power : 5.0 W\n",
      "[codecarbon INFO @ 21:10:57] 0.000133 kWh of electricity used since the beginning.\n",
      "[codecarbon INFO @ 21:11:12] Energy consumed for RAM : 0.000062 kWh. RAM Power : 3.0 W\n",
      "[codecarbon INFO @ 21:11:12] Energy consumed for all CPUs : 0.000104 kWh. Total CPU Power : 5.0 W\n",
      "[codecarbon INFO @ 21:11:12] 0.000167 kWh of electricity used since the beginning.\n",
      "[codecarbon INFO @ 21:11:27] Energy consumed for RAM : 0.000075 kWh. RAM Power : 3.0 W\n",
      "[codecarbon INFO @ 21:11:27] Energy consumed for all CPUs : 0.000125 kWh. Total CPU Power : 5.0 W\n",
      "[codecarbon INFO @ 21:11:27] 0.000200 kWh of electricity used since the beginning.\n",
      "[codecarbon INFO @ 21:11:42] Energy consumed for RAM : 0.000087 kWh. RAM Power : 3.0 W\n",
      "[codecarbon INFO @ 21:11:42] Energy consumed for all CPUs : 0.000146 kWh. Total CPU Power : 5.0 W\n",
      "[codecarbon INFO @ 21:11:42] 0.000233 kWh of electricity used since the beginning.\n",
      "[codecarbon INFO @ 21:11:57] Energy consumed for RAM : 0.000100 kWh. RAM Power : 3.0 W\n",
      "[codecarbon INFO @ 21:11:57] Energy consumed for all CPUs : 0.000167 kWh. Total CPU Power : 5.0 W\n",
      "[codecarbon INFO @ 21:11:57] 0.000267 kWh of electricity used since the beginning.\n",
      "[codecarbon INFO @ 21:11:57] 0.000456 g.CO2eq/s mean an estimation of 14.382785333080372 kg.CO2eq/year\n",
      "[codecarbon INFO @ 21:12:12] Energy consumed for RAM : 0.000113 kWh. RAM Power : 3.0 W\n",
      "[codecarbon INFO @ 21:12:12] Energy consumed for all CPUs : 0.000188 kWh. Total CPU Power : 5.0 W\n",
      "[codecarbon INFO @ 21:12:12] 0.000300 kWh of electricity used since the beginning.\n",
      "[codecarbon INFO @ 21:12:27] Energy consumed for RAM : 0.000125 kWh. RAM Power : 3.0 W\n",
      "[codecarbon INFO @ 21:12:27] Energy consumed for all CPUs : 0.000208 kWh. Total CPU Power : 5.0 W\n",
      "[codecarbon INFO @ 21:12:27] 0.000333 kWh of electricity used since the beginning.\n",
      "[codecarbon INFO @ 21:12:42] Energy consumed for RAM : 0.000138 kWh. RAM Power : 3.0 W\n",
      "[codecarbon INFO @ 21:12:42] Energy consumed for all CPUs : 0.000229 kWh. Total CPU Power : 5.0 W\n",
      "[codecarbon INFO @ 21:12:42] 0.000367 kWh of electricity used since the beginning.\n",
      "[codecarbon INFO @ 21:12:57] Energy consumed for RAM : 0.000150 kWh. RAM Power : 3.0 W\n",
      "[codecarbon INFO @ 21:12:57] Energy consumed for all CPUs : 0.000250 kWh. Total CPU Power : 5.0 W\n",
      "[codecarbon INFO @ 21:12:57] 0.000400 kWh of electricity used since the beginning.\n",
      "[codecarbon INFO @ 21:13:12] Energy consumed for RAM : 0.000163 kWh. RAM Power : 3.0 W\n",
      "[codecarbon INFO @ 21:13:12] Energy consumed for all CPUs : 0.000271 kWh. Total CPU Power : 5.0 W\n",
      "[codecarbon INFO @ 21:13:12] 0.000433 kWh of electricity used since the beginning.\n",
      "[codecarbon INFO @ 21:13:27] Energy consumed for RAM : 0.000175 kWh. RAM Power : 3.0 W\n",
      "[codecarbon INFO @ 21:13:27] Energy consumed for all CPUs : 0.000292 kWh. Total CPU Power : 5.0 W\n",
      "[codecarbon INFO @ 21:13:27] 0.000467 kWh of electricity used since the beginning.\n",
      "[codecarbon INFO @ 21:13:42] Energy consumed for RAM : 0.000188 kWh. RAM Power : 3.0 W\n",
      "[codecarbon INFO @ 21:13:42] Energy consumed for all CPUs : 0.000313 kWh. Total CPU Power : 5.0 W\n",
      "[codecarbon INFO @ 21:13:42] 0.000500 kWh of electricity used since the beginning.\n",
      "[codecarbon INFO @ 21:13:57] Energy consumed for RAM : 0.000200 kWh. RAM Power : 3.0 W\n",
      "[codecarbon INFO @ 21:13:57] Energy consumed for all CPUs : 0.000333 kWh. Total CPU Power : 5.0 W\n",
      "[codecarbon INFO @ 21:13:57] 0.000533 kWh of electricity used since the beginning.\n",
      "[codecarbon INFO @ 21:13:57] 0.000456 g.CO2eq/s mean an estimation of 14.38412600985741 kg.CO2eq/year\n",
      "[codecarbon INFO @ 21:14:12] Energy consumed for RAM : 0.000213 kWh. RAM Power : 3.0 W\n",
      "[codecarbon INFO @ 21:14:12] Energy consumed for all CPUs : 0.000354 kWh. Total CPU Power : 5.0 W\n",
      "[codecarbon INFO @ 21:14:12] 0.000567 kWh of electricity used since the beginning.\n",
      "[codecarbon INFO @ 21:14:27] Energy consumed for RAM : 0.000225 kWh. RAM Power : 3.0 W\n",
      "[codecarbon INFO @ 21:14:27] Energy consumed for all CPUs : 0.000375 kWh. Total CPU Power : 5.0 W\n",
      "[codecarbon INFO @ 21:14:27] 0.000600 kWh of electricity used since the beginning.\n",
      "[codecarbon INFO @ 21:14:42] Energy consumed for RAM : 0.000238 kWh. RAM Power : 3.0 W\n",
      "[codecarbon INFO @ 21:14:42] Energy consumed for all CPUs : 0.000396 kWh. Total CPU Power : 5.0 W\n",
      "[codecarbon INFO @ 21:14:42] 0.000633 kWh of electricity used since the beginning.\n",
      "[codecarbon INFO @ 21:14:57] Energy consumed for RAM : 0.000250 kWh. RAM Power : 3.0 W\n",
      "[codecarbon INFO @ 21:14:57] Energy consumed for all CPUs : 0.000417 kWh. Total CPU Power : 5.0 W\n",
      "[codecarbon INFO @ 21:14:57] 0.000667 kWh of electricity used since the beginning.\n",
      "[codecarbon INFO @ 21:15:12] Energy consumed for RAM : 0.000263 kWh. RAM Power : 3.0 W\n",
      "[codecarbon INFO @ 21:15:12] Energy consumed for all CPUs : 0.000438 kWh. Total CPU Power : 5.0 W\n",
      "[codecarbon INFO @ 21:15:12] 0.000700 kWh of electricity used since the beginning.\n",
      "[codecarbon INFO @ 21:15:27] Energy consumed for RAM : 0.000275 kWh. RAM Power : 3.0 W\n",
      "[codecarbon INFO @ 21:15:27] Energy consumed for all CPUs : 0.000458 kWh. Total CPU Power : 5.0 W\n",
      "[codecarbon INFO @ 21:15:27] 0.000733 kWh of electricity used since the beginning.\n",
      "[codecarbon INFO @ 21:15:42] Energy consumed for RAM : 0.000288 kWh. RAM Power : 3.0 W\n",
      "[codecarbon INFO @ 21:15:42] Energy consumed for all CPUs : 0.000479 kWh. Total CPU Power : 5.0 W\n",
      "[codecarbon INFO @ 21:15:42] 0.000767 kWh of electricity used since the beginning.\n",
      "[codecarbon INFO @ 21:15:58] Energy consumed for RAM : 0.000300 kWh. RAM Power : 3.0 W\n",
      "[codecarbon INFO @ 21:15:58] Energy consumed for all CPUs : 0.000500 kWh. Total CPU Power : 5.0 W\n",
      "[codecarbon INFO @ 21:15:58] 0.000800 kWh of electricity used since the beginning.\n",
      "[codecarbon INFO @ 21:15:58] 0.000456 g.CO2eq/s mean an estimation of 14.384164910609211 kg.CO2eq/year\n",
      "[codecarbon INFO @ 21:16:13] Energy consumed for RAM : 0.000313 kWh. RAM Power : 3.0 W\n",
      "[codecarbon INFO @ 21:16:13] Energy consumed for all CPUs : 0.000521 kWh. Total CPU Power : 5.0 W\n",
      "[codecarbon INFO @ 21:16:13] 0.000834 kWh of electricity used since the beginning.\n",
      "[codecarbon INFO @ 21:16:28] Energy consumed for RAM : 0.000325 kWh. RAM Power : 3.0 W\n",
      "[codecarbon INFO @ 21:16:28] Energy consumed for all CPUs : 0.000542 kWh. Total CPU Power : 5.0 W\n",
      "[codecarbon INFO @ 21:16:28] 0.000867 kWh of electricity used since the beginning.\n",
      "[codecarbon INFO @ 21:16:43] Energy consumed for RAM : 0.000338 kWh. RAM Power : 3.0 W\n",
      "[codecarbon INFO @ 21:16:43] Energy consumed for all CPUs : 0.000563 kWh. Total CPU Power : 5.0 W\n",
      "[codecarbon INFO @ 21:16:43] 0.000900 kWh of electricity used since the beginning.\n",
      "[codecarbon INFO @ 21:16:58] Energy consumed for RAM : 0.000350 kWh. RAM Power : 3.0 W\n",
      "[codecarbon INFO @ 21:16:58] Energy consumed for all CPUs : 0.000584 kWh. Total CPU Power : 5.0 W\n",
      "[codecarbon INFO @ 21:16:58] 0.000934 kWh of electricity used since the beginning.\n",
      "[codecarbon INFO @ 21:17:13] Energy consumed for RAM : 0.000363 kWh. RAM Power : 3.0 W\n",
      "[codecarbon INFO @ 21:17:13] Energy consumed for all CPUs : 0.000604 kWh. Total CPU Power : 5.0 W\n",
      "[codecarbon INFO @ 21:17:13] 0.000967 kWh of electricity used since the beginning.\n",
      "[codecarbon INFO @ 21:17:28] Energy consumed for RAM : 0.000375 kWh. RAM Power : 3.0 W\n",
      "[codecarbon INFO @ 21:17:28] Energy consumed for all CPUs : 0.000625 kWh. Total CPU Power : 5.0 W\n",
      "[codecarbon INFO @ 21:17:28] 0.001000 kWh of electricity used since the beginning.\n",
      "[codecarbon INFO @ 21:17:43] Energy consumed for RAM : 0.000388 kWh. RAM Power : 3.0 W\n",
      "[codecarbon INFO @ 21:17:43] Energy consumed for all CPUs : 0.000646 kWh. Total CPU Power : 5.0 W\n",
      "[codecarbon INFO @ 21:17:43] 0.001034 kWh of electricity used since the beginning.\n",
      "[codecarbon INFO @ 21:17:58] Energy consumed for RAM : 0.000400 kWh. RAM Power : 3.0 W\n",
      "[codecarbon INFO @ 21:17:58] Energy consumed for all CPUs : 0.000667 kWh. Total CPU Power : 5.0 W\n",
      "[codecarbon INFO @ 21:17:58] 0.001067 kWh of electricity used since the beginning.\n",
      "[codecarbon INFO @ 21:17:58] 0.000456 g.CO2eq/s mean an estimation of 14.384378853107586 kg.CO2eq/year\n",
      "[codecarbon INFO @ 21:18:13] Energy consumed for RAM : 0.000413 kWh. RAM Power : 3.0 W\n",
      "[codecarbon INFO @ 21:18:13] Energy consumed for all CPUs : 0.000688 kWh. Total CPU Power : 5.0 W\n",
      "[codecarbon INFO @ 21:18:13] 0.001100 kWh of electricity used since the beginning.\n",
      "[codecarbon INFO @ 21:18:28] Energy consumed for RAM : 0.000425 kWh. RAM Power : 3.0 W\n",
      "[codecarbon INFO @ 21:18:28] Energy consumed for all CPUs : 0.000709 kWh. Total CPU Power : 5.0 W\n",
      "[codecarbon INFO @ 21:18:28] 0.001134 kWh of electricity used since the beginning.\n",
      "[codecarbon INFO @ 21:18:43] Energy consumed for RAM : 0.000438 kWh. RAM Power : 3.0 W\n",
      "[codecarbon INFO @ 21:18:43] Energy consumed for all CPUs : 0.000729 kWh. Total CPU Power : 5.0 W\n",
      "[codecarbon INFO @ 21:18:43] 0.001167 kWh of electricity used since the beginning.\n",
      "[codecarbon INFO @ 21:18:58] Energy consumed for RAM : 0.000450 kWh. RAM Power : 3.0 W\n",
      "[codecarbon INFO @ 21:18:58] Energy consumed for all CPUs : 0.000750 kWh. Total CPU Power : 5.0 W\n",
      "[codecarbon INFO @ 21:18:58] 0.001200 kWh of electricity used since the beginning.\n",
      "[codecarbon INFO @ 21:19:13] Energy consumed for RAM : 0.000463 kWh. RAM Power : 3.0 W\n",
      "[codecarbon INFO @ 21:19:13] Energy consumed for all CPUs : 0.000771 kWh. Total CPU Power : 5.0 W\n",
      "[codecarbon INFO @ 21:19:13] 0.001234 kWh of electricity used since the beginning.\n",
      "[codecarbon INFO @ 21:19:28] Energy consumed for RAM : 0.000475 kWh. RAM Power : 3.0 W\n",
      "[codecarbon INFO @ 21:19:28] Energy consumed for all CPUs : 0.000792 kWh. Total CPU Power : 5.0 W\n",
      "[codecarbon INFO @ 21:19:28] 0.001267 kWh of electricity used since the beginning.\n",
      "[codecarbon INFO @ 21:19:43] Energy consumed for RAM : 0.000488 kWh. RAM Power : 3.0 W\n",
      "[codecarbon INFO @ 21:19:43] Energy consumed for all CPUs : 0.000813 kWh. Total CPU Power : 5.0 W\n",
      "[codecarbon INFO @ 21:19:43] 0.001300 kWh of electricity used since the beginning.\n",
      "[codecarbon INFO @ 21:19:58] Energy consumed for RAM : 0.000500 kWh. RAM Power : 3.0 W\n",
      "[codecarbon INFO @ 21:19:58] Energy consumed for all CPUs : 0.000834 kWh. Total CPU Power : 5.0 W\n",
      "[codecarbon INFO @ 21:19:58] 0.001334 kWh of electricity used since the beginning.\n",
      "[codecarbon INFO @ 21:19:58] 0.000456 g.CO2eq/s mean an estimation of 14.383879935298571 kg.CO2eq/year\n",
      "[codecarbon INFO @ 21:20:13] Energy consumed for RAM : 0.000513 kWh. RAM Power : 3.0 W\n",
      "[codecarbon INFO @ 21:20:13] Energy consumed for all CPUs : 0.000855 kWh. Total CPU Power : 5.0 W\n",
      "[codecarbon INFO @ 21:20:13] 0.001367 kWh of electricity used since the beginning.\n",
      "[codecarbon INFO @ 21:20:28] Energy consumed for RAM : 0.000525 kWh. RAM Power : 3.0 W\n",
      "[codecarbon INFO @ 21:20:28] Energy consumed for all CPUs : 0.000875 kWh. Total CPU Power : 5.0 W\n",
      "[codecarbon INFO @ 21:20:28] 0.001400 kWh of electricity used since the beginning.\n",
      "[codecarbon INFO @ 21:20:43] Energy consumed for RAM : 0.000538 kWh. RAM Power : 3.0 W\n",
      "[codecarbon INFO @ 21:20:43] Energy consumed for all CPUs : 0.000896 kWh. Total CPU Power : 5.0 W\n",
      "[codecarbon INFO @ 21:20:43] 0.001434 kWh of electricity used since the beginning.\n",
      "[codecarbon INFO @ 21:20:58] Energy consumed for RAM : 0.000550 kWh. RAM Power : 3.0 W\n",
      "[codecarbon INFO @ 21:20:58] Energy consumed for all CPUs : 0.000917 kWh. Total CPU Power : 5.0 W\n",
      "[codecarbon INFO @ 21:20:58] 0.001467 kWh of electricity used since the beginning.\n",
      "[codecarbon INFO @ 21:21:13] Energy consumed for RAM : 0.000563 kWh. RAM Power : 3.0 W\n",
      "[codecarbon INFO @ 21:21:13] Energy consumed for all CPUs : 0.000938 kWh. Total CPU Power : 5.0 W\n",
      "[codecarbon INFO @ 21:21:13] 0.001501 kWh of electricity used since the beginning.\n",
      "[codecarbon INFO @ 21:21:28] Energy consumed for RAM : 0.000575 kWh. RAM Power : 3.0 W\n",
      "[codecarbon INFO @ 21:21:28] Energy consumed for all CPUs : 0.000959 kWh. Total CPU Power : 5.0 W\n",
      "[codecarbon INFO @ 21:21:28] 0.001534 kWh of electricity used since the beginning.\n",
      "[codecarbon INFO @ 21:21:43] Energy consumed for RAM : 0.000588 kWh. RAM Power : 3.0 W\n",
      "[codecarbon INFO @ 21:21:43] Energy consumed for all CPUs : 0.000980 kWh. Total CPU Power : 5.0 W\n",
      "[codecarbon INFO @ 21:21:43] 0.001567 kWh of electricity used since the beginning.\n",
      "[codecarbon INFO @ 21:21:58] Energy consumed for RAM : 0.000600 kWh. RAM Power : 3.0 W\n",
      "[codecarbon INFO @ 21:21:58] Energy consumed for all CPUs : 0.001000 kWh. Total CPU Power : 5.0 W\n",
      "[codecarbon INFO @ 21:21:58] 0.001601 kWh of electricity used since the beginning.\n",
      "[codecarbon INFO @ 21:21:58] 0.000456 g.CO2eq/s mean an estimation of 14.384061182117414 kg.CO2eq/year\n",
      "[codecarbon INFO @ 21:22:13] Energy consumed for RAM : 0.000613 kWh. RAM Power : 3.0 W\n",
      "[codecarbon INFO @ 21:22:13] Energy consumed for all CPUs : 0.001021 kWh. Total CPU Power : 5.0 W\n",
      "[codecarbon INFO @ 21:22:13] 0.001634 kWh of electricity used since the beginning.\n",
      "[codecarbon INFO @ 21:22:28] Energy consumed for RAM : 0.000625 kWh. RAM Power : 3.0 W\n",
      "[codecarbon INFO @ 21:22:28] Energy consumed for all CPUs : 0.001042 kWh. Total CPU Power : 5.0 W\n",
      "[codecarbon INFO @ 21:22:28] 0.001667 kWh of electricity used since the beginning.\n",
      "[codecarbon INFO @ 21:22:43] Energy consumed for RAM : 0.000638 kWh. RAM Power : 3.0 W\n",
      "[codecarbon INFO @ 21:22:43] Energy consumed for all CPUs : 0.001063 kWh. Total CPU Power : 5.0 W\n",
      "[codecarbon INFO @ 21:22:43] 0.001701 kWh of electricity used since the beginning.\n",
      "[codecarbon INFO @ 21:22:58] Energy consumed for RAM : 0.000650 kWh. RAM Power : 3.0 W\n",
      "[codecarbon INFO @ 21:22:58] Energy consumed for all CPUs : 0.001084 kWh. Total CPU Power : 5.0 W\n",
      "[codecarbon INFO @ 21:22:58] 0.001734 kWh of electricity used since the beginning.\n",
      "[codecarbon INFO @ 21:23:13] Energy consumed for RAM : 0.000663 kWh. RAM Power : 3.0 W\n",
      "[codecarbon INFO @ 21:23:13] Energy consumed for all CPUs : 0.001105 kWh. Total CPU Power : 5.0 W\n",
      "[codecarbon INFO @ 21:23:13] 0.001767 kWh of electricity used since the beginning.\n",
      "[codecarbon INFO @ 21:23:28] Energy consumed for RAM : 0.000675 kWh. RAM Power : 3.0 W\n",
      "[codecarbon INFO @ 21:23:28] Energy consumed for all CPUs : 0.001125 kWh. Total CPU Power : 5.0 W\n",
      "[codecarbon INFO @ 21:23:28] 0.001801 kWh of electricity used since the beginning.\n",
      "[codecarbon INFO @ 21:23:43] Energy consumed for RAM : 0.000688 kWh. RAM Power : 3.0 W\n",
      "[codecarbon INFO @ 21:23:43] Energy consumed for all CPUs : 0.001146 kWh. Total CPU Power : 5.0 W\n",
      "[codecarbon INFO @ 21:23:43] 0.001834 kWh of electricity used since the beginning.\n",
      "[codecarbon INFO @ 21:23:58] Energy consumed for RAM : 0.000700 kWh. RAM Power : 3.0 W\n",
      "[codecarbon INFO @ 21:23:58] Energy consumed for all CPUs : 0.001167 kWh. Total CPU Power : 5.0 W\n",
      "[codecarbon INFO @ 21:23:58] 0.001867 kWh of electricity used since the beginning.\n",
      "[codecarbon INFO @ 21:23:58] 0.000456 g.CO2eq/s mean an estimation of 14.38417497101151 kg.CO2eq/year\n",
      "[codecarbon INFO @ 21:24:13] Energy consumed for RAM : 0.000713 kWh. RAM Power : 3.0 W\n",
      "[codecarbon INFO @ 21:24:13] Energy consumed for all CPUs : 0.001188 kWh. Total CPU Power : 5.0 W\n",
      "[codecarbon INFO @ 21:24:13] 0.001901 kWh of electricity used since the beginning.\n",
      "[codecarbon INFO @ 21:24:28] Energy consumed for RAM : 0.000725 kWh. RAM Power : 3.0 W\n",
      "[codecarbon INFO @ 21:24:28] Energy consumed for all CPUs : 0.001209 kWh. Total CPU Power : 5.0 W\n",
      "[codecarbon INFO @ 21:24:28] 0.001934 kWh of electricity used since the beginning.\n",
      "[codecarbon INFO @ 21:24:43] Energy consumed for RAM : 0.000738 kWh. RAM Power : 3.0 W\n",
      "[codecarbon INFO @ 21:24:43] Energy consumed for all CPUs : 0.001230 kWh. Total CPU Power : 5.0 W\n",
      "[codecarbon INFO @ 21:24:43] 0.001967 kWh of electricity used since the beginning.\n",
      "[codecarbon INFO @ 21:24:58] Energy consumed for RAM : 0.000750 kWh. RAM Power : 3.0 W\n",
      "[codecarbon INFO @ 21:24:58] Energy consumed for all CPUs : 0.001250 kWh. Total CPU Power : 5.0 W\n",
      "[codecarbon INFO @ 21:24:58] 0.002001 kWh of electricity used since the beginning.\n",
      "[codecarbon INFO @ 21:25:13] Energy consumed for RAM : 0.000763 kWh. RAM Power : 3.0 W\n",
      "[codecarbon INFO @ 21:25:13] Energy consumed for all CPUs : 0.001271 kWh. Total CPU Power : 5.0 W\n",
      "[codecarbon INFO @ 21:25:13] 0.002034 kWh of electricity used since the beginning.\n"
     ]
    },
    {
     "name": "stdout",
     "output_type": "stream",
     "text": [
      "Model accuracy score with default hyperparameters: 0.8591\n"
     ]
    }
   ],
   "source": [
    "#We now have X_train dataset ready to be fed into the Logistic Regression classifier\n",
    "#Let's run SVM with default hyperparameters\n",
    "#Default hyperparameter means C=1.0, kernel=rbf and gamma=auto among other parameters.\n",
    "\n",
    "# import SVC classifier\n",
    "from sklearn.svm import SVC\n",
    "\n",
    "\n",
    "# import metrics to compute accuracy\n",
    "from sklearn.metrics import accuracy_score\n",
    "\n",
    "\n",
    "# instantiate classifier with default hyperparameters\n",
    "svc=SVC() \n",
    "\n",
    "\n",
    "# fit classifier to training set\n",
    "svc.fit(X_train,y_train)\n",
    "\n",
    "\n",
    "# make predictions on test set\n",
    "y_pred=svc.predict(X_test)\n",
    "\n",
    "\n",
    "# compute and print accuracy score\n",
    "print('Model accuracy score with default hyperparameters: {0:0.4f}'. format(accuracy_score(y_test, y_pred)))"
   ]
  },
  {
   "cell_type": "markdown",
   "metadata": {},
   "source": [
    "Not new value of hyperparameter C because the code took more than 1 day to run"
   ]
  },
  {
   "cell_type": "markdown",
   "metadata": {},
   "source": [
    "Let's keep original value for c. c=1"
   ]
  },
  {
   "cell_type": "markdown",
   "metadata": {},
   "source": [
    "Let's try a lineal kernel"
   ]
  },
  {
   "cell_type": "code",
   "execution_count": 79,
   "metadata": {},
   "outputs": [
    {
     "name": "stderr",
     "output_type": "stream",
     "text": [
      "[codecarbon INFO @ 21:25:28] Energy consumed for RAM : 0.000775 kWh. RAM Power : 3.0 W\n",
      "[codecarbon INFO @ 21:25:28] Energy consumed for all CPUs : 0.001292 kWh. Total CPU Power : 5.0 W\n",
      "[codecarbon INFO @ 21:25:28] 0.002067 kWh of electricity used since the beginning.\n",
      "[codecarbon INFO @ 21:25:43] Energy consumed for RAM : 0.000788 kWh. RAM Power : 3.0 W\n",
      "[codecarbon INFO @ 21:25:43] Energy consumed for all CPUs : 0.001313 kWh. Total CPU Power : 5.0 W\n",
      "[codecarbon INFO @ 21:25:43] 0.002101 kWh of electricity used since the beginning.\n",
      "[codecarbon INFO @ 21:25:58] Energy consumed for RAM : 0.000800 kWh. RAM Power : 3.0 W\n",
      "[codecarbon INFO @ 21:25:58] Energy consumed for all CPUs : 0.001334 kWh. Total CPU Power : 5.0 W\n",
      "[codecarbon INFO @ 21:25:58] 0.002134 kWh of electricity used since the beginning.\n",
      "[codecarbon INFO @ 21:25:58] 0.000456 g.CO2eq/s mean an estimation of 14.384038888552139 kg.CO2eq/year\n",
      "[codecarbon INFO @ 21:26:13] Energy consumed for RAM : 0.000813 kWh. RAM Power : 3.0 W\n",
      "[codecarbon INFO @ 21:26:13] Energy consumed for all CPUs : 0.001355 kWh. Total CPU Power : 5.0 W\n",
      "[codecarbon INFO @ 21:26:13] 0.002167 kWh of electricity used since the beginning.\n",
      "[codecarbon INFO @ 21:26:28] Energy consumed for RAM : 0.000825 kWh. RAM Power : 3.0 W\n",
      "[codecarbon INFO @ 21:26:28] Energy consumed for all CPUs : 0.001376 kWh. Total CPU Power : 5.0 W\n",
      "[codecarbon INFO @ 21:26:28] 0.002201 kWh of electricity used since the beginning.\n",
      "[codecarbon INFO @ 21:26:43] Energy consumed for RAM : 0.000838 kWh. RAM Power : 3.0 W\n",
      "[codecarbon INFO @ 21:26:43] Energy consumed for all CPUs : 0.001396 kWh. Total CPU Power : 5.0 W\n",
      "[codecarbon INFO @ 21:26:43] 0.002234 kWh of electricity used since the beginning.\n",
      "[codecarbon INFO @ 21:26:58] Energy consumed for RAM : 0.000850 kWh. RAM Power : 3.0 W\n",
      "[codecarbon INFO @ 21:26:58] Energy consumed for all CPUs : 0.001417 kWh. Total CPU Power : 5.0 W\n",
      "[codecarbon INFO @ 21:26:58] 0.002267 kWh of electricity used since the beginning.\n",
      "[codecarbon INFO @ 21:27:13] Energy consumed for RAM : 0.000863 kWh. RAM Power : 3.0 W\n",
      "[codecarbon INFO @ 21:27:13] Energy consumed for all CPUs : 0.001438 kWh. Total CPU Power : 5.0 W\n",
      "[codecarbon INFO @ 21:27:13] 0.002301 kWh of electricity used since the beginning.\n",
      "[codecarbon INFO @ 21:27:28] Energy consumed for RAM : 0.000875 kWh. RAM Power : 3.0 W\n",
      "[codecarbon INFO @ 21:27:28] Energy consumed for all CPUs : 0.001459 kWh. Total CPU Power : 5.0 W\n",
      "[codecarbon INFO @ 21:27:28] 0.002334 kWh of electricity used since the beginning.\n",
      "[codecarbon INFO @ 21:27:43] Energy consumed for RAM : 0.000888 kWh. RAM Power : 3.0 W\n",
      "[codecarbon INFO @ 21:27:43] Energy consumed for all CPUs : 0.001480 kWh. Total CPU Power : 5.0 W\n",
      "[codecarbon INFO @ 21:27:43] 0.002367 kWh of electricity used since the beginning.\n",
      "[codecarbon INFO @ 21:27:58] Energy consumed for RAM : 0.000900 kWh. RAM Power : 3.0 W\n",
      "[codecarbon INFO @ 21:27:58] Energy consumed for all CPUs : 0.001501 kWh. Total CPU Power : 5.0 W\n",
      "[codecarbon INFO @ 21:27:58] 0.002401 kWh of electricity used since the beginning.\n",
      "[codecarbon INFO @ 21:27:58] 0.000456 g.CO2eq/s mean an estimation of 14.383232300904996 kg.CO2eq/year\n",
      "[codecarbon INFO @ 21:28:13] Energy consumed for RAM : 0.000913 kWh. RAM Power : 3.0 W\n",
      "[codecarbon INFO @ 21:28:13] Energy consumed for all CPUs : 0.001521 kWh. Total CPU Power : 5.0 W\n",
      "[codecarbon INFO @ 21:28:13] 0.002434 kWh of electricity used since the beginning.\n",
      "[codecarbon INFO @ 21:28:28] Energy consumed for RAM : 0.000925 kWh. RAM Power : 3.0 W\n",
      "[codecarbon INFO @ 21:28:28] Energy consumed for all CPUs : 0.001542 kWh. Total CPU Power : 5.0 W\n",
      "[codecarbon INFO @ 21:28:28] 0.002468 kWh of electricity used since the beginning.\n",
      "[codecarbon INFO @ 21:28:43] Energy consumed for RAM : 0.000938 kWh. RAM Power : 3.0 W\n",
      "[codecarbon INFO @ 21:28:43] Energy consumed for all CPUs : 0.001563 kWh. Total CPU Power : 5.0 W\n",
      "[codecarbon INFO @ 21:28:43] 0.002501 kWh of electricity used since the beginning.\n",
      "[codecarbon INFO @ 21:28:58] Energy consumed for RAM : 0.000950 kWh. RAM Power : 3.0 W\n",
      "[codecarbon INFO @ 21:28:58] Energy consumed for all CPUs : 0.001584 kWh. Total CPU Power : 5.0 W\n",
      "[codecarbon INFO @ 21:28:58] 0.002534 kWh of electricity used since the beginning.\n",
      "[codecarbon INFO @ 21:29:13] Energy consumed for RAM : 0.000963 kWh. RAM Power : 3.0 W\n",
      "[codecarbon INFO @ 21:29:13] Energy consumed for all CPUs : 0.001605 kWh. Total CPU Power : 5.0 W\n",
      "[codecarbon INFO @ 21:29:13] 0.002568 kWh of electricity used since the beginning.\n",
      "[codecarbon INFO @ 21:29:28] Energy consumed for RAM : 0.000975 kWh. RAM Power : 3.0 W\n",
      "[codecarbon INFO @ 21:29:28] Energy consumed for all CPUs : 0.001626 kWh. Total CPU Power : 5.0 W\n",
      "[codecarbon INFO @ 21:29:28] 0.002601 kWh of electricity used since the beginning.\n",
      "[codecarbon INFO @ 21:29:43] Energy consumed for RAM : 0.000988 kWh. RAM Power : 3.0 W\n",
      "[codecarbon INFO @ 21:29:43] Energy consumed for all CPUs : 0.001646 kWh. Total CPU Power : 5.0 W\n",
      "[codecarbon INFO @ 21:29:43] 0.002634 kWh of electricity used since the beginning.\n",
      "[codecarbon INFO @ 21:29:58] Energy consumed for RAM : 0.001000 kWh. RAM Power : 3.0 W\n",
      "[codecarbon INFO @ 21:29:58] Energy consumed for all CPUs : 0.001667 kWh. Total CPU Power : 5.0 W\n",
      "[codecarbon INFO @ 21:29:58] 0.002668 kWh of electricity used since the beginning.\n",
      "[codecarbon INFO @ 21:29:58] 0.000456 g.CO2eq/s mean an estimation of 14.383962258937284 kg.CO2eq/year\n",
      "[codecarbon INFO @ 21:30:13] Energy consumed for RAM : 0.001013 kWh. RAM Power : 3.0 W\n",
      "[codecarbon INFO @ 21:30:13] Energy consumed for all CPUs : 0.001688 kWh. Total CPU Power : 5.0 W\n",
      "[codecarbon INFO @ 21:30:13] 0.002701 kWh of electricity used since the beginning.\n",
      "[codecarbon INFO @ 21:30:28] Energy consumed for RAM : 0.001025 kWh. RAM Power : 3.0 W\n",
      "[codecarbon INFO @ 21:30:28] Energy consumed for all CPUs : 0.001709 kWh. Total CPU Power : 5.0 W\n",
      "[codecarbon INFO @ 21:30:28] 0.002734 kWh of electricity used since the beginning.\n",
      "[codecarbon INFO @ 21:30:43] Energy consumed for RAM : 0.001038 kWh. RAM Power : 3.0 W\n",
      "[codecarbon INFO @ 21:30:43] Energy consumed for all CPUs : 0.001730 kWh. Total CPU Power : 5.0 W\n",
      "[codecarbon INFO @ 21:30:43] 0.002768 kWh of electricity used since the beginning.\n",
      "[codecarbon INFO @ 21:30:58] Energy consumed for RAM : 0.001050 kWh. RAM Power : 3.0 W\n",
      "[codecarbon INFO @ 21:30:58] Energy consumed for all CPUs : 0.001751 kWh. Total CPU Power : 5.0 W\n",
      "[codecarbon INFO @ 21:30:58] 0.002801 kWh of electricity used since the beginning.\n",
      "[codecarbon INFO @ 21:31:13] Energy consumed for RAM : 0.001063 kWh. RAM Power : 3.0 W\n",
      "[codecarbon INFO @ 21:31:13] Energy consumed for all CPUs : 0.001772 kWh. Total CPU Power : 5.0 W\n",
      "[codecarbon INFO @ 21:31:13] 0.002834 kWh of electricity used since the beginning.\n",
      "[codecarbon INFO @ 21:31:28] Energy consumed for RAM : 0.001075 kWh. RAM Power : 3.0 W\n",
      "[codecarbon INFO @ 21:31:28] Energy consumed for all CPUs : 0.001792 kWh. Total CPU Power : 5.0 W\n",
      "[codecarbon INFO @ 21:31:28] 0.002868 kWh of electricity used since the beginning.\n",
      "[codecarbon INFO @ 21:31:43] Energy consumed for RAM : 0.001088 kWh. RAM Power : 3.0 W\n",
      "[codecarbon INFO @ 21:31:43] Energy consumed for all CPUs : 0.001813 kWh. Total CPU Power : 5.0 W\n",
      "[codecarbon INFO @ 21:31:43] 0.002901 kWh of electricity used since the beginning.\n",
      "[codecarbon INFO @ 21:31:58] Energy consumed for RAM : 0.001100 kWh. RAM Power : 3.0 W\n",
      "[codecarbon INFO @ 21:31:58] Energy consumed for all CPUs : 0.001834 kWh. Total CPU Power : 5.0 W\n",
      "[codecarbon INFO @ 21:31:58] 0.002934 kWh of electricity used since the beginning.\n",
      "[codecarbon INFO @ 21:31:58] 0.000456 g.CO2eq/s mean an estimation of 14.383835865452845 kg.CO2eq/year\n",
      "[codecarbon INFO @ 21:32:13] Energy consumed for RAM : 0.001113 kWh. RAM Power : 3.0 W\n",
      "[codecarbon INFO @ 21:32:13] Energy consumed for all CPUs : 0.001855 kWh. Total CPU Power : 5.0 W\n",
      "[codecarbon INFO @ 21:32:13] 0.002968 kWh of electricity used since the beginning.\n",
      "[codecarbon INFO @ 21:32:28] Energy consumed for RAM : 0.001125 kWh. RAM Power : 3.0 W\n",
      "[codecarbon INFO @ 21:32:28] Energy consumed for all CPUs : 0.001876 kWh. Total CPU Power : 5.0 W\n",
      "[codecarbon INFO @ 21:32:28] 0.003001 kWh of electricity used since the beginning.\n",
      "[codecarbon INFO @ 21:32:43] Energy consumed for RAM : 0.001138 kWh. RAM Power : 3.0 W\n",
      "[codecarbon INFO @ 21:32:43] Energy consumed for all CPUs : 0.001897 kWh. Total CPU Power : 5.0 W\n",
      "[codecarbon INFO @ 21:32:43] 0.003034 kWh of electricity used since the beginning.\n",
      "[codecarbon INFO @ 21:32:58] Energy consumed for RAM : 0.001150 kWh. RAM Power : 3.0 W\n",
      "[codecarbon INFO @ 21:32:58] Energy consumed for all CPUs : 0.001917 kWh. Total CPU Power : 5.0 W\n",
      "[codecarbon INFO @ 21:32:58] 0.003068 kWh of electricity used since the beginning.\n",
      "[codecarbon INFO @ 21:33:13] Energy consumed for RAM : 0.001163 kWh. RAM Power : 3.0 W\n",
      "[codecarbon INFO @ 21:33:13] Energy consumed for all CPUs : 0.001938 kWh. Total CPU Power : 5.0 W\n",
      "[codecarbon INFO @ 21:33:13] 0.003101 kWh of electricity used since the beginning.\n",
      "[codecarbon INFO @ 21:33:28] Energy consumed for RAM : 0.001175 kWh. RAM Power : 3.0 W\n",
      "[codecarbon INFO @ 21:33:28] Energy consumed for all CPUs : 0.001959 kWh. Total CPU Power : 5.0 W\n",
      "[codecarbon INFO @ 21:33:28] 0.003134 kWh of electricity used since the beginning.\n",
      "[codecarbon INFO @ 21:33:43] Energy consumed for RAM : 0.001188 kWh. RAM Power : 3.0 W\n",
      "[codecarbon INFO @ 21:33:43] Energy consumed for all CPUs : 0.001980 kWh. Total CPU Power : 5.0 W\n",
      "[codecarbon INFO @ 21:33:43] 0.003168 kWh of electricity used since the beginning.\n",
      "[codecarbon INFO @ 21:33:58] Energy consumed for RAM : 0.001200 kWh. RAM Power : 3.0 W\n",
      "[codecarbon INFO @ 21:33:58] Energy consumed for all CPUs : 0.002001 kWh. Total CPU Power : 5.0 W\n",
      "[codecarbon INFO @ 21:33:58] 0.003201 kWh of electricity used since the beginning.\n",
      "[codecarbon INFO @ 21:33:58] 0.000456 g.CO2eq/s mean an estimation of 14.383799922884146 kg.CO2eq/year\n",
      "[codecarbon INFO @ 21:34:13] Energy consumed for RAM : 0.001213 kWh. RAM Power : 3.0 W\n",
      "[codecarbon INFO @ 21:34:13] Energy consumed for all CPUs : 0.002022 kWh. Total CPU Power : 5.0 W\n",
      "[codecarbon INFO @ 21:34:13] 0.003234 kWh of electricity used since the beginning.\n",
      "[codecarbon INFO @ 21:34:28] Energy consumed for RAM : 0.001225 kWh. RAM Power : 3.0 W\n",
      "[codecarbon INFO @ 21:34:28] Energy consumed for all CPUs : 0.002042 kWh. Total CPU Power : 5.0 W\n",
      "[codecarbon INFO @ 21:34:28] 0.003268 kWh of electricity used since the beginning.\n",
      "[codecarbon INFO @ 21:34:43] Energy consumed for RAM : 0.001238 kWh. RAM Power : 3.0 W\n",
      "[codecarbon INFO @ 21:34:43] Energy consumed for all CPUs : 0.002063 kWh. Total CPU Power : 5.0 W\n",
      "[codecarbon INFO @ 21:34:43] 0.003301 kWh of electricity used since the beginning.\n",
      "[codecarbon INFO @ 21:34:58] Energy consumed for RAM : 0.001250 kWh. RAM Power : 3.0 W\n",
      "[codecarbon INFO @ 21:34:58] Energy consumed for all CPUs : 0.002084 kWh. Total CPU Power : 5.0 W\n",
      "[codecarbon INFO @ 21:34:58] 0.003334 kWh of electricity used since the beginning.\n",
      "[codecarbon INFO @ 21:35:13] Energy consumed for RAM : 0.001263 kWh. RAM Power : 3.0 W\n",
      "[codecarbon INFO @ 21:35:13] Energy consumed for all CPUs : 0.002105 kWh. Total CPU Power : 5.0 W\n",
      "[codecarbon INFO @ 21:35:13] 0.003368 kWh of electricity used since the beginning.\n",
      "[codecarbon INFO @ 21:35:28] Energy consumed for RAM : 0.001275 kWh. RAM Power : 3.0 W\n",
      "[codecarbon INFO @ 21:35:28] Energy consumed for all CPUs : 0.002126 kWh. Total CPU Power : 5.0 W\n",
      "[codecarbon INFO @ 21:35:28] 0.003401 kWh of electricity used since the beginning.\n",
      "[codecarbon INFO @ 21:35:43] Energy consumed for RAM : 0.001288 kWh. RAM Power : 3.0 W\n",
      "[codecarbon INFO @ 21:35:43] Energy consumed for all CPUs : 0.002147 kWh. Total CPU Power : 5.0 W\n",
      "[codecarbon INFO @ 21:35:43] 0.003435 kWh of electricity used since the beginning.\n",
      "[codecarbon INFO @ 21:35:58] Energy consumed for RAM : 0.001300 kWh. RAM Power : 3.0 W\n",
      "[codecarbon INFO @ 21:35:58] Energy consumed for all CPUs : 0.002168 kWh. Total CPU Power : 5.0 W\n",
      "[codecarbon INFO @ 21:35:58] 0.003468 kWh of electricity used since the beginning.\n",
      "[codecarbon INFO @ 21:35:58] 0.000456 g.CO2eq/s mean an estimation of 14.384058813392457 kg.CO2eq/year\n",
      "[codecarbon INFO @ 21:36:13] Energy consumed for RAM : 0.001313 kWh. RAM Power : 3.0 W\n",
      "[codecarbon INFO @ 21:36:13] Energy consumed for all CPUs : 0.002188 kWh. Total CPU Power : 5.0 W\n",
      "[codecarbon INFO @ 21:36:13] 0.003501 kWh of electricity used since the beginning.\n",
      "[codecarbon INFO @ 21:36:28] Energy consumed for RAM : 0.001325 kWh. RAM Power : 3.0 W\n",
      "[codecarbon INFO @ 21:36:28] Energy consumed for all CPUs : 0.002209 kWh. Total CPU Power : 5.0 W\n",
      "[codecarbon INFO @ 21:36:28] 0.003535 kWh of electricity used since the beginning.\n",
      "[codecarbon INFO @ 21:36:43] Energy consumed for RAM : 0.001338 kWh. RAM Power : 3.0 W\n",
      "[codecarbon INFO @ 21:36:43] Energy consumed for all CPUs : 0.002230 kWh. Total CPU Power : 5.0 W\n",
      "[codecarbon INFO @ 21:36:43] 0.003568 kWh of electricity used since the beginning.\n",
      "[codecarbon INFO @ 21:36:58] Energy consumed for RAM : 0.001350 kWh. RAM Power : 3.0 W\n",
      "[codecarbon INFO @ 21:36:58] Energy consumed for all CPUs : 0.002251 kWh. Total CPU Power : 5.0 W\n",
      "[codecarbon INFO @ 21:36:58] 0.003601 kWh of electricity used since the beginning.\n",
      "[codecarbon INFO @ 21:37:13] Energy consumed for RAM : 0.001363 kWh. RAM Power : 3.0 W\n",
      "[codecarbon INFO @ 21:37:13] Energy consumed for all CPUs : 0.002272 kWh. Total CPU Power : 5.0 W\n",
      "[codecarbon INFO @ 21:37:13] 0.003635 kWh of electricity used since the beginning.\n",
      "[codecarbon INFO @ 21:37:28] Energy consumed for RAM : 0.001375 kWh. RAM Power : 3.0 W\n",
      "[codecarbon INFO @ 21:37:28] Energy consumed for all CPUs : 0.002293 kWh. Total CPU Power : 5.0 W\n",
      "[codecarbon INFO @ 21:37:28] 0.003668 kWh of electricity used since the beginning.\n",
      "[codecarbon INFO @ 21:37:43] Energy consumed for RAM : 0.001388 kWh. RAM Power : 3.0 W\n",
      "[codecarbon INFO @ 21:37:43] Energy consumed for all CPUs : 0.002313 kWh. Total CPU Power : 5.0 W\n",
      "[codecarbon INFO @ 21:37:43] 0.003701 kWh of electricity used since the beginning.\n",
      "[codecarbon INFO @ 21:37:58] Energy consumed for RAM : 0.001400 kWh. RAM Power : 3.0 W\n",
      "[codecarbon INFO @ 21:37:58] Energy consumed for all CPUs : 0.002334 kWh. Total CPU Power : 5.0 W\n",
      "[codecarbon INFO @ 21:37:58] 0.003735 kWh of electricity used since the beginning.\n",
      "[codecarbon INFO @ 21:37:58] 0.000456 g.CO2eq/s mean an estimation of 14.38353264405777 kg.CO2eq/year\n"
     ]
    },
    {
     "name": "stdout",
     "output_type": "stream",
     "text": [
      "Model accuracy score with linear kernel and C=100.0 : 0.8505\n"
     ]
    }
   ],
   "source": [
    "#Let's try c=1 and kernel = linear\n",
    "linear_svc=SVC(kernel='linear', C=1) \n",
    "\n",
    "\n",
    "# fit classifier to training set\n",
    "linear_svc.fit(X_train,y_train)\n",
    "\n",
    "\n",
    "# make predictions on test set\n",
    "y_pred_test=linear_svc.predict(X_test)\n",
    "\n",
    "\n",
    "# compute and print accuracy score\n",
    "print('Model accuracy score with linear kernel and C=100.0 : {0:0.4f}'. format(accuracy_score(y_test, y_pred_test)))"
   ]
  },
  {
   "cell_type": "code",
   "execution_count": 80,
   "metadata": {},
   "outputs": [
    {
     "name": "stderr",
     "output_type": "stream",
     "text": [
      "[codecarbon INFO @ 21:38:13] Energy consumed for RAM : 0.001413 kWh. RAM Power : 3.0 W\n",
      "[codecarbon INFO @ 21:38:13] Energy consumed for all CPUs : 0.002355 kWh. Total CPU Power : 5.0 W\n",
      "[codecarbon INFO @ 21:38:13] 0.003768 kWh of electricity used since the beginning.\n",
      "[codecarbon INFO @ 21:38:28] Energy consumed for RAM : 0.001425 kWh. RAM Power : 3.0 W\n",
      "[codecarbon INFO @ 21:38:28] Energy consumed for all CPUs : 0.002376 kWh. Total CPU Power : 5.0 W\n",
      "[codecarbon INFO @ 21:38:28] 0.003801 kWh of electricity used since the beginning.\n",
      "[codecarbon INFO @ 21:38:43] Energy consumed for RAM : 0.001438 kWh. RAM Power : 3.0 W\n",
      "[codecarbon INFO @ 21:38:43] Energy consumed for all CPUs : 0.002397 kWh. Total CPU Power : 5.0 W\n",
      "[codecarbon INFO @ 21:38:43] 0.003835 kWh of electricity used since the beginning.\n",
      "[codecarbon INFO @ 21:38:58] Energy consumed for RAM : 0.001450 kWh. RAM Power : 3.0 W\n",
      "[codecarbon INFO @ 21:38:58] Energy consumed for all CPUs : 0.002418 kWh. Total CPU Power : 5.0 W\n",
      "[codecarbon INFO @ 21:38:58] 0.003868 kWh of electricity used since the beginning.\n",
      "[codecarbon INFO @ 21:39:13] Energy consumed for RAM : 0.001463 kWh. RAM Power : 3.0 W\n",
      "[codecarbon INFO @ 21:39:13] Energy consumed for all CPUs : 0.002438 kWh. Total CPU Power : 5.0 W\n",
      "[codecarbon INFO @ 21:39:13] 0.003901 kWh of electricity used since the beginning.\n",
      "[codecarbon INFO @ 21:39:28] Energy consumed for RAM : 0.001475 kWh. RAM Power : 3.0 W\n",
      "[codecarbon INFO @ 21:39:28] Energy consumed for all CPUs : 0.002459 kWh. Total CPU Power : 5.0 W\n",
      "[codecarbon INFO @ 21:39:28] 0.003935 kWh of electricity used since the beginning.\n",
      "[codecarbon INFO @ 21:39:43] Energy consumed for RAM : 0.001488 kWh. RAM Power : 3.0 W\n",
      "[codecarbon INFO @ 21:39:43] Energy consumed for all CPUs : 0.002480 kWh. Total CPU Power : 5.0 W\n",
      "[codecarbon INFO @ 21:39:43] 0.003968 kWh of electricity used since the beginning.\n",
      "[codecarbon INFO @ 21:39:58] Energy consumed for RAM : 0.001500 kWh. RAM Power : 3.0 W\n",
      "[codecarbon INFO @ 21:39:58] Energy consumed for all CPUs : 0.002501 kWh. Total CPU Power : 5.0 W\n",
      "[codecarbon INFO @ 21:39:58] 0.004001 kWh of electricity used since the beginning.\n",
      "[codecarbon INFO @ 21:39:58] 0.000456 g.CO2eq/s mean an estimation of 14.38384608072314 kg.CO2eq/year\n",
      "[codecarbon INFO @ 21:40:13] Energy consumed for RAM : 0.001513 kWh. RAM Power : 3.0 W\n",
      "[codecarbon INFO @ 21:40:13] Energy consumed for all CPUs : 0.002522 kWh. Total CPU Power : 5.0 W\n",
      "[codecarbon INFO @ 21:40:13] 0.004035 kWh of electricity used since the beginning.\n",
      "[codecarbon INFO @ 21:40:28] Energy consumed for RAM : 0.001525 kWh. RAM Power : 3.0 W\n",
      "[codecarbon INFO @ 21:40:28] Energy consumed for all CPUs : 0.002543 kWh. Total CPU Power : 5.0 W\n",
      "[codecarbon INFO @ 21:40:28] 0.004068 kWh of electricity used since the beginning.\n",
      "[codecarbon INFO @ 21:40:43] Energy consumed for RAM : 0.001538 kWh. RAM Power : 3.0 W\n",
      "[codecarbon INFO @ 21:40:43] Energy consumed for all CPUs : 0.002564 kWh. Total CPU Power : 5.0 W\n",
      "[codecarbon INFO @ 21:40:43] 0.004101 kWh of electricity used since the beginning.\n"
     ]
    },
    {
     "name": "stdout",
     "output_type": "stream",
     "text": [
      "Training-set accuracy score: 0.8476\n"
     ]
    }
   ],
   "source": [
    "#Now, I will compare the train-set and test-set accuracy to check for overfitting.\n",
    "\n",
    "y_pred_train = linear_svc.predict(X_train)\n",
    "\n",
    "print('Training-set accuracy score: {0:0.4f}'. format(accuracy_score(y_train, y_pred_train)))"
   ]
  },
  {
   "cell_type": "markdown",
   "metadata": {},
   "source": [
    "No overfitting"
   ]
  },
  {
   "cell_type": "markdown",
   "metadata": {},
   "source": [
    "Polynomial kernel"
   ]
  },
  {
   "cell_type": "code",
   "execution_count": 81,
   "metadata": {},
   "outputs": [
    {
     "name": "stderr",
     "output_type": "stream",
     "text": [
      "[codecarbon INFO @ 21:40:58] Energy consumed for RAM : 0.001550 kWh. RAM Power : 3.0 W\n",
      "[codecarbon INFO @ 21:40:58] Energy consumed for all CPUs : 0.002584 kWh. Total CPU Power : 5.0 W\n",
      "[codecarbon INFO @ 21:40:58] 0.004135 kWh of electricity used since the beginning.\n",
      "[codecarbon INFO @ 21:41:13] Energy consumed for RAM : 0.001563 kWh. RAM Power : 3.0 W\n",
      "[codecarbon INFO @ 21:41:13] Energy consumed for all CPUs : 0.002605 kWh. Total CPU Power : 5.0 W\n",
      "[codecarbon INFO @ 21:41:13] 0.004168 kWh of electricity used since the beginning.\n",
      "[codecarbon INFO @ 21:41:28] Energy consumed for RAM : 0.001575 kWh. RAM Power : 3.0 W\n",
      "[codecarbon INFO @ 21:41:28] Energy consumed for all CPUs : 0.002626 kWh. Total CPU Power : 5.0 W\n",
      "[codecarbon INFO @ 21:41:28] 0.004202 kWh of electricity used since the beginning.\n",
      "[codecarbon INFO @ 21:41:43] Energy consumed for RAM : 0.001588 kWh. RAM Power : 3.0 W\n",
      "[codecarbon INFO @ 21:41:43] Energy consumed for all CPUs : 0.002647 kWh. Total CPU Power : 5.0 W\n",
      "[codecarbon INFO @ 21:41:43] 0.004235 kWh of electricity used since the beginning.\n",
      "[codecarbon INFO @ 21:41:58] Energy consumed for RAM : 0.001600 kWh. RAM Power : 3.0 W\n",
      "[codecarbon INFO @ 21:41:58] Energy consumed for all CPUs : 0.002668 kWh. Total CPU Power : 5.0 W\n",
      "[codecarbon INFO @ 21:41:58] 0.004268 kWh of electricity used since the beginning.\n",
      "[codecarbon INFO @ 21:41:58] 0.000456 g.CO2eq/s mean an estimation of 14.383686479921941 kg.CO2eq/year\n",
      "[codecarbon INFO @ 21:42:13] Energy consumed for RAM : 0.001613 kWh. RAM Power : 3.0 W\n",
      "[codecarbon INFO @ 21:42:13] Energy consumed for all CPUs : 0.002689 kWh. Total CPU Power : 5.0 W\n",
      "[codecarbon INFO @ 21:42:13] 0.004302 kWh of electricity used since the beginning.\n",
      "[codecarbon INFO @ 21:42:28] Energy consumed for RAM : 0.001625 kWh. RAM Power : 3.0 W\n",
      "[codecarbon INFO @ 21:42:28] Energy consumed for all CPUs : 0.002709 kWh. Total CPU Power : 5.0 W\n",
      "[codecarbon INFO @ 21:42:28] 0.004335 kWh of electricity used since the beginning.\n",
      "[codecarbon INFO @ 21:42:43] Energy consumed for RAM : 0.001638 kWh. RAM Power : 3.0 W\n",
      "[codecarbon INFO @ 21:42:43] Energy consumed for all CPUs : 0.002730 kWh. Total CPU Power : 5.0 W\n",
      "[codecarbon INFO @ 21:42:43] 0.004368 kWh of electricity used since the beginning.\n",
      "[codecarbon INFO @ 21:42:58] Energy consumed for RAM : 0.001650 kWh. RAM Power : 3.0 W\n",
      "[codecarbon INFO @ 21:42:58] Energy consumed for all CPUs : 0.002751 kWh. Total CPU Power : 5.0 W\n",
      "[codecarbon INFO @ 21:42:58] 0.004402 kWh of electricity used since the beginning.\n",
      "[codecarbon INFO @ 21:43:13] Energy consumed for RAM : 0.001663 kWh. RAM Power : 3.0 W\n",
      "[codecarbon INFO @ 21:43:13] Energy consumed for all CPUs : 0.002772 kWh. Total CPU Power : 5.0 W\n",
      "[codecarbon INFO @ 21:43:13] 0.004435 kWh of electricity used since the beginning.\n",
      "[codecarbon INFO @ 21:43:28] Energy consumed for RAM : 0.001675 kWh. RAM Power : 3.0 W\n",
      "[codecarbon INFO @ 21:43:28] Energy consumed for all CPUs : 0.002793 kWh. Total CPU Power : 5.0 W\n",
      "[codecarbon INFO @ 21:43:28] 0.004468 kWh of electricity used since the beginning.\n",
      "[codecarbon INFO @ 21:43:43] Energy consumed for RAM : 0.001688 kWh. RAM Power : 3.0 W\n",
      "[codecarbon INFO @ 21:43:43] Energy consumed for all CPUs : 0.002814 kWh. Total CPU Power : 5.0 W\n",
      "[codecarbon INFO @ 21:43:43] 0.004502 kWh of electricity used since the beginning.\n",
      "[codecarbon INFO @ 21:43:58] Energy consumed for RAM : 0.001701 kWh. RAM Power : 3.0 W\n",
      "[codecarbon INFO @ 21:43:58] Energy consumed for all CPUs : 0.002835 kWh. Total CPU Power : 5.0 W\n",
      "[codecarbon INFO @ 21:43:58] 0.004535 kWh of electricity used since the beginning.\n",
      "[codecarbon INFO @ 21:43:58] 0.000456 g.CO2eq/s mean an estimation of 14.383687098665195 kg.CO2eq/year\n",
      "[codecarbon INFO @ 21:44:13] Energy consumed for RAM : 0.001713 kWh. RAM Power : 3.0 W\n",
      "[codecarbon INFO @ 21:44:13] Energy consumed for all CPUs : 0.002855 kWh. Total CPU Power : 5.0 W\n",
      "[codecarbon INFO @ 21:44:13] 0.004568 kWh of electricity used since the beginning.\n",
      "[codecarbon INFO @ 21:44:28] Energy consumed for RAM : 0.001726 kWh. RAM Power : 3.0 W\n",
      "[codecarbon INFO @ 21:44:28] Energy consumed for all CPUs : 0.002876 kWh. Total CPU Power : 5.0 W\n",
      "[codecarbon INFO @ 21:44:28] 0.004602 kWh of electricity used since the beginning.\n",
      "[codecarbon INFO @ 21:44:43] Energy consumed for RAM : 0.001738 kWh. RAM Power : 3.0 W\n",
      "[codecarbon INFO @ 21:44:43] Energy consumed for all CPUs : 0.002897 kWh. Total CPU Power : 5.0 W\n",
      "[codecarbon INFO @ 21:44:43] 0.004635 kWh of electricity used since the beginning.\n",
      "[codecarbon INFO @ 21:44:58] Energy consumed for RAM : 0.001751 kWh. RAM Power : 3.0 W\n",
      "[codecarbon INFO @ 21:44:58] Energy consumed for all CPUs : 0.002918 kWh. Total CPU Power : 5.0 W\n",
      "[codecarbon INFO @ 21:44:58] 0.004668 kWh of electricity used since the beginning.\n",
      "[codecarbon INFO @ 21:45:13] Energy consumed for RAM : 0.001763 kWh. RAM Power : 3.0 W\n",
      "[codecarbon INFO @ 21:45:13] Energy consumed for all CPUs : 0.002939 kWh. Total CPU Power : 5.0 W\n",
      "[codecarbon INFO @ 21:45:13] 0.004702 kWh of electricity used since the beginning.\n",
      "[codecarbon INFO @ 21:45:28] Energy consumed for RAM : 0.001776 kWh. RAM Power : 3.0 W\n",
      "[codecarbon INFO @ 21:45:28] Energy consumed for all CPUs : 0.002960 kWh. Total CPU Power : 5.0 W\n",
      "[codecarbon INFO @ 21:45:28] 0.004735 kWh of electricity used since the beginning.\n",
      "[codecarbon INFO @ 21:45:43] Energy consumed for RAM : 0.001788 kWh. RAM Power : 3.0 W\n",
      "[codecarbon INFO @ 21:45:43] Energy consumed for all CPUs : 0.002980 kWh. Total CPU Power : 5.0 W\n",
      "[codecarbon INFO @ 21:45:43] 0.004768 kWh of electricity used since the beginning.\n",
      "[codecarbon INFO @ 21:45:58] Energy consumed for RAM : 0.001801 kWh. RAM Power : 3.0 W\n",
      "[codecarbon INFO @ 21:45:58] Energy consumed for all CPUs : 0.003001 kWh. Total CPU Power : 5.0 W\n",
      "[codecarbon INFO @ 21:45:58] 0.004802 kWh of electricity used since the beginning.\n",
      "[codecarbon INFO @ 21:45:58] 0.000456 g.CO2eq/s mean an estimation of 14.383759060179548 kg.CO2eq/year\n",
      "[codecarbon INFO @ 21:46:13] Energy consumed for RAM : 0.001813 kWh. RAM Power : 3.0 W\n",
      "[codecarbon INFO @ 21:46:13] Energy consumed for all CPUs : 0.003022 kWh. Total CPU Power : 5.0 W\n",
      "[codecarbon INFO @ 21:46:13] 0.004835 kWh of electricity used since the beginning.\n",
      "[codecarbon INFO @ 21:46:28] Energy consumed for RAM : 0.001826 kWh. RAM Power : 3.0 W\n",
      "[codecarbon INFO @ 21:46:28] Energy consumed for all CPUs : 0.003043 kWh. Total CPU Power : 5.0 W\n",
      "[codecarbon INFO @ 21:46:28] 0.004869 kWh of electricity used since the beginning.\n",
      "[codecarbon INFO @ 21:46:43] Energy consumed for RAM : 0.001838 kWh. RAM Power : 3.0 W\n",
      "[codecarbon INFO @ 21:46:43] Energy consumed for all CPUs : 0.003064 kWh. Total CPU Power : 5.0 W\n",
      "[codecarbon INFO @ 21:46:43] 0.004902 kWh of electricity used since the beginning.\n",
      "[codecarbon INFO @ 21:46:58] Energy consumed for RAM : 0.001851 kWh. RAM Power : 3.0 W\n",
      "[codecarbon INFO @ 21:46:58] Energy consumed for all CPUs : 0.003085 kWh. Total CPU Power : 5.0 W\n",
      "[codecarbon INFO @ 21:46:58] 0.004935 kWh of electricity used since the beginning.\n",
      "[codecarbon INFO @ 21:47:13] Energy consumed for RAM : 0.001863 kWh. RAM Power : 3.0 W\n",
      "[codecarbon INFO @ 21:47:13] Energy consumed for all CPUs : 0.003106 kWh. Total CPU Power : 5.0 W\n",
      "[codecarbon INFO @ 21:47:13] 0.004969 kWh of electricity used since the beginning.\n",
      "[codecarbon INFO @ 21:47:28] Energy consumed for RAM : 0.001876 kWh. RAM Power : 3.0 W\n",
      "[codecarbon INFO @ 21:47:28] Energy consumed for all CPUs : 0.003126 kWh. Total CPU Power : 5.0 W\n",
      "[codecarbon INFO @ 21:47:28] 0.005002 kWh of electricity used since the beginning.\n",
      "[codecarbon INFO @ 21:47:43] Energy consumed for RAM : 0.001888 kWh. RAM Power : 3.0 W\n",
      "[codecarbon INFO @ 21:47:43] Energy consumed for all CPUs : 0.003147 kWh. Total CPU Power : 5.0 W\n",
      "[codecarbon INFO @ 21:47:43] 0.005035 kWh of electricity used since the beginning.\n",
      "[codecarbon INFO @ 21:47:58] Energy consumed for RAM : 0.001901 kWh. RAM Power : 3.0 W\n",
      "[codecarbon INFO @ 21:47:58] Energy consumed for all CPUs : 0.003168 kWh. Total CPU Power : 5.0 W\n",
      "[codecarbon INFO @ 21:47:58] 0.005069 kWh of electricity used since the beginning.\n",
      "[codecarbon INFO @ 21:47:58] 0.000456 g.CO2eq/s mean an estimation of 14.383247378497204 kg.CO2eq/year\n",
      "[codecarbon INFO @ 21:48:13] Energy consumed for RAM : 0.001913 kWh. RAM Power : 3.0 W\n",
      "[codecarbon INFO @ 21:48:13] Energy consumed for all CPUs : 0.003189 kWh. Total CPU Power : 5.0 W\n",
      "[codecarbon INFO @ 21:48:13] 0.005102 kWh of electricity used since the beginning.\n",
      "[codecarbon INFO @ 21:48:28] Energy consumed for RAM : 0.001926 kWh. RAM Power : 3.0 W\n",
      "[codecarbon INFO @ 21:48:28] Energy consumed for all CPUs : 0.003210 kWh. Total CPU Power : 5.0 W\n",
      "[codecarbon INFO @ 21:48:28] 0.005135 kWh of electricity used since the beginning.\n",
      "[codecarbon INFO @ 21:48:44] Energy consumed for RAM : 0.001938 kWh. RAM Power : 3.0 W\n",
      "[codecarbon INFO @ 21:48:44] Energy consumed for all CPUs : 0.003231 kWh. Total CPU Power : 5.0 W\n",
      "[codecarbon INFO @ 21:48:44] 0.005169 kWh of electricity used since the beginning.\n",
      "[codecarbon INFO @ 21:48:59] Energy consumed for RAM : 0.001951 kWh. RAM Power : 3.0 W\n",
      "[codecarbon INFO @ 21:48:59] Energy consumed for all CPUs : 0.003251 kWh. Total CPU Power : 5.0 W\n",
      "[codecarbon INFO @ 21:48:59] 0.005202 kWh of electricity used since the beginning.\n",
      "[codecarbon INFO @ 21:49:14] Energy consumed for RAM : 0.001963 kWh. RAM Power : 3.0 W\n",
      "[codecarbon INFO @ 21:49:14] Energy consumed for all CPUs : 0.003272 kWh. Total CPU Power : 5.0 W\n",
      "[codecarbon INFO @ 21:49:14] 0.005235 kWh of electricity used since the beginning.\n",
      "[codecarbon INFO @ 21:49:29] Energy consumed for RAM : 0.001976 kWh. RAM Power : 3.0 W\n",
      "[codecarbon INFO @ 21:49:29] Energy consumed for all CPUs : 0.003293 kWh. Total CPU Power : 5.0 W\n",
      "[codecarbon INFO @ 21:49:29] 0.005269 kWh of electricity used since the beginning.\n",
      "[codecarbon INFO @ 21:49:44] Energy consumed for RAM : 0.001988 kWh. RAM Power : 3.0 W\n",
      "[codecarbon INFO @ 21:49:44] Energy consumed for all CPUs : 0.003314 kWh. Total CPU Power : 5.0 W\n",
      "[codecarbon INFO @ 21:49:44] 0.005302 kWh of electricity used since the beginning.\n",
      "[codecarbon INFO @ 21:49:59] Energy consumed for RAM : 0.002001 kWh. RAM Power : 3.0 W\n",
      "[codecarbon INFO @ 21:49:59] Energy consumed for all CPUs : 0.003335 kWh. Total CPU Power : 5.0 W\n",
      "[codecarbon INFO @ 21:49:59] 0.005335 kWh of electricity used since the beginning.\n",
      "[codecarbon INFO @ 21:49:59] 0.000456 g.CO2eq/s mean an estimation of 14.382020893850573 kg.CO2eq/year\n",
      "[codecarbon INFO @ 21:50:14] Energy consumed for RAM : 0.002013 kWh. RAM Power : 3.0 W\n",
      "[codecarbon INFO @ 21:50:14] Energy consumed for all CPUs : 0.003356 kWh. Total CPU Power : 5.0 W\n",
      "[codecarbon INFO @ 21:50:14] 0.005369 kWh of electricity used since the beginning.\n",
      "[codecarbon INFO @ 21:50:29] Energy consumed for RAM : 0.002026 kWh. RAM Power : 3.0 W\n",
      "[codecarbon INFO @ 21:50:29] Energy consumed for all CPUs : 0.003376 kWh. Total CPU Power : 5.0 W\n",
      "[codecarbon INFO @ 21:50:29] 0.005402 kWh of electricity used since the beginning.\n",
      "[codecarbon INFO @ 21:50:44] Energy consumed for RAM : 0.002038 kWh. RAM Power : 3.0 W\n",
      "[codecarbon INFO @ 21:50:44] Energy consumed for all CPUs : 0.003397 kWh. Total CPU Power : 5.0 W\n",
      "[codecarbon INFO @ 21:50:44] 0.005435 kWh of electricity used since the beginning.\n",
      "[codecarbon INFO @ 21:50:59] Energy consumed for RAM : 0.002051 kWh. RAM Power : 3.0 W\n",
      "[codecarbon INFO @ 21:50:59] Energy consumed for all CPUs : 0.003418 kWh. Total CPU Power : 5.0 W\n",
      "[codecarbon INFO @ 21:50:59] 0.005469 kWh of electricity used since the beginning.\n",
      "[codecarbon INFO @ 21:51:14] Energy consumed for RAM : 0.002063 kWh. RAM Power : 3.0 W\n",
      "[codecarbon INFO @ 21:51:14] Energy consumed for all CPUs : 0.003439 kWh. Total CPU Power : 5.0 W\n",
      "[codecarbon INFO @ 21:51:14] 0.005502 kWh of electricity used since the beginning.\n",
      "[codecarbon INFO @ 21:51:29] Energy consumed for RAM : 0.002076 kWh. RAM Power : 3.0 W\n",
      "[codecarbon INFO @ 21:51:29] Energy consumed for all CPUs : 0.003460 kWh. Total CPU Power : 5.0 W\n",
      "[codecarbon INFO @ 21:51:29] 0.005535 kWh of electricity used since the beginning.\n",
      "[codecarbon INFO @ 21:51:44] Energy consumed for RAM : 0.002088 kWh. RAM Power : 3.0 W\n",
      "[codecarbon INFO @ 21:51:44] Energy consumed for all CPUs : 0.003481 kWh. Total CPU Power : 5.0 W\n",
      "[codecarbon INFO @ 21:51:44] 0.005569 kWh of electricity used since the beginning.\n",
      "[codecarbon INFO @ 21:51:59] Energy consumed for RAM : 0.002101 kWh. RAM Power : 3.0 W\n",
      "[codecarbon INFO @ 21:51:59] Energy consumed for all CPUs : 0.003501 kWh. Total CPU Power : 5.0 W\n",
      "[codecarbon INFO @ 21:51:59] 0.005602 kWh of electricity used since the beginning.\n",
      "[codecarbon INFO @ 21:51:59] 0.000456 g.CO2eq/s mean an estimation of 14.38420911749169 kg.CO2eq/year\n",
      "[codecarbon INFO @ 21:52:14] Energy consumed for RAM : 0.002113 kWh. RAM Power : 3.0 W\n",
      "[codecarbon INFO @ 21:52:14] Energy consumed for all CPUs : 0.003522 kWh. Total CPU Power : 5.0 W\n",
      "[codecarbon INFO @ 21:52:14] 0.005635 kWh of electricity used since the beginning.\n",
      "[codecarbon INFO @ 21:52:29] Energy consumed for RAM : 0.002126 kWh. RAM Power : 3.0 W\n",
      "[codecarbon INFO @ 21:52:29] Energy consumed for all CPUs : 0.003543 kWh. Total CPU Power : 5.0 W\n",
      "[codecarbon INFO @ 21:52:29] 0.005669 kWh of electricity used since the beginning.\n",
      "[codecarbon INFO @ 21:52:44] Energy consumed for RAM : 0.002138 kWh. RAM Power : 3.0 W\n",
      "[codecarbon INFO @ 21:52:44] Energy consumed for all CPUs : 0.003564 kWh. Total CPU Power : 5.0 W\n",
      "[codecarbon INFO @ 21:52:44] 0.005702 kWh of electricity used since the beginning.\n",
      "[codecarbon INFO @ 21:52:59] Energy consumed for RAM : 0.002151 kWh. RAM Power : 3.0 W\n",
      "[codecarbon INFO @ 21:52:59] Energy consumed for all CPUs : 0.003585 kWh. Total CPU Power : 5.0 W\n",
      "[codecarbon INFO @ 21:52:59] 0.005735 kWh of electricity used since the beginning.\n",
      "[codecarbon INFO @ 21:53:14] Energy consumed for RAM : 0.002163 kWh. RAM Power : 3.0 W\n",
      "[codecarbon INFO @ 21:53:14] Energy consumed for all CPUs : 0.003606 kWh. Total CPU Power : 5.0 W\n",
      "[codecarbon INFO @ 21:53:14] 0.005769 kWh of electricity used since the beginning.\n",
      "[codecarbon INFO @ 21:53:29] Energy consumed for RAM : 0.002176 kWh. RAM Power : 3.0 W\n",
      "[codecarbon INFO @ 21:53:29] Energy consumed for all CPUs : 0.003627 kWh. Total CPU Power : 5.0 W\n",
      "[codecarbon INFO @ 21:53:29] 0.005802 kWh of electricity used since the beginning.\n"
     ]
    },
    {
     "name": "stdout",
     "output_type": "stream",
     "text": [
      "Model accuracy score with polynomial kernel and C=100 : 0.8603\n"
     ]
    }
   ],
   "source": [
    "# instantiate classifier with polynomial kernel and C=1\n",
    "poly_svc=SVC(kernel='poly', C=1) \n",
    "\n",
    "\n",
    "# fit classifier to training set\n",
    "poly_svc.fit(X_train,y_train)\n",
    "\n",
    "\n",
    "# make predictions on test set\n",
    "y_pred=poly_svc.predict(X_test)\n",
    "\n",
    "\n",
    "# compute and print accuracy score\n",
    "print('Model accuracy score with polynomial kernel and C=100 : {0:0.4f}'. format(accuracy_score(y_test, y_pred)))"
   ]
  },
  {
   "cell_type": "markdown",
   "metadata": {},
   "source": [
    "Sigmoid kernel"
   ]
  },
  {
   "cell_type": "code",
   "execution_count": 82,
   "metadata": {},
   "outputs": [
    {
     "name": "stderr",
     "output_type": "stream",
     "text": [
      "[codecarbon INFO @ 21:53:44] Energy consumed for RAM : 0.002188 kWh. RAM Power : 3.0 W\n",
      "[codecarbon INFO @ 21:53:44] Energy consumed for all CPUs : 0.003647 kWh. Total CPU Power : 5.0 W\n",
      "[codecarbon INFO @ 21:53:44] 0.005836 kWh of electricity used since the beginning.\n",
      "[codecarbon INFO @ 21:53:59] Energy consumed for RAM : 0.002201 kWh. RAM Power : 3.0 W\n",
      "[codecarbon INFO @ 21:53:59] Energy consumed for all CPUs : 0.003668 kWh. Total CPU Power : 5.0 W\n",
      "[codecarbon INFO @ 21:53:59] 0.005869 kWh of electricity used since the beginning.\n",
      "[codecarbon INFO @ 21:53:59] 0.000456 g.CO2eq/s mean an estimation of 14.383679558691375 kg.CO2eq/year\n",
      "[codecarbon INFO @ 21:54:14] Energy consumed for RAM : 0.002213 kWh. RAM Power : 3.0 W\n",
      "[codecarbon INFO @ 21:54:14] Energy consumed for all CPUs : 0.003689 kWh. Total CPU Power : 5.0 W\n",
      "[codecarbon INFO @ 21:54:14] 0.005902 kWh of electricity used since the beginning.\n",
      "[codecarbon INFO @ 21:54:29] Energy consumed for RAM : 0.002226 kWh. RAM Power : 3.0 W\n",
      "[codecarbon INFO @ 21:54:29] Energy consumed for all CPUs : 0.003710 kWh. Total CPU Power : 5.0 W\n",
      "[codecarbon INFO @ 21:54:29] 0.005936 kWh of electricity used since the beginning.\n",
      "[codecarbon INFO @ 21:54:44] Energy consumed for RAM : 0.002238 kWh. RAM Power : 3.0 W\n",
      "[codecarbon INFO @ 21:54:44] Energy consumed for all CPUs : 0.003731 kWh. Total CPU Power : 5.0 W\n",
      "[codecarbon INFO @ 21:54:44] 0.005969 kWh of electricity used since the beginning.\n",
      "[codecarbon INFO @ 21:54:59] Energy consumed for RAM : 0.002251 kWh. RAM Power : 3.0 W\n",
      "[codecarbon INFO @ 21:54:59] Energy consumed for all CPUs : 0.003752 kWh. Total CPU Power : 5.0 W\n",
      "[codecarbon INFO @ 21:54:59] 0.006002 kWh of electricity used since the beginning.\n",
      "[codecarbon INFO @ 21:55:14] Energy consumed for RAM : 0.002263 kWh. RAM Power : 3.0 W\n",
      "[codecarbon INFO @ 21:55:14] Energy consumed for all CPUs : 0.003772 kWh. Total CPU Power : 5.0 W\n",
      "[codecarbon INFO @ 21:55:14] 0.006036 kWh of electricity used since the beginning.\n",
      "[codecarbon INFO @ 21:55:29] Energy consumed for RAM : 0.002276 kWh. RAM Power : 3.0 W\n",
      "[codecarbon INFO @ 21:55:29] Energy consumed for all CPUs : 0.003793 kWh. Total CPU Power : 5.0 W\n",
      "[codecarbon INFO @ 21:55:29] 0.006069 kWh of electricity used since the beginning.\n",
      "[codecarbon INFO @ 21:55:44] Energy consumed for RAM : 0.002288 kWh. RAM Power : 3.0 W\n",
      "[codecarbon INFO @ 21:55:44] Energy consumed for all CPUs : 0.003814 kWh. Total CPU Power : 5.0 W\n",
      "[codecarbon INFO @ 21:55:44] 0.006102 kWh of electricity used since the beginning.\n",
      "[codecarbon INFO @ 21:55:59] Energy consumed for RAM : 0.002301 kWh. RAM Power : 3.0 W\n",
      "[codecarbon INFO @ 21:55:59] Energy consumed for all CPUs : 0.003835 kWh. Total CPU Power : 5.0 W\n",
      "[codecarbon INFO @ 21:55:59] 0.006136 kWh of electricity used since the beginning.\n",
      "[codecarbon INFO @ 21:55:59] 0.000456 g.CO2eq/s mean an estimation of 14.38242322626271 kg.CO2eq/year\n",
      "[codecarbon INFO @ 21:56:14] Energy consumed for RAM : 0.002313 kWh. RAM Power : 3.0 W\n",
      "[codecarbon INFO @ 21:56:14] Energy consumed for all CPUs : 0.003856 kWh. Total CPU Power : 5.0 W\n",
      "[codecarbon INFO @ 21:56:14] 0.006169 kWh of electricity used since the beginning.\n",
      "[codecarbon INFO @ 21:56:29] Energy consumed for RAM : 0.002326 kWh. RAM Power : 3.0 W\n",
      "[codecarbon INFO @ 21:56:29] Energy consumed for all CPUs : 0.003877 kWh. Total CPU Power : 5.0 W\n",
      "[codecarbon INFO @ 21:56:29] 0.006202 kWh of electricity used since the beginning.\n",
      "[codecarbon INFO @ 21:56:44] Energy consumed for RAM : 0.002338 kWh. RAM Power : 3.0 W\n",
      "[codecarbon INFO @ 21:56:44] Energy consumed for all CPUs : 0.003898 kWh. Total CPU Power : 5.0 W\n",
      "[codecarbon INFO @ 21:56:44] 0.006236 kWh of electricity used since the beginning.\n",
      "[codecarbon INFO @ 21:56:59] Energy consumed for RAM : 0.002351 kWh. RAM Power : 3.0 W\n",
      "[codecarbon INFO @ 21:56:59] Energy consumed for all CPUs : 0.003918 kWh. Total CPU Power : 5.0 W\n",
      "[codecarbon INFO @ 21:56:59] 0.006269 kWh of electricity used since the beginning.\n",
      "[codecarbon INFO @ 21:57:14] Energy consumed for RAM : 0.002363 kWh. RAM Power : 3.0 W\n",
      "[codecarbon INFO @ 21:57:14] Energy consumed for all CPUs : 0.003939 kWh. Total CPU Power : 5.0 W\n",
      "[codecarbon INFO @ 21:57:14] 0.006302 kWh of electricity used since the beginning.\n",
      "[codecarbon INFO @ 21:57:29] Energy consumed for RAM : 0.002376 kWh. RAM Power : 3.0 W\n",
      "[codecarbon INFO @ 21:57:29] Energy consumed for all CPUs : 0.003960 kWh. Total CPU Power : 5.0 W\n",
      "[codecarbon INFO @ 21:57:29] 0.006336 kWh of electricity used since the beginning.\n",
      "[codecarbon INFO @ 21:57:44] Energy consumed for RAM : 0.002388 kWh. RAM Power : 3.0 W\n",
      "[codecarbon INFO @ 21:57:44] Energy consumed for all CPUs : 0.003981 kWh. Total CPU Power : 5.0 W\n",
      "[codecarbon INFO @ 21:57:44] 0.006369 kWh of electricity used since the beginning.\n",
      "[codecarbon INFO @ 21:57:59] Energy consumed for RAM : 0.002401 kWh. RAM Power : 3.0 W\n",
      "[codecarbon INFO @ 21:57:59] Energy consumed for all CPUs : 0.004002 kWh. Total CPU Power : 5.0 W\n",
      "[codecarbon INFO @ 21:57:59] 0.006402 kWh of electricity used since the beginning.\n",
      "[codecarbon INFO @ 21:57:59] 0.000456 g.CO2eq/s mean an estimation of 14.384039052601675 kg.CO2eq/year\n",
      "[codecarbon INFO @ 21:58:14] Energy consumed for RAM : 0.002413 kWh. RAM Power : 3.0 W\n",
      "[codecarbon INFO @ 21:58:14] Energy consumed for all CPUs : 0.004023 kWh. Total CPU Power : 5.0 W\n",
      "[codecarbon INFO @ 21:58:14] 0.006436 kWh of electricity used since the beginning.\n",
      "[codecarbon INFO @ 21:58:29] Energy consumed for RAM : 0.002426 kWh. RAM Power : 3.0 W\n",
      "[codecarbon INFO @ 21:58:29] Energy consumed for all CPUs : 0.004043 kWh. Total CPU Power : 5.0 W\n",
      "[codecarbon INFO @ 21:58:29] 0.006469 kWh of electricity used since the beginning.\n",
      "[codecarbon INFO @ 21:58:44] Energy consumed for RAM : 0.002438 kWh. RAM Power : 3.0 W\n",
      "[codecarbon INFO @ 21:58:44] Energy consumed for all CPUs : 0.004064 kWh. Total CPU Power : 5.0 W\n",
      "[codecarbon INFO @ 21:58:44] 0.006503 kWh of electricity used since the beginning.\n",
      "[codecarbon INFO @ 21:58:59] Energy consumed for RAM : 0.002451 kWh. RAM Power : 3.0 W\n",
      "[codecarbon INFO @ 21:58:59] Energy consumed for all CPUs : 0.004085 kWh. Total CPU Power : 5.0 W\n",
      "[codecarbon INFO @ 21:58:59] 0.006536 kWh of electricity used since the beginning.\n",
      "[codecarbon INFO @ 21:59:14] Energy consumed for RAM : 0.002463 kWh. RAM Power : 3.0 W\n",
      "[codecarbon INFO @ 21:59:14] Energy consumed for all CPUs : 0.004106 kWh. Total CPU Power : 5.0 W\n",
      "[codecarbon INFO @ 21:59:14] 0.006569 kWh of electricity used since the beginning.\n",
      "[codecarbon INFO @ 21:59:29] Energy consumed for RAM : 0.002476 kWh. RAM Power : 3.0 W\n",
      "[codecarbon INFO @ 21:59:29] Energy consumed for all CPUs : 0.004127 kWh. Total CPU Power : 5.0 W\n",
      "[codecarbon INFO @ 21:59:29] 0.006603 kWh of electricity used since the beginning.\n",
      "[codecarbon INFO @ 21:59:44] Energy consumed for RAM : 0.002488 kWh. RAM Power : 3.0 W\n",
      "[codecarbon INFO @ 21:59:44] Energy consumed for all CPUs : 0.004148 kWh. Total CPU Power : 5.0 W\n",
      "[codecarbon INFO @ 21:59:44] 0.006636 kWh of electricity used since the beginning.\n",
      "[codecarbon INFO @ 21:59:59] Energy consumed for RAM : 0.002501 kWh. RAM Power : 3.0 W\n",
      "[codecarbon INFO @ 21:59:59] Energy consumed for all CPUs : 0.004169 kWh. Total CPU Power : 5.0 W\n",
      "[codecarbon INFO @ 21:59:59] 0.006669 kWh of electricity used since the beginning.\n",
      "[codecarbon INFO @ 21:59:59] 0.000456 g.CO2eq/s mean an estimation of 14.383226947189076 kg.CO2eq/year\n",
      "[codecarbon INFO @ 22:00:14] Energy consumed for RAM : 0.002513 kWh. RAM Power : 3.0 W\n",
      "[codecarbon INFO @ 22:00:14] Energy consumed for all CPUs : 0.004189 kWh. Total CPU Power : 5.0 W\n",
      "[codecarbon INFO @ 22:00:14] 0.006703 kWh of electricity used since the beginning.\n",
      "[codecarbon INFO @ 22:00:29] Energy consumed for RAM : 0.002526 kWh. RAM Power : 3.0 W\n",
      "[codecarbon INFO @ 22:00:29] Energy consumed for all CPUs : 0.004210 kWh. Total CPU Power : 5.0 W\n",
      "[codecarbon INFO @ 22:00:29] 0.006736 kWh of electricity used since the beginning.\n",
      "[codecarbon INFO @ 22:00:44] Energy consumed for RAM : 0.002538 kWh. RAM Power : 3.0 W\n",
      "[codecarbon INFO @ 22:00:44] Energy consumed for all CPUs : 0.004231 kWh. Total CPU Power : 5.0 W\n",
      "[codecarbon INFO @ 22:00:44] 0.006769 kWh of electricity used since the beginning.\n",
      "[codecarbon INFO @ 22:00:59] Energy consumed for RAM : 0.002551 kWh. RAM Power : 3.0 W\n",
      "[codecarbon INFO @ 22:00:59] Energy consumed for all CPUs : 0.004252 kWh. Total CPU Power : 5.0 W\n",
      "[codecarbon INFO @ 22:00:59] 0.006803 kWh of electricity used since the beginning.\n",
      "[codecarbon INFO @ 22:01:14] Energy consumed for RAM : 0.002563 kWh. RAM Power : 3.0 W\n",
      "[codecarbon INFO @ 22:01:14] Energy consumed for all CPUs : 0.004273 kWh. Total CPU Power : 5.0 W\n",
      "[codecarbon INFO @ 22:01:14] 0.006836 kWh of electricity used since the beginning.\n",
      "[codecarbon INFO @ 22:01:29] Energy consumed for RAM : 0.002576 kWh. RAM Power : 3.0 W\n",
      "[codecarbon INFO @ 22:01:29] Energy consumed for all CPUs : 0.004294 kWh. Total CPU Power : 5.0 W\n",
      "[codecarbon INFO @ 22:01:29] 0.006869 kWh of electricity used since the beginning.\n",
      "[codecarbon INFO @ 22:01:44] Energy consumed for RAM : 0.002588 kWh. RAM Power : 3.0 W\n",
      "[codecarbon INFO @ 22:01:44] Energy consumed for all CPUs : 0.004314 kWh. Total CPU Power : 5.0 W\n",
      "[codecarbon INFO @ 22:01:44] 0.006903 kWh of electricity used since the beginning.\n",
      "[codecarbon INFO @ 22:01:59] Energy consumed for RAM : 0.002601 kWh. RAM Power : 3.0 W\n",
      "[codecarbon INFO @ 22:01:59] Energy consumed for all CPUs : 0.004335 kWh. Total CPU Power : 5.0 W\n",
      "[codecarbon INFO @ 22:01:59] 0.006936 kWh of electricity used since the beginning.\n",
      "[codecarbon INFO @ 22:01:59] 0.000456 g.CO2eq/s mean an estimation of 14.383017461748501 kg.CO2eq/year\n",
      "[codecarbon INFO @ 22:02:14] Energy consumed for RAM : 0.002613 kWh. RAM Power : 3.0 W\n",
      "[codecarbon INFO @ 22:02:14] Energy consumed for all CPUs : 0.004356 kWh. Total CPU Power : 5.0 W\n",
      "[codecarbon INFO @ 22:02:14] 0.006969 kWh of electricity used since the beginning.\n",
      "[codecarbon INFO @ 22:02:29] Energy consumed for RAM : 0.002626 kWh. RAM Power : 3.0 W\n",
      "[codecarbon INFO @ 22:02:29] Energy consumed for all CPUs : 0.004377 kWh. Total CPU Power : 5.0 W\n",
      "[codecarbon INFO @ 22:02:29] 0.007003 kWh of electricity used since the beginning.\n",
      "[codecarbon INFO @ 22:02:44] Energy consumed for RAM : 0.002638 kWh. RAM Power : 3.0 W\n",
      "[codecarbon INFO @ 22:02:44] Energy consumed for all CPUs : 0.004398 kWh. Total CPU Power : 5.0 W\n",
      "[codecarbon INFO @ 22:02:44] 0.007036 kWh of electricity used since the beginning.\n",
      "[codecarbon INFO @ 22:02:59] Energy consumed for RAM : 0.002651 kWh. RAM Power : 3.0 W\n",
      "[codecarbon INFO @ 22:02:59] Energy consumed for all CPUs : 0.004419 kWh. Total CPU Power : 5.0 W\n",
      "[codecarbon INFO @ 22:02:59] 0.007069 kWh of electricity used since the beginning.\n",
      "[codecarbon INFO @ 22:03:14] Energy consumed for RAM : 0.002663 kWh. RAM Power : 3.0 W\n",
      "[codecarbon INFO @ 22:03:14] Energy consumed for all CPUs : 0.004439 kWh. Total CPU Power : 5.0 W\n",
      "[codecarbon INFO @ 22:03:14] 0.007103 kWh of electricity used since the beginning.\n",
      "[codecarbon INFO @ 22:03:29] Energy consumed for RAM : 0.002676 kWh. RAM Power : 3.0 W\n",
      "[codecarbon INFO @ 22:03:29] Energy consumed for all CPUs : 0.004460 kWh. Total CPU Power : 5.0 W\n",
      "[codecarbon INFO @ 22:03:29] 0.007136 kWh of electricity used since the beginning.\n",
      "[codecarbon INFO @ 22:03:44] Energy consumed for RAM : 0.002688 kWh. RAM Power : 3.0 W\n",
      "[codecarbon INFO @ 22:03:44] Energy consumed for all CPUs : 0.004481 kWh. Total CPU Power : 5.0 W\n",
      "[codecarbon INFO @ 22:03:44] 0.007169 kWh of electricity used since the beginning.\n",
      "[codecarbon INFO @ 22:03:59] Energy consumed for RAM : 0.002701 kWh. RAM Power : 3.0 W\n",
      "[codecarbon INFO @ 22:03:59] Energy consumed for all CPUs : 0.004502 kWh. Total CPU Power : 5.0 W\n",
      "[codecarbon INFO @ 22:03:59] 0.007203 kWh of electricity used since the beginning.\n",
      "[codecarbon INFO @ 22:03:59] 0.000456 g.CO2eq/s mean an estimation of 14.384123977034951 kg.CO2eq/year\n",
      "[codecarbon INFO @ 22:04:14] Energy consumed for RAM : 0.002713 kWh. RAM Power : 3.0 W\n",
      "[codecarbon INFO @ 22:04:14] Energy consumed for all CPUs : 0.004523 kWh. Total CPU Power : 5.0 W\n",
      "[codecarbon INFO @ 22:04:14] 0.007236 kWh of electricity used since the beginning.\n",
      "[codecarbon INFO @ 22:04:29] Energy consumed for RAM : 0.002726 kWh. RAM Power : 3.0 W\n",
      "[codecarbon INFO @ 22:04:29] Energy consumed for all CPUs : 0.004544 kWh. Total CPU Power : 5.0 W\n",
      "[codecarbon INFO @ 22:04:29] 0.007269 kWh of electricity used since the beginning.\n",
      "[codecarbon INFO @ 22:04:44] Energy consumed for RAM : 0.002738 kWh. RAM Power : 3.0 W\n",
      "[codecarbon INFO @ 22:04:44] Energy consumed for all CPUs : 0.004564 kWh. Total CPU Power : 5.0 W\n",
      "[codecarbon INFO @ 22:04:44] 0.007303 kWh of electricity used since the beginning.\n",
      "[codecarbon INFO @ 22:04:59] Energy consumed for RAM : 0.002751 kWh. RAM Power : 3.0 W\n",
      "[codecarbon INFO @ 22:04:59] Energy consumed for all CPUs : 0.004585 kWh. Total CPU Power : 5.0 W\n",
      "[codecarbon INFO @ 22:04:59] 0.007336 kWh of electricity used since the beginning.\n",
      "[codecarbon INFO @ 22:05:14] Energy consumed for RAM : 0.002763 kWh. RAM Power : 3.0 W\n",
      "[codecarbon INFO @ 22:05:14] Energy consumed for all CPUs : 0.004606 kWh. Total CPU Power : 5.0 W\n",
      "[codecarbon INFO @ 22:05:14] 0.007369 kWh of electricity used since the beginning.\n",
      "[codecarbon INFO @ 22:05:29] Energy consumed for RAM : 0.002776 kWh. RAM Power : 3.0 W\n",
      "[codecarbon INFO @ 22:05:29] Energy consumed for all CPUs : 0.004627 kWh. Total CPU Power : 5.0 W\n",
      "[codecarbon INFO @ 22:05:29] 0.007403 kWh of electricity used since the beginning.\n",
      "[codecarbon INFO @ 22:05:44] Energy consumed for RAM : 0.002788 kWh. RAM Power : 3.0 W\n",
      "[codecarbon INFO @ 22:05:44] Energy consumed for all CPUs : 0.004648 kWh. Total CPU Power : 5.0 W\n",
      "[codecarbon INFO @ 22:05:44] 0.007436 kWh of electricity used since the beginning.\n",
      "[codecarbon INFO @ 22:05:59] Energy consumed for RAM : 0.002801 kWh. RAM Power : 3.0 W\n",
      "[codecarbon INFO @ 22:05:59] Energy consumed for all CPUs : 0.004669 kWh. Total CPU Power : 5.0 W\n",
      "[codecarbon INFO @ 22:05:59] 0.007469 kWh of electricity used since the beginning.\n",
      "[codecarbon INFO @ 22:05:59] 0.000456 g.CO2eq/s mean an estimation of 14.383219020970234 kg.CO2eq/year\n",
      "[codecarbon INFO @ 22:06:14] Energy consumed for RAM : 0.002813 kWh. RAM Power : 3.0 W\n",
      "[codecarbon INFO @ 22:06:14] Energy consumed for all CPUs : 0.004690 kWh. Total CPU Power : 5.0 W\n",
      "[codecarbon INFO @ 22:06:14] 0.007503 kWh of electricity used since the beginning.\n",
      "[codecarbon INFO @ 22:06:29] Energy consumed for RAM : 0.002826 kWh. RAM Power : 3.0 W\n",
      "[codecarbon INFO @ 22:06:29] Energy consumed for all CPUs : 0.004710 kWh. Total CPU Power : 5.0 W\n",
      "[codecarbon INFO @ 22:06:29] 0.007536 kWh of electricity used since the beginning.\n"
     ]
    },
    {
     "name": "stdout",
     "output_type": "stream",
     "text": [
      "Model accuracy score with sigmoid kernel and C=1 : 0.7495\n"
     ]
    }
   ],
   "source": [
    "# instantiate classifier with sigmoid kernel and C=1\n",
    "sigmoid_svc100=SVC(kernel='sigmoid', C=1) \n",
    "\n",
    "\n",
    "# fit classifier to training set\n",
    "sigmoid_svc100.fit(X_train,y_train)\n",
    "\n",
    "\n",
    "# make predictions on test set\n",
    "y_pred=sigmoid_svc100.predict(X_test)\n",
    "\n",
    "\n",
    "# compute and print accuracy score\n",
    "print('Model accuracy score with sigmoid kernel and C=1 : {0:0.4f}'. format(accuracy_score(y_test, y_pred)))"
   ]
  },
  {
   "cell_type": "markdown",
   "metadata": {},
   "source": [
    "Best accuracy is for polynomial kernel"
   ]
  },
  {
   "cell_type": "code",
   "execution_count": 83,
   "metadata": {},
   "outputs": [],
   "source": [
    "#Now, I will compare the train-set and test-set accuracy to check for overfitting."
   ]
  },
  {
   "cell_type": "code",
   "execution_count": 84,
   "metadata": {},
   "outputs": [
    {
     "name": "stderr",
     "output_type": "stream",
     "text": [
      "[codecarbon INFO @ 22:06:44] Energy consumed for RAM : 0.002838 kWh. RAM Power : 3.0 W\n",
      "[codecarbon INFO @ 22:06:44] Energy consumed for all CPUs : 0.004731 kWh. Total CPU Power : 5.0 W\n",
      "[codecarbon INFO @ 22:06:44] 0.007569 kWh of electricity used since the beginning.\n",
      "[codecarbon INFO @ 22:06:59] Energy consumed for RAM : 0.002851 kWh. RAM Power : 3.0 W\n",
      "[codecarbon INFO @ 22:06:59] Energy consumed for all CPUs : 0.004752 kWh. Total CPU Power : 5.0 W\n",
      "[codecarbon INFO @ 22:06:59] 0.007603 kWh of electricity used since the beginning.\n",
      "[codecarbon INFO @ 22:07:14] Energy consumed for RAM : 0.002863 kWh. RAM Power : 3.0 W\n",
      "[codecarbon INFO @ 22:07:14] Energy consumed for all CPUs : 0.004773 kWh. Total CPU Power : 5.0 W\n",
      "[codecarbon INFO @ 22:07:14] 0.007636 kWh of electricity used since the beginning.\n",
      "[codecarbon INFO @ 22:07:29] Energy consumed for RAM : 0.002876 kWh. RAM Power : 3.0 W\n",
      "[codecarbon INFO @ 22:07:29] Energy consumed for all CPUs : 0.004794 kWh. Total CPU Power : 5.0 W\n",
      "[codecarbon INFO @ 22:07:29] 0.007670 kWh of electricity used since the beginning.\n",
      "[codecarbon INFO @ 22:07:44] Energy consumed for RAM : 0.002888 kWh. RAM Power : 3.0 W\n",
      "[codecarbon INFO @ 22:07:44] Energy consumed for all CPUs : 0.004815 kWh. Total CPU Power : 5.0 W\n",
      "[codecarbon INFO @ 22:07:44] 0.007703 kWh of electricity used since the beginning.\n",
      "[codecarbon INFO @ 22:07:59] Energy consumed for RAM : 0.002901 kWh. RAM Power : 3.0 W\n",
      "[codecarbon INFO @ 22:07:59] Energy consumed for all CPUs : 0.004835 kWh. Total CPU Power : 5.0 W\n",
      "[codecarbon INFO @ 22:07:59] 0.007736 kWh of electricity used since the beginning.\n",
      "[codecarbon INFO @ 22:07:59] 0.000456 g.CO2eq/s mean an estimation of 14.383449199984472 kg.CO2eq/year\n",
      "[codecarbon INFO @ 22:08:14] Energy consumed for RAM : 0.002913 kWh. RAM Power : 3.0 W\n",
      "[codecarbon INFO @ 22:08:14] Energy consumed for all CPUs : 0.004856 kWh. Total CPU Power : 5.0 W\n",
      "[codecarbon INFO @ 22:08:14] 0.007770 kWh of electricity used since the beginning.\n",
      "[codecarbon INFO @ 22:08:29] Energy consumed for RAM : 0.002926 kWh. RAM Power : 3.0 W\n",
      "[codecarbon INFO @ 22:08:29] Energy consumed for all CPUs : 0.004877 kWh. Total CPU Power : 5.0 W\n",
      "[codecarbon INFO @ 22:08:29] 0.007803 kWh of electricity used since the beginning.\n",
      "[codecarbon INFO @ 22:08:44] Energy consumed for RAM : 0.002938 kWh. RAM Power : 3.0 W\n",
      "[codecarbon INFO @ 22:08:44] Energy consumed for all CPUs : 0.004898 kWh. Total CPU Power : 5.0 W\n",
      "[codecarbon INFO @ 22:08:44] 0.007836 kWh of electricity used since the beginning.\n",
      "[codecarbon INFO @ 22:08:59] Energy consumed for RAM : 0.002951 kWh. RAM Power : 3.0 W\n",
      "[codecarbon INFO @ 22:08:59] Energy consumed for all CPUs : 0.004919 kWh. Total CPU Power : 5.0 W\n",
      "[codecarbon INFO @ 22:08:59] 0.007870 kWh of electricity used since the beginning.\n",
      "[codecarbon INFO @ 22:09:14] Energy consumed for RAM : 0.002963 kWh. RAM Power : 3.0 W\n",
      "[codecarbon INFO @ 22:09:14] Energy consumed for all CPUs : 0.004940 kWh. Total CPU Power : 5.0 W\n",
      "[codecarbon INFO @ 22:09:14] 0.007903 kWh of electricity used since the beginning.\n"
     ]
    },
    {
     "name": "stdout",
     "output_type": "stream",
     "text": [
      "Training set score: 0.8743\n"
     ]
    },
    {
     "name": "stderr",
     "output_type": "stream",
     "text": [
      "[codecarbon INFO @ 22:09:29] Energy consumed for RAM : 0.002976 kWh. RAM Power : 3.0 W\n",
      "[codecarbon INFO @ 22:09:29] Energy consumed for all CPUs : 0.004960 kWh. Total CPU Power : 5.0 W\n",
      "[codecarbon INFO @ 22:09:29] 0.007936 kWh of electricity used since the beginning.\n",
      "[codecarbon INFO @ 22:09:44] Energy consumed for RAM : 0.002988 kWh. RAM Power : 3.0 W\n",
      "[codecarbon INFO @ 22:09:44] Energy consumed for all CPUs : 0.004981 kWh. Total CPU Power : 5.0 W\n",
      "[codecarbon INFO @ 22:09:44] 0.007970 kWh of electricity used since the beginning.\n",
      "[codecarbon INFO @ 22:09:59] Energy consumed for RAM : 0.003001 kWh. RAM Power : 3.0 W\n",
      "[codecarbon INFO @ 22:09:59] Energy consumed for all CPUs : 0.005002 kWh. Total CPU Power : 5.0 W\n",
      "[codecarbon INFO @ 22:09:59] 0.008003 kWh of electricity used since the beginning.\n",
      "[codecarbon INFO @ 22:09:59] 0.000456 g.CO2eq/s mean an estimation of 14.383151794940916 kg.CO2eq/year\n"
     ]
    },
    {
     "name": "stdout",
     "output_type": "stream",
     "text": [
      "Test set score: 0.8603\n"
     ]
    }
   ],
   "source": [
    "print('Training set score: {:.4f}'.format(poly_svc.score(X_train, y_train)))\n",
    "\n",
    "print('Test set score: {:.4f}'.format(poly_svc.score(X_test, y_test)))"
   ]
  },
  {
   "cell_type": "markdown",
   "metadata": {},
   "source": [
    "No overfitting"
   ]
  },
  {
   "cell_type": "code",
   "execution_count": 85,
   "metadata": {},
   "outputs": [
    {
     "name": "stdout",
     "output_type": "stream",
     "text": [
      "Confusion matrix\n",
      "\n",
      " [[21077   990]\n",
      " [ 3262  3110]]\n",
      "\n",
      "True Positives(TP) =  21077\n",
      "\n",
      "True Negatives(TN) =  3110\n",
      "\n",
      "False Positives(FP) =  990\n",
      "\n",
      "False Negatives(FN) =  3262\n"
     ]
    }
   ],
   "source": [
    "# Print the Confusion Matrix and slice it into four pieces\n",
    "\n",
    "from sklearn.metrics import confusion_matrix\n",
    "\n",
    "cm = confusion_matrix(y_test, y_pred_test)\n",
    "\n",
    "print('Confusion matrix\\n\\n', cm)\n",
    "\n",
    "print('\\nTrue Positives(TP) = ', cm[0,0])\n",
    "\n",
    "print('\\nTrue Negatives(TN) = ', cm[1,1])\n",
    "\n",
    "print('\\nFalse Positives(FP) = ', cm[0,1])\n",
    "\n",
    "print('\\nFalse Negatives(FN) = ', cm[1,0])"
   ]
  },
  {
   "cell_type": "code",
   "execution_count": 86,
   "metadata": {},
   "outputs": [
    {
     "data": {
      "text/plain": [
       "<AxesSubplot:>"
      ]
     },
     "execution_count": 86,
     "metadata": {},
     "output_type": "execute_result"
    },
    {
     "data": {
      "image/png": "[encoded data removed]",
      "text/plain": [
       "<Figure size 432x288 with 2 Axes>"
      ]
     },
     "metadata": {
      "needs_background": "light"
     },
     "output_type": "display_data"
    }
   ],
   "source": [
    "# visualize confusion matrix with seaborn heatmap\n",
    "\n",
    "cm_matrix = pd.DataFrame(data=cm, columns=['Actual Positive:1', 'Actual Negative:0'], \n",
    "                                 index=['Predict Positive:1', 'Predict Negative:0'])\n",
    "\n",
    "sns.heatmap(cm_matrix, annot=True, fmt='d', cmap='YlGnBu')"
   ]
  },
  {
   "cell_type": "code",
   "execution_count": 87,
   "metadata": {},
   "outputs": [
    {
     "name": "stdout",
     "output_type": "stream",
     "text": [
      "              precision    recall  f1-score   support\n",
      "\n",
      "          No       0.87      0.96      0.91     22067\n",
      "         Yes       0.76      0.49      0.59      6372\n",
      "\n",
      "    accuracy                           0.85     28439\n",
      "   macro avg       0.81      0.72      0.75     28439\n",
      "weighted avg       0.84      0.85      0.84     28439\n",
      "\n"
     ]
    }
   ],
   "source": [
    "from sklearn.metrics import classification_report\n",
    "\n",
    "print(classification_report(y_test, y_pred_test))"
   ]
  },
  {
   "cell_type": "code",
   "execution_count": 88,
   "metadata": {},
   "outputs": [],
   "source": [
    "TP = cm[0,0]\n",
    "TN = cm[1,1]\n",
    "FP = cm[0,1]\n",
    "FN = cm[1,0]"
   ]
  },
  {
   "cell_type": "code",
   "execution_count": 89,
   "metadata": {},
   "outputs": [
    {
     "name": "stdout",
     "output_type": "stream",
     "text": [
      "Classification accuracy : 0.8505\n"
     ]
    }
   ],
   "source": [
    "# print classification accuracy\n",
    "\n",
    "classification_accuracy = (TP + TN) / float(TP + TN + FP + FN)\n",
    "\n",
    "print('Classification accuracy : {0:0.4f}'.format(classification_accuracy))"
   ]
  },
  {
   "cell_type": "code",
   "execution_count": 90,
   "metadata": {},
   "outputs": [
    {
     "name": "stdout",
     "output_type": "stream",
     "text": [
      "Recall or Sensitivity : 0.8660\n"
     ]
    }
   ],
   "source": [
    "recall = TP / float(TP + FN)\n",
    "\n",
    "print('Recall or Sensitivity : {0:0.4f}'.format(recall))"
   ]
  },
  {
   "cell_type": "code",
   "execution_count": 91,
   "metadata": {},
   "outputs": [],
   "source": [
    "y_test_bin = y_test.map({'Yes': 1, 'No': 0})"
   ]
  },
  {
   "cell_type": "code",
   "execution_count": 92,
   "metadata": {},
   "outputs": [
    {
     "data": {
      "text/plain": [
       "86232     0\n",
       "57576     0\n",
       "124071    0\n",
       "117955    0\n",
       "133468    0\n",
       "         ..\n",
       "35297     0\n",
       "48566     0\n",
       "131684    0\n",
       "89915     0\n",
       "66813     1\n",
       "Name: RainTomorrow, Length: 28439, dtype: int64"
      ]
     },
     "execution_count": 92,
     "metadata": {},
     "output_type": "execute_result"
    }
   ],
   "source": [
    "y_test_bin"
   ]
  },
  {
   "cell_type": "code",
   "execution_count": 93,
   "metadata": {},
   "outputs": [
    {
     "data": {
      "text/plain": [
       "array(['No', 'No', 'No', ..., 'No', 'No', 'Yes'], dtype=object)"
      ]
     },
     "execution_count": 93,
     "metadata": {},
     "output_type": "execute_result"
    }
   ],
   "source": [
    "y_pred_test"
   ]
  },
  {
   "cell_type": "code",
   "execution_count": 94,
   "metadata": {},
   "outputs": [],
   "source": [
    "y_pred_bin = pd.Series(y_pred_test).map({'Yes': 1, 'No': 0})"
   ]
  },
  {
   "cell_type": "code",
   "execution_count": 95,
   "metadata": {},
   "outputs": [
    {
     "data": {
      "image/png": "[encoded data removed]",
      "text/plain": [
       "<Figure size 432x288 with 1 Axes>"
      ]
     },
     "metadata": {
      "needs_background": "light"
     },
     "output_type": "display_data"
    }
   ],
   "source": [
    "# plot ROC Curve\n",
    "\n",
    "from sklearn.metrics import roc_curve\n",
    "\n",
    "fpr, tpr, thresholds = roc_curve(y_test_bin, y_pred_bin)\n",
    "\n",
    "plt.figure(figsize=(6,4))\n",
    "\n",
    "plt.plot(fpr, tpr, linewidth=2)\n",
    "\n",
    "plt.plot([0,1], [0,1], 'k--' )\n",
    "\n",
    "plt.rcParams['font.size'] = 12\n",
    "\n",
    "plt.title('ROC curve for Predicting a Pulsar Star classifier')\n",
    "\n",
    "plt.xlabel('False Positive Rate (1 - Specificity)')\n",
    "\n",
    "plt.ylabel('True Positive Rate (Sensitivity)')\n",
    "\n",
    "plt.show()"
   ]
  },
  {
   "cell_type": "code",
   "execution_count": 96,
   "metadata": {},
   "outputs": [
    {
     "name": "stdout",
     "output_type": "stream",
     "text": [
      "ROC AUC : 0.7216\n"
     ]
    }
   ],
   "source": [
    "# compute ROC AUC\n",
    "\n",
    "from sklearn.metrics import roc_auc_score\n",
    "\n",
    "ROC_AUC = roc_auc_score(y_test_bin, y_pred_bin)\n",
    "\n",
    "print('ROC AUC : {:.4f}'.format(ROC_AUC))"
   ]
  },
  {
   "cell_type": "code",
   "execution_count": 97,
   "metadata": {},
   "outputs": [
    {
     "name": "stdout",
     "output_type": "stream",
     "text": [
      "F1 Score: 0.7495\n"
     ]
    }
   ],
   "source": [
    "from sklearn.metrics import f1_score\n",
    "\n",
    "f1 = f1_score(y_test, y_pred, average='weighted')  # Usa 'weighted' si hay clases desbalanceadas\n",
    "print(f'F1 Score: {f1:.4f}')\n"
   ]
  },
  {
   "cell_type": "code",
   "execution_count": 98,
   "metadata": {},
   "outputs": [
    {
     "name": "stderr",
     "output_type": "stream",
     "text": [
      "[codecarbon INFO @ 22:10:06] Energy consumed for RAM : 0.003007 kWh. RAM Power : 3.0 W\n",
      "[codecarbon INFO @ 22:10:06] Energy consumed for all CPUs : 0.005012 kWh. Total CPU Power : 5.0 W\n",
      "[codecarbon INFO @ 22:10:06] 0.008018 kWh of electricity used since the beginning.\n"
     ]
    },
    {
     "data": {
      "text/plain": [
       "0.0016459104299754786"
      ]
     },
     "execution_count": 98,
     "metadata": {},
     "output_type": "execute_result"
    }
   ],
   "source": [
    "# Detener el medidor y obtener los resultados\n",
    "tracker.stop()"
   ]
  }
 ],
 "metadata": {
  "kernelspec": {
   "display_name": "base",
   "language": "python",
   "name": "python3"
  },
  "language_info": {
   "codemirror_mode": {
    "name": "ipython",
    "version": 3
   },
   "file_extension": ".py",
   "mimetype": "text/x-python",
   "name": "python",
   "nbconvert_exporter": "python",
   "pygments_lexer": "ipython3",
   "version": "3.9.12"
  }
 },
 "nbformat": 4,
 "nbformat_minor": 2
}
