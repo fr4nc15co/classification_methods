{
 "cells": [
  {
   "cell_type": "code",
   "execution_count": 1,
   "metadata": {},
   "outputs": [
    {
     "name": "stderr",
     "output_type": "stream",
     "text": [
      "[codecarbon INFO @ 17:45:32] [setup] RAM Tracking...\n",
      "[codecarbon INFO @ 17:45:32] [setup] CPU Tracking...\n",
      "[codecarbon WARNING @ 17:45:35] No CPU tracking mode found. Falling back on CPU constant mode. \n",
      " Mac OS and ARM processor detected: Please enable PowerMetrics sudo to measure CPU\n",
      "\n",
      "[codecarbon INFO @ 17:45:36] CPU Model on constant consumption mode: Apple M1\n",
      "[codecarbon INFO @ 17:45:36] [setup] GPU Tracking...\n",
      "[codecarbon INFO @ 17:45:36] No GPU found.\n",
      "[codecarbon INFO @ 17:45:36] >>> Tracker's metadata:\n",
      "[codecarbon INFO @ 17:45:36]   Platform system: macOS-10.16-x86_64-i386-64bit\n",
      "[codecarbon INFO @ 17:45:36]   Python version: 3.9.12\n",
      "[codecarbon INFO @ 17:45:36]   CodeCarbon version: 2.8.3\n",
      "[codecarbon INFO @ 17:45:36]   Available RAM : 8.000 GB\n",
      "[codecarbon INFO @ 17:45:36]   CPU count: 8\n",
      "[codecarbon INFO @ 17:45:36]   CPU model: Apple M1\n",
      "[codecarbon INFO @ 17:45:36]   GPU count: None\n",
      "[codecarbon INFO @ 17:45:36]   GPU model: None\n",
      "[codecarbon INFO @ 17:45:39] Saving emissions data to file /Users/lucia/Desktop/classification_methods/2ND DATASET/DECISION TREES/emissions.csv\n"
     ]
    }
   ],
   "source": [
    "from codecarbon import EmissionsTracker\n",
    "try:\n",
    "    tracker.stop()  # Intenta detener cualquier instancia previa de codecarbon\n",
    "except:\n",
    "    pass  # Ignora el error si no hay ninguna instancia activa\n",
    "# Iniciar el medidor\n",
    "tracker = EmissionsTracker()\n",
    "tracker.start()"
   ]
  },
  {
   "cell_type": "code",
   "execution_count": 2,
   "metadata": {},
   "outputs": [],
   "source": [
    "import numpy as np # linear algebra\n",
    "import pandas as pd # data processing, CSV file I/O (e.g. pd.read_csv)\n",
    "import matplotlib.pyplot as plt # data visualization\n",
    "import seaborn as sns # statistical data visualization"
   ]
  },
  {
   "cell_type": "code",
   "execution_count": 3,
   "metadata": {},
   "outputs": [
    {
     "name": "stdout",
     "output_type": "stream",
     "text": [
      "Path to dataset files: /Users/lucia/.cache/kagglehub/datasets/bhoomikavalani/donateacrycorpusfeaturesdataset/versions/2\n"
     ]
    }
   ],
   "source": [
    "import kagglehub\n",
    "\n",
    "# Download latest version\n",
    "path = kagglehub.dataset_download(\"bhoomikavalani/donateacrycorpusfeaturesdataset\")\n",
    "\n",
    "print(\"Path to dataset files:\", path)"
   ]
  },
  {
   "cell_type": "code",
   "execution_count": 4,
   "metadata": {},
   "outputs": [],
   "source": [
    "data = '/Users/lucia/.cache/kagglehub/datasets/bhoomikavalani/donateacrycorpusfeaturesdataset/versions/2/donateacry-corpus_features_final.csv'\n",
    "\n",
    "df = pd.read_csv(data)"
   ]
  },
  {
   "cell_type": "code",
   "execution_count": 5,
   "metadata": {},
   "outputs": [],
   "source": [
    "import re\n",
    "\n",
    "def extraer_info_mejorada(ruta):\n",
    "    # Extrae con regex el patrón típico del final del nombre del archivo\n",
    "    match = re.search(r'-([\\d.]+)-(m|f)-(\\d+)-', ruta)\n",
    "    if match:\n",
    "        # match.groups() devuelve (edad_raw, genero, edad_clasificada)\n",
    "        edad_raw, genero, edad = match.groups()\n",
    "        return genero, edad\n",
    "    else:\n",
    "        return None, None  # si no encuentra patrón, deja como None\n",
    "\n",
    "df[['Genero', 'Edad_Codigo']] = df['Cry_Audio_File'].apply(lambda x: pd.Series(extraer_info_mejorada(x)))\n",
    "\n",
    "df['Genero'] = df['Genero'].map({'m': 0, 'f': 1})\n",
    "\n",
    "edad_map = {\n",
    "    '04': 1,\n",
    "    '48': 2,\n",
    "    '26': 3,\n",
    "    '72': 4,\n",
    "    '22': 5\n",
    "}\n",
    "\n",
    "df['Edad'] = df['Edad_Codigo'].map(edad_map)\n",
    "\n",
    "df.drop(columns=['Cry_Audio_File', 'Edad_Codigo'], inplace=True)"
   ]
  },
  {
   "cell_type": "code",
   "execution_count": 6,
   "metadata": {},
   "outputs": [
    {
     "data": {
      "application/vnd.microsoft.datawrangler.viewer.v0+json": {
       "columns": [
        {
         "name": "index",
         "rawType": "int64",
         "type": "integer"
        },
        {
         "name": "Cry_Reason",
         "rawType": "int64",
         "type": "integer"
        },
        {
         "name": "Amplitude_Envelope_Mean",
         "rawType": "float64",
         "type": "float"
        },
        {
         "name": "RMS_Mean",
         "rawType": "float64",
         "type": "float"
        },
        {
         "name": "ZCR_Mean",
         "rawType": "float64",
         "type": "float"
        },
        {
         "name": "STFT_Mean",
         "rawType": "float64",
         "type": "float"
        },
        {
         "name": "SC_Mean",
         "rawType": "float64",
         "type": "float"
        },
        {
         "name": "SBAN_Mean",
         "rawType": "float64",
         "type": "float"
        },
        {
         "name": "SCON_Mean",
         "rawType": "float64",
         "type": "float"
        },
        {
         "name": "MFCCs13Mean",
         "rawType": "float64",
         "type": "float"
        },
        {
         "name": "delMFCCs13",
         "rawType": "float64",
         "type": "float"
        },
        {
         "name": "del2MFCCs13",
         "rawType": "float64",
         "type": "float"
        },
        {
         "name": "MelSpec",
         "rawType": "float64",
         "type": "float"
        },
        {
         "name": "MFCCs20",
         "rawType": "float64",
         "type": "float"
        },
        {
         "name": "MFCCs1",
         "rawType": "float64",
         "type": "float"
        },
        {
         "name": "MFCCs2",
         "rawType": "float64",
         "type": "float"
        },
        {
         "name": "MFCCs3",
         "rawType": "float64",
         "type": "float"
        },
        {
         "name": "MFCCs4",
         "rawType": "float64",
         "type": "float"
        },
        {
         "name": "MFCCs5",
         "rawType": "float64",
         "type": "float"
        },
        {
         "name": "MFCCs6",
         "rawType": "float64",
         "type": "float"
        },
        {
         "name": "MFCCs7",
         "rawType": "float64",
         "type": "float"
        },
        {
         "name": "MFCCs8",
         "rawType": "float64",
         "type": "float"
        },
        {
         "name": "MFCCs9",
         "rawType": "float64",
         "type": "float"
        },
        {
         "name": "MFCCs10",
         "rawType": "float64",
         "type": "float"
        },
        {
         "name": "MFCCs11",
         "rawType": "float64",
         "type": "float"
        },
        {
         "name": "MFCCs12",
         "rawType": "float64",
         "type": "float"
        },
        {
         "name": "MFCCs13",
         "rawType": "float64",
         "type": "float"
        },
        {
         "name": "Genero",
         "rawType": "int64",
         "type": "integer"
        },
        {
         "name": "Edad",
         "rawType": "int64",
         "type": "integer"
        }
       ],
       "conversionMethod": "pd.DataFrame",
       "ref": "4f9f7908-b46d-46e2-8729-994d0eff335d",
       "rows": [
        [
         "0",
         "0",
         "0.028202115",
         "0.011049677",
         "0.0989900115352349",
         "0.10238884",
         "1264.335599246895",
         "519.1011206437458",
         "26.821806993216565",
         "-48.27123",
         "0.08218775",
         "-0.0030100995",
         "-52.58201",
         "-31.961296",
         "-606.60547",
         "93.9349",
         "-47.782738",
         "-15.073559",
         "10.004257",
         "-30.088297",
         "-18.766724",
         "8.679635",
         "-2.3520777",
         "-7.7462444",
         "-3.0962021",
         "-4.7152734",
         "-3.9180954",
         "0",
         "3"
        ],
        [
         "1",
         "0",
         "0.02107089",
         "0.006950727",
         "0.1153831229304635",
         "0.050369333",
         "1268.6087664409108",
         "575.4575492212196",
         "25.88131249452339",
         "-49.861237",
         "0.10137523",
         "0.01890978",
         "-55.12258",
         "-32.50051",
         "-628.12067",
         "101.60248",
         "-34.45939",
         "-10.316871",
         "-0.6070605",
         "-25.927773",
         "-4.430356",
         "-4.6190925",
         "-22.430754",
         "-4.3032727",
         "0.17262046",
         "-11.258208",
         "-3.4977849",
         "1",
         "3"
        ],
        [
         "2",
         "0",
         "0.029967224",
         "0.010904365",
         "0.1166626806972789",
         "0.10004214",
         "1546.5782001227976",
         "699.6266488662309",
         "26.594714567728595",
         "-49.541706",
         "0.02360533",
         "0.020593692",
         "-50.736797",
         "-31.240011",
         "-585.09564",
         "86.38556",
         "-67.562416",
         "-22.161522",
         "2.0707543",
         "-26.675592",
         "3.2948687",
         "7.7887993",
         "-21.903955",
         "-5.7445436",
         "4.150358",
         "-11.7187195",
         "-6.870083",
         "0",
         "1"
        ],
        [
         "3",
         "0",
         "0.02716325",
         "0.0105199395",
         "0.0850805825745033",
         "0.14076592",
         "1089.4153278195622",
         "668.8959514985646",
         "25.608309568066048",
         "-44.275997",
         "-0.016075362",
         "0.030941423",
         "-47.15573",
         "-29.790195",
         "-538.0991",
         "96.096985",
         "-20.241573",
         "-1.7045985",
         "0.22628057",
         "-29.814095",
         "-14.937744",
         "-11.162116",
         "-21.503994",
         "-7.5013094",
         "-7.856627",
         "-15.119538",
         "-3.9704835",
         "0",
         "4"
        ],
        [
         "4",
         "0",
         "0.01666276",
         "0.0065766405",
         "0.0671079521937086",
         "0.057628784",
         "1017.6109317678302",
         "700.6824103338755",
         "28.19600976076448",
         "-51.325264",
         "0.02111214",
         "0.012414595",
         "-54.007328",
         "-32.03135",
         "-611.4486",
         "68.68205",
         "-8.392762",
         "7.8121095",
         "-9.09841",
         "-34.050182",
         "-9.673841",
         "-11.780775",
         "-24.962975",
         "-7.6970654",
         "-9.014325",
         "-15.366213",
         "-2.2374368",
         "0",
         "4"
        ]
       ],
       "shape": {
        "columns": 28,
        "rows": 5
       }
      },
      "text/html": [
       "<div>\n",
       "<style scoped>\n",
       "    .dataframe tbody tr th:only-of-type {\n",
       "        vertical-align: middle;\n",
       "    }\n",
       "\n",
       "    .dataframe tbody tr th {\n",
       "        vertical-align: top;\n",
       "    }\n",
       "\n",
       "    .dataframe thead th {\n",
       "        text-align: right;\n",
       "    }\n",
       "</style>\n",
       "<table border=\"1\" class=\"dataframe\">\n",
       "  <thead>\n",
       "    <tr style=\"text-align: right;\">\n",
       "      <th></th>\n",
       "      <th>Cry_Reason</th>\n",
       "      <th>Amplitude_Envelope_Mean</th>\n",
       "      <th>RMS_Mean</th>\n",
       "      <th>ZCR_Mean</th>\n",
       "      <th>STFT_Mean</th>\n",
       "      <th>SC_Mean</th>\n",
       "      <th>SBAN_Mean</th>\n",
       "      <th>SCON_Mean</th>\n",
       "      <th>MFCCs13Mean</th>\n",
       "      <th>delMFCCs13</th>\n",
       "      <th>...</th>\n",
       "      <th>MFCCs6</th>\n",
       "      <th>MFCCs7</th>\n",
       "      <th>MFCCs8</th>\n",
       "      <th>MFCCs9</th>\n",
       "      <th>MFCCs10</th>\n",
       "      <th>MFCCs11</th>\n",
       "      <th>MFCCs12</th>\n",
       "      <th>MFCCs13</th>\n",
       "      <th>Genero</th>\n",
       "      <th>Edad</th>\n",
       "    </tr>\n",
       "  </thead>\n",
       "  <tbody>\n",
       "    <tr>\n",
       "      <th>0</th>\n",
       "      <td>0</td>\n",
       "      <td>0.028202</td>\n",
       "      <td>0.011050</td>\n",
       "      <td>0.098990</td>\n",
       "      <td>0.102389</td>\n",
       "      <td>1264.335599</td>\n",
       "      <td>519.101121</td>\n",
       "      <td>26.821807</td>\n",
       "      <td>-48.271230</td>\n",
       "      <td>0.082188</td>\n",
       "      <td>...</td>\n",
       "      <td>-30.088297</td>\n",
       "      <td>-18.766724</td>\n",
       "      <td>8.679635</td>\n",
       "      <td>-2.352078</td>\n",
       "      <td>-7.746244</td>\n",
       "      <td>-3.096202</td>\n",
       "      <td>-4.715273</td>\n",
       "      <td>-3.918095</td>\n",
       "      <td>0</td>\n",
       "      <td>3</td>\n",
       "    </tr>\n",
       "    <tr>\n",
       "      <th>1</th>\n",
       "      <td>0</td>\n",
       "      <td>0.021071</td>\n",
       "      <td>0.006951</td>\n",
       "      <td>0.115383</td>\n",
       "      <td>0.050369</td>\n",
       "      <td>1268.608766</td>\n",
       "      <td>575.457549</td>\n",
       "      <td>25.881312</td>\n",
       "      <td>-49.861237</td>\n",
       "      <td>0.101375</td>\n",
       "      <td>...</td>\n",
       "      <td>-25.927773</td>\n",
       "      <td>-4.430356</td>\n",
       "      <td>-4.619092</td>\n",
       "      <td>-22.430754</td>\n",
       "      <td>-4.303273</td>\n",
       "      <td>0.172620</td>\n",
       "      <td>-11.258208</td>\n",
       "      <td>-3.497785</td>\n",
       "      <td>1</td>\n",
       "      <td>3</td>\n",
       "    </tr>\n",
       "    <tr>\n",
       "      <th>2</th>\n",
       "      <td>0</td>\n",
       "      <td>0.029967</td>\n",
       "      <td>0.010904</td>\n",
       "      <td>0.116663</td>\n",
       "      <td>0.100042</td>\n",
       "      <td>1546.578200</td>\n",
       "      <td>699.626649</td>\n",
       "      <td>26.594715</td>\n",
       "      <td>-49.541706</td>\n",
       "      <td>0.023605</td>\n",
       "      <td>...</td>\n",
       "      <td>-26.675592</td>\n",
       "      <td>3.294869</td>\n",
       "      <td>7.788799</td>\n",
       "      <td>-21.903955</td>\n",
       "      <td>-5.744544</td>\n",
       "      <td>4.150358</td>\n",
       "      <td>-11.718720</td>\n",
       "      <td>-6.870083</td>\n",
       "      <td>0</td>\n",
       "      <td>1</td>\n",
       "    </tr>\n",
       "    <tr>\n",
       "      <th>3</th>\n",
       "      <td>0</td>\n",
       "      <td>0.027163</td>\n",
       "      <td>0.010520</td>\n",
       "      <td>0.085081</td>\n",
       "      <td>0.140766</td>\n",
       "      <td>1089.415328</td>\n",
       "      <td>668.895951</td>\n",
       "      <td>25.608310</td>\n",
       "      <td>-44.275997</td>\n",
       "      <td>-0.016075</td>\n",
       "      <td>...</td>\n",
       "      <td>-29.814095</td>\n",
       "      <td>-14.937744</td>\n",
       "      <td>-11.162116</td>\n",
       "      <td>-21.503994</td>\n",
       "      <td>-7.501309</td>\n",
       "      <td>-7.856627</td>\n",
       "      <td>-15.119538</td>\n",
       "      <td>-3.970483</td>\n",
       "      <td>0</td>\n",
       "      <td>4</td>\n",
       "    </tr>\n",
       "    <tr>\n",
       "      <th>4</th>\n",
       "      <td>0</td>\n",
       "      <td>0.016663</td>\n",
       "      <td>0.006577</td>\n",
       "      <td>0.067108</td>\n",
       "      <td>0.057629</td>\n",
       "      <td>1017.610932</td>\n",
       "      <td>700.682410</td>\n",
       "      <td>28.196010</td>\n",
       "      <td>-51.325264</td>\n",
       "      <td>0.021112</td>\n",
       "      <td>...</td>\n",
       "      <td>-34.050182</td>\n",
       "      <td>-9.673841</td>\n",
       "      <td>-11.780775</td>\n",
       "      <td>-24.962975</td>\n",
       "      <td>-7.697065</td>\n",
       "      <td>-9.014325</td>\n",
       "      <td>-15.366213</td>\n",
       "      <td>-2.237437</td>\n",
       "      <td>0</td>\n",
       "      <td>4</td>\n",
       "    </tr>\n",
       "  </tbody>\n",
       "</table>\n",
       "<p>5 rows × 28 columns</p>\n",
       "</div>"
      ],
      "text/plain": [
       "   Cry_Reason  Amplitude_Envelope_Mean  RMS_Mean  ZCR_Mean  STFT_Mean  \\\n",
       "0           0                 0.028202  0.011050  0.098990   0.102389   \n",
       "1           0                 0.021071  0.006951  0.115383   0.050369   \n",
       "2           0                 0.029967  0.010904  0.116663   0.100042   \n",
       "3           0                 0.027163  0.010520  0.085081   0.140766   \n",
       "4           0                 0.016663  0.006577  0.067108   0.057629   \n",
       "\n",
       "       SC_Mean   SBAN_Mean  SCON_Mean  MFCCs13Mean  delMFCCs13  ...  \\\n",
       "0  1264.335599  519.101121  26.821807   -48.271230    0.082188  ...   \n",
       "1  1268.608766  575.457549  25.881312   -49.861237    0.101375  ...   \n",
       "2  1546.578200  699.626649  26.594715   -49.541706    0.023605  ...   \n",
       "3  1089.415328  668.895951  25.608310   -44.275997   -0.016075  ...   \n",
       "4  1017.610932  700.682410  28.196010   -51.325264    0.021112  ...   \n",
       "\n",
       "      MFCCs6     MFCCs7     MFCCs8     MFCCs9   MFCCs10   MFCCs11    MFCCs12  \\\n",
       "0 -30.088297 -18.766724   8.679635  -2.352078 -7.746244 -3.096202  -4.715273   \n",
       "1 -25.927773  -4.430356  -4.619092 -22.430754 -4.303273  0.172620 -11.258208   \n",
       "2 -26.675592   3.294869   7.788799 -21.903955 -5.744544  4.150358 -11.718720   \n",
       "3 -29.814095 -14.937744 -11.162116 -21.503994 -7.501309 -7.856627 -15.119538   \n",
       "4 -34.050182  -9.673841 -11.780775 -24.962975 -7.697065 -9.014325 -15.366213   \n",
       "\n",
       "    MFCCs13  Genero  Edad  \n",
       "0 -3.918095       0     3  \n",
       "1 -3.497785       1     3  \n",
       "2 -6.870083       0     1  \n",
       "3 -3.970483       0     4  \n",
       "4 -2.237437       0     4  \n",
       "\n",
       "[5 rows x 28 columns]"
      ]
     },
     "execution_count": 6,
     "metadata": {},
     "output_type": "execute_result"
    }
   ],
   "source": [
    "df.head()"
   ]
  },
  {
   "cell_type": "code",
   "execution_count": 7,
   "metadata": {},
   "outputs": [
    {
     "data": {
      "text/plain": [
       "Index(['Cry_Reason', 'Amplitude_Envelope_Mean', 'RMS_Mean', 'ZCR_Mean',\n",
       "       'STFT_Mean', 'SC_Mean', 'SBAN_Mean', 'SCON_Mean', 'MFCCs13Mean',\n",
       "       'delMFCCs13', 'del2MFCCs13', 'MelSpec', 'MFCCs20', 'MFCCs1', 'MFCCs2',\n",
       "       'MFCCs3', 'MFCCs4', 'MFCCs5', 'MFCCs6', 'MFCCs7', 'MFCCs8', 'MFCCs9',\n",
       "       'MFCCs10', 'MFCCs11', 'MFCCs12', 'MFCCs13', 'Genero', 'Edad'],\n",
       "      dtype='object')"
      ]
     },
     "execution_count": 7,
     "metadata": {},
     "output_type": "execute_result"
    }
   ],
   "source": [
    "col_names = df.columns\n",
    "\n",
    "col_names"
   ]
  },
  {
   "cell_type": "code",
   "execution_count": 8,
   "metadata": {},
   "outputs": [],
   "source": [
    "X = df.drop(['Cry_Reason'], axis=1)\n",
    "\n",
    "y = df['Cry_Reason']"
   ]
  },
  {
   "cell_type": "code",
   "execution_count": 9,
   "metadata": {},
   "outputs": [],
   "source": [
    "from sklearn.model_selection import train_test_split\n",
    "\n",
    "X_train, X_test, y_train, y_test = train_test_split(X, y, test_size = 0.2, random_state = 0)"
   ]
  },
  {
   "cell_type": "code",
   "execution_count": 10,
   "metadata": {},
   "outputs": [],
   "source": [
    "cols = X_train.columns"
   ]
  },
  {
   "cell_type": "code",
   "execution_count": 11,
   "metadata": {},
   "outputs": [
    {
     "data": {
      "text/plain": [
       "((365, 27), (92, 27))"
      ]
     },
     "execution_count": 11,
     "metadata": {},
     "output_type": "execute_result"
    }
   ],
   "source": [
    "#20% test, 80% training\n",
    "X_train.shape, X_test.shape"
   ]
  },
  {
   "cell_type": "code",
   "execution_count": 12,
   "metadata": {},
   "outputs": [],
   "source": [
    "from sklearn.preprocessing import MinMaxScaler\n",
    "\n",
    "scaler = MinMaxScaler()\n",
    "\n",
    "X_train = scaler.fit_transform(X_train)\n",
    "\n",
    "X_test = scaler.transform(X_test)"
   ]
  },
  {
   "cell_type": "code",
   "execution_count": 13,
   "metadata": {},
   "outputs": [],
   "source": [
    "X_train = pd.DataFrame(X_train, columns=[cols])\n"
   ]
  },
  {
   "cell_type": "code",
   "execution_count": 14,
   "metadata": {},
   "outputs": [],
   "source": [
    "X_test = pd.DataFrame(X_test, columns=[cols])"
   ]
  },
  {
   "cell_type": "code",
   "execution_count": 15,
   "metadata": {},
   "outputs": [],
   "source": [
    "from sklearn.tree import DecisionTreeClassifier"
   ]
  },
  {
   "cell_type": "markdown",
   "metadata": {},
   "source": [
    "CRITERIO DE GINI"
   ]
  },
  {
   "cell_type": "code",
   "execution_count": 16,
   "metadata": {},
   "outputs": [
    {
     "data": {
      "text/html": [
       "<style>#sk-container-id-1 {color: black;background-color: white;}#sk-container-id-1 pre{padding: 0;}#sk-container-id-1 div.sk-toggleable {background-color: white;}#sk-container-id-1 label.sk-toggleable__label {cursor: pointer;display: block;width: 100%;margin-bottom: 0;padding: 0.3em;box-sizing: border-box;text-align: center;}#sk-container-id-1 label.sk-toggleable__label-arrow:before {content: \"▸\";float: left;margin-right: 0.25em;color: #696969;}#sk-container-id-1 label.sk-toggleable__label-arrow:hover:before {color: black;}#sk-container-id-1 div.sk-estimator:hover label.sk-toggleable__label-arrow:before {color: black;}#sk-container-id-1 div.sk-toggleable__content {max-height: 0;max-width: 0;overflow: hidden;text-align: left;background-color: #f0f8ff;}#sk-container-id-1 div.sk-toggleable__content pre {margin: 0.2em;color: black;border-radius: 0.25em;background-color: #f0f8ff;}#sk-container-id-1 input.sk-toggleable__control:checked~div.sk-toggleable__content {max-height: 200px;max-width: 100%;overflow: auto;}#sk-container-id-1 input.sk-toggleable__control:checked~label.sk-toggleable__label-arrow:before {content: \"▾\";}#sk-container-id-1 div.sk-estimator input.sk-toggleable__control:checked~label.sk-toggleable__label {background-color: #d4ebff;}#sk-container-id-1 div.sk-label input.sk-toggleable__control:checked~label.sk-toggleable__label {background-color: #d4ebff;}#sk-container-id-1 input.sk-hidden--visually {border: 0;clip: rect(1px 1px 1px 1px);clip: rect(1px, 1px, 1px, 1px);height: 1px;margin: -1px;overflow: hidden;padding: 0;position: absolute;width: 1px;}#sk-container-id-1 div.sk-estimator {font-family: monospace;background-color: #f0f8ff;border: 1px dotted black;border-radius: 0.25em;box-sizing: border-box;margin-bottom: 0.5em;}#sk-container-id-1 div.sk-estimator:hover {background-color: #d4ebff;}#sk-container-id-1 div.sk-parallel-item::after {content: \"\";width: 100%;border-bottom: 1px solid gray;flex-grow: 1;}#sk-container-id-1 div.sk-label:hover label.sk-toggleable__label {background-color: #d4ebff;}#sk-container-id-1 div.sk-serial::before {content: \"\";position: absolute;border-left: 1px solid gray;box-sizing: border-box;top: 0;bottom: 0;left: 50%;z-index: 0;}#sk-container-id-1 div.sk-serial {display: flex;flex-direction: column;align-items: center;background-color: white;padding-right: 0.2em;padding-left: 0.2em;position: relative;}#sk-container-id-1 div.sk-item {position: relative;z-index: 1;}#sk-container-id-1 div.sk-parallel {display: flex;align-items: stretch;justify-content: center;background-color: white;position: relative;}#sk-container-id-1 div.sk-item::before, #sk-container-id-1 div.sk-parallel-item::before {content: \"\";position: absolute;border-left: 1px solid gray;box-sizing: border-box;top: 0;bottom: 0;left: 50%;z-index: -1;}#sk-container-id-1 div.sk-parallel-item {display: flex;flex-direction: column;z-index: 1;position: relative;background-color: white;}#sk-container-id-1 div.sk-parallel-item:first-child::after {align-self: flex-end;width: 50%;}#sk-container-id-1 div.sk-parallel-item:last-child::after {align-self: flex-start;width: 50%;}#sk-container-id-1 div.sk-parallel-item:only-child::after {width: 0;}#sk-container-id-1 div.sk-dashed-wrapped {border: 1px dashed gray;margin: 0 0.4em 0.5em 0.4em;box-sizing: border-box;padding-bottom: 0.4em;background-color: white;}#sk-container-id-1 div.sk-label label {font-family: monospace;font-weight: bold;display: inline-block;line-height: 1.2em;}#sk-container-id-1 div.sk-label-container {text-align: center;}#sk-container-id-1 div.sk-container {/* jupyter's `normalize.less` sets `[hidden] { display: none; }` but bootstrap.min.css set `[hidden] { display: none !important; }` so we also need the `!important` here to be able to override the default hidden behavior on the sphinx rendered scikit-learn.org. See: https://github.com/scikit-learn/scikit-learn/issues/21755 */display: inline-block !important;position: relative;}#sk-container-id-1 div.sk-text-repr-fallback {display: none;}</style><div id=\"sk-container-id-1\" class=\"sk-top-container\"><div class=\"sk-text-repr-fallback\"><pre>DecisionTreeClassifier(max_depth=3, random_state=0)</pre><b>In a Jupyter environment, please rerun this cell to show the HTML representation or trust the notebook. <br />On GitHub, the HTML representation is unable to render, please try loading this page with nbviewer.org.</b></div><div class=\"sk-container\" hidden><div class=\"sk-item\"><div class=\"sk-estimator sk-toggleable\"><input class=\"sk-toggleable__control sk-hidden--visually\" id=\"sk-estimator-id-1\" type=\"checkbox\" checked><label for=\"sk-estimator-id-1\" class=\"sk-toggleable__label sk-toggleable__label-arrow\">DecisionTreeClassifier</label><div class=\"sk-toggleable__content\"><pre>DecisionTreeClassifier(max_depth=3, random_state=0)</pre></div></div></div></div></div>"
      ],
      "text/plain": [
       "DecisionTreeClassifier(max_depth=3, random_state=0)"
      ]
     },
     "execution_count": 16,
     "metadata": {},
     "output_type": "execute_result"
    }
   ],
   "source": [
    "# instantiate the DecisionTreeClassifier model with criterion gini index\n",
    "\n",
    "clf_gini = DecisionTreeClassifier(criterion='gini', max_depth=3, random_state=0)\n",
    "\n",
    "\n",
    "# fit the model\n",
    "clf_gini.fit(X_train, y_train)"
   ]
  },
  {
   "cell_type": "code",
   "execution_count": 17,
   "metadata": {},
   "outputs": [],
   "source": [
    "y_pred_gini = clf_gini.predict(X_test)"
   ]
  },
  {
   "cell_type": "code",
   "execution_count": 18,
   "metadata": {},
   "outputs": [
    {
     "name": "stdout",
     "output_type": "stream",
     "text": [
      "Model accuracy score with criterion gini index: 0.8261\n"
     ]
    }
   ],
   "source": [
    "from sklearn.metrics import accuracy_score\n",
    "\n",
    "print('Model accuracy score with criterion gini index: {0:0.4f}'. format(accuracy_score(y_test, y_pred_gini)))"
   ]
  },
  {
   "cell_type": "code",
   "execution_count": 19,
   "metadata": {},
   "outputs": [
    {
     "data": {
      "text/plain": [
       "array([3, 3, 2, 3, 3, 3, 2, 3, 3, 3, 3, 3, 3, 3, 3, 3, 3, 3, 3, 3, 3, 3,\n",
       "       3, 3, 3, 3, 3, 3, 3, 3, 3, 3, 3, 3, 3, 3, 3, 3, 3, 3, 3, 3, 3, 3,\n",
       "       3, 3, 3, 3, 3, 3, 3, 3, 3, 3, 3, 3, 3, 3, 3, 3, 3, 3, 3, 3, 3, 3,\n",
       "       3, 3, 3, 3, 3, 3, 3, 3, 3, 3, 3, 3, 3, 3, 3, 3, 3, 3, 3, 3, 3, 2,\n",
       "       3, 3, 3, 3, 3, 3, 3, 3, 3, 3, 3, 3, 3, 3, 3, 3, 3, 3, 3, 3, 3, 3,\n",
       "       3, 3, 3, 2, 3, 3, 3, 3, 3, 3, 3, 3, 3, 3, 3, 3, 2, 3, 3, 3, 3, 3,\n",
       "       3, 3, 3, 3, 3, 3, 3, 3, 3, 3, 3, 3, 3, 3, 3, 3, 3, 3, 3, 2, 3, 3,\n",
       "       3, 3, 3, 3, 3, 2, 3, 3, 3, 3, 2, 3, 3, 3, 3, 3, 3, 3, 3, 3, 3, 3,\n",
       "       3, 3, 3, 3, 3, 3, 3, 3, 3, 3, 3, 3, 3, 3, 3, 3, 3, 3, 3, 3, 3, 3,\n",
       "       3, 3, 3, 3, 3, 3, 3, 3, 3, 3, 3, 3, 3, 3, 3, 3, 3, 3, 3, 3, 3, 3,\n",
       "       3, 3, 3, 3, 3, 3, 3, 3, 3, 3, 3, 3, 3, 3, 3, 2, 3, 3, 3, 3, 3, 3,\n",
       "       3, 3, 3, 3, 3, 3, 3, 3, 2, 3, 3, 3, 3, 3, 3, 3, 3, 3, 3, 3, 3, 3,\n",
       "       3, 3, 3, 3, 3, 3, 3, 3, 3, 3, 3, 3, 3, 3, 3, 3, 3, 3, 3, 3, 3, 3,\n",
       "       3, 3, 3, 3, 3, 3, 3, 3, 3, 3, 3, 3, 2, 3, 3, 3, 3, 3, 3, 3, 3, 3,\n",
       "       3, 3, 3, 3, 3, 3, 3, 3, 3, 3, 3, 3, 3, 3, 3, 3, 3, 3, 3, 3, 3, 3,\n",
       "       3, 3, 3, 3, 3, 3, 3, 3, 3, 3, 3, 3, 3, 3, 3, 3, 3, 3, 3, 3, 3, 3,\n",
       "       3, 3, 3, 3, 3, 3, 3, 3, 3, 3, 3, 2, 3])"
      ]
     },
     "execution_count": 19,
     "metadata": {},
     "output_type": "execute_result"
    }
   ],
   "source": [
    "y_pred_train_gini = clf_gini.predict(X_train)\n",
    "\n",
    "y_pred_train_gini"
   ]
  },
  {
   "cell_type": "code",
   "execution_count": 20,
   "metadata": {},
   "outputs": [
    {
     "name": "stdout",
     "output_type": "stream",
     "text": [
      "Training-set accuracy score: 0.8438\n"
     ]
    }
   ],
   "source": [
    "print('Training-set accuracy score: {0:0.4f}'. format(accuracy_score(y_train, y_pred_train_gini)))"
   ]
  },
  {
   "cell_type": "code",
   "execution_count": 21,
   "metadata": {},
   "outputs": [
    {
     "name": "stdout",
     "output_type": "stream",
     "text": [
      "Training set score: 0.8438\n",
      "Test set score: 0.8261\n"
     ]
    }
   ],
   "source": [
    "# print the scores on training and test set\n",
    "\n",
    "print('Training set score: {:.4f}'.format(clf_gini.score(X_train, y_train)))\n",
    "\n",
    "print('Test set score: {:.4f}'.format(clf_gini.score(X_test, y_test)))"
   ]
  },
  {
   "cell_type": "code",
   "execution_count": 22,
   "metadata": {},
   "outputs": [
    {
     "data": {
      "text/plain": [
       "[Text(0.5, 0.875, 'x[19] <= 0.603\\ngini = 0.302\\nsamples = 365\\nvalue = [11, 7, 26, 303, 18]'),\n",
       " Text(0.25, 0.625, 'x[3] <= 0.269\\ngini = 0.231\\nsamples = 286\\nvalue = [7, 4, 14, 250, 11]'),\n",
       " Text(0.125, 0.375, 'x[10] <= 0.745\\ngini = 0.217\\nsamples = 281\\nvalue = [7, 3, 12, 248, 11]'),\n",
       " Text(0.0625, 0.125, 'gini = 0.313\\nsamples = 158\\nvalue = [6, 2, 10, 130, 10]'),\n",
       " Text(0.1875, 0.125, 'gini = 0.079\\nsamples = 123\\nvalue = [1, 1, 2, 118, 1]'),\n",
       " Text(0.375, 0.375, 'x[2] <= 0.584\\ngini = 0.64\\nsamples = 5\\nvalue = [0, 1, 2, 2, 0]'),\n",
       " Text(0.3125, 0.125, 'gini = 0.444\\nsamples = 3\\nvalue = [0, 1, 2, 0, 0]'),\n",
       " Text(0.4375, 0.125, 'gini = 0.0\\nsamples = 2\\nvalue = [0, 0, 0, 2, 0]'),\n",
       " Text(0.75, 0.625, 'x[22] <= 0.386\\ngini = 0.515\\nsamples = 79\\nvalue = [4, 3, 12, 53, 7]'),\n",
       " Text(0.625, 0.375, 'x[16] <= 0.542\\ngini = 0.275\\nsamples = 39\\nvalue = [1, 0, 3, 33, 2]'),\n",
       " Text(0.5625, 0.125, 'gini = 0.0\\nsamples = 25\\nvalue = [0, 0, 0, 25, 0]'),\n",
       " Text(0.6875, 0.125, 'gini = 0.602\\nsamples = 14\\nvalue = [1, 0, 3, 8, 2]'),\n",
       " Text(0.875, 0.375, 'x[10] <= 0.663\\ngini = 0.672\\nsamples = 40\\nvalue = [3, 3, 9, 20, 5]'),\n",
       " Text(0.8125, 0.125, 'gini = 0.667\\nsamples = 9\\nvalue = [1, 0, 4, 1, 3]'),\n",
       " Text(0.9375, 0.125, 'gini = 0.581\\nsamples = 31\\nvalue = [2, 3, 5, 19, 2]')]"
      ]
     },
     "execution_count": 22,
     "metadata": {},
     "output_type": "execute_result"
    },
    {
     "data": {
      "image/png": "[encoded data removed]",
      "text/plain": [
       "<Figure size 864x576 with 1 Axes>"
      ]
     },
     "metadata": {
      "needs_background": "light"
     },
     "output_type": "display_data"
    }
   ],
   "source": [
    "plt.figure(figsize=(12,8))\n",
    "\n",
    "from sklearn import tree\n",
    "\n",
    "tree.plot_tree(clf_gini.fit(X_train, y_train)) "
   ]
  },
  {
   "cell_type": "markdown",
   "metadata": {},
   "source": [
    "CRITERIO DE ENTROPÍA"
   ]
  },
  {
   "cell_type": "code",
   "execution_count": 23,
   "metadata": {},
   "outputs": [
    {
     "data": {
      "text/html": [
       "<style>#sk-container-id-2 {color: black;background-color: white;}#sk-container-id-2 pre{padding: 0;}#sk-container-id-2 div.sk-toggleable {background-color: white;}#sk-container-id-2 label.sk-toggleable__label {cursor: pointer;display: block;width: 100%;margin-bottom: 0;padding: 0.3em;box-sizing: border-box;text-align: center;}#sk-container-id-2 label.sk-toggleable__label-arrow:before {content: \"▸\";float: left;margin-right: 0.25em;color: #696969;}#sk-container-id-2 label.sk-toggleable__label-arrow:hover:before {color: black;}#sk-container-id-2 div.sk-estimator:hover label.sk-toggleable__label-arrow:before {color: black;}#sk-container-id-2 div.sk-toggleable__content {max-height: 0;max-width: 0;overflow: hidden;text-align: left;background-color: #f0f8ff;}#sk-container-id-2 div.sk-toggleable__content pre {margin: 0.2em;color: black;border-radius: 0.25em;background-color: #f0f8ff;}#sk-container-id-2 input.sk-toggleable__control:checked~div.sk-toggleable__content {max-height: 200px;max-width: 100%;overflow: auto;}#sk-container-id-2 input.sk-toggleable__control:checked~label.sk-toggleable__label-arrow:before {content: \"▾\";}#sk-container-id-2 div.sk-estimator input.sk-toggleable__control:checked~label.sk-toggleable__label {background-color: #d4ebff;}#sk-container-id-2 div.sk-label input.sk-toggleable__control:checked~label.sk-toggleable__label {background-color: #d4ebff;}#sk-container-id-2 input.sk-hidden--visually {border: 0;clip: rect(1px 1px 1px 1px);clip: rect(1px, 1px, 1px, 1px);height: 1px;margin: -1px;overflow: hidden;padding: 0;position: absolute;width: 1px;}#sk-container-id-2 div.sk-estimator {font-family: monospace;background-color: #f0f8ff;border: 1px dotted black;border-radius: 0.25em;box-sizing: border-box;margin-bottom: 0.5em;}#sk-container-id-2 div.sk-estimator:hover {background-color: #d4ebff;}#sk-container-id-2 div.sk-parallel-item::after {content: \"\";width: 100%;border-bottom: 1px solid gray;flex-grow: 1;}#sk-container-id-2 div.sk-label:hover label.sk-toggleable__label {background-color: #d4ebff;}#sk-container-id-2 div.sk-serial::before {content: \"\";position: absolute;border-left: 1px solid gray;box-sizing: border-box;top: 0;bottom: 0;left: 50%;z-index: 0;}#sk-container-id-2 div.sk-serial {display: flex;flex-direction: column;align-items: center;background-color: white;padding-right: 0.2em;padding-left: 0.2em;position: relative;}#sk-container-id-2 div.sk-item {position: relative;z-index: 1;}#sk-container-id-2 div.sk-parallel {display: flex;align-items: stretch;justify-content: center;background-color: white;position: relative;}#sk-container-id-2 div.sk-item::before, #sk-container-id-2 div.sk-parallel-item::before {content: \"\";position: absolute;border-left: 1px solid gray;box-sizing: border-box;top: 0;bottom: 0;left: 50%;z-index: -1;}#sk-container-id-2 div.sk-parallel-item {display: flex;flex-direction: column;z-index: 1;position: relative;background-color: white;}#sk-container-id-2 div.sk-parallel-item:first-child::after {align-self: flex-end;width: 50%;}#sk-container-id-2 div.sk-parallel-item:last-child::after {align-self: flex-start;width: 50%;}#sk-container-id-2 div.sk-parallel-item:only-child::after {width: 0;}#sk-container-id-2 div.sk-dashed-wrapped {border: 1px dashed gray;margin: 0 0.4em 0.5em 0.4em;box-sizing: border-box;padding-bottom: 0.4em;background-color: white;}#sk-container-id-2 div.sk-label label {font-family: monospace;font-weight: bold;display: inline-block;line-height: 1.2em;}#sk-container-id-2 div.sk-label-container {text-align: center;}#sk-container-id-2 div.sk-container {/* jupyter's `normalize.less` sets `[hidden] { display: none; }` but bootstrap.min.css set `[hidden] { display: none !important; }` so we also need the `!important` here to be able to override the default hidden behavior on the sphinx rendered scikit-learn.org. See: https://github.com/scikit-learn/scikit-learn/issues/21755 */display: inline-block !important;position: relative;}#sk-container-id-2 div.sk-text-repr-fallback {display: none;}</style><div id=\"sk-container-id-2\" class=\"sk-top-container\"><div class=\"sk-text-repr-fallback\"><pre>DecisionTreeClassifier(criterion=&#x27;entropy&#x27;, max_depth=3, random_state=0)</pre><b>In a Jupyter environment, please rerun this cell to show the HTML representation or trust the notebook. <br />On GitHub, the HTML representation is unable to render, please try loading this page with nbviewer.org.</b></div><div class=\"sk-container\" hidden><div class=\"sk-item\"><div class=\"sk-estimator sk-toggleable\"><input class=\"sk-toggleable__control sk-hidden--visually\" id=\"sk-estimator-id-2\" type=\"checkbox\" checked><label for=\"sk-estimator-id-2\" class=\"sk-toggleable__label sk-toggleable__label-arrow\">DecisionTreeClassifier</label><div class=\"sk-toggleable__content\"><pre>DecisionTreeClassifier(criterion=&#x27;entropy&#x27;, max_depth=3, random_state=0)</pre></div></div></div></div></div>"
      ],
      "text/plain": [
       "DecisionTreeClassifier(criterion='entropy', max_depth=3, random_state=0)"
      ]
     },
     "execution_count": 23,
     "metadata": {},
     "output_type": "execute_result"
    }
   ],
   "source": [
    "# instantiate the DecisionTreeClassifier model with criterion entropy\n",
    "\n",
    "clf_en = DecisionTreeClassifier(criterion='entropy', max_depth=3, random_state=0)\n",
    "\n",
    "\n",
    "# fit the model\n",
    "clf_en.fit(X_train, y_train)"
   ]
  },
  {
   "cell_type": "code",
   "execution_count": 24,
   "metadata": {},
   "outputs": [],
   "source": [
    "y_pred_en = clf_en.predict(X_test)"
   ]
  },
  {
   "cell_type": "code",
   "execution_count": 25,
   "metadata": {},
   "outputs": [
    {
     "name": "stdout",
     "output_type": "stream",
     "text": [
      "Model accuracy score with criterion entropy: 0.8261\n"
     ]
    }
   ],
   "source": [
    "from sklearn.metrics import accuracy_score\n",
    "\n",
    "print('Model accuracy score with criterion entropy: {0:0.4f}'. format(accuracy_score(y_test, y_pred_en)))"
   ]
  },
  {
   "cell_type": "code",
   "execution_count": 26,
   "metadata": {},
   "outputs": [
    {
     "data": {
      "text/plain": [
       "array([3, 3, 3, 3, 3, 3, 2, 3, 3, 3, 3, 3, 3, 3, 3, 3, 3, 3, 3, 3, 3, 3,\n",
       "       3, 3, 3, 3, 3, 3, 3, 3, 3, 3, 3, 3, 3, 3, 3, 3, 3, 3, 3, 3, 3, 3,\n",
       "       3, 3, 3, 3, 3, 3, 3, 3, 3, 3, 3, 3, 3, 3, 3, 3, 3, 3, 3, 3, 3, 3,\n",
       "       3, 3, 3, 3, 3, 3, 3, 3, 3, 3, 3, 3, 3, 3, 3, 3, 3, 3, 3, 3, 3, 2,\n",
       "       3, 3, 3, 3, 3, 3, 3, 3, 3, 3, 3, 3, 3, 3, 3, 3, 3, 3, 3, 3, 3, 3,\n",
       "       3, 3, 3, 3, 3, 3, 3, 3, 3, 3, 3, 3, 3, 3, 3, 3, 3, 3, 3, 3, 3, 3,\n",
       "       3, 3, 3, 3, 3, 3, 3, 2, 3, 3, 3, 3, 3, 3, 3, 3, 3, 3, 3, 3, 3, 3,\n",
       "       3, 3, 3, 3, 3, 3, 3, 3, 3, 3, 3, 3, 3, 3, 3, 3, 3, 3, 3, 3, 3, 3,\n",
       "       3, 3, 3, 3, 3, 3, 3, 3, 3, 3, 2, 3, 3, 3, 3, 3, 3, 3, 3, 3, 3, 3,\n",
       "       3, 3, 3, 3, 3, 3, 3, 3, 3, 3, 3, 3, 3, 3, 3, 3, 2, 3, 3, 3, 3, 3,\n",
       "       3, 3, 3, 3, 3, 3, 3, 3, 3, 3, 3, 3, 3, 3, 3, 3, 3, 2, 3, 3, 3, 3,\n",
       "       3, 2, 3, 3, 3, 3, 3, 3, 3, 3, 3, 3, 3, 3, 2, 3, 3, 3, 3, 3, 3, 3,\n",
       "       3, 3, 3, 3, 3, 3, 3, 3, 3, 2, 3, 3, 3, 3, 3, 3, 3, 3, 3, 3, 3, 3,\n",
       "       3, 3, 3, 3, 3, 3, 3, 3, 3, 3, 3, 3, 3, 3, 3, 3, 3, 3, 2, 3, 3, 3,\n",
       "       3, 3, 2, 3, 3, 3, 3, 3, 3, 3, 2, 3, 3, 3, 3, 3, 3, 3, 3, 3, 3, 3,\n",
       "       3, 3, 3, 3, 3, 3, 2, 3, 3, 3, 3, 3, 3, 3, 3, 3, 3, 3, 3, 3, 3, 3,\n",
       "       3, 3, 3, 3, 3, 3, 3, 2, 3, 3, 3, 3, 3])"
      ]
     },
     "execution_count": 26,
     "metadata": {},
     "output_type": "execute_result"
    }
   ],
   "source": [
    "y_pred_train_en = clf_en.predict(X_train)\n",
    "\n",
    "y_pred_train_en"
   ]
  },
  {
   "cell_type": "code",
   "execution_count": 27,
   "metadata": {},
   "outputs": [
    {
     "name": "stdout",
     "output_type": "stream",
     "text": [
      "Training-set accuracy score: 0.8329\n"
     ]
    }
   ],
   "source": [
    "print('Training-set accuracy score: {0:0.4f}'. format(accuracy_score(y_train, y_pred_train_en)))"
   ]
  },
  {
   "cell_type": "code",
   "execution_count": 28,
   "metadata": {},
   "outputs": [
    {
     "name": "stdout",
     "output_type": "stream",
     "text": [
      "Training set score: 0.8329\n",
      "Test set score: 0.8261\n"
     ]
    }
   ],
   "source": [
    "# print the scores on training and test set\n",
    "\n",
    "print('Training set score: {:.4f}'.format(clf_en.score(X_train, y_train)))\n",
    "\n",
    "print('Test set score: {:.4f}'.format(clf_en.score(X_test, y_test)))"
   ]
  },
  {
   "cell_type": "code",
   "execution_count": 29,
   "metadata": {},
   "outputs": [
    {
     "data": {
      "text/plain": [
       "[Text(0.5, 0.875, 'x[7] <= 0.676\\nentropy = 0.97\\nsamples = 365\\nvalue = [11, 7, 26, 303, 18]'),\n",
       " Text(0.25, 0.625, 'x[24] <= 0.42\\nentropy = 0.988\\nsamples = 240\\nvalue = [9, 2, 14, 197, 18]'),\n",
       " Text(0.125, 0.375, 'x[6] <= 0.524\\nentropy = 1.177\\nsamples = 142\\nvalue = [9, 1, 14, 109, 9]'),\n",
       " Text(0.0625, 0.125, 'entropy = 1.015\\nsamples = 31\\nvalue = [0, 1, 8, 22, 0]'),\n",
       " Text(0.1875, 0.125, 'entropy = 1.091\\nsamples = 111\\nvalue = [9, 0, 6, 87, 9]'),\n",
       " Text(0.375, 0.375, 'x[15] <= 0.534\\nentropy = 0.523\\nsamples = 98\\nvalue = [0, 1, 0, 88, 9]'),\n",
       " Text(0.3125, 0.125, 'entropy = 0.0\\nsamples = 40\\nvalue = [0, 0, 0, 40, 0]'),\n",
       " Text(0.4375, 0.125, 'entropy = 0.744\\nsamples = 58\\nvalue = [0, 1, 0, 48, 9]'),\n",
       " Text(0.75, 0.625, 'x[15] <= 0.508\\nentropy = 0.807\\nsamples = 125\\nvalue = [2, 5, 12, 106, 0]'),\n",
       " Text(0.625, 0.375, 'x[11] <= 0.797\\nentropy = 1.012\\nsamples = 34\\nvalue = [1, 0, 9, 24, 0]'),\n",
       " Text(0.5625, 0.125, 'entropy = 0.469\\nsamples = 20\\nvalue = [0, 0, 2, 18, 0]'),\n",
       " Text(0.6875, 0.125, 'entropy = 1.296\\nsamples = 14\\nvalue = [1, 0, 7, 6, 0]'),\n",
       " Text(0.875, 0.375, 'x[22] <= 0.361\\nentropy = 0.599\\nsamples = 91\\nvalue = [1, 5, 3, 82, 0]'),\n",
       " Text(0.8125, 0.125, 'entropy = 0.0\\nsamples = 51\\nvalue = [0, 0, 0, 51, 0]'),\n",
       " Text(0.9375, 0.125, 'entropy = 1.073\\nsamples = 40\\nvalue = [1, 5, 3, 31, 0]')]"
      ]
     },
     "execution_count": 29,
     "metadata": {},
     "output_type": "execute_result"
    },
    {
     "data": {
      "image/png": "[encoded data removed]",
      "text/plain": [
       "<Figure size 864x576 with 1 Axes>"
      ]
     },
     "metadata": {
      "needs_background": "light"
     },
     "output_type": "display_data"
    }
   ],
   "source": [
    "plt.figure(figsize=(12,8))\n",
    "\n",
    "from sklearn import tree\n",
    "\n",
    "tree.plot_tree(clf_en.fit(X_train, y_train)) "
   ]
  },
  {
   "cell_type": "code",
   "execution_count": 30,
   "metadata": {},
   "outputs": [
    {
     "name": "stdout",
     "output_type": "stream",
     "text": [
      "Accuracy (manual calculation): 0.8260869565217391\n",
      "Accuracy (sklearn): 0.8260869565217391\n"
     ]
    }
   ],
   "source": [
    "from sklearn.metrics import confusion_matrix, accuracy_score\n",
    "\n",
    "# Obtener la matriz de confusión\n",
    "cm = confusion_matrix(y_test, y_pred_en)\n",
    "\n",
    "# Calcular la accuracy manualmente\n",
    "accuracy = np.trace(cm) / np.sum(cm)\n",
    "print(\"Accuracy (manual calculation):\", accuracy)\n",
    "\n",
    "# Calcular la accuracy con sklearn (más general para cualquier número de clases)\n",
    "accuracy_sklearn = accuracy_score(y_test, y_pred_en)\n",
    "print(\"Accuracy (sklearn):\", accuracy_sklearn)"
   ]
  },
  {
   "cell_type": "code",
   "execution_count": 31,
   "metadata": {},
   "outputs": [
    {
     "name": "stdout",
     "output_type": "stream",
     "text": [
      "Confusion Matrix:\n",
      " [[ 0  0  0  5  0]\n",
      " [ 0  0  0  1  0]\n",
      " [ 0  0  0  1  0]\n",
      " [ 0  0  3 76  0]\n",
      " [ 0  0  1  5  0]]\n"
     ]
    }
   ],
   "source": [
    "print(\"Confusion Matrix:\\n\", cm)\n"
   ]
  },
  {
   "cell_type": "code",
   "execution_count": 32,
   "metadata": {},
   "outputs": [
    {
     "name": "stdout",
     "output_type": "stream",
     "text": [
      "              precision    recall  f1-score   support\n",
      "\n",
      "           0       0.00      0.00      0.00         5\n",
      "           1       0.00      0.00      0.00         1\n",
      "           2       0.00      0.00      0.00         1\n",
      "           3       0.86      0.96      0.91        79\n",
      "           4       0.00      0.00      0.00         6\n",
      "\n",
      "    accuracy                           0.83        92\n",
      "   macro avg       0.17      0.19      0.18        92\n",
      "weighted avg       0.74      0.83      0.78        92\n",
      "\n"
     ]
    },
    {
     "name": "stderr",
     "output_type": "stream",
     "text": [
      "/Users/lucia/opt/anaconda3/lib/python3.9/site-packages/sklearn/metrics/_classification.py:1344: UndefinedMetricWarning: Precision and F-score are ill-defined and being set to 0.0 in labels with no predicted samples. Use `zero_division` parameter to control this behavior.\n",
      "  _warn_prf(average, modifier, msg_start, len(result))\n",
      "/Users/lucia/opt/anaconda3/lib/python3.9/site-packages/sklearn/metrics/_classification.py:1344: UndefinedMetricWarning: Precision and F-score are ill-defined and being set to 0.0 in labels with no predicted samples. Use `zero_division` parameter to control this behavior.\n",
      "  _warn_prf(average, modifier, msg_start, len(result))\n",
      "/Users/lucia/opt/anaconda3/lib/python3.9/site-packages/sklearn/metrics/_classification.py:1344: UndefinedMetricWarning: Precision and F-score are ill-defined and being set to 0.0 in labels with no predicted samples. Use `zero_division` parameter to control this behavior.\n",
      "  _warn_prf(average, modifier, msg_start, len(result))\n"
     ]
    }
   ],
   "source": [
    "from sklearn.metrics import classification_report\n",
    "\n",
    "print(classification_report(y_test, y_pred_en))"
   ]
  },
  {
   "cell_type": "markdown",
   "metadata": {},
   "source": [
    "Comparación con Gini:\n",
    "\n",
    "Gini tiene una mejor precisión en el conjunto de entrenamiento (0.8438 vs. 0.8329).\n",
    "\n",
    "Ambos tienen exactamente el mismo rendimiento en el conjunto de prueba (0.8261).\n",
    "\n",
    "¿Con cuál quedarte?\n",
    "\n",
    "Gini tiene un leve mejor rendimiento en el entrenamiento, lo que sugiere que el árbol aprendido con este criterio logra un mejor ajuste.\n",
    "\n",
    "Como el test score es idéntico en ambos casos, la generalización del modelo es la misma.\n",
    "\n",
    "En general, si no hay una gran diferencia, Gini suele ser preferido porque es más rápido computacionalmente.\n",
    "\n",
    "🔹 Recomendación: Quédate con Gini, ya que tiene una ligera ventaja en el entrenamiento sin afectar la generalización."
   ]
  },
  {
   "cell_type": "code",
   "execution_count": 33,
   "metadata": {},
   "outputs": [
    {
     "name": "stdout",
     "output_type": "stream",
     "text": [
      "Accuracy: 0.8261\n",
      "Sensibilidad (Recall): 0.8261\n",
      "F1-score: 0.7769\n",
      "AUC: 0.5229669378191047\n"
     ]
    }
   ],
   "source": [
    "from sklearn.metrics import accuracy_score, recall_score, f1_score, roc_auc_score\n",
    "\n",
    "# Calcular métricas\n",
    "accuracy = accuracy_score(y_test, y_pred_gini)\n",
    "sensibilidad = recall_score(y_test, y_pred_gini, average='weighted')  # Sensibilidad (recall)\n",
    "f1 = f1_score(y_test, y_pred_gini, average='weighted')  # F1-score\n",
    "\n",
    "# AUC solo es válido para problemas binarios; para múltiples clases, se usa 'ovr' (one vs rest)\n",
    "try:\n",
    "    auc = roc_auc_score(y_test, clf_gini.predict_proba(X_test), multi_class='ovr', average='weighted')\n",
    "except ValueError:\n",
    "    auc = \"No se puede calcular AUC para clasificación no probabilística o datos incompatibles.\"\n",
    "\n",
    "# Mostrar resultados\n",
    "print(f\"Accuracy: {accuracy:.4f}\")\n",
    "print(f\"Sensibilidad (Recall): {sensibilidad:.4f}\")\n",
    "print(f\"F1-score: {f1:.4f}\")\n",
    "print(f\"AUC: {auc}\")"
   ]
  },
  {
   "cell_type": "code",
   "execution_count": 34,
   "metadata": {},
   "outputs": [
    {
     "name": "stdout",
     "output_type": "stream",
     "text": [
      "Accuracy: 0.8261\n",
      "Sensibilidad (Recall): 0.8261\n",
      "F1-score: 0.7816\n",
      "AUC: 0.6262258118321367\n"
     ]
    }
   ],
   "source": [
    "from sklearn.metrics import accuracy_score, recall_score, f1_score, roc_auc_score\n",
    "\n",
    "# Calcular métricas\n",
    "accuracy_en = accuracy_score(y_test, y_pred_en)\n",
    "sensibilidad_en = recall_score(y_test, y_pred_en, average='weighted')  # Sensibilidad (recall)\n",
    "f1_en = f1_score(y_test, y_pred_en, average='weighted')  # F1-score\n",
    "\n",
    "# Calcular AUC (para clasificación multiclase usamos 'ovr')\n",
    "try:\n",
    "    auc_en = roc_auc_score(y_test, clf_en.predict_proba(X_test), multi_class='ovr', average='weighted')\n",
    "except ValueError:\n",
    "    auc_en = \"No se puede calcular AUC para clasificación no probabilística o datos incompatibles.\"\n",
    "\n",
    "# Mostrar resultados\n",
    "print(f\"Accuracy: {accuracy_en:.4f}\")\n",
    "print(f\"Sensibilidad (Recall): {sensibilidad_en:.4f}\")\n",
    "print(f\"F1-score: {f1_en:.4f}\")\n",
    "print(f\"AUC: {auc_en}\")\n"
   ]
  },
  {
   "cell_type": "markdown",
   "metadata": {},
   "source": [
    "Entropía trabaja mejor"
   ]
  },
  {
   "cell_type": "code",
   "execution_count": 35,
   "metadata": {},
   "outputs": [
    {
     "name": "stderr",
     "output_type": "stream",
     "text": [
      "[codecarbon INFO @ 17:45:43] Energy consumed for RAM : 0.000003 kWh. RAM Power : 3.0 W\n",
      "[codecarbon INFO @ 17:45:43] Energy consumed for all CPUs : 0.000005 kWh. Total CPU Power : 5.0 W\n",
      "[codecarbon INFO @ 17:45:43] 0.000007 kWh of electricity used since the beginning.\n"
     ]
    },
    {
     "data": {
      "text/plain": [
       "1.482213469975782e-06"
      ]
     },
     "execution_count": 35,
     "metadata": {},
     "output_type": "execute_result"
    }
   ],
   "source": [
    "# Detener el medidor y obtener los resultados\n",
    "tracker.stop()"
   ]
  }
 ],
 "metadata": {
  "kernelspec": {
   "display_name": "base",
   "language": "python",
   "name": "python3"
  },
  "language_info": {
   "codemirror_mode": {
    "name": "ipython",
    "version": 3
   },
   "file_extension": ".py",
   "mimetype": "text/x-python",
   "name": "python",
   "nbconvert_exporter": "python",
   "pygments_lexer": "ipython3",
   "version": "3.9.12"
  }
 },
 "nbformat": 4,
 "nbformat_minor": 2
}
