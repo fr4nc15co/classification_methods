{
 "cells": [
  {
   "cell_type": "code",
   "execution_count": 1,
   "id": "f6d52ca7",
   "metadata": {},
   "outputs": [
    {
     "name": "stderr",
     "output_type": "stream",
     "text": [
      "[codecarbon INFO @ 19:09:58] [setup] RAM Tracking...\n",
      "[codecarbon INFO @ 19:09:58] [setup] CPU Tracking...\n",
      "[codecarbon WARNING @ 19:10:01] No CPU tracking mode found. Falling back on CPU constant mode. \n",
      " Mac OS and ARM processor detected: Please enable PowerMetrics sudo to measure CPU\n",
      "\n",
      "[codecarbon INFO @ 19:10:02] CPU Model on constant consumption mode: Apple M1\n",
      "[codecarbon INFO @ 19:10:02] [setup] GPU Tracking...\n",
      "[codecarbon INFO @ 19:10:02] No GPU found.\n",
      "[codecarbon INFO @ 19:10:02] >>> Tracker's metadata:\n",
      "[codecarbon INFO @ 19:10:02]   Platform system: macOS-10.16-x86_64-i386-64bit\n",
      "[codecarbon INFO @ 19:10:02]   Python version: 3.9.12\n",
      "[codecarbon INFO @ 19:10:02]   CodeCarbon version: 2.8.3\n",
      "[codecarbon INFO @ 19:10:02]   Available RAM : 8.000 GB\n",
      "[codecarbon INFO @ 19:10:02]   CPU count: 8\n",
      "[codecarbon INFO @ 19:10:02]   CPU model: Apple M1\n",
      "[codecarbon INFO @ 19:10:02]   GPU count: None\n",
      "[codecarbon INFO @ 19:10:02]   GPU model: None\n",
      "[codecarbon INFO @ 19:10:05] Saving emissions data to file /Users/lucia/Desktop/classification_methods/DATASET HIGGS BOSON/DECISION TREES/emissions.csv\n"
     ]
    }
   ],
   "source": [
    "from codecarbon import EmissionsTracker\n",
    "tracker = EmissionsTracker()\n",
    "tracker.start()"
   ]
  },
  {
   "cell_type": "code",
   "execution_count": 2,
   "id": "b33d5ba0",
   "metadata": {},
   "outputs": [],
   "source": [
    "import pandas as pd\n",
    "import numpy as np\n",
    "from sklearn.tree import DecisionTreeClassifier\n",
    "from sklearn.metrics import accuracy_score, classification_report, roc_auc_score\n",
    "from sklearn.model_selection import train_test_split\n"
   ]
  },
  {
   "cell_type": "code",
   "execution_count": 3,
   "id": "a181297b",
   "metadata": {},
   "outputs": [
    {
     "name": "stdout",
     "output_type": "stream",
     "text": [
      "Index(['EventId', 'DER_mass_MMC', 'DER_mass_transverse_met_lep',\n",
      "       'DER_mass_vis', 'DER_pt_h', 'DER_deltaeta_jet_jet', 'DER_mass_jet_jet',\n",
      "       'DER_prodeta_jet_jet', 'DER_deltar_tau_lep', 'DER_pt_tot', 'DER_sum_pt',\n",
      "       'DER_pt_ratio_lep_tau', 'DER_met_phi_centrality',\n",
      "       'DER_lep_eta_centrality', 'PRI_tau_pt', 'PRI_tau_eta', 'PRI_tau_phi',\n",
      "       'PRI_lep_pt', 'PRI_lep_eta', 'PRI_lep_phi', 'PRI_met', 'PRI_met_phi',\n",
      "       'PRI_met_sumet', 'PRI_jet_num', 'PRI_jet_leading_pt',\n",
      "       'PRI_jet_leading_eta', 'PRI_jet_leading_phi', 'PRI_jet_subleading_pt',\n",
      "       'PRI_jet_subleading_eta', 'PRI_jet_subleading_phi', 'PRI_jet_all_pt',\n",
      "       'Weight', 'Label'],\n",
      "      dtype='object')\n"
     ]
    },
    {
     "data": {
      "application/vnd.microsoft.datawrangler.viewer.v0+json": {
       "columns": [
        {
         "name": "index",
         "rawType": "int64",
         "type": "integer"
        },
        {
         "name": "EventId",
         "rawType": "int64",
         "type": "integer"
        },
        {
         "name": "DER_mass_MMC",
         "rawType": "float64",
         "type": "float"
        },
        {
         "name": "DER_mass_transverse_met_lep",
         "rawType": "float64",
         "type": "float"
        },
        {
         "name": "DER_mass_vis",
         "rawType": "float64",
         "type": "float"
        },
        {
         "name": "DER_pt_h",
         "rawType": "float64",
         "type": "float"
        },
        {
         "name": "DER_deltaeta_jet_jet",
         "rawType": "float64",
         "type": "float"
        },
        {
         "name": "DER_mass_jet_jet",
         "rawType": "float64",
         "type": "float"
        },
        {
         "name": "DER_prodeta_jet_jet",
         "rawType": "float64",
         "type": "float"
        },
        {
         "name": "DER_deltar_tau_lep",
         "rawType": "float64",
         "type": "float"
        },
        {
         "name": "DER_pt_tot",
         "rawType": "float64",
         "type": "float"
        },
        {
         "name": "DER_sum_pt",
         "rawType": "float64",
         "type": "float"
        },
        {
         "name": "DER_pt_ratio_lep_tau",
         "rawType": "float64",
         "type": "float"
        },
        {
         "name": "DER_met_phi_centrality",
         "rawType": "float64",
         "type": "float"
        },
        {
         "name": "DER_lep_eta_centrality",
         "rawType": "float64",
         "type": "float"
        },
        {
         "name": "PRI_tau_pt",
         "rawType": "float64",
         "type": "float"
        },
        {
         "name": "PRI_tau_eta",
         "rawType": "float64",
         "type": "float"
        },
        {
         "name": "PRI_tau_phi",
         "rawType": "float64",
         "type": "float"
        },
        {
         "name": "PRI_lep_pt",
         "rawType": "float64",
         "type": "float"
        },
        {
         "name": "PRI_lep_eta",
         "rawType": "float64",
         "type": "float"
        },
        {
         "name": "PRI_lep_phi",
         "rawType": "float64",
         "type": "float"
        },
        {
         "name": "PRI_met",
         "rawType": "float64",
         "type": "float"
        },
        {
         "name": "PRI_met_phi",
         "rawType": "float64",
         "type": "float"
        },
        {
         "name": "PRI_met_sumet",
         "rawType": "float64",
         "type": "float"
        },
        {
         "name": "PRI_jet_num",
         "rawType": "int64",
         "type": "integer"
        },
        {
         "name": "PRI_jet_leading_pt",
         "rawType": "float64",
         "type": "float"
        },
        {
         "name": "PRI_jet_leading_eta",
         "rawType": "float64",
         "type": "float"
        },
        {
         "name": "PRI_jet_leading_phi",
         "rawType": "float64",
         "type": "float"
        },
        {
         "name": "PRI_jet_subleading_pt",
         "rawType": "float64",
         "type": "float"
        },
        {
         "name": "PRI_jet_subleading_eta",
         "rawType": "float64",
         "type": "float"
        },
        {
         "name": "PRI_jet_subleading_phi",
         "rawType": "float64",
         "type": "float"
        },
        {
         "name": "PRI_jet_all_pt",
         "rawType": "float64",
         "type": "float"
        },
        {
         "name": "Weight",
         "rawType": "float64",
         "type": "float"
        },
        {
         "name": "Label",
         "rawType": "object",
         "type": "string"
        }
       ],
       "ref": "357a3767-cae5-44a0-a1e8-f44efe320b3b",
       "rows": [
        [
         "0",
         "100000",
         "138.47",
         "51.655",
         "97.827",
         "27.98",
         "0.91",
         "124.711",
         "2.666",
         "3.064",
         "41.928",
         "197.76",
         "1.582",
         "1.396",
         "0.2",
         "32.638",
         "1.017",
         "0.381",
         "51.626",
         "2.273",
         "-2.414",
         "16.824",
         "-0.277",
         "258.733",
         "2",
         "67.435",
         "2.15",
         "0.444",
         "46.062",
         "1.24",
         "-2.475",
         "113.497",
         "0.00265331133733",
         "s"
        ],
        [
         "1",
         "100001",
         "160.937",
         "68.768",
         "103.235",
         "48.146",
         "-999.0",
         "-999.0",
         "-999.0",
         "3.473",
         "2.078",
         "125.157",
         "0.879",
         "1.414",
         "-999.0",
         "42.014",
         "2.039",
         "-3.011",
         "36.918",
         "0.501",
         "0.103",
         "44.704",
         "-1.916",
         "164.546",
         "1",
         "46.226",
         "0.725",
         "1.158",
         "-999.0",
         "-999.0",
         "-999.0",
         "46.226",
         "2.23358448717",
         "b"
        ],
        [
         "2",
         "100002",
         "-999.0",
         "162.172",
         "125.953",
         "35.635",
         "-999.0",
         "-999.0",
         "-999.0",
         "3.148",
         "9.336",
         "197.814",
         "3.776",
         "1.414",
         "-999.0",
         "32.154",
         "-0.705",
         "-2.093",
         "121.409",
         "-0.953",
         "1.052",
         "54.283",
         "-2.186",
         "260.414",
         "1",
         "44.251",
         "2.053",
         "-2.028",
         "-999.0",
         "-999.0",
         "-999.0",
         "44.251",
         "2.34738894364",
         "b"
        ],
        [
         "3",
         "100003",
         "143.905",
         "81.417",
         "80.943",
         "0.414",
         "-999.0",
         "-999.0",
         "-999.0",
         "3.31",
         "0.414",
         "75.968",
         "2.354",
         "-1.285",
         "-999.0",
         "22.647",
         "-1.655",
         "0.01",
         "53.321",
         "-0.522",
         "-3.1",
         "31.082",
         "0.06",
         "86.062",
         "0",
         "-999.0",
         "-999.0",
         "-999.0",
         "-999.0",
         "-999.0",
         "-999.0",
         "-0.0",
         "5.44637821192",
         "b"
        ],
        [
         "4",
         "100004",
         "175.864",
         "16.915",
         "134.805",
         "16.405",
         "-999.0",
         "-999.0",
         "-999.0",
         "3.891",
         "16.405",
         "57.983",
         "1.056",
         "-1.385",
         "-999.0",
         "28.209",
         "-2.197",
         "-2.231",
         "29.774",
         "0.798",
         "1.569",
         "2.723",
         "-0.871",
         "53.131",
         "0",
         "-999.0",
         "-999.0",
         "-999.0",
         "-999.0",
         "-999.0",
         "-999.0",
         "0.0",
         "6.24533268686",
         "b"
        ]
       ],
       "shape": {
        "columns": 33,
        "rows": 5
       }
      },
      "text/html": [
       "<div>\n",
       "<style scoped>\n",
       "    .dataframe tbody tr th:only-of-type {\n",
       "        vertical-align: middle;\n",
       "    }\n",
       "\n",
       "    .dataframe tbody tr th {\n",
       "        vertical-align: top;\n",
       "    }\n",
       "\n",
       "    .dataframe thead th {\n",
       "        text-align: right;\n",
       "    }\n",
       "</style>\n",
       "<table border=\"1\" class=\"dataframe\">\n",
       "  <thead>\n",
       "    <tr style=\"text-align: right;\">\n",
       "      <th></th>\n",
       "      <th>EventId</th>\n",
       "      <th>DER_mass_MMC</th>\n",
       "      <th>DER_mass_transverse_met_lep</th>\n",
       "      <th>DER_mass_vis</th>\n",
       "      <th>DER_pt_h</th>\n",
       "      <th>DER_deltaeta_jet_jet</th>\n",
       "      <th>DER_mass_jet_jet</th>\n",
       "      <th>DER_prodeta_jet_jet</th>\n",
       "      <th>DER_deltar_tau_lep</th>\n",
       "      <th>DER_pt_tot</th>\n",
       "      <th>...</th>\n",
       "      <th>PRI_jet_num</th>\n",
       "      <th>PRI_jet_leading_pt</th>\n",
       "      <th>PRI_jet_leading_eta</th>\n",
       "      <th>PRI_jet_leading_phi</th>\n",
       "      <th>PRI_jet_subleading_pt</th>\n",
       "      <th>PRI_jet_subleading_eta</th>\n",
       "      <th>PRI_jet_subleading_phi</th>\n",
       "      <th>PRI_jet_all_pt</th>\n",
       "      <th>Weight</th>\n",
       "      <th>Label</th>\n",
       "    </tr>\n",
       "  </thead>\n",
       "  <tbody>\n",
       "    <tr>\n",
       "      <th>0</th>\n",
       "      <td>100000</td>\n",
       "      <td>138.470</td>\n",
       "      <td>51.655</td>\n",
       "      <td>97.827</td>\n",
       "      <td>27.980</td>\n",
       "      <td>0.91</td>\n",
       "      <td>124.711</td>\n",
       "      <td>2.666</td>\n",
       "      <td>3.064</td>\n",
       "      <td>41.928</td>\n",
       "      <td>...</td>\n",
       "      <td>2</td>\n",
       "      <td>67.435</td>\n",
       "      <td>2.150</td>\n",
       "      <td>0.444</td>\n",
       "      <td>46.062</td>\n",
       "      <td>1.24</td>\n",
       "      <td>-2.475</td>\n",
       "      <td>113.497</td>\n",
       "      <td>0.002653</td>\n",
       "      <td>s</td>\n",
       "    </tr>\n",
       "    <tr>\n",
       "      <th>1</th>\n",
       "      <td>100001</td>\n",
       "      <td>160.937</td>\n",
       "      <td>68.768</td>\n",
       "      <td>103.235</td>\n",
       "      <td>48.146</td>\n",
       "      <td>-999.00</td>\n",
       "      <td>-999.000</td>\n",
       "      <td>-999.000</td>\n",
       "      <td>3.473</td>\n",
       "      <td>2.078</td>\n",
       "      <td>...</td>\n",
       "      <td>1</td>\n",
       "      <td>46.226</td>\n",
       "      <td>0.725</td>\n",
       "      <td>1.158</td>\n",
       "      <td>-999.000</td>\n",
       "      <td>-999.00</td>\n",
       "      <td>-999.000</td>\n",
       "      <td>46.226</td>\n",
       "      <td>2.233584</td>\n",
       "      <td>b</td>\n",
       "    </tr>\n",
       "    <tr>\n",
       "      <th>2</th>\n",
       "      <td>100002</td>\n",
       "      <td>-999.000</td>\n",
       "      <td>162.172</td>\n",
       "      <td>125.953</td>\n",
       "      <td>35.635</td>\n",
       "      <td>-999.00</td>\n",
       "      <td>-999.000</td>\n",
       "      <td>-999.000</td>\n",
       "      <td>3.148</td>\n",
       "      <td>9.336</td>\n",
       "      <td>...</td>\n",
       "      <td>1</td>\n",
       "      <td>44.251</td>\n",
       "      <td>2.053</td>\n",
       "      <td>-2.028</td>\n",
       "      <td>-999.000</td>\n",
       "      <td>-999.00</td>\n",
       "      <td>-999.000</td>\n",
       "      <td>44.251</td>\n",
       "      <td>2.347389</td>\n",
       "      <td>b</td>\n",
       "    </tr>\n",
       "    <tr>\n",
       "      <th>3</th>\n",
       "      <td>100003</td>\n",
       "      <td>143.905</td>\n",
       "      <td>81.417</td>\n",
       "      <td>80.943</td>\n",
       "      <td>0.414</td>\n",
       "      <td>-999.00</td>\n",
       "      <td>-999.000</td>\n",
       "      <td>-999.000</td>\n",
       "      <td>3.310</td>\n",
       "      <td>0.414</td>\n",
       "      <td>...</td>\n",
       "      <td>0</td>\n",
       "      <td>-999.000</td>\n",
       "      <td>-999.000</td>\n",
       "      <td>-999.000</td>\n",
       "      <td>-999.000</td>\n",
       "      <td>-999.00</td>\n",
       "      <td>-999.000</td>\n",
       "      <td>-0.000</td>\n",
       "      <td>5.446378</td>\n",
       "      <td>b</td>\n",
       "    </tr>\n",
       "    <tr>\n",
       "      <th>4</th>\n",
       "      <td>100004</td>\n",
       "      <td>175.864</td>\n",
       "      <td>16.915</td>\n",
       "      <td>134.805</td>\n",
       "      <td>16.405</td>\n",
       "      <td>-999.00</td>\n",
       "      <td>-999.000</td>\n",
       "      <td>-999.000</td>\n",
       "      <td>3.891</td>\n",
       "      <td>16.405</td>\n",
       "      <td>...</td>\n",
       "      <td>0</td>\n",
       "      <td>-999.000</td>\n",
       "      <td>-999.000</td>\n",
       "      <td>-999.000</td>\n",
       "      <td>-999.000</td>\n",
       "      <td>-999.00</td>\n",
       "      <td>-999.000</td>\n",
       "      <td>0.000</td>\n",
       "      <td>6.245333</td>\n",
       "      <td>b</td>\n",
       "    </tr>\n",
       "  </tbody>\n",
       "</table>\n",
       "<p>5 rows × 33 columns</p>\n",
       "</div>"
      ],
      "text/plain": [
       "   EventId  DER_mass_MMC  DER_mass_transverse_met_lep  DER_mass_vis  DER_pt_h  \\\n",
       "0   100000       138.470                       51.655        97.827    27.980   \n",
       "1   100001       160.937                       68.768       103.235    48.146   \n",
       "2   100002      -999.000                      162.172       125.953    35.635   \n",
       "3   100003       143.905                       81.417        80.943     0.414   \n",
       "4   100004       175.864                       16.915       134.805    16.405   \n",
       "\n",
       "   DER_deltaeta_jet_jet  DER_mass_jet_jet  DER_prodeta_jet_jet  \\\n",
       "0                  0.91           124.711                2.666   \n",
       "1               -999.00          -999.000             -999.000   \n",
       "2               -999.00          -999.000             -999.000   \n",
       "3               -999.00          -999.000             -999.000   \n",
       "4               -999.00          -999.000             -999.000   \n",
       "\n",
       "   DER_deltar_tau_lep  DER_pt_tot  ...  PRI_jet_num  PRI_jet_leading_pt  \\\n",
       "0               3.064      41.928  ...            2              67.435   \n",
       "1               3.473       2.078  ...            1              46.226   \n",
       "2               3.148       9.336  ...            1              44.251   \n",
       "3               3.310       0.414  ...            0            -999.000   \n",
       "4               3.891      16.405  ...            0            -999.000   \n",
       "\n",
       "   PRI_jet_leading_eta  PRI_jet_leading_phi  PRI_jet_subleading_pt  \\\n",
       "0                2.150                0.444                 46.062   \n",
       "1                0.725                1.158               -999.000   \n",
       "2                2.053               -2.028               -999.000   \n",
       "3             -999.000             -999.000               -999.000   \n",
       "4             -999.000             -999.000               -999.000   \n",
       "\n",
       "   PRI_jet_subleading_eta  PRI_jet_subleading_phi  PRI_jet_all_pt    Weight  \\\n",
       "0                    1.24                  -2.475         113.497  0.002653   \n",
       "1                 -999.00                -999.000          46.226  2.233584   \n",
       "2                 -999.00                -999.000          44.251  2.347389   \n",
       "3                 -999.00                -999.000          -0.000  5.446378   \n",
       "4                 -999.00                -999.000           0.000  6.245333   \n",
       "\n",
       "   Label  \n",
       "0      s  \n",
       "1      b  \n",
       "2      b  \n",
       "3      b  \n",
       "4      b  \n",
       "\n",
       "[5 rows x 33 columns]"
      ]
     },
     "execution_count": 3,
     "metadata": {},
     "output_type": "execute_result"
    }
   ],
   "source": [
    "\n",
    "df = pd.read_csv(\"../training.csv\")\n",
    "\n",
    "# Mostrar columnas disponibles y primeras filas para revisar\n",
    "print(df.columns)\n",
    "df.head()"
   ]
  },
  {
   "cell_type": "code",
   "execution_count": 4,
   "id": "ae20b250",
   "metadata": {},
   "outputs": [
    {
     "name": "stderr",
     "output_type": "stream",
     "text": [
      "/var/folders/6p/rj62j_kn3_z770jd73t206640000gn/T/ipykernel_2470/2252016541.py:5: FutureWarning: Dropping of nuisance columns in DataFrame reductions (with 'numeric_only=None') is deprecated; in a future version this will raise TypeError.  Select only valid columns before calling the reduction.\n",
      "  df.fillna(df.median(), inplace=True)\n"
     ]
    }
   ],
   "source": [
    "from sklearn.preprocessing import MinMaxScaler\n",
    "from sklearn.model_selection import train_test_split\n",
    "\n",
    "df.replace(-999.0, np.nan, inplace=True)\n",
    "df.fillna(df.median(), inplace=True)\n",
    "\n",
    "# Seleccionamos las columnas numéricas útiles\n",
    "feature_cols = df.columns.difference(['EventId', 'Weight', 'Label'])\n",
    "X = df[feature_cols]\n",
    "y = df['Label'].map({'s': 1, 'b': 0})\n",
    "\n",
    "\n",
    "# División en entrenamiento y test (80/20)\n",
    "X_train, X_test, y_train, y_test = train_test_split(\n",
    "    X, y, test_size=0.2, random_state=42\n",
    ")\n"
   ]
  },
  {
   "cell_type": "code",
   "execution_count": 5,
   "id": "cd2913a1",
   "metadata": {},
   "outputs": [
    {
     "data": {
      "text/html": [
       "<style>#sk-container-id-1 {color: black;background-color: white;}#sk-container-id-1 pre{padding: 0;}#sk-container-id-1 div.sk-toggleable {background-color: white;}#sk-container-id-1 label.sk-toggleable__label {cursor: pointer;display: block;width: 100%;margin-bottom: 0;padding: 0.3em;box-sizing: border-box;text-align: center;}#sk-container-id-1 label.sk-toggleable__label-arrow:before {content: \"▸\";float: left;margin-right: 0.25em;color: #696969;}#sk-container-id-1 label.sk-toggleable__label-arrow:hover:before {color: black;}#sk-container-id-1 div.sk-estimator:hover label.sk-toggleable__label-arrow:before {color: black;}#sk-container-id-1 div.sk-toggleable__content {max-height: 0;max-width: 0;overflow: hidden;text-align: left;background-color: #f0f8ff;}#sk-container-id-1 div.sk-toggleable__content pre {margin: 0.2em;color: black;border-radius: 0.25em;background-color: #f0f8ff;}#sk-container-id-1 input.sk-toggleable__control:checked~div.sk-toggleable__content {max-height: 200px;max-width: 100%;overflow: auto;}#sk-container-id-1 input.sk-toggleable__control:checked~label.sk-toggleable__label-arrow:before {content: \"▾\";}#sk-container-id-1 div.sk-estimator input.sk-toggleable__control:checked~label.sk-toggleable__label {background-color: #d4ebff;}#sk-container-id-1 div.sk-label input.sk-toggleable__control:checked~label.sk-toggleable__label {background-color: #d4ebff;}#sk-container-id-1 input.sk-hidden--visually {border: 0;clip: rect(1px 1px 1px 1px);clip: rect(1px, 1px, 1px, 1px);height: 1px;margin: -1px;overflow: hidden;padding: 0;position: absolute;width: 1px;}#sk-container-id-1 div.sk-estimator {font-family: monospace;background-color: #f0f8ff;border: 1px dotted black;border-radius: 0.25em;box-sizing: border-box;margin-bottom: 0.5em;}#sk-container-id-1 div.sk-estimator:hover {background-color: #d4ebff;}#sk-container-id-1 div.sk-parallel-item::after {content: \"\";width: 100%;border-bottom: 1px solid gray;flex-grow: 1;}#sk-container-id-1 div.sk-label:hover label.sk-toggleable__label {background-color: #d4ebff;}#sk-container-id-1 div.sk-serial::before {content: \"\";position: absolute;border-left: 1px solid gray;box-sizing: border-box;top: 0;bottom: 0;left: 50%;z-index: 0;}#sk-container-id-1 div.sk-serial {display: flex;flex-direction: column;align-items: center;background-color: white;padding-right: 0.2em;padding-left: 0.2em;position: relative;}#sk-container-id-1 div.sk-item {position: relative;z-index: 1;}#sk-container-id-1 div.sk-parallel {display: flex;align-items: stretch;justify-content: center;background-color: white;position: relative;}#sk-container-id-1 div.sk-item::before, #sk-container-id-1 div.sk-parallel-item::before {content: \"\";position: absolute;border-left: 1px solid gray;box-sizing: border-box;top: 0;bottom: 0;left: 50%;z-index: -1;}#sk-container-id-1 div.sk-parallel-item {display: flex;flex-direction: column;z-index: 1;position: relative;background-color: white;}#sk-container-id-1 div.sk-parallel-item:first-child::after {align-self: flex-end;width: 50%;}#sk-container-id-1 div.sk-parallel-item:last-child::after {align-self: flex-start;width: 50%;}#sk-container-id-1 div.sk-parallel-item:only-child::after {width: 0;}#sk-container-id-1 div.sk-dashed-wrapped {border: 1px dashed gray;margin: 0 0.4em 0.5em 0.4em;box-sizing: border-box;padding-bottom: 0.4em;background-color: white;}#sk-container-id-1 div.sk-label label {font-family: monospace;font-weight: bold;display: inline-block;line-height: 1.2em;}#sk-container-id-1 div.sk-label-container {text-align: center;}#sk-container-id-1 div.sk-container {/* jupyter's `normalize.less` sets `[hidden] { display: none; }` but bootstrap.min.css set `[hidden] { display: none !important; }` so we also need the `!important` here to be able to override the default hidden behavior on the sphinx rendered scikit-learn.org. See: https://github.com/scikit-learn/scikit-learn/issues/21755 */display: inline-block !important;position: relative;}#sk-container-id-1 div.sk-text-repr-fallback {display: none;}</style><div id=\"sk-container-id-1\" class=\"sk-top-container\"><div class=\"sk-text-repr-fallback\"><pre>DecisionTreeClassifier(random_state=42)</pre><b>In a Jupyter environment, please rerun this cell to show the HTML representation or trust the notebook. <br />On GitHub, the HTML representation is unable to render, please try loading this page with nbviewer.org.</b></div><div class=\"sk-container\" hidden><div class=\"sk-item\"><div class=\"sk-estimator sk-toggleable\"><input class=\"sk-toggleable__control sk-hidden--visually\" id=\"sk-estimator-id-1\" type=\"checkbox\" checked><label for=\"sk-estimator-id-1\" class=\"sk-toggleable__label sk-toggleable__label-arrow\">DecisionTreeClassifier</label><div class=\"sk-toggleable__content\"><pre>DecisionTreeClassifier(random_state=42)</pre></div></div></div></div></div>"
      ],
      "text/plain": [
       "DecisionTreeClassifier(random_state=42)"
      ]
     },
     "execution_count": 5,
     "metadata": {},
     "output_type": "execute_result"
    }
   ],
   "source": [
    "from sklearn.tree import DecisionTreeClassifier\n",
    "\n",
    "clf = DecisionTreeClassifier(random_state=42)\n",
    "clf.fit(X_train, y_train)"
   ]
  },
  {
   "cell_type": "code",
   "execution_count": 6,
   "id": "f55cd9b9",
   "metadata": {},
   "outputs": [
    {
     "name": "stdout",
     "output_type": "stream",
     "text": [
      "Accuracy: 0.7650\n",
      "Recall (clase 1): 0.6693\n",
      "F1 Score (clase 1): 0.6586\n",
      "AUC-ROC: 0.7417\n"
     ]
    }
   ],
   "source": [
    "from sklearn.metrics import accuracy_score, classification_report, roc_auc_score\n",
    "\n",
    "# Predicciones\n",
    "y_pred = clf.predict(X_test)\n",
    "y_proba = clf.predict_proba(X_test)[:, 1]  # Probabilidad para clase 1\n",
    "\n",
    "# Métricas\n",
    "accuracy = accuracy_score(y_test, y_pred)\n",
    "report = classification_report(y_test, y_pred, output_dict=True)\n",
    "recall_class_1 = report['1']['recall']\n",
    "f1_class_1 = report['1']['f1-score']\n",
    "auc = roc_auc_score(y_test, y_proba)\n",
    "\n",
    "# Resultados\n",
    "print(f\"Accuracy: {accuracy:.4f}\")\n",
    "print(f\"Recall (clase 1): {recall_class_1:.4f}\")\n",
    "print(f\"F1 Score (clase 1): {f1_class_1:.4f}\")\n",
    "print(f\"AUC-ROC: {auc:.4f}\")\n"
   ]
  },
  {
   "cell_type": "markdown",
   "id": "75616e2e",
   "metadata": {},
   "source": [
    "Probamos distintas alternativas para mejorar el modelo"
   ]
  },
  {
   "cell_type": "code",
   "execution_count": 7,
   "id": "6867d1d7",
   "metadata": {},
   "outputs": [
    {
     "data": {
      "text/html": [
       "<style>#sk-container-id-2 {color: black;background-color: white;}#sk-container-id-2 pre{padding: 0;}#sk-container-id-2 div.sk-toggleable {background-color: white;}#sk-container-id-2 label.sk-toggleable__label {cursor: pointer;display: block;width: 100%;margin-bottom: 0;padding: 0.3em;box-sizing: border-box;text-align: center;}#sk-container-id-2 label.sk-toggleable__label-arrow:before {content: \"▸\";float: left;margin-right: 0.25em;color: #696969;}#sk-container-id-2 label.sk-toggleable__label-arrow:hover:before {color: black;}#sk-container-id-2 div.sk-estimator:hover label.sk-toggleable__label-arrow:before {color: black;}#sk-container-id-2 div.sk-toggleable__content {max-height: 0;max-width: 0;overflow: hidden;text-align: left;background-color: #f0f8ff;}#sk-container-id-2 div.sk-toggleable__content pre {margin: 0.2em;color: black;border-radius: 0.25em;background-color: #f0f8ff;}#sk-container-id-2 input.sk-toggleable__control:checked~div.sk-toggleable__content {max-height: 200px;max-width: 100%;overflow: auto;}#sk-container-id-2 input.sk-toggleable__control:checked~label.sk-toggleable__label-arrow:before {content: \"▾\";}#sk-container-id-2 div.sk-estimator input.sk-toggleable__control:checked~label.sk-toggleable__label {background-color: #d4ebff;}#sk-container-id-2 div.sk-label input.sk-toggleable__control:checked~label.sk-toggleable__label {background-color: #d4ebff;}#sk-container-id-2 input.sk-hidden--visually {border: 0;clip: rect(1px 1px 1px 1px);clip: rect(1px, 1px, 1px, 1px);height: 1px;margin: -1px;overflow: hidden;padding: 0;position: absolute;width: 1px;}#sk-container-id-2 div.sk-estimator {font-family: monospace;background-color: #f0f8ff;border: 1px dotted black;border-radius: 0.25em;box-sizing: border-box;margin-bottom: 0.5em;}#sk-container-id-2 div.sk-estimator:hover {background-color: #d4ebff;}#sk-container-id-2 div.sk-parallel-item::after {content: \"\";width: 100%;border-bottom: 1px solid gray;flex-grow: 1;}#sk-container-id-2 div.sk-label:hover label.sk-toggleable__label {background-color: #d4ebff;}#sk-container-id-2 div.sk-serial::before {content: \"\";position: absolute;border-left: 1px solid gray;box-sizing: border-box;top: 0;bottom: 0;left: 50%;z-index: 0;}#sk-container-id-2 div.sk-serial {display: flex;flex-direction: column;align-items: center;background-color: white;padding-right: 0.2em;padding-left: 0.2em;position: relative;}#sk-container-id-2 div.sk-item {position: relative;z-index: 1;}#sk-container-id-2 div.sk-parallel {display: flex;align-items: stretch;justify-content: center;background-color: white;position: relative;}#sk-container-id-2 div.sk-item::before, #sk-container-id-2 div.sk-parallel-item::before {content: \"\";position: absolute;border-left: 1px solid gray;box-sizing: border-box;top: 0;bottom: 0;left: 50%;z-index: -1;}#sk-container-id-2 div.sk-parallel-item {display: flex;flex-direction: column;z-index: 1;position: relative;background-color: white;}#sk-container-id-2 div.sk-parallel-item:first-child::after {align-self: flex-end;width: 50%;}#sk-container-id-2 div.sk-parallel-item:last-child::after {align-self: flex-start;width: 50%;}#sk-container-id-2 div.sk-parallel-item:only-child::after {width: 0;}#sk-container-id-2 div.sk-dashed-wrapped {border: 1px dashed gray;margin: 0 0.4em 0.5em 0.4em;box-sizing: border-box;padding-bottom: 0.4em;background-color: white;}#sk-container-id-2 div.sk-label label {font-family: monospace;font-weight: bold;display: inline-block;line-height: 1.2em;}#sk-container-id-2 div.sk-label-container {text-align: center;}#sk-container-id-2 div.sk-container {/* jupyter's `normalize.less` sets `[hidden] { display: none; }` but bootstrap.min.css set `[hidden] { display: none !important; }` so we also need the `!important` here to be able to override the default hidden behavior on the sphinx rendered scikit-learn.org. See: https://github.com/scikit-learn/scikit-learn/issues/21755 */display: inline-block !important;position: relative;}#sk-container-id-2 div.sk-text-repr-fallback {display: none;}</style><div id=\"sk-container-id-2\" class=\"sk-top-container\"><div class=\"sk-text-repr-fallback\"><pre>DecisionTreeClassifier(criterion=&#x27;entropy&#x27;, max_depth=6, min_samples_leaf=5,\n",
       "                       min_samples_split=10, random_state=42)</pre><b>In a Jupyter environment, please rerun this cell to show the HTML representation or trust the notebook. <br />On GitHub, the HTML representation is unable to render, please try loading this page with nbviewer.org.</b></div><div class=\"sk-container\" hidden><div class=\"sk-item\"><div class=\"sk-estimator sk-toggleable\"><input class=\"sk-toggleable__control sk-hidden--visually\" id=\"sk-estimator-id-2\" type=\"checkbox\" checked><label for=\"sk-estimator-id-2\" class=\"sk-toggleable__label sk-toggleable__label-arrow\">DecisionTreeClassifier</label><div class=\"sk-toggleable__content\"><pre>DecisionTreeClassifier(criterion=&#x27;entropy&#x27;, max_depth=6, min_samples_leaf=5,\n",
       "                       min_samples_split=10, random_state=42)</pre></div></div></div></div></div>"
      ],
      "text/plain": [
       "DecisionTreeClassifier(criterion='entropy', max_depth=6, min_samples_leaf=5,\n",
       "                       min_samples_split=10, random_state=42)"
      ]
     },
     "execution_count": 7,
     "metadata": {},
     "output_type": "execute_result"
    }
   ],
   "source": [
    "clf = DecisionTreeClassifier(\n",
    "    max_depth=6,\n",
    "    min_samples_split=10,\n",
    "    min_samples_leaf=5,\n",
    "    criterion='entropy',\n",
    "    random_state=42\n",
    ")\n",
    "clf.fit(X_train, y_train)\n"
   ]
  },
  {
   "cell_type": "code",
   "execution_count": 8,
   "id": "82c807d0",
   "metadata": {},
   "outputs": [
    {
     "name": "stdout",
     "output_type": "stream",
     "text": [
      "Accuracy: 0.8045\n",
      "Recall (clase 1): 0.7393\n",
      "F1 Score (clase 1): 0.7192\n",
      "AUC-ROC: 0.8727\n"
     ]
    }
   ],
   "source": [
    "from sklearn.metrics import accuracy_score, classification_report, roc_auc_score\n",
    "\n",
    "# Predicciones\n",
    "y_pred = clf.predict(X_test)\n",
    "y_proba = clf.predict_proba(X_test)[:, 1]  # Probabilidad para clase 1\n",
    "\n",
    "# Métricas\n",
    "accuracy = accuracy_score(y_test, y_pred)\n",
    "report = classification_report(y_test, y_pred, output_dict=True)\n",
    "recall_class_1 = report['1']['recall']\n",
    "f1_class_1 = report['1']['f1-score']\n",
    "auc = roc_auc_score(y_test, y_proba)\n",
    "\n",
    "# Resultados\n",
    "print(f\"Accuracy: {accuracy:.4f}\")\n",
    "print(f\"Recall (clase 1): {recall_class_1:.4f}\")\n",
    "print(f\"F1 Score (clase 1): {f1_class_1:.4f}\")\n",
    "print(f\"AUC-ROC: {auc:.4f}\")"
   ]
  },
  {
   "cell_type": "markdown",
   "id": "b77e08b5",
   "metadata": {},
   "source": [
    "Utilizamos GridSearchCV para mejorar aún más nuestro moodelo"
   ]
  },
  {
   "cell_type": "code",
   "execution_count": 9,
   "id": "8d52cecf",
   "metadata": {},
   "outputs": [],
   "source": [
    "from sklearn.model_selection import GridSearchCV\n",
    "\n",
    "param_grid = {\n",
    "    'max_depth': [4, 6, 8, 10],\n",
    "    'min_samples_split': [2, 5, 10, 20],\n",
    "    'min_samples_leaf': [1, 5, 10],\n",
    "    'criterion': ['gini', 'entropy']\n",
    "}\n"
   ]
  },
  {
   "cell_type": "code",
   "execution_count": 10,
   "id": "7d4b9cb2",
   "metadata": {},
   "outputs": [
    {
     "name": "stderr",
     "output_type": "stream",
     "text": [
      "[codecarbon INFO @ 19:10:20] Energy consumed for RAM : 0.000013 kWh. RAM Power : 3.0 W\n",
      "[codecarbon INFO @ 19:10:20] Energy consumed for all CPUs : 0.000021 kWh. Total CPU Power : 5.0 W\n",
      "[codecarbon INFO @ 19:10:20] 0.000033 kWh of electricity used since the beginning.\n"
     ]
    },
    {
     "name": "stdout",
     "output_type": "stream",
     "text": [
      "Fitting 5 folds for each of 96 candidates, totalling 480 fits\n"
     ]
    },
    {
     "name": "stderr",
     "output_type": "stream",
     "text": [
      "[codecarbon INFO @ 19:10:35] Energy consumed for RAM : 0.000025 kWh. RAM Power : 3.0 W\n",
      "[codecarbon INFO @ 19:10:36] Energy consumed for all CPUs : 0.000042 kWh. Total CPU Power : 5.0 W\n",
      "[codecarbon INFO @ 19:10:36] 0.000067 kWh of electricity used since the beginning.\n",
      "[codecarbon INFO @ 19:10:50] Energy consumed for RAM : 0.000037 kWh. RAM Power : 3.0 W\n",
      "[codecarbon INFO @ 19:10:50] Energy consumed for all CPUs : 0.000062 kWh. Total CPU Power : 5.0 W\n",
      "[codecarbon INFO @ 19:10:50] 0.000100 kWh of electricity used since the beginning.\n",
      "[codecarbon INFO @ 19:11:05] Energy consumed for RAM : 0.000050 kWh. RAM Power : 3.0 W\n",
      "[codecarbon INFO @ 19:11:06] Energy consumed for all CPUs : 0.000083 kWh. Total CPU Power : 5.0 W\n",
      "[codecarbon INFO @ 19:11:06] 0.000133 kWh of electricity used since the beginning.\n",
      "[codecarbon INFO @ 19:11:20] Energy consumed for RAM : 0.000062 kWh. RAM Power : 3.0 W\n",
      "[codecarbon INFO @ 19:11:20] Energy consumed for all CPUs : 0.000104 kWh. Total CPU Power : 5.0 W\n",
      "[codecarbon INFO @ 19:11:20] 0.000167 kWh of electricity used since the beginning.\n",
      "[codecarbon INFO @ 19:11:35] Energy consumed for RAM : 0.000075 kWh. RAM Power : 3.0 W\n",
      "[codecarbon INFO @ 19:11:36] Energy consumed for all CPUs : 0.000125 kWh. Total CPU Power : 5.0 W\n",
      "[codecarbon INFO @ 19:11:36] 0.000200 kWh of electricity used since the beginning.\n",
      "[codecarbon INFO @ 19:11:50] Energy consumed for RAM : 0.000087 kWh. RAM Power : 3.0 W\n",
      "[codecarbon INFO @ 19:11:51] Energy consumed for all CPUs : 0.000146 kWh. Total CPU Power : 5.0 W\n",
      "[codecarbon INFO @ 19:11:51] 0.000233 kWh of electricity used since the beginning.\n",
      "[codecarbon INFO @ 19:12:06] Energy consumed for RAM : 0.000100 kWh. RAM Power : 3.0 W\n",
      "[codecarbon INFO @ 19:12:06] Energy consumed for all CPUs : 0.000167 kWh. Total CPU Power : 5.0 W\n",
      "[codecarbon INFO @ 19:12:06] 0.000266 kWh of electricity used since the beginning.\n",
      "[codecarbon INFO @ 19:12:06] 0.000386 g.CO2eq/s mean an estimation of 12.176971771696044 kg.CO2eq/year\n",
      "[codecarbon INFO @ 19:12:21] Energy consumed for RAM : 0.000112 kWh. RAM Power : 3.0 W\n",
      "[codecarbon INFO @ 19:12:21] Energy consumed for all CPUs : 0.000187 kWh. Total CPU Power : 5.0 W\n",
      "[codecarbon INFO @ 19:12:21] 0.000300 kWh of electricity used since the beginning.\n",
      "[codecarbon INFO @ 19:12:36] Energy consumed for RAM : 0.000125 kWh. RAM Power : 3.0 W\n",
      "[codecarbon INFO @ 19:12:36] Energy consumed for all CPUs : 0.000208 kWh. Total CPU Power : 5.0 W\n",
      "[codecarbon INFO @ 19:12:36] 0.000333 kWh of electricity used since the beginning.\n",
      "[codecarbon INFO @ 19:12:51] Energy consumed for RAM : 0.000137 kWh. RAM Power : 3.0 W\n",
      "[codecarbon INFO @ 19:12:51] Energy consumed for all CPUs : 0.000229 kWh. Total CPU Power : 5.0 W\n",
      "[codecarbon INFO @ 19:12:51] 0.000366 kWh of electricity used since the beginning.\n",
      "[codecarbon INFO @ 19:13:06] Energy consumed for RAM : 0.000150 kWh. RAM Power : 3.0 W\n",
      "[codecarbon INFO @ 19:13:06] Energy consumed for all CPUs : 0.000250 kWh. Total CPU Power : 5.0 W\n",
      "[codecarbon INFO @ 19:13:06] 0.000400 kWh of electricity used since the beginning.\n",
      "[codecarbon INFO @ 19:13:21] Energy consumed for RAM : 0.000162 kWh. RAM Power : 3.0 W\n",
      "[codecarbon INFO @ 19:13:21] Energy consumed for all CPUs : 0.000271 kWh. Total CPU Power : 5.0 W\n",
      "[codecarbon INFO @ 19:13:21] 0.000433 kWh of electricity used since the beginning.\n",
      "[codecarbon INFO @ 19:13:36] Energy consumed for RAM : 0.000175 kWh. RAM Power : 3.0 W\n",
      "[codecarbon INFO @ 19:13:36] Energy consumed for all CPUs : 0.000292 kWh. Total CPU Power : 5.0 W\n",
      "[codecarbon INFO @ 19:13:36] 0.000466 kWh of electricity used since the beginning.\n",
      "[codecarbon INFO @ 19:13:51] Energy consumed for RAM : 0.000187 kWh. RAM Power : 3.0 W\n",
      "[codecarbon INFO @ 19:13:51] Energy consumed for all CPUs : 0.000312 kWh. Total CPU Power : 5.0 W\n",
      "[codecarbon INFO @ 19:13:51] 0.000499 kWh of electricity used since the beginning.\n",
      "[codecarbon INFO @ 19:14:06] Energy consumed for RAM : 0.000200 kWh. RAM Power : 3.0 W\n",
      "[codecarbon INFO @ 19:14:06] Energy consumed for all CPUs : 0.000333 kWh. Total CPU Power : 5.0 W\n",
      "[codecarbon INFO @ 19:14:06] 0.000533 kWh of electricity used since the beginning.\n",
      "[codecarbon INFO @ 19:14:06] 0.000386 g.CO2eq/s mean an estimation of 12.1729910591603 kg.CO2eq/year\n",
      "[codecarbon INFO @ 19:14:21] Energy consumed for RAM : 0.000212 kWh. RAM Power : 3.0 W\n",
      "[codecarbon INFO @ 19:14:21] Energy consumed for all CPUs : 0.000354 kWh. Total CPU Power : 5.0 W\n",
      "[codecarbon INFO @ 19:14:21] 0.000566 kWh of electricity used since the beginning.\n"
     ]
    },
    {
     "data": {
      "text/html": [
       "<style>#sk-container-id-3 {color: black;background-color: white;}#sk-container-id-3 pre{padding: 0;}#sk-container-id-3 div.sk-toggleable {background-color: white;}#sk-container-id-3 label.sk-toggleable__label {cursor: pointer;display: block;width: 100%;margin-bottom: 0;padding: 0.3em;box-sizing: border-box;text-align: center;}#sk-container-id-3 label.sk-toggleable__label-arrow:before {content: \"▸\";float: left;margin-right: 0.25em;color: #696969;}#sk-container-id-3 label.sk-toggleable__label-arrow:hover:before {color: black;}#sk-container-id-3 div.sk-estimator:hover label.sk-toggleable__label-arrow:before {color: black;}#sk-container-id-3 div.sk-toggleable__content {max-height: 0;max-width: 0;overflow: hidden;text-align: left;background-color: #f0f8ff;}#sk-container-id-3 div.sk-toggleable__content pre {margin: 0.2em;color: black;border-radius: 0.25em;background-color: #f0f8ff;}#sk-container-id-3 input.sk-toggleable__control:checked~div.sk-toggleable__content {max-height: 200px;max-width: 100%;overflow: auto;}#sk-container-id-3 input.sk-toggleable__control:checked~label.sk-toggleable__label-arrow:before {content: \"▾\";}#sk-container-id-3 div.sk-estimator input.sk-toggleable__control:checked~label.sk-toggleable__label {background-color: #d4ebff;}#sk-container-id-3 div.sk-label input.sk-toggleable__control:checked~label.sk-toggleable__label {background-color: #d4ebff;}#sk-container-id-3 input.sk-hidden--visually {border: 0;clip: rect(1px 1px 1px 1px);clip: rect(1px, 1px, 1px, 1px);height: 1px;margin: -1px;overflow: hidden;padding: 0;position: absolute;width: 1px;}#sk-container-id-3 div.sk-estimator {font-family: monospace;background-color: #f0f8ff;border: 1px dotted black;border-radius: 0.25em;box-sizing: border-box;margin-bottom: 0.5em;}#sk-container-id-3 div.sk-estimator:hover {background-color: #d4ebff;}#sk-container-id-3 div.sk-parallel-item::after {content: \"\";width: 100%;border-bottom: 1px solid gray;flex-grow: 1;}#sk-container-id-3 div.sk-label:hover label.sk-toggleable__label {background-color: #d4ebff;}#sk-container-id-3 div.sk-serial::before {content: \"\";position: absolute;border-left: 1px solid gray;box-sizing: border-box;top: 0;bottom: 0;left: 50%;z-index: 0;}#sk-container-id-3 div.sk-serial {display: flex;flex-direction: column;align-items: center;background-color: white;padding-right: 0.2em;padding-left: 0.2em;position: relative;}#sk-container-id-3 div.sk-item {position: relative;z-index: 1;}#sk-container-id-3 div.sk-parallel {display: flex;align-items: stretch;justify-content: center;background-color: white;position: relative;}#sk-container-id-3 div.sk-item::before, #sk-container-id-3 div.sk-parallel-item::before {content: \"\";position: absolute;border-left: 1px solid gray;box-sizing: border-box;top: 0;bottom: 0;left: 50%;z-index: -1;}#sk-container-id-3 div.sk-parallel-item {display: flex;flex-direction: column;z-index: 1;position: relative;background-color: white;}#sk-container-id-3 div.sk-parallel-item:first-child::after {align-self: flex-end;width: 50%;}#sk-container-id-3 div.sk-parallel-item:last-child::after {align-self: flex-start;width: 50%;}#sk-container-id-3 div.sk-parallel-item:only-child::after {width: 0;}#sk-container-id-3 div.sk-dashed-wrapped {border: 1px dashed gray;margin: 0 0.4em 0.5em 0.4em;box-sizing: border-box;padding-bottom: 0.4em;background-color: white;}#sk-container-id-3 div.sk-label label {font-family: monospace;font-weight: bold;display: inline-block;line-height: 1.2em;}#sk-container-id-3 div.sk-label-container {text-align: center;}#sk-container-id-3 div.sk-container {/* jupyter's `normalize.less` sets `[hidden] { display: none; }` but bootstrap.min.css set `[hidden] { display: none !important; }` so we also need the `!important` here to be able to override the default hidden behavior on the sphinx rendered scikit-learn.org. See: https://github.com/scikit-learn/scikit-learn/issues/21755 */display: inline-block !important;position: relative;}#sk-container-id-3 div.sk-text-repr-fallback {display: none;}</style><div id=\"sk-container-id-3\" class=\"sk-top-container\"><div class=\"sk-text-repr-fallback\"><pre>GridSearchCV(cv=5, estimator=DecisionTreeClassifier(random_state=42), n_jobs=-1,\n",
       "             param_grid={&#x27;criterion&#x27;: [&#x27;gini&#x27;, &#x27;entropy&#x27;],\n",
       "                         &#x27;max_depth&#x27;: [4, 6, 8, 10],\n",
       "                         &#x27;min_samples_leaf&#x27;: [1, 5, 10],\n",
       "                         &#x27;min_samples_split&#x27;: [2, 5, 10, 20]},\n",
       "             scoring=&#x27;f1&#x27;, verbose=1)</pre><b>In a Jupyter environment, please rerun this cell to show the HTML representation or trust the notebook. <br />On GitHub, the HTML representation is unable to render, please try loading this page with nbviewer.org.</b></div><div class=\"sk-container\" hidden><div class=\"sk-item sk-dashed-wrapped\"><div class=\"sk-label-container\"><div class=\"sk-label sk-toggleable\"><input class=\"sk-toggleable__control sk-hidden--visually\" id=\"sk-estimator-id-3\" type=\"checkbox\" ><label for=\"sk-estimator-id-3\" class=\"sk-toggleable__label sk-toggleable__label-arrow\">GridSearchCV</label><div class=\"sk-toggleable__content\"><pre>GridSearchCV(cv=5, estimator=DecisionTreeClassifier(random_state=42), n_jobs=-1,\n",
       "             param_grid={&#x27;criterion&#x27;: [&#x27;gini&#x27;, &#x27;entropy&#x27;],\n",
       "                         &#x27;max_depth&#x27;: [4, 6, 8, 10],\n",
       "                         &#x27;min_samples_leaf&#x27;: [1, 5, 10],\n",
       "                         &#x27;min_samples_split&#x27;: [2, 5, 10, 20]},\n",
       "             scoring=&#x27;f1&#x27;, verbose=1)</pre></div></div></div><div class=\"sk-parallel\"><div class=\"sk-parallel-item\"><div class=\"sk-item\"><div class=\"sk-label-container\"><div class=\"sk-label sk-toggleable\"><input class=\"sk-toggleable__control sk-hidden--visually\" id=\"sk-estimator-id-4\" type=\"checkbox\" ><label for=\"sk-estimator-id-4\" class=\"sk-toggleable__label sk-toggleable__label-arrow\">estimator: DecisionTreeClassifier</label><div class=\"sk-toggleable__content\"><pre>DecisionTreeClassifier(random_state=42)</pre></div></div></div><div class=\"sk-serial\"><div class=\"sk-item\"><div class=\"sk-estimator sk-toggleable\"><input class=\"sk-toggleable__control sk-hidden--visually\" id=\"sk-estimator-id-5\" type=\"checkbox\" ><label for=\"sk-estimator-id-5\" class=\"sk-toggleable__label sk-toggleable__label-arrow\">DecisionTreeClassifier</label><div class=\"sk-toggleable__content\"><pre>DecisionTreeClassifier(random_state=42)</pre></div></div></div></div></div></div></div></div></div></div>"
      ],
      "text/plain": [
       "GridSearchCV(cv=5, estimator=DecisionTreeClassifier(random_state=42), n_jobs=-1,\n",
       "             param_grid={'criterion': ['gini', 'entropy'],\n",
       "                         'max_depth': [4, 6, 8, 10],\n",
       "                         'min_samples_leaf': [1, 5, 10],\n",
       "                         'min_samples_split': [2, 5, 10, 20]},\n",
       "             scoring='f1', verbose=1)"
      ]
     },
     "execution_count": 10,
     "metadata": {},
     "output_type": "execute_result"
    }
   ],
   "source": [
    "dt = DecisionTreeClassifier(random_state=42)\n",
    "\n",
    "grid_search = GridSearchCV(\n",
    "    estimator=dt,\n",
    "    param_grid=param_grid,\n",
    "    scoring='f1',\n",
    "    cv=5,\n",
    "    n_jobs=-1,\n",
    "    verbose=1\n",
    ")\n",
    "\n",
    "grid_search.fit(X_train, y_train)\n"
   ]
  },
  {
   "cell_type": "code",
   "execution_count": 11,
   "id": "7cca5cde",
   "metadata": {},
   "outputs": [
    {
     "name": "stdout",
     "output_type": "stream",
     "text": [
      "Mejores parámetros: {'criterion': 'entropy', 'max_depth': 10, 'min_samples_leaf': 5, 'min_samples_split': 20}\n"
     ]
    }
   ],
   "source": [
    "print(\"Mejores parámetros:\", grid_search.best_params_)\n",
    "best_dt = grid_search.best_estimator_"
   ]
  },
  {
   "cell_type": "code",
   "execution_count": 12,
   "id": "9ea19598",
   "metadata": {},
   "outputs": [
    {
     "name": "stdout",
     "output_type": "stream",
     "text": [
      "Accuracy: 0.8045\n",
      "Recall (clase 1): 0.7393\n",
      "F1 Score (clase 1): 0.7192\n",
      "AUC-ROC: 0.8727\n"
     ]
    }
   ],
   "source": [
    "# Predecir y calcular métricas\n",
    "y_pred = best_dt.predict(X_test)\n",
    "y_proba = best_dt.predict_proba(X_test)[:, 1]\n",
    "\n",
    "from sklearn.metrics import accuracy_score, classification_report, roc_auc_score\n",
    "\n",
    "# Predicciones\n",
    "y_pred = clf.predict(X_test)\n",
    "y_proba = clf.predict_proba(X_test)[:, 1]  # Probabilidad para clase 1\n",
    "\n",
    "# Métricas\n",
    "accuracy = accuracy_score(y_test, y_pred)\n",
    "report = classification_report(y_test, y_pred, output_dict=True)\n",
    "recall_class_1 = report['1']['recall']\n",
    "f1_class_1 = report['1']['f1-score']\n",
    "auc = roc_auc_score(y_test, y_proba)\n",
    "\n",
    "# Resultados\n",
    "print(f\"Accuracy: {accuracy:.4f}\")\n",
    "print(f\"Recall (clase 1): {recall_class_1:.4f}\")\n",
    "print(f\"F1 Score (clase 1): {f1_class_1:.4f}\")\n",
    "print(f\"AUC-ROC: {auc:.4f}\")"
   ]
  },
  {
   "cell_type": "code",
   "execution_count": 16,
   "id": "b92e5a33",
   "metadata": {},
   "outputs": [
    {
     "name": "stdout",
     "output_type": "stream",
     "text": [
      "Train Accuracy: 0.8315\n"
     ]
    }
   ],
   "source": [
    "# Métricas en entrenamiento\n",
    "y_train_pred = best_dt.predict(X_train)\n",
    "train_accuracy = accuracy_score(y_train, y_train_pred)\n",
    "print(f\"Train Accuracy: {train_accuracy:.4f}\")\n"
   ]
  },
  {
   "cell_type": "code",
   "execution_count": 13,
   "id": "a528e4f0",
   "metadata": {},
   "outputs": [
    {
     "data": {
      "image/png": "[encoded data removed]",
      "text/plain": [
       "<Figure size 1440x720 with 1 Axes>"
      ]
     },
     "metadata": {
      "needs_background": "light"
     },
     "output_type": "display_data"
    },
    {
     "data": {
      "text/plain": [
       "<Figure size 432x288 with 0 Axes>"
      ]
     },
     "metadata": {},
     "output_type": "display_data"
    }
   ],
   "source": [
    "import matplotlib.pyplot as plt\n",
    "from sklearn.tree import plot_tree\n",
    "\n",
    "plt.figure(figsize=(20, 10))\n",
    "plot_tree(\n",
    "    best_dt,\n",
    "    feature_names=feature_cols,\n",
    "    class_names=['background', 'signal'],\n",
    "    filled=True,\n",
    "    rounded=True,\n",
    "    max_depth=3  # Limita la profundidad visual para no saturar\n",
    ")\n",
    "plt.title(\"Árbol de decisión entrenado (profundidad hasta 3)\")\n",
    "plt.show()\n",
    "plt.savefig(\"decision_tree_visualization.png\", dpi=300, bbox_inches=\"tight\")\n"
   ]
  },
  {
   "cell_type": "code",
   "execution_count": 14,
   "id": "461deda9",
   "metadata": {},
   "outputs": [
    {
     "name": "stdout",
     "output_type": "stream",
     "text": [
      "|--- DER_mass_transverse_met_lep <= 52.48\n",
      "|   |--- DER_mass_MMC <= 101.14\n",
      "|   |   |--- DER_deltar_tau_lep <= 2.74\n",
      "|   |   |   |--- DER_mass_MMC <= 88.71\n",
      "|   |   |   |   |--- truncated branch of depth 7\n",
      "|   |   |   |--- DER_mass_MMC >  88.71\n",
      "|   |   |   |   |--- truncated branch of depth 7\n",
      "|   |   |--- DER_deltar_tau_lep >  2.74\n",
      "|   |   |   |--- PRI_tau_pt <= 28.05\n",
      "|   |   |   |   |--- truncated branch of depth 7\n",
      "|   |   |   |--- PRI_tau_pt >  28.05\n",
      "|   |   |   |   |--- truncated branch of depth 7\n",
      "|   |--- DER_mass_MMC >  101.14\n",
      "|   |   |--- DER_mass_vis <= 119.66\n",
      "|   |   |   |--- DER_mass_MMC <= 113.55\n",
      "|   |   |   |   |--- truncated branch of depth 7\n",
      "|   |   |   |--- DER_mass_MMC >  113.55\n",
      "|   |   |   |   |--- truncated branch of depth 7\n",
      "|   |   |--- DER_mass_vis >  119.66\n",
      "|   |   |   |--- DER_mass_vis <= 127.66\n",
      "|   |   |   |   |--- truncated branch of depth 7\n",
      "|   |   |   |--- DER_mass_vis >  127.66\n",
      "|   |   |   |   |--- truncated branch of depth 7\n",
      "|--- DER_mass_transverse_met_lep >  52.48\n",
      "|   |--- DER_met_phi_centrality <= 0.52\n",
      "|   |   |--- PRI_tau_pt <= 34.41\n",
      "|   |   |   |--- DER_mass_vis <= 55.92\n",
      "|   |   |   |   |--- truncated branch of depth 7\n",
      "|   |   |   |--- DER_mass_vis >  55.92\n",
      "|   |   |   |   |--- truncated branch of depth 7\n",
      "|   |   |--- PRI_tau_pt >  34.41\n",
      "|   |   |   |--- DER_mass_vis <= 118.66\n",
      "|   |   |   |   |--- truncated branch of depth 7\n",
      "|   |   |   |--- DER_mass_vis >  118.66\n",
      "|   |   |   |   |--- truncated branch of depth 7\n",
      "|   |--- DER_met_phi_centrality >  0.52\n",
      "|   |   |--- DER_mass_MMC <= 170.58\n",
      "|   |   |   |--- PRI_tau_pt <= 32.78\n",
      "|   |   |   |   |--- truncated branch of depth 7\n",
      "|   |   |   |--- PRI_tau_pt >  32.78\n",
      "|   |   |   |   |--- truncated branch of depth 7\n",
      "|   |   |--- DER_mass_MMC >  170.58\n",
      "|   |   |   |--- DER_mass_vis <= 121.92\n",
      "|   |   |   |   |--- truncated branch of depth 7\n",
      "|   |   |   |--- DER_mass_vis >  121.92\n",
      "|   |   |   |   |--- truncated branch of depth 7\n",
      "\n"
     ]
    }
   ],
   "source": [
    "from sklearn.tree import export_text\n",
    "\n",
    "tree_text = export_text(\n",
    "    best_dt,\n",
    "    feature_names=list(feature_cols),\n",
    "    max_depth=3  # Puedes quitar esto si quieres el árbol completo\n",
    ")\n",
    "print(tree_text)\n"
   ]
  },
  {
   "cell_type": "code",
   "execution_count": 15,
   "id": "15be4d2d",
   "metadata": {},
   "outputs": [
    {
     "name": "stderr",
     "output_type": "stream",
     "text": [
      "[codecarbon INFO @ 19:14:30] Energy consumed for RAM : 0.000220 kWh. RAM Power : 3.0 W\n",
      "[codecarbon INFO @ 19:14:30] Energy consumed for all CPUs : 0.000367 kWh. Total CPU Power : 5.0 W\n",
      "[codecarbon INFO @ 19:14:30] 0.000587 kWh of electricity used since the beginning.\n"
     ]
    }
   ],
   "source": [
    "emissions = tracker.stop()"
   ]
  }
 ],
 "metadata": {
  "kernelspec": {
   "display_name": "base",
   "language": "python",
   "name": "python3"
  },
  "language_info": {
   "codemirror_mode": {
    "name": "ipython",
    "version": 3
   },
   "file_extension": ".py",
   "mimetype": "text/x-python",
   "name": "python",
   "nbconvert_exporter": "python",
   "pygments_lexer": "ipython3",
   "version": "3.9.12"
  }
 },
 "nbformat": 4,
 "nbformat_minor": 5
}
