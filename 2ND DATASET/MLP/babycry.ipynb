{
 "cells": [
  {
   "cell_type": "code",
   "execution_count": 1,
   "metadata": {},
   "outputs": [
    {
     "name": "stderr",
     "output_type": "stream",
     "text": [
      "[codecarbon INFO @ 01:24:16] [setup] RAM Tracking...\n",
      "[codecarbon INFO @ 01:24:16] [setup] CPU Tracking...\n",
      "[codecarbon WARNING @ 01:24:19] No CPU tracking mode found. Falling back on CPU constant mode. \n",
      " Mac OS and ARM processor detected: Please enable PowerMetrics sudo to measure CPU\n",
      "\n",
      "[codecarbon INFO @ 01:24:20] CPU Model on constant consumption mode: Apple M1\n",
      "[codecarbon INFO @ 01:24:20] [setup] GPU Tracking...\n",
      "[codecarbon INFO @ 01:24:20] No GPU found.\n",
      "[codecarbon INFO @ 01:24:20] >>> Tracker's metadata:\n",
      "[codecarbon INFO @ 01:24:20]   Platform system: macOS-10.16-x86_64-i386-64bit\n",
      "[codecarbon INFO @ 01:24:20]   Python version: 3.9.12\n",
      "[codecarbon INFO @ 01:24:20]   CodeCarbon version: 2.8.3\n",
      "[codecarbon INFO @ 01:24:20]   Available RAM : 8.000 GB\n",
      "[codecarbon INFO @ 01:24:20]   CPU count: 8\n",
      "[codecarbon INFO @ 01:24:20]   CPU model: Apple M1\n",
      "[codecarbon INFO @ 01:24:20]   GPU count: None\n",
      "[codecarbon INFO @ 01:24:20]   GPU model: None\n",
      "[codecarbon INFO @ 01:24:24] Saving emissions data to file /Users/lucia/Desktop/classification_methods/2ND DATASET/MLP/emissions.csv\n"
     ]
    }
   ],
   "source": [
    "from codecarbon import EmissionsTracker\n",
    "try:\n",
    "    tracker.stop()  # Intenta detener cualquier instancia previa de codecarbon\n",
    "except:\n",
    "    pass  # Ignora el error si no hay ninguna instancia activa\n",
    "# Iniciar el medidor\n",
    "tracker = EmissionsTracker()\n",
    "tracker.start()"
   ]
  },
  {
   "cell_type": "code",
   "execution_count": 2,
   "metadata": {},
   "outputs": [],
   "source": [
    "import numpy as np # linear algebra\n",
    "import pandas as pd # data processing, CSV file I/O (e.g. pd.read_csv)\n",
    "import matplotlib.pyplot as plt # data visualization\n",
    "import seaborn as sns # statistical data visualization\n",
    "%matplotlib inline"
   ]
  },
  {
   "cell_type": "code",
   "execution_count": 3,
   "metadata": {},
   "outputs": [],
   "source": [
    "data = '/Users/lucia/.cache/kagglehub/datasets/bhoomikavalani/donateacrycorpusfeaturesdataset/versions/2/donateacry-corpus_features_final.csv'\n",
    "\n",
    "df = pd.read_csv(data)"
   ]
  },
  {
   "cell_type": "code",
   "execution_count": 4,
   "metadata": {},
   "outputs": [],
   "source": [
    "import re\n",
    "\n",
    "def extraer_info_mejorada(ruta):\n",
    "    # Extrae con regex el patrón típico del final del nombre del archivo\n",
    "    match = re.search(r'-([\\d.]+)-(m|f)-(\\d+)-', ruta)\n",
    "    if match:\n",
    "        # match.groups() devuelve (edad_raw, genero, edad_clasificada)\n",
    "        edad_raw, genero, edad = match.groups()\n",
    "        return genero, edad\n",
    "    else:\n",
    "        return None, None  # si no encuentra patrón, deja como None\n",
    "\n",
    "df[['Genero', 'Edad_Codigo']] = df['Cry_Audio_File'].apply(lambda x: pd.Series(extraer_info_mejorada(x)))\n",
    "\n",
    "df['Genero'] = df['Genero'].map({'m': 0, 'f': 1})\n",
    "\n",
    "edad_map = {\n",
    "    '04': 1,\n",
    "    '48': 2,\n",
    "    '26': 3,\n",
    "    '72': 4,\n",
    "    '22': 5\n",
    "}\n",
    "\n",
    "df['Edad'] = df['Edad_Codigo'].map(edad_map)\n",
    "\n",
    "df.drop(columns=['Cry_Audio_File', 'Edad_Codigo'], inplace=True)"
   ]
  },
  {
   "cell_type": "code",
   "execution_count": 5,
   "metadata": {},
   "outputs": [],
   "source": [
    "import numpy as np # linear algebra\n",
    "np.random.seed(10)\n",
    "import pandas as pd # data processing, CSV file I/O (e.g. pd.read_csv)\n",
    "import matplotlib.pyplot as plt\n",
    "import seaborn as sns\n",
    "\n",
    "# Required magic to display matplotlib plots in notebooks\n",
    "%matplotlib inline\n",
    "\n",
    "from sklearn import metrics\n",
    "from sklearn.metrics import accuracy_score, confusion_matrix\n",
    "from sklearn.model_selection import train_test_split"
   ]
  },
  {
   "cell_type": "code",
   "execution_count": 6,
   "metadata": {},
   "outputs": [
    {
     "data": {
      "text/plain": [
       "Index(['Cry_Reason', 'Amplitude_Envelope_Mean', 'RMS_Mean', 'ZCR_Mean',\n",
       "       'STFT_Mean', 'SC_Mean', 'SBAN_Mean', 'SCON_Mean', 'MFCCs13Mean',\n",
       "       'delMFCCs13', 'del2MFCCs13', 'MelSpec', 'MFCCs20', 'MFCCs1', 'MFCCs2',\n",
       "       'MFCCs3', 'MFCCs4', 'MFCCs5', 'MFCCs6', 'MFCCs7', 'MFCCs8', 'MFCCs9',\n",
       "       'MFCCs10', 'MFCCs11', 'MFCCs12', 'MFCCs13', 'Genero', 'Edad'],\n",
       "      dtype='object')"
      ]
     },
     "execution_count": 6,
     "metadata": {},
     "output_type": "execute_result"
    }
   ],
   "source": [
    "col_names = df.columns\n",
    "\n",
    "col_names"
   ]
  },
  {
   "cell_type": "code",
   "execution_count": 7,
   "metadata": {},
   "outputs": [],
   "source": [
    "X = df.drop(['Cry_Reason'], axis=1)\n",
    "\n",
    "y = df['Cry_Reason']"
   ]
  },
  {
   "cell_type": "code",
   "execution_count": 8,
   "metadata": {},
   "outputs": [],
   "source": [
    "from sklearn.model_selection import train_test_split\n",
    "\n",
    "X_train, X_test, y_train, y_test = train_test_split(X, y, test_size = 0.2, random_state = 0)"
   ]
  },
  {
   "cell_type": "code",
   "execution_count": 9,
   "metadata": {},
   "outputs": [],
   "source": [
    "cols = X_train.columns"
   ]
  },
  {
   "cell_type": "code",
   "execution_count": 10,
   "metadata": {},
   "outputs": [],
   "source": [
    "from sklearn.preprocessing import MinMaxScaler\n",
    "\n",
    "scaler = MinMaxScaler()\n",
    "\n",
    "X_train = scaler.fit_transform(X_train)\n",
    "\n",
    "X_test = scaler.transform(X_test)"
   ]
  },
  {
   "cell_type": "code",
   "execution_count": 11,
   "metadata": {},
   "outputs": [],
   "source": [
    "X_train = pd.DataFrame(X_train, columns=[cols])\n"
   ]
  },
  {
   "cell_type": "code",
   "execution_count": 12,
   "metadata": {},
   "outputs": [],
   "source": [
    "X_test = pd.DataFrame(X_test, columns=[cols])\n"
   ]
  },
  {
   "cell_type": "markdown",
   "metadata": {},
   "source": [
    "MODELO"
   ]
  },
  {
   "cell_type": "code",
   "execution_count": 13,
   "metadata": {},
   "outputs": [],
   "source": [
    "# Import necessary libraries\n",
    "from sklearn.neural_network import MLPClassifier\n",
    "from sklearn.datasets import load_breast_cancer\n",
    "from sklearn.model_selection import train_test_split\n",
    "from sklearn.preprocessing import StandardScaler\n",
    "from sklearn.metrics import accuracy_score, classification_report, confusion_matrix"
   ]
  },
  {
   "cell_type": "code",
   "execution_count": 14,
   "metadata": {},
   "outputs": [],
   "source": [
    "# Create an MLPClassifier model\n",
    "mlp = MLPClassifier(hidden_layer_sizes=(64, 32),\n",
    "                    max_iter=1000, random_state=42)"
   ]
  },
  {
   "cell_type": "code",
   "execution_count": 15,
   "metadata": {},
   "outputs": [
    {
     "name": "stdout",
     "output_type": "stream",
     "text": [
      "Accuracy: 0.79\n"
     ]
    },
    {
     "name": "stderr",
     "output_type": "stream",
     "text": [
      "/Users/lucia/opt/anaconda3/lib/python3.9/site-packages/sklearn/neural_network/_multilayer_perceptron.py:686: ConvergenceWarning: Stochastic Optimizer: Maximum iterations (1000) reached and the optimization hasn't converged yet.\n",
      "  warnings.warn(\n"
     ]
    }
   ],
   "source": [
    "# Train the model on the training data\n",
    "mlp.fit(X_train, y_train)\n",
    "\n",
    "# Make predictions on the test data\n",
    "y_pred = mlp.predict(X_test)\n",
    "\n",
    "# Calculate the accuracy of the model\n",
    "accuracy = accuracy_score(y_test, y_pred)\n",
    "print(f\"Accuracy: {accuracy:.2f}\")"
   ]
  },
  {
   "cell_type": "code",
   "execution_count": 16,
   "metadata": {},
   "outputs": [
    {
     "name": "stdout",
     "output_type": "stream",
     "text": [
      "Classification Report:               precision    recall  f1-score   support\n",
      "\n",
      "           0       0.67      0.40      0.50         5\n",
      "           1       0.00      0.00      0.00         1\n",
      "           2       0.00      0.00      0.00         1\n",
      "           3       0.90      0.90      0.90        79\n",
      "           4       0.00      0.00      0.00         6\n",
      "\n",
      "    accuracy                           0.79        92\n",
      "   macro avg       0.31      0.26      0.28        92\n",
      "weighted avg       0.81      0.79      0.80        92\n",
      "\n"
     ]
    }
   ],
   "source": [
    "# Generate a classification report\n",
    "class_report = classification_report(y_test, y_pred)\n",
    "print(f\"Classification Report: {class_report}\")"
   ]
  },
  {
   "cell_type": "markdown",
   "metadata": {},
   "source": [
    "CV para encontrar los mejores parámetros"
   ]
  },
  {
   "cell_type": "code",
   "execution_count": 17,
   "metadata": {},
   "outputs": [
    {
     "name": "stdout",
     "output_type": "stream",
     "text": [
      "Fitting 5 folds for each of 144 candidates, totalling 720 fits\n",
      "[CV] END activation=relu, alpha=0.0001, hidden_layer_sizes=(64,), learning_rate=constant, solver=sgd; total time=   0.2s\n",
      "[CV] END activation=relu, alpha=0.0001, hidden_layer_sizes=(64,), learning_rate=constant, solver=sgd; total time=   0.2s\n",
      "[CV] END activation=relu, alpha=0.0001, hidden_layer_sizes=(64,), learning_rate=constant, solver=sgd; total time=   0.2s\n",
      "[CV] END activation=relu, alpha=0.0001, hidden_layer_sizes=(64,), learning_rate=constant, solver=sgd; total time=   0.2s\n",
      "[CV] END activation=relu, alpha=0.0001, hidden_layer_sizes=(64,), learning_rate=constant, solver=sgd; total time=   0.2s\n",
      "[CV] END activation=relu, alpha=0.0001, hidden_layer_sizes=(64,), learning_rate=constant, solver=adam; total time=   1.1s\n",
      "[CV] END activation=relu, alpha=0.0001, hidden_layer_sizes=(64,), learning_rate=constant, solver=adam; total time=   1.1s\n",
      "[CV] END activation=relu, alpha=0.0001, hidden_layer_sizes=(64,), learning_rate=constant, solver=adam; total time=   1.1s\n",
      "[CV] END activation=relu, alpha=0.0001, hidden_layer_sizes=(64,), learning_rate=constant, solver=adam; total time=   1.2s\n"
     ]
    },
    {
     "name": "stderr",
     "output_type": "stream",
     "text": [
      "/Users/lucia/opt/anaconda3/lib/python3.9/site-packages/sklearn/neural_network/_multilayer_perceptron.py:686: ConvergenceWarning: Stochastic Optimizer: Maximum iterations (1000) reached and the optimization hasn't converged yet.\n",
      "  warnings.warn(\n",
      "/Users/lucia/opt/anaconda3/lib/python3.9/site-packages/sklearn/neural_network/_multilayer_perceptron.py:686: ConvergenceWarning: Stochastic Optimizer: Maximum iterations (1000) reached and the optimization hasn't converged yet.\n",
      "  warnings.warn(\n",
      "/Users/lucia/opt/anaconda3/lib/python3.9/site-packages/sklearn/neural_network/_multilayer_perceptron.py:686: ConvergenceWarning: Stochastic Optimizer: Maximum iterations (1000) reached and the optimization hasn't converged yet.\n",
      "  warnings.warn(\n",
      "/Users/lucia/opt/anaconda3/lib/python3.9/site-packages/sklearn/neural_network/_multilayer_perceptron.py:686: ConvergenceWarning: Stochastic Optimizer: Maximum iterations (1000) reached and the optimization hasn't converged yet.\n",
      "  warnings.warn(\n",
      "/Users/lucia/opt/anaconda3/lib/python3.9/site-packages/sklearn/neural_network/_multilayer_perceptron.py:686: ConvergenceWarning: Stochastic Optimizer: Maximum iterations (1000) reached and the optimization hasn't converged yet.\n",
      "  warnings.warn(\n"
     ]
    },
    {
     "name": "stdout",
     "output_type": "stream",
     "text": [
      "[CV] END activation=relu, alpha=0.0001, hidden_layer_sizes=(64,), learning_rate=constant, solver=adam; total time=   1.2s\n",
      "[CV] END activation=relu, alpha=0.0001, hidden_layer_sizes=(64,), learning_rate=adaptive, solver=sgd; total time=   0.2s\n",
      "[CV] END activation=relu, alpha=0.0001, hidden_layer_sizes=(64,), learning_rate=adaptive, solver=sgd; total time=   0.2s\n",
      "[CV] END activation=relu, alpha=0.0001, hidden_layer_sizes=(64,), learning_rate=adaptive, solver=sgd; total time=   0.2s\n",
      "[CV] END activation=relu, alpha=0.0001, hidden_layer_sizes=(64,), learning_rate=adaptive, solver=sgd; total time=   0.2s\n",
      "[CV] END activation=relu, alpha=0.0001, hidden_layer_sizes=(64,), learning_rate=adaptive, solver=adam; total time=   1.2s\n",
      "[CV] END activation=relu, alpha=0.0001, hidden_layer_sizes=(64,), learning_rate=adaptive, solver=sgd; total time=   0.2s\n",
      "[CV] END activation=relu, alpha=0.0001, hidden_layer_sizes=(64,), learning_rate=adaptive, solver=adam; total time=   1.1s\n",
      "[CV] END activation=relu, alpha=0.0001, hidden_layer_sizes=(64,), learning_rate=adaptive, solver=adam; total time=   1.2s\n"
     ]
    },
    {
     "name": "stderr",
     "output_type": "stream",
     "text": [
      "/Users/lucia/opt/anaconda3/lib/python3.9/site-packages/sklearn/neural_network/_multilayer_perceptron.py:686: ConvergenceWarning: Stochastic Optimizer: Maximum iterations (1000) reached and the optimization hasn't converged yet.\n",
      "  warnings.warn(\n",
      "/Users/lucia/opt/anaconda3/lib/python3.9/site-packages/sklearn/neural_network/_multilayer_perceptron.py:686: ConvergenceWarning: Stochastic Optimizer: Maximum iterations (1000) reached and the optimization hasn't converged yet.\n",
      "  warnings.warn(\n",
      "/Users/lucia/opt/anaconda3/lib/python3.9/site-packages/sklearn/neural_network/_multilayer_perceptron.py:686: ConvergenceWarning: Stochastic Optimizer: Maximum iterations (1000) reached and the optimization hasn't converged yet.\n",
      "  warnings.warn(\n"
     ]
    },
    {
     "name": "stdout",
     "output_type": "stream",
     "text": [
      "[CV] END activation=relu, alpha=0.0001, hidden_layer_sizes=(64, 32), learning_rate=constant, solver=sgd; total time=   0.3s\n"
     ]
    },
    {
     "name": "stderr",
     "output_type": "stream",
     "text": [
      "/Users/lucia/opt/anaconda3/lib/python3.9/site-packages/sklearn/neural_network/_multilayer_perceptron.py:686: ConvergenceWarning: Stochastic Optimizer: Maximum iterations (1000) reached and the optimization hasn't converged yet.\n",
      "  warnings.warn(\n",
      "/Users/lucia/opt/anaconda3/lib/python3.9/site-packages/sklearn/neural_network/_multilayer_perceptron.py:686: ConvergenceWarning: Stochastic Optimizer: Maximum iterations (1000) reached and the optimization hasn't converged yet.\n",
      "  warnings.warn(\n"
     ]
    },
    {
     "name": "stdout",
     "output_type": "stream",
     "text": [
      "[CV] END activation=relu, alpha=0.0001, hidden_layer_sizes=(64, 32), learning_rate=constant, solver=sgd; total time=   0.3s\n",
      "[CV] END activation=relu, alpha=0.0001, hidden_layer_sizes=(64,), learning_rate=adaptive, solver=adam; total time=   1.2s\n",
      "[CV] END activation=relu, alpha=0.0001, hidden_layer_sizes=(64,), learning_rate=adaptive, solver=adam; total time=   1.2s\n",
      "[CV] END activation=relu, alpha=0.0001, hidden_layer_sizes=(64, 32), learning_rate=constant, solver=sgd; total time=   0.3s\n",
      "[CV] END activation=relu, alpha=0.0001, hidden_layer_sizes=(64, 32), learning_rate=constant, solver=sgd; total time=   0.3s\n",
      "[CV] END activation=relu, alpha=0.0001, hidden_layer_sizes=(64, 32), learning_rate=constant, solver=sgd; total time=   0.3s\n"
     ]
    },
    {
     "name": "stderr",
     "output_type": "stream",
     "text": [
      "/Users/lucia/opt/anaconda3/lib/python3.9/site-packages/sklearn/neural_network/_multilayer_perceptron.py:686: ConvergenceWarning: Stochastic Optimizer: Maximum iterations (1000) reached and the optimization hasn't converged yet.\n",
      "  warnings.warn(\n",
      "/Users/lucia/opt/anaconda3/lib/python3.9/site-packages/sklearn/neural_network/_multilayer_perceptron.py:686: ConvergenceWarning: Stochastic Optimizer: Maximum iterations (1000) reached and the optimization hasn't converged yet.\n",
      "  warnings.warn(\n",
      "/Users/lucia/opt/anaconda3/lib/python3.9/site-packages/sklearn/neural_network/_multilayer_perceptron.py:686: ConvergenceWarning: Stochastic Optimizer: Maximum iterations (1000) reached and the optimization hasn't converged yet.\n",
      "  warnings.warn(\n",
      "/Users/lucia/opt/anaconda3/lib/python3.9/site-packages/sklearn/neural_network/_multilayer_perceptron.py:686: ConvergenceWarning: Stochastic Optimizer: Maximum iterations (1000) reached and the optimization hasn't converged yet.\n",
      "  warnings.warn(\n",
      "/Users/lucia/opt/anaconda3/lib/python3.9/site-packages/sklearn/neural_network/_multilayer_perceptron.py:686: ConvergenceWarning: Stochastic Optimizer: Maximum iterations (1000) reached and the optimization hasn't converged yet.\n",
      "  warnings.warn(\n"
     ]
    },
    {
     "name": "stdout",
     "output_type": "stream",
     "text": [
      "[CV] END activation=relu, alpha=0.0001, hidden_layer_sizes=(64, 32), learning_rate=constant, solver=adam; total time=   1.9s\n",
      "[CV] END activation=relu, alpha=0.0001, hidden_layer_sizes=(64, 32), learning_rate=constant, solver=adam; total time=   1.8s\n",
      "[CV] END activation=relu, alpha=0.0001, hidden_layer_sizes=(64, 32), learning_rate=constant, solver=adam; total time=   1.9s\n",
      "[CV] END activation=relu, alpha=0.0001, hidden_layer_sizes=(64, 32), learning_rate=constant, solver=adam; total time=   1.8s\n",
      "[CV] END activation=relu, alpha=0.0001, hidden_layer_sizes=(64, 32), learning_rate=constant, solver=adam; total time=   1.9s\n",
      "[CV] END activation=relu, alpha=0.0001, hidden_layer_sizes=(64, 32), learning_rate=adaptive, solver=sgd; total time=   0.3s\n",
      "[CV] END activation=relu, alpha=0.0001, hidden_layer_sizes=(64, 32), learning_rate=adaptive, solver=sgd; total time=   0.4s\n",
      "[CV] END activation=relu, alpha=0.0001, hidden_layer_sizes=(64, 32), learning_rate=adaptive, solver=sgd; total time=   0.5s\n",
      "[CV] END activation=relu, alpha=0.0001, hidden_layer_sizes=(64, 32), learning_rate=adaptive, solver=sgd; total time=   0.3s\n",
      "[CV] END activation=relu, alpha=0.0001, hidden_layer_sizes=(64, 32), learning_rate=adaptive, solver=adam; total time=   1.7s\n",
      "[CV] END activation=relu, alpha=0.0001, hidden_layer_sizes=(64, 32), learning_rate=adaptive, solver=sgd; total time=   0.4s\n"
     ]
    },
    {
     "name": "stderr",
     "output_type": "stream",
     "text": [
      "/Users/lucia/opt/anaconda3/lib/python3.9/site-packages/sklearn/neural_network/_multilayer_perceptron.py:686: ConvergenceWarning: Stochastic Optimizer: Maximum iterations (1000) reached and the optimization hasn't converged yet.\n",
      "  warnings.warn(\n",
      "/Users/lucia/opt/anaconda3/lib/python3.9/site-packages/sklearn/neural_network/_multilayer_perceptron.py:686: ConvergenceWarning: Stochastic Optimizer: Maximum iterations (1000) reached and the optimization hasn't converged yet.\n",
      "  warnings.warn(\n",
      "/Users/lucia/opt/anaconda3/lib/python3.9/site-packages/sklearn/neural_network/_multilayer_perceptron.py:686: ConvergenceWarning: Stochastic Optimizer: Maximum iterations (1000) reached and the optimization hasn't converged yet.\n",
      "  warnings.warn(\n"
     ]
    },
    {
     "name": "stdout",
     "output_type": "stream",
     "text": [
      "[CV] END activation=relu, alpha=0.0001, hidden_layer_sizes=(64, 32), learning_rate=adaptive, solver=adam; total time=   1.8s\n",
      "[CV] END activation=relu, alpha=0.0001, hidden_layer_sizes=(64, 32), learning_rate=adaptive, solver=adam; total time=   1.8s\n",
      "[CV] END activation=relu, alpha=0.0001, hidden_layer_sizes=(128, 64), learning_rate=constant, solver=sgd; total time=   0.4s\n"
     ]
    },
    {
     "name": "stderr",
     "output_type": "stream",
     "text": [
      "/Users/lucia/opt/anaconda3/lib/python3.9/site-packages/sklearn/neural_network/_multilayer_perceptron.py:686: ConvergenceWarning: Stochastic Optimizer: Maximum iterations (1000) reached and the optimization hasn't converged yet.\n",
      "  warnings.warn(\n",
      "/Users/lucia/opt/anaconda3/lib/python3.9/site-packages/sklearn/neural_network/_multilayer_perceptron.py:686: ConvergenceWarning: Stochastic Optimizer: Maximum iterations (1000) reached and the optimization hasn't converged yet.\n",
      "  warnings.warn(\n"
     ]
    },
    {
     "name": "stdout",
     "output_type": "stream",
     "text": [
      "[CV] END activation=relu, alpha=0.0001, hidden_layer_sizes=(64, 32), learning_rate=adaptive, solver=adam; total time=   1.8s\n",
      "[CV] END activation=relu, alpha=0.0001, hidden_layer_sizes=(64, 32), learning_rate=adaptive, solver=adam; total time=   1.8s\n",
      "[CV] END activation=relu, alpha=0.0001, hidden_layer_sizes=(128, 64), learning_rate=constant, solver=sgd; total time=   0.6s\n",
      "[CV] END activation=relu, alpha=0.0001, hidden_layer_sizes=(128, 64), learning_rate=constant, solver=sgd; total time=   0.4s\n",
      "[CV] END activation=relu, alpha=0.0001, hidden_layer_sizes=(128, 64), learning_rate=constant, solver=sgd; total time=   0.5s\n",
      "[CV] END activation=relu, alpha=0.0001, hidden_layer_sizes=(128, 64), learning_rate=constant, solver=sgd; total time=   0.6s\n",
      "[CV] END activation=relu, alpha=0.0001, hidden_layer_sizes=(128, 64), learning_rate=constant, solver=adam; total time=   2.7s\n",
      "[CV] END activation=relu, alpha=0.0001, hidden_layer_sizes=(128, 64), learning_rate=constant, solver=adam; total time=   3.0s\n",
      "[CV] END activation=relu, alpha=0.0001, hidden_layer_sizes=(128, 64), learning_rate=constant, solver=adam; total time=   3.3s\n",
      "[CV] END activation=relu, alpha=0.0001, hidden_layer_sizes=(128, 64), learning_rate=constant, solver=adam; total time=   3.3s\n",
      "[CV] END activation=relu, alpha=0.0001, hidden_layer_sizes=(128, 64), learning_rate=constant, solver=adam; total time=   3.3s\n",
      "[CV] END activation=relu, alpha=0.0001, hidden_layer_sizes=(128, 64), learning_rate=adaptive, solver=sgd; total time=   0.6s\n",
      "[CV] END activation=relu, alpha=0.0001, hidden_layer_sizes=(128, 64), learning_rate=adaptive, solver=sgd; total time=   0.7s\n",
      "[CV] END activation=relu, alpha=0.0001, hidden_layer_sizes=(128, 64), learning_rate=adaptive, solver=sgd; total time=   0.6s\n"
     ]
    },
    {
     "name": "stderr",
     "output_type": "stream",
     "text": [
      "[codecarbon INFO @ 01:24:39] Energy consumed for RAM : 0.000013 kWh. RAM Power : 3.0 W\n",
      "[codecarbon INFO @ 01:24:39] Energy consumed for all CPUs : 0.000021 kWh. Total CPU Power : 5.0 W\n",
      "[codecarbon INFO @ 01:24:39] 0.000033 kWh of electricity used since the beginning.\n"
     ]
    },
    {
     "name": "stdout",
     "output_type": "stream",
     "text": [
      "[CV] END activation=relu, alpha=0.0001, hidden_layer_sizes=(128, 64), learning_rate=adaptive, solver=sgd; total time=   0.7s\n",
      "[CV] END activation=relu, alpha=0.0001, hidden_layer_sizes=(128, 64), learning_rate=adaptive, solver=adam; total time=   2.8s\n",
      "[CV] END activation=relu, alpha=0.0001, hidden_layer_sizes=(128, 64), learning_rate=adaptive, solver=adam; total time=   3.4s\n",
      "[CV] END activation=relu, alpha=0.0001, hidden_layer_sizes=(128, 64), learning_rate=adaptive, solver=sgd; total time=   0.9s\n",
      "[CV] END activation=relu, alpha=0.0001, hidden_layer_sizes=(128, 64), learning_rate=adaptive, solver=adam; total time=   3.3s\n",
      "[CV] END activation=relu, alpha=0.0001, hidden_layer_sizes=(100, 50, 25), learning_rate=constant, solver=sgd; total time=   0.4s\n",
      "[CV] END activation=relu, alpha=0.0001, hidden_layer_sizes=(100, 50, 25), learning_rate=constant, solver=sgd; total time=   0.4s\n",
      "[CV] END activation=relu, alpha=0.0001, hidden_layer_sizes=(128, 64), learning_rate=adaptive, solver=adam; total time=   3.0s\n",
      "[CV] END activation=relu, alpha=0.0001, hidden_layer_sizes=(100, 50, 25), learning_rate=constant, solver=sgd; total time=   0.4s\n",
      "[CV] END activation=relu, alpha=0.0001, hidden_layer_sizes=(100, 50, 25), learning_rate=constant, solver=sgd; total time=   0.4s\n",
      "[CV] END activation=relu, alpha=0.0001, hidden_layer_sizes=(100, 50, 25), learning_rate=constant, solver=sgd; total time=   0.4s\n",
      "[CV] END activation=relu, alpha=0.0001, hidden_layer_sizes=(128, 64), learning_rate=adaptive, solver=adam; total time=   3.4s\n",
      "[CV] END activation=relu, alpha=0.0001, hidden_layer_sizes=(100, 50, 25), learning_rate=constant, solver=adam; total time=   2.4s\n",
      "[CV] END activation=relu, alpha=0.0001, hidden_layer_sizes=(100, 50, 25), learning_rate=constant, solver=adam; total time=   2.0s\n"
     ]
    },
    {
     "name": "stderr",
     "output_type": "stream",
     "text": [
      "/Users/lucia/opt/anaconda3/lib/python3.9/site-packages/sklearn/neural_network/_multilayer_perceptron.py:686: ConvergenceWarning: Stochastic Optimizer: Maximum iterations (1000) reached and the optimization hasn't converged yet.\n",
      "  warnings.warn(\n"
     ]
    },
    {
     "name": "stdout",
     "output_type": "stream",
     "text": [
      "[CV] END activation=relu, alpha=0.0001, hidden_layer_sizes=(100, 50, 25), learning_rate=constant, solver=adam; total time=   3.1s\n",
      "[CV] END activation=relu, alpha=0.0001, hidden_layer_sizes=(100, 50, 25), learning_rate=constant, solver=adam; total time=   3.0s\n",
      "[CV] END activation=relu, alpha=0.0001, hidden_layer_sizes=(100, 50, 25), learning_rate=constant, solver=adam; total time=   2.8s\n",
      "[CV] END activation=relu, alpha=0.0001, hidden_layer_sizes=(100, 50, 25), learning_rate=adaptive, solver=sgd; total time=   0.5s\n",
      "[CV] END activation=relu, alpha=0.0001, hidden_layer_sizes=(100, 50, 25), learning_rate=adaptive, solver=sgd; total time=   0.6s\n",
      "[CV] END activation=relu, alpha=0.0001, hidden_layer_sizes=(100, 50, 25), learning_rate=adaptive, solver=sgd; total time=   0.5s\n",
      "[CV] END activation=relu, alpha=0.0001, hidden_layer_sizes=(100, 50, 25), learning_rate=adaptive, solver=sgd; total time=   0.5s\n",
      "[CV] END activation=relu, alpha=0.0001, hidden_layer_sizes=(100, 50, 25), learning_rate=adaptive, solver=sgd; total time=   0.6s\n",
      "[CV] END activation=relu, alpha=0.0001, hidden_layer_sizes=(100, 50, 25), learning_rate=adaptive, solver=adam; total time=   2.3s\n",
      "[CV] END activation=relu, alpha=0.0001, hidden_layer_sizes=(100, 50, 25), learning_rate=adaptive, solver=adam; total time=   1.9s\n",
      "[CV] END activation=relu, alpha=0.0001, hidden_layer_sizes=(100, 50, 25), learning_rate=adaptive, solver=adam; total time=   2.7s\n",
      "[CV] END activation=relu, alpha=0.001, hidden_layer_sizes=(64,), learning_rate=constant, solver=sgd; total time=   0.1s\n",
      "[CV] END activation=relu, alpha=0.001, hidden_layer_sizes=(64,), learning_rate=constant, solver=sgd; total time=   0.1s\n",
      "[CV] END activation=relu, alpha=0.0001, hidden_layer_sizes=(100, 50, 25), learning_rate=adaptive, solver=adam; total time=   3.3s\n",
      "[CV] END activation=relu, alpha=0.001, hidden_layer_sizes=(64,), learning_rate=constant, solver=adam; total time=   1.2s\n",
      "[CV] END activation=relu, alpha=0.001, hidden_layer_sizes=(64,), learning_rate=constant, solver=adam; total time=   1.1s\n",
      "[CV] END activation=relu, alpha=0.001, hidden_layer_sizes=(64,), learning_rate=constant, solver=sgd; total time=   0.2s\n",
      "[CV] END activation=relu, alpha=0.001, hidden_layer_sizes=(64,), learning_rate=constant, solver=sgd; total time=   0.1s\n",
      "[CV] END activation=relu, alpha=0.001, hidden_layer_sizes=(64,), learning_rate=constant, solver=sgd; total time=   0.2s\n"
     ]
    },
    {
     "name": "stderr",
     "output_type": "stream",
     "text": [
      "/Users/lucia/opt/anaconda3/lib/python3.9/site-packages/sklearn/neural_network/_multilayer_perceptron.py:686: ConvergenceWarning: Stochastic Optimizer: Maximum iterations (1000) reached and the optimization hasn't converged yet.\n",
      "  warnings.warn(\n",
      "/Users/lucia/opt/anaconda3/lib/python3.9/site-packages/sklearn/neural_network/_multilayer_perceptron.py:686: ConvergenceWarning: Stochastic Optimizer: Maximum iterations (1000) reached and the optimization hasn't converged yet.\n",
      "  warnings.warn(\n",
      "/Users/lucia/opt/anaconda3/lib/python3.9/site-packages/sklearn/neural_network/_multilayer_perceptron.py:686: ConvergenceWarning: Stochastic Optimizer: Maximum iterations (1000) reached and the optimization hasn't converged yet.\n",
      "  warnings.warn(\n"
     ]
    },
    {
     "name": "stdout",
     "output_type": "stream",
     "text": [
      "[CV] END activation=relu, alpha=0.0001, hidden_layer_sizes=(100, 50, 25), learning_rate=adaptive, solver=adam; total time=   2.8s\n",
      "[CV] END activation=relu, alpha=0.001, hidden_layer_sizes=(64,), learning_rate=constant, solver=adam; total time=   1.1s\n",
      "[CV] END activation=relu, alpha=0.001, hidden_layer_sizes=(64,), learning_rate=constant, solver=adam; total time=   1.1s\n"
     ]
    },
    {
     "name": "stderr",
     "output_type": "stream",
     "text": [
      "/Users/lucia/opt/anaconda3/lib/python3.9/site-packages/sklearn/neural_network/_multilayer_perceptron.py:686: ConvergenceWarning: Stochastic Optimizer: Maximum iterations (1000) reached and the optimization hasn't converged yet.\n",
      "  warnings.warn(\n",
      "/Users/lucia/opt/anaconda3/lib/python3.9/site-packages/sklearn/neural_network/_multilayer_perceptron.py:686: ConvergenceWarning: Stochastic Optimizer: Maximum iterations (1000) reached and the optimization hasn't converged yet.\n",
      "  warnings.warn(\n"
     ]
    },
    {
     "name": "stdout",
     "output_type": "stream",
     "text": [
      "[CV] END activation=relu, alpha=0.001, hidden_layer_sizes=(64,), learning_rate=adaptive, solver=sgd; total time=   0.2s\n",
      "[CV] END activation=relu, alpha=0.001, hidden_layer_sizes=(64,), learning_rate=adaptive, solver=sgd; total time=   0.2s\n",
      "[CV] END activation=relu, alpha=0.001, hidden_layer_sizes=(64,), learning_rate=constant, solver=adam; total time=   1.3s\n",
      "[CV] END activation=relu, alpha=0.001, hidden_layer_sizes=(64,), learning_rate=adaptive, solver=sgd; total time=   0.2s\n"
     ]
    },
    {
     "name": "stderr",
     "output_type": "stream",
     "text": [
      "/Users/lucia/opt/anaconda3/lib/python3.9/site-packages/sklearn/neural_network/_multilayer_perceptron.py:686: ConvergenceWarning: Stochastic Optimizer: Maximum iterations (1000) reached and the optimization hasn't converged yet.\n",
      "  warnings.warn(\n"
     ]
    },
    {
     "name": "stdout",
     "output_type": "stream",
     "text": [
      "[CV] END activation=relu, alpha=0.001, hidden_layer_sizes=(64,), learning_rate=adaptive, solver=sgd; total time=   0.2s\n",
      "[CV] END activation=relu, alpha=0.001, hidden_layer_sizes=(64,), learning_rate=adaptive, solver=sgd; total time=   0.2s\n"
     ]
    },
    {
     "name": "stderr",
     "output_type": "stream",
     "text": [
      "/Users/lucia/opt/anaconda3/lib/python3.9/site-packages/sklearn/neural_network/_multilayer_perceptron.py:686: ConvergenceWarning: Stochastic Optimizer: Maximum iterations (1000) reached and the optimization hasn't converged yet.\n",
      "  warnings.warn(\n",
      "/Users/lucia/opt/anaconda3/lib/python3.9/site-packages/sklearn/neural_network/_multilayer_perceptron.py:686: ConvergenceWarning: Stochastic Optimizer: Maximum iterations (1000) reached and the optimization hasn't converged yet.\n",
      "  warnings.warn(\n",
      "/Users/lucia/opt/anaconda3/lib/python3.9/site-packages/sklearn/neural_network/_multilayer_perceptron.py:686: ConvergenceWarning: Stochastic Optimizer: Maximum iterations (1000) reached and the optimization hasn't converged yet.\n",
      "  warnings.warn(\n",
      "/Users/lucia/opt/anaconda3/lib/python3.9/site-packages/sklearn/neural_network/_multilayer_perceptron.py:686: ConvergenceWarning: Stochastic Optimizer: Maximum iterations (1000) reached and the optimization hasn't converged yet.\n",
      "  warnings.warn(\n",
      "/Users/lucia/opt/anaconda3/lib/python3.9/site-packages/sklearn/neural_network/_multilayer_perceptron.py:686: ConvergenceWarning: Stochastic Optimizer: Maximum iterations (1000) reached and the optimization hasn't converged yet.\n",
      "  warnings.warn(\n"
     ]
    },
    {
     "name": "stdout",
     "output_type": "stream",
     "text": [
      "[CV] END activation=relu, alpha=0.001, hidden_layer_sizes=(64,), learning_rate=adaptive, solver=adam; total time=   1.2s\n",
      "[CV] END activation=relu, alpha=0.001, hidden_layer_sizes=(64,), learning_rate=adaptive, solver=adam; total time=   1.3s\n",
      "[CV] END activation=relu, alpha=0.001, hidden_layer_sizes=(64,), learning_rate=adaptive, solver=adam; total time=   1.1s\n",
      "[CV] END activation=relu, alpha=0.001, hidden_layer_sizes=(64,), learning_rate=adaptive, solver=adam; total time=   1.1s\n",
      "[CV] END activation=relu, alpha=0.001, hidden_layer_sizes=(64,), learning_rate=adaptive, solver=adam; total time=   1.2s\n",
      "[CV] END activation=relu, alpha=0.001, hidden_layer_sizes=(64, 32), learning_rate=constant, solver=sgd; total time=   0.3s\n",
      "[CV] END activation=relu, alpha=0.001, hidden_layer_sizes=(64, 32), learning_rate=constant, solver=sgd; total time=   0.3s\n",
      "[CV] END activation=relu, alpha=0.001, hidden_layer_sizes=(64, 32), learning_rate=constant, solver=sgd; total time=   0.4s\n",
      "[CV] END activation=relu, alpha=0.001, hidden_layer_sizes=(64, 32), learning_rate=constant, solver=sgd; total time=   0.3s\n",
      "[CV] END activation=relu, alpha=0.001, hidden_layer_sizes=(64, 32), learning_rate=constant, solver=sgd; total time=   0.3s\n"
     ]
    },
    {
     "name": "stderr",
     "output_type": "stream",
     "text": [
      "/Users/lucia/opt/anaconda3/lib/python3.9/site-packages/sklearn/neural_network/_multilayer_perceptron.py:686: ConvergenceWarning: Stochastic Optimizer: Maximum iterations (1000) reached and the optimization hasn't converged yet.\n",
      "  warnings.warn(\n",
      "/Users/lucia/opt/anaconda3/lib/python3.9/site-packages/sklearn/neural_network/_multilayer_perceptron.py:686: ConvergenceWarning: Stochastic Optimizer: Maximum iterations (1000) reached and the optimization hasn't converged yet.\n",
      "  warnings.warn(\n"
     ]
    },
    {
     "name": "stdout",
     "output_type": "stream",
     "text": [
      "[CV] END activation=relu, alpha=0.001, hidden_layer_sizes=(64, 32), learning_rate=constant, solver=adam; total time=   1.7s\n",
      "[CV] END activation=relu, alpha=0.001, hidden_layer_sizes=(64, 32), learning_rate=constant, solver=adam; total time=   1.7s\n"
     ]
    },
    {
     "name": "stderr",
     "output_type": "stream",
     "text": [
      "/Users/lucia/opt/anaconda3/lib/python3.9/site-packages/sklearn/neural_network/_multilayer_perceptron.py:686: ConvergenceWarning: Stochastic Optimizer: Maximum iterations (1000) reached and the optimization hasn't converged yet.\n",
      "  warnings.warn(\n"
     ]
    },
    {
     "name": "stdout",
     "output_type": "stream",
     "text": [
      "[CV] END activation=relu, alpha=0.001, hidden_layer_sizes=(64, 32), learning_rate=constant, solver=adam; total time=   1.8s\n"
     ]
    },
    {
     "name": "stderr",
     "output_type": "stream",
     "text": [
      "/Users/lucia/opt/anaconda3/lib/python3.9/site-packages/sklearn/neural_network/_multilayer_perceptron.py:686: ConvergenceWarning: Stochastic Optimizer: Maximum iterations (1000) reached and the optimization hasn't converged yet.\n",
      "  warnings.warn(\n",
      "/Users/lucia/opt/anaconda3/lib/python3.9/site-packages/sklearn/neural_network/_multilayer_perceptron.py:686: ConvergenceWarning: Stochastic Optimizer: Maximum iterations (1000) reached and the optimization hasn't converged yet.\n",
      "  warnings.warn(\n"
     ]
    },
    {
     "name": "stdout",
     "output_type": "stream",
     "text": [
      "[CV] END activation=relu, alpha=0.001, hidden_layer_sizes=(64, 32), learning_rate=constant, solver=adam; total time=   1.8s\n",
      "[CV] END activation=relu, alpha=0.001, hidden_layer_sizes=(64, 32), learning_rate=constant, solver=adam; total time=   1.9s\n",
      "[CV] END activation=relu, alpha=0.001, hidden_layer_sizes=(64, 32), learning_rate=adaptive, solver=sgd; total time=   0.4s\n",
      "[CV] END activation=relu, alpha=0.001, hidden_layer_sizes=(64, 32), learning_rate=adaptive, solver=sgd; total time=   0.4s\n",
      "[CV] END activation=relu, alpha=0.001, hidden_layer_sizes=(64, 32), learning_rate=adaptive, solver=adam; total time=   1.8s\n",
      "[CV] END activation=relu, alpha=0.001, hidden_layer_sizes=(64, 32), learning_rate=adaptive, solver=sgd; total time=   0.4s\n",
      "[CV] END activation=relu, alpha=0.001, hidden_layer_sizes=(64, 32), learning_rate=adaptive, solver=sgd; total time=   0.4s\n",
      "[CV] END activation=relu, alpha=0.001, hidden_layer_sizes=(64, 32), learning_rate=adaptive, solver=adam; total time=   1.8s\n"
     ]
    },
    {
     "name": "stderr",
     "output_type": "stream",
     "text": [
      "/Users/lucia/opt/anaconda3/lib/python3.9/site-packages/sklearn/neural_network/_multilayer_perceptron.py:686: ConvergenceWarning: Stochastic Optimizer: Maximum iterations (1000) reached and the optimization hasn't converged yet.\n",
      "  warnings.warn(\n",
      "/Users/lucia/opt/anaconda3/lib/python3.9/site-packages/sklearn/neural_network/_multilayer_perceptron.py:686: ConvergenceWarning: Stochastic Optimizer: Maximum iterations (1000) reached and the optimization hasn't converged yet.\n",
      "  warnings.warn(\n",
      "/Users/lucia/opt/anaconda3/lib/python3.9/site-packages/sklearn/neural_network/_multilayer_perceptron.py:686: ConvergenceWarning: Stochastic Optimizer: Maximum iterations (1000) reached and the optimization hasn't converged yet.\n",
      "  warnings.warn(\n"
     ]
    },
    {
     "name": "stdout",
     "output_type": "stream",
     "text": [
      "[CV] END activation=relu, alpha=0.001, hidden_layer_sizes=(64, 32), learning_rate=adaptive, solver=adam; total time=   1.9s\n",
      "[CV] END activation=relu, alpha=0.001, hidden_layer_sizes=(64, 32), learning_rate=adaptive, solver=sgd; total time=   0.4s\n"
     ]
    },
    {
     "name": "stderr",
     "output_type": "stream",
     "text": [
      "/Users/lucia/opt/anaconda3/lib/python3.9/site-packages/sklearn/neural_network/_multilayer_perceptron.py:686: ConvergenceWarning: Stochastic Optimizer: Maximum iterations (1000) reached and the optimization hasn't converged yet.\n",
      "  warnings.warn(\n",
      "/Users/lucia/opt/anaconda3/lib/python3.9/site-packages/sklearn/neural_network/_multilayer_perceptron.py:686: ConvergenceWarning: Stochastic Optimizer: Maximum iterations (1000) reached and the optimization hasn't converged yet.\n",
      "  warnings.warn(\n"
     ]
    },
    {
     "name": "stdout",
     "output_type": "stream",
     "text": [
      "[CV] END activation=relu, alpha=0.001, hidden_layer_sizes=(64, 32), learning_rate=adaptive, solver=adam; total time=   1.8s\n",
      "[CV] END activation=relu, alpha=0.001, hidden_layer_sizes=(128, 64), learning_rate=constant, solver=sgd; total time=   0.4s\n",
      "[CV] END activation=relu, alpha=0.001, hidden_layer_sizes=(64, 32), learning_rate=adaptive, solver=adam; total time=   1.8s\n",
      "[CV] END activation=relu, alpha=0.001, hidden_layer_sizes=(128, 64), learning_rate=constant, solver=sgd; total time=   0.4s\n",
      "[CV] END activation=relu, alpha=0.001, hidden_layer_sizes=(128, 64), learning_rate=constant, solver=sgd; total time=   0.5s\n",
      "[CV] END activation=relu, alpha=0.001, hidden_layer_sizes=(128, 64), learning_rate=constant, solver=sgd; total time=   0.6s\n",
      "[CV] END activation=relu, alpha=0.001, hidden_layer_sizes=(128, 64), learning_rate=constant, solver=sgd; total time=   0.5s\n",
      "[CV] END activation=relu, alpha=0.001, hidden_layer_sizes=(128, 64), learning_rate=constant, solver=adam; total time=   2.5s\n",
      "[CV] END activation=relu, alpha=0.001, hidden_layer_sizes=(128, 64), learning_rate=constant, solver=adam; total time=   2.9s\n",
      "[CV] END activation=relu, alpha=0.001, hidden_layer_sizes=(128, 64), learning_rate=constant, solver=adam; total time=   3.0s\n",
      "[CV] END activation=relu, alpha=0.001, hidden_layer_sizes=(128, 64), learning_rate=constant, solver=adam; total time=   3.0s\n",
      "[CV] END activation=relu, alpha=0.001, hidden_layer_sizes=(128, 64), learning_rate=constant, solver=adam; total time=   3.0s\n",
      "[CV] END activation=relu, alpha=0.001, hidden_layer_sizes=(128, 64), learning_rate=adaptive, solver=sgd; total time=   0.7s\n",
      "[CV] END activation=relu, alpha=0.001, hidden_layer_sizes=(128, 64), learning_rate=adaptive, solver=sgd; total time=   0.6s\n",
      "[CV] END activation=relu, alpha=0.001, hidden_layer_sizes=(128, 64), learning_rate=adaptive, solver=sgd; total time=   0.8s\n",
      "[CV] END activation=relu, alpha=0.001, hidden_layer_sizes=(128, 64), learning_rate=adaptive, solver=adam; total time=   2.3s\n",
      "[CV] END activation=relu, alpha=0.001, hidden_layer_sizes=(128, 64), learning_rate=adaptive, solver=adam; total time=   3.0s\n",
      "[CV] END activation=relu, alpha=0.001, hidden_layer_sizes=(128, 64), learning_rate=adaptive, solver=sgd; total time=   0.6s\n",
      "[CV] END activation=relu, alpha=0.001, hidden_layer_sizes=(128, 64), learning_rate=adaptive, solver=adam; total time=   3.2s\n",
      "[CV] END activation=relu, alpha=0.001, hidden_layer_sizes=(128, 64), learning_rate=adaptive, solver=sgd; total time=   0.8s\n",
      "[CV] END activation=relu, alpha=0.001, hidden_layer_sizes=(100, 50, 25), learning_rate=constant, solver=sgd; total time=   0.4s\n",
      "[CV] END activation=relu, alpha=0.001, hidden_layer_sizes=(100, 50, 25), learning_rate=constant, solver=sgd; total time=   0.4s\n",
      "[CV] END activation=relu, alpha=0.001, hidden_layer_sizes=(128, 64), learning_rate=adaptive, solver=adam; total time=   3.0s\n",
      "[CV] END activation=relu, alpha=0.001, hidden_layer_sizes=(100, 50, 25), learning_rate=constant, solver=sgd; total time=   0.3s\n",
      "[CV] END activation=relu, alpha=0.001, hidden_layer_sizes=(128, 64), learning_rate=adaptive, solver=adam; total time=   2.8s\n",
      "[CV] END activation=relu, alpha=0.001, hidden_layer_sizes=(100, 50, 25), learning_rate=constant, solver=adam; total time=   2.0s\n",
      "[CV] END activation=relu, alpha=0.001, hidden_layer_sizes=(100, 50, 25), learning_rate=constant, solver=sgd; total time=   0.4s\n",
      "[CV] END activation=relu, alpha=0.001, hidden_layer_sizes=(100, 50, 25), learning_rate=constant, solver=sgd; total time=   0.4s\n"
     ]
    },
    {
     "name": "stderr",
     "output_type": "stream",
     "text": [
      "[codecarbon INFO @ 01:24:54] Energy consumed for RAM : 0.000025 kWh. RAM Power : 3.0 W\n",
      "[codecarbon INFO @ 01:24:54] Energy consumed for all CPUs : 0.000042 kWh. Total CPU Power : 5.0 W\n",
      "[codecarbon INFO @ 01:24:54] 0.000067 kWh of electricity used since the beginning.\n"
     ]
    },
    {
     "name": "stdout",
     "output_type": "stream",
     "text": [
      "[CV] END activation=relu, alpha=0.001, hidden_layer_sizes=(100, 50, 25), learning_rate=constant, solver=adam; total time=   2.7s\n",
      "[CV] END activation=relu, alpha=0.001, hidden_layer_sizes=(100, 50, 25), learning_rate=constant, solver=adam; total time=   2.7s\n",
      "[CV] END activation=relu, alpha=0.001, hidden_layer_sizes=(100, 50, 25), learning_rate=constant, solver=adam; total time=   2.7s\n",
      "[CV] END activation=relu, alpha=0.001, hidden_layer_sizes=(100, 50, 25), learning_rate=constant, solver=adam; total time=   3.0s\n",
      "[CV] END activation=relu, alpha=0.001, hidden_layer_sizes=(100, 50, 25), learning_rate=adaptive, solver=sgd; total time=   0.5s\n",
      "[CV] END activation=relu, alpha=0.001, hidden_layer_sizes=(100, 50, 25), learning_rate=adaptive, solver=sgd; total time=   0.6s\n",
      "[CV] END activation=relu, alpha=0.001, hidden_layer_sizes=(100, 50, 25), learning_rate=adaptive, solver=adam; total time=   2.0s\n",
      "[CV] END activation=relu, alpha=0.001, hidden_layer_sizes=(100, 50, 25), learning_rate=adaptive, solver=sgd; total time=   0.5s\n",
      "[CV] END activation=relu, alpha=0.001, hidden_layer_sizes=(100, 50, 25), learning_rate=adaptive, solver=sgd; total time=   0.5s\n",
      "[CV] END activation=relu, alpha=0.001, hidden_layer_sizes=(100, 50, 25), learning_rate=adaptive, solver=sgd; total time=   0.6s\n",
      "[CV] END activation=relu, alpha=0.001, hidden_layer_sizes=(100, 50, 25), learning_rate=adaptive, solver=adam; total time=   2.7s\n",
      "[CV] END activation=relu, alpha=0.001, hidden_layer_sizes=(100, 50, 25), learning_rate=adaptive, solver=adam; total time=   2.7s\n",
      "[CV] END activation=relu, alpha=0.001, hidden_layer_sizes=(100, 50, 25), learning_rate=adaptive, solver=adam; total time=   2.7s\n",
      "[CV] END activation=relu, alpha=0.01, hidden_layer_sizes=(64,), learning_rate=constant, solver=sgd; total time=   0.1s\n"
     ]
    },
    {
     "name": "stderr",
     "output_type": "stream",
     "text": [
      "/Users/lucia/opt/anaconda3/lib/python3.9/site-packages/sklearn/neural_network/_multilayer_perceptron.py:686: ConvergenceWarning: Stochastic Optimizer: Maximum iterations (1000) reached and the optimization hasn't converged yet.\n",
      "  warnings.warn(\n"
     ]
    },
    {
     "name": "stdout",
     "output_type": "stream",
     "text": [
      "[CV] END activation=relu, alpha=0.01, hidden_layer_sizes=(64,), learning_rate=constant, solver=adam; total time=   1.1s\n",
      "[CV] END activation=relu, alpha=0.01, hidden_layer_sizes=(64,), learning_rate=constant, solver=sgd; total time=   0.1s\n",
      "[CV] END activation=relu, alpha=0.01, hidden_layer_sizes=(64,), learning_rate=constant, solver=sgd; total time=   0.2s\n",
      "[CV] END activation=relu, alpha=0.01, hidden_layer_sizes=(64,), learning_rate=constant, solver=sgd; total time=   0.2s\n",
      "[CV] END activation=relu, alpha=0.01, hidden_layer_sizes=(64,), learning_rate=constant, solver=sgd; total time=   0.1s\n",
      "[CV] END activation=relu, alpha=0.01, hidden_layer_sizes=(64,), learning_rate=constant, solver=adam; total time=   1.1s\n"
     ]
    },
    {
     "name": "stderr",
     "output_type": "stream",
     "text": [
      "/Users/lucia/opt/anaconda3/lib/python3.9/site-packages/sklearn/neural_network/_multilayer_perceptron.py:686: ConvergenceWarning: Stochastic Optimizer: Maximum iterations (1000) reached and the optimization hasn't converged yet.\n",
      "  warnings.warn(\n",
      "/Users/lucia/opt/anaconda3/lib/python3.9/site-packages/sklearn/neural_network/_multilayer_perceptron.py:686: ConvergenceWarning: Stochastic Optimizer: Maximum iterations (1000) reached and the optimization hasn't converged yet.\n",
      "  warnings.warn(\n",
      "/Users/lucia/opt/anaconda3/lib/python3.9/site-packages/sklearn/neural_network/_multilayer_perceptron.py:686: ConvergenceWarning: Stochastic Optimizer: Maximum iterations (1000) reached and the optimization hasn't converged yet.\n",
      "  warnings.warn(\n"
     ]
    },
    {
     "name": "stdout",
     "output_type": "stream",
     "text": [
      "[CV] END activation=relu, alpha=0.01, hidden_layer_sizes=(64,), learning_rate=constant, solver=adam; total time=   1.2s\n",
      "[CV] END activation=relu, alpha=0.01, hidden_layer_sizes=(64,), learning_rate=constant, solver=adam; total time=   1.2s\n",
      "[CV] END activation=relu, alpha=0.01, hidden_layer_sizes=(64,), learning_rate=adaptive, solver=sgd; total time=   0.2s\n",
      "[CV] END activation=relu, alpha=0.001, hidden_layer_sizes=(100, 50, 25), learning_rate=adaptive, solver=adam; total time=   3.0s\n",
      "[CV] END activation=relu, alpha=0.01, hidden_layer_sizes=(64,), learning_rate=adaptive, solver=sgd; total time=   0.2s\n",
      "[CV] END activation=relu, alpha=0.01, hidden_layer_sizes=(64,), learning_rate=constant, solver=adam; total time=   1.2s\n",
      "[CV] END activation=relu, alpha=0.01, hidden_layer_sizes=(64,), learning_rate=adaptive, solver=sgd; total time=   0.2s\n"
     ]
    },
    {
     "name": "stderr",
     "output_type": "stream",
     "text": [
      "/Users/lucia/opt/anaconda3/lib/python3.9/site-packages/sklearn/neural_network/_multilayer_perceptron.py:686: ConvergenceWarning: Stochastic Optimizer: Maximum iterations (1000) reached and the optimization hasn't converged yet.\n",
      "  warnings.warn(\n"
     ]
    },
    {
     "name": "stdout",
     "output_type": "stream",
     "text": [
      "[CV] END activation=relu, alpha=0.01, hidden_layer_sizes=(64,), learning_rate=adaptive, solver=sgd; total time=   0.2s\n",
      "[CV] END activation=relu, alpha=0.01, hidden_layer_sizes=(64,), learning_rate=adaptive, solver=sgd; total time=   0.2s\n"
     ]
    },
    {
     "name": "stderr",
     "output_type": "stream",
     "text": [
      "/Users/lucia/opt/anaconda3/lib/python3.9/site-packages/sklearn/neural_network/_multilayer_perceptron.py:686: ConvergenceWarning: Stochastic Optimizer: Maximum iterations (1000) reached and the optimization hasn't converged yet.\n",
      "  warnings.warn(\n",
      "/Users/lucia/opt/anaconda3/lib/python3.9/site-packages/sklearn/neural_network/_multilayer_perceptron.py:686: ConvergenceWarning: Stochastic Optimizer: Maximum iterations (1000) reached and the optimization hasn't converged yet.\n",
      "  warnings.warn(\n",
      "/Users/lucia/opt/anaconda3/lib/python3.9/site-packages/sklearn/neural_network/_multilayer_perceptron.py:686: ConvergenceWarning: Stochastic Optimizer: Maximum iterations (1000) reached and the optimization hasn't converged yet.\n",
      "  warnings.warn(\n",
      "/Users/lucia/opt/anaconda3/lib/python3.9/site-packages/sklearn/neural_network/_multilayer_perceptron.py:686: ConvergenceWarning: Stochastic Optimizer: Maximum iterations (1000) reached and the optimization hasn't converged yet.\n",
      "  warnings.warn(\n"
     ]
    },
    {
     "name": "stdout",
     "output_type": "stream",
     "text": [
      "[CV] END activation=relu, alpha=0.01, hidden_layer_sizes=(64,), learning_rate=adaptive, solver=adam; total time=   1.2s\n",
      "[CV] END activation=relu, alpha=0.01, hidden_layer_sizes=(64,), learning_rate=adaptive, solver=adam; total time=   1.1s\n",
      "[CV] END activation=relu, alpha=0.01, hidden_layer_sizes=(64,), learning_rate=adaptive, solver=adam; total time=   1.3s\n",
      "[CV] END activation=relu, alpha=0.01, hidden_layer_sizes=(64,), learning_rate=adaptive, solver=adam; total time=   1.2s\n"
     ]
    },
    {
     "name": "stderr",
     "output_type": "stream",
     "text": [
      "/Users/lucia/opt/anaconda3/lib/python3.9/site-packages/sklearn/neural_network/_multilayer_perceptron.py:686: ConvergenceWarning: Stochastic Optimizer: Maximum iterations (1000) reached and the optimization hasn't converged yet.\n",
      "  warnings.warn(\n"
     ]
    },
    {
     "name": "stdout",
     "output_type": "stream",
     "text": [
      "[CV] END activation=relu, alpha=0.01, hidden_layer_sizes=(64,), learning_rate=adaptive, solver=adam; total time=   1.2s\n",
      "[CV] END activation=relu, alpha=0.01, hidden_layer_sizes=(64, 32), learning_rate=constant, solver=sgd; total time=   0.3s\n",
      "[CV] END activation=relu, alpha=0.01, hidden_layer_sizes=(64, 32), learning_rate=constant, solver=sgd; total time=   0.3s\n",
      "[CV] END activation=relu, alpha=0.01, hidden_layer_sizes=(64, 32), learning_rate=constant, solver=sgd; total time=   0.3s\n",
      "[CV] END activation=relu, alpha=0.01, hidden_layer_sizes=(64, 32), learning_rate=constant, solver=sgd; total time=   0.3s\n",
      "[CV] END activation=relu, alpha=0.01, hidden_layer_sizes=(64, 32), learning_rate=constant, solver=sgd; total time=   0.3s\n"
     ]
    },
    {
     "name": "stderr",
     "output_type": "stream",
     "text": [
      "/Users/lucia/opt/anaconda3/lib/python3.9/site-packages/sklearn/neural_network/_multilayer_perceptron.py:686: ConvergenceWarning: Stochastic Optimizer: Maximum iterations (1000) reached and the optimization hasn't converged yet.\n",
      "  warnings.warn(\n",
      "/Users/lucia/opt/anaconda3/lib/python3.9/site-packages/sklearn/neural_network/_multilayer_perceptron.py:686: ConvergenceWarning: Stochastic Optimizer: Maximum iterations (1000) reached and the optimization hasn't converged yet.\n",
      "  warnings.warn(\n",
      "/Users/lucia/opt/anaconda3/lib/python3.9/site-packages/sklearn/neural_network/_multilayer_perceptron.py:686: ConvergenceWarning: Stochastic Optimizer: Maximum iterations (1000) reached and the optimization hasn't converged yet.\n",
      "  warnings.warn(\n",
      "/Users/lucia/opt/anaconda3/lib/python3.9/site-packages/sklearn/neural_network/_multilayer_perceptron.py:686: ConvergenceWarning: Stochastic Optimizer: Maximum iterations (1000) reached and the optimization hasn't converged yet.\n",
      "  warnings.warn(\n"
     ]
    },
    {
     "name": "stdout",
     "output_type": "stream",
     "text": [
      "[CV] END activation=relu, alpha=0.01, hidden_layer_sizes=(64, 32), learning_rate=constant, solver=adam; total time=   1.8s\n",
      "[CV] END activation=relu, alpha=0.01, hidden_layer_sizes=(64, 32), learning_rate=constant, solver=adam; total time=   1.7s\n",
      "[CV] END activation=relu, alpha=0.01, hidden_layer_sizes=(64, 32), learning_rate=constant, solver=adam; total time=   1.8s\n",
      "[CV] END activation=relu, alpha=0.01, hidden_layer_sizes=(64, 32), learning_rate=constant, solver=adam; total time=   2.0s\n"
     ]
    },
    {
     "name": "stderr",
     "output_type": "stream",
     "text": [
      "/Users/lucia/opt/anaconda3/lib/python3.9/site-packages/sklearn/neural_network/_multilayer_perceptron.py:686: ConvergenceWarning: Stochastic Optimizer: Maximum iterations (1000) reached and the optimization hasn't converged yet.\n",
      "  warnings.warn(\n"
     ]
    },
    {
     "name": "stdout",
     "output_type": "stream",
     "text": [
      "[CV] END activation=relu, alpha=0.01, hidden_layer_sizes=(64, 32), learning_rate=constant, solver=adam; total time=   1.8s\n",
      "[CV] END activation=relu, alpha=0.01, hidden_layer_sizes=(64, 32), learning_rate=adaptive, solver=sgd; total time=   0.4s\n",
      "[CV] END activation=relu, alpha=0.01, hidden_layer_sizes=(64, 32), learning_rate=adaptive, solver=sgd; total time=   0.4s\n",
      "[CV] END activation=relu, alpha=0.01, hidden_layer_sizes=(64, 32), learning_rate=adaptive, solver=sgd; total time=   0.4s\n"
     ]
    },
    {
     "name": "stderr",
     "output_type": "stream",
     "text": [
      "/Users/lucia/opt/anaconda3/lib/python3.9/site-packages/sklearn/neural_network/_multilayer_perceptron.py:686: ConvergenceWarning: Stochastic Optimizer: Maximum iterations (1000) reached and the optimization hasn't converged yet.\n",
      "  warnings.warn(\n",
      "/Users/lucia/opt/anaconda3/lib/python3.9/site-packages/sklearn/neural_network/_multilayer_perceptron.py:686: ConvergenceWarning: Stochastic Optimizer: Maximum iterations (1000) reached and the optimization hasn't converged yet.\n",
      "  warnings.warn(\n",
      "/Users/lucia/opt/anaconda3/lib/python3.9/site-packages/sklearn/neural_network/_multilayer_perceptron.py:686: ConvergenceWarning: Stochastic Optimizer: Maximum iterations (1000) reached and the optimization hasn't converged yet.\n",
      "  warnings.warn(\n"
     ]
    },
    {
     "name": "stdout",
     "output_type": "stream",
     "text": [
      "[CV] END activation=relu, alpha=0.01, hidden_layer_sizes=(64, 32), learning_rate=adaptive, solver=adam; total time=   1.7s\n",
      "[CV] END activation=relu, alpha=0.01, hidden_layer_sizes=(64, 32), learning_rate=adaptive, solver=adam; total time=   1.8s\n",
      "[CV] END activation=relu, alpha=0.01, hidden_layer_sizes=(64, 32), learning_rate=adaptive, solver=adam; total time=   1.9s\n",
      "[CV] END activation=relu, alpha=0.01, hidden_layer_sizes=(64, 32), learning_rate=adaptive, solver=sgd; total time=   0.4s\n",
      "[CV] END activation=relu, alpha=0.01, hidden_layer_sizes=(64, 32), learning_rate=adaptive, solver=sgd; total time=   0.4s\n",
      "[CV] END activation=relu, alpha=0.01, hidden_layer_sizes=(128, 64), learning_rate=constant, solver=sgd; total time=   0.5s\n"
     ]
    },
    {
     "name": "stderr",
     "output_type": "stream",
     "text": [
      "/Users/lucia/opt/anaconda3/lib/python3.9/site-packages/sklearn/neural_network/_multilayer_perceptron.py:686: ConvergenceWarning: Stochastic Optimizer: Maximum iterations (1000) reached and the optimization hasn't converged yet.\n",
      "  warnings.warn(\n",
      "/Users/lucia/opt/anaconda3/lib/python3.9/site-packages/sklearn/neural_network/_multilayer_perceptron.py:686: ConvergenceWarning: Stochastic Optimizer: Maximum iterations (1000) reached and the optimization hasn't converged yet.\n",
      "  warnings.warn(\n"
     ]
    },
    {
     "name": "stdout",
     "output_type": "stream",
     "text": [
      "[CV] END activation=relu, alpha=0.01, hidden_layer_sizes=(64, 32), learning_rate=adaptive, solver=adam; total time=   1.8s\n",
      "[CV] END activation=relu, alpha=0.01, hidden_layer_sizes=(64, 32), learning_rate=adaptive, solver=adam; total time=   1.7s\n",
      "[CV] END activation=relu, alpha=0.01, hidden_layer_sizes=(128, 64), learning_rate=constant, solver=sgd; total time=   0.6s\n",
      "[CV] END activation=relu, alpha=0.01, hidden_layer_sizes=(128, 64), learning_rate=constant, solver=sgd; total time=   0.5s\n",
      "[CV] END activation=relu, alpha=0.01, hidden_layer_sizes=(128, 64), learning_rate=constant, solver=sgd; total time=   0.5s\n",
      "[CV] END activation=relu, alpha=0.01, hidden_layer_sizes=(128, 64), learning_rate=constant, solver=sgd; total time=   0.6s\n",
      "[CV] END activation=relu, alpha=0.01, hidden_layer_sizes=(128, 64), learning_rate=constant, solver=adam; total time=   2.6s\n",
      "[CV] END activation=relu, alpha=0.01, hidden_layer_sizes=(128, 64), learning_rate=constant, solver=adam; total time=   2.9s\n",
      "[CV] END activation=relu, alpha=0.01, hidden_layer_sizes=(128, 64), learning_rate=constant, solver=adam; total time=   3.0s\n",
      "[CV] END activation=relu, alpha=0.01, hidden_layer_sizes=(128, 64), learning_rate=constant, solver=adam; total time=   3.0s\n",
      "[CV] END activation=relu, alpha=0.01, hidden_layer_sizes=(128, 64), learning_rate=constant, solver=adam; total time=   3.1s\n",
      "[CV] END activation=relu, alpha=0.01, hidden_layer_sizes=(128, 64), learning_rate=adaptive, solver=sgd; total time=   0.6s\n",
      "[CV] END activation=relu, alpha=0.01, hidden_layer_sizes=(128, 64), learning_rate=adaptive, solver=sgd; total time=   0.7s\n",
      "[CV] END activation=relu, alpha=0.01, hidden_layer_sizes=(128, 64), learning_rate=adaptive, solver=sgd; total time=   0.7s\n",
      "[CV] END activation=relu, alpha=0.01, hidden_layer_sizes=(128, 64), learning_rate=adaptive, solver=sgd; total time=   0.6s\n",
      "[CV] END activation=relu, alpha=0.01, hidden_layer_sizes=(128, 64), learning_rate=adaptive, solver=adam; total time=   3.0s\n",
      "[CV] END activation=relu, alpha=0.01, hidden_layer_sizes=(128, 64), learning_rate=adaptive, solver=sgd; total time=   0.7s\n",
      "[CV] END activation=relu, alpha=0.01, hidden_layer_sizes=(128, 64), learning_rate=adaptive, solver=adam; total time=   3.1s\n",
      "[CV] END activation=relu, alpha=0.01, hidden_layer_sizes=(128, 64), learning_rate=adaptive, solver=adam; total time=   2.7s\n",
      "[CV] END activation=relu, alpha=0.01, hidden_layer_sizes=(100, 50, 25), learning_rate=constant, solver=sgd; total time=   0.4s\n",
      "[CV] END activation=relu, alpha=0.01, hidden_layer_sizes=(100, 50, 25), learning_rate=constant, solver=sgd; total time=   0.4s\n",
      "[CV] END activation=relu, alpha=0.01, hidden_layer_sizes=(128, 64), learning_rate=adaptive, solver=adam; total time=   2.9s\n",
      "[CV] END activation=relu, alpha=0.01, hidden_layer_sizes=(100, 50, 25), learning_rate=constant, solver=sgd; total time=   0.4s\n",
      "[CV] END activation=relu, alpha=0.01, hidden_layer_sizes=(128, 64), learning_rate=adaptive, solver=adam; total time=   3.3s\n",
      "[CV] END activation=relu, alpha=0.01, hidden_layer_sizes=(100, 50, 25), learning_rate=constant, solver=sgd; total time=   0.4s\n",
      "[CV] END activation=relu, alpha=0.01, hidden_layer_sizes=(100, 50, 25), learning_rate=constant, solver=sgd; total time=   0.4s\n",
      "[CV] END activation=relu, alpha=0.01, hidden_layer_sizes=(100, 50, 25), learning_rate=constant, solver=adam; total time=   2.4s\n",
      "[CV] END activation=relu, alpha=0.01, hidden_layer_sizes=(100, 50, 25), learning_rate=constant, solver=adam; total time=   2.8s\n",
      "[CV] END activation=relu, alpha=0.01, hidden_layer_sizes=(100, 50, 25), learning_rate=constant, solver=adam; total time=   2.6s\n",
      "[CV] END activation=relu, alpha=0.01, hidden_layer_sizes=(100, 50, 25), learning_rate=constant, solver=adam; total time=   2.7s\n",
      "[CV] END activation=relu, alpha=0.01, hidden_layer_sizes=(100, 50, 25), learning_rate=constant, solver=adam; total time=   2.8s\n",
      "[CV] END activation=relu, alpha=0.01, hidden_layer_sizes=(100, 50, 25), learning_rate=adaptive, solver=sgd; total time=   0.6s\n",
      "[CV] END activation=relu, alpha=0.01, hidden_layer_sizes=(100, 50, 25), learning_rate=adaptive, solver=sgd; total time=   0.5s\n",
      "[CV] END activation=relu, alpha=0.01, hidden_layer_sizes=(100, 50, 25), learning_rate=adaptive, solver=sgd; total time=   0.6s\n",
      "[CV] END activation=relu, alpha=0.01, hidden_layer_sizes=(100, 50, 25), learning_rate=adaptive, solver=sgd; total time=   0.5s\n",
      "[CV] END activation=relu, alpha=0.01, hidden_layer_sizes=(100, 50, 25), learning_rate=adaptive, solver=adam; total time=   2.4s\n",
      "[CV] END activation=relu, alpha=0.01, hidden_layer_sizes=(100, 50, 25), learning_rate=adaptive, solver=sgd; total time=   0.5s\n",
      "[CV] END activation=relu, alpha=0.01, hidden_layer_sizes=(100, 50, 25), learning_rate=adaptive, solver=adam; total time=   2.4s\n"
     ]
    },
    {
     "name": "stderr",
     "output_type": "stream",
     "text": [
      "[codecarbon INFO @ 01:25:09] Energy consumed for RAM : 0.000037 kWh. RAM Power : 3.0 W\n",
      "[codecarbon INFO @ 01:25:09] Energy consumed for all CPUs : 0.000062 kWh. Total CPU Power : 5.0 W\n",
      "[codecarbon INFO @ 01:25:09] 0.000100 kWh of electricity used since the beginning.\n"
     ]
    },
    {
     "name": "stdout",
     "output_type": "stream",
     "text": [
      "[CV] END activation=relu, alpha=0.01, hidden_layer_sizes=(100, 50, 25), learning_rate=adaptive, solver=adam; total time=   2.8s\n",
      "[CV] END activation=tanh, alpha=0.0001, hidden_layer_sizes=(64,), learning_rate=constant, solver=sgd; total time=   0.2s\n",
      "[CV] END activation=tanh, alpha=0.0001, hidden_layer_sizes=(64,), learning_rate=constant, solver=sgd; total time=   0.2s\n",
      "[CV] END activation=tanh, alpha=0.0001, hidden_layer_sizes=(64,), learning_rate=constant, solver=adam; total time=   1.3s\n",
      "[CV] END activation=relu, alpha=0.01, hidden_layer_sizes=(100, 50, 25), learning_rate=adaptive, solver=adam; total time=   2.9s\n",
      "[CV] END activation=tanh, alpha=0.0001, hidden_layer_sizes=(64,), learning_rate=constant, solver=sgd; total time=   0.1s\n"
     ]
    },
    {
     "name": "stderr",
     "output_type": "stream",
     "text": [
      "/Users/lucia/opt/anaconda3/lib/python3.9/site-packages/sklearn/neural_network/_multilayer_perceptron.py:686: ConvergenceWarning: Stochastic Optimizer: Maximum iterations (1000) reached and the optimization hasn't converged yet.\n",
      "  warnings.warn(\n"
     ]
    },
    {
     "name": "stdout",
     "output_type": "stream",
     "text": [
      "[CV] END activation=tanh, alpha=0.0001, hidden_layer_sizes=(64,), learning_rate=constant, solver=sgd; total time=   0.2s\n",
      "[CV] END activation=tanh, alpha=0.0001, hidden_layer_sizes=(64,), learning_rate=constant, solver=sgd; total time=   0.2s\n",
      "[CV] END activation=tanh, alpha=0.0001, hidden_layer_sizes=(64,), learning_rate=constant, solver=adam; total time=   1.3s\n"
     ]
    },
    {
     "name": "stderr",
     "output_type": "stream",
     "text": [
      "/Users/lucia/opt/anaconda3/lib/python3.9/site-packages/sklearn/neural_network/_multilayer_perceptron.py:686: ConvergenceWarning: Stochastic Optimizer: Maximum iterations (1000) reached and the optimization hasn't converged yet.\n",
      "  warnings.warn(\n",
      "/Users/lucia/opt/anaconda3/lib/python3.9/site-packages/sklearn/neural_network/_multilayer_perceptron.py:686: ConvergenceWarning: Stochastic Optimizer: Maximum iterations (1000) reached and the optimization hasn't converged yet.\n",
      "  warnings.warn(\n",
      "/Users/lucia/opt/anaconda3/lib/python3.9/site-packages/sklearn/neural_network/_multilayer_perceptron.py:686: ConvergenceWarning: Stochastic Optimizer: Maximum iterations (1000) reached and the optimization hasn't converged yet.\n",
      "  warnings.warn(\n"
     ]
    },
    {
     "name": "stdout",
     "output_type": "stream",
     "text": [
      "[CV] END activation=tanh, alpha=0.0001, hidden_layer_sizes=(64,), learning_rate=constant, solver=adam; total time=   1.3s\n",
      "[CV] END activation=tanh, alpha=0.0001, hidden_layer_sizes=(64,), learning_rate=constant, solver=adam; total time=   1.3s\n",
      "[CV] END activation=relu, alpha=0.01, hidden_layer_sizes=(100, 50, 25), learning_rate=adaptive, solver=adam; total time=   2.7s\n",
      "[CV] END activation=tanh, alpha=0.0001, hidden_layer_sizes=(64,), learning_rate=adaptive, solver=sgd; total time=   0.2s\n",
      "[CV] END activation=tanh, alpha=0.0001, hidden_layer_sizes=(64,), learning_rate=constant, solver=adam; total time=   1.4s\n",
      "[CV] END activation=tanh, alpha=0.0001, hidden_layer_sizes=(64,), learning_rate=adaptive, solver=sgd; total time=   0.2s\n"
     ]
    },
    {
     "name": "stderr",
     "output_type": "stream",
     "text": [
      "/Users/lucia/opt/anaconda3/lib/python3.9/site-packages/sklearn/neural_network/_multilayer_perceptron.py:686: ConvergenceWarning: Stochastic Optimizer: Maximum iterations (1000) reached and the optimization hasn't converged yet.\n",
      "  warnings.warn(\n"
     ]
    },
    {
     "name": "stdout",
     "output_type": "stream",
     "text": [
      "[CV] END activation=tanh, alpha=0.0001, hidden_layer_sizes=(64,), learning_rate=adaptive, solver=sgd; total time=   0.2s\n",
      "[CV] END activation=tanh, alpha=0.0001, hidden_layer_sizes=(64,), learning_rate=adaptive, solver=sgd; total time=   0.2s\n",
      "[CV] END activation=tanh, alpha=0.0001, hidden_layer_sizes=(64,), learning_rate=adaptive, solver=sgd; total time=   0.2s\n"
     ]
    },
    {
     "name": "stderr",
     "output_type": "stream",
     "text": [
      "/Users/lucia/opt/anaconda3/lib/python3.9/site-packages/sklearn/neural_network/_multilayer_perceptron.py:686: ConvergenceWarning: Stochastic Optimizer: Maximum iterations (1000) reached and the optimization hasn't converged yet.\n",
      "  warnings.warn(\n",
      "/Users/lucia/opt/anaconda3/lib/python3.9/site-packages/sklearn/neural_network/_multilayer_perceptron.py:686: ConvergenceWarning: Stochastic Optimizer: Maximum iterations (1000) reached and the optimization hasn't converged yet.\n",
      "  warnings.warn(\n"
     ]
    },
    {
     "name": "stdout",
     "output_type": "stream",
     "text": [
      "[CV] END activation=tanh, alpha=0.0001, hidden_layer_sizes=(64,), learning_rate=adaptive, solver=adam; total time=   1.3s\n",
      "[CV] END activation=tanh, alpha=0.0001, hidden_layer_sizes=(64,), learning_rate=adaptive, solver=adam; total time=   1.4s\n"
     ]
    },
    {
     "name": "stderr",
     "output_type": "stream",
     "text": [
      "/Users/lucia/opt/anaconda3/lib/python3.9/site-packages/sklearn/neural_network/_multilayer_perceptron.py:686: ConvergenceWarning: Stochastic Optimizer: Maximum iterations (1000) reached and the optimization hasn't converged yet.\n",
      "  warnings.warn(\n",
      "/Users/lucia/opt/anaconda3/lib/python3.9/site-packages/sklearn/neural_network/_multilayer_perceptron.py:686: ConvergenceWarning: Stochastic Optimizer: Maximum iterations (1000) reached and the optimization hasn't converged yet.\n",
      "  warnings.warn(\n",
      "/Users/lucia/opt/anaconda3/lib/python3.9/site-packages/sklearn/neural_network/_multilayer_perceptron.py:686: ConvergenceWarning: Stochastic Optimizer: Maximum iterations (1000) reached and the optimization hasn't converged yet.\n",
      "  warnings.warn(\n"
     ]
    },
    {
     "name": "stdout",
     "output_type": "stream",
     "text": [
      "[CV] END activation=tanh, alpha=0.0001, hidden_layer_sizes=(64,), learning_rate=adaptive, solver=adam; total time=   1.4s\n",
      "[CV] END activation=tanh, alpha=0.0001, hidden_layer_sizes=(64,), learning_rate=adaptive, solver=adam; total time=   1.4s\n",
      "[CV] END activation=tanh, alpha=0.0001, hidden_layer_sizes=(64,), learning_rate=adaptive, solver=adam; total time=   1.3s\n",
      "[CV] END activation=tanh, alpha=0.0001, hidden_layer_sizes=(64, 32), learning_rate=constant, solver=sgd; total time=   0.4s\n",
      "[CV] END activation=tanh, alpha=0.0001, hidden_layer_sizes=(64, 32), learning_rate=constant, solver=sgd; total time=   0.3s\n",
      "[CV] END activation=tanh, alpha=0.0001, hidden_layer_sizes=(64, 32), learning_rate=constant, solver=sgd; total time=   0.3s\n",
      "[CV] END activation=tanh, alpha=0.0001, hidden_layer_sizes=(64, 32), learning_rate=constant, solver=sgd; total time=   0.3s\n",
      "[CV] END activation=tanh, alpha=0.0001, hidden_layer_sizes=(64, 32), learning_rate=constant, solver=sgd; total time=   0.5s\n"
     ]
    },
    {
     "name": "stderr",
     "output_type": "stream",
     "text": [
      "/Users/lucia/opt/anaconda3/lib/python3.9/site-packages/sklearn/neural_network/_multilayer_perceptron.py:686: ConvergenceWarning: Stochastic Optimizer: Maximum iterations (1000) reached and the optimization hasn't converged yet.\n",
      "  warnings.warn(\n",
      "/Users/lucia/opt/anaconda3/lib/python3.9/site-packages/sklearn/neural_network/_multilayer_perceptron.py:686: ConvergenceWarning: Stochastic Optimizer: Maximum iterations (1000) reached and the optimization hasn't converged yet.\n",
      "  warnings.warn(\n"
     ]
    },
    {
     "name": "stdout",
     "output_type": "stream",
     "text": [
      "[CV] END activation=tanh, alpha=0.0001, hidden_layer_sizes=(64, 32), learning_rate=constant, solver=adam; total time=   2.0s\n",
      "[CV] END activation=tanh, alpha=0.0001, hidden_layer_sizes=(64, 32), learning_rate=constant, solver=adam; total time=   2.1s\n"
     ]
    },
    {
     "name": "stderr",
     "output_type": "stream",
     "text": [
      "/Users/lucia/opt/anaconda3/lib/python3.9/site-packages/sklearn/neural_network/_multilayer_perceptron.py:686: ConvergenceWarning: Stochastic Optimizer: Maximum iterations (1000) reached and the optimization hasn't converged yet.\n",
      "  warnings.warn(\n"
     ]
    },
    {
     "name": "stdout",
     "output_type": "stream",
     "text": [
      "[CV] END activation=tanh, alpha=0.0001, hidden_layer_sizes=(64, 32), learning_rate=constant, solver=adam; total time=   2.1s\n"
     ]
    },
    {
     "name": "stderr",
     "output_type": "stream",
     "text": [
      "/Users/lucia/opt/anaconda3/lib/python3.9/site-packages/sklearn/neural_network/_multilayer_perceptron.py:686: ConvergenceWarning: Stochastic Optimizer: Maximum iterations (1000) reached and the optimization hasn't converged yet.\n",
      "  warnings.warn(\n",
      "/Users/lucia/opt/anaconda3/lib/python3.9/site-packages/sklearn/neural_network/_multilayer_perceptron.py:686: ConvergenceWarning: Stochastic Optimizer: Maximum iterations (1000) reached and the optimization hasn't converged yet.\n",
      "  warnings.warn(\n"
     ]
    },
    {
     "name": "stdout",
     "output_type": "stream",
     "text": [
      "[CV] END activation=tanh, alpha=0.0001, hidden_layer_sizes=(64, 32), learning_rate=constant, solver=adam; total time=   2.2s\n",
      "[CV] END activation=tanh, alpha=0.0001, hidden_layer_sizes=(64, 32), learning_rate=adaptive, solver=sgd; total time=   0.5s\n",
      "[CV] END activation=tanh, alpha=0.0001, hidden_layer_sizes=(64, 32), learning_rate=constant, solver=adam; total time=   2.1s\n",
      "[CV] END activation=tanh, alpha=0.0001, hidden_layer_sizes=(64, 32), learning_rate=adaptive, solver=sgd; total time=   0.5s\n",
      "[CV] END activation=tanh, alpha=0.0001, hidden_layer_sizes=(64, 32), learning_rate=adaptive, solver=sgd; total time=   0.4s\n",
      "[CV] END activation=tanh, alpha=0.0001, hidden_layer_sizes=(64, 32), learning_rate=adaptive, solver=adam; total time=   2.1s\n"
     ]
    },
    {
     "name": "stderr",
     "output_type": "stream",
     "text": [
      "/Users/lucia/opt/anaconda3/lib/python3.9/site-packages/sklearn/neural_network/_multilayer_perceptron.py:686: ConvergenceWarning: Stochastic Optimizer: Maximum iterations (1000) reached and the optimization hasn't converged yet.\n",
      "  warnings.warn(\n",
      "/Users/lucia/opt/anaconda3/lib/python3.9/site-packages/sklearn/neural_network/_multilayer_perceptron.py:686: ConvergenceWarning: Stochastic Optimizer: Maximum iterations (1000) reached and the optimization hasn't converged yet.\n",
      "  warnings.warn(\n"
     ]
    },
    {
     "name": "stdout",
     "output_type": "stream",
     "text": [
      "[CV] END activation=tanh, alpha=0.0001, hidden_layer_sizes=(64, 32), learning_rate=adaptive, solver=sgd; total time=   0.6s\n",
      "[CV] END activation=tanh, alpha=0.0001, hidden_layer_sizes=(64, 32), learning_rate=adaptive, solver=adam; total time=   2.0s\n",
      "[CV] END activation=tanh, alpha=0.0001, hidden_layer_sizes=(64, 32), learning_rate=adaptive, solver=sgd; total time=   0.4s\n",
      "[CV] END activation=tanh, alpha=0.0001, hidden_layer_sizes=(128, 64), learning_rate=constant, solver=adam; total time=   0.1s\n",
      "[CV] END activation=tanh, alpha=0.0001, hidden_layer_sizes=(64, 32), learning_rate=adaptive, solver=adam; total time=   2.1s\n",
      "[CV] END activation=tanh, alpha=0.0001, hidden_layer_sizes=(128, 64), learning_rate=constant, solver=sgd; total time=   0.1s\n",
      "[CV] END activation=tanh, alpha=0.0001, hidden_layer_sizes=(128, 64), learning_rate=constant, solver=sgd; total time=   0.1s\n"
     ]
    },
    {
     "name": "stderr",
     "output_type": "stream",
     "text": [
      "/Users/lucia/opt/anaconda3/lib/python3.9/site-packages/sklearn/neural_network/_multilayer_perceptron.py:686: ConvergenceWarning: Stochastic Optimizer: Maximum iterations (1000) reached and the optimization hasn't converged yet.\n",
      "  warnings.warn(\n"
     ]
    },
    {
     "name": "stdout",
     "output_type": "stream",
     "text": [
      "[CV] END activation=tanh, alpha=0.0001, hidden_layer_sizes=(128, 64), learning_rate=constant, solver=sgd; total time=   0.1s\n",
      "[CV] END activation=tanh, alpha=0.0001, hidden_layer_sizes=(128, 64), learning_rate=constant, solver=sgd; total time=   0.1s\n"
     ]
    },
    {
     "name": "stderr",
     "output_type": "stream",
     "text": [
      "/Users/lucia/opt/anaconda3/lib/python3.9/site-packages/sklearn/neural_network/_multilayer_perceptron.py:686: ConvergenceWarning: Stochastic Optimizer: Maximum iterations (1000) reached and the optimization hasn't converged yet.\n",
      "  warnings.warn(\n",
      "/Users/lucia/opt/anaconda3/lib/python3.9/site-packages/sklearn/neural_network/_multilayer_perceptron.py:686: ConvergenceWarning: Stochastic Optimizer: Maximum iterations (1000) reached and the optimization hasn't converged yet.\n",
      "  warnings.warn(\n"
     ]
    },
    {
     "name": "stdout",
     "output_type": "stream",
     "text": [
      "[CV] END activation=tanh, alpha=0.0001, hidden_layer_sizes=(64, 32), learning_rate=adaptive, solver=adam; total time=   2.1s\n",
      "[CV] END activation=tanh, alpha=0.0001, hidden_layer_sizes=(64, 32), learning_rate=adaptive, solver=adam; total time=   2.2s\n",
      "[CV] END activation=tanh, alpha=0.0001, hidden_layer_sizes=(128, 64), learning_rate=constant, solver=sgd; total time=   0.7s\n"
     ]
    },
    {
     "name": "stderr",
     "output_type": "stream",
     "text": [
      "/Users/lucia/opt/anaconda3/lib/python3.9/site-packages/sklearn/neural_network/_multilayer_perceptron.py:686: ConvergenceWarning: Stochastic Optimizer: Maximum iterations (1000) reached and the optimization hasn't converged yet.\n",
      "  warnings.warn(\n"
     ]
    },
    {
     "name": "stdout",
     "output_type": "stream",
     "text": [
      "[CV] END activation=tanh, alpha=0.0001, hidden_layer_sizes=(128, 64), learning_rate=constant, solver=adam; total time=   4.0s\n",
      "[CV] END activation=tanh, alpha=0.0001, hidden_layer_sizes=(128, 64), learning_rate=adaptive, solver=adam; total time=   0.1s\n"
     ]
    },
    {
     "name": "stderr",
     "output_type": "stream",
     "text": [
      "/Users/lucia/opt/anaconda3/lib/python3.9/site-packages/sklearn/neural_network/_multilayer_perceptron.py:686: ConvergenceWarning: Stochastic Optimizer: Maximum iterations (1000) reached and the optimization hasn't converged yet.\n",
      "  warnings.warn(\n",
      "/Users/lucia/opt/anaconda3/lib/python3.9/site-packages/sklearn/neural_network/_multilayer_perceptron.py:686: ConvergenceWarning: Stochastic Optimizer: Maximum iterations (1000) reached and the optimization hasn't converged yet.\n",
      "  warnings.warn(\n",
      "/Users/lucia/opt/anaconda3/lib/python3.9/site-packages/sklearn/neural_network/_multilayer_perceptron.py:686: ConvergenceWarning: Stochastic Optimizer: Maximum iterations (1000) reached and the optimization hasn't converged yet.\n",
      "  warnings.warn(\n"
     ]
    },
    {
     "name": "stdout",
     "output_type": "stream",
     "text": [
      "[CV] END activation=tanh, alpha=0.0001, hidden_layer_sizes=(128, 64), learning_rate=constant, solver=adam; total time=   4.2s\n",
      "[CV] END activation=tanh, alpha=0.0001, hidden_layer_sizes=(128, 64), learning_rate=constant, solver=adam; total time=   4.2s\n",
      "[CV] END activation=tanh, alpha=0.0001, hidden_layer_sizes=(128, 64), learning_rate=constant, solver=adam; total time=   4.3s\n",
      "[CV] END activation=tanh, alpha=0.0001, hidden_layer_sizes=(128, 64), learning_rate=adaptive, solver=sgd; total time=   0.4s\n",
      "[CV] END activation=tanh, alpha=0.0001, hidden_layer_sizes=(128, 64), learning_rate=adaptive, solver=sgd; total time=   0.4s\n",
      "[CV] END activation=tanh, alpha=0.0001, hidden_layer_sizes=(128, 64), learning_rate=adaptive, solver=sgd; total time=   0.3s\n",
      "[CV] END activation=tanh, alpha=0.0001, hidden_layer_sizes=(128, 64), learning_rate=adaptive, solver=adam; total time=   4.2s\n",
      "[CV] END activation=tanh, alpha=0.0001, hidden_layer_sizes=(128, 64), learning_rate=adaptive, solver=sgd; total time=   0.4s\n"
     ]
    },
    {
     "name": "stderr",
     "output_type": "stream",
     "text": [
      "/Users/lucia/opt/anaconda3/lib/python3.9/site-packages/sklearn/neural_network/_multilayer_perceptron.py:686: ConvergenceWarning: Stochastic Optimizer: Maximum iterations (1000) reached and the optimization hasn't converged yet.\n",
      "  warnings.warn(\n",
      "/Users/lucia/opt/anaconda3/lib/python3.9/site-packages/sklearn/neural_network/_multilayer_perceptron.py:686: ConvergenceWarning: Stochastic Optimizer: Maximum iterations (1000) reached and the optimization hasn't converged yet.\n",
      "  warnings.warn(\n"
     ]
    },
    {
     "name": "stdout",
     "output_type": "stream",
     "text": [
      "[CV] END activation=tanh, alpha=0.0001, hidden_layer_sizes=(128, 64), learning_rate=adaptive, solver=adam; total time=   4.1s\n"
     ]
    },
    {
     "name": "stderr",
     "output_type": "stream",
     "text": [
      "/Users/lucia/opt/anaconda3/lib/python3.9/site-packages/sklearn/neural_network/_multilayer_perceptron.py:686: ConvergenceWarning: Stochastic Optimizer: Maximum iterations (1000) reached and the optimization hasn't converged yet.\n",
      "  warnings.warn(\n"
     ]
    },
    {
     "name": "stdout",
     "output_type": "stream",
     "text": [
      "[CV] END activation=tanh, alpha=0.0001, hidden_layer_sizes=(128, 64), learning_rate=adaptive, solver=adam; total time=   4.3s\n",
      "[CV] END activation=tanh, alpha=0.0001, hidden_layer_sizes=(128, 64), learning_rate=adaptive, solver=sgd; total time=   0.9s\n"
     ]
    },
    {
     "name": "stderr",
     "output_type": "stream",
     "text": [
      "/Users/lucia/opt/anaconda3/lib/python3.9/site-packages/sklearn/neural_network/_multilayer_perceptron.py:686: ConvergenceWarning: Stochastic Optimizer: Maximum iterations (1000) reached and the optimization hasn't converged yet.\n",
      "  warnings.warn(\n"
     ]
    },
    {
     "name": "stdout",
     "output_type": "stream",
     "text": [
      "[CV] END activation=tanh, alpha=0.0001, hidden_layer_sizes=(128, 64), learning_rate=adaptive, solver=adam; total time=   4.2s\n",
      "[CV] END activation=tanh, alpha=0.0001, hidden_layer_sizes=(100, 50, 25), learning_rate=constant, solver=sgd; total time=   0.3s\n",
      "[CV] END activation=tanh, alpha=0.0001, hidden_layer_sizes=(100, 50, 25), learning_rate=constant, solver=sgd; total time=   0.2s\n",
      "[CV] END activation=tanh, alpha=0.0001, hidden_layer_sizes=(100, 50, 25), learning_rate=constant, solver=sgd; total time=   0.3s\n",
      "[CV] END activation=tanh, alpha=0.0001, hidden_layer_sizes=(100, 50, 25), learning_rate=constant, solver=sgd; total time=   0.2s\n",
      "[CV] END activation=tanh, alpha=0.0001, hidden_layer_sizes=(100, 50, 25), learning_rate=constant, solver=sgd; total time=   0.3s\n"
     ]
    },
    {
     "name": "stderr",
     "output_type": "stream",
     "text": [
      "/Users/lucia/opt/anaconda3/lib/python3.9/site-packages/sklearn/neural_network/_multilayer_perceptron.py:686: ConvergenceWarning: Stochastic Optimizer: Maximum iterations (1000) reached and the optimization hasn't converged yet.\n",
      "  warnings.warn(\n"
     ]
    },
    {
     "name": "stdout",
     "output_type": "stream",
     "text": [
      "[CV] END activation=tanh, alpha=0.0001, hidden_layer_sizes=(100, 50, 25), learning_rate=constant, solver=adam; total time=   3.6s\n",
      "[CV] END activation=tanh, alpha=0.0001, hidden_layer_sizes=(100, 50, 25), learning_rate=constant, solver=adam; total time=   3.8s\n"
     ]
    },
    {
     "name": "stderr",
     "output_type": "stream",
     "text": [
      "/Users/lucia/opt/anaconda3/lib/python3.9/site-packages/sklearn/neural_network/_multilayer_perceptron.py:686: ConvergenceWarning: Stochastic Optimizer: Maximum iterations (1000) reached and the optimization hasn't converged yet.\n",
      "  warnings.warn(\n",
      "/Users/lucia/opt/anaconda3/lib/python3.9/site-packages/sklearn/neural_network/_multilayer_perceptron.py:686: ConvergenceWarning: Stochastic Optimizer: Maximum iterations (1000) reached and the optimization hasn't converged yet.\n",
      "  warnings.warn(\n",
      "/Users/lucia/opt/anaconda3/lib/python3.9/site-packages/sklearn/neural_network/_multilayer_perceptron.py:686: ConvergenceWarning: Stochastic Optimizer: Maximum iterations (1000) reached and the optimization hasn't converged yet.\n",
      "  warnings.warn(\n"
     ]
    },
    {
     "name": "stdout",
     "output_type": "stream",
     "text": [
      "[CV] END activation=tanh, alpha=0.0001, hidden_layer_sizes=(100, 50, 25), learning_rate=constant, solver=adam; total time=   3.8s\n",
      "[CV] END activation=tanh, alpha=0.0001, hidden_layer_sizes=(100, 50, 25), learning_rate=constant, solver=adam; total time=   3.7s\n"
     ]
    },
    {
     "name": "stderr",
     "output_type": "stream",
     "text": [
      "/Users/lucia/opt/anaconda3/lib/python3.9/site-packages/sklearn/neural_network/_multilayer_perceptron.py:686: ConvergenceWarning: Stochastic Optimizer: Maximum iterations (1000) reached and the optimization hasn't converged yet.\n",
      "  warnings.warn(\n"
     ]
    },
    {
     "name": "stdout",
     "output_type": "stream",
     "text": [
      "[CV] END activation=tanh, alpha=0.0001, hidden_layer_sizes=(100, 50, 25), learning_rate=constant, solver=adam; total time=   3.9s\n",
      "[CV] END activation=tanh, alpha=0.0001, hidden_layer_sizes=(100, 50, 25), learning_rate=adaptive, solver=sgd; total time=   0.4s\n",
      "[CV] END activation=tanh, alpha=0.0001, hidden_layer_sizes=(100, 50, 25), learning_rate=adaptive, solver=sgd; total time=   0.5s\n",
      "[CV] END activation=tanh, alpha=0.0001, hidden_layer_sizes=(100, 50, 25), learning_rate=adaptive, solver=sgd; total time=   0.4s\n"
     ]
    },
    {
     "name": "stderr",
     "output_type": "stream",
     "text": [
      "/Users/lucia/opt/anaconda3/lib/python3.9/site-packages/sklearn/neural_network/_multilayer_perceptron.py:686: ConvergenceWarning: Stochastic Optimizer: Maximum iterations (1000) reached and the optimization hasn't converged yet.\n",
      "  warnings.warn(\n"
     ]
    },
    {
     "name": "stdout",
     "output_type": "stream",
     "text": [
      "[CV] END activation=tanh, alpha=0.0001, hidden_layer_sizes=(100, 50, 25), learning_rate=adaptive, solver=adam; total time=   3.7s\n",
      "[CV] END activation=tanh, alpha=0.0001, hidden_layer_sizes=(100, 50, 25), learning_rate=adaptive, solver=sgd; total time=   0.5s\n",
      "[CV] END activation=tanh, alpha=0.0001, hidden_layer_sizes=(100, 50, 25), learning_rate=adaptive, solver=sgd; total time=   0.5s\n"
     ]
    },
    {
     "name": "stderr",
     "output_type": "stream",
     "text": [
      "/Users/lucia/opt/anaconda3/lib/python3.9/site-packages/sklearn/neural_network/_multilayer_perceptron.py:686: ConvergenceWarning: Stochastic Optimizer: Maximum iterations (1000) reached and the optimization hasn't converged yet.\n",
      "  warnings.warn(\n",
      "/Users/lucia/opt/anaconda3/lib/python3.9/site-packages/sklearn/neural_network/_multilayer_perceptron.py:686: ConvergenceWarning: Stochastic Optimizer: Maximum iterations (1000) reached and the optimization hasn't converged yet.\n",
      "  warnings.warn(\n"
     ]
    },
    {
     "name": "stdout",
     "output_type": "stream",
     "text": [
      "[CV] END activation=tanh, alpha=0.0001, hidden_layer_sizes=(100, 50, 25), learning_rate=adaptive, solver=adam; total time=   3.9s\n",
      "[CV] END activation=tanh, alpha=0.0001, hidden_layer_sizes=(100, 50, 25), learning_rate=adaptive, solver=adam; total time=   3.8s\n",
      "[CV] END activation=tanh, alpha=0.001, hidden_layer_sizes=(64,), learning_rate=constant, solver=sgd; total time=   0.2s\n",
      "[CV] END activation=tanh, alpha=0.001, hidden_layer_sizes=(64,), learning_rate=constant, solver=sgd; total time=   0.2s\n",
      "[CV] END activation=tanh, alpha=0.001, hidden_layer_sizes=(64,), learning_rate=constant, solver=sgd; total time=   0.1s\n",
      "[CV] END activation=tanh, alpha=0.001, hidden_layer_sizes=(64,), learning_rate=constant, solver=sgd; total time=   0.2s\n"
     ]
    },
    {
     "name": "stderr",
     "output_type": "stream",
     "text": [
      "[codecarbon INFO @ 01:25:24] Energy consumed for RAM : 0.000050 kWh. RAM Power : 3.0 W\n",
      "[codecarbon INFO @ 01:25:24] Energy consumed for all CPUs : 0.000083 kWh. Total CPU Power : 5.0 W\n",
      "[codecarbon INFO @ 01:25:24] 0.000133 kWh of electricity used since the beginning.\n",
      "/Users/lucia/opt/anaconda3/lib/python3.9/site-packages/sklearn/neural_network/_multilayer_perceptron.py:686: ConvergenceWarning: Stochastic Optimizer: Maximum iterations (1000) reached and the optimization hasn't converged yet.\n",
      "  warnings.warn(\n"
     ]
    },
    {
     "name": "stdout",
     "output_type": "stream",
     "text": [
      "[CV] END activation=tanh, alpha=0.001, hidden_layer_sizes=(64,), learning_rate=constant, solver=sgd; total time=   0.2s\n",
      "[CV] END activation=tanh, alpha=0.001, hidden_layer_sizes=(64,), learning_rate=constant, solver=adam; total time=   1.4s\n"
     ]
    },
    {
     "name": "stderr",
     "output_type": "stream",
     "text": [
      "/Users/lucia/opt/anaconda3/lib/python3.9/site-packages/sklearn/neural_network/_multilayer_perceptron.py:686: ConvergenceWarning: Stochastic Optimizer: Maximum iterations (1000) reached and the optimization hasn't converged yet.\n",
      "  warnings.warn(\n",
      "/Users/lucia/opt/anaconda3/lib/python3.9/site-packages/sklearn/neural_network/_multilayer_perceptron.py:686: ConvergenceWarning: Stochastic Optimizer: Maximum iterations (1000) reached and the optimization hasn't converged yet.\n",
      "  warnings.warn(\n",
      "/Users/lucia/opt/anaconda3/lib/python3.9/site-packages/sklearn/neural_network/_multilayer_perceptron.py:686: ConvergenceWarning: Stochastic Optimizer: Maximum iterations (1000) reached and the optimization hasn't converged yet.\n",
      "  warnings.warn(\n",
      "/Users/lucia/opt/anaconda3/lib/python3.9/site-packages/sklearn/neural_network/_multilayer_perceptron.py:686: ConvergenceWarning: Stochastic Optimizer: Maximum iterations (1000) reached and the optimization hasn't converged yet.\n",
      "  warnings.warn(\n"
     ]
    },
    {
     "name": "stdout",
     "output_type": "stream",
     "text": [
      "[CV] END activation=tanh, alpha=0.001, hidden_layer_sizes=(64,), learning_rate=constant, solver=adam; total time=   1.3s\n",
      "[CV] END activation=tanh, alpha=0.001, hidden_layer_sizes=(64,), learning_rate=constant, solver=adam; total time=   1.5s\n",
      "[CV] END activation=tanh, alpha=0.001, hidden_layer_sizes=(64,), learning_rate=constant, solver=adam; total time=   1.3s\n",
      "[CV] END activation=tanh, alpha=0.001, hidden_layer_sizes=(64,), learning_rate=constant, solver=adam; total time=   1.4s\n",
      "[CV] END activation=tanh, alpha=0.001, hidden_layer_sizes=(64,), learning_rate=adaptive, solver=sgd; total time=   0.3s\n",
      "[CV] END activation=tanh, alpha=0.001, hidden_layer_sizes=(64,), learning_rate=adaptive, solver=sgd; total time=   0.5s\n",
      "[CV] END activation=tanh, alpha=0.001, hidden_layer_sizes=(64,), learning_rate=adaptive, solver=sgd; total time=   0.3s\n",
      "[CV] END activation=tanh, alpha=0.001, hidden_layer_sizes=(64,), learning_rate=adaptive, solver=adam; total time=   1.7s\n"
     ]
    },
    {
     "name": "stderr",
     "output_type": "stream",
     "text": [
      "/Users/lucia/opt/anaconda3/lib/python3.9/site-packages/sklearn/neural_network/_multilayer_perceptron.py:686: ConvergenceWarning: Stochastic Optimizer: Maximum iterations (1000) reached and the optimization hasn't converged yet.\n",
      "  warnings.warn(\n",
      "/Users/lucia/opt/anaconda3/lib/python3.9/site-packages/sklearn/neural_network/_multilayer_perceptron.py:686: ConvergenceWarning: Stochastic Optimizer: Maximum iterations (1000) reached and the optimization hasn't converged yet.\n",
      "  warnings.warn(\n"
     ]
    },
    {
     "name": "stdout",
     "output_type": "stream",
     "text": [
      "[CV] END activation=tanh, alpha=0.001, hidden_layer_sizes=(64,), learning_rate=adaptive, solver=sgd; total time=   0.3s\n",
      "[CV] END activation=tanh, alpha=0.001, hidden_layer_sizes=(64,), learning_rate=adaptive, solver=adam; total time=   1.9s\n",
      "[CV] END activation=tanh, alpha=0.0001, hidden_layer_sizes=(100, 50, 25), learning_rate=adaptive, solver=adam; total time=   4.2s\n",
      "[CV] END activation=tanh, alpha=0.001, hidden_layer_sizes=(64,), learning_rate=adaptive, solver=adam; total time=   1.7s\n",
      "[CV] END activation=tanh, alpha=0.001, hidden_layer_sizes=(64,), learning_rate=adaptive, solver=sgd; total time=   0.3s\n"
     ]
    },
    {
     "name": "stderr",
     "output_type": "stream",
     "text": [
      "/Users/lucia/opt/anaconda3/lib/python3.9/site-packages/sklearn/neural_network/_multilayer_perceptron.py:686: ConvergenceWarning: Stochastic Optimizer: Maximum iterations (1000) reached and the optimization hasn't converged yet.\n",
      "  warnings.warn(\n",
      "/Users/lucia/opt/anaconda3/lib/python3.9/site-packages/sklearn/neural_network/_multilayer_perceptron.py:686: ConvergenceWarning: Stochastic Optimizer: Maximum iterations (1000) reached and the optimization hasn't converged yet.\n",
      "  warnings.warn(\n",
      "/Users/lucia/opt/anaconda3/lib/python3.9/site-packages/sklearn/neural_network/_multilayer_perceptron.py:686: ConvergenceWarning: Stochastic Optimizer: Maximum iterations (1000) reached and the optimization hasn't converged yet.\n",
      "  warnings.warn(\n"
     ]
    },
    {
     "name": "stdout",
     "output_type": "stream",
     "text": [
      "[CV] END activation=tanh, alpha=0.0001, hidden_layer_sizes=(100, 50, 25), learning_rate=adaptive, solver=adam; total time=   4.2s\n",
      "[CV] END activation=tanh, alpha=0.001, hidden_layer_sizes=(64,), learning_rate=adaptive, solver=adam; total time=   1.8s\n"
     ]
    },
    {
     "name": "stderr",
     "output_type": "stream",
     "text": [
      "/Users/lucia/opt/anaconda3/lib/python3.9/site-packages/sklearn/neural_network/_multilayer_perceptron.py:686: ConvergenceWarning: Stochastic Optimizer: Maximum iterations (1000) reached and the optimization hasn't converged yet.\n",
      "  warnings.warn(\n",
      "/Users/lucia/opt/anaconda3/lib/python3.9/site-packages/sklearn/neural_network/_multilayer_perceptron.py:686: ConvergenceWarning: Stochastic Optimizer: Maximum iterations (1000) reached and the optimization hasn't converged yet.\n",
      "  warnings.warn(\n"
     ]
    },
    {
     "name": "stdout",
     "output_type": "stream",
     "text": [
      "[CV] END activation=tanh, alpha=0.001, hidden_layer_sizes=(64,), learning_rate=adaptive, solver=adam; total time=   2.0s\n",
      "[CV] END activation=tanh, alpha=0.001, hidden_layer_sizes=(64, 32), learning_rate=constant, solver=sgd; total time=   0.5s\n",
      "[CV] END activation=tanh, alpha=0.001, hidden_layer_sizes=(64, 32), learning_rate=constant, solver=sgd; total time=   0.4s\n",
      "[CV] END activation=tanh, alpha=0.001, hidden_layer_sizes=(64, 32), learning_rate=constant, solver=sgd; total time=   0.3s\n",
      "[CV] END activation=tanh, alpha=0.001, hidden_layer_sizes=(64, 32), learning_rate=constant, solver=sgd; total time=   0.3s\n",
      "[CV] END activation=tanh, alpha=0.001, hidden_layer_sizes=(64, 32), learning_rate=constant, solver=sgd; total time=   0.5s\n"
     ]
    },
    {
     "name": "stderr",
     "output_type": "stream",
     "text": [
      "/Users/lucia/opt/anaconda3/lib/python3.9/site-packages/sklearn/neural_network/_multilayer_perceptron.py:686: ConvergenceWarning: Stochastic Optimizer: Maximum iterations (1000) reached and the optimization hasn't converged yet.\n",
      "  warnings.warn(\n",
      "/Users/lucia/opt/anaconda3/lib/python3.9/site-packages/sklearn/neural_network/_multilayer_perceptron.py:686: ConvergenceWarning: Stochastic Optimizer: Maximum iterations (1000) reached and the optimization hasn't converged yet.\n",
      "  warnings.warn(\n",
      "/Users/lucia/opt/anaconda3/lib/python3.9/site-packages/sklearn/neural_network/_multilayer_perceptron.py:686: ConvergenceWarning: Stochastic Optimizer: Maximum iterations (1000) reached and the optimization hasn't converged yet.\n",
      "  warnings.warn(\n",
      "/Users/lucia/opt/anaconda3/lib/python3.9/site-packages/sklearn/neural_network/_multilayer_perceptron.py:686: ConvergenceWarning: Stochastic Optimizer: Maximum iterations (1000) reached and the optimization hasn't converged yet.\n",
      "  warnings.warn(\n",
      "/Users/lucia/opt/anaconda3/lib/python3.9/site-packages/sklearn/neural_network/_multilayer_perceptron.py:686: ConvergenceWarning: Stochastic Optimizer: Maximum iterations (1000) reached and the optimization hasn't converged yet.\n",
      "  warnings.warn(\n"
     ]
    },
    {
     "name": "stdout",
     "output_type": "stream",
     "text": [
      "[CV] END activation=tanh, alpha=0.001, hidden_layer_sizes=(64, 32), learning_rate=constant, solver=adam; total time=   2.2s\n",
      "[CV] END activation=tanh, alpha=0.001, hidden_layer_sizes=(64, 32), learning_rate=constant, solver=adam; total time=   2.3s\n",
      "[CV] END activation=tanh, alpha=0.001, hidden_layer_sizes=(64, 32), learning_rate=constant, solver=adam; total time=   2.5s\n",
      "[CV] END activation=tanh, alpha=0.001, hidden_layer_sizes=(64, 32), learning_rate=constant, solver=adam; total time=   2.3s\n",
      "[CV] END activation=tanh, alpha=0.001, hidden_layer_sizes=(64, 32), learning_rate=constant, solver=adam; total time=   2.3s\n",
      "[CV] END activation=tanh, alpha=0.001, hidden_layer_sizes=(64, 32), learning_rate=adaptive, solver=sgd; total time=   0.5s\n",
      "[CV] END activation=tanh, alpha=0.001, hidden_layer_sizes=(64, 32), learning_rate=adaptive, solver=sgd; total time=   0.6s\n",
      "[CV] END activation=tanh, alpha=0.001, hidden_layer_sizes=(64, 32), learning_rate=adaptive, solver=sgd; total time=   0.6s\n"
     ]
    },
    {
     "name": "stderr",
     "output_type": "stream",
     "text": [
      "/Users/lucia/opt/anaconda3/lib/python3.9/site-packages/sklearn/neural_network/_multilayer_perceptron.py:686: ConvergenceWarning: Stochastic Optimizer: Maximum iterations (1000) reached and the optimization hasn't converged yet.\n",
      "  warnings.warn(\n"
     ]
    },
    {
     "name": "stdout",
     "output_type": "stream",
     "text": [
      "[CV] END activation=tanh, alpha=0.001, hidden_layer_sizes=(64, 32), learning_rate=adaptive, solver=adam; total time=   2.4s\n"
     ]
    },
    {
     "name": "stderr",
     "output_type": "stream",
     "text": [
      "/Users/lucia/opt/anaconda3/lib/python3.9/site-packages/sklearn/neural_network/_multilayer_perceptron.py:686: ConvergenceWarning: Stochastic Optimizer: Maximum iterations (1000) reached and the optimization hasn't converged yet.\n",
      "  warnings.warn(\n"
     ]
    },
    {
     "name": "stdout",
     "output_type": "stream",
     "text": [
      "[CV] END activation=tanh, alpha=0.001, hidden_layer_sizes=(64, 32), learning_rate=adaptive, solver=adam; total time=   2.3s\n",
      "[CV] END activation=tanh, alpha=0.001, hidden_layer_sizes=(64, 32), learning_rate=adaptive, solver=sgd; total time=   0.5s\n",
      "[CV] END activation=tanh, alpha=0.001, hidden_layer_sizes=(64, 32), learning_rate=adaptive, solver=adam; total time=   2.5s\n",
      "[CV] END activation=tanh, alpha=0.001, hidden_layer_sizes=(64, 32), learning_rate=adaptive, solver=sgd; total time=   0.9s\n",
      "[CV] END activation=tanh, alpha=0.001, hidden_layer_sizes=(128, 64), learning_rate=constant, solver=adam; total time=   0.1s\n",
      "[CV] END activation=tanh, alpha=0.001, hidden_layer_sizes=(128, 64), learning_rate=constant, solver=sgd; total time=   0.1s\n",
      "[CV] END activation=tanh, alpha=0.001, hidden_layer_sizes=(128, 64), learning_rate=constant, solver=sgd; total time=   0.1s\n"
     ]
    },
    {
     "name": "stderr",
     "output_type": "stream",
     "text": [
      "/Users/lucia/opt/anaconda3/lib/python3.9/site-packages/sklearn/neural_network/_multilayer_perceptron.py:686: ConvergenceWarning: Stochastic Optimizer: Maximum iterations (1000) reached and the optimization hasn't converged yet.\n",
      "  warnings.warn(\n"
     ]
    },
    {
     "name": "stdout",
     "output_type": "stream",
     "text": [
      "[CV] END activation=tanh, alpha=0.001, hidden_layer_sizes=(128, 64), learning_rate=constant, solver=sgd; total time=   0.1s\n",
      "[CV] END activation=tanh, alpha=0.001, hidden_layer_sizes=(128, 64), learning_rate=constant, solver=sgd; total time=   0.1s\n",
      "[CV] END activation=tanh, alpha=0.001, hidden_layer_sizes=(128, 64), learning_rate=constant, solver=sgd; total time=   0.9s\n",
      "[CV] END activation=tanh, alpha=0.001, hidden_layer_sizes=(64, 32), learning_rate=adaptive, solver=adam; total time=   2.6s\n",
      "[CV] END activation=tanh, alpha=0.001, hidden_layer_sizes=(64, 32), learning_rate=adaptive, solver=adam; total time=   2.6s\n"
     ]
    },
    {
     "name": "stderr",
     "output_type": "stream",
     "text": [
      "/Users/lucia/opt/anaconda3/lib/python3.9/site-packages/sklearn/neural_network/_multilayer_perceptron.py:686: ConvergenceWarning: Stochastic Optimizer: Maximum iterations (1000) reached and the optimization hasn't converged yet.\n",
      "  warnings.warn(\n",
      "/Users/lucia/opt/anaconda3/lib/python3.9/site-packages/sklearn/neural_network/_multilayer_perceptron.py:686: ConvergenceWarning: Stochastic Optimizer: Maximum iterations (1000) reached and the optimization hasn't converged yet.\n",
      "  warnings.warn(\n",
      "/Users/lucia/opt/anaconda3/lib/python3.9/site-packages/sklearn/neural_network/_multilayer_perceptron.py:686: ConvergenceWarning: Stochastic Optimizer: Maximum iterations (1000) reached and the optimization hasn't converged yet.\n",
      "  warnings.warn(\n",
      "/Users/lucia/opt/anaconda3/lib/python3.9/site-packages/sklearn/neural_network/_multilayer_perceptron.py:686: ConvergenceWarning: Stochastic Optimizer: Maximum iterations (1000) reached and the optimization hasn't converged yet.\n",
      "  warnings.warn(\n"
     ]
    },
    {
     "name": "stdout",
     "output_type": "stream",
     "text": [
      "[CV] END activation=tanh, alpha=0.001, hidden_layer_sizes=(128, 64), learning_rate=constant, solver=adam; total time=   4.8s\n",
      "[CV] END activation=tanh, alpha=0.001, hidden_layer_sizes=(128, 64), learning_rate=constant, solver=adam; total time=   5.0s\n",
      "[CV] END activation=tanh, alpha=0.001, hidden_layer_sizes=(128, 64), learning_rate=adaptive, solver=adam; total time=   0.1s\n"
     ]
    },
    {
     "name": "stderr",
     "output_type": "stream",
     "text": [
      "/Users/lucia/opt/anaconda3/lib/python3.9/site-packages/sklearn/neural_network/_multilayer_perceptron.py:686: ConvergenceWarning: Stochastic Optimizer: Maximum iterations (1000) reached and the optimization hasn't converged yet.\n",
      "  warnings.warn(\n",
      "/Users/lucia/opt/anaconda3/lib/python3.9/site-packages/sklearn/neural_network/_multilayer_perceptron.py:686: ConvergenceWarning: Stochastic Optimizer: Maximum iterations (1000) reached and the optimization hasn't converged yet.\n",
      "  warnings.warn(\n"
     ]
    },
    {
     "name": "stdout",
     "output_type": "stream",
     "text": [
      "[CV] END activation=tanh, alpha=0.001, hidden_layer_sizes=(128, 64), learning_rate=constant, solver=adam; total time=   4.8s\n",
      "[CV] END activation=tanh, alpha=0.001, hidden_layer_sizes=(128, 64), learning_rate=constant, solver=adam; total time=   5.0s\n",
      "[CV] END activation=tanh, alpha=0.001, hidden_layer_sizes=(128, 64), learning_rate=adaptive, solver=sgd; total time=   0.4s\n",
      "[CV] END activation=tanh, alpha=0.001, hidden_layer_sizes=(128, 64), learning_rate=adaptive, solver=sgd; total time=   0.6s\n",
      "[CV] END activation=tanh, alpha=0.001, hidden_layer_sizes=(128, 64), learning_rate=adaptive, solver=adam; total time=   4.6s\n"
     ]
    },
    {
     "name": "stderr",
     "output_type": "stream",
     "text": [
      "/Users/lucia/opt/anaconda3/lib/python3.9/site-packages/sklearn/neural_network/_multilayer_perceptron.py:686: ConvergenceWarning: Stochastic Optimizer: Maximum iterations (1000) reached and the optimization hasn't converged yet.\n",
      "  warnings.warn(\n"
     ]
    },
    {
     "name": "stdout",
     "output_type": "stream",
     "text": [
      "[CV] END activation=tanh, alpha=0.001, hidden_layer_sizes=(128, 64), learning_rate=adaptive, solver=sgd; total time=   0.5s\n",
      "[CV] END activation=tanh, alpha=0.001, hidden_layer_sizes=(128, 64), learning_rate=adaptive, solver=sgd; total time=   0.5s\n",
      "[CV] END activation=tanh, alpha=0.001, hidden_layer_sizes=(128, 64), learning_rate=adaptive, solver=sgd; total time=   1.0s\n",
      "[CV] END activation=tanh, alpha=0.001, hidden_layer_sizes=(128, 64), learning_rate=adaptive, solver=adam; total time=   4.6s\n",
      "[CV] END activation=tanh, alpha=0.001, hidden_layer_sizes=(128, 64), learning_rate=adaptive, solver=adam; total time=   4.8s\n"
     ]
    },
    {
     "name": "stderr",
     "output_type": "stream",
     "text": [
      "/Users/lucia/opt/anaconda3/lib/python3.9/site-packages/sklearn/neural_network/_multilayer_perceptron.py:686: ConvergenceWarning: Stochastic Optimizer: Maximum iterations (1000) reached and the optimization hasn't converged yet.\n",
      "  warnings.warn(\n",
      "/Users/lucia/opt/anaconda3/lib/python3.9/site-packages/sklearn/neural_network/_multilayer_perceptron.py:686: ConvergenceWarning: Stochastic Optimizer: Maximum iterations (1000) reached and the optimization hasn't converged yet.\n",
      "  warnings.warn(\n"
     ]
    },
    {
     "name": "stdout",
     "output_type": "stream",
     "text": [
      "[CV] END activation=tanh, alpha=0.001, hidden_layer_sizes=(100, 50, 25), learning_rate=constant, solver=sgd; total time=   0.3s\n",
      "[CV] END activation=tanh, alpha=0.001, hidden_layer_sizes=(128, 64), learning_rate=adaptive, solver=adam; total time=   4.9s\n",
      "[CV] END activation=tanh, alpha=0.001, hidden_layer_sizes=(100, 50, 25), learning_rate=constant, solver=sgd; total time=   0.3s\n"
     ]
    },
    {
     "name": "stderr",
     "output_type": "stream",
     "text": [
      "/Users/lucia/opt/anaconda3/lib/python3.9/site-packages/sklearn/neural_network/_multilayer_perceptron.py:686: ConvergenceWarning: Stochastic Optimizer: Maximum iterations (1000) reached and the optimization hasn't converged yet.\n",
      "  warnings.warn(\n"
     ]
    },
    {
     "name": "stdout",
     "output_type": "stream",
     "text": [
      "[CV] END activation=tanh, alpha=0.001, hidden_layer_sizes=(100, 50, 25), learning_rate=constant, solver=sgd; total time=   0.3s\n",
      "[CV] END activation=tanh, alpha=0.001, hidden_layer_sizes=(100, 50, 25), learning_rate=constant, solver=sgd; total time=   0.3s\n",
      "[CV] END activation=tanh, alpha=0.001, hidden_layer_sizes=(100, 50, 25), learning_rate=constant, solver=sgd; total time=   0.4s\n"
     ]
    },
    {
     "name": "stderr",
     "output_type": "stream",
     "text": [
      "/Users/lucia/opt/anaconda3/lib/python3.9/site-packages/sklearn/neural_network/_multilayer_perceptron.py:686: ConvergenceWarning: Stochastic Optimizer: Maximum iterations (1000) reached and the optimization hasn't converged yet.\n",
      "  warnings.warn(\n"
     ]
    },
    {
     "name": "stdout",
     "output_type": "stream",
     "text": [
      "[CV] END activation=tanh, alpha=0.001, hidden_layer_sizes=(100, 50, 25), learning_rate=constant, solver=adam; total time=   4.1s\n"
     ]
    },
    {
     "name": "stderr",
     "output_type": "stream",
     "text": [
      "/Users/lucia/opt/anaconda3/lib/python3.9/site-packages/sklearn/neural_network/_multilayer_perceptron.py:686: ConvergenceWarning: Stochastic Optimizer: Maximum iterations (1000) reached and the optimization hasn't converged yet.\n",
      "  warnings.warn(\n",
      "[codecarbon INFO @ 01:25:39] Energy consumed for RAM : 0.000062 kWh. RAM Power : 3.0 W\n",
      "[codecarbon INFO @ 01:25:39] Energy consumed for all CPUs : 0.000104 kWh. Total CPU Power : 5.0 W\n",
      "[codecarbon INFO @ 01:25:39] 0.000167 kWh of electricity used since the beginning.\n"
     ]
    },
    {
     "name": "stdout",
     "output_type": "stream",
     "text": [
      "[CV] END activation=tanh, alpha=0.001, hidden_layer_sizes=(100, 50, 25), learning_rate=constant, solver=adam; total time=   4.2s\n"
     ]
    },
    {
     "name": "stderr",
     "output_type": "stream",
     "text": [
      "/Users/lucia/opt/anaconda3/lib/python3.9/site-packages/sklearn/neural_network/_multilayer_perceptron.py:686: ConvergenceWarning: Stochastic Optimizer: Maximum iterations (1000) reached and the optimization hasn't converged yet.\n",
      "  warnings.warn(\n"
     ]
    },
    {
     "name": "stdout",
     "output_type": "stream",
     "text": [
      "[CV] END activation=tanh, alpha=0.001, hidden_layer_sizes=(100, 50, 25), learning_rate=constant, solver=adam; total time=   4.4s\n"
     ]
    },
    {
     "name": "stderr",
     "output_type": "stream",
     "text": [
      "/Users/lucia/opt/anaconda3/lib/python3.9/site-packages/sklearn/neural_network/_multilayer_perceptron.py:686: ConvergenceWarning: Stochastic Optimizer: Maximum iterations (1000) reached and the optimization hasn't converged yet.\n",
      "  warnings.warn(\n"
     ]
    },
    {
     "name": "stdout",
     "output_type": "stream",
     "text": [
      "[CV] END activation=tanh, alpha=0.001, hidden_layer_sizes=(100, 50, 25), learning_rate=constant, solver=adam; total time=   4.5s\n",
      "[CV] END activation=tanh, alpha=0.001, hidden_layer_sizes=(100, 50, 25), learning_rate=adaptive, solver=sgd; total time=   0.5s\n",
      "[CV] END activation=tanh, alpha=0.001, hidden_layer_sizes=(100, 50, 25), learning_rate=constant, solver=adam; total time=   4.4s\n",
      "[CV] END activation=tanh, alpha=0.001, hidden_layer_sizes=(100, 50, 25), learning_rate=adaptive, solver=sgd; total time=   0.5s\n"
     ]
    },
    {
     "name": "stderr",
     "output_type": "stream",
     "text": [
      "/Users/lucia/opt/anaconda3/lib/python3.9/site-packages/sklearn/neural_network/_multilayer_perceptron.py:686: ConvergenceWarning: Stochastic Optimizer: Maximum iterations (1000) reached and the optimization hasn't converged yet.\n",
      "  warnings.warn(\n"
     ]
    },
    {
     "name": "stdout",
     "output_type": "stream",
     "text": [
      "[CV] END activation=tanh, alpha=0.001, hidden_layer_sizes=(100, 50, 25), learning_rate=adaptive, solver=sgd; total time=   0.6s\n",
      "[CV] END activation=tanh, alpha=0.001, hidden_layer_sizes=(100, 50, 25), learning_rate=adaptive, solver=sgd; total time=   0.5s\n",
      "[CV] END activation=tanh, alpha=0.001, hidden_layer_sizes=(100, 50, 25), learning_rate=adaptive, solver=sgd; total time=   0.5s\n",
      "[CV] END activation=tanh, alpha=0.001, hidden_layer_sizes=(100, 50, 25), learning_rate=adaptive, solver=adam; total time=   4.4s\n",
      "[CV] END activation=tanh, alpha=0.001, hidden_layer_sizes=(100, 50, 25), learning_rate=adaptive, solver=adam; total time=   4.4s\n"
     ]
    },
    {
     "name": "stderr",
     "output_type": "stream",
     "text": [
      "/Users/lucia/opt/anaconda3/lib/python3.9/site-packages/sklearn/neural_network/_multilayer_perceptron.py:686: ConvergenceWarning: Stochastic Optimizer: Maximum iterations (1000) reached and the optimization hasn't converged yet.\n",
      "  warnings.warn(\n",
      "/Users/lucia/opt/anaconda3/lib/python3.9/site-packages/sklearn/neural_network/_multilayer_perceptron.py:686: ConvergenceWarning: Stochastic Optimizer: Maximum iterations (1000) reached and the optimization hasn't converged yet.\n",
      "  warnings.warn(\n",
      "/Users/lucia/opt/anaconda3/lib/python3.9/site-packages/sklearn/neural_network/_multilayer_perceptron.py:686: ConvergenceWarning: Stochastic Optimizer: Maximum iterations (1000) reached and the optimization hasn't converged yet.\n",
      "  warnings.warn(\n"
     ]
    },
    {
     "name": "stdout",
     "output_type": "stream",
     "text": [
      "[CV] END activation=tanh, alpha=0.001, hidden_layer_sizes=(100, 50, 25), learning_rate=adaptive, solver=adam; total time=   4.3s\n",
      "[CV] END activation=tanh, alpha=0.01, hidden_layer_sizes=(64,), learning_rate=constant, solver=sgd; total time=   0.2s\n",
      "[CV] END activation=tanh, alpha=0.01, hidden_layer_sizes=(64,), learning_rate=constant, solver=sgd; total time=   0.2s\n",
      "[CV] END activation=tanh, alpha=0.01, hidden_layer_sizes=(64,), learning_rate=constant, solver=sgd; total time=   0.2s\n",
      "[CV] END activation=tanh, alpha=0.01, hidden_layer_sizes=(64,), learning_rate=constant, solver=sgd; total time=   0.2s\n",
      "[CV] END activation=tanh, alpha=0.01, hidden_layer_sizes=(64,), learning_rate=constant, solver=sgd; total time=   0.2s\n"
     ]
    },
    {
     "name": "stderr",
     "output_type": "stream",
     "text": [
      "/Users/lucia/opt/anaconda3/lib/python3.9/site-packages/sklearn/neural_network/_multilayer_perceptron.py:686: ConvergenceWarning: Stochastic Optimizer: Maximum iterations (1000) reached and the optimization hasn't converged yet.\n",
      "  warnings.warn(\n",
      "/Users/lucia/opt/anaconda3/lib/python3.9/site-packages/sklearn/neural_network/_multilayer_perceptron.py:686: ConvergenceWarning: Stochastic Optimizer: Maximum iterations (1000) reached and the optimization hasn't converged yet.\n",
      "  warnings.warn(\n"
     ]
    },
    {
     "name": "stdout",
     "output_type": "stream",
     "text": [
      "[CV] END activation=tanh, alpha=0.01, hidden_layer_sizes=(64,), learning_rate=constant, solver=adam; total time=   1.6s\n",
      "[CV] END activation=tanh, alpha=0.01, hidden_layer_sizes=(64,), learning_rate=constant, solver=adam; total time=   1.5s\n",
      "[CV] END activation=tanh, alpha=0.01, hidden_layer_sizes=(64,), learning_rate=constant, solver=adam; total time=   1.6s\n",
      "[CV] END activation=tanh, alpha=0.01, hidden_layer_sizes=(64,), learning_rate=constant, solver=adam; total time=   1.6s\n",
      "[CV] END activation=tanh, alpha=0.01, hidden_layer_sizes=(64,), learning_rate=constant, solver=adam; total time=   1.8s\n"
     ]
    },
    {
     "name": "stderr",
     "output_type": "stream",
     "text": [
      "/Users/lucia/opt/anaconda3/lib/python3.9/site-packages/sklearn/neural_network/_multilayer_perceptron.py:686: ConvergenceWarning: Stochastic Optimizer: Maximum iterations (1000) reached and the optimization hasn't converged yet.\n",
      "  warnings.warn(\n"
     ]
    },
    {
     "name": "stdout",
     "output_type": "stream",
     "text": [
      "[CV] END activation=tanh, alpha=0.01, hidden_layer_sizes=(64,), learning_rate=adaptive, solver=sgd; total time=   0.3s\n",
      "[CV] END activation=tanh, alpha=0.01, hidden_layer_sizes=(64,), learning_rate=adaptive, solver=sgd; total time=   0.3s\n"
     ]
    },
    {
     "name": "stderr",
     "output_type": "stream",
     "text": [
      "/Users/lucia/opt/anaconda3/lib/python3.9/site-packages/sklearn/neural_network/_multilayer_perceptron.py:686: ConvergenceWarning: Stochastic Optimizer: Maximum iterations (1000) reached and the optimization hasn't converged yet.\n",
      "  warnings.warn(\n",
      "/Users/lucia/opt/anaconda3/lib/python3.9/site-packages/sklearn/neural_network/_multilayer_perceptron.py:686: ConvergenceWarning: Stochastic Optimizer: Maximum iterations (1000) reached and the optimization hasn't converged yet.\n",
      "  warnings.warn(\n",
      "/Users/lucia/opt/anaconda3/lib/python3.9/site-packages/sklearn/neural_network/_multilayer_perceptron.py:686: ConvergenceWarning: Stochastic Optimizer: Maximum iterations (1000) reached and the optimization hasn't converged yet.\n",
      "  warnings.warn(\n",
      "/Users/lucia/opt/anaconda3/lib/python3.9/site-packages/sklearn/neural_network/_multilayer_perceptron.py:686: ConvergenceWarning: Stochastic Optimizer: Maximum iterations (1000) reached and the optimization hasn't converged yet.\n",
      "  warnings.warn(\n"
     ]
    },
    {
     "name": "stdout",
     "output_type": "stream",
     "text": [
      "[CV] END activation=tanh, alpha=0.01, hidden_layer_sizes=(64,), learning_rate=adaptive, solver=adam; total time=   1.5s\n",
      "[CV] END activation=tanh, alpha=0.01, hidden_layer_sizes=(64,), learning_rate=adaptive, solver=sgd; total time=   0.3s\n",
      "[CV] END activation=tanh, alpha=0.001, hidden_layer_sizes=(100, 50, 25), learning_rate=adaptive, solver=adam; total time=   4.3s\n",
      "[CV] END activation=tanh, alpha=0.001, hidden_layer_sizes=(100, 50, 25), learning_rate=adaptive, solver=adam; total time=   4.6s\n",
      "[CV] END activation=tanh, alpha=0.01, hidden_layer_sizes=(64,), learning_rate=adaptive, solver=adam; total time=   1.5s\n",
      "[CV] END activation=tanh, alpha=0.01, hidden_layer_sizes=(64,), learning_rate=adaptive, solver=sgd; total time=   0.3s\n",
      "[CV] END activation=tanh, alpha=0.01, hidden_layer_sizes=(64,), learning_rate=adaptive, solver=sgd; total time=   0.4s\n",
      "[CV] END activation=tanh, alpha=0.01, hidden_layer_sizes=(64,), learning_rate=adaptive, solver=adam; total time=   1.6s\n"
     ]
    },
    {
     "name": "stderr",
     "output_type": "stream",
     "text": [
      "/Users/lucia/opt/anaconda3/lib/python3.9/site-packages/sklearn/neural_network/_multilayer_perceptron.py:686: ConvergenceWarning: Stochastic Optimizer: Maximum iterations (1000) reached and the optimization hasn't converged yet.\n",
      "  warnings.warn(\n"
     ]
    },
    {
     "name": "stdout",
     "output_type": "stream",
     "text": [
      "[CV] END activation=tanh, alpha=0.01, hidden_layer_sizes=(64,), learning_rate=adaptive, solver=adam; total time=   1.8s\n",
      "[CV] END activation=tanh, alpha=0.01, hidden_layer_sizes=(64,), learning_rate=adaptive, solver=adam; total time=   1.7s\n",
      "[CV] END activation=tanh, alpha=0.01, hidden_layer_sizes=(64, 32), learning_rate=constant, solver=sgd; total time=   0.6s\n",
      "[CV] END activation=tanh, alpha=0.01, hidden_layer_sizes=(64, 32), learning_rate=constant, solver=sgd; total time=   0.4s\n",
      "[CV] END activation=tanh, alpha=0.01, hidden_layer_sizes=(64, 32), learning_rate=constant, solver=sgd; total time=   0.5s\n",
      "[CV] END activation=tanh, alpha=0.01, hidden_layer_sizes=(64, 32), learning_rate=constant, solver=sgd; total time=   0.4s\n",
      "[CV] END activation=tanh, alpha=0.01, hidden_layer_sizes=(64, 32), learning_rate=constant, solver=sgd; total time=   0.5s\n"
     ]
    },
    {
     "name": "stderr",
     "output_type": "stream",
     "text": [
      "/Users/lucia/opt/anaconda3/lib/python3.9/site-packages/sklearn/neural_network/_multilayer_perceptron.py:686: ConvergenceWarning: Stochastic Optimizer: Maximum iterations (1000) reached and the optimization hasn't converged yet.\n",
      "  warnings.warn(\n",
      "/Users/lucia/opt/anaconda3/lib/python3.9/site-packages/sklearn/neural_network/_multilayer_perceptron.py:686: ConvergenceWarning: Stochastic Optimizer: Maximum iterations (1000) reached and the optimization hasn't converged yet.\n",
      "  warnings.warn(\n",
      "/Users/lucia/opt/anaconda3/lib/python3.9/site-packages/sklearn/neural_network/_multilayer_perceptron.py:686: ConvergenceWarning: Stochastic Optimizer: Maximum iterations (1000) reached and the optimization hasn't converged yet.\n",
      "  warnings.warn(\n"
     ]
    },
    {
     "name": "stdout",
     "output_type": "stream",
     "text": [
      "[CV] END activation=tanh, alpha=0.01, hidden_layer_sizes=(64, 32), learning_rate=constant, solver=adam; total time=   2.5s\n",
      "[CV] END activation=tanh, alpha=0.01, hidden_layer_sizes=(64, 32), learning_rate=constant, solver=adam; total time=   2.5s\n",
      "[CV] END activation=tanh, alpha=0.01, hidden_layer_sizes=(64, 32), learning_rate=constant, solver=adam; total time=   2.5s\n"
     ]
    },
    {
     "name": "stderr",
     "output_type": "stream",
     "text": [
      "/Users/lucia/opt/anaconda3/lib/python3.9/site-packages/sklearn/neural_network/_multilayer_perceptron.py:686: ConvergenceWarning: Stochastic Optimizer: Maximum iterations (1000) reached and the optimization hasn't converged yet.\n",
      "  warnings.warn(\n",
      "/Users/lucia/opt/anaconda3/lib/python3.9/site-packages/sklearn/neural_network/_multilayer_perceptron.py:686: ConvergenceWarning: Stochastic Optimizer: Maximum iterations (1000) reached and the optimization hasn't converged yet.\n",
      "  warnings.warn(\n"
     ]
    },
    {
     "name": "stdout",
     "output_type": "stream",
     "text": [
      "[CV] END activation=tanh, alpha=0.01, hidden_layer_sizes=(64, 32), learning_rate=constant, solver=adam; total time=   2.5s\n",
      "[CV] END activation=tanh, alpha=0.01, hidden_layer_sizes=(64, 32), learning_rate=constant, solver=adam; total time=   2.5s\n",
      "[CV] END activation=tanh, alpha=0.01, hidden_layer_sizes=(64, 32), learning_rate=adaptive, solver=sgd; total time=   0.5s\n",
      "[CV] END activation=tanh, alpha=0.01, hidden_layer_sizes=(64, 32), learning_rate=adaptive, solver=adam; total time=   2.2s\n",
      "[CV] END activation=tanh, alpha=0.01, hidden_layer_sizes=(64, 32), learning_rate=adaptive, solver=sgd; total time=   0.5s\n",
      "[CV] END activation=tanh, alpha=0.01, hidden_layer_sizes=(64, 32), learning_rate=adaptive, solver=sgd; total time=   0.5s\n"
     ]
    },
    {
     "name": "stderr",
     "output_type": "stream",
     "text": [
      "/Users/lucia/opt/anaconda3/lib/python3.9/site-packages/sklearn/neural_network/_multilayer_perceptron.py:686: ConvergenceWarning: Stochastic Optimizer: Maximum iterations (1000) reached and the optimization hasn't converged yet.\n",
      "  warnings.warn(\n"
     ]
    },
    {
     "name": "stdout",
     "output_type": "stream",
     "text": [
      "[CV] END activation=tanh, alpha=0.01, hidden_layer_sizes=(64, 32), learning_rate=adaptive, solver=sgd; total time=   0.4s\n",
      "[CV] END activation=tanh, alpha=0.01, hidden_layer_sizes=(64, 32), learning_rate=adaptive, solver=adam; total time=   2.3s\n",
      "[CV] END activation=tanh, alpha=0.01, hidden_layer_sizes=(64, 32), learning_rate=adaptive, solver=sgd; total time=   0.6s\n",
      "[CV] END activation=tanh, alpha=0.01, hidden_layer_sizes=(64, 32), learning_rate=adaptive, solver=adam; total time=   2.3s\n"
     ]
    },
    {
     "name": "stderr",
     "output_type": "stream",
     "text": [
      "/Users/lucia/opt/anaconda3/lib/python3.9/site-packages/sklearn/neural_network/_multilayer_perceptron.py:686: ConvergenceWarning: Stochastic Optimizer: Maximum iterations (1000) reached and the optimization hasn't converged yet.\n",
      "  warnings.warn(\n",
      "/Users/lucia/opt/anaconda3/lib/python3.9/site-packages/sklearn/neural_network/_multilayer_perceptron.py:686: ConvergenceWarning: Stochastic Optimizer: Maximum iterations (1000) reached and the optimization hasn't converged yet.\n",
      "  warnings.warn(\n"
     ]
    },
    {
     "name": "stdout",
     "output_type": "stream",
     "text": [
      "[CV] END activation=tanh, alpha=0.01, hidden_layer_sizes=(128, 64), learning_rate=constant, solver=adam; total time=   0.1s\n",
      "[CV] END activation=tanh, alpha=0.01, hidden_layer_sizes=(128, 64), learning_rate=constant, solver=sgd; total time=   0.1s\n",
      "[CV] END activation=tanh, alpha=0.01, hidden_layer_sizes=(128, 64), learning_rate=constant, solver=sgd; total time=   0.1s\n",
      "[CV] END activation=tanh, alpha=0.01, hidden_layer_sizes=(128, 64), learning_rate=constant, solver=sgd; total time=   0.1s\n",
      "[CV] END activation=tanh, alpha=0.01, hidden_layer_sizes=(128, 64), learning_rate=constant, solver=sgd; total time=   0.1s\n"
     ]
    },
    {
     "name": "stderr",
     "output_type": "stream",
     "text": [
      "/Users/lucia/opt/anaconda3/lib/python3.9/site-packages/sklearn/neural_network/_multilayer_perceptron.py:686: ConvergenceWarning: Stochastic Optimizer: Maximum iterations (1000) reached and the optimization hasn't converged yet.\n",
      "  warnings.warn(\n",
      "/Users/lucia/opt/anaconda3/lib/python3.9/site-packages/sklearn/neural_network/_multilayer_perceptron.py:686: ConvergenceWarning: Stochastic Optimizer: Maximum iterations (1000) reached and the optimization hasn't converged yet.\n",
      "  warnings.warn(\n"
     ]
    },
    {
     "name": "stdout",
     "output_type": "stream",
     "text": [
      "[CV] END activation=tanh, alpha=0.01, hidden_layer_sizes=(64, 32), learning_rate=adaptive, solver=adam; total time=   2.2s\n",
      "[CV] END activation=tanh, alpha=0.01, hidden_layer_sizes=(128, 64), learning_rate=constant, solver=sgd; total time=   0.7s\n",
      "[CV] END activation=tanh, alpha=0.01, hidden_layer_sizes=(64, 32), learning_rate=adaptive, solver=adam; total time=   2.1s\n"
     ]
    },
    {
     "name": "stderr",
     "output_type": "stream",
     "text": [
      "/Users/lucia/opt/anaconda3/lib/python3.9/site-packages/sklearn/neural_network/_multilayer_perceptron.py:686: ConvergenceWarning: Stochastic Optimizer: Maximum iterations (1000) reached and the optimization hasn't converged yet.\n",
      "  warnings.warn(\n",
      "/Users/lucia/opt/anaconda3/lib/python3.9/site-packages/sklearn/neural_network/_multilayer_perceptron.py:686: ConvergenceWarning: Stochastic Optimizer: Maximum iterations (1000) reached and the optimization hasn't converged yet.\n",
      "  warnings.warn(\n"
     ]
    },
    {
     "name": "stdout",
     "output_type": "stream",
     "text": [
      "[CV] END activation=tanh, alpha=0.01, hidden_layer_sizes=(128, 64), learning_rate=constant, solver=adam; total time=   4.2s\n",
      "[CV] END activation=tanh, alpha=0.01, hidden_layer_sizes=(128, 64), learning_rate=constant, solver=adam; total time=   4.1s\n",
      "[CV] END activation=tanh, alpha=0.01, hidden_layer_sizes=(128, 64), learning_rate=adaptive, solver=adam; total time=   0.1s\n"
     ]
    },
    {
     "name": "stderr",
     "output_type": "stream",
     "text": [
      "/Users/lucia/opt/anaconda3/lib/python3.9/site-packages/sklearn/neural_network/_multilayer_perceptron.py:686: ConvergenceWarning: Stochastic Optimizer: Maximum iterations (1000) reached and the optimization hasn't converged yet.\n",
      "  warnings.warn(\n",
      "/Users/lucia/opt/anaconda3/lib/python3.9/site-packages/sklearn/neural_network/_multilayer_perceptron.py:686: ConvergenceWarning: Stochastic Optimizer: Maximum iterations (1000) reached and the optimization hasn't converged yet.\n",
      "  warnings.warn(\n"
     ]
    },
    {
     "name": "stdout",
     "output_type": "stream",
     "text": [
      "[CV] END activation=tanh, alpha=0.01, hidden_layer_sizes=(128, 64), learning_rate=constant, solver=adam; total time=   4.2s\n",
      "[CV] END activation=tanh, alpha=0.01, hidden_layer_sizes=(128, 64), learning_rate=constant, solver=adam; total time=   4.2s\n",
      "[CV] END activation=tanh, alpha=0.01, hidden_layer_sizes=(128, 64), learning_rate=adaptive, solver=sgd; total time=   0.4s\n",
      "[CV] END activation=tanh, alpha=0.01, hidden_layer_sizes=(128, 64), learning_rate=adaptive, solver=sgd; total time=   0.4s\n",
      "[CV] END activation=tanh, alpha=0.01, hidden_layer_sizes=(128, 64), learning_rate=adaptive, solver=sgd; total time=   0.4s\n",
      "[CV] END activation=tanh, alpha=0.01, hidden_layer_sizes=(128, 64), learning_rate=adaptive, solver=sgd; total time=   0.4s\n",
      "[CV] END activation=tanh, alpha=0.01, hidden_layer_sizes=(128, 64), learning_rate=adaptive, solver=adam; total time=   4.3s\n"
     ]
    },
    {
     "name": "stderr",
     "output_type": "stream",
     "text": [
      "/Users/lucia/opt/anaconda3/lib/python3.9/site-packages/sklearn/neural_network/_multilayer_perceptron.py:686: ConvergenceWarning: Stochastic Optimizer: Maximum iterations (1000) reached and the optimization hasn't converged yet.\n",
      "  warnings.warn(\n",
      "/Users/lucia/opt/anaconda3/lib/python3.9/site-packages/sklearn/neural_network/_multilayer_perceptron.py:686: ConvergenceWarning: Stochastic Optimizer: Maximum iterations (1000) reached and the optimization hasn't converged yet.\n",
      "  warnings.warn(\n",
      "/Users/lucia/opt/anaconda3/lib/python3.9/site-packages/sklearn/neural_network/_multilayer_perceptron.py:686: ConvergenceWarning: Stochastic Optimizer: Maximum iterations (1000) reached and the optimization hasn't converged yet.\n",
      "  warnings.warn(\n",
      "/Users/lucia/opt/anaconda3/lib/python3.9/site-packages/sklearn/neural_network/_multilayer_perceptron.py:686: ConvergenceWarning: Stochastic Optimizer: Maximum iterations (1000) reached and the optimization hasn't converged yet.\n",
      "  warnings.warn(\n"
     ]
    },
    {
     "name": "stdout",
     "output_type": "stream",
     "text": [
      "[CV] END activation=tanh, alpha=0.01, hidden_layer_sizes=(128, 64), learning_rate=adaptive, solver=adam; total time=   4.1s\n",
      "[CV] END activation=tanh, alpha=0.01, hidden_layer_sizes=(128, 64), learning_rate=adaptive, solver=sgd; total time=   1.0s\n",
      "[CV] END activation=tanh, alpha=0.01, hidden_layer_sizes=(128, 64), learning_rate=adaptive, solver=adam; total time=   4.2s\n",
      "[CV] END activation=tanh, alpha=0.01, hidden_layer_sizes=(128, 64), learning_rate=adaptive, solver=adam; total time=   4.2s\n",
      "[CV] END activation=tanh, alpha=0.01, hidden_layer_sizes=(100, 50, 25), learning_rate=constant, solver=sgd; total time=   0.2s\n",
      "[CV] END activation=tanh, alpha=0.01, hidden_layer_sizes=(100, 50, 25), learning_rate=constant, solver=sgd; total time=   0.2s\n",
      "[CV] END activation=tanh, alpha=0.01, hidden_layer_sizes=(100, 50, 25), learning_rate=constant, solver=sgd; total time=   0.2s\n",
      "[CV] END activation=tanh, alpha=0.01, hidden_layer_sizes=(100, 50, 25), learning_rate=constant, solver=sgd; total time=   0.3s\n",
      "[CV] END activation=tanh, alpha=0.01, hidden_layer_sizes=(100, 50, 25), learning_rate=constant, solver=sgd; total time=   0.3s\n"
     ]
    },
    {
     "name": "stderr",
     "output_type": "stream",
     "text": [
      "[codecarbon INFO @ 01:25:54] Energy consumed for RAM : 0.000075 kWh. RAM Power : 3.0 W\n",
      "[codecarbon INFO @ 01:25:54] Energy consumed for all CPUs : 0.000125 kWh. Total CPU Power : 5.0 W\n",
      "[codecarbon INFO @ 01:25:54] 0.000200 kWh of electricity used since the beginning.\n",
      "/Users/lucia/opt/anaconda3/lib/python3.9/site-packages/sklearn/neural_network/_multilayer_perceptron.py:686: ConvergenceWarning: Stochastic Optimizer: Maximum iterations (1000) reached and the optimization hasn't converged yet.\n",
      "  warnings.warn(\n"
     ]
    },
    {
     "name": "stdout",
     "output_type": "stream",
     "text": [
      "[CV] END activation=tanh, alpha=0.01, hidden_layer_sizes=(100, 50, 25), learning_rate=constant, solver=adam; total time=   3.8s\n"
     ]
    },
    {
     "name": "stderr",
     "output_type": "stream",
     "text": [
      "/Users/lucia/opt/anaconda3/lib/python3.9/site-packages/sklearn/neural_network/_multilayer_perceptron.py:686: ConvergenceWarning: Stochastic Optimizer: Maximum iterations (1000) reached and the optimization hasn't converged yet.\n",
      "  warnings.warn(\n",
      "/Users/lucia/opt/anaconda3/lib/python3.9/site-packages/sklearn/neural_network/_multilayer_perceptron.py:686: ConvergenceWarning: Stochastic Optimizer: Maximum iterations (1000) reached and the optimization hasn't converged yet.\n",
      "  warnings.warn(\n",
      "/Users/lucia/opt/anaconda3/lib/python3.9/site-packages/sklearn/neural_network/_multilayer_perceptron.py:686: ConvergenceWarning: Stochastic Optimizer: Maximum iterations (1000) reached and the optimization hasn't converged yet.\n",
      "  warnings.warn(\n"
     ]
    },
    {
     "name": "stdout",
     "output_type": "stream",
     "text": [
      "[CV] END activation=tanh, alpha=0.01, hidden_layer_sizes=(100, 50, 25), learning_rate=constant, solver=adam; total time=   3.9s\n",
      "[CV] END activation=tanh, alpha=0.01, hidden_layer_sizes=(100, 50, 25), learning_rate=constant, solver=adam; total time=   3.8s\n",
      "[CV] END activation=tanh, alpha=0.01, hidden_layer_sizes=(100, 50, 25), learning_rate=constant, solver=adam; total time=   3.8s\n",
      "[CV] END activation=tanh, alpha=0.01, hidden_layer_sizes=(100, 50, 25), learning_rate=adaptive, solver=sgd; total time=   0.4s\n",
      "[CV] END activation=tanh, alpha=0.01, hidden_layer_sizes=(100, 50, 25), learning_rate=constant, solver=adam; total time=   3.9s[CV] END activation=tanh, alpha=0.01, hidden_layer_sizes=(100, 50, 25), learning_rate=adaptive, solver=sgd; total time=   0.5s\n",
      "\n"
     ]
    },
    {
     "name": "stderr",
     "output_type": "stream",
     "text": [
      "/Users/lucia/opt/anaconda3/lib/python3.9/site-packages/sklearn/neural_network/_multilayer_perceptron.py:686: ConvergenceWarning: Stochastic Optimizer: Maximum iterations (1000) reached and the optimization hasn't converged yet.\n",
      "  warnings.warn(\n",
      "/Users/lucia/opt/anaconda3/lib/python3.9/site-packages/sklearn/neural_network/_multilayer_perceptron.py:686: ConvergenceWarning: Stochastic Optimizer: Maximum iterations (1000) reached and the optimization hasn't converged yet.\n",
      "  warnings.warn(\n"
     ]
    },
    {
     "name": "stdout",
     "output_type": "stream",
     "text": [
      "[CV] END activation=tanh, alpha=0.01, hidden_layer_sizes=(100, 50, 25), learning_rate=adaptive, solver=adam; total time=   3.7s\n",
      "[CV] END activation=tanh, alpha=0.01, hidden_layer_sizes=(100, 50, 25), learning_rate=adaptive, solver=sgd; total time=   0.4s\n",
      "[CV] END activation=logistic, alpha=0.0001, hidden_layer_sizes=(64,), learning_rate=constant, solver=adam; total time=   0.1s\n",
      "[CV] END activation=logistic, alpha=0.0001, hidden_layer_sizes=(64,), learning_rate=constant, solver=adam; total time=   0.1s\n",
      "[CV] END activation=tanh, alpha=0.01, hidden_layer_sizes=(100, 50, 25), learning_rate=adaptive, solver=adam; total time=   3.7s\n",
      "[CV] END activation=logistic, alpha=0.0001, hidden_layer_sizes=(64,), learning_rate=constant, solver=adam; total time=   0.2s\n",
      "[CV] END activation=tanh, alpha=0.01, hidden_layer_sizes=(100, 50, 25), learning_rate=adaptive, solver=sgd; total time=   0.5s\n",
      "[CV] END activation=tanh, alpha=0.01, hidden_layer_sizes=(100, 50, 25), learning_rate=adaptive, solver=sgd; total time=   0.5s\n",
      "[CV] END activation=logistic, alpha=0.0001, hidden_layer_sizes=(64,), learning_rate=constant, solver=adam; total time=   0.1s\n",
      "[CV] END activation=logistic, alpha=0.0001, hidden_layer_sizes=(64,), learning_rate=constant, solver=sgd; total time=   0.1s\n",
      "[CV] END activation=logistic, alpha=0.0001, hidden_layer_sizes=(64,), learning_rate=constant, solver=adam; total time=   0.1s\n",
      "[CV] END activation=logistic, alpha=0.0001, hidden_layer_sizes=(64,), learning_rate=constant, solver=sgd; total time=   0.1s\n",
      "[CV] END activation=logistic, alpha=0.0001, hidden_layer_sizes=(64,), learning_rate=constant, solver=sgd; total time=   0.1s\n",
      "[CV] END activation=tanh, alpha=0.01, hidden_layer_sizes=(100, 50, 25), learning_rate=adaptive, solver=adam; total time=   3.8s\n"
     ]
    },
    {
     "name": "stderr",
     "output_type": "stream",
     "text": [
      "/Users/lucia/opt/anaconda3/lib/python3.9/site-packages/sklearn/neural_network/_multilayer_perceptron.py:686: ConvergenceWarning: Stochastic Optimizer: Maximum iterations (1000) reached and the optimization hasn't converged yet.\n",
      "  warnings.warn(\n",
      "/Users/lucia/opt/anaconda3/lib/python3.9/site-packages/sklearn/neural_network/_multilayer_perceptron.py:686: ConvergenceWarning: Stochastic Optimizer: Maximum iterations (1000) reached and the optimization hasn't converged yet.\n",
      "  warnings.warn(\n"
     ]
    },
    {
     "name": "stdout",
     "output_type": "stream",
     "text": [
      "[CV] END activation=logistic, alpha=0.0001, hidden_layer_sizes=(64,), learning_rate=constant, solver=sgd; total time=   0.1s\n",
      "[CV] END activation=logistic, alpha=0.0001, hidden_layer_sizes=(64,), learning_rate=constant, solver=sgd; total time=   0.1s\n",
      "[CV] END activation=logistic, alpha=0.0001, hidden_layer_sizes=(64,), learning_rate=adaptive, solver=adam; total time=   0.1s\n",
      "[CV] END activation=logistic, alpha=0.0001, hidden_layer_sizes=(64,), learning_rate=adaptive, solver=adam; total time=   0.1s\n",
      "[CV] END activation=logistic, alpha=0.0001, hidden_layer_sizes=(64,), learning_rate=adaptive, solver=adam; total time=   0.2s\n",
      "[CV] END activation=logistic, alpha=0.0001, hidden_layer_sizes=(64,), learning_rate=adaptive, solver=adam; total time=   0.2s\n",
      "[CV] END activation=logistic, alpha=0.0001, hidden_layer_sizes=(64,), learning_rate=adaptive, solver=adam; total time=   0.1s\n",
      "[CV] END activation=logistic, alpha=0.0001, hidden_layer_sizes=(64,), learning_rate=adaptive, solver=sgd; total time=   0.2s\n",
      "[CV] END activation=logistic, alpha=0.0001, hidden_layer_sizes=(64,), learning_rate=adaptive, solver=sgd; total time=   0.2s\n",
      "[CV] END activation=logistic, alpha=0.0001, hidden_layer_sizes=(64, 32), learning_rate=constant, solver=adam; total time=   0.1s\n",
      "[CV] END activation=logistic, alpha=0.0001, hidden_layer_sizes=(64,), learning_rate=adaptive, solver=sgd; total time=   0.2s\n",
      "[CV] END activation=logistic, alpha=0.0001, hidden_layer_sizes=(64,), learning_rate=adaptive, solver=sgd; total time=   0.2s\n",
      "[CV] END activation=logistic, alpha=0.0001, hidden_layer_sizes=(64, 32), learning_rate=constant, solver=adam; total time=   0.1s\n",
      "[CV] END activation=logistic, alpha=0.0001, hidden_layer_sizes=(64, 32), learning_rate=constant, solver=adam; total time=   0.1s\n",
      "[CV] END activation=logistic, alpha=0.0001, hidden_layer_sizes=(64,), learning_rate=adaptive, solver=sgd; total time=   0.3s\n",
      "[CV] END activation=logistic, alpha=0.0001, hidden_layer_sizes=(64, 32), learning_rate=constant, solver=adam; total time=   0.1s\n",
      "[CV] END activation=logistic, alpha=0.0001, hidden_layer_sizes=(64, 32), learning_rate=constant, solver=adam; total time=   0.2s\n",
      "[CV] END activation=logistic, alpha=0.0001, hidden_layer_sizes=(64, 32), learning_rate=constant, solver=sgd; total time=   0.3s\n",
      "[CV] END activation=logistic, alpha=0.0001, hidden_layer_sizes=(64, 32), learning_rate=constant, solver=sgd; total time=   0.2s\n",
      "[CV] END activation=logistic, alpha=0.0001, hidden_layer_sizes=(64, 32), learning_rate=adaptive, solver=adam; total time=   0.1s\n",
      "[CV] END activation=logistic, alpha=0.0001, hidden_layer_sizes=(64, 32), learning_rate=constant, solver=sgd; total time=   0.3s\n",
      "[CV] END activation=logistic, alpha=0.0001, hidden_layer_sizes=(64, 32), learning_rate=constant, solver=sgd; total time=   0.3s\n",
      "[CV] END activation=logistic, alpha=0.0001, hidden_layer_sizes=(64, 32), learning_rate=constant, solver=sgd; total time=   0.2s\n",
      "[CV] END activation=logistic, alpha=0.0001, hidden_layer_sizes=(64, 32), learning_rate=adaptive, solver=adam; total time=   0.1s\n",
      "[CV] END activation=logistic, alpha=0.0001, hidden_layer_sizes=(64, 32), learning_rate=adaptive, solver=adam; total time=   0.1s\n",
      "[CV] END activation=logistic, alpha=0.0001, hidden_layer_sizes=(64, 32), learning_rate=adaptive, solver=adam; total time=   0.1s\n",
      "[CV] END activation=logistic, alpha=0.0001, hidden_layer_sizes=(64, 32), learning_rate=adaptive, solver=adam; total time=   0.2s\n",
      "[CV] END activation=logistic, alpha=0.0001, hidden_layer_sizes=(128, 64), learning_rate=constant, solver=adam; total time=   0.1s\n",
      "[CV] END activation=logistic, alpha=0.0001, hidden_layer_sizes=(64, 32), learning_rate=adaptive, solver=sgd; total time=   0.3s\n",
      "[CV] END activation=logistic, alpha=0.0001, hidden_layer_sizes=(64, 32), learning_rate=adaptive, solver=sgd; total time=   0.4s\n",
      "[CV] END activation=logistic, alpha=0.0001, hidden_layer_sizes=(64, 32), learning_rate=adaptive, solver=sgd; total time=   0.3s\n",
      "[CV] END activation=logistic, alpha=0.0001, hidden_layer_sizes=(64, 32), learning_rate=adaptive, solver=sgd; total time=   0.4s\n",
      "[CV] END activation=logistic, alpha=0.0001, hidden_layer_sizes=(128, 64), learning_rate=constant, solver=adam; total time=   0.2s\n",
      "[CV] END activation=logistic, alpha=0.0001, hidden_layer_sizes=(64, 32), learning_rate=adaptive, solver=sgd; total time=   0.4s\n",
      "[CV] END activation=logistic, alpha=0.0001, hidden_layer_sizes=(128, 64), learning_rate=constant, solver=adam; total time=   0.1s\n",
      "[CV] END activation=logistic, alpha=0.0001, hidden_layer_sizes=(128, 64), learning_rate=constant, solver=adam; total time=   0.2s\n",
      "[CV] END activation=logistic, alpha=0.0001, hidden_layer_sizes=(128, 64), learning_rate=constant, solver=adam; total time=   0.3s\n",
      "[CV] END activation=logistic, alpha=0.0001, hidden_layer_sizes=(128, 64), learning_rate=adaptive, solver=adam; total time=   0.1s\n",
      "[CV] END activation=logistic, alpha=0.0001, hidden_layer_sizes=(128, 64), learning_rate=constant, solver=sgd; total time=   0.2s\n",
      "[CV] END activation=logistic, alpha=0.0001, hidden_layer_sizes=(128, 64), learning_rate=constant, solver=sgd; total time=   0.3s\n",
      "[CV] END activation=logistic, alpha=0.0001, hidden_layer_sizes=(128, 64), learning_rate=constant, solver=sgd; total time=   0.3s\n",
      "[CV] END activation=logistic, alpha=0.0001, hidden_layer_sizes=(128, 64), learning_rate=constant, solver=sgd; total time=   0.3s\n",
      "[CV] END activation=logistic, alpha=0.0001, hidden_layer_sizes=(128, 64), learning_rate=adaptive, solver=adam; total time=   0.1s\n",
      "[CV] END activation=logistic, alpha=0.0001, hidden_layer_sizes=(128, 64), learning_rate=adaptive, solver=adam; total time=   0.2s\n",
      "[CV] END activation=logistic, alpha=0.0001, hidden_layer_sizes=(128, 64), learning_rate=constant, solver=sgd; total time=   0.3s\n",
      "[CV] END activation=logistic, alpha=0.0001, hidden_layer_sizes=(128, 64), learning_rate=adaptive, solver=adam; total time=   0.2s\n",
      "[CV] END activation=logistic, alpha=0.0001, hidden_layer_sizes=(128, 64), learning_rate=adaptive, solver=adam; total time=   0.3s\n",
      "[CV] END activation=logistic, alpha=0.0001, hidden_layer_sizes=(128, 64), learning_rate=adaptive, solver=sgd; total time=   0.4s\n",
      "[CV] END activation=logistic, alpha=0.0001, hidden_layer_sizes=(100, 50, 25), learning_rate=constant, solver=adam; total time=   0.3s\n",
      "[CV] END activation=logistic, alpha=0.0001, hidden_layer_sizes=(128, 64), learning_rate=adaptive, solver=sgd; total time=   0.5s\n",
      "[CV] END activation=logistic, alpha=0.0001, hidden_layer_sizes=(128, 64), learning_rate=adaptive, solver=sgd; total time=   0.4s\n",
      "[CV] END activation=logistic, alpha=0.0001, hidden_layer_sizes=(128, 64), learning_rate=adaptive, solver=sgd; total time=   0.5s\n"
     ]
    },
    {
     "name": "stderr",
     "output_type": "stream",
     "text": [
      "/Users/lucia/opt/anaconda3/lib/python3.9/site-packages/sklearn/neural_network/_multilayer_perceptron.py:686: ConvergenceWarning: Stochastic Optimizer: Maximum iterations (1000) reached and the optimization hasn't converged yet.\n",
      "  warnings.warn(\n"
     ]
    },
    {
     "name": "stdout",
     "output_type": "stream",
     "text": [
      "[CV] END activation=tanh, alpha=0.01, hidden_layer_sizes=(100, 50, 25), learning_rate=adaptive, solver=adam; total time=   3.7s\n",
      "[CV] END activation=logistic, alpha=0.0001, hidden_layer_sizes=(128, 64), learning_rate=adaptive, solver=sgd; total time=   0.5s\n",
      "[CV] END activation=logistic, alpha=0.0001, hidden_layer_sizes=(100, 50, 25), learning_rate=constant, solver=adam; total time=   0.3s\n",
      "[CV] END activation=logistic, alpha=0.0001, hidden_layer_sizes=(100, 50, 25), learning_rate=constant, solver=adam; total time=   0.3s\n",
      "[CV] END activation=logistic, alpha=0.0001, hidden_layer_sizes=(100, 50, 25), learning_rate=constant, solver=adam; total time=   0.3s\n",
      "[CV] END activation=logistic, alpha=0.0001, hidden_layer_sizes=(100, 50, 25), learning_rate=constant, solver=adam; total time=   0.3s\n",
      "[CV] END activation=logistic, alpha=0.0001, hidden_layer_sizes=(100, 50, 25), learning_rate=constant, solver=sgd; total time=   0.4s\n",
      "[CV] END activation=logistic, alpha=0.0001, hidden_layer_sizes=(100, 50, 25), learning_rate=constant, solver=sgd; total time=   0.4s\n",
      "[CV] END activation=logistic, alpha=0.0001, hidden_layer_sizes=(100, 50, 25), learning_rate=constant, solver=sgd; total time=   0.4s\n",
      "[CV] END activation=logistic, alpha=0.0001, hidden_layer_sizes=(100, 50, 25), learning_rate=adaptive, solver=adam; total time=   0.3s\n",
      "[CV] END activation=logistic, alpha=0.0001, hidden_layer_sizes=(100, 50, 25), learning_rate=constant, solver=sgd; total time=   0.4s\n",
      "[CV] END activation=tanh, alpha=0.01, hidden_layer_sizes=(100, 50, 25), learning_rate=adaptive, solver=adam; total time=   3.7s\n",
      "[CV] END activation=logistic, alpha=0.0001, hidden_layer_sizes=(100, 50, 25), learning_rate=adaptive, solver=adam; total time=   0.3s\n",
      "[CV] END activation=logistic, alpha=0.0001, hidden_layer_sizes=(100, 50, 25), learning_rate=constant, solver=sgd; total time=   0.4s\n"
     ]
    },
    {
     "name": "stderr",
     "output_type": "stream",
     "text": [
      "/Users/lucia/opt/anaconda3/lib/python3.9/site-packages/sklearn/neural_network/_multilayer_perceptron.py:686: ConvergenceWarning: Stochastic Optimizer: Maximum iterations (1000) reached and the optimization hasn't converged yet.\n",
      "  warnings.warn(\n"
     ]
    },
    {
     "name": "stdout",
     "output_type": "stream",
     "text": [
      "[CV] END activation=logistic, alpha=0.0001, hidden_layer_sizes=(100, 50, 25), learning_rate=adaptive, solver=adam; total time=   0.3s\n",
      "[CV] END activation=logistic, alpha=0.0001, hidden_layer_sizes=(100, 50, 25), learning_rate=adaptive, solver=adam; total time=   0.3s\n",
      "[CV] END activation=logistic, alpha=0.0001, hidden_layer_sizes=(100, 50, 25), learning_rate=adaptive, solver=adam; total time=   0.4s\n",
      "[CV] END activation=logistic, alpha=0.001, hidden_layer_sizes=(64,), learning_rate=constant, solver=adam; total time=   0.1s\n",
      "[CV] END activation=logistic, alpha=0.001, hidden_layer_sizes=(64,), learning_rate=constant, solver=adam; total time=   0.1s\n",
      "[CV] END activation=logistic, alpha=0.001, hidden_layer_sizes=(64,), learning_rate=constant, solver=adam; total time=   0.1s\n",
      "[CV] END activation=logistic, alpha=0.001, hidden_layer_sizes=(64,), learning_rate=constant, solver=adam; total time=   0.1s\n",
      "[CV] END activation=logistic, alpha=0.001, hidden_layer_sizes=(64,), learning_rate=constant, solver=adam; total time=   0.1s\n",
      "[CV] END activation=logistic, alpha=0.0001, hidden_layer_sizes=(100, 50, 25), learning_rate=adaptive, solver=sgd; total time=   0.6s\n",
      "[CV] END activation=logistic, alpha=0.001, hidden_layer_sizes=(64,), learning_rate=constant, solver=sgd; total time=   0.1s\n",
      "[CV] END activation=logistic, alpha=0.0001, hidden_layer_sizes=(100, 50, 25), learning_rate=adaptive, solver=sgd; total time=   0.6s\n",
      "[CV] END activation=logistic, alpha=0.0001, hidden_layer_sizes=(100, 50, 25), learning_rate=adaptive, solver=sgd; total time=   0.5s\n",
      "[CV] END activation=logistic, alpha=0.001, hidden_layer_sizes=(64,), learning_rate=constant, solver=sgd; total time=   0.2s\n",
      "[CV] END activation=logistic, alpha=0.0001, hidden_layer_sizes=(100, 50, 25), learning_rate=adaptive, solver=sgd; total time=   0.6s\n",
      "[CV] END activation=logistic, alpha=0.001, hidden_layer_sizes=(64,), learning_rate=constant, solver=sgd; total time=   0.1s\n",
      "[CV] END activation=logistic, alpha=0.001, hidden_layer_sizes=(64,), learning_rate=constant, solver=sgd; total time=   0.1s\n",
      "[CV] END activation=logistic, alpha=0.001, hidden_layer_sizes=(64,), learning_rate=constant, solver=sgd; total time=   0.1s\n",
      "[CV] END activation=logistic, alpha=0.001, hidden_layer_sizes=(64,), learning_rate=adaptive, solver=adam; total time=   0.1s\n",
      "[CV] END activation=logistic, alpha=0.001, hidden_layer_sizes=(64,), learning_rate=adaptive, solver=adam; total time=   0.1s\n",
      "[CV] END activation=logistic, alpha=0.001, hidden_layer_sizes=(64,), learning_rate=adaptive, solver=adam; total time=   0.2s\n",
      "[CV] END activation=logistic, alpha=0.0001, hidden_layer_sizes=(100, 50, 25), learning_rate=adaptive, solver=sgd; total time=   0.7s\n",
      "[CV] END activation=logistic, alpha=0.001, hidden_layer_sizes=(64,), learning_rate=adaptive, solver=adam; total time=   0.2s\n",
      "[CV] END activation=logistic, alpha=0.001, hidden_layer_sizes=(64,), learning_rate=adaptive, solver=adam; total time=   0.1s\n",
      "[CV] END activation=logistic, alpha=0.001, hidden_layer_sizes=(64,), learning_rate=adaptive, solver=sgd; total time=   0.2s\n",
      "[CV] END activation=logistic, alpha=0.001, hidden_layer_sizes=(64,), learning_rate=adaptive, solver=sgd; total time=   0.2s\n",
      "[CV] END activation=logistic, alpha=0.001, hidden_layer_sizes=(64,), learning_rate=adaptive, solver=sgd; total time=   0.2s\n",
      "[CV] END activation=logistic, alpha=0.001, hidden_layer_sizes=(64, 32), learning_rate=constant, solver=adam; total time=   0.1s\n",
      "[CV] END activation=logistic, alpha=0.001, hidden_layer_sizes=(64, 32), learning_rate=constant, solver=adam; total time=   0.2s\n",
      "[CV] END activation=logistic, alpha=0.001, hidden_layer_sizes=(64, 32), learning_rate=constant, solver=adam; total time=   0.1s\n",
      "[CV] END activation=logistic, alpha=0.001, hidden_layer_sizes=(64,), learning_rate=adaptive, solver=sgd; total time=   0.2s\n",
      "[CV] END activation=logistic, alpha=0.001, hidden_layer_sizes=(64, 32), learning_rate=constant, solver=adam; total time=   0.1s\n",
      "[CV] END activation=logistic, alpha=0.001, hidden_layer_sizes=(64,), learning_rate=adaptive, solver=sgd; total time=   0.2s\n",
      "[CV] END activation=logistic, alpha=0.001, hidden_layer_sizes=(64, 32), learning_rate=constant, solver=adam; total time=   0.2s\n",
      "[CV] END activation=logistic, alpha=0.001, hidden_layer_sizes=(64, 32), learning_rate=constant, solver=sgd; total time=   0.2s\n",
      "[CV] END activation=logistic, alpha=0.001, hidden_layer_sizes=(64, 32), learning_rate=adaptive, solver=adam; total time=   0.1s\n",
      "[CV] END activation=logistic, alpha=0.001, hidden_layer_sizes=(64, 32), learning_rate=adaptive, solver=adam; total time=   0.1s\n",
      "[CV] END activation=logistic, alpha=0.001, hidden_layer_sizes=(64, 32), learning_rate=constant, solver=sgd; total time=   0.3s\n",
      "[CV] END activation=logistic, alpha=0.001, hidden_layer_sizes=(64, 32), learning_rate=constant, solver=sgd; total time=   0.2s\n",
      "[CV] END activation=logistic, alpha=0.001, hidden_layer_sizes=(64, 32), learning_rate=constant, solver=sgd; total time=   0.2s\n",
      "[CV] END activation=logistic, alpha=0.001, hidden_layer_sizes=(64, 32), learning_rate=constant, solver=sgd; total time=   0.2s\n",
      "[CV] END activation=logistic, alpha=0.001, hidden_layer_sizes=(64, 32), learning_rate=adaptive, solver=adam; total time=   0.1s\n",
      "[CV] END activation=logistic, alpha=0.001, hidden_layer_sizes=(128, 64), learning_rate=constant, solver=adam; total time=   0.1s\n",
      "[CV] END activation=logistic, alpha=0.001, hidden_layer_sizes=(64, 32), learning_rate=adaptive, solver=adam; total time=   0.2s\n",
      "[CV] END activation=logistic, alpha=0.001, hidden_layer_sizes=(64, 32), learning_rate=adaptive, solver=adam; total time=   0.2s\n",
      "[CV] END activation=logistic, alpha=0.001, hidden_layer_sizes=(128, 64), learning_rate=constant, solver=adam; total time=   0.1s\n",
      "[CV] END activation=logistic, alpha=0.001, hidden_layer_sizes=(64, 32), learning_rate=adaptive, solver=sgd; total time=   0.3s\n",
      "[CV] END activation=logistic, alpha=0.001, hidden_layer_sizes=(128, 64), learning_rate=constant, solver=adam; total time=   0.2s\n",
      "[CV] END activation=logistic, alpha=0.001, hidden_layer_sizes=(64, 32), learning_rate=adaptive, solver=sgd; total time=   0.3s\n",
      "[CV] END activation=logistic, alpha=0.001, hidden_layer_sizes=(128, 64), learning_rate=constant, solver=adam; total time=   0.2s\n",
      "[CV] END activation=logistic, alpha=0.001, hidden_layer_sizes=(64, 32), learning_rate=adaptive, solver=sgd; total time=   0.3s\n",
      "[CV] END activation=logistic, alpha=0.001, hidden_layer_sizes=(64, 32), learning_rate=adaptive, solver=sgd; total time=   0.4s\n",
      "[CV] END activation=logistic, alpha=0.001, hidden_layer_sizes=(64, 32), learning_rate=adaptive, solver=sgd; total time=   0.4s\n",
      "[CV] END activation=logistic, alpha=0.001, hidden_layer_sizes=(128, 64), learning_rate=adaptive, solver=adam; total time=   0.1s\n",
      "[CV] END activation=logistic, alpha=0.001, hidden_layer_sizes=(128, 64), learning_rate=constant, solver=adam; total time=   0.2s\n",
      "[CV] END activation=logistic, alpha=0.001, hidden_layer_sizes=(128, 64), learning_rate=constant, solver=sgd; total time=   0.3s\n",
      "[CV] END activation=logistic, alpha=0.001, hidden_layer_sizes=(128, 64), learning_rate=constant, solver=sgd; total time=   0.3s\n",
      "[CV] END activation=logistic, alpha=0.001, hidden_layer_sizes=(128, 64), learning_rate=adaptive, solver=adam; total time=   0.1s\n",
      "[CV] END activation=logistic, alpha=0.001, hidden_layer_sizes=(128, 64), learning_rate=constant, solver=sgd; total time=   0.2s\n",
      "[CV] END activation=logistic, alpha=0.001, hidden_layer_sizes=(128, 64), learning_rate=constant, solver=sgd; total time=   0.3s\n",
      "[CV] END activation=logistic, alpha=0.001, hidden_layer_sizes=(128, 64), learning_rate=constant, solver=sgd; total time=   0.2s\n",
      "[CV] END activation=logistic, alpha=0.001, hidden_layer_sizes=(128, 64), learning_rate=adaptive, solver=adam; total time=   0.2s\n",
      "[CV] END activation=logistic, alpha=0.001, hidden_layer_sizes=(128, 64), learning_rate=adaptive, solver=adam; total time=   0.3s\n",
      "[CV] END activation=logistic, alpha=0.001, hidden_layer_sizes=(128, 64), learning_rate=adaptive, solver=adam; total time=   0.2s\n",
      "[CV] END activation=logistic, alpha=0.001, hidden_layer_sizes=(100, 50, 25), learning_rate=constant, solver=adam; total time=   0.3s\n",
      "[CV] END activation=logistic, alpha=0.001, hidden_layer_sizes=(128, 64), learning_rate=adaptive, solver=sgd; total time=   0.5s\n",
      "[CV] END activation=logistic, alpha=0.001, hidden_layer_sizes=(100, 50, 25), learning_rate=constant, solver=adam; total time=   0.3s\n",
      "[CV] END activation=logistic, alpha=0.001, hidden_layer_sizes=(100, 50, 25), learning_rate=constant, solver=adam; total time=   0.3s\n",
      "[CV] END activation=logistic, alpha=0.001, hidden_layer_sizes=(128, 64), learning_rate=adaptive, solver=sgd; total time=   0.5s\n",
      "[CV] END activation=logistic, alpha=0.001, hidden_layer_sizes=(128, 64), learning_rate=adaptive, solver=sgd; total time=   0.5s\n",
      "[CV] END activation=logistic, alpha=0.001, hidden_layer_sizes=(128, 64), learning_rate=adaptive, solver=sgd; total time=   0.5s\n",
      "[CV] END activation=logistic, alpha=0.001, hidden_layer_sizes=(128, 64), learning_rate=adaptive, solver=sgd; total time=   0.5s\n",
      "[CV] END activation=logistic, alpha=0.001, hidden_layer_sizes=(100, 50, 25), learning_rate=constant, solver=adam; total time=   0.3s\n",
      "[CV] END activation=logistic, alpha=0.001, hidden_layer_sizes=(100, 50, 25), learning_rate=constant, solver=adam; total time=   0.3s\n",
      "[CV] END activation=logistic, alpha=0.001, hidden_layer_sizes=(100, 50, 25), learning_rate=adaptive, solver=adam; total time=   0.3s\n",
      "[CV] END activation=logistic, alpha=0.001, hidden_layer_sizes=(100, 50, 25), learning_rate=constant, solver=sgd; total time=   0.4s\n",
      "[CV] END activation=logistic, alpha=0.001, hidden_layer_sizes=(100, 50, 25), learning_rate=constant, solver=sgd; total time=   0.4s\n",
      "[CV] END activation=logistic, alpha=0.001, hidden_layer_sizes=(100, 50, 25), learning_rate=constant, solver=sgd; total time=   0.4s\n",
      "[CV] END activation=logistic, alpha=0.001, hidden_layer_sizes=(100, 50, 25), learning_rate=constant, solver=sgd; total time=   0.4s\n",
      "[CV] END activation=logistic, alpha=0.001, hidden_layer_sizes=(100, 50, 25), learning_rate=adaptive, solver=adam; total time=   0.2s\n",
      "[CV] END activation=logistic, alpha=0.001, hidden_layer_sizes=(100, 50, 25), learning_rate=constant, solver=sgd; total time=   0.5s\n",
      "[CV] END activation=logistic, alpha=0.001, hidden_layer_sizes=(100, 50, 25), learning_rate=adaptive, solver=adam; total time=   0.3s\n",
      "[CV] END activation=logistic, alpha=0.001, hidden_layer_sizes=(100, 50, 25), learning_rate=adaptive, solver=adam; total time=   0.3s\n",
      "[CV] END activation=logistic, alpha=0.001, hidden_layer_sizes=(100, 50, 25), learning_rate=adaptive, solver=adam; total time=   0.6s\n",
      "[CV] END activation=logistic, alpha=0.01, hidden_layer_sizes=(64,), learning_rate=constant, solver=adam; total time=   0.1s\n",
      "[CV] END activation=logistic, alpha=0.01, hidden_layer_sizes=(64,), learning_rate=constant, solver=adam; total time=   0.2s\n",
      "[CV] END activation=logistic, alpha=0.01, hidden_layer_sizes=(64,), learning_rate=constant, solver=adam; total time=   0.1s\n",
      "[CV] END activation=logistic, alpha=0.001, hidden_layer_sizes=(100, 50, 25), learning_rate=adaptive, solver=sgd; total time=   0.5s\n",
      "[CV] END activation=logistic, alpha=0.01, hidden_layer_sizes=(64,), learning_rate=constant, solver=adam; total time=   0.1s\n",
      "[CV] END activation=logistic, alpha=0.001, hidden_layer_sizes=(100, 50, 25), learning_rate=adaptive, solver=sgd; total time=   0.6s\n",
      "[CV] END activation=logistic, alpha=0.01, hidden_layer_sizes=(64,), learning_rate=constant, solver=adam; total time=   0.2s\n",
      "[CV] END activation=logistic, alpha=0.001, hidden_layer_sizes=(100, 50, 25), learning_rate=adaptive, solver=sgd; total time=   0.6s\n",
      "[CV] END activation=logistic, alpha=0.01, hidden_layer_sizes=(64,), learning_rate=constant, solver=sgd; total time=   0.1s\n",
      "[CV] END activation=logistic, alpha=0.001, hidden_layer_sizes=(100, 50, 25), learning_rate=adaptive, solver=sgd; total time=   0.5s\n",
      "[CV] END activation=logistic, alpha=0.01, hidden_layer_sizes=(64,), learning_rate=constant, solver=sgd; total time=   0.1s\n",
      "[CV] END activation=logistic, alpha=0.01, hidden_layer_sizes=(64,), learning_rate=constant, solver=sgd; total time=   0.1s\n",
      "[CV] END activation=logistic, alpha=0.01, hidden_layer_sizes=(64,), learning_rate=constant, solver=sgd; total time=   0.1s\n",
      "[CV] END activation=logistic, alpha=0.01, hidden_layer_sizes=(64,), learning_rate=adaptive, solver=adam; total time=   0.1s\n",
      "[CV] END activation=logistic, alpha=0.001, hidden_layer_sizes=(100, 50, 25), learning_rate=adaptive, solver=sgd; total time=   0.6s\n",
      "[CV] END activation=logistic, alpha=0.01, hidden_layer_sizes=(64,), learning_rate=constant, solver=sgd; total time=   0.1s\n",
      "[CV] END activation=logistic, alpha=0.01, hidden_layer_sizes=(64,), learning_rate=adaptive, solver=adam; total time=   0.1s\n",
      "[CV] END activation=logistic, alpha=0.01, hidden_layer_sizes=(64,), learning_rate=adaptive, solver=adam; total time=   0.1s\n",
      "[CV] END activation=logistic, alpha=0.01, hidden_layer_sizes=(64,), learning_rate=adaptive, solver=adam; total time=   0.1s\n",
      "[CV] END activation=logistic, alpha=0.01, hidden_layer_sizes=(64,), learning_rate=adaptive, solver=adam; total time=   0.2s\n",
      "[CV] END activation=logistic, alpha=0.01, hidden_layer_sizes=(64,), learning_rate=adaptive, solver=sgd; total time=   0.2s\n",
      "[CV] END activation=logistic, alpha=0.01, hidden_layer_sizes=(64,), learning_rate=adaptive, solver=sgd; total time=   0.2s\n",
      "[CV] END activation=logistic, alpha=0.01, hidden_layer_sizes=(64,), learning_rate=adaptive, solver=sgd; total time=   0.2s\n",
      "[CV] END activation=logistic, alpha=0.01, hidden_layer_sizes=(64,), learning_rate=adaptive, solver=sgd; total time=   0.2s\n",
      "[CV] END activation=logistic, alpha=0.01, hidden_layer_sizes=(64, 32), learning_rate=constant, solver=adam; total time=   0.1s\n",
      "[CV] END activation=logistic, alpha=0.01, hidden_layer_sizes=(64,), learning_rate=adaptive, solver=sgd; total time=   0.2s[CV] END activation=logistic, alpha=0.01, hidden_layer_sizes=(64, 32), learning_rate=constant, solver=adam; total time=   0.1s\n",
      "\n",
      "[CV] END activation=logistic, alpha=0.01, hidden_layer_sizes=(64, 32), learning_rate=constant, solver=adam; total time=   0.1s\n",
      "[CV] END activation=logistic, alpha=0.01, hidden_layer_sizes=(64, 32), learning_rate=constant, solver=adam; total time=   0.1s\n",
      "[CV] END activation=logistic, alpha=0.01, hidden_layer_sizes=(64, 32), learning_rate=constant, solver=adam; total time=   0.1s\n",
      "[CV] END activation=logistic, alpha=0.01, hidden_layer_sizes=(64, 32), learning_rate=adaptive, solver=adam; total time=   0.1s\n",
      "[CV] END activation=logistic, alpha=0.01, hidden_layer_sizes=(64, 32), learning_rate=constant, solver=sgd; total time=   0.2s\n",
      "[CV] END activation=logistic, alpha=0.01, hidden_layer_sizes=(64, 32), learning_rate=adaptive, solver=adam; total time=   0.1s\n",
      "[CV] END activation=logistic, alpha=0.01, hidden_layer_sizes=(64, 32), learning_rate=constant, solver=sgd; total time=   0.3s\n",
      "[CV] END activation=logistic, alpha=0.01, hidden_layer_sizes=(64, 32), learning_rate=adaptive, solver=adam; total time=   0.1s\n",
      "[CV] END activation=logistic, alpha=0.01, hidden_layer_sizes=(64, 32), learning_rate=constant, solver=sgd; total time=   0.2s\n",
      "[CV] END activation=logistic, alpha=0.01, hidden_layer_sizes=(64, 32), learning_rate=constant, solver=sgd; total time=   0.2s\n",
      "[CV] END activation=logistic, alpha=0.01, hidden_layer_sizes=(64, 32), learning_rate=adaptive, solver=adam; total time=   0.1s\n",
      "[CV] END activation=logistic, alpha=0.01, hidden_layer_sizes=(64, 32), learning_rate=constant, solver=sgd; total time=   0.3s\n",
      "[CV] END activation=logistic, alpha=0.01, hidden_layer_sizes=(64, 32), learning_rate=adaptive, solver=adam; total time=   0.1s\n",
      "[CV] END activation=logistic, alpha=0.01, hidden_layer_sizes=(128, 64), learning_rate=constant, solver=adam; total time=   0.1s\n",
      "[CV] END activation=logistic, alpha=0.01, hidden_layer_sizes=(128, 64), learning_rate=constant, solver=adam; total time=   0.1s\n",
      "[CV] END activation=logistic, alpha=0.01, hidden_layer_sizes=(64, 32), learning_rate=adaptive, solver=sgd; total time=   0.3s\n",
      "[CV] END activation=logistic, alpha=0.01, hidden_layer_sizes=(64, 32), learning_rate=adaptive, solver=sgd; total time=   0.3s\n",
      "[CV] END activation=logistic, alpha=0.01, hidden_layer_sizes=(64, 32), learning_rate=adaptive, solver=sgd; total time=   0.4s\n",
      "[CV] END activation=logistic, alpha=0.01, hidden_layer_sizes=(64, 32), learning_rate=adaptive, solver=sgd; total time=   0.4s\n",
      "[CV] END activation=logistic, alpha=0.01, hidden_layer_sizes=(64, 32), learning_rate=adaptive, solver=sgd; total time=   0.3s\n",
      "[CV] END activation=logistic, alpha=0.01, hidden_layer_sizes=(128, 64), learning_rate=constant, solver=adam; total time=   0.3s\n",
      "[CV] END activation=logistic, alpha=0.01, hidden_layer_sizes=(128, 64), learning_rate=constant, solver=adam; total time=   0.3s\n",
      "[CV] END activation=logistic, alpha=0.01, hidden_layer_sizes=(128, 64), learning_rate=constant, solver=adam; total time=   0.2s\n",
      "[CV] END activation=logistic, alpha=0.01, hidden_layer_sizes=(128, 64), learning_rate=adaptive, solver=adam; total time=   0.1s\n",
      "[CV] END activation=logistic, alpha=0.01, hidden_layer_sizes=(128, 64), learning_rate=constant, solver=sgd; total time=   0.2s\n",
      "[CV] END activation=logistic, alpha=0.01, hidden_layer_sizes=(128, 64), learning_rate=adaptive, solver=adam; total time=   0.2s\n",
      "[CV] END activation=logistic, alpha=0.01, hidden_layer_sizes=(128, 64), learning_rate=adaptive, solver=adam; total time=   0.1s\n",
      "[CV] END activation=logistic, alpha=0.01, hidden_layer_sizes=(128, 64), learning_rate=constant, solver=sgd; total time=   0.3s\n",
      "[CV] END activation=logistic, alpha=0.01, hidden_layer_sizes=(128, 64), learning_rate=constant, solver=sgd; total time=   0.2s\n",
      "[CV] END activation=logistic, alpha=0.01, hidden_layer_sizes=(128, 64), learning_rate=constant, solver=sgd; total time=   0.3s\n",
      "[CV] END activation=logistic, alpha=0.01, hidden_layer_sizes=(128, 64), learning_rate=constant, solver=sgd; total time=   0.3s\n",
      "[CV] END activation=logistic, alpha=0.01, hidden_layer_sizes=(128, 64), learning_rate=adaptive, solver=adam; total time=   0.3s\n",
      "[CV] END activation=logistic, alpha=0.01, hidden_layer_sizes=(128, 64), learning_rate=adaptive, solver=adam; total time=   0.2s\n",
      "[CV] END activation=logistic, alpha=0.01, hidden_layer_sizes=(100, 50, 25), learning_rate=constant, solver=adam; total time=   0.3s\n",
      "[CV] END activation=logistic, alpha=0.01, hidden_layer_sizes=(100, 50, 25), learning_rate=constant, solver=adam; total time=   0.3s\n",
      "[CV] END activation=logistic, alpha=0.01, hidden_layer_sizes=(100, 50, 25), learning_rate=constant, solver=adam; total time=   0.3s\n",
      "[CV] END activation=logistic, alpha=0.01, hidden_layer_sizes=(128, 64), learning_rate=adaptive, solver=sgd; total time=   0.5s\n",
      "[CV] END activation=logistic, alpha=0.01, hidden_layer_sizes=(128, 64), learning_rate=adaptive, solver=sgd; total time=   0.5s\n",
      "[CV] END activation=logistic, alpha=0.01, hidden_layer_sizes=(128, 64), learning_rate=adaptive, solver=sgd; total time=   0.5s\n",
      "[CV] END activation=logistic, alpha=0.01, hidden_layer_sizes=(128, 64), learning_rate=adaptive, solver=sgd; total time=   0.5s\n",
      "[CV] END activation=logistic, alpha=0.01, hidden_layer_sizes=(128, 64), learning_rate=adaptive, solver=sgd; total time=   0.5s\n",
      "[CV] END activation=logistic, alpha=0.01, hidden_layer_sizes=(100, 50, 25), learning_rate=constant, solver=adam; total time=   0.3s\n",
      "[CV] END activation=logistic, alpha=0.01, hidden_layer_sizes=(100, 50, 25), learning_rate=constant, solver=sgd; total time=   0.4s\n",
      "[CV] END activation=logistic, alpha=0.01, hidden_layer_sizes=(100, 50, 25), learning_rate=adaptive, solver=adam; total time=   0.2s\n",
      "[CV] END activation=logistic, alpha=0.01, hidden_layer_sizes=(100, 50, 25), learning_rate=constant, solver=adam; total time=   0.4s\n",
      "[CV] END activation=logistic, alpha=0.01, hidden_layer_sizes=(100, 50, 25), learning_rate=constant, solver=sgd; total time=   0.4s\n",
      "[CV] END activation=logistic, alpha=0.01, hidden_layer_sizes=(100, 50, 25), learning_rate=constant, solver=sgd; total time=   0.4s\n",
      "[CV] END activation=logistic, alpha=0.01, hidden_layer_sizes=(100, 50, 25), learning_rate=constant, solver=sgd; total time=   0.4s\n",
      "[CV] END activation=logistic, alpha=0.01, hidden_layer_sizes=(100, 50, 25), learning_rate=adaptive, solver=adam; total time=   0.3s\n",
      "[CV] END activation=logistic, alpha=0.01, hidden_layer_sizes=(100, 50, 25), learning_rate=constant, solver=sgd; total time=   0.5s\n",
      "[CV] END activation=logistic, alpha=0.01, hidden_layer_sizes=(100, 50, 25), learning_rate=adaptive, solver=adam; total time=   0.3s\n",
      "[CV] END activation=logistic, alpha=0.01, hidden_layer_sizes=(100, 50, 25), learning_rate=adaptive, solver=adam; total time=   0.3s\n",
      "[CV] END activation=logistic, alpha=0.01, hidden_layer_sizes=(100, 50, 25), learning_rate=adaptive, solver=adam; total time=   0.3s\n",
      "[CV] END activation=logistic, alpha=0.01, hidden_layer_sizes=(100, 50, 25), learning_rate=adaptive, solver=sgd; total time=   0.4s\n",
      "[CV] END activation=logistic, alpha=0.01, hidden_layer_sizes=(100, 50, 25), learning_rate=adaptive, solver=sgd; total time=   0.5s\n",
      "[CV] END activation=logistic, alpha=0.01, hidden_layer_sizes=(100, 50, 25), learning_rate=adaptive, solver=sgd; total time=   0.6s\n",
      "[CV] END activation=logistic, alpha=0.01, hidden_layer_sizes=(100, 50, 25), learning_rate=adaptive, solver=sgd; total time=   0.4s\n",
      "[CV] END activation=logistic, alpha=0.01, hidden_layer_sizes=(100, 50, 25), learning_rate=adaptive, solver=sgd; total time=   0.4s\n",
      "Mejores parámetros encontrados:\n",
      "{'activation': 'relu', 'alpha': 0.0001, 'hidden_layer_sizes': (64,), 'learning_rate': 'constant', 'solver': 'sgd'}\n",
      "Mejor accuracy en validación cruzada: 0.8301\n",
      "Accuracy en test set: 0.8587\n"
     ]
    }
   ],
   "source": [
    "from sklearn.neural_network import MLPClassifier\n",
    "from sklearn.model_selection import GridSearchCV\n",
    "from sklearn.metrics import accuracy_score\n",
    "\n",
    "# Definir los parámetros a probar\n",
    "param_grid = {\n",
    "    'hidden_layer_sizes': [(64,), (64, 32), (128, 64), (100, 50, 25)],\n",
    "    'activation': ['relu', 'tanh', 'logistic'],\n",
    "    'solver': ['adam', 'sgd'],\n",
    "    'alpha': [0.0001, 0.001, 0.01],\n",
    "    'learning_rate': ['constant', 'adaptive']\n",
    "}\n",
    "\n",
    "# Crear el modelo base\n",
    "mlp = MLPClassifier(max_iter=1000, random_state=42)\n",
    "\n",
    "# GridSearch con validación cruzada de 5 folds\n",
    "grid_search = GridSearchCV(estimator=mlp,\n",
    "                           param_grid=param_grid,\n",
    "                           scoring='accuracy',\n",
    "                           cv=5,\n",
    "                           n_jobs=-1,     # Usa todos los núcleos disponibles\n",
    "                           verbose=2)\n",
    "\n",
    "# Entrenar\n",
    "grid_search.fit(X_train, y_train)\n",
    "\n",
    "# Resultados\n",
    "print(\"Mejores parámetros encontrados:\")\n",
    "print(grid_search.best_params_)\n",
    "print(f\"Mejor accuracy en validación cruzada: {grid_search.best_score_:.4f}\")\n",
    "\n",
    "# Evaluar en test\n",
    "best_model = grid_search.best_estimator_\n",
    "y_pred = best_model.predict(X_test)\n",
    "test_accuracy = accuracy_score(y_test, y_pred)\n",
    "print(f\"Accuracy en test set: {test_accuracy:.4f}\")\n"
   ]
  },
  {
   "cell_type": "code",
   "execution_count": 18,
   "metadata": {},
   "outputs": [
    {
     "name": "stdout",
     "output_type": "stream",
     "text": [
      "Accuracy en test con el modelo final: 0.8587\n"
     ]
    }
   ],
   "source": [
    "from sklearn.neural_network import MLPClassifier\n",
    "from sklearn.metrics import accuracy_score\n",
    "\n",
    "# Crear el modelo con los mejores parámetros encontrados\n",
    "final_mlp = MLPClassifier(hidden_layer_sizes=(64,),\n",
    "                          activation='relu',\n",
    "                          solver='sgd',\n",
    "                          alpha=0.0001,\n",
    "                          learning_rate='constant',\n",
    "                          max_iter=2000,          # un poco más alto por si no converge\n",
    "                          momentum=0.9,           # mejora con SGD\n",
    "                          random_state=42)\n",
    "\n",
    "# Entrenar el modelo\n",
    "final_mlp.fit(X_train, y_train)\n",
    "\n",
    "# Predecir\n",
    "y_pred = final_mlp.predict(X_test)\n",
    "\n",
    "# Evaluar\n",
    "accuracy = accuracy_score(y_test, y_pred)\n",
    "print(f\"Accuracy en test con el modelo final: {accuracy:.4f}\")\n"
   ]
  },
  {
   "cell_type": "code",
   "execution_count": 19,
   "metadata": {},
   "outputs": [
    {
     "name": "stdout",
     "output_type": "stream",
     "text": [
      "Accuracy:      0.8587\n",
      "Sensibilidad:  0.8587\n",
      "F1 Score:      0.7934\n",
      "AUC (weighted): 0.7268\n"
     ]
    }
   ],
   "source": [
    "from sklearn.metrics import accuracy_score, recall_score, f1_score, roc_auc_score\n",
    "\n",
    "# Predicciones\n",
    "y_pred = final_mlp.predict(X_test)\n",
    "y_proba = final_mlp.predict_proba(X_test)\n",
    "\n",
    "# Métricas\n",
    "accuracy = accuracy_score(y_test, y_pred)\n",
    "recall = recall_score(y_test, y_pred, average='weighted')     # Sensibilidad ponderada\n",
    "f1 = f1_score(y_test, y_pred, average='weighted')\n",
    "auc = roc_auc_score(y_test, y_proba, multi_class='ovr', average='weighted')\n",
    "\n",
    "# Mostrar resultados\n",
    "print(f\"Accuracy:      {accuracy:.4f}\")\n",
    "print(f\"Sensibilidad:  {recall:.4f}\")\n",
    "print(f\"F1 Score:      {f1:.4f}\")\n",
    "print(f\"AUC (weighted): {auc:.4f}\")\n",
    "\n",
    "\n"
   ]
  },
  {
   "cell_type": "code",
   "execution_count": 20,
   "metadata": {},
   "outputs": [
    {
     "data": {
      "image/png": "[encoded data removed]",
      "text/plain": [
       "<Figure size 576x432 with 1 Axes>"
      ]
     },
     "metadata": {
      "needs_background": "light"
     },
     "output_type": "display_data"
    }
   ],
   "source": [
    "import matplotlib.pyplot as plt\n",
    "from sklearn.metrics import roc_curve, auc\n",
    "from sklearn.preprocessing import label_binarize\n",
    "import numpy as np\n",
    "\n",
    "# Asegúrate de tener clases codificadas como números (0, 1, 2, ...)\n",
    "classes = np.unique(y_test)\n",
    "n_classes = len(classes)\n",
    "\n",
    "# Binarizar las etiquetas para multiclase\n",
    "y_test_bin = label_binarize(y_test, classes=classes)\n",
    "y_proba = final_mlp.predict_proba(X_test)\n",
    "\n",
    "# Calcular curva ROC y AUC por clase\n",
    "fpr = dict()\n",
    "tpr = dict()\n",
    "roc_auc = dict()\n",
    "\n",
    "for i in range(n_classes):\n",
    "    fpr[i], tpr[i], _ = roc_curve(y_test_bin[:, i], y_proba[:, i])\n",
    "    roc_auc[i] = auc(fpr[i], tpr[i])\n",
    "\n",
    "# Plot\n",
    "plt.figure(figsize=(8, 6))\n",
    "for i in range(n_classes):\n",
    "    plt.plot(fpr[i], tpr[i], label=f'Clase {classes[i]} (AUC = {roc_auc[i]:.2f})')\n",
    "\n",
    "plt.plot([0, 1], [0, 1], 'k--', label='Azar')\n",
    "plt.xlabel('Tasa de Falsos Positivos')\n",
    "plt.ylabel('Tasa de Verdaderos Positivos')\n",
    "plt.title('Curvas ROC por clase')\n",
    "plt.legend()\n",
    "plt.grid(True)\n",
    "plt.show()\n"
   ]
  },
  {
   "cell_type": "code",
   "execution_count": 21,
   "metadata": {},
   "outputs": [
    {
     "data": {
      "text/plain": [
       "<Figure size 432x432 with 0 Axes>"
      ]
     },
     "metadata": {},
     "output_type": "display_data"
    },
    {
     "data": {
      "image/png": "[encoded data removed]",
      "text/plain": [
       "<Figure size 432x288 with 2 Axes>"
      ]
     },
     "metadata": {
      "needs_background": "light"
     },
     "output_type": "display_data"
    }
   ],
   "source": [
    "from sklearn.metrics import confusion_matrix, ConfusionMatrixDisplay\n",
    "\n",
    "# Obtener predicciones\n",
    "y_pred = final_mlp.predict(X_test)\n",
    "\n",
    "# Calcular y mostrar la matriz de confusión\n",
    "cm = confusion_matrix(y_test, y_pred)\n",
    "disp = ConfusionMatrixDisplay(confusion_matrix=cm, display_labels=classes)\n",
    "\n",
    "plt.figure(figsize=(6, 6))\n",
    "disp.plot(cmap=plt.cm.Blues, values_format='d')\n",
    "plt.title('Matriz de Confusión')\n",
    "plt.grid(False)\n",
    "plt.show()\n"
   ]
  },
  {
   "cell_type": "markdown",
   "metadata": {},
   "source": [
    "Let's try SMOTE for imbalanced classes"
   ]
  },
  {
   "cell_type": "code",
   "execution_count": 22,
   "metadata": {},
   "outputs": [
    {
     "name": "stdout",
     "output_type": "stream",
     "text": [
      "Distribución de clases antes del SMOTE: Counter({3: 305, 2: 22, 4: 19, 0: 13, 1: 6})\n",
      "Distribución de clases después del SMOTE: Counter({2: 305, 3: 305, 4: 305, 0: 305, 1: 305})\n"
     ]
    }
   ],
   "source": [
    "from imblearn.over_sampling import SMOTE\n",
    "from sklearn.model_selection import train_test_split\n",
    "\n",
    "# 1. Separar en train/test (si no lo habías hecho ya)\n",
    "X_train, X_test, y_train, y_test = train_test_split(X, y, \n",
    "                                                    test_size=0.2, \n",
    "                                                    random_state=42,\n",
    "                                                    stratify=y)  # Muy importante: mantener distribución por clase\n",
    "\n",
    "# 2. Aplicar SMOTE solo sobre los datos de entrenamiento\n",
    "smote = SMOTE(random_state=42)\n",
    "X_train_smote, y_train_smote = smote.fit_resample(X_train, y_train)\n",
    "\n",
    "# Verificación\n",
    "from collections import Counter\n",
    "print(\"Distribución de clases antes del SMOTE:\", Counter(y_train))\n",
    "print(\"Distribución de clases después del SMOTE:\", Counter(y_train_smote))\n"
   ]
  },
  {
   "cell_type": "code",
   "execution_count": 23,
   "metadata": {},
   "outputs": [
    {
     "name": "stdout",
     "output_type": "stream",
     "text": [
      "Accuracy:      0.0870\n",
      "Sensibilidad:  0.0870\n",
      "F1 Score:      0.1206\n",
      "AUC (weighted): 0.5128\n"
     ]
    }
   ],
   "source": [
    "from sklearn.neural_network import MLPClassifier\n",
    "from sklearn.metrics import accuracy_score, f1_score, recall_score, roc_auc_score\n",
    "\n",
    "mlp_smote = MLPClassifier(hidden_layer_sizes=(64,),\n",
    "                          activation='relu',\n",
    "                          solver='sgd',\n",
    "                          alpha=0.0001,\n",
    "                          learning_rate='constant',\n",
    "                          max_iter=2000,\n",
    "                          momentum=0.9,\n",
    "                          random_state=42)\n",
    "\n",
    "# Entrenar con datos balanceados\n",
    "mlp_smote.fit(X_train_smote, y_train_smote)\n",
    "\n",
    "# Evaluar con el test original (sin rebalancear)\n",
    "y_pred = mlp_smote.predict(X_test)\n",
    "y_proba = mlp_smote.predict_proba(X_test)\n",
    "\n",
    "# Métricas (ahora weighted)\n",
    "accuracy = accuracy_score(y_test, y_pred)\n",
    "recall = recall_score(y_test, y_pred, average='weighted')\n",
    "f1 = f1_score(y_test, y_pred, average='weighted')\n",
    "auc = roc_auc_score(y_test, y_proba, multi_class='ovr', average='weighted')\n",
    "\n",
    "print(f\"Accuracy:      {accuracy:.4f}\")\n",
    "print(f\"Sensibilidad:  {recall:.4f}\")\n",
    "print(f\"F1 Score:      {f1:.4f}\")\n",
    "print(f\"AUC (weighted): {auc:.4f}\")\n",
    "\n"
   ]
  },
  {
   "cell_type": "markdown",
   "metadata": {},
   "source": [
    "MLP no gestiona bien el desbalance de clases, ni siquiera con oversampling."
   ]
  },
  {
   "cell_type": "code",
   "execution_count": 24,
   "metadata": {},
   "outputs": [
    {
     "name": "stderr",
     "output_type": "stream",
     "text": [
      "[codecarbon INFO @ 01:26:06] Energy consumed for RAM : 0.000085 kWh. RAM Power : 3.0 W\n",
      "[codecarbon INFO @ 01:26:06] Energy consumed for all CPUs : 0.000142 kWh. Total CPU Power : 5.0 W\n",
      "[codecarbon INFO @ 01:26:06] 0.000228 kWh of electricity used since the beginning.\n"
     ]
    },
    {
     "data": {
      "text/plain": [
       "4.6754110766703034e-05"
      ]
     },
     "execution_count": 24,
     "metadata": {},
     "output_type": "execute_result"
    }
   ],
   "source": [
    "# Detener el medidor y obtener los resultados\n",
    "tracker.stop()"
   ]
  }
 ],
 "metadata": {
  "kernelspec": {
   "display_name": "base",
   "language": "python",
   "name": "python3"
  },
  "language_info": {
   "codemirror_mode": {
    "name": "ipython",
    "version": 3
   },
   "file_extension": ".py",
   "mimetype": "text/x-python",
   "name": "python",
   "nbconvert_exporter": "python",
   "pygments_lexer": "ipython3",
   "version": "3.9.12"
  }
 },
 "nbformat": 4,
 "nbformat_minor": 2
}
