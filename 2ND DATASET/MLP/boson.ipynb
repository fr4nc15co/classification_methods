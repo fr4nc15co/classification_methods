{
 "cells": [
  {
   "cell_type": "code",
   "execution_count": 1,
   "id": "81435f7f",
   "metadata": {},
   "outputs": [
    {
     "name": "stderr",
     "output_type": "stream",
     "text": [
      "[codecarbon INFO @ 13:39:24] [setup] RAM Tracking...\n",
      "[codecarbon INFO @ 13:39:24] [setup] CPU Tracking...\n",
      "[codecarbon WARNING @ 13:39:27] No CPU tracking mode found. Falling back on CPU constant mode. \n",
      " Mac OS and ARM processor detected: Please enable PowerMetrics sudo to measure CPU\n",
      "\n",
      "[codecarbon INFO @ 13:39:28] CPU Model on constant consumption mode: Apple M1\n",
      "[codecarbon INFO @ 13:39:28] [setup] GPU Tracking...\n",
      "[codecarbon INFO @ 13:39:28] No GPU found.\n",
      "[codecarbon INFO @ 13:39:28] >>> Tracker's metadata:\n",
      "[codecarbon INFO @ 13:39:28]   Platform system: macOS-10.16-x86_64-i386-64bit\n",
      "[codecarbon INFO @ 13:39:28]   Python version: 3.9.12\n",
      "[codecarbon INFO @ 13:39:28]   CodeCarbon version: 2.8.3\n",
      "[codecarbon INFO @ 13:39:28]   Available RAM : 8.000 GB\n",
      "[codecarbon INFO @ 13:39:28]   CPU count: 8\n",
      "[codecarbon INFO @ 13:39:28]   CPU model: Apple M1\n",
      "[codecarbon INFO @ 13:39:28]   GPU count: None\n",
      "[codecarbon INFO @ 13:39:28]   GPU model: None\n",
      "[codecarbon INFO @ 13:39:32] Saving emissions data to file /Users/lucia/Desktop/classification_methods/DATASET HIGGS BOSON/MLP/emissions.csv\n"
     ]
    }
   ],
   "source": [
    "from codecarbon import EmissionsTracker\n",
    "tracker = EmissionsTracker()\n",
    "tracker.start()"
   ]
  },
  {
   "cell_type": "code",
   "execution_count": 2,
   "id": "cade5b8e",
   "metadata": {},
   "outputs": [
    {
     "name": "stdout",
     "output_type": "stream",
     "text": [
      "['EventId', 'DER_mass_MMC', 'DER_mass_transverse_met_lep', 'DER_mass_vis', 'DER_pt_h', 'DER_deltaeta_jet_jet', 'DER_mass_jet_jet', 'DER_prodeta_jet_jet', 'DER_deltar_tau_lep', 'DER_pt_tot', 'DER_sum_pt', 'DER_pt_ratio_lep_tau', 'DER_met_phi_centrality', 'DER_lep_eta_centrality', 'PRI_tau_pt', 'PRI_tau_eta', 'PRI_tau_phi', 'PRI_lep_pt', 'PRI_lep_eta', 'PRI_lep_phi', 'PRI_met', 'PRI_met_phi', 'PRI_met_sumet', 'PRI_jet_num', 'PRI_jet_leading_pt', 'PRI_jet_leading_eta', 'PRI_jet_leading_phi', 'PRI_jet_subleading_pt', 'PRI_jet_subleading_eta', 'PRI_jet_subleading_phi', 'PRI_jet_all_pt', 'Weight', 'Label']\n",
      "Dimensiones: (250000, 31)\n",
      "Valores nulos por columna:\n",
      " DER_mass_MMC                    38114\n",
      "DER_mass_transverse_met_lep         0\n",
      "DER_mass_vis                        0\n",
      "DER_pt_h                            0\n",
      "DER_deltaeta_jet_jet           177457\n",
      "DER_mass_jet_jet               177457\n",
      "DER_prodeta_jet_jet            177457\n",
      "DER_deltar_tau_lep                  0\n",
      "DER_pt_tot                          0\n",
      "DER_sum_pt                          0\n",
      "DER_pt_ratio_lep_tau                0\n",
      "DER_met_phi_centrality              0\n",
      "DER_lep_eta_centrality         177457\n",
      "PRI_tau_pt                          0\n",
      "PRI_tau_eta                         0\n",
      "PRI_tau_phi                         0\n",
      "PRI_lep_pt                          0\n",
      "PRI_lep_eta                         0\n",
      "PRI_lep_phi                         0\n",
      "PRI_met                             0\n",
      "PRI_met_phi                         0\n",
      "PRI_met_sumet                       0\n",
      "PRI_jet_num                         0\n",
      "PRI_jet_leading_pt              99913\n",
      "PRI_jet_leading_eta             99913\n",
      "PRI_jet_leading_phi             99913\n",
      "PRI_jet_subleading_pt          177457\n",
      "PRI_jet_subleading_eta         177457\n",
      "PRI_jet_subleading_phi         177457\n",
      "PRI_jet_all_pt                      0\n",
      "Label                               0\n",
      "dtype: int64\n"
     ]
    }
   ],
   "source": [
    "import pandas as pd\n",
    "\n",
    "# Cargar el dataset\n",
    "df = pd.read_csv(\"../training.csv\") \n",
    "\n",
    "# Mostrar nombres de columnas\n",
    "print(df.columns.tolist())\n",
    "import numpy as np\n",
    "# Eliminar columnas que no aportan al modelo\n",
    "df.drop(columns=[\"EventId\", \"Weight\"], inplace=True)\n",
    "\n",
    "# Convertir la variable objetivo a binaria: 's' = 1, 'b' = 0\n",
    "df['Label'] = df['Label'].map({'s': 1, 'b': 0})\n",
    "\n",
    "# Reemplazar los valores -999.0 por NaN\n",
    "df.replace(-999.0, np.nan, inplace=True)\n",
    "\n",
    "print(\"Dimensiones:\", df.shape)\n",
    "print(\"Valores nulos por columna:\\n\", df.isna().sum())"
   ]
  },
  {
   "cell_type": "code",
   "execution_count": 3,
   "id": "ed058383",
   "metadata": {},
   "outputs": [
    {
     "name": "stdout",
     "output_type": "stream",
     "text": [
      "False\n"
     ]
    }
   ],
   "source": [
    "# Imputar valores nulos con la mediana de cada columna\n",
    "df.fillna(df.median(), inplace=True)\n",
    "\n",
    "# Verificar que no queden nulos\n",
    "print(df.isna().sum().sum() > 0)\n"
   ]
  },
  {
   "cell_type": "code",
   "execution_count": 4,
   "id": "d922990a",
   "metadata": {},
   "outputs": [
    {
     "name": "stdout",
     "output_type": "stream",
     "text": [
      "Tamaño del conjunto de entrenamiento: (200000, 30)\n",
      "Tamaño del conjunto de test: (50000, 30)\n"
     ]
    }
   ],
   "source": [
    "from sklearn.model_selection import train_test_split\n",
    "from sklearn.preprocessing import MinMaxScaler\n",
    "\n",
    "# Separar X (features) e y (target)\n",
    "X = df.drop(columns=['Label'])\n",
    "y = df['Label']\n",
    "\n",
    "# Escalar X\n",
    "scaler = MinMaxScaler()\n",
    "X_scaled = scaler.fit_transform(X)\n",
    "\n",
    "# División en train y test (opcional, pero útil si luego quieres evaluar sobre test final)\n",
    "X_train, X_test, y_train, y_test = train_test_split(X_scaled, y, test_size=0.2, random_state=42)\n",
    "\n",
    "print(\"Tamaño del conjunto de entrenamiento:\", X_train.shape)\n",
    "print(\"Tamaño del conjunto de test:\", X_test.shape)\n"
   ]
  },
  {
   "cell_type": "code",
   "execution_count": 5,
   "id": "b47b60ee",
   "metadata": {},
   "outputs": [
    {
     "name": "stdout",
     "output_type": "stream",
     "text": [
      "Fitting 3 folds for each of 24 candidates, totalling 72 fits\n"
     ]
    },
    {
     "name": "stderr",
     "output_type": "stream",
     "text": [
      "[codecarbon INFO @ 13:39:47] Energy consumed for RAM : 0.000013 kWh. RAM Power : 3.0 W\n",
      "[codecarbon INFO @ 13:39:47] Energy consumed for all CPUs : 0.000021 kWh. Total CPU Power : 5.0 W\n",
      "[codecarbon INFO @ 13:39:47] 0.000033 kWh of electricity used since the beginning.\n"
     ]
    },
    {
     "name": "stdout",
     "output_type": "stream",
     "text": [
      "[CV] END activation=relu, alpha=0.0001, hidden_layer_sizes=(64, 32), learning_rate=constant, solver=adam; total time=  18.9s\n",
      "[CV] END activation=relu, alpha=0.0001, hidden_layer_sizes=(64, 32), learning_rate=adaptive, solver=adam; total time=  19.1s\n"
     ]
    },
    {
     "name": "stderr",
     "output_type": "stream",
     "text": [
      "[codecarbon INFO @ 13:40:02] Energy consumed for RAM : 0.000025 kWh. RAM Power : 3.0 W\n",
      "[codecarbon INFO @ 13:40:02] Energy consumed for all CPUs : 0.000042 kWh. Total CPU Power : 5.0 W\n",
      "[codecarbon INFO @ 13:40:02] 0.000067 kWh of electricity used since the beginning.\n"
     ]
    },
    {
     "name": "stdout",
     "output_type": "stream",
     "text": [
      "[CV] END activation=relu, alpha=0.0001, hidden_layer_sizes=(64, 32), learning_rate=adaptive, solver=adam; total time=  34.4s\n",
      "[CV] END activation=relu, alpha=0.0001, hidden_layer_sizes=(64, 32), learning_rate=constant, solver=adam; total time=  34.7s\n",
      "[CV] END activation=relu, alpha=0.0001, hidden_layer_sizes=(100, 50), learning_rate=constant, solver=adam; total time=  37.2s\n"
     ]
    },
    {
     "name": "stderr",
     "output_type": "stream",
     "text": [
      "[codecarbon INFO @ 13:40:17] Energy consumed for RAM : 0.000037 kWh. RAM Power : 3.0 W\n",
      "[codecarbon INFO @ 13:40:17] Energy consumed for all CPUs : 0.000062 kWh. Total CPU Power : 5.0 W\n",
      "[codecarbon INFO @ 13:40:17] 0.000100 kWh of electricity used since the beginning.\n"
     ]
    },
    {
     "name": "stdout",
     "output_type": "stream",
     "text": [
      "[CV] END activation=relu, alpha=0.0001, hidden_layer_sizes=(64, 32), learning_rate=constant, solver=adam; total time=  43.1s\n",
      "[CV] END activation=relu, alpha=0.0001, hidden_layer_sizes=(64, 32), learning_rate=adaptive, solver=adam; total time=  43.8s\n"
     ]
    },
    {
     "name": "stderr",
     "output_type": "stream",
     "text": [
      "[codecarbon INFO @ 13:40:32] Energy consumed for RAM : 0.000050 kWh. RAM Power : 3.0 W\n",
      "[codecarbon INFO @ 13:40:32] Energy consumed for all CPUs : 0.000083 kWh. Total CPU Power : 5.0 W\n",
      "[codecarbon INFO @ 13:40:32] 0.000133 kWh of electricity used since the beginning.\n"
     ]
    },
    {
     "name": "stdout",
     "output_type": "stream",
     "text": [
      "[CV] END activation=relu, alpha=0.0001, hidden_layer_sizes=(100, 50), learning_rate=constant, solver=adam; total time=  54.0s\n"
     ]
    },
    {
     "name": "stderr",
     "output_type": "stream",
     "text": [
      "[codecarbon INFO @ 13:40:47] Energy consumed for RAM : 0.000062 kWh. RAM Power : 3.0 W\n",
      "[codecarbon INFO @ 13:40:47] Energy consumed for all CPUs : 0.000104 kWh. Total CPU Power : 5.0 W\n",
      "[codecarbon INFO @ 13:40:47] 0.000167 kWh of electricity used since the beginning.\n"
     ]
    },
    {
     "name": "stdout",
     "output_type": "stream",
     "text": [
      "[CV] END activation=relu, alpha=0.0001, hidden_layer_sizes=(100, 50), learning_rate=constant, solver=adam; total time=  53.4s\n",
      "[CV] END activation=relu, alpha=0.0001, hidden_layer_sizes=(100, 50), learning_rate=adaptive, solver=adam; total time=  39.4s\n",
      "[CV] END activation=relu, alpha=0.0001, hidden_layer_sizes=(100, 50), learning_rate=adaptive, solver=adam; total time=  55.1s\n"
     ]
    },
    {
     "name": "stderr",
     "output_type": "stream",
     "text": [
      "[codecarbon INFO @ 13:41:02] Energy consumed for RAM : 0.000075 kWh. RAM Power : 3.0 W\n",
      "[codecarbon INFO @ 13:41:02] Energy consumed for all CPUs : 0.000125 kWh. Total CPU Power : 5.0 W\n",
      "[codecarbon INFO @ 13:41:02] 0.000200 kWh of electricity used since the beginning.\n"
     ]
    },
    {
     "name": "stdout",
     "output_type": "stream",
     "text": [
      "[CV] END activation=relu, alpha=0.0001, hidden_layer_sizes=(100, 50), learning_rate=adaptive, solver=adam; total time=  52.7s\n",
      "[CV] END activation=relu, alpha=0.001, hidden_layer_sizes=(64, 32), learning_rate=constant, solver=adam; total time=  19.5s\n"
     ]
    },
    {
     "name": "stderr",
     "output_type": "stream",
     "text": [
      "[codecarbon INFO @ 13:41:17] Energy consumed for RAM : 0.000087 kWh. RAM Power : 3.0 W\n",
      "[codecarbon INFO @ 13:41:17] Energy consumed for all CPUs : 0.000146 kWh. Total CPU Power : 5.0 W\n",
      "[codecarbon INFO @ 13:41:17] 0.000233 kWh of electricity used since the beginning.\n"
     ]
    },
    {
     "name": "stdout",
     "output_type": "stream",
     "text": [
      "[CV] END activation=relu, alpha=0.0001, hidden_layer_sizes=(128, 64), learning_rate=constant, solver=adam; total time= 1.1min\n",
      "[CV] END activation=relu, alpha=0.0001, hidden_layer_sizes=(128, 64), learning_rate=constant, solver=adam; total time= 1.2min\n"
     ]
    },
    {
     "name": "stderr",
     "output_type": "stream",
     "text": [
      "[codecarbon INFO @ 13:41:32] Energy consumed for RAM : 0.000100 kWh. RAM Power : 3.0 W\n",
      "[codecarbon INFO @ 13:41:32] Energy consumed for all CPUs : 0.000167 kWh. Total CPU Power : 5.0 W\n",
      "[codecarbon INFO @ 13:41:32] 0.000266 kWh of electricity used since the beginning.\n",
      "[codecarbon INFO @ 13:41:32] 0.000386 g.CO2eq/s mean an estimation of 12.170682061085316 kg.CO2eq/year\n"
     ]
    },
    {
     "name": "stdout",
     "output_type": "stream",
     "text": [
      "[CV] END activation=relu, alpha=0.001, hidden_layer_sizes=(64, 32), learning_rate=constant, solver=adam; total time=  32.1s\n",
      "[CV] END activation=relu, alpha=0.0001, hidden_layer_sizes=(128, 64), learning_rate=adaptive, solver=adam; total time= 1.2min\n",
      "[CV] END activation=relu, alpha=0.001, hidden_layer_sizes=(64, 32), learning_rate=constant, solver=adam; total time=  32.3s\n",
      "[CV] END activation=relu, alpha=0.001, hidden_layer_sizes=(64, 32), learning_rate=adaptive, solver=adam; total time=  18.7s\n"
     ]
    },
    {
     "name": "stderr",
     "output_type": "stream",
     "text": [
      "[codecarbon INFO @ 13:41:47] Energy consumed for RAM : 0.000112 kWh. RAM Power : 3.0 W\n",
      "[codecarbon INFO @ 13:41:47] Energy consumed for all CPUs : 0.000187 kWh. Total CPU Power : 5.0 W\n",
      "[codecarbon INFO @ 13:41:47] 0.000300 kWh of electricity used since the beginning.\n"
     ]
    },
    {
     "name": "stdout",
     "output_type": "stream",
     "text": [
      "[CV] END activation=relu, alpha=0.0001, hidden_layer_sizes=(128, 64), learning_rate=adaptive, solver=adam; total time= 1.1min\n",
      "[CV] END activation=relu, alpha=0.0001, hidden_layer_sizes=(128, 64), learning_rate=constant, solver=adam; total time= 1.5min\n",
      "[CV] END activation=relu, alpha=0.001, hidden_layer_sizes=(64, 32), learning_rate=adaptive, solver=adam; total time=  32.2s\n"
     ]
    },
    {
     "name": "stderr",
     "output_type": "stream",
     "text": [
      "[codecarbon INFO @ 13:42:02] Energy consumed for RAM : 0.000125 kWh. RAM Power : 3.0 W\n",
      "[codecarbon INFO @ 13:42:02] Energy consumed for all CPUs : 0.000208 kWh. Total CPU Power : 5.0 W\n",
      "[codecarbon INFO @ 13:42:02] 0.000333 kWh of electricity used since the beginning.\n"
     ]
    },
    {
     "name": "stdout",
     "output_type": "stream",
     "text": [
      "[CV] END activation=relu, alpha=0.001, hidden_layer_sizes=(64, 32), learning_rate=adaptive, solver=adam; total time=  33.0s\n"
     ]
    },
    {
     "name": "stderr",
     "output_type": "stream",
     "text": [
      "[codecarbon INFO @ 13:42:17] Energy consumed for RAM : 0.000137 kWh. RAM Power : 3.0 W\n",
      "[codecarbon INFO @ 13:42:17] Energy consumed for all CPUs : 0.000229 kWh. Total CPU Power : 5.0 W\n",
      "[codecarbon INFO @ 13:42:17] 0.000366 kWh of electricity used since the beginning.\n"
     ]
    },
    {
     "name": "stdout",
     "output_type": "stream",
     "text": [
      "[CV] END activation=relu, alpha=0.001, hidden_layer_sizes=(100, 50), learning_rate=constant, solver=adam; total time=  35.4s\n",
      "[CV] END activation=relu, alpha=0.0001, hidden_layer_sizes=(128, 64), learning_rate=adaptive, solver=adam; total time= 1.5min\n",
      "[CV] END activation=relu, alpha=0.001, hidden_layer_sizes=(100, 50), learning_rate=adaptive, solver=adam; total time=  35.7s\n"
     ]
    },
    {
     "name": "stderr",
     "output_type": "stream",
     "text": [
      "[codecarbon INFO @ 13:42:32] Energy consumed for RAM : 0.000150 kWh. RAM Power : 3.0 W\n",
      "[codecarbon INFO @ 13:42:32] Energy consumed for all CPUs : 0.000250 kWh. Total CPU Power : 5.0 W\n",
      "[codecarbon INFO @ 13:42:32] 0.000399 kWh of electricity used since the beginning.\n"
     ]
    },
    {
     "name": "stdout",
     "output_type": "stream",
     "text": [
      "[CV] END activation=relu, alpha=0.001, hidden_layer_sizes=(100, 50), learning_rate=constant, solver=adam; total time=  50.9s\n"
     ]
    },
    {
     "name": "stderr",
     "output_type": "stream",
     "text": [
      "[codecarbon INFO @ 13:42:47] Energy consumed for RAM : 0.000162 kWh. RAM Power : 3.0 W\n",
      "[codecarbon INFO @ 13:42:47] Energy consumed for all CPUs : 0.000271 kWh. Total CPU Power : 5.0 W\n",
      "[codecarbon INFO @ 13:42:47] 0.000433 kWh of electricity used since the beginning.\n"
     ]
    },
    {
     "name": "stdout",
     "output_type": "stream",
     "text": [
      "[CV] END activation=relu, alpha=0.001, hidden_layer_sizes=(100, 50), learning_rate=adaptive, solver=adam; total time=  54.7s\n"
     ]
    },
    {
     "name": "stderr",
     "output_type": "stream",
     "text": [
      "[codecarbon INFO @ 13:43:02] Energy consumed for RAM : 0.000175 kWh. RAM Power : 3.0 W\n",
      "[codecarbon INFO @ 13:43:02] Energy consumed for all CPUs : 0.000291 kWh. Total CPU Power : 5.0 W\n",
      "[codecarbon INFO @ 13:43:02] 0.000466 kWh of electricity used since the beginning.\n"
     ]
    },
    {
     "name": "stdout",
     "output_type": "stream",
     "text": [
      "[CV] END activation=relu, alpha=0.001, hidden_layer_sizes=(128, 64), learning_rate=constant, solver=adam; total time= 1.1min\n"
     ]
    },
    {
     "name": "stderr",
     "output_type": "stream",
     "text": [
      "[codecarbon INFO @ 13:43:17] Energy consumed for RAM : 0.000187 kWh. RAM Power : 3.0 W\n",
      "[codecarbon INFO @ 13:43:17] Energy consumed for all CPUs : 0.000312 kWh. Total CPU Power : 5.0 W\n",
      "[codecarbon INFO @ 13:43:17] 0.000499 kWh of electricity used since the beginning.\n"
     ]
    },
    {
     "name": "stdout",
     "output_type": "stream",
     "text": [
      "[CV] END activation=relu, alpha=0.001, hidden_layer_sizes=(100, 50), learning_rate=constant, solver=adam; total time= 1.6min\n"
     ]
    },
    {
     "name": "stderr",
     "output_type": "stream",
     "text": [
      "[codecarbon INFO @ 13:43:32] Energy consumed for RAM : 0.000200 kWh. RAM Power : 3.0 W\n",
      "[codecarbon INFO @ 13:43:32] Energy consumed for all CPUs : 0.000333 kWh. Total CPU Power : 5.0 W\n",
      "[codecarbon INFO @ 13:43:32] 0.000533 kWh of electricity used since the beginning.\n",
      "[codecarbon INFO @ 13:43:32] 0.000386 g.CO2eq/s mean an estimation of 12.166159484954397 kg.CO2eq/year\n"
     ]
    },
    {
     "name": "stdout",
     "output_type": "stream",
     "text": [
      "[CV] END activation=relu, alpha=0.001, hidden_layer_sizes=(128, 64), learning_rate=adaptive, solver=adam; total time= 1.1min\n",
      "[CV] END activation=relu, alpha=0.001, hidden_layer_sizes=(128, 64), learning_rate=constant, solver=adam; total time= 1.2min\n",
      "[CV] END activation=relu, alpha=0.001, hidden_layer_sizes=(100, 50), learning_rate=adaptive, solver=adam; total time= 1.7min\n"
     ]
    },
    {
     "name": "stderr",
     "output_type": "stream",
     "text": [
      "[codecarbon INFO @ 13:43:47] Energy consumed for RAM : 0.000212 kWh. RAM Power : 3.0 W\n",
      "[codecarbon INFO @ 13:43:47] Energy consumed for all CPUs : 0.000354 kWh. Total CPU Power : 5.0 W\n",
      "[codecarbon INFO @ 13:43:47] 0.000566 kWh of electricity used since the beginning.\n"
     ]
    },
    {
     "name": "stdout",
     "output_type": "stream",
     "text": [
      "[CV] END activation=tanh, alpha=0.0001, hidden_layer_sizes=(64, 32), learning_rate=constant, solver=adam; total time=  43.4s\n",
      "[CV] END activation=relu, alpha=0.001, hidden_layer_sizes=(128, 64), learning_rate=adaptive, solver=adam; total time= 1.2min\n"
     ]
    },
    {
     "name": "stderr",
     "output_type": "stream",
     "text": [
      "[codecarbon INFO @ 13:44:02] Energy consumed for RAM : 0.000224 kWh. RAM Power : 3.0 W\n",
      "[codecarbon INFO @ 13:44:02] Energy consumed for all CPUs : 0.000375 kWh. Total CPU Power : 5.0 W\n",
      "[codecarbon INFO @ 13:44:02] 0.000599 kWh of electricity used since the beginning.\n"
     ]
    },
    {
     "name": "stdout",
     "output_type": "stream",
     "text": [
      "[CV] END activation=relu, alpha=0.001, hidden_layer_sizes=(128, 64), learning_rate=constant, solver=adam; total time= 1.7min\n",
      "[CV] END activation=tanh, alpha=0.0001, hidden_layer_sizes=(64, 32), learning_rate=constant, solver=adam; total time=  49.2s\n"
     ]
    },
    {
     "name": "stderr",
     "output_type": "stream",
     "text": [
      "[codecarbon INFO @ 13:44:17] Energy consumed for RAM : 0.000237 kWh. RAM Power : 3.0 W\n",
      "[codecarbon INFO @ 13:44:17] Energy consumed for all CPUs : 0.000395 kWh. Total CPU Power : 5.0 W\n",
      "[codecarbon INFO @ 13:44:17] 0.000632 kWh of electricity used since the beginning.\n"
     ]
    },
    {
     "name": "stdout",
     "output_type": "stream",
     "text": [
      "[CV] END activation=relu, alpha=0.001, hidden_layer_sizes=(128, 64), learning_rate=adaptive, solver=adam; total time= 1.8min\n",
      "[CV] END activation=tanh, alpha=0.0001, hidden_layer_sizes=(64, 32), learning_rate=adaptive, solver=adam; total time=  44.6s\n",
      "[CV] END activation=tanh, alpha=0.0001, hidden_layer_sizes=(64, 32), learning_rate=adaptive, solver=adam; total time=  51.2s\n"
     ]
    },
    {
     "name": "stderr",
     "output_type": "stream",
     "text": [
      "[codecarbon INFO @ 13:44:32] Energy consumed for RAM : 0.000249 kWh. RAM Power : 3.0 W\n",
      "[codecarbon INFO @ 13:44:32] Energy consumed for all CPUs : 0.000416 kWh. Total CPU Power : 5.0 W\n",
      "[codecarbon INFO @ 13:44:32] 0.000666 kWh of electricity used since the beginning.\n"
     ]
    },
    {
     "name": "stdout",
     "output_type": "stream",
     "text": [
      "[CV] END activation=tanh, alpha=0.0001, hidden_layer_sizes=(64, 32), learning_rate=constant, solver=adam; total time=  59.6s\n"
     ]
    },
    {
     "name": "stderr",
     "output_type": "stream",
     "text": [
      "[codecarbon INFO @ 13:44:47] Energy consumed for RAM : 0.000262 kWh. RAM Power : 3.0 W\n",
      "[codecarbon INFO @ 13:44:47] Energy consumed for all CPUs : 0.000437 kWh. Total CPU Power : 5.0 W\n",
      "[codecarbon INFO @ 13:44:47] 0.000699 kWh of electricity used since the beginning.\n",
      "[codecarbon INFO @ 13:45:02] Energy consumed for RAM : 0.000274 kWh. RAM Power : 3.0 W\n",
      "[codecarbon INFO @ 13:45:02] Energy consumed for all CPUs : 0.000458 kWh. Total CPU Power : 5.0 W\n",
      "[codecarbon INFO @ 13:45:02] 0.000732 kWh of electricity used since the beginning.\n"
     ]
    },
    {
     "name": "stdout",
     "output_type": "stream",
     "text": [
      "[CV] END activation=tanh, alpha=0.0001, hidden_layer_sizes=(64, 32), learning_rate=adaptive, solver=adam; total time= 1.1min\n",
      "[CV] END activation=tanh, alpha=0.0001, hidden_layer_sizes=(100, 50), learning_rate=constant, solver=adam; total time= 1.3min\n"
     ]
    },
    {
     "name": "stderr",
     "output_type": "stream",
     "text": [
      "[codecarbon INFO @ 13:45:17] Energy consumed for RAM : 0.000287 kWh. RAM Power : 3.0 W\n",
      "[codecarbon INFO @ 13:45:17] Energy consumed for all CPUs : 0.000479 kWh. Total CPU Power : 5.0 W\n",
      "[codecarbon INFO @ 13:45:17] 0.000766 kWh of electricity used since the beginning.\n"
     ]
    },
    {
     "name": "stdout",
     "output_type": "stream",
     "text": [
      "[CV] END activation=tanh, alpha=0.0001, hidden_layer_sizes=(100, 50), learning_rate=constant, solver=adam; total time= 1.2min\n"
     ]
    },
    {
     "name": "stderr",
     "output_type": "stream",
     "text": [
      "[codecarbon INFO @ 13:45:32] Energy consumed for RAM : 0.000299 kWh. RAM Power : 3.0 W\n",
      "[codecarbon INFO @ 13:45:32] Energy consumed for all CPUs : 0.000500 kWh. Total CPU Power : 5.0 W\n",
      "[codecarbon INFO @ 13:45:32] 0.000799 kWh of electricity used since the beginning.\n",
      "[codecarbon INFO @ 13:45:32] 0.000386 g.CO2eq/s mean an estimation of 12.178950802221525 kg.CO2eq/year\n"
     ]
    },
    {
     "name": "stdout",
     "output_type": "stream",
     "text": [
      "[CV] END activation=tanh, alpha=0.0001, hidden_layer_sizes=(100, 50), learning_rate=adaptive, solver=adam; total time= 1.3min\n",
      "[CV] END activation=tanh, alpha=0.0001, hidden_layer_sizes=(100, 50), learning_rate=constant, solver=adam; total time= 1.6min\n",
      "[CV] END activation=tanh, alpha=0.0001, hidden_layer_sizes=(100, 50), learning_rate=adaptive, solver=adam; total time= 1.2min\n",
      "[CV] END activation=tanh, alpha=0.0001, hidden_layer_sizes=(128, 64), learning_rate=constant, solver=adam; total time= 1.2min\n"
     ]
    },
    {
     "name": "stderr",
     "output_type": "stream",
     "text": [
      "[codecarbon INFO @ 13:45:47] Energy consumed for RAM : 0.000312 kWh. RAM Power : 3.0 W\n",
      "[codecarbon INFO @ 13:45:47] Energy consumed for all CPUs : 0.000521 kWh. Total CPU Power : 5.0 W\n",
      "[codecarbon INFO @ 13:45:47] 0.000832 kWh of electricity used since the beginning.\n"
     ]
    },
    {
     "name": "stdout",
     "output_type": "stream",
     "text": [
      "[CV] END activation=tanh, alpha=0.0001, hidden_layer_sizes=(100, 50), learning_rate=adaptive, solver=adam; total time= 1.6min\n"
     ]
    },
    {
     "name": "stderr",
     "output_type": "stream",
     "text": [
      "[codecarbon INFO @ 13:46:02] Energy consumed for RAM : 0.000324 kWh. RAM Power : 3.0 W\n",
      "[codecarbon INFO @ 13:46:02] Energy consumed for all CPUs : 0.000541 kWh. Total CPU Power : 5.0 W\n",
      "[codecarbon INFO @ 13:46:02] 0.000866 kWh of electricity used since the beginning.\n",
      "[codecarbon INFO @ 13:46:17] Energy consumed for RAM : 0.000337 kWh. RAM Power : 3.0 W\n",
      "[codecarbon INFO @ 13:46:17] Energy consumed for all CPUs : 0.000562 kWh. Total CPU Power : 5.0 W\n",
      "[codecarbon INFO @ 13:46:17] 0.000899 kWh of electricity used since the beginning.\n"
     ]
    },
    {
     "name": "stdout",
     "output_type": "stream",
     "text": [
      "[CV] END activation=tanh, alpha=0.001, hidden_layer_sizes=(64, 32), learning_rate=constant, solver=adam; total time=  40.3s\n",
      "[CV] END activation=tanh, alpha=0.001, hidden_layer_sizes=(64, 32), learning_rate=constant, solver=adam; total time=  41.2s\n",
      "[CV] END activation=tanh, alpha=0.0001, hidden_layer_sizes=(128, 64), learning_rate=adaptive, solver=adam; total time= 1.1min\n"
     ]
    },
    {
     "name": "stderr",
     "output_type": "stream",
     "text": [
      "[codecarbon INFO @ 13:46:32] Energy consumed for RAM : 0.000349 kWh. RAM Power : 3.0 W\n",
      "[codecarbon INFO @ 13:46:32] Energy consumed for all CPUs : 0.000583 kWh. Total CPU Power : 5.0 W\n",
      "[codecarbon INFO @ 13:46:32] 0.000932 kWh of electricity used since the beginning.\n"
     ]
    },
    {
     "name": "stdout",
     "output_type": "stream",
     "text": [
      "[CV] END activation=tanh, alpha=0.0001, hidden_layer_sizes=(128, 64), learning_rate=constant, solver=adam; total time= 1.4min\n",
      "[CV] END activation=tanh, alpha=0.0001, hidden_layer_sizes=(128, 64), learning_rate=constant, solver=adam; total time= 1.6min\n"
     ]
    },
    {
     "name": "stderr",
     "output_type": "stream",
     "text": [
      "[codecarbon INFO @ 13:46:47] Energy consumed for RAM : 0.000362 kWh. RAM Power : 3.0 W\n",
      "[codecarbon INFO @ 13:46:47] Energy consumed for all CPUs : 0.000604 kWh. Total CPU Power : 5.0 W\n",
      "[codecarbon INFO @ 13:46:47] 0.000966 kWh of electricity used since the beginning.\n"
     ]
    },
    {
     "name": "stdout",
     "output_type": "stream",
     "text": [
      "[CV] END activation=tanh, alpha=0.001, hidden_layer_sizes=(64, 32), learning_rate=constant, solver=adam; total time=  56.3s\n"
     ]
    },
    {
     "name": "stderr",
     "output_type": "stream",
     "text": [
      "[codecarbon INFO @ 13:47:02] Energy consumed for RAM : 0.000374 kWh. RAM Power : 3.0 W\n",
      "[codecarbon INFO @ 13:47:02] Energy consumed for all CPUs : 0.000625 kWh. Total CPU Power : 5.0 W\n",
      "[codecarbon INFO @ 13:47:02] 0.000999 kWh of electricity used since the beginning.\n"
     ]
    },
    {
     "name": "stdout",
     "output_type": "stream",
     "text": [
      "[CV] END activation=tanh, alpha=0.0001, hidden_layer_sizes=(128, 64), learning_rate=adaptive, solver=adam; total time= 1.4min\n",
      "[CV] END activation=tanh, alpha=0.001, hidden_layer_sizes=(64, 32), learning_rate=adaptive, solver=adam; total time=  45.0s\n",
      "[CV] END activation=tanh, alpha=0.001, hidden_layer_sizes=(64, 32), learning_rate=adaptive, solver=adam; total time=  46.0s\n",
      "[CV] END activation=tanh, alpha=0.0001, hidden_layer_sizes=(128, 64), learning_rate=adaptive, solver=adam; total time= 1.6min\n"
     ]
    },
    {
     "name": "stderr",
     "output_type": "stream",
     "text": [
      "[codecarbon INFO @ 13:47:17] Energy consumed for RAM : 0.000387 kWh. RAM Power : 3.0 W\n",
      "[codecarbon INFO @ 13:47:17] Energy consumed for all CPUs : 0.000645 kWh. Total CPU Power : 5.0 W\n",
      "[codecarbon INFO @ 13:47:17] 0.001032 kWh of electricity used since the beginning.\n"
     ]
    },
    {
     "name": "stdout",
     "output_type": "stream",
     "text": [
      "[CV] END activation=tanh, alpha=0.001, hidden_layer_sizes=(100, 50), learning_rate=constant, solver=adam; total time=  45.2s\n",
      "[CV] END activation=tanh, alpha=0.001, hidden_layer_sizes=(64, 32), learning_rate=adaptive, solver=adam; total time=  60.0s\n"
     ]
    },
    {
     "name": "stderr",
     "output_type": "stream",
     "text": [
      "[codecarbon INFO @ 13:47:32] Energy consumed for RAM : 0.000399 kWh. RAM Power : 3.0 W\n",
      "[codecarbon INFO @ 13:47:32] Energy consumed for all CPUs : 0.000666 kWh. Total CPU Power : 5.0 W\n",
      "[codecarbon INFO @ 13:47:32] 0.001065 kWh of electricity used since the beginning.\n",
      "[codecarbon INFO @ 13:47:32] 0.000386 g.CO2eq/s mean an estimation of 12.169206716353514 kg.CO2eq/year\n",
      "[codecarbon INFO @ 13:47:47] Energy consumed for RAM : 0.000412 kWh. RAM Power : 3.0 W\n",
      "[codecarbon INFO @ 13:47:47] Energy consumed for all CPUs : 0.000687 kWh. Total CPU Power : 5.0 W\n",
      "[codecarbon INFO @ 13:47:47] 0.001099 kWh of electricity used since the beginning.\n"
     ]
    },
    {
     "name": "stdout",
     "output_type": "stream",
     "text": [
      "[CV] END activation=tanh, alpha=0.001, hidden_layer_sizes=(100, 50), learning_rate=adaptive, solver=adam; total time=  43.1s\n",
      "[CV] END activation=tanh, alpha=0.001, hidden_layer_sizes=(100, 50), learning_rate=constant, solver=adam; total time= 1.2min\n"
     ]
    },
    {
     "name": "stderr",
     "output_type": "stream",
     "text": [
      "[codecarbon INFO @ 13:48:02] Energy consumed for RAM : 0.000424 kWh. RAM Power : 3.0 W\n",
      "[codecarbon INFO @ 13:48:02] Energy consumed for all CPUs : 0.000708 kWh. Total CPU Power : 5.0 W\n",
      "[codecarbon INFO @ 13:48:02] 0.001132 kWh of electricity used since the beginning.\n"
     ]
    },
    {
     "name": "stdout",
     "output_type": "stream",
     "text": [
      "[CV] END activation=tanh, alpha=0.001, hidden_layer_sizes=(100, 50), learning_rate=constant, solver=adam; total time= 1.2min\n"
     ]
    },
    {
     "name": "stderr",
     "output_type": "stream",
     "text": [
      "[codecarbon INFO @ 13:48:17] Energy consumed for RAM : 0.000437 kWh. RAM Power : 3.0 W\n",
      "[codecarbon INFO @ 13:48:17] Energy consumed for all CPUs : 0.000729 kWh. Total CPU Power : 5.0 W\n",
      "[codecarbon INFO @ 13:48:17] 0.001165 kWh of electricity used since the beginning.\n"
     ]
    },
    {
     "name": "stdout",
     "output_type": "stream",
     "text": [
      "[CV] END activation=tanh, alpha=0.001, hidden_layer_sizes=(100, 50), learning_rate=adaptive, solver=adam; total time= 1.2min\n",
      "[CV] END activation=tanh, alpha=0.001, hidden_layer_sizes=(128, 64), learning_rate=constant, solver=adam; total time= 1.1min\n",
      "[CV] END activation=tanh, alpha=0.001, hidden_layer_sizes=(100, 50), learning_rate=adaptive, solver=adam; total time= 1.2min\n"
     ]
    },
    {
     "name": "stderr",
     "output_type": "stream",
     "text": [
      "[codecarbon INFO @ 13:48:32] Energy consumed for RAM : 0.000449 kWh. RAM Power : 3.0 W\n",
      "[codecarbon INFO @ 13:48:32] Energy consumed for all CPUs : 0.000749 kWh. Total CPU Power : 5.0 W\n",
      "[codecarbon INFO @ 13:48:32] 0.001198 kWh of electricity used since the beginning.\n"
     ]
    },
    {
     "name": "stdout",
     "output_type": "stream",
     "text": [
      "[CV] END activation=tanh, alpha=0.001, hidden_layer_sizes=(128, 64), learning_rate=constant, solver=adam; total time= 1.2min\n",
      "[CV] END activation=tanh, alpha=0.001, hidden_layer_sizes=(128, 64), learning_rate=adaptive, solver=adam; total time=  57.7s\n"
     ]
    },
    {
     "name": "stderr",
     "output_type": "stream",
     "text": [
      "[codecarbon INFO @ 13:48:47] Energy consumed for RAM : 0.000461 kWh. RAM Power : 3.0 W\n",
      "[codecarbon INFO @ 13:48:47] Energy consumed for all CPUs : 0.000770 kWh. Total CPU Power : 5.0 W\n",
      "[codecarbon INFO @ 13:48:47] 0.001232 kWh of electricity used since the beginning.\n"
     ]
    },
    {
     "name": "stdout",
     "output_type": "stream",
     "text": [
      "[CV] END activation=tanh, alpha=0.001, hidden_layer_sizes=(128, 64), learning_rate=constant, solver=adam; total time= 1.4min\n"
     ]
    },
    {
     "name": "stderr",
     "output_type": "stream",
     "text": [
      "[codecarbon INFO @ 13:49:02] Energy consumed for RAM : 0.000474 kWh. RAM Power : 3.0 W\n",
      "[codecarbon INFO @ 13:49:02] Energy consumed for all CPUs : 0.000791 kWh. Total CPU Power : 5.0 W\n",
      "[codecarbon INFO @ 13:49:02] 0.001265 kWh of electricity used since the beginning.\n"
     ]
    },
    {
     "name": "stdout",
     "output_type": "stream",
     "text": [
      "[CV] END activation=tanh, alpha=0.001, hidden_layer_sizes=(128, 64), learning_rate=adaptive, solver=adam; total time=  59.7s\n",
      "[CV] END activation=tanh, alpha=0.001, hidden_layer_sizes=(128, 64), learning_rate=adaptive, solver=adam; total time= 1.2min\n"
     ]
    },
    {
     "name": "stderr",
     "output_type": "stream",
     "text": [
      "[codecarbon INFO @ 13:49:17] Energy consumed for RAM : 0.000486 kWh. RAM Power : 3.0 W\n",
      "[codecarbon INFO @ 13:49:17] Energy consumed for all CPUs : 0.000812 kWh. Total CPU Power : 5.0 W\n",
      "[codecarbon INFO @ 13:49:17] 0.001298 kWh of electricity used since the beginning.\n",
      "[codecarbon INFO @ 13:49:32] Energy consumed for RAM : 0.000499 kWh. RAM Power : 3.0 W\n",
      "[codecarbon INFO @ 13:49:32] Energy consumed for all CPUs : 0.000833 kWh. Total CPU Power : 5.0 W\n",
      "[codecarbon INFO @ 13:49:32] 0.001332 kWh of electricity used since the beginning.\n",
      "[codecarbon INFO @ 13:49:32] 0.000386 g.CO2eq/s mean an estimation of 12.18222279015827 kg.CO2eq/year\n",
      "[codecarbon INFO @ 13:49:47] Energy consumed for RAM : 0.000511 kWh. RAM Power : 3.0 W\n",
      "[codecarbon INFO @ 13:49:47] Energy consumed for all CPUs : 0.000854 kWh. Total CPU Power : 5.0 W\n",
      "[codecarbon INFO @ 13:49:47] 0.001365 kWh of electricity used since the beginning.\n",
      "[codecarbon INFO @ 13:50:02] Energy consumed for RAM : 0.000524 kWh. RAM Power : 3.0 W\n",
      "[codecarbon INFO @ 13:50:02] Energy consumed for all CPUs : 0.000874 kWh. Total CPU Power : 5.0 W\n",
      "[codecarbon INFO @ 13:50:02] 0.001398 kWh of electricity used since the beginning.\n",
      "[codecarbon INFO @ 13:50:17] Energy consumed for RAM : 0.000536 kWh. RAM Power : 3.0 W\n",
      "[codecarbon INFO @ 13:50:17] Energy consumed for all CPUs : 0.000895 kWh. Total CPU Power : 5.0 W\n",
      "[codecarbon INFO @ 13:50:17] 0.001432 kWh of electricity used since the beginning.\n",
      "[codecarbon INFO @ 13:50:32] Energy consumed for RAM : 0.000549 kWh. RAM Power : 3.0 W\n",
      "[codecarbon INFO @ 13:50:32] Energy consumed for all CPUs : 0.000916 kWh. Total CPU Power : 5.0 W\n",
      "[codecarbon INFO @ 13:50:32] 0.001465 kWh of electricity used since the beginning.\n"
     ]
    },
    {
     "name": "stdout",
     "output_type": "stream",
     "text": [
      "Mejores hiperparámetros: {'activation': 'tanh', 'alpha': 0.001, 'hidden_layer_sizes': (128, 64), 'learning_rate': 'constant', 'solver': 'adam'}\n",
      "Accuracy en train: 0.8372299993418583\n"
     ]
    }
   ],
   "source": [
    "from sklearn.neural_network import MLPClassifier\n",
    "from sklearn.model_selection import GridSearchCV\n",
    "\n",
    "# Definimos el clasificador base\n",
    "mlp = MLPClassifier(max_iter=200, early_stopping=True, random_state=42)\n",
    "\n",
    "param_grid = {\n",
    "    'hidden_layer_sizes': [(64, 32), (100, 50), (128, 64)],\n",
    "    'activation': ['relu', 'tanh'],\n",
    "    'solver': ['adam'],\n",
    "    'alpha': [0.0001, 0.001],\n",
    "    'learning_rate': ['constant', 'adaptive']\n",
    "}\n",
    "\n",
    "# GridSearch con validación cruzada\n",
    "grid_search = GridSearchCV(\n",
    "    mlp,\n",
    "    param_grid,\n",
    "    scoring='accuracy',\n",
    "    cv=3,\n",
    "    verbose=2,\n",
    "    n_jobs=-1\n",
    ")\n",
    "\n",
    "# Entrenamiento\n",
    "grid_search.fit(X_train, y_train)\n",
    "\n",
    "# Mostrar mejores resultados\n",
    "print(\"Mejores hiperparámetros:\", grid_search.best_params_)\n",
    "print(\"Accuracy en train:\", grid_search.best_score_)"
   ]
  },
  {
   "cell_type": "code",
   "execution_count": 6,
   "id": "16e8bbe8",
   "metadata": {},
   "outputs": [
    {
     "name": "stdout",
     "output_type": "stream",
     "text": [
      "Accuracy: 0.83896\n",
      "F1 Score: 0.7552732356695642\n",
      "AUC-ROC: 0.908040039412041\n",
      "\n",
      "Classification report:\n",
      "               precision    recall  f1-score   support\n",
      "\n",
      "           0       0.87      0.89      0.88     33065\n",
      "           1       0.78      0.73      0.76     16935\n",
      "\n",
      "    accuracy                           0.84     50000\n",
      "   macro avg       0.82      0.81      0.82     50000\n",
      "weighted avg       0.84      0.84      0.84     50000\n",
      "\n"
     ]
    }
   ],
   "source": [
    "from sklearn.metrics import accuracy_score, f1_score, roc_auc_score, classification_report\n",
    "\n",
    "# Predecimos con el mejor modelo\n",
    "y_pred = grid_search.best_estimator_.predict(X_test)\n",
    "y_proba = grid_search.best_estimator_.predict_proba(X_test)[:, 1]\n",
    "\n",
    "# Métricas\n",
    "print(\"Accuracy:\", accuracy_score(y_test, y_pred))\n",
    "print(\"F1 Score:\", f1_score(y_test, y_pred))\n",
    "print(\"AUC-ROC:\", roc_auc_score(y_test, y_proba))\n",
    "\n",
    "\n",
    "print(\"\\nClassification report:\\n\", classification_report(y_test, y_pred))"
   ]
  },
  {
   "cell_type": "markdown",
   "id": "749fb293",
   "metadata": {},
   "source": [
    "Buenos resultados, pero intentamos conseguir un modelo aún mejor"
   ]
  },
  {
   "cell_type": "code",
   "execution_count": 7,
   "id": "51ce8397",
   "metadata": {},
   "outputs": [
    {
     "name": "stdout",
     "output_type": "stream",
     "text": [
      "Fitting 3 folds for each of 6 candidates, totalling 18 fits\n"
     ]
    },
    {
     "name": "stderr",
     "output_type": "stream",
     "text": [
      "[codecarbon INFO @ 13:50:47] Energy consumed for RAM : 0.000561 kWh. RAM Power : 3.0 W\n",
      "[codecarbon INFO @ 13:50:47] Energy consumed for all CPUs : 0.000937 kWh. Total CPU Power : 5.0 W\n",
      "[codecarbon INFO @ 13:50:47] 0.001498 kWh of electricity used since the beginning.\n",
      "[codecarbon INFO @ 13:51:02] Energy consumed for RAM : 0.000574 kWh. RAM Power : 3.0 W\n",
      "[codecarbon INFO @ 13:51:02] Energy consumed for all CPUs : 0.000958 kWh. Total CPU Power : 5.0 W\n",
      "[codecarbon INFO @ 13:51:02] 0.001532 kWh of electricity used since the beginning.\n",
      "[codecarbon INFO @ 13:51:17] Energy consumed for RAM : 0.000586 kWh. RAM Power : 3.0 W\n",
      "[codecarbon INFO @ 13:51:17] Energy consumed for all CPUs : 0.000979 kWh. Total CPU Power : 5.0 W\n",
      "[codecarbon INFO @ 13:51:17] 0.001565 kWh of electricity used since the beginning.\n"
     ]
    },
    {
     "name": "stdout",
     "output_type": "stream",
     "text": [
      "[CV] END activation=tanh, alpha=0.0005, hidden_layer_sizes=(128, 64, 32), learning_rate=adaptive, solver=adam; total time=  55.2s\n"
     ]
    },
    {
     "name": "stderr",
     "output_type": "stream",
     "text": [
      "[codecarbon INFO @ 13:51:32] Energy consumed for RAM : 0.000599 kWh. RAM Power : 3.0 W\n",
      "[codecarbon INFO @ 13:51:32] Energy consumed for all CPUs : 0.000999 kWh. Total CPU Power : 5.0 W\n",
      "[codecarbon INFO @ 13:51:32] 0.001598 kWh of electricity used since the beginning.\n",
      "[codecarbon INFO @ 13:51:32] 0.000386 g.CO2eq/s mean an estimation of 12.180090389988226 kg.CO2eq/year\n",
      "[codecarbon INFO @ 13:51:47] Energy consumed for RAM : 0.000611 kWh. RAM Power : 3.0 W\n",
      "[codecarbon INFO @ 13:51:47] Energy consumed for all CPUs : 0.001020 kWh. Total CPU Power : 5.0 W\n",
      "[codecarbon INFO @ 13:51:48] 0.001632 kWh of electricity used since the beginning.\n",
      "[codecarbon INFO @ 13:52:02] Energy consumed for RAM : 0.000624 kWh. RAM Power : 3.0 W\n",
      "[codecarbon INFO @ 13:52:02] Energy consumed for all CPUs : 0.001041 kWh. Total CPU Power : 5.0 W\n",
      "[codecarbon INFO @ 13:52:02] 0.001665 kWh of electricity used since the beginning.\n"
     ]
    },
    {
     "name": "stdout",
     "output_type": "stream",
     "text": [
      "[CV] END activation=tanh, alpha=0.001, hidden_layer_sizes=(128, 64, 32), learning_rate=adaptive, solver=adam; total time= 1.5min\n"
     ]
    },
    {
     "name": "stderr",
     "output_type": "stream",
     "text": [
      "[codecarbon INFO @ 13:52:17] Energy consumed for RAM : 0.000636 kWh. RAM Power : 3.0 W\n",
      "[codecarbon INFO @ 13:52:18] Energy consumed for all CPUs : 0.001062 kWh. Total CPU Power : 5.0 W\n",
      "[codecarbon INFO @ 13:52:18] 0.001698 kWh of electricity used since the beginning.\n"
     ]
    },
    {
     "name": "stdout",
     "output_type": "stream",
     "text": [
      "[CV] END activation=tanh, alpha=0.0005, hidden_layer_sizes=(128, 64, 32), learning_rate=adaptive, solver=adam; total time= 1.8min\n",
      "[CV] END activation=tanh, alpha=0.001, hidden_layer_sizes=(128, 64, 32), learning_rate=adaptive, solver=adam; total time= 1.8min\n"
     ]
    },
    {
     "name": "stderr",
     "output_type": "stream",
     "text": [
      "[codecarbon INFO @ 13:52:32] Energy consumed for RAM : 0.000649 kWh. RAM Power : 3.0 W\n",
      "[codecarbon INFO @ 13:52:32] Energy consumed for all CPUs : 0.001083 kWh. Total CPU Power : 5.0 W\n",
      "[codecarbon INFO @ 13:52:32] 0.001732 kWh of electricity used since the beginning.\n"
     ]
    },
    {
     "name": "stdout",
     "output_type": "stream",
     "text": [
      "[CV] END activation=tanh, alpha=0.001, hidden_layer_sizes=(128, 64, 32), learning_rate=adaptive, solver=adam; total time= 1.0min\n",
      "[CV] END activation=tanh, alpha=0.0005, hidden_layer_sizes=(128, 64, 32), learning_rate=adaptive, solver=adam; total time= 2.0min\n"
     ]
    },
    {
     "name": "stderr",
     "output_type": "stream",
     "text": [
      "[codecarbon INFO @ 13:52:48] Energy consumed for RAM : 0.000661 kWh. RAM Power : 3.0 W\n",
      "[codecarbon INFO @ 13:52:48] Energy consumed for all CPUs : 0.001104 kWh. Total CPU Power : 5.0 W\n",
      "[codecarbon INFO @ 13:52:48] 0.001765 kWh of electricity used since the beginning.\n",
      "[codecarbon INFO @ 13:53:03] Energy consumed for RAM : 0.000674 kWh. RAM Power : 3.0 W\n",
      "[codecarbon INFO @ 13:53:03] Energy consumed for all CPUs : 0.001124 kWh. Total CPU Power : 5.0 W\n",
      "[codecarbon INFO @ 13:53:03] 0.001798 kWh of electricity used since the beginning.\n",
      "[codecarbon INFO @ 13:53:18] Energy consumed for RAM : 0.000686 kWh. RAM Power : 3.0 W\n",
      "[codecarbon INFO @ 13:53:18] Energy consumed for all CPUs : 0.001145 kWh. Total CPU Power : 5.0 W\n",
      "[codecarbon INFO @ 13:53:18] 0.001832 kWh of electricity used since the beginning.\n",
      "[codecarbon INFO @ 13:53:33] Energy consumed for RAM : 0.000699 kWh. RAM Power : 3.0 W\n",
      "[codecarbon INFO @ 13:53:33] Energy consumed for all CPUs : 0.001166 kWh. Total CPU Power : 5.0 W\n",
      "[codecarbon INFO @ 13:53:33] 0.001865 kWh of electricity used since the beginning.\n",
      "[codecarbon INFO @ 13:53:33] 0.000386 g.CO2eq/s mean an estimation of 12.187075002352492 kg.CO2eq/year\n",
      "[codecarbon INFO @ 13:53:48] Energy consumed for RAM : 0.000711 kWh. RAM Power : 3.0 W\n",
      "[codecarbon INFO @ 13:53:48] Energy consumed for all CPUs : 0.001187 kWh. Total CPU Power : 5.0 W\n",
      "[codecarbon INFO @ 13:53:48] 0.001898 kWh of electricity used since the beginning.\n",
      "[codecarbon INFO @ 13:54:03] Energy consumed for RAM : 0.000724 kWh. RAM Power : 3.0 W\n",
      "[codecarbon INFO @ 13:54:03] Energy consumed for all CPUs : 0.001208 kWh. Total CPU Power : 5.0 W\n",
      "[codecarbon INFO @ 13:54:03] 0.001931 kWh of electricity used since the beginning.\n"
     ]
    },
    {
     "name": "stdout",
     "output_type": "stream",
     "text": [
      "[CV] END activation=tanh, alpha=0.0005, hidden_layer_sizes=(256, 128, 64), learning_rate=adaptive, solver=adam; total time= 3.5min\n",
      "[CV] END activation=tanh, alpha=0.005, hidden_layer_sizes=(128, 64, 32), learning_rate=adaptive, solver=adam; total time= 1.7min\n"
     ]
    },
    {
     "name": "stderr",
     "output_type": "stream",
     "text": [
      "[codecarbon INFO @ 13:54:18] Energy consumed for RAM : 0.000736 kWh. RAM Power : 3.0 W\n",
      "[codecarbon INFO @ 13:54:18] Energy consumed for all CPUs : 0.001229 kWh. Total CPU Power : 5.0 W\n",
      "[codecarbon INFO @ 13:54:18] 0.001965 kWh of electricity used since the beginning.\n"
     ]
    },
    {
     "name": "stdout",
     "output_type": "stream",
     "text": [
      "[CV] END activation=tanh, alpha=0.005, hidden_layer_sizes=(128, 64, 32), learning_rate=adaptive, solver=adam; total time= 1.8min\n",
      "[CV] END activation=tanh, alpha=0.0005, hidden_layer_sizes=(256, 128, 64), learning_rate=adaptive, solver=adam; total time= 3.9min\n"
     ]
    },
    {
     "name": "stderr",
     "output_type": "stream",
     "text": [
      "[codecarbon INFO @ 13:54:33] Energy consumed for RAM : 0.000749 kWh. RAM Power : 3.0 W\n",
      "[codecarbon INFO @ 13:54:33] Energy consumed for all CPUs : 0.001249 kWh. Total CPU Power : 5.0 W\n",
      "[codecarbon INFO @ 13:54:33] 0.001998 kWh of electricity used since the beginning.\n",
      "[codecarbon INFO @ 13:54:48] Energy consumed for RAM : 0.000761 kWh. RAM Power : 3.0 W\n",
      "[codecarbon INFO @ 13:54:48] Energy consumed for all CPUs : 0.001270 kWh. Total CPU Power : 5.0 W\n",
      "[codecarbon INFO @ 13:54:48] 0.002031 kWh of electricity used since the beginning.\n"
     ]
    },
    {
     "name": "stdout",
     "output_type": "stream",
     "text": [
      "[CV] END activation=tanh, alpha=0.0005, hidden_layer_sizes=(256, 128, 64), learning_rate=adaptive, solver=adam; total time= 4.3min\n"
     ]
    },
    {
     "name": "stderr",
     "output_type": "stream",
     "text": [
      "[codecarbon INFO @ 13:55:03] Energy consumed for RAM : 0.000774 kWh. RAM Power : 3.0 W\n",
      "[codecarbon INFO @ 13:55:03] Energy consumed for all CPUs : 0.001291 kWh. Total CPU Power : 5.0 W\n",
      "[codecarbon INFO @ 13:55:03] 0.002065 kWh of electricity used since the beginning.\n",
      "[codecarbon INFO @ 13:55:18] Energy consumed for RAM : 0.000786 kWh. RAM Power : 3.0 W\n",
      "[codecarbon INFO @ 13:55:18] Energy consumed for all CPUs : 0.001312 kWh. Total CPU Power : 5.0 W\n",
      "[codecarbon INFO @ 13:55:18] 0.002098 kWh of electricity used since the beginning.\n"
     ]
    },
    {
     "name": "stdout",
     "output_type": "stream",
     "text": [
      "[CV] END activation=tanh, alpha=0.005, hidden_layer_sizes=(128, 64, 32), learning_rate=adaptive, solver=adam; total time= 1.3min\n",
      "[CV] END activation=tanh, alpha=0.001, hidden_layer_sizes=(256, 128, 64), learning_rate=adaptive, solver=adam; total time= 3.0min\n"
     ]
    },
    {
     "name": "stderr",
     "output_type": "stream",
     "text": [
      "[codecarbon INFO @ 13:55:33] Energy consumed for RAM : 0.000799 kWh. RAM Power : 3.0 W\n",
      "[codecarbon INFO @ 13:55:33] Energy consumed for all CPUs : 0.001333 kWh. Total CPU Power : 5.0 W\n",
      "[codecarbon INFO @ 13:55:33] 0.002131 kWh of electricity used since the beginning.\n",
      "[codecarbon INFO @ 13:55:33] 0.000386 g.CO2eq/s mean an estimation of 12.179845283942518 kg.CO2eq/year\n"
     ]
    },
    {
     "name": "stdout",
     "output_type": "stream",
     "text": [
      "[CV] END activation=tanh, alpha=0.001, hidden_layer_sizes=(256, 128, 64), learning_rate=adaptive, solver=adam; total time= 3.6min\n"
     ]
    },
    {
     "name": "stderr",
     "output_type": "stream",
     "text": [
      "[codecarbon INFO @ 13:55:48] Energy consumed for RAM : 0.000811 kWh. RAM Power : 3.0 W\n",
      "[codecarbon INFO @ 13:55:48] Energy consumed for all CPUs : 0.001354 kWh. Total CPU Power : 5.0 W\n",
      "[codecarbon INFO @ 13:55:48] 0.002165 kWh of electricity used since the beginning.\n",
      "[codecarbon INFO @ 13:56:03] Energy consumed for RAM : 0.000824 kWh. RAM Power : 3.0 W\n",
      "[codecarbon INFO @ 13:56:03] Energy consumed for all CPUs : 0.001374 kWh. Total CPU Power : 5.0 W\n",
      "[codecarbon INFO @ 13:56:03] 0.002198 kWh of electricity used since the beginning.\n"
     ]
    },
    {
     "name": "stdout",
     "output_type": "stream",
     "text": [
      "[CV] END activation=tanh, alpha=0.001, hidden_layer_sizes=(256, 128, 64), learning_rate=adaptive, solver=adam; total time= 3.7min\n"
     ]
    },
    {
     "name": "stderr",
     "output_type": "stream",
     "text": [
      "[codecarbon INFO @ 13:56:18] Energy consumed for RAM : 0.000836 kWh. RAM Power : 3.0 W\n",
      "[codecarbon INFO @ 13:56:18] Energy consumed for all CPUs : 0.001395 kWh. Total CPU Power : 5.0 W\n",
      "[codecarbon INFO @ 13:56:18] 0.002231 kWh of electricity used since the beginning.\n",
      "[codecarbon INFO @ 13:56:33] Energy consumed for RAM : 0.000849 kWh. RAM Power : 3.0 W\n",
      "[codecarbon INFO @ 13:56:33] Energy consumed for all CPUs : 0.001416 kWh. Total CPU Power : 5.0 W\n",
      "[codecarbon INFO @ 13:56:33] 0.002265 kWh of electricity used since the beginning.\n"
     ]
    },
    {
     "name": "stdout",
     "output_type": "stream",
     "text": [
      "[CV] END activation=tanh, alpha=0.005, hidden_layer_sizes=(256, 128, 64), learning_rate=adaptive, solver=adam; total time= 2.5min\n"
     ]
    },
    {
     "name": "stderr",
     "output_type": "stream",
     "text": [
      "[codecarbon INFO @ 13:56:48] Energy consumed for RAM : 0.000861 kWh. RAM Power : 3.0 W\n",
      "[codecarbon INFO @ 13:56:48] Energy consumed for all CPUs : 0.001437 kWh. Total CPU Power : 5.0 W\n",
      "[codecarbon INFO @ 13:56:48] 0.002298 kWh of electricity used since the beginning.\n"
     ]
    },
    {
     "name": "stdout",
     "output_type": "stream",
     "text": [
      "[CV] END activation=tanh, alpha=0.005, hidden_layer_sizes=(256, 128, 64), learning_rate=adaptive, solver=adam; total time= 2.6min\n"
     ]
    },
    {
     "name": "stderr",
     "output_type": "stream",
     "text": [
      "[codecarbon INFO @ 13:57:03] Energy consumed for RAM : 0.000874 kWh. RAM Power : 3.0 W\n",
      "[codecarbon INFO @ 13:57:03] Energy consumed for all CPUs : 0.001458 kWh. Total CPU Power : 5.0 W\n",
      "[codecarbon INFO @ 13:57:03] 0.002331 kWh of electricity used since the beginning.\n"
     ]
    },
    {
     "name": "stdout",
     "output_type": "stream",
     "text": [
      "[CV] END activation=tanh, alpha=0.005, hidden_layer_sizes=(256, 128, 64), learning_rate=adaptive, solver=adam; total time= 2.6min\n"
     ]
    },
    {
     "name": "stderr",
     "output_type": "stream",
     "text": [
      "[codecarbon INFO @ 13:57:18] Energy consumed for RAM : 0.000886 kWh. RAM Power : 3.0 W\n",
      "[codecarbon INFO @ 13:57:18] Energy consumed for all CPUs : 0.001479 kWh. Total CPU Power : 5.0 W\n",
      "[codecarbon INFO @ 13:57:18] 0.002365 kWh of electricity used since the beginning.\n",
      "[codecarbon INFO @ 13:57:33] Energy consumed for RAM : 0.000899 kWh. RAM Power : 3.0 W\n",
      "[codecarbon INFO @ 13:57:33] Energy consumed for all CPUs : 0.001499 kWh. Total CPU Power : 5.0 W\n",
      "[codecarbon INFO @ 13:57:33] 0.002398 kWh of electricity used since the beginning.\n",
      "[codecarbon INFO @ 13:57:33] 0.000387 g.CO2eq/s mean an estimation of 12.194382683520086 kg.CO2eq/year\n",
      "[codecarbon INFO @ 13:57:48] Energy consumed for RAM : 0.000911 kWh. RAM Power : 3.0 W\n",
      "[codecarbon INFO @ 13:57:48] Energy consumed for all CPUs : 0.001520 kWh. Total CPU Power : 5.0 W\n",
      "[codecarbon INFO @ 13:57:48] 0.002431 kWh of electricity used since the beginning.\n",
      "[codecarbon INFO @ 13:58:03] Energy consumed for RAM : 0.000924 kWh. RAM Power : 3.0 W\n",
      "[codecarbon INFO @ 13:58:03] Energy consumed for all CPUs : 0.001541 kWh. Total CPU Power : 5.0 W\n",
      "[codecarbon INFO @ 13:58:03] 0.002465 kWh of electricity used since the beginning.\n",
      "[codecarbon INFO @ 13:58:18] Energy consumed for RAM : 0.000936 kWh. RAM Power : 3.0 W\n",
      "[codecarbon INFO @ 13:58:18] Energy consumed for all CPUs : 0.001562 kWh. Total CPU Power : 5.0 W\n",
      "[codecarbon INFO @ 13:58:18] 0.002498 kWh of electricity used since the beginning.\n",
      "[codecarbon INFO @ 13:58:33] Energy consumed for RAM : 0.000949 kWh. RAM Power : 3.0 W\n",
      "[codecarbon INFO @ 13:58:33] Energy consumed for all CPUs : 0.001583 kWh. Total CPU Power : 5.0 W\n",
      "[codecarbon INFO @ 13:58:33] 0.002531 kWh of electricity used since the beginning.\n"
     ]
    },
    {
     "name": "stdout",
     "output_type": "stream",
     "text": [
      "Mejores hiperparámetros: {'activation': 'tanh', 'alpha': 0.001, 'hidden_layer_sizes': (128, 64, 32), 'learning_rate': 'adaptive', 'solver': 'adam'}\n",
      "Accuracy en train: 0.8363799945167916\n"
     ]
    }
   ],
   "source": [
    "from sklearn.neural_network import MLPClassifier\n",
    "from sklearn.model_selection import GridSearchCV\n",
    "\n",
    "# Nuevo clasificador base\n",
    "mlp = MLPClassifier(max_iter=200, early_stopping=True, random_state=42)\n",
    "\n",
    "# Nueva rejilla más ambiciosa\n",
    "param_grid = {\n",
    "    'hidden_layer_sizes': [(128, 64, 32), (256, 128, 64)],\n",
    "    'activation': ['tanh'],\n",
    "    'solver': ['adam'],\n",
    "    'alpha': [0.0005, 0.001, 0.005],\n",
    "    'learning_rate': ['adaptive']\n",
    "}\n",
    "\n",
    "# GridSearch con validación cruzada\n",
    "grid_search_deep = GridSearchCV(\n",
    "    mlp,\n",
    "    param_grid,\n",
    "    scoring='accuracy',\n",
    "    cv=3,\n",
    "    verbose=2,\n",
    "    n_jobs=-1\n",
    ")\n",
    "\n",
    "# Entrenamiento\n",
    "grid_search_deep.fit(X_train, y_train)\n",
    "\n",
    "# Resultados\n",
    "print(\"Mejores hiperparámetros:\", grid_search_deep.best_params_)\n",
    "print(\"Accuracy en train:\", grid_search_deep.best_score_)\n"
   ]
  },
  {
   "cell_type": "code",
   "execution_count": 8,
   "id": "9a74002f",
   "metadata": {},
   "outputs": [
    {
     "name": "stdout",
     "output_type": "stream",
     "text": [
      "Accuracy: 0.83632\n",
      "F1 Score: 0.7547497752472281\n",
      "AUC-ROC: 0.9088581129465092\n",
      "\n",
      "Classification report:\n",
      "               precision    recall  f1-score   support\n",
      "\n",
      "           0       0.87      0.88      0.88     33065\n",
      "           1       0.77      0.74      0.75     16935\n",
      "\n",
      "    accuracy                           0.84     50000\n",
      "   macro avg       0.82      0.81      0.82     50000\n",
      "weighted avg       0.84      0.84      0.84     50000\n",
      "\n"
     ]
    }
   ],
   "source": [
    "# Evaluación final en test con el nuevo modelo\n",
    "from sklearn.metrics import accuracy_score, f1_score, roc_auc_score, classification_report\n",
    "\n",
    "y_pred = grid_search_deep.best_estimator_.predict(X_test)\n",
    "y_proba = grid_search_deep.best_estimator_.predict_proba(X_test)[:, 1]\n",
    "\n",
    "print(\"Accuracy:\", accuracy_score(y_test, y_pred))\n",
    "print(\"F1 Score:\", f1_score(y_test, y_pred))\n",
    "print(\"AUC-ROC:\", roc_auc_score(y_test, y_proba))\n",
    "print(\"\\nClassification report:\\n\", classification_report(y_test, y_pred))\n"
   ]
  },
  {
   "cell_type": "markdown",
   "id": "84186cc3",
   "metadata": {},
   "source": [
    "### Selección del modelo MLP final\n",
    "\n",
    "Tras comparar varias arquitecturas, seleccionamos como modelo final el MLP con configuración `(128, 64)`, función de activación `'tanh'` y tasa de aprendizaje `'constant'`. \n",
    "\n",
    "Este modelo ofrece el mejor equilibrio entre precisión, capacidad de generalización y simplicidad.\n",
    "\n",
    "Aunque una arquitectura más profunda con `learning_rate='adaptive'` mejoró ligeramente el recall, no aportó mejoras significativas en el rendimiento global. Por tanto, priorizamos el modelo más eficiente y robusto.\n"
   ]
  },
  {
   "cell_type": "code",
   "execution_count": 9,
   "id": "74433b3c",
   "metadata": {},
   "outputs": [
    {
     "name": "stderr",
     "output_type": "stream",
     "text": [
      "[codecarbon INFO @ 13:58:43] Energy consumed for RAM : 0.000957 kWh. RAM Power : 3.0 W\n",
      "[codecarbon INFO @ 13:58:43] Energy consumed for all CPUs : 0.001597 kWh. Total CPU Power : 5.0 W\n",
      "[codecarbon INFO @ 13:58:43] 0.002554 kWh of electricity used since the beginning.\n"
     ]
    }
   ],
   "source": [
    "emissions = tracker.stop()"
   ]
  }
 ],
 "metadata": {
  "kernelspec": {
   "display_name": "base",
   "language": "python",
   "name": "python3"
  },
  "language_info": {
   "codemirror_mode": {
    "name": "ipython",
    "version": 3
   },
   "file_extension": ".py",
   "mimetype": "text/x-python",
   "name": "python",
   "nbconvert_exporter": "python",
   "pygments_lexer": "ipython3",
   "version": "3.9.12"
  }
 },
 "nbformat": 4,
 "nbformat_minor": 5
}
