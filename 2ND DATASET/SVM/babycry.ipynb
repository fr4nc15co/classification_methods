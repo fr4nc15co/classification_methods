{
 "cells": [
  {
   "cell_type": "code",
   "execution_count": 1,
   "metadata": {},
   "outputs": [
    {
     "name": "stderr",
     "output_type": "stream",
     "text": [
      "[codecarbon INFO @ 19:45:06] [setup] RAM Tracking...\n",
      "[codecarbon INFO @ 19:45:06] [setup] CPU Tracking...\n",
      "[codecarbon WARNING @ 19:45:10] No CPU tracking mode found. Falling back on CPU constant mode. \n",
      " Mac OS and ARM processor detected: Please enable PowerMetrics sudo to measure CPU\n",
      "\n",
      "[codecarbon INFO @ 19:45:12] CPU Model on constant consumption mode: Apple M1\n",
      "[codecarbon INFO @ 19:45:12] [setup] GPU Tracking...\n",
      "[codecarbon INFO @ 19:45:12] No GPU found.\n",
      "[codecarbon INFO @ 19:45:12] >>> Tracker's metadata:\n",
      "[codecarbon INFO @ 19:45:12]   Platform system: macOS-10.16-x86_64-i386-64bit\n",
      "[codecarbon INFO @ 19:45:12]   Python version: 3.9.12\n",
      "[codecarbon INFO @ 19:45:12]   CodeCarbon version: 2.8.3\n",
      "[codecarbon INFO @ 19:45:12]   Available RAM : 8.000 GB\n",
      "[codecarbon INFO @ 19:45:12]   CPU count: 8\n",
      "[codecarbon INFO @ 19:45:12]   CPU model: Apple M1\n",
      "[codecarbon INFO @ 19:45:12]   GPU count: None\n",
      "[codecarbon INFO @ 19:45:12]   GPU model: None\n",
      "[codecarbon INFO @ 19:45:15] Saving emissions data to file /Users/lucia/Desktop/classification_methods/2ND DATASET/SVM/emissions.csv\n"
     ]
    }
   ],
   "source": [
    "from codecarbon import EmissionsTracker\n",
    "try:\n",
    "    tracker.stop()  # Intenta detener cualquier instancia previa de codecarbon\n",
    "except:\n",
    "    pass  # Ignora el error si no hay ninguna instancia activa\n",
    "# Iniciar el medidor\n",
    "tracker = EmissionsTracker()\n",
    "tracker.start()"
   ]
  },
  {
   "cell_type": "code",
   "execution_count": 2,
   "metadata": {},
   "outputs": [],
   "source": [
    "import numpy as np # linear algebra\n",
    "import pandas as pd # data processing, CSV file I/O (e.g. pd.read_csv)\n",
    "import matplotlib.pyplot as plt # for data visualization\n",
    "import seaborn as sns # for statistical data visualization"
   ]
  },
  {
   "cell_type": "code",
   "execution_count": 3,
   "metadata": {},
   "outputs": [
    {
     "name": "stdout",
     "output_type": "stream",
     "text": [
      "Requirement already satisfied: kagglehub in /Users/lucia/opt/anaconda3/lib/python3.9/site-packages (0.3.10)\n",
      "Requirement already satisfied: requests in /Users/lucia/opt/anaconda3/lib/python3.9/site-packages (from kagglehub) (2.27.1)\n",
      "Requirement already satisfied: tqdm in /Users/lucia/opt/anaconda3/lib/python3.9/site-packages (from kagglehub) (4.64.0)\n",
      "Requirement already satisfied: packaging in /Users/lucia/opt/anaconda3/lib/python3.9/site-packages (from kagglehub) (21.3)\n",
      "Requirement already satisfied: pyyaml in /Users/lucia/opt/anaconda3/lib/python3.9/site-packages (from kagglehub) (6.0)\n",
      "Requirement already satisfied: pyparsing!=3.0.5,>=2.0.2 in /Users/lucia/opt/anaconda3/lib/python3.9/site-packages (from packaging->kagglehub) (3.2.0)\n",
      "Requirement already satisfied: certifi>=2017.4.17 in /Users/lucia/opt/anaconda3/lib/python3.9/site-packages (from requests->kagglehub) (2021.10.8)\n",
      "Requirement already satisfied: charset-normalizer~=2.0.0 in /Users/lucia/opt/anaconda3/lib/python3.9/site-packages (from requests->kagglehub) (2.0.4)\n",
      "Requirement already satisfied: urllib3<1.27,>=1.21.1 in /Users/lucia/opt/anaconda3/lib/python3.9/site-packages (from requests->kagglehub) (1.26.9)\n",
      "Requirement already satisfied: idna<4,>=2.5 in /Users/lucia/opt/anaconda3/lib/python3.9/site-packages (from requests->kagglehub) (3.3)\n",
      "Note: you may need to restart the kernel to use updated packages.\n"
     ]
    }
   ],
   "source": [
    "%pip install --upgrade kagglehub"
   ]
  },
  {
   "cell_type": "code",
   "execution_count": 4,
   "metadata": {},
   "outputs": [
    {
     "name": "stdout",
     "output_type": "stream",
     "text": [
      "Name: kagglehub\n",
      "Version: 0.3.10\n",
      "Summary: Access Kaggle resources anywhere\n",
      "Home-page: \n",
      "Author: \n",
      "Author-email: Kaggle <support@kaggle.com>\n",
      "License: Apache License\n",
      "                                   Version 2.0, January 2004\n",
      "                                http://www.apache.org/licenses/\n",
      "        \n",
      "           TERMS AND CONDITIONS FOR USE, REPRODUCTION, AND DISTRIBUTION\n",
      "        \n",
      "           1. Definitions.\n",
      "        \n",
      "              \"License\" shall mean the terms and conditions for use, reproduction,\n",
      "              and distribution as defined by Sections 1 through 9 of this document.\n",
      "        \n",
      "              \"Licensor\" shall mean the copyright owner or entity authorized by\n",
      "              the copyright owner that is granting the License.\n",
      "        \n",
      "              \"Legal Entity\" shall mean the union of the acting entity and all\n",
      "              other entities that control, are controlled by, or are under common\n",
      "              control with that entity. For the purposes of this definition,\n",
      "              \"control\" means (i) the power, direct or indirect, to cause the\n",
      "              direction or management of such entity, whether by contract or\n",
      "              otherwise, or (ii) ownership of fifty percent (50%) or more of the\n",
      "              outstanding shares, or (iii) beneficial ownership of such entity.\n",
      "        \n",
      "              \"You\" (or \"Your\") shall mean an individual or Legal Entity\n",
      "              exercising permissions granted by this License.\n",
      "        \n",
      "              \"Source\" form shall mean the preferred form for making modifications,\n",
      "              including but not limited to software source code, documentation\n",
      "              source, and configuration files.\n",
      "        \n",
      "              \"Object\" form shall mean any form resulting from mechanical\n",
      "              transformation or translation of a Source form, including but\n",
      "              not limited to compiled object code, generated documentation,\n",
      "              and conversions to other media types.\n",
      "        \n",
      "              \"Work\" shall mean the work of authorship, whether in Source or\n",
      "              Object form, made available under the License, as indicated by a\n",
      "              copyright notice that is included in or attached to the work\n",
      "              (an example is provided in the Appendix below).\n",
      "        \n",
      "              \"Derivative Works\" shall mean any work, whether in Source or Object\n",
      "              form, that is based on (or derived from) the Work and for which the\n",
      "              editorial revisions, annotations, elaborations, or other modifications\n",
      "              represent, as a whole, an original work of authorship. For the purposes\n",
      "              of this License, Derivative Works shall not include works that remain\n",
      "              separable from, or merely link (or bind by name) to the interfaces of,\n",
      "              the Work and Derivative Works thereof.\n",
      "        \n",
      "              \"Contribution\" shall mean any work of authorship, including\n",
      "              the original version of the Work and any modifications or additions\n",
      "              to that Work or Derivative Works thereof, that is intentionally\n",
      "              submitted to Licensor for inclusion in the Work by the copyright owner\n",
      "              or by an individual or Legal Entity authorized to submit on behalf of\n",
      "              the copyright owner. For the purposes of this definition, \"submitted\"\n",
      "              means any form of electronic, verbal, or written communication sent\n",
      "              to the Licensor or its representatives, including but not limited to\n",
      "              communication on electronic mailing lists, source code control systems,\n",
      "              and issue tracking systems that are managed by, or on behalf of, the\n",
      "              Licensor for the purpose of discussing and improving the Work, but\n",
      "              excluding communication that is conspicuously marked or otherwise\n",
      "              designated in writing by the copyright owner as \"Not a Contribution.\"\n",
      "        \n",
      "              \"Contributor\" shall mean Licensor and any individual or Legal Entity\n",
      "              on behalf of whom a Contribution has been received by Licensor and\n",
      "              subsequently incorporated within the Work.\n",
      "        \n",
      "           2. Grant of Copyright License. Subject to the terms and conditions of\n",
      "              this License, each Contributor hereby grants to You a perpetual,\n",
      "              worldwide, non-exclusive, no-charge, royalty-free, irrevocable\n",
      "              copyright license to reproduce, prepare Derivative Works of,\n",
      "              publicly display, publicly perform, sublicense, and distribute the\n",
      "              Work and such Derivative Works in Source or Object form.\n",
      "        \n",
      "           3. Grant of Patent License. Subject to the terms and conditions of\n",
      "              this License, each Contributor hereby grants to You a perpetual,\n",
      "              worldwide, non-exclusive, no-charge, royalty-free, irrevocable\n",
      "              (except as stated in this section) patent license to make, have made,\n",
      "              use, offer to sell, sell, import, and otherwise transfer the Work,\n",
      "              where such license applies only to those patent claims licensable\n",
      "              by such Contributor that are necessarily infringed by their\n",
      "              Contribution(s) alone or by combination of their Contribution(s)\n",
      "              with the Work to which such Contribution(s) was submitted. If You\n",
      "              institute patent litigation against any entity (including a\n",
      "              cross-claim or counterclaim in a lawsuit) alleging that the Work\n",
      "              or a Contribution incorporated within the Work constitutes direct\n",
      "              or contributory patent infringement, then any patent licenses\n",
      "              granted to You under this License for that Work shall terminate\n",
      "              as of the date such litigation is filed.\n",
      "        \n",
      "           4. Redistribution. You may reproduce and distribute copies of the\n",
      "              Work or Derivative Works thereof in any medium, with or without\n",
      "              modifications, and in Source or Object form, provided that You\n",
      "              meet the following conditions:\n",
      "        \n",
      "              (a) You must give any other recipients of the Work or\n",
      "                  Derivative Works a copy of this License; and\n",
      "        \n",
      "              (b) You must cause any modified files to carry prominent notices\n",
      "                  stating that You changed the files; and\n",
      "        \n",
      "              (c) You must retain, in the Source form of any Derivative Works\n",
      "                  that You distribute, all copyright, patent, trademark, and\n",
      "                  attribution notices from the Source form of the Work,\n",
      "                  excluding those notices that do not pertain to any part of\n",
      "                  the Derivative Works; and\n",
      "        \n",
      "              (d) If the Work includes a \"NOTICE\" text file as part of its\n",
      "                  distribution, then any Derivative Works that You distribute must\n",
      "                  include a readable copy of the attribution notices contained\n",
      "                  within such NOTICE file, excluding those notices that do not\n",
      "                  pertain to any part of the Derivative Works, in at least one\n",
      "                  of the following places: within a NOTICE text file distributed\n",
      "                  as part of the Derivative Works; within the Source form or\n",
      "                  documentation, if provided along with the Derivative Works; or,\n",
      "                  within a display generated by the Derivative Works, if and\n",
      "                  wherever such third-party notices normally appear. The contents\n",
      "                  of the NOTICE file are for informational purposes only and\n",
      "                  do not modify the License. You may add Your own attribution\n",
      "                  notices within Derivative Works that You distribute, alongside\n",
      "                  or as an addendum to the NOTICE text from the Work, provided\n",
      "                  that such additional attribution notices cannot be construed\n",
      "                  as modifying the License.\n",
      "        \n",
      "              You may add Your own copyright statement to Your modifications and\n",
      "              may provide additional or different license terms and conditions\n",
      "              for use, reproduction, or distribution of Your modifications, or\n",
      "              for any such Derivative Works as a whole, provided Your use,\n",
      "              reproduction, and distribution of the Work otherwise complies with\n",
      "              the conditions stated in this License.\n",
      "        \n",
      "           5. Submission of Contributions. Unless You explicitly state otherwise,\n",
      "              any Contribution intentionally submitted for inclusion in the Work\n",
      "              by You to the Licensor shall be under the terms and conditions of\n",
      "              this License, without any additional terms or conditions.\n",
      "              Notwithstanding the above, nothing herein shall supersede or modify\n",
      "              the terms of any separate license agreement you may have executed\n",
      "              with Licensor regarding such Contributions.\n",
      "        \n",
      "           6. Trademarks. This License does not grant permission to use the trade\n",
      "              names, trademarks, service marks, or product names of the Licensor,\n",
      "              except as required for reasonable and customary use in describing the\n",
      "              origin of the Work and reproducing the content of the NOTICE file.\n",
      "        \n",
      "           7. Disclaimer of Warranty. Unless required by applicable law or\n",
      "              agreed to in writing, Licensor provides the Work (and each\n",
      "              Contributor provides its Contributions) on an \"AS IS\" BASIS,\n",
      "              WITHOUT WARRANTIES OR CONDITIONS OF ANY KIND, either express or\n",
      "              implied, including, without limitation, any warranties or conditions\n",
      "              of TITLE, NON-INFRINGEMENT, MERCHANTABILITY, or FITNESS FOR A\n",
      "              PARTICULAR PURPOSE. You are solely responsible for determining the\n",
      "              appropriateness of using or redistributing the Work and assume any\n",
      "              risks associated with Your exercise of permissions under this License.\n",
      "        \n",
      "           8. Limitation of Liability. In no event and under no legal theory,\n",
      "              whether in tort (including negligence), contract, or otherwise,\n",
      "              unless required by applicable law (such as deliberate and grossly\n",
      "              negligent acts) or agreed to in writing, shall any Contributor be\n",
      "              liable to You for damages, including any direct, indirect, special,\n",
      "              incidental, or consequential damages of any character arising as a\n",
      "              result of this License or out of the use or inability to use the\n",
      "              Work (including but not limited to damages for loss of goodwill,\n",
      "              work stoppage, computer failure or malfunction, or any and all\n",
      "              other commercial damages or losses), even if such Contributor\n",
      "              has been advised of the possibility of such damages.\n",
      "        \n",
      "           9. Accepting Warranty or Additional Liability. While redistributing\n",
      "              the Work or Derivative Works thereof, You may choose to offer,\n",
      "              and charge a fee for, acceptance of support, warranty, indemnity,\n",
      "              or other liability obligations and/or rights consistent with this\n",
      "              License. However, in accepting such obligations, You may act only\n",
      "              on Your own behalf and on Your sole responsibility, not on behalf\n",
      "              of any other Contributor, and only if You agree to indemnify,\n",
      "              defend, and hold each Contributor harmless for any liability\n",
      "              incurred by, or claims asserted against, such Contributor by reason\n",
      "              of your accepting any such warranty or additional liability.\n",
      "        \n",
      "           END OF TERMS AND CONDITIONS\n",
      "        \n",
      "           APPENDIX: How to apply the Apache License to your work.\n",
      "        \n",
      "              To apply the Apache License to your work, attach the following\n",
      "              boilerplate notice, with the fields enclosed by brackets \"[]\"\n",
      "              replaced with your own identifying information. (Don't include\n",
      "              the brackets!)  The text should be enclosed in the appropriate\n",
      "              comment syntax for the file format. We also recommend that a\n",
      "              file or class name and description of purpose be included on the\n",
      "              same \"printed page\" as the copyright notice for easier\n",
      "              identification within third-party archives.\n",
      "        \n",
      "           Copyright 2018 Kaggle Inc\n",
      "        \n",
      "           Licensed under the Apache License, Version 2.0 (the \"License\");\n",
      "           you may not use this file except in compliance with the License.\n",
      "           You may obtain a copy of the License at\n",
      "        \n",
      "               http://www.apache.org/licenses/LICENSE-2.0\n",
      "        \n",
      "           Unless required by applicable law or agreed to in writing, software\n",
      "           distributed under the License is distributed on an \"AS IS\" BASIS,\n",
      "           WITHOUT WARRANTIES OR CONDITIONS OF ANY KIND, either express or implied.\n",
      "           See the License for the specific language governing permissions and\n",
      "           limitations under the License.\n",
      "Location: /Users/lucia/opt/anaconda3/lib/python3.9/site-packages\n",
      "Requires: requests, pyyaml, packaging, tqdm\n",
      "Required-by: \n",
      "Note: you may need to restart the kernel to use updated packages.\n"
     ]
    }
   ],
   "source": [
    "%pip show kagglehub\n"
   ]
  },
  {
   "cell_type": "code",
   "execution_count": 5,
   "metadata": {},
   "outputs": [
    {
     "name": "stdout",
     "output_type": "stream",
     "text": [
      "Path to dataset files: /Users/lucia/.cache/kagglehub/datasets/bhoomikavalani/donateacrycorpusfeaturesdataset/versions/2\n"
     ]
    }
   ],
   "source": [
    "import kagglehub\n",
    "\n",
    "# Download latest version\n",
    "path = kagglehub.dataset_download(\"bhoomikavalani/donateacrycorpusfeaturesdataset\")\n",
    "\n",
    "print(\"Path to dataset files:\", path)"
   ]
  },
  {
   "cell_type": "code",
   "execution_count": 6,
   "metadata": {},
   "outputs": [],
   "source": [
    "data = '/Users/lucia/.cache/kagglehub/datasets/bhoomikavalani/donateacrycorpusfeaturesdataset/versions/2/donateacry-corpus_features_final.csv'\n",
    "\n",
    "df = pd.read_csv(data)"
   ]
  },
  {
   "cell_type": "code",
   "execution_count": 7,
   "metadata": {},
   "outputs": [
    {
     "data": {
      "application/vnd.microsoft.datawrangler.viewer.v0+json": {
       "columns": [
        {
         "name": "index",
         "rawType": "int64",
         "type": "integer"
        },
        {
         "name": "Cry_Audio_File",
         "rawType": "object",
         "type": "string"
        },
        {
         "name": "Cry_Reason",
         "rawType": "int64",
         "type": "integer"
        },
        {
         "name": "Amplitude_Envelope_Mean",
         "rawType": "float64",
         "type": "float"
        },
        {
         "name": "RMS_Mean",
         "rawType": "float64",
         "type": "float"
        },
        {
         "name": "ZCR_Mean",
         "rawType": "float64",
         "type": "float"
        },
        {
         "name": "STFT_Mean",
         "rawType": "float64",
         "type": "float"
        },
        {
         "name": "SC_Mean",
         "rawType": "float64",
         "type": "float"
        },
        {
         "name": "SBAN_Mean",
         "rawType": "float64",
         "type": "float"
        },
        {
         "name": "SCON_Mean",
         "rawType": "float64",
         "type": "float"
        },
        {
         "name": "MFCCs13Mean",
         "rawType": "float64",
         "type": "float"
        },
        {
         "name": "delMFCCs13",
         "rawType": "float64",
         "type": "float"
        },
        {
         "name": "del2MFCCs13",
         "rawType": "float64",
         "type": "float"
        },
        {
         "name": "MelSpec",
         "rawType": "float64",
         "type": "float"
        },
        {
         "name": "MFCCs20",
         "rawType": "float64",
         "type": "float"
        },
        {
         "name": "MFCCs1",
         "rawType": "float64",
         "type": "float"
        },
        {
         "name": "MFCCs2",
         "rawType": "float64",
         "type": "float"
        },
        {
         "name": "MFCCs3",
         "rawType": "float64",
         "type": "float"
        },
        {
         "name": "MFCCs4",
         "rawType": "float64",
         "type": "float"
        },
        {
         "name": "MFCCs5",
         "rawType": "float64",
         "type": "float"
        },
        {
         "name": "MFCCs6",
         "rawType": "float64",
         "type": "float"
        },
        {
         "name": "MFCCs7",
         "rawType": "float64",
         "type": "float"
        },
        {
         "name": "MFCCs8",
         "rawType": "float64",
         "type": "float"
        },
        {
         "name": "MFCCs9",
         "rawType": "float64",
         "type": "float"
        },
        {
         "name": "MFCCs10",
         "rawType": "float64",
         "type": "float"
        },
        {
         "name": "MFCCs11",
         "rawType": "float64",
         "type": "float"
        },
        {
         "name": "MFCCs12",
         "rawType": "float64",
         "type": "float"
        },
        {
         "name": "MFCCs13",
         "rawType": "float64",
         "type": "float"
        }
       ],
       "conversionMethod": "pd.DataFrame",
       "ref": "2568a137-2453-408f-b662-730d785db1fe",
       "rows": [
        [
         "0",
         "/Users/mac/Desktop/Smart_Cradle/donateacry_corpus_cleaned_and_updated_data/belly_pain/999bf14b-e417-4b44-b746-9253f81efe38-1430974001343-1.7-m-26-bp.wav",
         "0",
         "0.028202115",
         "0.011049677",
         "0.0989900115352349",
         "0.10238884",
         "1264.335599246895",
         "519.1011206437458",
         "26.821806993216565",
         "-48.27123",
         "0.08218775",
         "-0.0030100995",
         "-52.58201",
         "-31.961296",
         "-606.60547",
         "93.9349",
         "-47.782738",
         "-15.073559",
         "10.004257",
         "-30.088297",
         "-18.766724",
         "8.679635",
         "-2.3520777",
         "-7.7462444",
         "-3.0962021",
         "-4.7152734",
         "-3.9180954"
        ],
        [
         "1",
         "/Users/mac/Desktop/Smart_Cradle/donateacry_corpus_cleaned_and_updated_data/belly_pain/C421C6FE-DFEE-4080-8AEA-848E7CE4756B-1430548333-1.0-f-26-bp.wav",
         "0",
         "0.02107089",
         "0.006950727",
         "0.1153831229304635",
         "0.050369333",
         "1268.6087664409108",
         "575.4575492212196",
         "25.88131249452339",
         "-49.861237",
         "0.10137523",
         "0.01890978",
         "-55.12258",
         "-32.50051",
         "-628.12067",
         "101.60248",
         "-34.45939",
         "-10.316871",
         "-0.6070605",
         "-25.927773",
         "-4.430356",
         "-4.6190925",
         "-22.430754",
         "-4.3032727",
         "0.17262046",
         "-11.258208",
         "-3.4977849"
        ],
        [
         "2",
         "/Users/mac/Desktop/Smart_Cradle/donateacry_corpus_cleaned_and_updated_data/belly_pain/d6cda191-4962-4308-9a36-46d5648a95ed-1431159262344-1.7-m-04-bp.wav",
         "0",
         "0.029967224",
         "0.010904365",
         "0.1166626806972789",
         "0.10004214",
         "1546.5782001227976",
         "699.6266488662309",
         "26.594714567728595",
         "-49.541706",
         "0.02360533",
         "0.020593692",
         "-50.736797",
         "-31.240011",
         "-585.09564",
         "86.38556",
         "-67.562416",
         "-22.161522",
         "2.0707543",
         "-26.675592",
         "3.2948687",
         "7.7887993",
         "-21.903955",
         "-5.7445436",
         "4.150358",
         "-11.7187195",
         "-6.870083"
        ],
        [
         "3",
         "/Users/mac/Desktop/Smart_Cradle/donateacry_corpus_cleaned_and_updated_data/belly_pain/643D64AD-B711-469A-AF69-55C0D5D3E30F-1430138524-1.0-m-72-bp.wav",
         "0",
         "0.02716325",
         "0.0105199395",
         "0.0850805825745033",
         "0.14076592",
         "1089.4153278195622",
         "668.8959514985646",
         "25.608309568066048",
         "-44.275997",
         "-0.016075362",
         "0.030941423",
         "-47.15573",
         "-29.790195",
         "-538.0991",
         "96.096985",
         "-20.241573",
         "-1.7045985",
         "0.22628057",
         "-29.814095",
         "-14.937744",
         "-11.162116",
         "-21.503994",
         "-7.5013094",
         "-7.856627",
         "-15.119538",
         "-3.9704835"
        ],
        [
         "4",
         "/Users/mac/Desktop/Smart_Cradle/donateacry_corpus_cleaned_and_updated_data/belly_pain/643D64AD-B711-469A-AF69-55C0D5D3E30F-1430138647-1.0-m-72-bp.wav",
         "0",
         "0.01666276",
         "0.0065766405",
         "0.0671079521937086",
         "0.057628784",
         "1017.6109317678302",
         "700.6824103338755",
         "28.19600976076448",
         "-51.325264",
         "0.02111214",
         "0.012414595",
         "-54.007328",
         "-32.03135",
         "-611.4486",
         "68.68205",
         "-8.392762",
         "7.8121095",
         "-9.09841",
         "-34.050182",
         "-9.673841",
         "-11.780775",
         "-24.962975",
         "-7.6970654",
         "-9.014325",
         "-15.366213",
         "-2.2374368"
        ]
       ],
       "shape": {
        "columns": 27,
        "rows": 5
       }
      },
      "text/html": [
       "<div>\n",
       "<style scoped>\n",
       "    .dataframe tbody tr th:only-of-type {\n",
       "        vertical-align: middle;\n",
       "    }\n",
       "\n",
       "    .dataframe tbody tr th {\n",
       "        vertical-align: top;\n",
       "    }\n",
       "\n",
       "    .dataframe thead th {\n",
       "        text-align: right;\n",
       "    }\n",
       "</style>\n",
       "<table border=\"1\" class=\"dataframe\">\n",
       "  <thead>\n",
       "    <tr style=\"text-align: right;\">\n",
       "      <th></th>\n",
       "      <th>Cry_Audio_File</th>\n",
       "      <th>Cry_Reason</th>\n",
       "      <th>Amplitude_Envelope_Mean</th>\n",
       "      <th>RMS_Mean</th>\n",
       "      <th>ZCR_Mean</th>\n",
       "      <th>STFT_Mean</th>\n",
       "      <th>SC_Mean</th>\n",
       "      <th>SBAN_Mean</th>\n",
       "      <th>SCON_Mean</th>\n",
       "      <th>MFCCs13Mean</th>\n",
       "      <th>...</th>\n",
       "      <th>MFCCs4</th>\n",
       "      <th>MFCCs5</th>\n",
       "      <th>MFCCs6</th>\n",
       "      <th>MFCCs7</th>\n",
       "      <th>MFCCs8</th>\n",
       "      <th>MFCCs9</th>\n",
       "      <th>MFCCs10</th>\n",
       "      <th>MFCCs11</th>\n",
       "      <th>MFCCs12</th>\n",
       "      <th>MFCCs13</th>\n",
       "    </tr>\n",
       "  </thead>\n",
       "  <tbody>\n",
       "    <tr>\n",
       "      <th>0</th>\n",
       "      <td>/Users/mac/Desktop/Smart_Cradle/donateacry_cor...</td>\n",
       "      <td>0</td>\n",
       "      <td>0.028202</td>\n",
       "      <td>0.011050</td>\n",
       "      <td>0.098990</td>\n",
       "      <td>0.102389</td>\n",
       "      <td>1264.335599</td>\n",
       "      <td>519.101121</td>\n",
       "      <td>26.821807</td>\n",
       "      <td>-48.271230</td>\n",
       "      <td>...</td>\n",
       "      <td>-15.073559</td>\n",
       "      <td>10.004257</td>\n",
       "      <td>-30.088297</td>\n",
       "      <td>-18.766724</td>\n",
       "      <td>8.679635</td>\n",
       "      <td>-2.352078</td>\n",
       "      <td>-7.746244</td>\n",
       "      <td>-3.096202</td>\n",
       "      <td>-4.715273</td>\n",
       "      <td>-3.918095</td>\n",
       "    </tr>\n",
       "    <tr>\n",
       "      <th>1</th>\n",
       "      <td>/Users/mac/Desktop/Smart_Cradle/donateacry_cor...</td>\n",
       "      <td>0</td>\n",
       "      <td>0.021071</td>\n",
       "      <td>0.006951</td>\n",
       "      <td>0.115383</td>\n",
       "      <td>0.050369</td>\n",
       "      <td>1268.608766</td>\n",
       "      <td>575.457549</td>\n",
       "      <td>25.881312</td>\n",
       "      <td>-49.861237</td>\n",
       "      <td>...</td>\n",
       "      <td>-10.316871</td>\n",
       "      <td>-0.607061</td>\n",
       "      <td>-25.927773</td>\n",
       "      <td>-4.430356</td>\n",
       "      <td>-4.619092</td>\n",
       "      <td>-22.430754</td>\n",
       "      <td>-4.303273</td>\n",
       "      <td>0.172620</td>\n",
       "      <td>-11.258208</td>\n",
       "      <td>-3.497785</td>\n",
       "    </tr>\n",
       "    <tr>\n",
       "      <th>2</th>\n",
       "      <td>/Users/mac/Desktop/Smart_Cradle/donateacry_cor...</td>\n",
       "      <td>0</td>\n",
       "      <td>0.029967</td>\n",
       "      <td>0.010904</td>\n",
       "      <td>0.116663</td>\n",
       "      <td>0.100042</td>\n",
       "      <td>1546.578200</td>\n",
       "      <td>699.626649</td>\n",
       "      <td>26.594715</td>\n",
       "      <td>-49.541706</td>\n",
       "      <td>...</td>\n",
       "      <td>-22.161522</td>\n",
       "      <td>2.070754</td>\n",
       "      <td>-26.675592</td>\n",
       "      <td>3.294869</td>\n",
       "      <td>7.788799</td>\n",
       "      <td>-21.903955</td>\n",
       "      <td>-5.744544</td>\n",
       "      <td>4.150358</td>\n",
       "      <td>-11.718720</td>\n",
       "      <td>-6.870083</td>\n",
       "    </tr>\n",
       "    <tr>\n",
       "      <th>3</th>\n",
       "      <td>/Users/mac/Desktop/Smart_Cradle/donateacry_cor...</td>\n",
       "      <td>0</td>\n",
       "      <td>0.027163</td>\n",
       "      <td>0.010520</td>\n",
       "      <td>0.085081</td>\n",
       "      <td>0.140766</td>\n",
       "      <td>1089.415328</td>\n",
       "      <td>668.895951</td>\n",
       "      <td>25.608310</td>\n",
       "      <td>-44.275997</td>\n",
       "      <td>...</td>\n",
       "      <td>-1.704598</td>\n",
       "      <td>0.226281</td>\n",
       "      <td>-29.814095</td>\n",
       "      <td>-14.937744</td>\n",
       "      <td>-11.162116</td>\n",
       "      <td>-21.503994</td>\n",
       "      <td>-7.501309</td>\n",
       "      <td>-7.856627</td>\n",
       "      <td>-15.119538</td>\n",
       "      <td>-3.970483</td>\n",
       "    </tr>\n",
       "    <tr>\n",
       "      <th>4</th>\n",
       "      <td>/Users/mac/Desktop/Smart_Cradle/donateacry_cor...</td>\n",
       "      <td>0</td>\n",
       "      <td>0.016663</td>\n",
       "      <td>0.006577</td>\n",
       "      <td>0.067108</td>\n",
       "      <td>0.057629</td>\n",
       "      <td>1017.610932</td>\n",
       "      <td>700.682410</td>\n",
       "      <td>28.196010</td>\n",
       "      <td>-51.325264</td>\n",
       "      <td>...</td>\n",
       "      <td>7.812110</td>\n",
       "      <td>-9.098410</td>\n",
       "      <td>-34.050182</td>\n",
       "      <td>-9.673841</td>\n",
       "      <td>-11.780775</td>\n",
       "      <td>-24.962975</td>\n",
       "      <td>-7.697065</td>\n",
       "      <td>-9.014325</td>\n",
       "      <td>-15.366213</td>\n",
       "      <td>-2.237437</td>\n",
       "    </tr>\n",
       "  </tbody>\n",
       "</table>\n",
       "<p>5 rows × 27 columns</p>\n",
       "</div>"
      ],
      "text/plain": [
       "                                      Cry_Audio_File  Cry_Reason  \\\n",
       "0  /Users/mac/Desktop/Smart_Cradle/donateacry_cor...           0   \n",
       "1  /Users/mac/Desktop/Smart_Cradle/donateacry_cor...           0   \n",
       "2  /Users/mac/Desktop/Smart_Cradle/donateacry_cor...           0   \n",
       "3  /Users/mac/Desktop/Smart_Cradle/donateacry_cor...           0   \n",
       "4  /Users/mac/Desktop/Smart_Cradle/donateacry_cor...           0   \n",
       "\n",
       "   Amplitude_Envelope_Mean  RMS_Mean  ZCR_Mean  STFT_Mean      SC_Mean  \\\n",
       "0                 0.028202  0.011050  0.098990   0.102389  1264.335599   \n",
       "1                 0.021071  0.006951  0.115383   0.050369  1268.608766   \n",
       "2                 0.029967  0.010904  0.116663   0.100042  1546.578200   \n",
       "3                 0.027163  0.010520  0.085081   0.140766  1089.415328   \n",
       "4                 0.016663  0.006577  0.067108   0.057629  1017.610932   \n",
       "\n",
       "    SBAN_Mean  SCON_Mean  MFCCs13Mean  ...     MFCCs4     MFCCs5     MFCCs6  \\\n",
       "0  519.101121  26.821807   -48.271230  ... -15.073559  10.004257 -30.088297   \n",
       "1  575.457549  25.881312   -49.861237  ... -10.316871  -0.607061 -25.927773   \n",
       "2  699.626649  26.594715   -49.541706  ... -22.161522   2.070754 -26.675592   \n",
       "3  668.895951  25.608310   -44.275997  ...  -1.704598   0.226281 -29.814095   \n",
       "4  700.682410  28.196010   -51.325264  ...   7.812110  -9.098410 -34.050182   \n",
       "\n",
       "      MFCCs7     MFCCs8     MFCCs9   MFCCs10   MFCCs11    MFCCs12   MFCCs13  \n",
       "0 -18.766724   8.679635  -2.352078 -7.746244 -3.096202  -4.715273 -3.918095  \n",
       "1  -4.430356  -4.619092 -22.430754 -4.303273  0.172620 -11.258208 -3.497785  \n",
       "2   3.294869   7.788799 -21.903955 -5.744544  4.150358 -11.718720 -6.870083  \n",
       "3 -14.937744 -11.162116 -21.503994 -7.501309 -7.856627 -15.119538 -3.970483  \n",
       "4  -9.673841 -11.780775 -24.962975 -7.697065 -9.014325 -15.366213 -2.237437  \n",
       "\n",
       "[5 rows x 27 columns]"
      ]
     },
     "execution_count": 7,
     "metadata": {},
     "output_type": "execute_result"
    }
   ],
   "source": [
    "df.head()"
   ]
  },
  {
   "cell_type": "markdown",
   "metadata": {},
   "source": [
    "PREPROCESADO"
   ]
  },
  {
   "cell_type": "code",
   "execution_count": 8,
   "metadata": {},
   "outputs": [
    {
     "data": {
      "text/plain": [
       "(457, 27)"
      ]
     },
     "execution_count": 8,
     "metadata": {},
     "output_type": "execute_result"
    }
   ],
   "source": [
    "df.shape"
   ]
  },
  {
   "cell_type": "code",
   "execution_count": 9,
   "metadata": {},
   "outputs": [
    {
     "data": {
      "text/plain": [
       "Index(['Cry_Audio_File', 'Cry_Reason', 'Amplitude_Envelope_Mean', 'RMS_Mean',\n",
       "       'ZCR_Mean', 'STFT_Mean', 'SC_Mean', 'SBAN_Mean', 'SCON_Mean',\n",
       "       'MFCCs13Mean', 'delMFCCs13', 'del2MFCCs13', 'MelSpec', 'MFCCs20',\n",
       "       'MFCCs1', 'MFCCs2', 'MFCCs3', 'MFCCs4', 'MFCCs5', 'MFCCs6', 'MFCCs7',\n",
       "       'MFCCs8', 'MFCCs9', 'MFCCs10', 'MFCCs11', 'MFCCs12', 'MFCCs13'],\n",
       "      dtype='object')"
      ]
     },
     "execution_count": 9,
     "metadata": {},
     "output_type": "execute_result"
    }
   ],
   "source": [
    "col_names = df.columns\n",
    "\n",
    "col_names"
   ]
  },
  {
   "cell_type": "code",
   "execution_count": 10,
   "metadata": {},
   "outputs": [
    {
     "data": {
      "text/plain": [
       "3    382\n",
       "2     27\n",
       "4     24\n",
       "0     16\n",
       "1      8\n",
       "Name: Cry_Reason, dtype: int64"
      ]
     },
     "execution_count": 10,
     "metadata": {},
     "output_type": "execute_result"
    }
   ],
   "source": [
    "df['Cry_Reason'].value_counts()"
   ]
  },
  {
   "cell_type": "markdown",
   "metadata": {},
   "source": [
    "0 - belly pain\n",
    "1 - burping\n",
    "2 - discomfort\n",
    "3 - hungry\n",
    "4 - tired"
   ]
  },
  {
   "cell_type": "code",
   "execution_count": 11,
   "metadata": {},
   "outputs": [
    {
     "name": "stdout",
     "output_type": "stream",
     "text": [
      "<class 'pandas.core.frame.DataFrame'>\n",
      "RangeIndex: 457 entries, 0 to 456\n",
      "Data columns (total 27 columns):\n",
      " #   Column                   Non-Null Count  Dtype  \n",
      "---  ------                   --------------  -----  \n",
      " 0   Cry_Audio_File           457 non-null    object \n",
      " 1   Cry_Reason               457 non-null    int64  \n",
      " 2   Amplitude_Envelope_Mean  457 non-null    float64\n",
      " 3   RMS_Mean                 457 non-null    float64\n",
      " 4   ZCR_Mean                 457 non-null    float64\n",
      " 5   STFT_Mean                457 non-null    float64\n",
      " 6   SC_Mean                  457 non-null    float64\n",
      " 7   SBAN_Mean                457 non-null    float64\n",
      " 8   SCON_Mean                457 non-null    float64\n",
      " 9   MFCCs13Mean              457 non-null    float64\n",
      " 10  delMFCCs13               457 non-null    float64\n",
      " 11  del2MFCCs13              457 non-null    float64\n",
      " 12  MelSpec                  457 non-null    float64\n",
      " 13  MFCCs20                  457 non-null    float64\n",
      " 14  MFCCs1                   457 non-null    float64\n",
      " 15  MFCCs2                   457 non-null    float64\n",
      " 16  MFCCs3                   457 non-null    float64\n",
      " 17  MFCCs4                   457 non-null    float64\n",
      " 18  MFCCs5                   457 non-null    float64\n",
      " 19  MFCCs6                   457 non-null    float64\n",
      " 20  MFCCs7                   457 non-null    float64\n",
      " 21  MFCCs8                   457 non-null    float64\n",
      " 22  MFCCs9                   457 non-null    float64\n",
      " 23  MFCCs10                  457 non-null    float64\n",
      " 24  MFCCs11                  457 non-null    float64\n",
      " 25  MFCCs12                  457 non-null    float64\n",
      " 26  MFCCs13                  457 non-null    float64\n",
      "dtypes: float64(25), int64(1), object(1)\n",
      "memory usage: 96.5+ KB\n"
     ]
    }
   ],
   "source": [
    "#imbalanced data\n",
    "df.info()"
   ]
  },
  {
   "cell_type": "code",
   "execution_count": 12,
   "metadata": {},
   "outputs": [],
   "source": [
    "df = df.drop(columns=['Cry_Audio_File'])\n"
   ]
  },
  {
   "cell_type": "code",
   "execution_count": 13,
   "metadata": {},
   "outputs": [
    {
     "name": "stdout",
     "output_type": "stream",
     "text": [
      "There are 0 categorical variables\n",
      "\n",
      "The categorical variables are : []\n"
     ]
    }
   ],
   "source": [
    "# find categorical variables\n",
    "\n",
    "categorical = [var for var in df.columns if df[var].dtype=='O']\n",
    "\n",
    "print('There are {} categorical variables\\n'.format(len(categorical)))\n",
    "\n",
    "print('The categorical variables are :', categorical)"
   ]
  },
  {
   "cell_type": "code",
   "execution_count": 14,
   "metadata": {},
   "outputs": [
    {
     "name": "stdout",
     "output_type": "stream",
     "text": [
      "There are 26 numerical variables\n",
      "\n",
      "The numerical variables are : ['Cry_Reason', 'Amplitude_Envelope_Mean', 'RMS_Mean', 'ZCR_Mean', 'STFT_Mean', 'SC_Mean', 'SBAN_Mean', 'SCON_Mean', 'MFCCs13Mean', 'delMFCCs13', 'del2MFCCs13', 'MelSpec', 'MFCCs20', 'MFCCs1', 'MFCCs2', 'MFCCs3', 'MFCCs4', 'MFCCs5', 'MFCCs6', 'MFCCs7', 'MFCCs8', 'MFCCs9', 'MFCCs10', 'MFCCs11', 'MFCCs12', 'MFCCs13']\n"
     ]
    }
   ],
   "source": [
    "# find numerical variables\n",
    "\n",
    "numerical = [var for var in df.columns if df[var].dtype!='O']\n",
    "\n",
    "print('There are {} numerical variables\\n'.format(len(numerical)))\n",
    "\n",
    "print('The numerical variables are :', numerical)"
   ]
  },
  {
   "cell_type": "code",
   "execution_count": 15,
   "metadata": {},
   "outputs": [
    {
     "data": {
      "application/vnd.microsoft.datawrangler.viewer.v0+json": {
       "columns": [
        {
         "name": "index",
         "rawType": "int64",
         "type": "integer"
        },
        {
         "name": "Cry_Reason",
         "rawType": "int64",
         "type": "integer"
        },
        {
         "name": "Amplitude_Envelope_Mean",
         "rawType": "float64",
         "type": "float"
        },
        {
         "name": "RMS_Mean",
         "rawType": "float64",
         "type": "float"
        },
        {
         "name": "ZCR_Mean",
         "rawType": "float64",
         "type": "float"
        },
        {
         "name": "STFT_Mean",
         "rawType": "float64",
         "type": "float"
        },
        {
         "name": "SC_Mean",
         "rawType": "float64",
         "type": "float"
        },
        {
         "name": "SBAN_Mean",
         "rawType": "float64",
         "type": "float"
        },
        {
         "name": "SCON_Mean",
         "rawType": "float64",
         "type": "float"
        },
        {
         "name": "MFCCs13Mean",
         "rawType": "float64",
         "type": "float"
        },
        {
         "name": "delMFCCs13",
         "rawType": "float64",
         "type": "float"
        },
        {
         "name": "del2MFCCs13",
         "rawType": "float64",
         "type": "float"
        },
        {
         "name": "MelSpec",
         "rawType": "float64",
         "type": "float"
        },
        {
         "name": "MFCCs20",
         "rawType": "float64",
         "type": "float"
        },
        {
         "name": "MFCCs1",
         "rawType": "float64",
         "type": "float"
        },
        {
         "name": "MFCCs2",
         "rawType": "float64",
         "type": "float"
        },
        {
         "name": "MFCCs3",
         "rawType": "float64",
         "type": "float"
        },
        {
         "name": "MFCCs4",
         "rawType": "float64",
         "type": "float"
        },
        {
         "name": "MFCCs5",
         "rawType": "float64",
         "type": "float"
        },
        {
         "name": "MFCCs6",
         "rawType": "float64",
         "type": "float"
        },
        {
         "name": "MFCCs7",
         "rawType": "float64",
         "type": "float"
        },
        {
         "name": "MFCCs8",
         "rawType": "float64",
         "type": "float"
        },
        {
         "name": "MFCCs9",
         "rawType": "float64",
         "type": "float"
        },
        {
         "name": "MFCCs10",
         "rawType": "float64",
         "type": "float"
        },
        {
         "name": "MFCCs11",
         "rawType": "float64",
         "type": "float"
        },
        {
         "name": "MFCCs12",
         "rawType": "float64",
         "type": "float"
        },
        {
         "name": "MFCCs13",
         "rawType": "float64",
         "type": "float"
        }
       ],
       "conversionMethod": "pd.DataFrame",
       "ref": "5ac53c96-98b5-49c7-8428-0e4cf2d0c20a",
       "rows": [
        [
         "0",
         "0",
         "0.028202115",
         "0.011049677",
         "0.0989900115352349",
         "0.10238884",
         "1264.335599246895",
         "519.1011206437458",
         "26.821806993216565",
         "-48.27123",
         "0.08218775",
         "-0.0030100995",
         "-52.58201",
         "-31.961296",
         "-606.60547",
         "93.9349",
         "-47.782738",
         "-15.073559",
         "10.004257",
         "-30.088297",
         "-18.766724",
         "8.679635",
         "-2.3520777",
         "-7.7462444",
         "-3.0962021",
         "-4.7152734",
         "-3.9180954"
        ],
        [
         "1",
         "0",
         "0.02107089",
         "0.006950727",
         "0.1153831229304635",
         "0.050369333",
         "1268.6087664409108",
         "575.4575492212196",
         "25.88131249452339",
         "-49.861237",
         "0.10137523",
         "0.01890978",
         "-55.12258",
         "-32.50051",
         "-628.12067",
         "101.60248",
         "-34.45939",
         "-10.316871",
         "-0.6070605",
         "-25.927773",
         "-4.430356",
         "-4.6190925",
         "-22.430754",
         "-4.3032727",
         "0.17262046",
         "-11.258208",
         "-3.4977849"
        ],
        [
         "2",
         "0",
         "0.029967224",
         "0.010904365",
         "0.1166626806972789",
         "0.10004214",
         "1546.5782001227976",
         "699.6266488662309",
         "26.594714567728595",
         "-49.541706",
         "0.02360533",
         "0.020593692",
         "-50.736797",
         "-31.240011",
         "-585.09564",
         "86.38556",
         "-67.562416",
         "-22.161522",
         "2.0707543",
         "-26.675592",
         "3.2948687",
         "7.7887993",
         "-21.903955",
         "-5.7445436",
         "4.150358",
         "-11.7187195",
         "-6.870083"
        ],
        [
         "3",
         "0",
         "0.02716325",
         "0.0105199395",
         "0.0850805825745033",
         "0.14076592",
         "1089.4153278195622",
         "668.8959514985646",
         "25.608309568066048",
         "-44.275997",
         "-0.016075362",
         "0.030941423",
         "-47.15573",
         "-29.790195",
         "-538.0991",
         "96.096985",
         "-20.241573",
         "-1.7045985",
         "0.22628057",
         "-29.814095",
         "-14.937744",
         "-11.162116",
         "-21.503994",
         "-7.5013094",
         "-7.856627",
         "-15.119538",
         "-3.9704835"
        ],
        [
         "4",
         "0",
         "0.01666276",
         "0.0065766405",
         "0.0671079521937086",
         "0.057628784",
         "1017.6109317678302",
         "700.6824103338755",
         "28.19600976076448",
         "-51.325264",
         "0.02111214",
         "0.012414595",
         "-54.007328",
         "-32.03135",
         "-611.4486",
         "68.68205",
         "-8.392762",
         "7.8121095",
         "-9.09841",
         "-34.050182",
         "-9.673841",
         "-11.780775",
         "-24.962975",
         "-7.6970654",
         "-9.014325",
         "-15.366213",
         "-2.2374368"
        ]
       ],
       "shape": {
        "columns": 26,
        "rows": 5
       }
      },
      "text/html": [
       "<div>\n",
       "<style scoped>\n",
       "    .dataframe tbody tr th:only-of-type {\n",
       "        vertical-align: middle;\n",
       "    }\n",
       "\n",
       "    .dataframe tbody tr th {\n",
       "        vertical-align: top;\n",
       "    }\n",
       "\n",
       "    .dataframe thead th {\n",
       "        text-align: right;\n",
       "    }\n",
       "</style>\n",
       "<table border=\"1\" class=\"dataframe\">\n",
       "  <thead>\n",
       "    <tr style=\"text-align: right;\">\n",
       "      <th></th>\n",
       "      <th>Cry_Reason</th>\n",
       "      <th>Amplitude_Envelope_Mean</th>\n",
       "      <th>RMS_Mean</th>\n",
       "      <th>ZCR_Mean</th>\n",
       "      <th>STFT_Mean</th>\n",
       "      <th>SC_Mean</th>\n",
       "      <th>SBAN_Mean</th>\n",
       "      <th>SCON_Mean</th>\n",
       "      <th>MFCCs13Mean</th>\n",
       "      <th>delMFCCs13</th>\n",
       "      <th>...</th>\n",
       "      <th>MFCCs4</th>\n",
       "      <th>MFCCs5</th>\n",
       "      <th>MFCCs6</th>\n",
       "      <th>MFCCs7</th>\n",
       "      <th>MFCCs8</th>\n",
       "      <th>MFCCs9</th>\n",
       "      <th>MFCCs10</th>\n",
       "      <th>MFCCs11</th>\n",
       "      <th>MFCCs12</th>\n",
       "      <th>MFCCs13</th>\n",
       "    </tr>\n",
       "  </thead>\n",
       "  <tbody>\n",
       "    <tr>\n",
       "      <th>0</th>\n",
       "      <td>0</td>\n",
       "      <td>0.028202</td>\n",
       "      <td>0.011050</td>\n",
       "      <td>0.098990</td>\n",
       "      <td>0.102389</td>\n",
       "      <td>1264.335599</td>\n",
       "      <td>519.101121</td>\n",
       "      <td>26.821807</td>\n",
       "      <td>-48.271230</td>\n",
       "      <td>0.082188</td>\n",
       "      <td>...</td>\n",
       "      <td>-15.073559</td>\n",
       "      <td>10.004257</td>\n",
       "      <td>-30.088297</td>\n",
       "      <td>-18.766724</td>\n",
       "      <td>8.679635</td>\n",
       "      <td>-2.352078</td>\n",
       "      <td>-7.746244</td>\n",
       "      <td>-3.096202</td>\n",
       "      <td>-4.715273</td>\n",
       "      <td>-3.918095</td>\n",
       "    </tr>\n",
       "    <tr>\n",
       "      <th>1</th>\n",
       "      <td>0</td>\n",
       "      <td>0.021071</td>\n",
       "      <td>0.006951</td>\n",
       "      <td>0.115383</td>\n",
       "      <td>0.050369</td>\n",
       "      <td>1268.608766</td>\n",
       "      <td>575.457549</td>\n",
       "      <td>25.881312</td>\n",
       "      <td>-49.861237</td>\n",
       "      <td>0.101375</td>\n",
       "      <td>...</td>\n",
       "      <td>-10.316871</td>\n",
       "      <td>-0.607061</td>\n",
       "      <td>-25.927773</td>\n",
       "      <td>-4.430356</td>\n",
       "      <td>-4.619092</td>\n",
       "      <td>-22.430754</td>\n",
       "      <td>-4.303273</td>\n",
       "      <td>0.172620</td>\n",
       "      <td>-11.258208</td>\n",
       "      <td>-3.497785</td>\n",
       "    </tr>\n",
       "    <tr>\n",
       "      <th>2</th>\n",
       "      <td>0</td>\n",
       "      <td>0.029967</td>\n",
       "      <td>0.010904</td>\n",
       "      <td>0.116663</td>\n",
       "      <td>0.100042</td>\n",
       "      <td>1546.578200</td>\n",
       "      <td>699.626649</td>\n",
       "      <td>26.594715</td>\n",
       "      <td>-49.541706</td>\n",
       "      <td>0.023605</td>\n",
       "      <td>...</td>\n",
       "      <td>-22.161522</td>\n",
       "      <td>2.070754</td>\n",
       "      <td>-26.675592</td>\n",
       "      <td>3.294869</td>\n",
       "      <td>7.788799</td>\n",
       "      <td>-21.903955</td>\n",
       "      <td>-5.744544</td>\n",
       "      <td>4.150358</td>\n",
       "      <td>-11.718720</td>\n",
       "      <td>-6.870083</td>\n",
       "    </tr>\n",
       "    <tr>\n",
       "      <th>3</th>\n",
       "      <td>0</td>\n",
       "      <td>0.027163</td>\n",
       "      <td>0.010520</td>\n",
       "      <td>0.085081</td>\n",
       "      <td>0.140766</td>\n",
       "      <td>1089.415328</td>\n",
       "      <td>668.895951</td>\n",
       "      <td>25.608310</td>\n",
       "      <td>-44.275997</td>\n",
       "      <td>-0.016075</td>\n",
       "      <td>...</td>\n",
       "      <td>-1.704598</td>\n",
       "      <td>0.226281</td>\n",
       "      <td>-29.814095</td>\n",
       "      <td>-14.937744</td>\n",
       "      <td>-11.162116</td>\n",
       "      <td>-21.503994</td>\n",
       "      <td>-7.501309</td>\n",
       "      <td>-7.856627</td>\n",
       "      <td>-15.119538</td>\n",
       "      <td>-3.970483</td>\n",
       "    </tr>\n",
       "    <tr>\n",
       "      <th>4</th>\n",
       "      <td>0</td>\n",
       "      <td>0.016663</td>\n",
       "      <td>0.006577</td>\n",
       "      <td>0.067108</td>\n",
       "      <td>0.057629</td>\n",
       "      <td>1017.610932</td>\n",
       "      <td>700.682410</td>\n",
       "      <td>28.196010</td>\n",
       "      <td>-51.325264</td>\n",
       "      <td>0.021112</td>\n",
       "      <td>...</td>\n",
       "      <td>7.812110</td>\n",
       "      <td>-9.098410</td>\n",
       "      <td>-34.050182</td>\n",
       "      <td>-9.673841</td>\n",
       "      <td>-11.780775</td>\n",
       "      <td>-24.962975</td>\n",
       "      <td>-7.697065</td>\n",
       "      <td>-9.014325</td>\n",
       "      <td>-15.366213</td>\n",
       "      <td>-2.237437</td>\n",
       "    </tr>\n",
       "  </tbody>\n",
       "</table>\n",
       "<p>5 rows × 26 columns</p>\n",
       "</div>"
      ],
      "text/plain": [
       "   Cry_Reason  Amplitude_Envelope_Mean  RMS_Mean  ZCR_Mean  STFT_Mean  \\\n",
       "0           0                 0.028202  0.011050  0.098990   0.102389   \n",
       "1           0                 0.021071  0.006951  0.115383   0.050369   \n",
       "2           0                 0.029967  0.010904  0.116663   0.100042   \n",
       "3           0                 0.027163  0.010520  0.085081   0.140766   \n",
       "4           0                 0.016663  0.006577  0.067108   0.057629   \n",
       "\n",
       "       SC_Mean   SBAN_Mean  SCON_Mean  MFCCs13Mean  delMFCCs13  ...  \\\n",
       "0  1264.335599  519.101121  26.821807   -48.271230    0.082188  ...   \n",
       "1  1268.608766  575.457549  25.881312   -49.861237    0.101375  ...   \n",
       "2  1546.578200  699.626649  26.594715   -49.541706    0.023605  ...   \n",
       "3  1089.415328  668.895951  25.608310   -44.275997   -0.016075  ...   \n",
       "4  1017.610932  700.682410  28.196010   -51.325264    0.021112  ...   \n",
       "\n",
       "      MFCCs4     MFCCs5     MFCCs6     MFCCs7     MFCCs8     MFCCs9   MFCCs10  \\\n",
       "0 -15.073559  10.004257 -30.088297 -18.766724   8.679635  -2.352078 -7.746244   \n",
       "1 -10.316871  -0.607061 -25.927773  -4.430356  -4.619092 -22.430754 -4.303273   \n",
       "2 -22.161522   2.070754 -26.675592   3.294869   7.788799 -21.903955 -5.744544   \n",
       "3  -1.704598   0.226281 -29.814095 -14.937744 -11.162116 -21.503994 -7.501309   \n",
       "4   7.812110  -9.098410 -34.050182  -9.673841 -11.780775 -24.962975 -7.697065   \n",
       "\n",
       "    MFCCs11    MFCCs12   MFCCs13  \n",
       "0 -3.096202  -4.715273 -3.918095  \n",
       "1  0.172620 -11.258208 -3.497785  \n",
       "2  4.150358 -11.718720 -6.870083  \n",
       "3 -7.856627 -15.119538 -3.970483  \n",
       "4 -9.014325 -15.366213 -2.237437  \n",
       "\n",
       "[5 rows x 26 columns]"
      ]
     },
     "execution_count": 15,
     "metadata": {},
     "output_type": "execute_result"
    }
   ],
   "source": [
    "# view the numerical variables\n",
    "\n",
    "df[numerical].head()"
   ]
  },
  {
   "cell_type": "code",
   "execution_count": 16,
   "metadata": {},
   "outputs": [
    {
     "data": {
      "text/plain": [
       "Cry_Reason                 0\n",
       "Amplitude_Envelope_Mean    0\n",
       "RMS_Mean                   0\n",
       "ZCR_Mean                   0\n",
       "STFT_Mean                  0\n",
       "SC_Mean                    0\n",
       "SBAN_Mean                  0\n",
       "SCON_Mean                  0\n",
       "MFCCs13Mean                0\n",
       "delMFCCs13                 0\n",
       "del2MFCCs13                0\n",
       "MelSpec                    0\n",
       "MFCCs20                    0\n",
       "MFCCs1                     0\n",
       "MFCCs2                     0\n",
       "MFCCs3                     0\n",
       "MFCCs4                     0\n",
       "MFCCs5                     0\n",
       "MFCCs6                     0\n",
       "MFCCs7                     0\n",
       "MFCCs8                     0\n",
       "MFCCs9                     0\n",
       "MFCCs10                    0\n",
       "MFCCs11                    0\n",
       "MFCCs12                    0\n",
       "MFCCs13                    0\n",
       "dtype: int64"
      ]
     },
     "execution_count": 16,
     "metadata": {},
     "output_type": "execute_result"
    }
   ],
   "source": [
    "# check missing values in numerical variables\n",
    "\n",
    "df[numerical].isnull().sum()"
   ]
  },
  {
   "cell_type": "code",
   "execution_count": 17,
   "metadata": {},
   "outputs": [
    {
     "name": "stdout",
     "output_type": "stream",
     "text": [
      "       Cry_Reason  Amplitude_Envelope_Mean    RMS_Mean    ZCR_Mean  \\\n",
      "count  457.000000               457.000000  457.000000  457.000000   \n",
      "mean     2.853392                 0.051791    0.020425    0.094088   \n",
      "std      0.690120                 0.041558    0.017054    0.027277   \n",
      "min      0.000000                 0.000504    0.000187    0.032646   \n",
      "25%      3.000000                 0.018715    0.006875    0.073336   \n",
      "50%      3.000000                 0.040515    0.016071    0.092543   \n",
      "75%      3.000000                 0.073548    0.029639    0.111112   \n",
      "max      4.000000                 0.212100    0.096381    0.183001   \n",
      "\n",
      "        STFT_Mean      SC_Mean   SBAN_Mean   SCON_Mean  MFCCs13Mean  \\\n",
      "count  457.000000   457.000000  457.000000  457.000000   457.000000   \n",
      "mean     0.723645  1208.523108  559.457103   26.671653   -43.967221   \n",
      "std      1.006595   271.103944  102.135948    2.575177     6.841562   \n",
      "min      0.000098   548.434286  272.392864   15.047119   -72.727020   \n",
      "25%      0.082990  1015.656760  489.157994   25.311626   -47.374424   \n",
      "50%      0.405277  1191.004789  556.808083   26.858780   -43.148422   \n",
      "75%      0.967362  1380.717187  619.867157   28.478680   -39.422800   \n",
      "max     10.033285  2141.501864  943.655821   33.956149   -25.652435   \n",
      "\n",
      "       delMFCCs13  ...      MFCCs4      MFCCs5      MFCCs6      MFCCs7  \\\n",
      "count  457.000000  ...  457.000000  457.000000  457.000000  457.000000   \n",
      "mean     0.022727  ...   -7.307247    3.079386  -20.502881   -5.854443   \n",
      "std      0.047546  ...   10.923159    8.798856   10.730721    7.375883   \n",
      "min     -0.183833  ...  -43.843983  -30.563550  -63.192590  -30.035845   \n",
      "25%     -0.000840  ...  -14.493466   -2.053473  -26.675592  -10.059641   \n",
      "50%      0.016583  ...   -6.580308    2.527661  -19.334597   -5.225519   \n",
      "75%      0.055784  ...    0.084312    8.268372  -12.847409   -1.005567   \n",
      "max      0.178555  ...   22.073395   31.169401    4.206708   12.477965   \n",
      "\n",
      "           MFCCs8      MFCCs9     MFCCs10     MFCCs11     MFCCs12     MFCCs13  \n",
      "count  457.000000  457.000000  457.000000  457.000000  457.000000  457.000000  \n",
      "mean     0.473949  -11.543065   -3.475046   -2.497942   -9.310533   -1.614054  \n",
      "std      6.896061    6.860347    4.733299    4.547237    5.577711    5.021888  \n",
      "min    -27.879177  -36.286797  -18.108528  -15.889749  -26.518278  -17.633327  \n",
      "25%     -3.608023  -15.987158   -6.185523   -5.088930  -12.936294   -4.611650  \n",
      "50%      1.178230  -10.590963   -3.436787   -2.587998   -9.256982   -2.138481  \n",
      "75%      4.518138   -6.204217   -0.933123   -0.123325   -5.530221    0.247652  \n",
      "max     27.120880    4.719126   17.416044   22.357973   14.592967   19.876127  \n",
      "\n",
      "[8 rows x 26 columns] 2\n"
     ]
    }
   ],
   "source": [
    "# view summary statistics in numerical variables\n",
    "\n",
    "print((df[numerical].describe()),2)"
   ]
  },
  {
   "cell_type": "markdown",
   "metadata": {},
   "source": [
    "Normalización usando el Scaler estándar"
   ]
  },
  {
   "cell_type": "code",
   "execution_count": 18,
   "metadata": {},
   "outputs": [],
   "source": [
    "from sklearn.preprocessing import StandardScaler\n",
    "\n",
    "scaler = StandardScaler()\n",
    "X = df.drop(columns=['Cry_Reason'])  # Características\n",
    "y = df['Cry_Reason']  # Etiqueta de clase\n",
    "\n",
    "X_scaled = scaler.fit_transform(X)  # Normalizamos solo las características\n"
   ]
  },
  {
   "cell_type": "code",
   "execution_count": 19,
   "metadata": {},
   "outputs": [],
   "source": [
    "X = X_scaled"
   ]
  },
  {
   "cell_type": "markdown",
   "metadata": {},
   "source": [
    "Dividimos en train y test"
   ]
  },
  {
   "cell_type": "code",
   "execution_count": 20,
   "metadata": {},
   "outputs": [],
   "source": [
    "from sklearn.model_selection import train_test_split\n",
    "\n",
    "X_train, X_test, y_train, y_test = train_test_split(X, y, test_size = 0.2, random_state = 0)"
   ]
  },
  {
   "cell_type": "code",
   "execution_count": 21,
   "metadata": {},
   "outputs": [
    {
     "data": {
      "text/plain": [
       "((365, 25), (92, 25))"
      ]
     },
     "execution_count": 21,
     "metadata": {},
     "output_type": "execute_result"
    }
   ],
   "source": [
    "#20% test, 80% training\n",
    "X_train.shape, X_test.shape"
   ]
  },
  {
   "cell_type": "markdown",
   "metadata": {},
   "source": [
    "Como los datos están extremadamente imbalanceados, utilizamos SMOTE para corregirlo"
   ]
  },
  {
   "cell_type": "code",
   "execution_count": 22,
   "metadata": {},
   "outputs": [],
   "source": [
    "from imblearn.over_sampling import SMOTE\n",
    "\n",
    "smote = SMOTE(random_state=42)\n",
    "X_train, y_train = smote.fit_resample(X_train, y_train)"
   ]
  },
  {
   "cell_type": "code",
   "execution_count": 23,
   "metadata": {},
   "outputs": [
    {
     "name": "stdout",
     "output_type": "stream",
     "text": [
      "Distribución de clases después de SMOTE:\n",
      " 3    303\n",
      "2    303\n",
      "0    303\n",
      "4    303\n",
      "1    303\n",
      "Name: Cry_Reason, dtype: int64\n"
     ]
    }
   ],
   "source": [
    "import pandas as pd\n",
    "\n",
    "print(\"Distribución de clases después de SMOTE:\\n\", pd.Series(y_train).value_counts())"
   ]
  },
  {
   "cell_type": "code",
   "execution_count": 24,
   "metadata": {},
   "outputs": [],
   "source": [
    "import pandas as pd\n",
    "\n",
    "# Convertir X_train y X_test en DataFrames con sus nombres de columnas originales\n",
    "X_train_df = pd.DataFrame(X_train, columns=df.drop(columns=['Cry_Reason']).columns)\n",
    "X_test_df = pd.DataFrame(X_test, columns=df.drop(columns=['Cry_Reason']).columns)"
   ]
  },
  {
   "cell_type": "code",
   "execution_count": 25,
   "metadata": {},
   "outputs": [],
   "source": [
    "# Convertir y_train y y_test en DataFrames\n",
    "y_train_df = pd.DataFrame(y_train, columns=['Cry_Reason'])\n",
    "y_test_df = pd.DataFrame(y_test, columns=['Cry_Reason'])\n"
   ]
  },
  {
   "cell_type": "code",
   "execution_count": 26,
   "metadata": {},
   "outputs": [],
   "source": [
    "X_train = X_train_df\n",
    "X_test = X_test_df"
   ]
  },
  {
   "cell_type": "code",
   "execution_count": 27,
   "metadata": {},
   "outputs": [
    {
     "data": {
      "application/vnd.microsoft.datawrangler.viewer.v0+json": {
       "columns": [
        {
         "name": "index",
         "rawType": "int64",
         "type": "integer"
        },
        {
         "name": "Amplitude_Envelope_Mean",
         "rawType": "float64",
         "type": "float"
        },
        {
         "name": "RMS_Mean",
         "rawType": "float64",
         "type": "float"
        },
        {
         "name": "ZCR_Mean",
         "rawType": "float64",
         "type": "float"
        },
        {
         "name": "STFT_Mean",
         "rawType": "float64",
         "type": "float"
        },
        {
         "name": "SC_Mean",
         "rawType": "float64",
         "type": "float"
        },
        {
         "name": "SBAN_Mean",
         "rawType": "float64",
         "type": "float"
        },
        {
         "name": "SCON_Mean",
         "rawType": "float64",
         "type": "float"
        },
        {
         "name": "MFCCs13Mean",
         "rawType": "float64",
         "type": "float"
        },
        {
         "name": "delMFCCs13",
         "rawType": "float64",
         "type": "float"
        },
        {
         "name": "del2MFCCs13",
         "rawType": "float64",
         "type": "float"
        },
        {
         "name": "MelSpec",
         "rawType": "float64",
         "type": "float"
        },
        {
         "name": "MFCCs20",
         "rawType": "float64",
         "type": "float"
        },
        {
         "name": "MFCCs1",
         "rawType": "float64",
         "type": "float"
        },
        {
         "name": "MFCCs2",
         "rawType": "float64",
         "type": "float"
        },
        {
         "name": "MFCCs3",
         "rawType": "float64",
         "type": "float"
        },
        {
         "name": "MFCCs4",
         "rawType": "float64",
         "type": "float"
        },
        {
         "name": "MFCCs5",
         "rawType": "float64",
         "type": "float"
        },
        {
         "name": "MFCCs6",
         "rawType": "float64",
         "type": "float"
        },
        {
         "name": "MFCCs7",
         "rawType": "float64",
         "type": "float"
        },
        {
         "name": "MFCCs8",
         "rawType": "float64",
         "type": "float"
        },
        {
         "name": "MFCCs9",
         "rawType": "float64",
         "type": "float"
        },
        {
         "name": "MFCCs10",
         "rawType": "float64",
         "type": "float"
        },
        {
         "name": "MFCCs11",
         "rawType": "float64",
         "type": "float"
        },
        {
         "name": "MFCCs12",
         "rawType": "float64",
         "type": "float"
        },
        {
         "name": "MFCCs13",
         "rawType": "float64",
         "type": "float"
        }
       ],
       "conversionMethod": "pd.DataFrame",
       "ref": "9da1e796-eaf7-415e-a40e-14f16b08fbe4",
       "rows": [
        [
         "0",
         "0.6719654703220906",
         "0.9172002885748576",
         "-0.08936310013058571",
         "1.0688207442873536",
         "1.4858599110677375",
         "0.16249092279096977",
         "1.0936048491933523",
         "0.5547011449498673",
         "-0.4785291804482079",
         "-0.35614695026274984",
         "0.56676176793196",
         "0.4838180911096389",
         "0.49657903213937743",
         "-1.2657708771827934",
         "0.2747278386292123",
         "-0.3902111494302754",
         "-0.6386316328032677",
         "0.6729059370198094",
         "0.04541764530167985",
         "-0.5615440137583588",
         "0.7428738637678369",
         "1.3327595842618467",
         "1.275788647853104",
         "1.6300911319576314",
         "1.2460949065878315"
        ],
        [
         "1",
         "-0.9209071390677176",
         "-0.8441061042533355",
         "-1.300890700831206",
         "-0.6686278694954688",
         "-1.1777714984785528",
         "1.0324808435318937",
         "1.8542025306174577",
         "0.18873019400464716",
         "1.143014355343313",
         "-0.30408756033309897",
         "-0.45308242482871636",
         "-0.25086981658100715",
         "-0.5109552246767832",
         "0.2641558882907242",
         "1.5790573069648022",
         "0.6081255926641763",
         "-0.3274003039444847",
         "1.0381127274095037",
         "0.7107718769452842",
         "0.3058706698247094",
         "0.7131298031791409",
         "-0.3792393443163117",
         "-0.4754619964346641",
         "0.1619292724749218",
         "-0.4432586205923833"
        ],
        [
         "2",
         "-0.9400860422216035",
         "-0.9134697779310603",
         "0.5243442702745782",
         "-0.6821445334175787",
         "0.4050915513407218",
         "-0.07058356469442414",
         "0.0014223907312190206",
         "-1.1426766709936185",
         "1.4746131598000245",
         "-0.9261165043160965",
         "-1.2986480910102172",
         "-1.1049899933663634",
         "-1.2872533652050553",
         "0.13605977395748173",
         "0.8189327958445872",
         "-0.10430707297013965",
         "-0.8479194308034914",
         "-0.13174758672988113",
         "-0.261621472450036",
         "0.7242432998960301",
         "0.9666476076885736",
         "-0.29281010056326856",
         "0.3859448278203484",
         "0.46379811163512136",
         "-1.134407109130803"
        ],
        [
         "3",
         "-0.9238374971900793",
         "-0.8559816876539318",
         "0.19342790824552214",
         "-0.6764511806014853",
         "1.5410358776295723",
         "1.2161925252810395",
         "-1.1019744689988935",
         "-1.1091540531010726",
         "0.6305809730584176",
         "2.013488960528419",
         "-0.9177607651750607",
         "-0.9973085813723858",
         "-0.9963232811106356",
         "-0.6791666283019557",
         "0.09347099169474682",
         "-0.7570557159530644",
         "-0.4348002324289325",
         "0.3858136209653989",
         "-0.7841390021070497",
         "-0.42566217717183225",
         "1.3675639414071104",
         "1.4038642504153445",
         "0.5999120718795758",
         "0.7899222586761674",
         "0.45139915895645594"
        ],
        [
         "4",
         "-0.7967791096326133",
         "-0.7561660913584302",
         "0.19574371784213954",
         "-0.5753536322763234",
         "0.014855737955952563",
         "0.07537742411284871",
         "-0.04308885740987106",
         "-0.24657759851020586",
         "-0.4785291395317172",
         "-0.3561468089535304",
         "0.015966327882836032",
         "-0.1439738499617307",
         "-0.08796008838780778",
         "-1.1864182644356367",
         "-0.23356752120454982",
         "-0.49800963481690336",
         "0.3330071344186432",
         "1.1492313874258668",
         "0.45080050296739427",
         "-0.18371675671301807",
         "0.31972364367464917",
         "-0.6964001959717552",
         "-1.058542485700145",
         "0.9306002803701497",
         "1.7293850209560946"
        ]
       ],
       "shape": {
        "columns": 25,
        "rows": 5
       }
      },
      "text/html": [
       "<div>\n",
       "<style scoped>\n",
       "    .dataframe tbody tr th:only-of-type {\n",
       "        vertical-align: middle;\n",
       "    }\n",
       "\n",
       "    .dataframe tbody tr th {\n",
       "        vertical-align: top;\n",
       "    }\n",
       "\n",
       "    .dataframe thead th {\n",
       "        text-align: right;\n",
       "    }\n",
       "</style>\n",
       "<table border=\"1\" class=\"dataframe\">\n",
       "  <thead>\n",
       "    <tr style=\"text-align: right;\">\n",
       "      <th></th>\n",
       "      <th>Amplitude_Envelope_Mean</th>\n",
       "      <th>RMS_Mean</th>\n",
       "      <th>ZCR_Mean</th>\n",
       "      <th>STFT_Mean</th>\n",
       "      <th>SC_Mean</th>\n",
       "      <th>SBAN_Mean</th>\n",
       "      <th>SCON_Mean</th>\n",
       "      <th>MFCCs13Mean</th>\n",
       "      <th>delMFCCs13</th>\n",
       "      <th>del2MFCCs13</th>\n",
       "      <th>...</th>\n",
       "      <th>MFCCs4</th>\n",
       "      <th>MFCCs5</th>\n",
       "      <th>MFCCs6</th>\n",
       "      <th>MFCCs7</th>\n",
       "      <th>MFCCs8</th>\n",
       "      <th>MFCCs9</th>\n",
       "      <th>MFCCs10</th>\n",
       "      <th>MFCCs11</th>\n",
       "      <th>MFCCs12</th>\n",
       "      <th>MFCCs13</th>\n",
       "    </tr>\n",
       "  </thead>\n",
       "  <tbody>\n",
       "    <tr>\n",
       "      <th>0</th>\n",
       "      <td>0.671965</td>\n",
       "      <td>0.917200</td>\n",
       "      <td>-0.089363</td>\n",
       "      <td>1.068821</td>\n",
       "      <td>1.485860</td>\n",
       "      <td>0.162491</td>\n",
       "      <td>1.093605</td>\n",
       "      <td>0.554701</td>\n",
       "      <td>-0.478529</td>\n",
       "      <td>-0.356147</td>\n",
       "      <td>...</td>\n",
       "      <td>-0.390211</td>\n",
       "      <td>-0.638632</td>\n",
       "      <td>0.672906</td>\n",
       "      <td>0.045418</td>\n",
       "      <td>-0.561544</td>\n",
       "      <td>0.742874</td>\n",
       "      <td>1.332760</td>\n",
       "      <td>1.275789</td>\n",
       "      <td>1.630091</td>\n",
       "      <td>1.246095</td>\n",
       "    </tr>\n",
       "    <tr>\n",
       "      <th>1</th>\n",
       "      <td>-0.920907</td>\n",
       "      <td>-0.844106</td>\n",
       "      <td>-1.300891</td>\n",
       "      <td>-0.668628</td>\n",
       "      <td>-1.177771</td>\n",
       "      <td>1.032481</td>\n",
       "      <td>1.854203</td>\n",
       "      <td>0.188730</td>\n",
       "      <td>1.143014</td>\n",
       "      <td>-0.304088</td>\n",
       "      <td>...</td>\n",
       "      <td>0.608126</td>\n",
       "      <td>-0.327400</td>\n",
       "      <td>1.038113</td>\n",
       "      <td>0.710772</td>\n",
       "      <td>0.305871</td>\n",
       "      <td>0.713130</td>\n",
       "      <td>-0.379239</td>\n",
       "      <td>-0.475462</td>\n",
       "      <td>0.161929</td>\n",
       "      <td>-0.443259</td>\n",
       "    </tr>\n",
       "    <tr>\n",
       "      <th>2</th>\n",
       "      <td>-0.940086</td>\n",
       "      <td>-0.913470</td>\n",
       "      <td>0.524344</td>\n",
       "      <td>-0.682145</td>\n",
       "      <td>0.405092</td>\n",
       "      <td>-0.070584</td>\n",
       "      <td>0.001422</td>\n",
       "      <td>-1.142677</td>\n",
       "      <td>1.474613</td>\n",
       "      <td>-0.926117</td>\n",
       "      <td>...</td>\n",
       "      <td>-0.104307</td>\n",
       "      <td>-0.847919</td>\n",
       "      <td>-0.131748</td>\n",
       "      <td>-0.261621</td>\n",
       "      <td>0.724243</td>\n",
       "      <td>0.966648</td>\n",
       "      <td>-0.292810</td>\n",
       "      <td>0.385945</td>\n",
       "      <td>0.463798</td>\n",
       "      <td>-1.134407</td>\n",
       "    </tr>\n",
       "    <tr>\n",
       "      <th>3</th>\n",
       "      <td>-0.923837</td>\n",
       "      <td>-0.855982</td>\n",
       "      <td>0.193428</td>\n",
       "      <td>-0.676451</td>\n",
       "      <td>1.541036</td>\n",
       "      <td>1.216193</td>\n",
       "      <td>-1.101974</td>\n",
       "      <td>-1.109154</td>\n",
       "      <td>0.630581</td>\n",
       "      <td>2.013489</td>\n",
       "      <td>...</td>\n",
       "      <td>-0.757056</td>\n",
       "      <td>-0.434800</td>\n",
       "      <td>0.385814</td>\n",
       "      <td>-0.784139</td>\n",
       "      <td>-0.425662</td>\n",
       "      <td>1.367564</td>\n",
       "      <td>1.403864</td>\n",
       "      <td>0.599912</td>\n",
       "      <td>0.789922</td>\n",
       "      <td>0.451399</td>\n",
       "    </tr>\n",
       "    <tr>\n",
       "      <th>4</th>\n",
       "      <td>-0.796779</td>\n",
       "      <td>-0.756166</td>\n",
       "      <td>0.195744</td>\n",
       "      <td>-0.575354</td>\n",
       "      <td>0.014856</td>\n",
       "      <td>0.075377</td>\n",
       "      <td>-0.043089</td>\n",
       "      <td>-0.246578</td>\n",
       "      <td>-0.478529</td>\n",
       "      <td>-0.356147</td>\n",
       "      <td>...</td>\n",
       "      <td>-0.498010</td>\n",
       "      <td>0.333007</td>\n",
       "      <td>1.149231</td>\n",
       "      <td>0.450801</td>\n",
       "      <td>-0.183717</td>\n",
       "      <td>0.319724</td>\n",
       "      <td>-0.696400</td>\n",
       "      <td>-1.058542</td>\n",
       "      <td>0.930600</td>\n",
       "      <td>1.729385</td>\n",
       "    </tr>\n",
       "  </tbody>\n",
       "</table>\n",
       "<p>5 rows × 25 columns</p>\n",
       "</div>"
      ],
      "text/plain": [
       "   Amplitude_Envelope_Mean  RMS_Mean  ZCR_Mean  STFT_Mean   SC_Mean  \\\n",
       "0                 0.671965  0.917200 -0.089363   1.068821  1.485860   \n",
       "1                -0.920907 -0.844106 -1.300891  -0.668628 -1.177771   \n",
       "2                -0.940086 -0.913470  0.524344  -0.682145  0.405092   \n",
       "3                -0.923837 -0.855982  0.193428  -0.676451  1.541036   \n",
       "4                -0.796779 -0.756166  0.195744  -0.575354  0.014856   \n",
       "\n",
       "   SBAN_Mean  SCON_Mean  MFCCs13Mean  delMFCCs13  del2MFCCs13  ...    MFCCs4  \\\n",
       "0   0.162491   1.093605     0.554701   -0.478529    -0.356147  ... -0.390211   \n",
       "1   1.032481   1.854203     0.188730    1.143014    -0.304088  ...  0.608126   \n",
       "2  -0.070584   0.001422    -1.142677    1.474613    -0.926117  ... -0.104307   \n",
       "3   1.216193  -1.101974    -1.109154    0.630581     2.013489  ... -0.757056   \n",
       "4   0.075377  -0.043089    -0.246578   -0.478529    -0.356147  ... -0.498010   \n",
       "\n",
       "     MFCCs5    MFCCs6    MFCCs7    MFCCs8    MFCCs9   MFCCs10   MFCCs11  \\\n",
       "0 -0.638632  0.672906  0.045418 -0.561544  0.742874  1.332760  1.275789   \n",
       "1 -0.327400  1.038113  0.710772  0.305871  0.713130 -0.379239 -0.475462   \n",
       "2 -0.847919 -0.131748 -0.261621  0.724243  0.966648 -0.292810  0.385945   \n",
       "3 -0.434800  0.385814 -0.784139 -0.425662  1.367564  1.403864  0.599912   \n",
       "4  0.333007  1.149231  0.450801 -0.183717  0.319724 -0.696400 -1.058542   \n",
       "\n",
       "    MFCCs12   MFCCs13  \n",
       "0  1.630091  1.246095  \n",
       "1  0.161929 -0.443259  \n",
       "2  0.463798 -1.134407  \n",
       "3  0.789922  0.451399  \n",
       "4  0.930600  1.729385  \n",
       "\n",
       "[5 rows x 25 columns]"
      ]
     },
     "execution_count": 27,
     "metadata": {},
     "output_type": "execute_result"
    }
   ],
   "source": [
    "X_train.head()"
   ]
  },
  {
   "cell_type": "markdown",
   "metadata": {},
   "source": [
    "MODELO"
   ]
  },
  {
   "cell_type": "code",
   "execution_count": 28,
   "metadata": {},
   "outputs": [
    {
     "name": "stdout",
     "output_type": "stream",
     "text": [
      "Model accuracy score with default hyperparameters: 0.7174\n"
     ]
    }
   ],
   "source": [
    "#We now have X_train dataset ready to be fed into the Logistic Regression classifier\n",
    "#Let's run SVM with default hyperparameters\n",
    "#Default hyperparameter means C=1.0, kernel=rbf and gamma=auto among other parameters.\n",
    "\n",
    "# import SVC classifier\n",
    "from sklearn.svm import SVC\n",
    "\n",
    "\n",
    "# import metrics to compute accuracy\n",
    "from sklearn.metrics import accuracy_score\n",
    "\n",
    "\n",
    "# instantiate classifier with default hyperparameters\n",
    "svc=SVC() \n",
    "\n",
    "\n",
    "# fit classifier to training set\n",
    "svc.fit(X_train,y_train)\n",
    "\n",
    "\n",
    "# make predictions on test set\n",
    "y_pred=svc.predict(X_test)\n",
    "\n",
    "\n",
    "# compute and print accuracy score\n",
    "print('Model accuracy score with default hyperparameters: {0:0.4f}'. format(accuracy_score(y_test, y_pred)))"
   ]
  },
  {
   "cell_type": "markdown",
   "metadata": {},
   "source": [
    "LET'S TRY LINEAL KERNEL"
   ]
  },
  {
   "cell_type": "code",
   "execution_count": 29,
   "metadata": {},
   "outputs": [
    {
     "name": "stdout",
     "output_type": "stream",
     "text": [
      "Model accuracy score with linear kernel and C=1.0 : 0.3043\n"
     ]
    }
   ],
   "source": [
    "#Let's try c=1 and kernel = linear\n",
    "linear_svc=SVC(kernel='linear', C=1) \n",
    "\n",
    "\n",
    "# fit classifier to training set\n",
    "linear_svc.fit(X_train,y_train)\n",
    "\n",
    "\n",
    "# make predictions on test set\n",
    "y_pred_test=linear_svc.predict(X_test)\n",
    "\n",
    "\n",
    "# compute and print accuracy score\n",
    "print('Model accuracy score with linear kernel and C=1.0 : {0:0.4f}'. format(accuracy_score(y_test, y_pred_test)))"
   ]
  },
  {
   "cell_type": "markdown",
   "metadata": {},
   "source": [
    "POLYNOMIAL KERNEL"
   ]
  },
  {
   "cell_type": "code",
   "execution_count": 30,
   "metadata": {},
   "outputs": [
    {
     "name": "stdout",
     "output_type": "stream",
     "text": [
      "Model accuracy score with polynomial kernel and C=1 : 0.5435\n"
     ]
    }
   ],
   "source": [
    "# instantiate classifier with polynomial kernel and C=1\n",
    "poly_svc=SVC(kernel='poly', C=1) \n",
    "\n",
    "\n",
    "# fit classifier to training set\n",
    "poly_svc.fit(X_train,y_train)\n",
    "\n",
    "\n",
    "# make predictions on test set\n",
    "y_pred=poly_svc.predict(X_test)\n",
    "\n",
    "\n",
    "# compute and print accuracy score\n",
    "print('Model accuracy score with polynomial kernel and C=1 : {0:0.4f}'. format(accuracy_score(y_test, y_pred)))"
   ]
  },
  {
   "cell_type": "code",
   "execution_count": 31,
   "metadata": {},
   "outputs": [
    {
     "name": "stdout",
     "output_type": "stream",
     "text": [
      "Model accuracy score with sigmoid kernel and C=1 : 0.1413\n"
     ]
    }
   ],
   "source": [
    "# instantiate classifier with sigmoid kernel and C=1\n",
    "sigmoid_svc100=SVC(kernel='sigmoid', C=1) \n",
    "\n",
    "\n",
    "# fit classifier to training set\n",
    "sigmoid_svc100.fit(X_train,y_train)\n",
    "\n",
    "\n",
    "# make predictions on test set\n",
    "y_pred=sigmoid_svc100.predict(X_test)\n",
    "\n",
    "\n",
    "# compute and print accuracy score\n",
    "print('Model accuracy score with sigmoid kernel and C=1 : {0:0.4f}'. format(accuracy_score(y_test, y_pred)))"
   ]
  },
  {
   "cell_type": "markdown",
   "metadata": {},
   "source": [
    "We keep default kernel (RBF)"
   ]
  },
  {
   "cell_type": "markdown",
   "metadata": {},
   "source": [
    "Let's try different values for C"
   ]
  },
  {
   "cell_type": "markdown",
   "metadata": {},
   "source": [
    "Antes teníamos C=1, probamos C=50"
   ]
  },
  {
   "cell_type": "code",
   "execution_count": 32,
   "metadata": {},
   "outputs": [
    {
     "name": "stdout",
     "output_type": "stream",
     "text": [
      "Accuracy with RBF and C=50: 0.7934782608695652\n"
     ]
    }
   ],
   "source": [
    "#Default hyperparameter means kernel=rbf and gamma=auto among other parameters.\n",
    "\n",
    "# import SVC classifier\n",
    "from sklearn.svm import SVC\n",
    "\n",
    "\n",
    "# import metrics to compute accuracy\n",
    "from sklearn.metrics import accuracy_score\n",
    "\n",
    "\n",
    "svc_rbf = SVC(kernel='rbf', C=30)\n",
    "svc_rbf.fit(X_train, y_train.ravel())\n",
    "y_pred_rbf = svc_rbf.predict(X_test)\n",
    "print(\"Accuracy with RBF and C=50:\", accuracy_score(y_test, y_pred_rbf))"
   ]
  },
  {
   "cell_type": "markdown",
   "metadata": {},
   "source": [
    "C=30, porque a partir de 30 la accuracy no cambia, pero si mejora respecto a 1"
   ]
  },
  {
   "cell_type": "markdown",
   "metadata": {},
   "source": [
    "Ajustemos el parámetro gamma"
   ]
  },
  {
   "cell_type": "code",
   "execution_count": 33,
   "metadata": {},
   "outputs": [
    {
     "name": "stdout",
     "output_type": "stream",
     "text": [
      "Accuracy with gamma=0.01: 0.6957\n",
      "Accuracy with gamma=0.1: 0.8587\n",
      "Accuracy with gamma=1: 0.8587\n",
      "Accuracy with gamma=scale: 0.7935\n",
      "Accuracy with gamma=auto: 0.7935\n"
     ]
    }
   ],
   "source": [
    "from sklearn.svm import SVC\n",
    "from sklearn.metrics import accuracy_score\n",
    "\n",
    "for gamma_value in [0.01, 0.1, 1, 'scale', 'auto']:\n",
    "    svc = SVC(kernel='rbf', C=30, gamma=gamma_value)\n",
    "    svc.fit(X_train, y_train.ravel())\n",
    "    y_pred = svc.predict(X_test)\n",
    "    print(f\"Accuracy with gamma={gamma_value}: {accuracy_score(y_test, y_pred):.4f}\")\n"
   ]
  },
  {
   "cell_type": "markdown",
   "metadata": {},
   "source": [
    "Gamma = 0.1 y gamma = 1 es igual de bueno para c=30"
   ]
  },
  {
   "cell_type": "markdown",
   "metadata": {},
   "source": [
    "Probamos un valor intermedio"
   ]
  },
  {
   "cell_type": "code",
   "execution_count": 34,
   "metadata": {},
   "outputs": [
    {
     "name": "stdout",
     "output_type": "stream",
     "text": [
      "Accuracy with gamma=0.5: 0.8586956521739131\n"
     ]
    }
   ],
   "source": [
    "svc = SVC(kernel='rbf', C=30, gamma=0.5)\n",
    "svc.fit(X_train, y_train.ravel())\n",
    "y_pred = svc.predict(X_test)\n",
    "print(\"Accuracy with gamma=0.5:\", accuracy_score(y_test, y_pred))\n"
   ]
  },
  {
   "cell_type": "markdown",
   "metadata": {},
   "source": [
    "Comprobamos si hay overfitting"
   ]
  },
  {
   "cell_type": "code",
   "execution_count": 35,
   "metadata": {},
   "outputs": [
    {
     "name": "stdout",
     "output_type": "stream",
     "text": [
      "Confusion Matrix:\n",
      " [[ 0  0  0  5  0]\n",
      " [ 0  0  0  1  0]\n",
      " [ 0  0  0  1  0]\n",
      " [ 0  0  0 79  0]\n",
      " [ 0  0  0  6  0]]\n",
      "\n",
      "Classification Report:\n",
      "               precision    recall  f1-score   support\n",
      "\n",
      "           0       0.00      0.00      0.00         5\n",
      "           1       0.00      0.00      0.00         1\n",
      "           2       0.00      0.00      0.00         1\n",
      "           3       0.86      1.00      0.92        79\n",
      "           4       0.00      0.00      0.00         6\n",
      "\n",
      "    accuracy                           0.86        92\n",
      "   macro avg       0.17      0.20      0.18        92\n",
      "weighted avg       0.74      0.86      0.79        92\n",
      "\n"
     ]
    },
    {
     "name": "stderr",
     "output_type": "stream",
     "text": [
      "/Users/lucia/opt/anaconda3/lib/python3.9/site-packages/sklearn/metrics/_classification.py:1344: UndefinedMetricWarning: Precision and F-score are ill-defined and being set to 0.0 in labels with no predicted samples. Use `zero_division` parameter to control this behavior.\n",
      "  _warn_prf(average, modifier, msg_start, len(result))\n",
      "/Users/lucia/opt/anaconda3/lib/python3.9/site-packages/sklearn/metrics/_classification.py:1344: UndefinedMetricWarning: Precision and F-score are ill-defined and being set to 0.0 in labels with no predicted samples. Use `zero_division` parameter to control this behavior.\n",
      "  _warn_prf(average, modifier, msg_start, len(result))\n",
      "/Users/lucia/opt/anaconda3/lib/python3.9/site-packages/sklearn/metrics/_classification.py:1344: UndefinedMetricWarning: Precision and F-score are ill-defined and being set to 0.0 in labels with no predicted samples. Use `zero_division` parameter to control this behavior.\n",
      "  _warn_prf(average, modifier, msg_start, len(result))\n"
     ]
    }
   ],
   "source": [
    "from sklearn.metrics import classification_report, confusion_matrix\n",
    "\n",
    "svc_best = SVC(kernel='rbf', C=30, gamma=0.5)\n",
    "svc_best.fit(X_train, y_train)\n",
    "y_pred_best = svc_best.predict(X_test)\n",
    "\n",
    "print(\"Confusion Matrix:\\n\", confusion_matrix(y_test, y_pred_best))\n",
    "print(\"\\nClassification Report:\\n\", classification_report(y_test, y_pred_best))\n"
   ]
  },
  {
   "cell_type": "markdown",
   "metadata": {},
   "source": [
    "El dataset está extremadamente desbalanceado"
   ]
  },
  {
   "cell_type": "markdown",
   "metadata": {},
   "source": [
    "🔹 3️⃣ Ajustes y experimentos realizados en SVM\n",
    "\n",
    "Comenta que probaste class_weight='balanced', SMOTE, diferentes valores de C y gamma, y que aun así no mejoró.\n",
    "Esto demuestra que hiciste una búsqueda exhaustiva de hiperparámetros.\n",
    "\n",
    "🔹 4️⃣ Conclusión sobre SVM\n",
    "\n",
    "Explica que SVM no maneja bien datasets altamente desbalanceados sin una representación suficiente de cada clase."
   ]
  },
  {
   "cell_type": "markdown",
   "metadata": {},
   "source": [
    "Now, I will compare the train-set and test-set accuracy to check for overfitting."
   ]
  },
  {
   "cell_type": "code",
   "execution_count": 36,
   "metadata": {},
   "outputs": [
    {
     "name": "stdout",
     "output_type": "stream",
     "text": [
      "Training set score: 1.0000\n",
      "Test set score: 0.8587\n"
     ]
    }
   ],
   "source": [
    "print('Training set score: {:.4f}'.format(svc_best.score(X_train, y_train)))\n",
    "\n",
    "print('Test set score: {:.4f}'.format(svc_best.score(X_test, y_test)))"
   ]
  },
  {
   "cell_type": "markdown",
   "metadata": {},
   "source": [
    "OVERFITTING MUY CLARO"
   ]
  },
  {
   "cell_type": "markdown",
   "metadata": {},
   "source": [
    "Probamos CV"
   ]
  },
  {
   "cell_type": "markdown",
   "metadata": {},
   "source": [
    "El dataset de entrenamiento se divide en 5 partes (5-fold cross-validation).\n",
    "\n",
    "Se entrena el modelo 5 veces, cada vez dejando una de las partes para test y usando las demás para entrenamiento.\n",
    "\n",
    "Se calcula la precisión (accuracy) en cada fold.\n",
    "\n",
    "El resultado es una lista con 5 valores, cada uno representando la precisión obtenida en cada fold.\n"
   ]
  },
  {
   "cell_type": "markdown",
   "metadata": {},
   "source": [
    "Tras probar muchos valores de C y gamma, se llega a la conclusión de que la mejor combinación es c=0.7 y gamma= 0.04. aunque la accuracy baje, eliminamos el overfitting"
   ]
  },
  {
   "cell_type": "code",
   "execution_count": 37,
   "metadata": {},
   "outputs": [
    {
     "name": "stdout",
     "output_type": "stream",
     "text": [
      "Cross-validation scores: [0.92409241 0.9339934  0.93729373 0.95049505 0.9339934 ]\n",
      "Mean accuracy: 0.935973597359736\n"
     ]
    }
   ],
   "source": [
    "from sklearn.model_selection import cross_val_score\n",
    "\n",
    "svc = SVC(kernel='rbf', C=0.7, gamma=0.04)\n",
    "scores = cross_val_score(svc, X_train, y_train.ravel(), cv=5, scoring='accuracy')\n",
    "print(\"Cross-validation scores:\", scores)\n",
    "print(\"Mean accuracy:\", scores.mean())\n"
   ]
  },
  {
   "cell_type": "code",
   "execution_count": 38,
   "metadata": {},
   "outputs": [
    {
     "name": "stdout",
     "output_type": "stream",
     "text": [
      "Training set score: 0.9677\n",
      "Test set score: 0.6522\n"
     ]
    }
   ],
   "source": [
    "# Importar la librería\n",
    "from sklearn.svm import SVC\n",
    "from sklearn.metrics import accuracy_score\n",
    "\n",
    "# Definir el modelo\n",
    "svc = SVC(kernel='rbf', C=0.7, gamma=0.04)\n",
    "\n",
    "# Entrenar el modelo con los datos de entrenamiento\n",
    "svc.fit(X_train, y_train.ravel())\n",
    "\n",
    "# Calcular la precisión en el conjunto de entrenamiento\n",
    "train_score = accuracy_score(y_train, svc.predict(X_train))\n",
    "\n",
    "# Calcular la precisión en el conjunto de test\n",
    "test_score = accuracy_score(y_test, svc.predict(X_test))\n",
    "\n",
    "# Imprimir los resultados\n",
    "print(\"Training set score: {:.4f}\".format(train_score))\n",
    "print(\"Test set score: {:.4f}\".format(test_score))\n",
    "\n"
   ]
  },
  {
   "cell_type": "markdown",
   "metadata": {},
   "source": [
    "🔹 Conclusiones:\n",
    "\n",
    "✅ El modelo es estable, ya que los valores de validación cruzada no varían mucho entre los diferentes folds.\n",
    "\n",
    "✅ La media de 93.59% indica que el modelo tiene un buen desempeño en distintas particiones del dataset.\n",
    "\n",
    "✅ Este resultado confirma que C=0.7, gamma=0.04 es la mejor configuración encontrada hasta ahora."
   ]
  },
  {
   "cell_type": "code",
   "execution_count": 39,
   "metadata": {},
   "outputs": [
    {
     "data": {
      "image/png": "[encoded data removed]",
      "text/plain": [
       "<Figure size 432x360 with 2 Axes>"
      ]
     },
     "metadata": {
      "needs_background": "light"
     },
     "output_type": "display_data"
    }
   ],
   "source": [
    "import seaborn as sns\n",
    "import matplotlib.pyplot as plt\n",
    "from sklearn.metrics import confusion_matrix\n",
    "\n",
    "# Obtener las predicciones en el conjunto de test\n",
    "y_pred = svc.predict(X_test)\n",
    "\n",
    "# Calcular la matriz de confusión\n",
    "cm = confusion_matrix(y_test, y_pred)\n",
    "\n",
    "# Crear un heatmap con seaborn\n",
    "plt.figure(figsize=(6,5))\n",
    "sns.heatmap(cm, annot=True, fmt=\"d\", cmap=\"Blues\", xticklabels=[0,1,2,3,4], yticklabels=[0,1,2,3,4])\n",
    "plt.xlabel(\"Predicted Label\")\n",
    "plt.ylabel(\"True Label\")\n",
    "plt.title(\"Matriz de Confusión - SVM\")\n",
    "plt.show()"
   ]
  },
  {
   "cell_type": "code",
   "execution_count": 40,
   "metadata": {},
   "outputs": [
    {
     "name": "stdout",
     "output_type": "stream",
     "text": [
      "Accuracy: 0.6521739130434783\n",
      "Sensibilidad (Recall): 0.6521739130434783\n",
      "F1 Score: 0.7165492957746479\n"
     ]
    }
   ],
   "source": [
    "from sklearn.metrics import accuracy_score, recall_score, f1_score, roc_auc_score\n",
    "import numpy as np\n",
    "\n",
    "\n",
    "# Obtener predicciones del modelo SVM\n",
    "y_pred_svm = svc.predict(X_test)\n",
    "\n",
    "# Calcular métricas\n",
    "accuracy_svm = accuracy_score(y_test, y_pred_svm)\n",
    "recall_svm = recall_score(y_test, y_pred_svm, average='weighted')\n",
    "f1_svm = f1_score(y_test, y_pred_svm, average='weighted')\n",
    "\n",
    "\n",
    "# Mostrar los resultados\n",
    "print(\"Accuracy:\", accuracy_svm)\n",
    "print(\"Sensibilidad (Recall):\", recall_svm)\n",
    "print(\"F1 Score:\", f1_svm)\n"
   ]
  },
  {
   "cell_type": "code",
   "execution_count": 41,
   "metadata": {},
   "outputs": [
    {
     "name": "stdout",
     "output_type": "stream",
     "text": [
      "AUC (con softmax): 0.49120419948665967\n"
     ]
    }
   ],
   "source": [
    "from scipy.special import softmax\n",
    "from sklearn.metrics import roc_auc_score\n",
    "\n",
    "if hasattr(svc, \"decision_function\"):\n",
    "    y_scores = svc.decision_function(X_test)\n",
    "    y_proba_svm = softmax(y_scores, axis=1)  # Convertir scores en probabilidades\n",
    "    auc_svm = roc_auc_score(y_test, y_proba_svm, multi_class='ovr')\n",
    "    print(\"AUC (con softmax):\", auc_svm)\n"
   ]
  },
  {
   "cell_type": "markdown",
   "metadata": {},
   "source": [
    "🔹 Conclusiones:\n",
    "\n",
    "Accuracy y Recall son iguales (0.6522), lo que sugiere que el modelo clasifica de manera uniforme en test.\n",
    "\n",
    "F1 Score (0.7165) es superior a la precisión general, lo que indica que el modelo maneja mejor el balance entre precisión y recall.\n",
    "\n",
    "AUC = 0.4912 es bajo, lo que indica que el modelo no separa bien las clases (probablemente por el desbalance del dataset)."
   ]
  },
  {
   "cell_type": "code",
   "execution_count": 42,
   "metadata": {},
   "outputs": [
    {
     "name": "stderr",
     "output_type": "stream",
     "text": [
      "[codecarbon INFO @ 19:45:25] Energy consumed for RAM : 0.000008 kWh. RAM Power : 3.0 W\n",
      "[codecarbon INFO @ 19:45:25] Energy consumed for all CPUs : 0.000014 kWh. Total CPU Power : 5.0 W\n",
      "[codecarbon INFO @ 19:45:25] 0.000022 kWh of electricity used since the beginning.\n"
     ]
    },
    {
     "data": {
      "text/plain": [
       "4.593049375485295e-06"
      ]
     },
     "execution_count": 42,
     "metadata": {},
     "output_type": "execute_result"
    }
   ],
   "source": [
    "# Detener el medidor y obtener los resultados\n",
    "tracker.stop()\n"
   ]
  }
 ],
 "metadata": {
  "kernelspec": {
   "display_name": "base",
   "language": "python",
   "name": "python3"
  },
  "language_info": {
   "codemirror_mode": {
    "name": "ipython",
    "version": 3
   },
   "file_extension": ".py",
   "mimetype": "text/x-python",
   "name": "python",
   "nbconvert_exporter": "python",
   "pygments_lexer": "ipython3",
   "version": "3.9.12"
  }
 },
 "nbformat": 4,
 "nbformat_minor": 2
}
