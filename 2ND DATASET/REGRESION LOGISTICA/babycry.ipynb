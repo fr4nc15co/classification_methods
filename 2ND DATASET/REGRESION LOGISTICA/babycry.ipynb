{
 "cells": [
  {
   "cell_type": "code",
   "execution_count": 1,
   "metadata": {},
   "outputs": [
    {
     "name": "stderr",
     "output_type": "stream",
     "text": [
      "[codecarbon INFO @ 20:34:26] [setup] RAM Tracking...\n",
      "[codecarbon INFO @ 20:34:26] [setup] CPU Tracking...\n",
      "[codecarbon WARNING @ 20:34:29] No CPU tracking mode found. Falling back on CPU constant mode. \n",
      " Mac OS and ARM processor detected: Please enable PowerMetrics sudo to measure CPU\n",
      "\n",
      "[codecarbon INFO @ 20:34:31] CPU Model on constant consumption mode: Apple M1\n",
      "[codecarbon INFO @ 20:34:31] [setup] GPU Tracking...\n",
      "[codecarbon INFO @ 20:34:31] No GPU found.\n",
      "[codecarbon INFO @ 20:34:31] >>> Tracker's metadata:\n",
      "[codecarbon INFO @ 20:34:31]   Platform system: macOS-10.16-x86_64-i386-64bit\n",
      "[codecarbon INFO @ 20:34:31]   Python version: 3.9.12\n",
      "[codecarbon INFO @ 20:34:31]   CodeCarbon version: 2.8.3\n",
      "[codecarbon INFO @ 20:34:31]   Available RAM : 8.000 GB\n",
      "[codecarbon INFO @ 20:34:31]   CPU count: 8\n",
      "[codecarbon INFO @ 20:34:31]   CPU model: Apple M1\n",
      "[codecarbon INFO @ 20:34:31]   GPU count: None\n",
      "[codecarbon INFO @ 20:34:31]   GPU model: None\n",
      "[codecarbon INFO @ 20:34:35] Saving emissions data to file /Users/lucia/Desktop/classification_methods/2ND DATASET/REGRESION LOGISTICA/emissions.csv\n"
     ]
    }
   ],
   "source": [
    "from codecarbon import EmissionsTracker\n",
    "try:\n",
    "    tracker.stop()  # Intenta detener cualquier instancia previa de codecarbon\n",
    "except:\n",
    "    pass  # Ignora el error si no hay ninguna instancia activa\n",
    "# Iniciar el medidor\n",
    "tracker = EmissionsTracker()\n",
    "tracker.start()"
   ]
  },
  {
   "cell_type": "code",
   "execution_count": 2,
   "metadata": {},
   "outputs": [],
   "source": [
    "import numpy as np # linear algebra\n",
    "import pandas as pd # data processing, CSV file I/O (e.g. pd.read_csv)\n",
    "import matplotlib.pyplot as plt # data visualization\n",
    "import seaborn as sns # statistical data visualization\n",
    "%matplotlib inline"
   ]
  },
  {
   "cell_type": "code",
   "execution_count": 3,
   "metadata": {},
   "outputs": [],
   "source": [
    "data = '/Users/lucia/.cache/kagglehub/datasets/bhoomikavalani/donateacrycorpusfeaturesdataset/versions/2/donateacry-corpus_features_final.csv'\n",
    "\n",
    "df = pd.read_csv(data)"
   ]
  },
  {
   "cell_type": "code",
   "execution_count": 4,
   "metadata": {},
   "outputs": [
    {
     "data": {
      "application/vnd.microsoft.datawrangler.viewer.v0+json": {
       "columns": [
        {
         "name": "index",
         "rawType": "int64",
         "type": "integer"
        },
        {
         "name": "Cry_Audio_File",
         "rawType": "object",
         "type": "string"
        },
        {
         "name": "Cry_Reason",
         "rawType": "int64",
         "type": "integer"
        },
        {
         "name": "Amplitude_Envelope_Mean",
         "rawType": "float64",
         "type": "float"
        },
        {
         "name": "RMS_Mean",
         "rawType": "float64",
         "type": "float"
        },
        {
         "name": "ZCR_Mean",
         "rawType": "float64",
         "type": "float"
        },
        {
         "name": "STFT_Mean",
         "rawType": "float64",
         "type": "float"
        },
        {
         "name": "SC_Mean",
         "rawType": "float64",
         "type": "float"
        },
        {
         "name": "SBAN_Mean",
         "rawType": "float64",
         "type": "float"
        },
        {
         "name": "SCON_Mean",
         "rawType": "float64",
         "type": "float"
        },
        {
         "name": "MFCCs13Mean",
         "rawType": "float64",
         "type": "float"
        },
        {
         "name": "delMFCCs13",
         "rawType": "float64",
         "type": "float"
        },
        {
         "name": "del2MFCCs13",
         "rawType": "float64",
         "type": "float"
        },
        {
         "name": "MelSpec",
         "rawType": "float64",
         "type": "float"
        },
        {
         "name": "MFCCs20",
         "rawType": "float64",
         "type": "float"
        },
        {
         "name": "MFCCs1",
         "rawType": "float64",
         "type": "float"
        },
        {
         "name": "MFCCs2",
         "rawType": "float64",
         "type": "float"
        },
        {
         "name": "MFCCs3",
         "rawType": "float64",
         "type": "float"
        },
        {
         "name": "MFCCs4",
         "rawType": "float64",
         "type": "float"
        },
        {
         "name": "MFCCs5",
         "rawType": "float64",
         "type": "float"
        },
        {
         "name": "MFCCs6",
         "rawType": "float64",
         "type": "float"
        },
        {
         "name": "MFCCs7",
         "rawType": "float64",
         "type": "float"
        },
        {
         "name": "MFCCs8",
         "rawType": "float64",
         "type": "float"
        },
        {
         "name": "MFCCs9",
         "rawType": "float64",
         "type": "float"
        },
        {
         "name": "MFCCs10",
         "rawType": "float64",
         "type": "float"
        },
        {
         "name": "MFCCs11",
         "rawType": "float64",
         "type": "float"
        },
        {
         "name": "MFCCs12",
         "rawType": "float64",
         "type": "float"
        },
        {
         "name": "MFCCs13",
         "rawType": "float64",
         "type": "float"
        }
       ],
       "conversionMethod": "pd.DataFrame",
       "ref": "b34ddfa9-e889-47c9-a6ab-61cb1ffdd37f",
       "rows": [
        [
         "0",
         "/Users/mac/Desktop/Smart_Cradle/donateacry_corpus_cleaned_and_updated_data/belly_pain/999bf14b-e417-4b44-b746-9253f81efe38-1430974001343-1.7-m-26-bp.wav",
         "0",
         "0.028202115",
         "0.011049677",
         "0.0989900115352349",
         "0.10238884",
         "1264.335599246895",
         "519.1011206437458",
         "26.821806993216565",
         "-48.27123",
         "0.08218775",
         "-0.0030100995",
         "-52.58201",
         "-31.961296",
         "-606.60547",
         "93.9349",
         "-47.782738",
         "-15.073559",
         "10.004257",
         "-30.088297",
         "-18.766724",
         "8.679635",
         "-2.3520777",
         "-7.7462444",
         "-3.0962021",
         "-4.7152734",
         "-3.9180954"
        ],
        [
         "1",
         "/Users/mac/Desktop/Smart_Cradle/donateacry_corpus_cleaned_and_updated_data/belly_pain/C421C6FE-DFEE-4080-8AEA-848E7CE4756B-1430548333-1.0-f-26-bp.wav",
         "0",
         "0.02107089",
         "0.006950727",
         "0.1153831229304635",
         "0.050369333",
         "1268.6087664409108",
         "575.4575492212196",
         "25.88131249452339",
         "-49.861237",
         "0.10137523",
         "0.01890978",
         "-55.12258",
         "-32.50051",
         "-628.12067",
         "101.60248",
         "-34.45939",
         "-10.316871",
         "-0.6070605",
         "-25.927773",
         "-4.430356",
         "-4.6190925",
         "-22.430754",
         "-4.3032727",
         "0.17262046",
         "-11.258208",
         "-3.4977849"
        ],
        [
         "2",
         "/Users/mac/Desktop/Smart_Cradle/donateacry_corpus_cleaned_and_updated_data/belly_pain/d6cda191-4962-4308-9a36-46d5648a95ed-1431159262344-1.7-m-04-bp.wav",
         "0",
         "0.029967224",
         "0.010904365",
         "0.1166626806972789",
         "0.10004214",
         "1546.5782001227976",
         "699.6266488662309",
         "26.594714567728595",
         "-49.541706",
         "0.02360533",
         "0.020593692",
         "-50.736797",
         "-31.240011",
         "-585.09564",
         "86.38556",
         "-67.562416",
         "-22.161522",
         "2.0707543",
         "-26.675592",
         "3.2948687",
         "7.7887993",
         "-21.903955",
         "-5.7445436",
         "4.150358",
         "-11.7187195",
         "-6.870083"
        ],
        [
         "3",
         "/Users/mac/Desktop/Smart_Cradle/donateacry_corpus_cleaned_and_updated_data/belly_pain/643D64AD-B711-469A-AF69-55C0D5D3E30F-1430138524-1.0-m-72-bp.wav",
         "0",
         "0.02716325",
         "0.0105199395",
         "0.0850805825745033",
         "0.14076592",
         "1089.4153278195622",
         "668.8959514985646",
         "25.608309568066048",
         "-44.275997",
         "-0.016075362",
         "0.030941423",
         "-47.15573",
         "-29.790195",
         "-538.0991",
         "96.096985",
         "-20.241573",
         "-1.7045985",
         "0.22628057",
         "-29.814095",
         "-14.937744",
         "-11.162116",
         "-21.503994",
         "-7.5013094",
         "-7.856627",
         "-15.119538",
         "-3.9704835"
        ],
        [
         "4",
         "/Users/mac/Desktop/Smart_Cradle/donateacry_corpus_cleaned_and_updated_data/belly_pain/643D64AD-B711-469A-AF69-55C0D5D3E30F-1430138647-1.0-m-72-bp.wav",
         "0",
         "0.01666276",
         "0.0065766405",
         "0.0671079521937086",
         "0.057628784",
         "1017.6109317678302",
         "700.6824103338755",
         "28.19600976076448",
         "-51.325264",
         "0.02111214",
         "0.012414595",
         "-54.007328",
         "-32.03135",
         "-611.4486",
         "68.68205",
         "-8.392762",
         "7.8121095",
         "-9.09841",
         "-34.050182",
         "-9.673841",
         "-11.780775",
         "-24.962975",
         "-7.6970654",
         "-9.014325",
         "-15.366213",
         "-2.2374368"
        ]
       ],
       "shape": {
        "columns": 27,
        "rows": 5
       }
      },
      "text/html": [
       "<div>\n",
       "<style scoped>\n",
       "    .dataframe tbody tr th:only-of-type {\n",
       "        vertical-align: middle;\n",
       "    }\n",
       "\n",
       "    .dataframe tbody tr th {\n",
       "        vertical-align: top;\n",
       "    }\n",
       "\n",
       "    .dataframe thead th {\n",
       "        text-align: right;\n",
       "    }\n",
       "</style>\n",
       "<table border=\"1\" class=\"dataframe\">\n",
       "  <thead>\n",
       "    <tr style=\"text-align: right;\">\n",
       "      <th></th>\n",
       "      <th>Cry_Audio_File</th>\n",
       "      <th>Cry_Reason</th>\n",
       "      <th>Amplitude_Envelope_Mean</th>\n",
       "      <th>RMS_Mean</th>\n",
       "      <th>ZCR_Mean</th>\n",
       "      <th>STFT_Mean</th>\n",
       "      <th>SC_Mean</th>\n",
       "      <th>SBAN_Mean</th>\n",
       "      <th>SCON_Mean</th>\n",
       "      <th>MFCCs13Mean</th>\n",
       "      <th>...</th>\n",
       "      <th>MFCCs4</th>\n",
       "      <th>MFCCs5</th>\n",
       "      <th>MFCCs6</th>\n",
       "      <th>MFCCs7</th>\n",
       "      <th>MFCCs8</th>\n",
       "      <th>MFCCs9</th>\n",
       "      <th>MFCCs10</th>\n",
       "      <th>MFCCs11</th>\n",
       "      <th>MFCCs12</th>\n",
       "      <th>MFCCs13</th>\n",
       "    </tr>\n",
       "  </thead>\n",
       "  <tbody>\n",
       "    <tr>\n",
       "      <th>0</th>\n",
       "      <td>/Users/mac/Desktop/Smart_Cradle/donateacry_cor...</td>\n",
       "      <td>0</td>\n",
       "      <td>0.028202</td>\n",
       "      <td>0.011050</td>\n",
       "      <td>0.098990</td>\n",
       "      <td>0.102389</td>\n",
       "      <td>1264.335599</td>\n",
       "      <td>519.101121</td>\n",
       "      <td>26.821807</td>\n",
       "      <td>-48.271230</td>\n",
       "      <td>...</td>\n",
       "      <td>-15.073559</td>\n",
       "      <td>10.004257</td>\n",
       "      <td>-30.088297</td>\n",
       "      <td>-18.766724</td>\n",
       "      <td>8.679635</td>\n",
       "      <td>-2.352078</td>\n",
       "      <td>-7.746244</td>\n",
       "      <td>-3.096202</td>\n",
       "      <td>-4.715273</td>\n",
       "      <td>-3.918095</td>\n",
       "    </tr>\n",
       "    <tr>\n",
       "      <th>1</th>\n",
       "      <td>/Users/mac/Desktop/Smart_Cradle/donateacry_cor...</td>\n",
       "      <td>0</td>\n",
       "      <td>0.021071</td>\n",
       "      <td>0.006951</td>\n",
       "      <td>0.115383</td>\n",
       "      <td>0.050369</td>\n",
       "      <td>1268.608766</td>\n",
       "      <td>575.457549</td>\n",
       "      <td>25.881312</td>\n",
       "      <td>-49.861237</td>\n",
       "      <td>...</td>\n",
       "      <td>-10.316871</td>\n",
       "      <td>-0.607061</td>\n",
       "      <td>-25.927773</td>\n",
       "      <td>-4.430356</td>\n",
       "      <td>-4.619092</td>\n",
       "      <td>-22.430754</td>\n",
       "      <td>-4.303273</td>\n",
       "      <td>0.172620</td>\n",
       "      <td>-11.258208</td>\n",
       "      <td>-3.497785</td>\n",
       "    </tr>\n",
       "    <tr>\n",
       "      <th>2</th>\n",
       "      <td>/Users/mac/Desktop/Smart_Cradle/donateacry_cor...</td>\n",
       "      <td>0</td>\n",
       "      <td>0.029967</td>\n",
       "      <td>0.010904</td>\n",
       "      <td>0.116663</td>\n",
       "      <td>0.100042</td>\n",
       "      <td>1546.578200</td>\n",
       "      <td>699.626649</td>\n",
       "      <td>26.594715</td>\n",
       "      <td>-49.541706</td>\n",
       "      <td>...</td>\n",
       "      <td>-22.161522</td>\n",
       "      <td>2.070754</td>\n",
       "      <td>-26.675592</td>\n",
       "      <td>3.294869</td>\n",
       "      <td>7.788799</td>\n",
       "      <td>-21.903955</td>\n",
       "      <td>-5.744544</td>\n",
       "      <td>4.150358</td>\n",
       "      <td>-11.718720</td>\n",
       "      <td>-6.870083</td>\n",
       "    </tr>\n",
       "    <tr>\n",
       "      <th>3</th>\n",
       "      <td>/Users/mac/Desktop/Smart_Cradle/donateacry_cor...</td>\n",
       "      <td>0</td>\n",
       "      <td>0.027163</td>\n",
       "      <td>0.010520</td>\n",
       "      <td>0.085081</td>\n",
       "      <td>0.140766</td>\n",
       "      <td>1089.415328</td>\n",
       "      <td>668.895951</td>\n",
       "      <td>25.608310</td>\n",
       "      <td>-44.275997</td>\n",
       "      <td>...</td>\n",
       "      <td>-1.704598</td>\n",
       "      <td>0.226281</td>\n",
       "      <td>-29.814095</td>\n",
       "      <td>-14.937744</td>\n",
       "      <td>-11.162116</td>\n",
       "      <td>-21.503994</td>\n",
       "      <td>-7.501309</td>\n",
       "      <td>-7.856627</td>\n",
       "      <td>-15.119538</td>\n",
       "      <td>-3.970483</td>\n",
       "    </tr>\n",
       "    <tr>\n",
       "      <th>4</th>\n",
       "      <td>/Users/mac/Desktop/Smart_Cradle/donateacry_cor...</td>\n",
       "      <td>0</td>\n",
       "      <td>0.016663</td>\n",
       "      <td>0.006577</td>\n",
       "      <td>0.067108</td>\n",
       "      <td>0.057629</td>\n",
       "      <td>1017.610932</td>\n",
       "      <td>700.682410</td>\n",
       "      <td>28.196010</td>\n",
       "      <td>-51.325264</td>\n",
       "      <td>...</td>\n",
       "      <td>7.812110</td>\n",
       "      <td>-9.098410</td>\n",
       "      <td>-34.050182</td>\n",
       "      <td>-9.673841</td>\n",
       "      <td>-11.780775</td>\n",
       "      <td>-24.962975</td>\n",
       "      <td>-7.697065</td>\n",
       "      <td>-9.014325</td>\n",
       "      <td>-15.366213</td>\n",
       "      <td>-2.237437</td>\n",
       "    </tr>\n",
       "  </tbody>\n",
       "</table>\n",
       "<p>5 rows × 27 columns</p>\n",
       "</div>"
      ],
      "text/plain": [
       "                                      Cry_Audio_File  Cry_Reason  \\\n",
       "0  /Users/mac/Desktop/Smart_Cradle/donateacry_cor...           0   \n",
       "1  /Users/mac/Desktop/Smart_Cradle/donateacry_cor...           0   \n",
       "2  /Users/mac/Desktop/Smart_Cradle/donateacry_cor...           0   \n",
       "3  /Users/mac/Desktop/Smart_Cradle/donateacry_cor...           0   \n",
       "4  /Users/mac/Desktop/Smart_Cradle/donateacry_cor...           0   \n",
       "\n",
       "   Amplitude_Envelope_Mean  RMS_Mean  ZCR_Mean  STFT_Mean      SC_Mean  \\\n",
       "0                 0.028202  0.011050  0.098990   0.102389  1264.335599   \n",
       "1                 0.021071  0.006951  0.115383   0.050369  1268.608766   \n",
       "2                 0.029967  0.010904  0.116663   0.100042  1546.578200   \n",
       "3                 0.027163  0.010520  0.085081   0.140766  1089.415328   \n",
       "4                 0.016663  0.006577  0.067108   0.057629  1017.610932   \n",
       "\n",
       "    SBAN_Mean  SCON_Mean  MFCCs13Mean  ...     MFCCs4     MFCCs5     MFCCs6  \\\n",
       "0  519.101121  26.821807   -48.271230  ... -15.073559  10.004257 -30.088297   \n",
       "1  575.457549  25.881312   -49.861237  ... -10.316871  -0.607061 -25.927773   \n",
       "2  699.626649  26.594715   -49.541706  ... -22.161522   2.070754 -26.675592   \n",
       "3  668.895951  25.608310   -44.275997  ...  -1.704598   0.226281 -29.814095   \n",
       "4  700.682410  28.196010   -51.325264  ...   7.812110  -9.098410 -34.050182   \n",
       "\n",
       "      MFCCs7     MFCCs8     MFCCs9   MFCCs10   MFCCs11    MFCCs12   MFCCs13  \n",
       "0 -18.766724   8.679635  -2.352078 -7.746244 -3.096202  -4.715273 -3.918095  \n",
       "1  -4.430356  -4.619092 -22.430754 -4.303273  0.172620 -11.258208 -3.497785  \n",
       "2   3.294869   7.788799 -21.903955 -5.744544  4.150358 -11.718720 -6.870083  \n",
       "3 -14.937744 -11.162116 -21.503994 -7.501309 -7.856627 -15.119538 -3.970483  \n",
       "4  -9.673841 -11.780775 -24.962975 -7.697065 -9.014325 -15.366213 -2.237437  \n",
       "\n",
       "[5 rows x 27 columns]"
      ]
     },
     "execution_count": 4,
     "metadata": {},
     "output_type": "execute_result"
    }
   ],
   "source": [
    "df.head()"
   ]
  },
  {
   "cell_type": "code",
   "execution_count": 5,
   "metadata": {},
   "outputs": [],
   "source": [
    "import re\n",
    "\n",
    "def extraer_info_mejorada(ruta):\n",
    "    # Extrae con regex el patrón típico del final del nombre del archivo\n",
    "    match = re.search(r'-([\\d.]+)-(m|f)-(\\d+)-', ruta)\n",
    "    if match:\n",
    "        # match.groups() devuelve (edad_raw, genero, edad_clasificada)\n",
    "        edad_raw, genero, edad = match.groups()\n",
    "        return genero, edad\n",
    "    else:\n",
    "        return None, None  # si no encuentra patrón, deja como None\n",
    "\n",
    "df[['Genero', 'Edad_Codigo']] = df['Cry_Audio_File'].apply(lambda x: pd.Series(extraer_info_mejorada(x)))\n",
    "\n",
    "df['Genero'] = df['Genero'].map({'m': 0, 'f': 1})\n",
    "\n",
    "edad_map = {\n",
    "    '04': 1,\n",
    "    '48': 2,\n",
    "    '26': 3,\n",
    "    '72': 4,\n",
    "    '22': 5\n",
    "}\n",
    "\n",
    "df['Edad'] = df['Edad_Codigo'].map(edad_map)\n",
    "\n",
    "df.drop(columns=['Cry_Audio_File', 'Edad_Codigo'], inplace=True)\n"
   ]
  },
  {
   "cell_type": "code",
   "execution_count": 6,
   "metadata": {},
   "outputs": [
    {
     "data": {
      "application/vnd.microsoft.datawrangler.viewer.v0+json": {
       "columns": [
        {
         "name": "index",
         "rawType": "int64",
         "type": "integer"
        },
        {
         "name": "Cry_Reason",
         "rawType": "int64",
         "type": "integer"
        },
        {
         "name": "Amplitude_Envelope_Mean",
         "rawType": "float64",
         "type": "float"
        },
        {
         "name": "RMS_Mean",
         "rawType": "float64",
         "type": "float"
        },
        {
         "name": "ZCR_Mean",
         "rawType": "float64",
         "type": "float"
        },
        {
         "name": "STFT_Mean",
         "rawType": "float64",
         "type": "float"
        },
        {
         "name": "SC_Mean",
         "rawType": "float64",
         "type": "float"
        },
        {
         "name": "SBAN_Mean",
         "rawType": "float64",
         "type": "float"
        },
        {
         "name": "SCON_Mean",
         "rawType": "float64",
         "type": "float"
        },
        {
         "name": "MFCCs13Mean",
         "rawType": "float64",
         "type": "float"
        },
        {
         "name": "delMFCCs13",
         "rawType": "float64",
         "type": "float"
        },
        {
         "name": "del2MFCCs13",
         "rawType": "float64",
         "type": "float"
        },
        {
         "name": "MelSpec",
         "rawType": "float64",
         "type": "float"
        },
        {
         "name": "MFCCs20",
         "rawType": "float64",
         "type": "float"
        },
        {
         "name": "MFCCs1",
         "rawType": "float64",
         "type": "float"
        },
        {
         "name": "MFCCs2",
         "rawType": "float64",
         "type": "float"
        },
        {
         "name": "MFCCs3",
         "rawType": "float64",
         "type": "float"
        },
        {
         "name": "MFCCs4",
         "rawType": "float64",
         "type": "float"
        },
        {
         "name": "MFCCs5",
         "rawType": "float64",
         "type": "float"
        },
        {
         "name": "MFCCs6",
         "rawType": "float64",
         "type": "float"
        },
        {
         "name": "MFCCs7",
         "rawType": "float64",
         "type": "float"
        },
        {
         "name": "MFCCs8",
         "rawType": "float64",
         "type": "float"
        },
        {
         "name": "MFCCs9",
         "rawType": "float64",
         "type": "float"
        },
        {
         "name": "MFCCs10",
         "rawType": "float64",
         "type": "float"
        },
        {
         "name": "MFCCs11",
         "rawType": "float64",
         "type": "float"
        },
        {
         "name": "MFCCs12",
         "rawType": "float64",
         "type": "float"
        },
        {
         "name": "MFCCs13",
         "rawType": "float64",
         "type": "float"
        },
        {
         "name": "Genero",
         "rawType": "int64",
         "type": "integer"
        },
        {
         "name": "Edad",
         "rawType": "int64",
         "type": "integer"
        }
       ],
       "conversionMethod": "pd.DataFrame",
       "ref": "7e6ebfca-7955-4787-850d-8c99403dd33e",
       "rows": [
        [
         "0",
         "0",
         "0.028202115",
         "0.011049677",
         "0.0989900115352349",
         "0.10238884",
         "1264.335599246895",
         "519.1011206437458",
         "26.821806993216565",
         "-48.27123",
         "0.08218775",
         "-0.0030100995",
         "-52.58201",
         "-31.961296",
         "-606.60547",
         "93.9349",
         "-47.782738",
         "-15.073559",
         "10.004257",
         "-30.088297",
         "-18.766724",
         "8.679635",
         "-2.3520777",
         "-7.7462444",
         "-3.0962021",
         "-4.7152734",
         "-3.9180954",
         "0",
         "3"
        ],
        [
         "1",
         "0",
         "0.02107089",
         "0.006950727",
         "0.1153831229304635",
         "0.050369333",
         "1268.6087664409108",
         "575.4575492212196",
         "25.88131249452339",
         "-49.861237",
         "0.10137523",
         "0.01890978",
         "-55.12258",
         "-32.50051",
         "-628.12067",
         "101.60248",
         "-34.45939",
         "-10.316871",
         "-0.6070605",
         "-25.927773",
         "-4.430356",
         "-4.6190925",
         "-22.430754",
         "-4.3032727",
         "0.17262046",
         "-11.258208",
         "-3.4977849",
         "1",
         "3"
        ],
        [
         "2",
         "0",
         "0.029967224",
         "0.010904365",
         "0.1166626806972789",
         "0.10004214",
         "1546.5782001227976",
         "699.6266488662309",
         "26.594714567728595",
         "-49.541706",
         "0.02360533",
         "0.020593692",
         "-50.736797",
         "-31.240011",
         "-585.09564",
         "86.38556",
         "-67.562416",
         "-22.161522",
         "2.0707543",
         "-26.675592",
         "3.2948687",
         "7.7887993",
         "-21.903955",
         "-5.7445436",
         "4.150358",
         "-11.7187195",
         "-6.870083",
         "0",
         "1"
        ],
        [
         "3",
         "0",
         "0.02716325",
         "0.0105199395",
         "0.0850805825745033",
         "0.14076592",
         "1089.4153278195622",
         "668.8959514985646",
         "25.608309568066048",
         "-44.275997",
         "-0.016075362",
         "0.030941423",
         "-47.15573",
         "-29.790195",
         "-538.0991",
         "96.096985",
         "-20.241573",
         "-1.7045985",
         "0.22628057",
         "-29.814095",
         "-14.937744",
         "-11.162116",
         "-21.503994",
         "-7.5013094",
         "-7.856627",
         "-15.119538",
         "-3.9704835",
         "0",
         "4"
        ],
        [
         "4",
         "0",
         "0.01666276",
         "0.0065766405",
         "0.0671079521937086",
         "0.057628784",
         "1017.6109317678302",
         "700.6824103338755",
         "28.19600976076448",
         "-51.325264",
         "0.02111214",
         "0.012414595",
         "-54.007328",
         "-32.03135",
         "-611.4486",
         "68.68205",
         "-8.392762",
         "7.8121095",
         "-9.09841",
         "-34.050182",
         "-9.673841",
         "-11.780775",
         "-24.962975",
         "-7.6970654",
         "-9.014325",
         "-15.366213",
         "-2.2374368",
         "0",
         "4"
        ]
       ],
       "shape": {
        "columns": 28,
        "rows": 5
       }
      },
      "text/html": [
       "<div>\n",
       "<style scoped>\n",
       "    .dataframe tbody tr th:only-of-type {\n",
       "        vertical-align: middle;\n",
       "    }\n",
       "\n",
       "    .dataframe tbody tr th {\n",
       "        vertical-align: top;\n",
       "    }\n",
       "\n",
       "    .dataframe thead th {\n",
       "        text-align: right;\n",
       "    }\n",
       "</style>\n",
       "<table border=\"1\" class=\"dataframe\">\n",
       "  <thead>\n",
       "    <tr style=\"text-align: right;\">\n",
       "      <th></th>\n",
       "      <th>Cry_Reason</th>\n",
       "      <th>Amplitude_Envelope_Mean</th>\n",
       "      <th>RMS_Mean</th>\n",
       "      <th>ZCR_Mean</th>\n",
       "      <th>STFT_Mean</th>\n",
       "      <th>SC_Mean</th>\n",
       "      <th>SBAN_Mean</th>\n",
       "      <th>SCON_Mean</th>\n",
       "      <th>MFCCs13Mean</th>\n",
       "      <th>delMFCCs13</th>\n",
       "      <th>...</th>\n",
       "      <th>MFCCs6</th>\n",
       "      <th>MFCCs7</th>\n",
       "      <th>MFCCs8</th>\n",
       "      <th>MFCCs9</th>\n",
       "      <th>MFCCs10</th>\n",
       "      <th>MFCCs11</th>\n",
       "      <th>MFCCs12</th>\n",
       "      <th>MFCCs13</th>\n",
       "      <th>Genero</th>\n",
       "      <th>Edad</th>\n",
       "    </tr>\n",
       "  </thead>\n",
       "  <tbody>\n",
       "    <tr>\n",
       "      <th>0</th>\n",
       "      <td>0</td>\n",
       "      <td>0.028202</td>\n",
       "      <td>0.011050</td>\n",
       "      <td>0.098990</td>\n",
       "      <td>0.102389</td>\n",
       "      <td>1264.335599</td>\n",
       "      <td>519.101121</td>\n",
       "      <td>26.821807</td>\n",
       "      <td>-48.271230</td>\n",
       "      <td>0.082188</td>\n",
       "      <td>...</td>\n",
       "      <td>-30.088297</td>\n",
       "      <td>-18.766724</td>\n",
       "      <td>8.679635</td>\n",
       "      <td>-2.352078</td>\n",
       "      <td>-7.746244</td>\n",
       "      <td>-3.096202</td>\n",
       "      <td>-4.715273</td>\n",
       "      <td>-3.918095</td>\n",
       "      <td>0</td>\n",
       "      <td>3</td>\n",
       "    </tr>\n",
       "    <tr>\n",
       "      <th>1</th>\n",
       "      <td>0</td>\n",
       "      <td>0.021071</td>\n",
       "      <td>0.006951</td>\n",
       "      <td>0.115383</td>\n",
       "      <td>0.050369</td>\n",
       "      <td>1268.608766</td>\n",
       "      <td>575.457549</td>\n",
       "      <td>25.881312</td>\n",
       "      <td>-49.861237</td>\n",
       "      <td>0.101375</td>\n",
       "      <td>...</td>\n",
       "      <td>-25.927773</td>\n",
       "      <td>-4.430356</td>\n",
       "      <td>-4.619092</td>\n",
       "      <td>-22.430754</td>\n",
       "      <td>-4.303273</td>\n",
       "      <td>0.172620</td>\n",
       "      <td>-11.258208</td>\n",
       "      <td>-3.497785</td>\n",
       "      <td>1</td>\n",
       "      <td>3</td>\n",
       "    </tr>\n",
       "    <tr>\n",
       "      <th>2</th>\n",
       "      <td>0</td>\n",
       "      <td>0.029967</td>\n",
       "      <td>0.010904</td>\n",
       "      <td>0.116663</td>\n",
       "      <td>0.100042</td>\n",
       "      <td>1546.578200</td>\n",
       "      <td>699.626649</td>\n",
       "      <td>26.594715</td>\n",
       "      <td>-49.541706</td>\n",
       "      <td>0.023605</td>\n",
       "      <td>...</td>\n",
       "      <td>-26.675592</td>\n",
       "      <td>3.294869</td>\n",
       "      <td>7.788799</td>\n",
       "      <td>-21.903955</td>\n",
       "      <td>-5.744544</td>\n",
       "      <td>4.150358</td>\n",
       "      <td>-11.718720</td>\n",
       "      <td>-6.870083</td>\n",
       "      <td>0</td>\n",
       "      <td>1</td>\n",
       "    </tr>\n",
       "    <tr>\n",
       "      <th>3</th>\n",
       "      <td>0</td>\n",
       "      <td>0.027163</td>\n",
       "      <td>0.010520</td>\n",
       "      <td>0.085081</td>\n",
       "      <td>0.140766</td>\n",
       "      <td>1089.415328</td>\n",
       "      <td>668.895951</td>\n",
       "      <td>25.608310</td>\n",
       "      <td>-44.275997</td>\n",
       "      <td>-0.016075</td>\n",
       "      <td>...</td>\n",
       "      <td>-29.814095</td>\n",
       "      <td>-14.937744</td>\n",
       "      <td>-11.162116</td>\n",
       "      <td>-21.503994</td>\n",
       "      <td>-7.501309</td>\n",
       "      <td>-7.856627</td>\n",
       "      <td>-15.119538</td>\n",
       "      <td>-3.970483</td>\n",
       "      <td>0</td>\n",
       "      <td>4</td>\n",
       "    </tr>\n",
       "    <tr>\n",
       "      <th>4</th>\n",
       "      <td>0</td>\n",
       "      <td>0.016663</td>\n",
       "      <td>0.006577</td>\n",
       "      <td>0.067108</td>\n",
       "      <td>0.057629</td>\n",
       "      <td>1017.610932</td>\n",
       "      <td>700.682410</td>\n",
       "      <td>28.196010</td>\n",
       "      <td>-51.325264</td>\n",
       "      <td>0.021112</td>\n",
       "      <td>...</td>\n",
       "      <td>-34.050182</td>\n",
       "      <td>-9.673841</td>\n",
       "      <td>-11.780775</td>\n",
       "      <td>-24.962975</td>\n",
       "      <td>-7.697065</td>\n",
       "      <td>-9.014325</td>\n",
       "      <td>-15.366213</td>\n",
       "      <td>-2.237437</td>\n",
       "      <td>0</td>\n",
       "      <td>4</td>\n",
       "    </tr>\n",
       "  </tbody>\n",
       "</table>\n",
       "<p>5 rows × 28 columns</p>\n",
       "</div>"
      ],
      "text/plain": [
       "   Cry_Reason  Amplitude_Envelope_Mean  RMS_Mean  ZCR_Mean  STFT_Mean  \\\n",
       "0           0                 0.028202  0.011050  0.098990   0.102389   \n",
       "1           0                 0.021071  0.006951  0.115383   0.050369   \n",
       "2           0                 0.029967  0.010904  0.116663   0.100042   \n",
       "3           0                 0.027163  0.010520  0.085081   0.140766   \n",
       "4           0                 0.016663  0.006577  0.067108   0.057629   \n",
       "\n",
       "       SC_Mean   SBAN_Mean  SCON_Mean  MFCCs13Mean  delMFCCs13  ...  \\\n",
       "0  1264.335599  519.101121  26.821807   -48.271230    0.082188  ...   \n",
       "1  1268.608766  575.457549  25.881312   -49.861237    0.101375  ...   \n",
       "2  1546.578200  699.626649  26.594715   -49.541706    0.023605  ...   \n",
       "3  1089.415328  668.895951  25.608310   -44.275997   -0.016075  ...   \n",
       "4  1017.610932  700.682410  28.196010   -51.325264    0.021112  ...   \n",
       "\n",
       "      MFCCs6     MFCCs7     MFCCs8     MFCCs9   MFCCs10   MFCCs11    MFCCs12  \\\n",
       "0 -30.088297 -18.766724   8.679635  -2.352078 -7.746244 -3.096202  -4.715273   \n",
       "1 -25.927773  -4.430356  -4.619092 -22.430754 -4.303273  0.172620 -11.258208   \n",
       "2 -26.675592   3.294869   7.788799 -21.903955 -5.744544  4.150358 -11.718720   \n",
       "3 -29.814095 -14.937744 -11.162116 -21.503994 -7.501309 -7.856627 -15.119538   \n",
       "4 -34.050182  -9.673841 -11.780775 -24.962975 -7.697065 -9.014325 -15.366213   \n",
       "\n",
       "    MFCCs13  Genero  Edad  \n",
       "0 -3.918095       0     3  \n",
       "1 -3.497785       1     3  \n",
       "2 -6.870083       0     1  \n",
       "3 -3.970483       0     4  \n",
       "4 -2.237437       0     4  \n",
       "\n",
       "[5 rows x 28 columns]"
      ]
     },
     "execution_count": 6,
     "metadata": {},
     "output_type": "execute_result"
    }
   ],
   "source": [
    "df.head()"
   ]
  },
  {
   "cell_type": "code",
   "execution_count": 7,
   "metadata": {},
   "outputs": [
    {
     "data": {
      "text/plain": [
       "Index(['Cry_Reason', 'Amplitude_Envelope_Mean', 'RMS_Mean', 'ZCR_Mean',\n",
       "       'STFT_Mean', 'SC_Mean', 'SBAN_Mean', 'SCON_Mean', 'MFCCs13Mean',\n",
       "       'delMFCCs13', 'del2MFCCs13', 'MelSpec', 'MFCCs20', 'MFCCs1', 'MFCCs2',\n",
       "       'MFCCs3', 'MFCCs4', 'MFCCs5', 'MFCCs6', 'MFCCs7', 'MFCCs8', 'MFCCs9',\n",
       "       'MFCCs10', 'MFCCs11', 'MFCCs12', 'MFCCs13', 'Genero', 'Edad'],\n",
       "      dtype='object')"
      ]
     },
     "execution_count": 7,
     "metadata": {},
     "output_type": "execute_result"
    }
   ],
   "source": [
    "col_names = df.columns\n",
    "\n",
    "col_names"
   ]
  },
  {
   "cell_type": "code",
   "execution_count": 8,
   "metadata": {},
   "outputs": [],
   "source": [
    "X = df.drop(['Cry_Reason'], axis=1)\n",
    "\n",
    "y = df['Cry_Reason']"
   ]
  },
  {
   "cell_type": "code",
   "execution_count": 9,
   "metadata": {},
   "outputs": [],
   "source": [
    "# split X and y into training and testing sets\n",
    "\n",
    "from sklearn.model_selection import train_test_split\n",
    "\n",
    "X_train, X_test, y_train, y_test = train_test_split(X, y, test_size = 0.2, random_state = 0)"
   ]
  },
  {
   "cell_type": "code",
   "execution_count": 10,
   "metadata": {},
   "outputs": [],
   "source": [
    "cols = X_train.columns\n"
   ]
  },
  {
   "cell_type": "code",
   "execution_count": 11,
   "metadata": {},
   "outputs": [],
   "source": [
    "from sklearn.preprocessing import MinMaxScaler\n",
    "\n",
    "scaler = MinMaxScaler()\n",
    "\n",
    "X_train = scaler.fit_transform(X_train)\n",
    "\n",
    "X_test = scaler.transform(X_test)"
   ]
  },
  {
   "cell_type": "code",
   "execution_count": 12,
   "metadata": {},
   "outputs": [],
   "source": [
    "X_train = pd.DataFrame(X_train, columns=[cols])\n"
   ]
  },
  {
   "cell_type": "code",
   "execution_count": 13,
   "metadata": {},
   "outputs": [],
   "source": [
    "X_test = pd.DataFrame(X_test, columns=[cols])\n"
   ]
  },
  {
   "cell_type": "markdown",
   "metadata": {},
   "source": [
    "MODELO"
   ]
  },
  {
   "cell_type": "code",
   "execution_count": 14,
   "metadata": {},
   "outputs": [
    {
     "data": {
      "text/html": [
       "<style>#sk-container-id-1 {color: black;background-color: white;}#sk-container-id-1 pre{padding: 0;}#sk-container-id-1 div.sk-toggleable {background-color: white;}#sk-container-id-1 label.sk-toggleable__label {cursor: pointer;display: block;width: 100%;margin-bottom: 0;padding: 0.3em;box-sizing: border-box;text-align: center;}#sk-container-id-1 label.sk-toggleable__label-arrow:before {content: \"▸\";float: left;margin-right: 0.25em;color: #696969;}#sk-container-id-1 label.sk-toggleable__label-arrow:hover:before {color: black;}#sk-container-id-1 div.sk-estimator:hover label.sk-toggleable__label-arrow:before {color: black;}#sk-container-id-1 div.sk-toggleable__content {max-height: 0;max-width: 0;overflow: hidden;text-align: left;background-color: #f0f8ff;}#sk-container-id-1 div.sk-toggleable__content pre {margin: 0.2em;color: black;border-radius: 0.25em;background-color: #f0f8ff;}#sk-container-id-1 input.sk-toggleable__control:checked~div.sk-toggleable__content {max-height: 200px;max-width: 100%;overflow: auto;}#sk-container-id-1 input.sk-toggleable__control:checked~label.sk-toggleable__label-arrow:before {content: \"▾\";}#sk-container-id-1 div.sk-estimator input.sk-toggleable__control:checked~label.sk-toggleable__label {background-color: #d4ebff;}#sk-container-id-1 div.sk-label input.sk-toggleable__control:checked~label.sk-toggleable__label {background-color: #d4ebff;}#sk-container-id-1 input.sk-hidden--visually {border: 0;clip: rect(1px 1px 1px 1px);clip: rect(1px, 1px, 1px, 1px);height: 1px;margin: -1px;overflow: hidden;padding: 0;position: absolute;width: 1px;}#sk-container-id-1 div.sk-estimator {font-family: monospace;background-color: #f0f8ff;border: 1px dotted black;border-radius: 0.25em;box-sizing: border-box;margin-bottom: 0.5em;}#sk-container-id-1 div.sk-estimator:hover {background-color: #d4ebff;}#sk-container-id-1 div.sk-parallel-item::after {content: \"\";width: 100%;border-bottom: 1px solid gray;flex-grow: 1;}#sk-container-id-1 div.sk-label:hover label.sk-toggleable__label {background-color: #d4ebff;}#sk-container-id-1 div.sk-serial::before {content: \"\";position: absolute;border-left: 1px solid gray;box-sizing: border-box;top: 0;bottom: 0;left: 50%;z-index: 0;}#sk-container-id-1 div.sk-serial {display: flex;flex-direction: column;align-items: center;background-color: white;padding-right: 0.2em;padding-left: 0.2em;position: relative;}#sk-container-id-1 div.sk-item {position: relative;z-index: 1;}#sk-container-id-1 div.sk-parallel {display: flex;align-items: stretch;justify-content: center;background-color: white;position: relative;}#sk-container-id-1 div.sk-item::before, #sk-container-id-1 div.sk-parallel-item::before {content: \"\";position: absolute;border-left: 1px solid gray;box-sizing: border-box;top: 0;bottom: 0;left: 50%;z-index: -1;}#sk-container-id-1 div.sk-parallel-item {display: flex;flex-direction: column;z-index: 1;position: relative;background-color: white;}#sk-container-id-1 div.sk-parallel-item:first-child::after {align-self: flex-end;width: 50%;}#sk-container-id-1 div.sk-parallel-item:last-child::after {align-self: flex-start;width: 50%;}#sk-container-id-1 div.sk-parallel-item:only-child::after {width: 0;}#sk-container-id-1 div.sk-dashed-wrapped {border: 1px dashed gray;margin: 0 0.4em 0.5em 0.4em;box-sizing: border-box;padding-bottom: 0.4em;background-color: white;}#sk-container-id-1 div.sk-label label {font-family: monospace;font-weight: bold;display: inline-block;line-height: 1.2em;}#sk-container-id-1 div.sk-label-container {text-align: center;}#sk-container-id-1 div.sk-container {/* jupyter's `normalize.less` sets `[hidden] { display: none; }` but bootstrap.min.css set `[hidden] { display: none !important; }` so we also need the `!important` here to be able to override the default hidden behavior on the sphinx rendered scikit-learn.org. See: https://github.com/scikit-learn/scikit-learn/issues/21755 */display: inline-block !important;position: relative;}#sk-container-id-1 div.sk-text-repr-fallback {display: none;}</style><div id=\"sk-container-id-1\" class=\"sk-top-container\"><div class=\"sk-text-repr-fallback\"><pre>LogisticRegression(random_state=0, solver=&#x27;liblinear&#x27;)</pre><b>In a Jupyter environment, please rerun this cell to show the HTML representation or trust the notebook. <br />On GitHub, the HTML representation is unable to render, please try loading this page with nbviewer.org.</b></div><div class=\"sk-container\" hidden><div class=\"sk-item\"><div class=\"sk-estimator sk-toggleable\"><input class=\"sk-toggleable__control sk-hidden--visually\" id=\"sk-estimator-id-1\" type=\"checkbox\" checked><label for=\"sk-estimator-id-1\" class=\"sk-toggleable__label sk-toggleable__label-arrow\">LogisticRegression</label><div class=\"sk-toggleable__content\"><pre>LogisticRegression(random_state=0, solver=&#x27;liblinear&#x27;)</pre></div></div></div></div></div>"
      ],
      "text/plain": [
       "LogisticRegression(random_state=0, solver='liblinear')"
      ]
     },
     "execution_count": 14,
     "metadata": {},
     "output_type": "execute_result"
    }
   ],
   "source": [
    "# train a logistic regression model on the training set\n",
    "from sklearn.linear_model import LogisticRegression\n",
    "\n",
    "\n",
    "# instantiate the model\n",
    "logreg = LogisticRegression(solver='liblinear', random_state=0)\n",
    "\n",
    "\n",
    "# fit the model\n",
    "logreg.fit(X_train, y_train)"
   ]
  },
  {
   "cell_type": "code",
   "execution_count": 15,
   "metadata": {},
   "outputs": [
    {
     "data": {
      "text/plain": [
       "array([3, 3, 3, 3, 3, 3, 3, 3, 3, 3, 3, 3, 3, 3, 3, 3, 3, 3, 3, 3, 3, 3,\n",
       "       3, 3, 3, 3, 3, 3, 3, 3, 3, 3, 3, 3, 3, 3, 3, 3, 3, 3, 3, 3, 3, 3,\n",
       "       3, 3, 3, 3, 3, 3, 3, 3, 3, 3, 3, 3, 3, 3, 3, 3, 3, 3, 3, 3, 3, 3,\n",
       "       3, 3, 3, 3, 3, 3, 3, 3, 3, 3, 3, 3, 3, 3, 3, 3, 3, 3, 3, 3, 3, 3,\n",
       "       3, 3, 3, 3])"
      ]
     },
     "execution_count": 15,
     "metadata": {},
     "output_type": "execute_result"
    }
   ],
   "source": [
    "y_pred_test = logreg.predict(X_test)\n",
    "\n",
    "y_pred_test"
   ]
  },
  {
   "cell_type": "code",
   "execution_count": 16,
   "metadata": {},
   "outputs": [
    {
     "data": {
      "text/plain": [
       "array([0.06960853, 0.0665445 , 0.03587045, 0.03035168, 0.0134322 ,\n",
       "       0.04063632, 0.05244816, 0.08653925, 0.03283784, 0.0072394 ,\n",
       "       0.00764983, 0.02937704, 0.0234137 , 0.0175077 , 0.00883317,\n",
       "       0.03138768, 0.03293756, 0.00674098, 0.01986794, 0.01380028,\n",
       "       0.01904125, 0.06735527, 0.01068419, 0.03260782, 0.03161753,\n",
       "       0.04759249, 0.01109672, 0.00804955, 0.01230102, 0.0478967 ,\n",
       "       0.01347863, 0.01000708, 0.03097244, 0.02954149, 0.05952109,\n",
       "       0.07510789, 0.04206504, 0.00837864, 0.03303431, 0.00904478,\n",
       "       0.0868217 , 0.03106543, 0.01612153, 0.02095939, 0.03610994,\n",
       "       0.01130253, 0.03541528, 0.00955887, 0.00655901, 0.02412013,\n",
       "       0.03180082, 0.03058468, 0.0558679 , 0.00799057, 0.01087154,\n",
       "       0.03261671, 0.03390209, 0.03698812, 0.06150087, 0.05116447,\n",
       "       0.04680614, 0.03415401, 0.06924807, 0.00502414, 0.02390981,\n",
       "       0.0092343 , 0.01081244, 0.02612315, 0.04495654, 0.01112648,\n",
       "       0.0062611 , 0.05467647, 0.03286556, 0.04124713, 0.00642832,\n",
       "       0.03474096, 0.03285248, 0.02652536, 0.04085876, 0.01072851,\n",
       "       0.01787462, 0.00679499, 0.00519557, 0.05453874, 0.06439617,\n",
       "       0.00970309, 0.00705181, 0.01990713, 0.02926434, 0.00710814,\n",
       "       0.01965599, 0.0343593 ])"
      ]
     },
     "execution_count": 16,
     "metadata": {},
     "output_type": "execute_result"
    }
   ],
   "source": [
    "# probability of getting output as 0 - belly pain\n",
    "\n",
    "logreg.predict_proba(X_test)[:,0]"
   ]
  },
  {
   "cell_type": "code",
   "execution_count": 17,
   "metadata": {},
   "outputs": [
    {
     "data": {
      "text/plain": [
       "array([0.03338265, 0.01644153, 0.01288511, 0.0096047 , 0.02419931,\n",
       "       0.00978377, 0.01406661, 0.01653666, 0.01011   , 0.04682256,\n",
       "       0.01487319, 0.01009489, 0.02303984, 0.00910698, 0.02757888,\n",
       "       0.01389433, 0.01738259, 0.02463413, 0.04477777, 0.02176562,\n",
       "       0.02577164, 0.01426219, 0.045691  , 0.00789972, 0.00797803,\n",
       "       0.0232477 , 0.04598339, 0.01946357, 0.01855936, 0.03087555,\n",
       "       0.02673618, 0.01853686, 0.03279914, 0.01869345, 0.03108017,\n",
       "       0.01241781, 0.0079818 , 0.0227095 , 0.03237124, 0.0173046 ,\n",
       "       0.0369206 , 0.00867247, 0.02637269, 0.00967011, 0.00957537,\n",
       "       0.02769923, 0.03541231, 0.02169969, 0.01381899, 0.00561537,\n",
       "       0.01014456, 0.01121547, 0.01729473, 0.0171004 , 0.01760527,\n",
       "       0.01509677, 0.01062037, 0.00934506, 0.01377392, 0.01306847,\n",
       "       0.01330146, 0.0090952 , 0.01480116, 0.01722066, 0.01092815,\n",
       "       0.0249976 , 0.02020632, 0.01287732, 0.00894566, 0.02323588,\n",
       "       0.0151708 , 0.00970607, 0.00839791, 0.08102053, 0.01264115,\n",
       "       0.01154314, 0.02683118, 0.00997292, 0.01858653, 0.05533287,\n",
       "       0.0197559 , 0.01680224, 0.01070633, 0.01227562, 0.0076541 ,\n",
       "       0.01868554, 0.01270412, 0.02874973, 0.01209477, 0.02824239,\n",
       "       0.03365432, 0.01749724])"
      ]
     },
     "execution_count": 17,
     "metadata": {},
     "output_type": "execute_result"
    }
   ],
   "source": [
    "# probability of getting output as 1 - burping\n",
    "\n",
    "logreg.predict_proba(X_test)[:,1]"
   ]
  },
  {
   "cell_type": "code",
   "execution_count": 18,
   "metadata": {},
   "outputs": [
    {
     "name": "stdout",
     "output_type": "stream",
     "text": [
      "Model accuracy score: 0.8587\n"
     ]
    }
   ],
   "source": [
    "from sklearn.metrics import accuracy_score\n",
    "\n",
    "print('Model accuracy score: {0:0.4f}'. format(accuracy_score(y_test, y_pred_test)))"
   ]
  },
  {
   "cell_type": "code",
   "execution_count": 19,
   "metadata": {},
   "outputs": [
    {
     "data": {
      "text/plain": [
       "array([3, 3, 3, 3, 3, 3, 3, 3, 3, 3, 3, 3, 3, 3, 3, 3, 3, 3, 3, 3, 3, 3,\n",
       "       3, 3, 3, 3, 3, 3, 3, 3, 3, 3, 3, 3, 3, 3, 3, 3, 3, 3, 3, 3, 3, 3,\n",
       "       3, 3, 3, 3, 3, 3, 3, 3, 3, 3, 3, 3, 3, 3, 3, 3, 3, 3, 3, 3, 3, 3,\n",
       "       3, 3, 3, 3, 3, 3, 3, 3, 3, 3, 3, 3, 3, 3, 3, 3, 3, 3, 3, 3, 3, 3,\n",
       "       3, 3, 3, 3, 3, 3, 3, 3, 3, 3, 3, 3, 3, 3, 3, 3, 3, 3, 3, 3, 3, 3,\n",
       "       3, 3, 3, 3, 3, 3, 3, 3, 3, 3, 3, 3, 3, 3, 3, 3, 3, 3, 3, 3, 3, 3,\n",
       "       3, 3, 3, 3, 3, 3, 3, 3, 3, 3, 3, 3, 3, 3, 3, 3, 3, 3, 3, 3, 3, 3,\n",
       "       3, 3, 3, 3, 3, 3, 3, 3, 3, 3, 3, 3, 3, 3, 3, 3, 3, 3, 3, 3, 3, 3,\n",
       "       3, 3, 3, 3, 3, 3, 3, 3, 3, 3, 3, 3, 3, 3, 3, 3, 3, 3, 3, 3, 3, 3,\n",
       "       3, 3, 3, 3, 3, 3, 3, 3, 3, 3, 3, 3, 3, 3, 3, 3, 3, 3, 3, 3, 3, 3,\n",
       "       3, 3, 3, 3, 3, 3, 3, 3, 3, 3, 3, 3, 3, 3, 3, 3, 3, 3, 3, 3, 3, 3,\n",
       "       3, 3, 3, 3, 3, 3, 3, 3, 3, 3, 3, 3, 3, 3, 3, 3, 3, 3, 3, 3, 3, 3,\n",
       "       3, 3, 3, 3, 3, 3, 3, 3, 3, 3, 3, 3, 3, 3, 3, 3, 3, 3, 3, 3, 3, 3,\n",
       "       3, 3, 3, 3, 3, 3, 3, 3, 3, 3, 3, 3, 3, 3, 3, 3, 3, 3, 3, 3, 3, 3,\n",
       "       3, 3, 3, 3, 3, 3, 3, 3, 3, 3, 3, 3, 3, 3, 3, 3, 3, 3, 3, 3, 3, 3,\n",
       "       3, 3, 3, 3, 3, 3, 3, 3, 3, 3, 3, 3, 3, 3, 3, 3, 3, 3, 3, 3, 3, 3,\n",
       "       3, 3, 3, 3, 3, 3, 3, 3, 3, 3, 3, 3, 3])"
      ]
     },
     "execution_count": 19,
     "metadata": {},
     "output_type": "execute_result"
    }
   ],
   "source": [
    "y_pred_train = logreg.predict(X_train)\n",
    "\n",
    "y_pred_train"
   ]
  },
  {
   "cell_type": "code",
   "execution_count": 20,
   "metadata": {},
   "outputs": [
    {
     "name": "stdout",
     "output_type": "stream",
     "text": [
      "Training-set accuracy score: 0.8301\n"
     ]
    }
   ],
   "source": [
    "print('Training-set accuracy score: {0:0.4f}'. format(accuracy_score(y_train, y_pred_train)))"
   ]
  },
  {
   "cell_type": "code",
   "execution_count": 21,
   "metadata": {},
   "outputs": [
    {
     "name": "stdout",
     "output_type": "stream",
     "text": [
      "Training set score: 0.8301\n",
      "Test set score: 0.8587\n"
     ]
    }
   ],
   "source": [
    "# print the scores on training and test set\n",
    "\n",
    "print('Training set score: {:.4f}'.format(logreg.score(X_train, y_train)))\n",
    "\n",
    "print('Test set score: {:.4f}'.format(logreg.score(X_test, y_test)))"
   ]
  },
  {
   "cell_type": "markdown",
   "metadata": {},
   "source": [
    "Probamos CV para ver cual es el mejor modelo"
   ]
  },
  {
   "cell_type": "code",
   "execution_count": 22,
   "metadata": {},
   "outputs": [
    {
     "name": "stdout",
     "output_type": "stream",
     "text": [
      "Fitting 5 folds for each of 30 candidates, totalling 150 fits\n"
     ]
    },
    {
     "name": "stderr",
     "output_type": "stream",
     "text": [
      "/Users/lucia/opt/anaconda3/lib/python3.9/site-packages/sklearn/linear_model/_sag.py:350: ConvergenceWarning: The max_iter was reached which means the coef_ did not converge\n",
      "  warnings.warn(\n",
      "/Users/lucia/opt/anaconda3/lib/python3.9/site-packages/sklearn/linear_model/_sag.py:350: ConvergenceWarning: The max_iter was reached which means the coef_ did not converge\n",
      "  warnings.warn(\n",
      "/Users/lucia/opt/anaconda3/lib/python3.9/site-packages/sklearn/linear_model/_sag.py:350: ConvergenceWarning: The max_iter was reached which means the coef_ did not converge\n",
      "  warnings.warn(\n",
      "/Users/lucia/opt/anaconda3/lib/python3.9/site-packages/sklearn/linear_model/_sag.py:350: ConvergenceWarning: The max_iter was reached which means the coef_ did not converge\n",
      "  warnings.warn(\n",
      "/Users/lucia/opt/anaconda3/lib/python3.9/site-packages/sklearn/linear_model/_sag.py:350: ConvergenceWarning: The max_iter was reached which means the coef_ did not converge\n",
      "  warnings.warn(\n",
      "/Users/lucia/opt/anaconda3/lib/python3.9/site-packages/sklearn/linear_model/_sag.py:350: ConvergenceWarning: The max_iter was reached which means the coef_ did not converge\n",
      "  warnings.warn(\n",
      "/Users/lucia/opt/anaconda3/lib/python3.9/site-packages/sklearn/linear_model/_sag.py:350: ConvergenceWarning: The max_iter was reached which means the coef_ did not converge\n",
      "  warnings.warn(\n",
      "/Users/lucia/opt/anaconda3/lib/python3.9/site-packages/sklearn/linear_model/_sag.py:350: ConvergenceWarning: The max_iter was reached which means the coef_ did not converge\n",
      "  warnings.warn(\n",
      "/Users/lucia/opt/anaconda3/lib/python3.9/site-packages/sklearn/linear_model/_sag.py:350: ConvergenceWarning: The max_iter was reached which means the coef_ did not converge\n",
      "  warnings.warn(\n",
      "/Users/lucia/opt/anaconda3/lib/python3.9/site-packages/sklearn/linear_model/_sag.py:350: ConvergenceWarning: The max_iter was reached which means the coef_ did not converge\n",
      "  warnings.warn(\n",
      "/Users/lucia/opt/anaconda3/lib/python3.9/site-packages/sklearn/linear_model/_sag.py:350: ConvergenceWarning: The max_iter was reached which means the coef_ did not converge\n",
      "  warnings.warn(\n",
      "/Users/lucia/opt/anaconda3/lib/python3.9/site-packages/sklearn/linear_model/_sag.py:350: ConvergenceWarning: The max_iter was reached which means the coef_ did not converge\n",
      "  warnings.warn(\n",
      "/Users/lucia/opt/anaconda3/lib/python3.9/site-packages/sklearn/linear_model/_sag.py:350: ConvergenceWarning: The max_iter was reached which means the coef_ did not converge\n",
      "  warnings.warn(\n",
      "/Users/lucia/opt/anaconda3/lib/python3.9/site-packages/sklearn/linear_model/_sag.py:350: ConvergenceWarning: The max_iter was reached which means the coef_ did not converge\n",
      "  warnings.warn(\n",
      "/Users/lucia/opt/anaconda3/lib/python3.9/site-packages/sklearn/linear_model/_sag.py:350: ConvergenceWarning: The max_iter was reached which means the coef_ did not converge\n",
      "  warnings.warn(\n"
     ]
    },
    {
     "name": "stdout",
     "output_type": "stream",
     "text": [
      "\n",
      "🔍 Mejor puntuación media en validación cruzada: 0.8301\n",
      "📌 Mejores parámetros encontrados: {'C': 0.001, 'max_iter': 1000, 'penalty': 'l1', 'solver': 'saga'}\n",
      "🧠 Mejor modelo: LogisticRegression(C=0.001, max_iter=1000, penalty='l1', random_state=0,\n",
      "                   solver='saga')\n"
     ]
    }
   ],
   "source": [
    "from sklearn.linear_model import LogisticRegression\n",
    "from sklearn.model_selection import GridSearchCV\n",
    "\n",
    "# Definimos el grid de parámetros\n",
    "param_grid = [\n",
    "    {\n",
    "        'penalty': ['l1'],\n",
    "        'C': [0.001, 0.01, 0.1, 1, 10, 100],\n",
    "        'solver': ['liblinear', 'saga'],\n",
    "        'max_iter': [1000]\n",
    "    },\n",
    "    {\n",
    "        'penalty': ['l2'],\n",
    "        'C': [0.001, 0.01, 0.1, 1, 10, 100],\n",
    "        'solver': ['lbfgs', 'liblinear', 'saga'],\n",
    "        'max_iter': [1000]\n",
    "    }\n",
    "]\n",
    "\n",
    "# Modelo base\n",
    "logreg = LogisticRegression(random_state=0)\n",
    "\n",
    "# GridSearchCV\n",
    "grid_search = GridSearchCV(estimator=logreg,\n",
    "                           param_grid=param_grid,\n",
    "                           scoring='accuracy',\n",
    "                           cv=5,\n",
    "                           verbose=1,\n",
    "                           n_jobs=-1)\n",
    "\n",
    "# Entrenamos\n",
    "grid_search.fit(X_train, y_train)\n",
    "\n",
    "# Resultados\n",
    "print(\"\\n🔍 Mejor puntuación media en validación cruzada: {:.4f}\".format(grid_search.best_score_))\n",
    "print(\"📌 Mejores parámetros encontrados:\", grid_search.best_params_)\n",
    "print(\"🧠 Mejor modelo:\", grid_search.best_estimator_)\n"
   ]
  },
  {
   "cell_type": "code",
   "execution_count": 23,
   "metadata": {},
   "outputs": [
    {
     "name": "stdout",
     "output_type": "stream",
     "text": [
      "✅ Accuracy:     0.8587\n",
      "✅ Sensibilidad: 0.8587\n",
      "✅ F1 Score:     0.7934\n",
      "✅ AUC:          0.5000\n"
     ]
    }
   ],
   "source": [
    "from sklearn.metrics import accuracy_score, recall_score, f1_score, roc_auc_score\n",
    "\n",
    "# Entrenamos el mejor modelo\n",
    "mejor_modelo = grid_search.best_estimator_\n",
    "mejor_modelo.fit(X_train, y_train)\n",
    "\n",
    "# Predicciones\n",
    "y_pred = mejor_modelo.predict(X_test)\n",
    "y_proba = mejor_modelo.predict_proba(X_test)  # OJO: ahora son múltiples columnas\n",
    "\n",
    "# Métricas\n",
    "accuracy = accuracy_score(y_test, y_pred)\n",
    "recall = recall_score(y_test, y_pred, average='weighted')\n",
    "f1 = f1_score(y_test, y_pred, average='weighted')\n",
    "auc = roc_auc_score(y_test, y_proba, multi_class='ovr', average='weighted')  # AUC multiclase\n",
    "\n",
    "# Resultados\n",
    "print(f\"✅ Accuracy:     {accuracy:.4f}\")\n",
    "print(f\"✅ Sensibilidad: {recall:.4f}\")\n",
    "print(f\"✅ F1 Score:     {f1:.4f}\")\n",
    "print(f\"✅ AUC:          {auc:.4f}\")\n",
    "\n",
    "\n"
   ]
  },
  {
   "cell_type": "code",
   "execution_count": 24,
   "metadata": {},
   "outputs": [
    {
     "name": "stderr",
     "output_type": "stream",
     "text": [
      "/Users/lucia/opt/anaconda3/lib/python3.9/site-packages/IPython/core/pylabtools.py:151: UserWarning: Glyph 128202 (\\N{BAR CHART}) missing from current font.\n",
      "  fig.canvas.print_figure(bytes_io, **kw)\n"
     ]
    },
    {
     "data": {
      "image/png": "[encoded data removed]",
      "text/plain": [
       "<Figure size 576x432 with 2 Axes>"
      ]
     },
     "metadata": {
      "needs_background": "light"
     },
     "output_type": "display_data"
    },
    {
     "name": "stderr",
     "output_type": "stream",
     "text": [
      "/Users/lucia/opt/anaconda3/lib/python3.9/site-packages/IPython/core/pylabtools.py:151: UserWarning: Glyph 128200 (\\N{CHART WITH UPWARDS TREND}) missing from current font.\n",
      "  fig.canvas.print_figure(bytes_io, **kw)\n"
     ]
    },
    {
     "data": {
      "image/png": "[encoded data removed]",
      "text/plain": [
       "<Figure size 576x432 with 1 Axes>"
      ]
     },
     "metadata": {
      "needs_background": "light"
     },
     "output_type": "display_data"
    },
    {
     "name": "stdout",
     "output_type": "stream",
     "text": [
      "\n",
      "📉 Clase 0 – Top 5 variables más influyentes:\n",
      "   ('Edad',): coef = 0.0000\n",
      "   ('MFCCs1',): coef = 0.0000\n",
      "   ('RMS_Mean',): coef = 0.0000\n",
      "   ('ZCR_Mean',): coef = 0.0000\n",
      "   ('STFT_Mean',): coef = 0.0000\n",
      "\n",
      "📉 Clase 1 – Top 5 variables más influyentes:\n",
      "   ('Edad',): coef = 0.0000\n",
      "   ('MFCCs1',): coef = 0.0000\n",
      "   ('RMS_Mean',): coef = 0.0000\n",
      "   ('ZCR_Mean',): coef = 0.0000\n",
      "   ('STFT_Mean',): coef = 0.0000\n",
      "\n",
      "📉 Clase 2 – Top 5 variables más influyentes:\n",
      "   ('Edad',): coef = 0.0000\n",
      "   ('MFCCs1',): coef = 0.0000\n",
      "   ('RMS_Mean',): coef = 0.0000\n",
      "   ('ZCR_Mean',): coef = 0.0000\n",
      "   ('STFT_Mean',): coef = 0.0000\n",
      "\n",
      "📉 Clase 3 – Top 5 variables más influyentes:\n",
      "   ('Edad',): coef = 0.0000\n",
      "   ('MFCCs1',): coef = 0.0000\n",
      "   ('RMS_Mean',): coef = 0.0000\n",
      "   ('ZCR_Mean',): coef = 0.0000\n",
      "   ('STFT_Mean',): coef = 0.0000\n",
      "\n",
      "📉 Clase 4 – Top 5 variables más influyentes:\n",
      "   ('Edad',): coef = 0.0000\n",
      "   ('MFCCs1',): coef = 0.0000\n",
      "   ('RMS_Mean',): coef = 0.0000\n",
      "   ('ZCR_Mean',): coef = 0.0000\n",
      "   ('STFT_Mean',): coef = 0.0000\n"
     ]
    }
   ],
   "source": [
    "import matplotlib.pyplot as plt\n",
    "import seaborn as sns\n",
    "from sklearn.metrics import confusion_matrix, roc_curve, auc\n",
    "from sklearn.preprocessing import label_binarize\n",
    "import numpy as np\n",
    "\n",
    "# 1️⃣ MATRIZ DE CONFUSIÓN\n",
    "cm = confusion_matrix(y_test, y_pred)\n",
    "plt.figure(figsize=(8,6))\n",
    "sns.heatmap(cm, annot=True, fmt='d', cmap='Blues')\n",
    "plt.title('📊 Matriz de Confusión')\n",
    "plt.xlabel('Predicción')\n",
    "plt.ylabel('Real')\n",
    "plt.show()\n",
    "\n",
    "\n",
    "# 2️⃣ CURVA ROC MULTICLASE\n",
    "# Binarizamos etiquetas reales\n",
    "classes = np.unique(y_test)\n",
    "y_test_bin = label_binarize(y_test, classes=classes)\n",
    "n_classes = y_test_bin.shape[1]\n",
    "\n",
    "# Creamos curvas ROC para cada clase\n",
    "fpr = {}\n",
    "tpr = {}\n",
    "roc_auc = {}\n",
    "\n",
    "for i in range(n_classes):\n",
    "    fpr[i], tpr[i], _ = roc_curve(y_test_bin[:, i], y_proba[:, i])\n",
    "    roc_auc[i] = auc(fpr[i], tpr[i])\n",
    "\n",
    "# Dibujamos curva ROC para cada clase\n",
    "plt.figure(figsize=(8,6))\n",
    "for i in range(n_classes):\n",
    "    plt.plot(fpr[i], tpr[i], label=f'Clase {classes[i]} (AUC = {roc_auc[i]:.2f})')\n",
    "\n",
    "plt.plot([0,1], [0,1], 'k--')  # diagonal\n",
    "plt.xlabel('False Positive Rate')\n",
    "plt.ylabel('True Positive Rate')\n",
    "plt.title('📈 Curvas ROC por clase')\n",
    "plt.legend(loc='lower right')\n",
    "plt.grid()\n",
    "plt.show()\n",
    "\n",
    "\n",
    "# 3️⃣ IMPORTANCIA DE VARIABLES (COEFICIENTES)\n",
    "# Coeficientes del modelo multiclase (una fila por clase)\n",
    "coefs = mejor_modelo.coef_\n",
    "\n",
    "# Nombres de las variables\n",
    "feature_names = X_train.columns if hasattr(X_train, 'columns') else [f'x{i}' for i in range(X_train.shape[1])]\n",
    "\n",
    "# Para cada clase, mostrar top 5 variables más relevantes\n",
    "for i, clase in enumerate(mejor_modelo.classes_):\n",
    "    top_features = np.argsort(np.abs(coefs[i]))[::-1][:5]\n",
    "    print(f\"\\n📉 Clase {clase} – Top 5 variables más influyentes:\")\n",
    "    for idx in top_features:\n",
    "        print(f\"   {feature_names[idx]}: coef = {coefs[i][idx]:.4f}\")\n"
   ]
  },
  {
   "cell_type": "markdown",
   "metadata": {},
   "source": [
    "🔍 ¿Qué está pasando?\n",
    "Los coeficientes son 0 porque:\n",
    "\n",
    "Estás usando penalty='l1' → induce sparsity (coeficientes exactos a 0).\n",
    "\n",
    "Estás usando C=0.001 → regularización MUY fuerte, tanto que el modelo está desactivando prácticamente todas las variables.\n",
    "\n",
    "🧠 ¿Qué significa esto?\n",
    "El modelo está siendo demasiado simple. Básicamente no está usando ninguna variable para diferenciar las clases.\n",
    "\n",
    "Aun así, tu accuracy sigue siendo buena (85.87%), lo que sugiere que:\n",
    "\n",
    "O las clases son muy desequilibradas (y está adivinando la más común).\n",
    "\n",
    "O hay muy pocas variables realmente informativas."
   ]
  },
  {
   "cell_type": "code",
   "execution_count": 25,
   "metadata": {},
   "outputs": [
    {
     "name": "stdout",
     "output_type": "stream",
     "text": [
      "✅ [L2] Accuracy:     0.8587\n",
      "✅ [L2] Sensibilidad: 0.8587\n",
      "✅ [L2] F1 Score:     0.7934\n",
      "✅ [L2] AUC:          0.6039\n",
      "\n",
      "📉 [L2] Clase 0 – Top 5 variables más influyentes:\n",
      "   ('Genero',): coef = -1.4467\n",
      "   ('MFCCs9',): coef = -0.5665\n",
      "   ('MFCCs6',): coef = -0.4692\n",
      "   ('MFCCs13',): coef = -0.4297\n",
      "   ('Edad',): coef = 0.3855\n",
      "\n",
      "📉 [L2] Clase 1 – Top 5 variables más influyentes:\n",
      "   ('MFCCs5',): coef = 0.8898\n",
      "   ('Genero',): coef = 0.8432\n",
      "   ('STFT_Mean',): coef = 0.6651\n",
      "   ('Amplitude_Envelope_Mean',): coef = 0.6251\n",
      "   ('SC_Mean',): coef = 0.5209\n",
      "\n",
      "📉 [L2] Clase 2 – Top 5 variables más influyentes:\n",
      "   ('MFCCs2',): coef = 1.0889\n",
      "   ('MFCCs4',): coef = -0.5743\n",
      "   ('MFCCs5',): coef = -0.5502\n",
      "   ('MFCCs9',): coef = 0.4900\n",
      "   ('SC_Mean',): coef = -0.4160\n",
      "\n",
      "📉 [L2] Clase 3 – Top 5 variables más influyentes:\n",
      "   ('MFCCs13',): coef = 0.6197\n",
      "   ('MFCCs11',): coef = -0.5931\n",
      "   ('SCON_Mean',): coef = 0.5797\n",
      "   ('ZCR_Mean',): coef = -0.5649\n",
      "   ('MFCCs9',): coef = 0.5310\n",
      "\n",
      "📉 [L2] Clase 4 – Top 5 variables más influyentes:\n",
      "   ('delMFCCs13',): coef = 0.7394\n",
      "   ('Amplitude_Envelope_Mean',): coef = -0.5932\n",
      "   ('MFCCs4',): coef = 0.5824\n",
      "   ('SBAN_Mean',): coef = -0.5380\n",
      "   ('RMS_Mean',): coef = -0.5339\n"
     ]
    }
   ],
   "source": [
    "# Entrenar modelo con L2\n",
    "modelo_l2 = LogisticRegression(penalty='l2', C=1.0, solver='lbfgs', max_iter=1000, random_state=0)\n",
    "modelo_l2.fit(X_train, y_train)\n",
    "\n",
    "# Métricas\n",
    "y_pred = modelo_l2.predict(X_test)\n",
    "y_proba = modelo_l2.predict_proba(X_test)\n",
    "\n",
    "accuracy = accuracy_score(y_test, y_pred)\n",
    "recall = recall_score(y_test, y_pred, average='weighted')\n",
    "f1 = f1_score(y_test, y_pred, average='weighted')\n",
    "auc_score = roc_auc_score(y_test, y_proba, multi_class='ovr', average='weighted')\n",
    "\n",
    "print(f\"✅ [L2] Accuracy:     {accuracy:.4f}\")\n",
    "print(f\"✅ [L2] Sensibilidad: {recall:.4f}\")\n",
    "print(f\"✅ [L2] F1 Score:     {f1:.4f}\")\n",
    "print(f\"✅ [L2] AUC:          {auc_score:.4f}\")\n",
    "\n",
    "# Coeficientes\n",
    "coefs = modelo_l2.coef_\n",
    "feature_names = X_train.columns if hasattr(X_train, 'columns') else [f'x{i}' for i in range(X_train.shape[1])]\n",
    "\n",
    "for i, clase in enumerate(modelo_l2.classes_):\n",
    "    top_features = np.argsort(np.abs(coefs[i]))[::-1][:5]\n",
    "    print(f\"\\n📉 [L2] Clase {clase} – Top 5 variables más influyentes:\")\n",
    "    for idx in top_features:\n",
    "        print(f\"   {feature_names[idx]}: coef = {coefs[i][idx]:.4f}\")\n"
   ]
  },
  {
   "cell_type": "code",
   "execution_count": 26,
   "metadata": {},
   "outputs": [
    {
     "name": "stderr",
     "output_type": "stream",
     "text": [
      "/Users/lucia/opt/anaconda3/lib/python3.9/site-packages/IPython/core/pylabtools.py:151: UserWarning: Glyph 128202 (\\N{BAR CHART}) missing from current font.\n",
      "  fig.canvas.print_figure(bytes_io, **kw)\n"
     ]
    },
    {
     "data": {
      "image/png": "[encoded data removed]",
      "text/plain": [
       "<Figure size 576x432 with 2 Axes>"
      ]
     },
     "metadata": {
      "needs_background": "light"
     },
     "output_type": "display_data"
    },
    {
     "name": "stderr",
     "output_type": "stream",
     "text": [
      "/Users/lucia/opt/anaconda3/lib/python3.9/site-packages/IPython/core/pylabtools.py:151: UserWarning: Glyph 128200 (\\N{CHART WITH UPWARDS TREND}) missing from current font.\n",
      "  fig.canvas.print_figure(bytes_io, **kw)\n"
     ]
    },
    {
     "data": {
      "image/png": "[encoded data removed]",
      "text/plain": [
       "<Figure size 576x432 with 1 Axes>"
      ]
     },
     "metadata": {
      "needs_background": "light"
     },
     "output_type": "display_data"
    }
   ],
   "source": [
    "import matplotlib.pyplot as plt\n",
    "import seaborn as sns\n",
    "from sklearn.metrics import confusion_matrix, roc_curve, auc\n",
    "from sklearn.preprocessing import label_binarize\n",
    "import numpy as np\n",
    "\n",
    "# 📊 MATRIZ DE CONFUSIÓN\n",
    "cm = confusion_matrix(y_test, y_pred)\n",
    "plt.figure(figsize=(8, 6))\n",
    "sns.heatmap(cm, annot=True, fmt='d', cmap='Blues')\n",
    "plt.title('📊 Matriz de Confusión (Regresión Logística L2)')\n",
    "plt.xlabel('Predicción')\n",
    "plt.ylabel('Valor real')\n",
    "plt.show()\n",
    "\n",
    "# 📈 CURVAS ROC MULTICLASE\n",
    "# Binarizamos las clases\n",
    "classes = np.unique(y_test)\n",
    "y_test_bin = label_binarize(y_test, classes=classes)\n",
    "n_classes = y_test_bin.shape[1]\n",
    "\n",
    "# Calcular fpr, tpr y AUC por clase\n",
    "fpr = {}\n",
    "tpr = {}\n",
    "roc_auc = {}\n",
    "\n",
    "for i in range(n_classes):\n",
    "    fpr[i], tpr[i], _ = roc_curve(y_test_bin[:, i], y_proba[:, i])\n",
    "    roc_auc[i] = auc(fpr[i], tpr[i])\n",
    "\n",
    "# Dibujar curvas ROC\n",
    "plt.figure(figsize=(8, 6))\n",
    "for i in range(n_classes):\n",
    "    plt.plot(fpr[i], tpr[i], label=f'Clase {classes[i]} (AUC = {roc_auc[i]:.2f})')\n",
    "\n",
    "plt.plot([0, 1], [0, 1], 'k--')\n",
    "plt.xlabel('False Positive Rate')\n",
    "plt.ylabel('True Positive Rate')\n",
    "plt.title('📈 Curvas ROC por clase (Regresión Logística L2)')\n",
    "plt.legend(loc='lower right')\n",
    "plt.grid()\n",
    "plt.show()\n"
   ]
  },
  {
   "cell_type": "code",
   "execution_count": 27,
   "metadata": {},
   "outputs": [
    {
     "name": "stderr",
     "output_type": "stream",
     "text": [
      "[codecarbon INFO @ 20:34:43] Energy consumed for RAM : 0.000007 kWh. RAM Power : 3.0 W\n",
      "[codecarbon INFO @ 20:34:43] Energy consumed for all CPUs : 0.000012 kWh. Total CPU Power : 5.0 W\n",
      "[codecarbon INFO @ 20:34:43] 0.000019 kWh of electricity used since the beginning.\n"
     ]
    },
    {
     "data": {
      "text/plain": [
       "3.312786436538472e-06"
      ]
     },
     "execution_count": 27,
     "metadata": {},
     "output_type": "execute_result"
    }
   ],
   "source": [
    "# Detener el medidor y obtener los resultados\n",
    "tracker.stop()"
   ]
  }
 ],
 "metadata": {
  "kernelspec": {
   "display_name": "base",
   "language": "python",
   "name": "python3"
  },
  "language_info": {
   "codemirror_mode": {
    "name": "ipython",
    "version": 3
   },
   "file_extension": ".py",
   "mimetype": "text/x-python",
   "name": "python",
   "nbconvert_exporter": "python",
   "pygments_lexer": "ipython3",
   "version": "3.9.12"
  }
 },
 "nbformat": 4,
 "nbformat_minor": 2
}
