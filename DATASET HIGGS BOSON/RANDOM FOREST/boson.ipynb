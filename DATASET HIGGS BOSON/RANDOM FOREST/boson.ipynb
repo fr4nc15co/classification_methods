{
 "cells": [
  {
   "cell_type": "code",
   "execution_count": 1,
   "id": "25be078a",
   "metadata": {},
   "outputs": [
    {
     "name": "stderr",
     "output_type": "stream",
     "text": [
      "[codecarbon INFO @ 17:55:20] [setup] RAM Tracking...\n",
      "[codecarbon INFO @ 17:55:20] [setup] CPU Tracking...\n",
      "[codecarbon WARNING @ 17:55:23] No CPU tracking mode found. Falling back on CPU constant mode. \n",
      " Mac OS and ARM processor detected: Please enable PowerMetrics sudo to measure CPU\n",
      "\n",
      "[codecarbon INFO @ 17:55:24] CPU Model on constant consumption mode: Apple M1\n",
      "[codecarbon INFO @ 17:55:24] [setup] GPU Tracking...\n",
      "[codecarbon INFO @ 17:55:24] No GPU found.\n",
      "[codecarbon INFO @ 17:55:24] >>> Tracker's metadata:\n",
      "[codecarbon INFO @ 17:55:24]   Platform system: macOS-10.16-x86_64-i386-64bit\n",
      "[codecarbon INFO @ 17:55:24]   Python version: 3.9.12\n",
      "[codecarbon INFO @ 17:55:24]   CodeCarbon version: 2.8.3\n",
      "[codecarbon INFO @ 17:55:24]   Available RAM : 8.000 GB\n",
      "[codecarbon INFO @ 17:55:24]   CPU count: 8\n",
      "[codecarbon INFO @ 17:55:24]   CPU model: Apple M1\n",
      "[codecarbon INFO @ 17:55:24]   GPU count: None\n",
      "[codecarbon INFO @ 17:55:24]   GPU model: None\n",
      "[codecarbon INFO @ 17:55:28] Saving emissions data to file /Users/lucia/Desktop/classification_methods/DATASET HIGGS BOSON/RANDOM FOREST/emissions.csv\n"
     ]
    }
   ],
   "source": [
    "from codecarbon import EmissionsTracker\n",
    "tracker = EmissionsTracker()\n",
    "tracker.start()"
   ]
  },
  {
   "cell_type": "code",
   "execution_count": 2,
   "id": "58fd5062",
   "metadata": {},
   "outputs": [
    {
     "data": {
      "application/vnd.microsoft.datawrangler.viewer.v0+json": {
       "columns": [
        {
         "name": "index",
         "rawType": "int64",
         "type": "integer"
        },
        {
         "name": "EventId",
         "rawType": "int64",
         "type": "integer"
        },
        {
         "name": "DER_mass_MMC",
         "rawType": "float64",
         "type": "float"
        },
        {
         "name": "DER_mass_transverse_met_lep",
         "rawType": "float64",
         "type": "float"
        },
        {
         "name": "DER_mass_vis",
         "rawType": "float64",
         "type": "float"
        },
        {
         "name": "DER_pt_h",
         "rawType": "float64",
         "type": "float"
        },
        {
         "name": "DER_deltaeta_jet_jet",
         "rawType": "float64",
         "type": "float"
        },
        {
         "name": "DER_mass_jet_jet",
         "rawType": "float64",
         "type": "float"
        },
        {
         "name": "DER_prodeta_jet_jet",
         "rawType": "float64",
         "type": "float"
        },
        {
         "name": "DER_deltar_tau_lep",
         "rawType": "float64",
         "type": "float"
        },
        {
         "name": "DER_pt_tot",
         "rawType": "float64",
         "type": "float"
        },
        {
         "name": "DER_sum_pt",
         "rawType": "float64",
         "type": "float"
        },
        {
         "name": "DER_pt_ratio_lep_tau",
         "rawType": "float64",
         "type": "float"
        },
        {
         "name": "DER_met_phi_centrality",
         "rawType": "float64",
         "type": "float"
        },
        {
         "name": "DER_lep_eta_centrality",
         "rawType": "float64",
         "type": "float"
        },
        {
         "name": "PRI_tau_pt",
         "rawType": "float64",
         "type": "float"
        },
        {
         "name": "PRI_tau_eta",
         "rawType": "float64",
         "type": "float"
        },
        {
         "name": "PRI_tau_phi",
         "rawType": "float64",
         "type": "float"
        },
        {
         "name": "PRI_lep_pt",
         "rawType": "float64",
         "type": "float"
        },
        {
         "name": "PRI_lep_eta",
         "rawType": "float64",
         "type": "float"
        },
        {
         "name": "PRI_lep_phi",
         "rawType": "float64",
         "type": "float"
        },
        {
         "name": "PRI_met",
         "rawType": "float64",
         "type": "float"
        },
        {
         "name": "PRI_met_phi",
         "rawType": "float64",
         "type": "float"
        },
        {
         "name": "PRI_met_sumet",
         "rawType": "float64",
         "type": "float"
        },
        {
         "name": "PRI_jet_num",
         "rawType": "int64",
         "type": "integer"
        },
        {
         "name": "PRI_jet_leading_pt",
         "rawType": "float64",
         "type": "float"
        },
        {
         "name": "PRI_jet_leading_eta",
         "rawType": "float64",
         "type": "float"
        },
        {
         "name": "PRI_jet_leading_phi",
         "rawType": "float64",
         "type": "float"
        },
        {
         "name": "PRI_jet_subleading_pt",
         "rawType": "float64",
         "type": "float"
        },
        {
         "name": "PRI_jet_subleading_eta",
         "rawType": "float64",
         "type": "float"
        },
        {
         "name": "PRI_jet_subleading_phi",
         "rawType": "float64",
         "type": "float"
        },
        {
         "name": "PRI_jet_all_pt",
         "rawType": "float64",
         "type": "float"
        },
        {
         "name": "Weight",
         "rawType": "float64",
         "type": "float"
        },
        {
         "name": "Label",
         "rawType": "object",
         "type": "string"
        }
       ],
       "ref": "f400a47f-e935-4e79-b98c-3397a6731d32",
       "rows": [
        [
         "0",
         "100000",
         "138.47",
         "51.655",
         "97.827",
         "27.98",
         "0.91",
         "124.711",
         "2.666",
         "3.064",
         "41.928",
         "197.76",
         "1.582",
         "1.396",
         "0.2",
         "32.638",
         "1.017",
         "0.381",
         "51.626",
         "2.273",
         "-2.414",
         "16.824",
         "-0.277",
         "258.733",
         "2",
         "67.435",
         "2.15",
         "0.444",
         "46.062",
         "1.24",
         "-2.475",
         "113.497",
         "0.00265331133733",
         "s"
        ],
        [
         "1",
         "100001",
         "160.937",
         "68.768",
         "103.235",
         "48.146",
         "-999.0",
         "-999.0",
         "-999.0",
         "3.473",
         "2.078",
         "125.157",
         "0.879",
         "1.414",
         "-999.0",
         "42.014",
         "2.039",
         "-3.011",
         "36.918",
         "0.501",
         "0.103",
         "44.704",
         "-1.916",
         "164.546",
         "1",
         "46.226",
         "0.725",
         "1.158",
         "-999.0",
         "-999.0",
         "-999.0",
         "46.226",
         "2.23358448717",
         "b"
        ],
        [
         "2",
         "100002",
         "-999.0",
         "162.172",
         "125.953",
         "35.635",
         "-999.0",
         "-999.0",
         "-999.0",
         "3.148",
         "9.336",
         "197.814",
         "3.776",
         "1.414",
         "-999.0",
         "32.154",
         "-0.705",
         "-2.093",
         "121.409",
         "-0.953",
         "1.052",
         "54.283",
         "-2.186",
         "260.414",
         "1",
         "44.251",
         "2.053",
         "-2.028",
         "-999.0",
         "-999.0",
         "-999.0",
         "44.251",
         "2.34738894364",
         "b"
        ],
        [
         "3",
         "100003",
         "143.905",
         "81.417",
         "80.943",
         "0.414",
         "-999.0",
         "-999.0",
         "-999.0",
         "3.31",
         "0.414",
         "75.968",
         "2.354",
         "-1.285",
         "-999.0",
         "22.647",
         "-1.655",
         "0.01",
         "53.321",
         "-0.522",
         "-3.1",
         "31.082",
         "0.06",
         "86.062",
         "0",
         "-999.0",
         "-999.0",
         "-999.0",
         "-999.0",
         "-999.0",
         "-999.0",
         "-0.0",
         "5.44637821192",
         "b"
        ],
        [
         "4",
         "100004",
         "175.864",
         "16.915",
         "134.805",
         "16.405",
         "-999.0",
         "-999.0",
         "-999.0",
         "3.891",
         "16.405",
         "57.983",
         "1.056",
         "-1.385",
         "-999.0",
         "28.209",
         "-2.197",
         "-2.231",
         "29.774",
         "0.798",
         "1.569",
         "2.723",
         "-0.871",
         "53.131",
         "0",
         "-999.0",
         "-999.0",
         "-999.0",
         "-999.0",
         "-999.0",
         "-999.0",
         "0.0",
         "6.24533268686",
         "b"
        ]
       ],
       "shape": {
        "columns": 33,
        "rows": 5
       }
      },
      "text/html": [
       "<div>\n",
       "<style scoped>\n",
       "    .dataframe tbody tr th:only-of-type {\n",
       "        vertical-align: middle;\n",
       "    }\n",
       "\n",
       "    .dataframe tbody tr th {\n",
       "        vertical-align: top;\n",
       "    }\n",
       "\n",
       "    .dataframe thead th {\n",
       "        text-align: right;\n",
       "    }\n",
       "</style>\n",
       "<table border=\"1\" class=\"dataframe\">\n",
       "  <thead>\n",
       "    <tr style=\"text-align: right;\">\n",
       "      <th></th>\n",
       "      <th>EventId</th>\n",
       "      <th>DER_mass_MMC</th>\n",
       "      <th>DER_mass_transverse_met_lep</th>\n",
       "      <th>DER_mass_vis</th>\n",
       "      <th>DER_pt_h</th>\n",
       "      <th>DER_deltaeta_jet_jet</th>\n",
       "      <th>DER_mass_jet_jet</th>\n",
       "      <th>DER_prodeta_jet_jet</th>\n",
       "      <th>DER_deltar_tau_lep</th>\n",
       "      <th>DER_pt_tot</th>\n",
       "      <th>...</th>\n",
       "      <th>PRI_jet_num</th>\n",
       "      <th>PRI_jet_leading_pt</th>\n",
       "      <th>PRI_jet_leading_eta</th>\n",
       "      <th>PRI_jet_leading_phi</th>\n",
       "      <th>PRI_jet_subleading_pt</th>\n",
       "      <th>PRI_jet_subleading_eta</th>\n",
       "      <th>PRI_jet_subleading_phi</th>\n",
       "      <th>PRI_jet_all_pt</th>\n",
       "      <th>Weight</th>\n",
       "      <th>Label</th>\n",
       "    </tr>\n",
       "  </thead>\n",
       "  <tbody>\n",
       "    <tr>\n",
       "      <th>0</th>\n",
       "      <td>100000</td>\n",
       "      <td>138.470</td>\n",
       "      <td>51.655</td>\n",
       "      <td>97.827</td>\n",
       "      <td>27.980</td>\n",
       "      <td>0.91</td>\n",
       "      <td>124.711</td>\n",
       "      <td>2.666</td>\n",
       "      <td>3.064</td>\n",
       "      <td>41.928</td>\n",
       "      <td>...</td>\n",
       "      <td>2</td>\n",
       "      <td>67.435</td>\n",
       "      <td>2.150</td>\n",
       "      <td>0.444</td>\n",
       "      <td>46.062</td>\n",
       "      <td>1.24</td>\n",
       "      <td>-2.475</td>\n",
       "      <td>113.497</td>\n",
       "      <td>0.002653</td>\n",
       "      <td>s</td>\n",
       "    </tr>\n",
       "    <tr>\n",
       "      <th>1</th>\n",
       "      <td>100001</td>\n",
       "      <td>160.937</td>\n",
       "      <td>68.768</td>\n",
       "      <td>103.235</td>\n",
       "      <td>48.146</td>\n",
       "      <td>-999.00</td>\n",
       "      <td>-999.000</td>\n",
       "      <td>-999.000</td>\n",
       "      <td>3.473</td>\n",
       "      <td>2.078</td>\n",
       "      <td>...</td>\n",
       "      <td>1</td>\n",
       "      <td>46.226</td>\n",
       "      <td>0.725</td>\n",
       "      <td>1.158</td>\n",
       "      <td>-999.000</td>\n",
       "      <td>-999.00</td>\n",
       "      <td>-999.000</td>\n",
       "      <td>46.226</td>\n",
       "      <td>2.233584</td>\n",
       "      <td>b</td>\n",
       "    </tr>\n",
       "    <tr>\n",
       "      <th>2</th>\n",
       "      <td>100002</td>\n",
       "      <td>-999.000</td>\n",
       "      <td>162.172</td>\n",
       "      <td>125.953</td>\n",
       "      <td>35.635</td>\n",
       "      <td>-999.00</td>\n",
       "      <td>-999.000</td>\n",
       "      <td>-999.000</td>\n",
       "      <td>3.148</td>\n",
       "      <td>9.336</td>\n",
       "      <td>...</td>\n",
       "      <td>1</td>\n",
       "      <td>44.251</td>\n",
       "      <td>2.053</td>\n",
       "      <td>-2.028</td>\n",
       "      <td>-999.000</td>\n",
       "      <td>-999.00</td>\n",
       "      <td>-999.000</td>\n",
       "      <td>44.251</td>\n",
       "      <td>2.347389</td>\n",
       "      <td>b</td>\n",
       "    </tr>\n",
       "    <tr>\n",
       "      <th>3</th>\n",
       "      <td>100003</td>\n",
       "      <td>143.905</td>\n",
       "      <td>81.417</td>\n",
       "      <td>80.943</td>\n",
       "      <td>0.414</td>\n",
       "      <td>-999.00</td>\n",
       "      <td>-999.000</td>\n",
       "      <td>-999.000</td>\n",
       "      <td>3.310</td>\n",
       "      <td>0.414</td>\n",
       "      <td>...</td>\n",
       "      <td>0</td>\n",
       "      <td>-999.000</td>\n",
       "      <td>-999.000</td>\n",
       "      <td>-999.000</td>\n",
       "      <td>-999.000</td>\n",
       "      <td>-999.00</td>\n",
       "      <td>-999.000</td>\n",
       "      <td>-0.000</td>\n",
       "      <td>5.446378</td>\n",
       "      <td>b</td>\n",
       "    </tr>\n",
       "    <tr>\n",
       "      <th>4</th>\n",
       "      <td>100004</td>\n",
       "      <td>175.864</td>\n",
       "      <td>16.915</td>\n",
       "      <td>134.805</td>\n",
       "      <td>16.405</td>\n",
       "      <td>-999.00</td>\n",
       "      <td>-999.000</td>\n",
       "      <td>-999.000</td>\n",
       "      <td>3.891</td>\n",
       "      <td>16.405</td>\n",
       "      <td>...</td>\n",
       "      <td>0</td>\n",
       "      <td>-999.000</td>\n",
       "      <td>-999.000</td>\n",
       "      <td>-999.000</td>\n",
       "      <td>-999.000</td>\n",
       "      <td>-999.00</td>\n",
       "      <td>-999.000</td>\n",
       "      <td>0.000</td>\n",
       "      <td>6.245333</td>\n",
       "      <td>b</td>\n",
       "    </tr>\n",
       "  </tbody>\n",
       "</table>\n",
       "<p>5 rows × 33 columns</p>\n",
       "</div>"
      ],
      "text/plain": [
       "   EventId  DER_mass_MMC  DER_mass_transverse_met_lep  DER_mass_vis  DER_pt_h  \\\n",
       "0   100000       138.470                       51.655        97.827    27.980   \n",
       "1   100001       160.937                       68.768       103.235    48.146   \n",
       "2   100002      -999.000                      162.172       125.953    35.635   \n",
       "3   100003       143.905                       81.417        80.943     0.414   \n",
       "4   100004       175.864                       16.915       134.805    16.405   \n",
       "\n",
       "   DER_deltaeta_jet_jet  DER_mass_jet_jet  DER_prodeta_jet_jet  \\\n",
       "0                  0.91           124.711                2.666   \n",
       "1               -999.00          -999.000             -999.000   \n",
       "2               -999.00          -999.000             -999.000   \n",
       "3               -999.00          -999.000             -999.000   \n",
       "4               -999.00          -999.000             -999.000   \n",
       "\n",
       "   DER_deltar_tau_lep  DER_pt_tot  ...  PRI_jet_num  PRI_jet_leading_pt  \\\n",
       "0               3.064      41.928  ...            2              67.435   \n",
       "1               3.473       2.078  ...            1              46.226   \n",
       "2               3.148       9.336  ...            1              44.251   \n",
       "3               3.310       0.414  ...            0            -999.000   \n",
       "4               3.891      16.405  ...            0            -999.000   \n",
       "\n",
       "   PRI_jet_leading_eta  PRI_jet_leading_phi  PRI_jet_subleading_pt  \\\n",
       "0                2.150                0.444                 46.062   \n",
       "1                0.725                1.158               -999.000   \n",
       "2                2.053               -2.028               -999.000   \n",
       "3             -999.000             -999.000               -999.000   \n",
       "4             -999.000             -999.000               -999.000   \n",
       "\n",
       "   PRI_jet_subleading_eta  PRI_jet_subleading_phi  PRI_jet_all_pt    Weight  \\\n",
       "0                    1.24                  -2.475         113.497  0.002653   \n",
       "1                 -999.00                -999.000          46.226  2.233584   \n",
       "2                 -999.00                -999.000          44.251  2.347389   \n",
       "3                 -999.00                -999.000          -0.000  5.446378   \n",
       "4                 -999.00                -999.000           0.000  6.245333   \n",
       "\n",
       "   Label  \n",
       "0      s  \n",
       "1      b  \n",
       "2      b  \n",
       "3      b  \n",
       "4      b  \n",
       "\n",
       "[5 rows x 33 columns]"
      ]
     },
     "execution_count": 2,
     "metadata": {},
     "output_type": "execute_result"
    }
   ],
   "source": [
    "import pandas as pd\n",
    "import numpy as np\n",
    "\n",
    "# Cargar el dataset (ajusta la ruta si es necesario)\n",
    "df = pd.read_csv(\"../training.csv\")\n",
    "\n",
    "# Vista rápida de las primeras filas\n",
    "df.head()\n"
   ]
  },
  {
   "cell_type": "code",
   "execution_count": 3,
   "id": "45354154",
   "metadata": {},
   "outputs": [
    {
     "name": "stdout",
     "output_type": "stream",
     "text": [
      "Número de ejemplos en el archivo: 250000\n"
     ]
    }
   ],
   "source": [
    "print(f\"Número de ejemplos en el archivo: {len(df)}\")"
   ]
  },
  {
   "cell_type": "code",
   "execution_count": 4,
   "id": "e2ea16bb",
   "metadata": {},
   "outputs": [
    {
     "name": "stdout",
     "output_type": "stream",
     "text": [
      "Columnas del dataset:\n",
      "['EventId', 'DER_mass_MMC', 'DER_mass_transverse_met_lep', 'DER_mass_vis', 'DER_pt_h', 'DER_deltaeta_jet_jet', 'DER_mass_jet_jet', 'DER_prodeta_jet_jet', 'DER_deltar_tau_lep', 'DER_pt_tot', 'DER_sum_pt', 'DER_pt_ratio_lep_tau', 'DER_met_phi_centrality', 'DER_lep_eta_centrality', 'PRI_tau_pt', 'PRI_tau_eta', 'PRI_tau_phi', 'PRI_lep_pt', 'PRI_lep_eta', 'PRI_lep_phi', 'PRI_met', 'PRI_met_phi', 'PRI_met_sumet', 'PRI_jet_num', 'PRI_jet_leading_pt', 'PRI_jet_leading_eta', 'PRI_jet_leading_phi', 'PRI_jet_subleading_pt', 'PRI_jet_subleading_eta', 'PRI_jet_subleading_phi', 'PRI_jet_all_pt', 'Weight', 'Label']\n"
     ]
    }
   ],
   "source": [
    "print(\"Columnas del dataset:\")\n",
    "print(df.columns.tolist())\n"
   ]
  },
  {
   "cell_type": "code",
   "execution_count": 5,
   "id": "dad59f7a",
   "metadata": {},
   "outputs": [
    {
     "name": "stdout",
     "output_type": "stream",
     "text": [
      "Shape de X: (250000, 30)\n",
      "Shape de y: (250000,)\n"
     ]
    }
   ],
   "source": [
    "# Separar target y features válidos\n",
    "X = df.drop(columns=['EventId', 'Weight', 'Label'])\n",
    "y = df['Label']\n",
    "y = y.map({'s': 1, 'b': 0})\n",
    "# Confirmamos shapes\n",
    "print(f\"Shape de X: {X.shape}\")\n",
    "print(f\"Shape de y: {y.shape}\")\n",
    "\n",
    "import numpy as np\n",
    "from sklearn.impute import SimpleImputer\n",
    "\n",
    "# Reemplazar -999.0 por NaN\n",
    "X.replace(-999.0, np.nan, inplace=True)\n",
    "\n",
    "# Imputar con la media\n",
    "imputer = SimpleImputer(strategy='mean')\n",
    "X_imputed = imputer.fit_transform(X)\n",
    "\n",
    "# Volver a DataFrame con las mismas columnas\n",
    "X = pd.DataFrame(X_imputed, columns=X.columns)\n",
    "\n"
   ]
  },
  {
   "cell_type": "code",
   "execution_count": 6,
   "id": "8b6d67ad",
   "metadata": {},
   "outputs": [
    {
     "name": "stdout",
     "output_type": "stream",
     "text": [
      "Tamaño X_train: (200000, 30)\n",
      "Tamaño X_test: (50000, 30)\n"
     ]
    }
   ],
   "source": [
    "from sklearn.model_selection import train_test_split\n",
    "\n",
    "# División: 80% entrenamiento, 20% test\n",
    "X_train, X_test, y_train, y_test = train_test_split(\n",
    "    X, y, test_size=0.2, random_state=42, stratify=y\n",
    ")\n",
    "\n",
    "print(f\"Tamaño X_train: {X_train.shape}\")\n",
    "print(f\"Tamaño X_test: {X_test.shape}\")\n"
   ]
  },
  {
   "cell_type": "code",
   "execution_count": 7,
   "id": "bc74f109",
   "metadata": {},
   "outputs": [
    {
     "name": "stdout",
     "output_type": "stream",
     "text": [
      "Fitting 5 folds for each of 48 candidates, totalling 240 fits\n"
     ]
    },
    {
     "name": "stderr",
     "output_type": "stream",
     "text": [
      "[codecarbon INFO @ 17:55:43] Energy consumed for RAM : 0.000013 kWh. RAM Power : 3.0 W\n",
      "[codecarbon INFO @ 17:55:43] Energy consumed for all CPUs : 0.000021 kWh. Total CPU Power : 5.0 W\n",
      "[codecarbon INFO @ 17:55:43] 0.000033 kWh of electricity used since the beginning.\n"
     ]
    },
    {
     "name": "stdout",
     "output_type": "stream",
     "text": [
      "[CV] END criterion=gini, max_depth=None, min_samples_leaf=1, min_samples_split=2, n_estimators=100; total time=  13.5s\n",
      "[CV] END criterion=gini, max_depth=None, min_samples_leaf=1, min_samples_split=2, n_estimators=100; total time=  12.6s\n"
     ]
    },
    {
     "name": "stderr",
     "output_type": "stream",
     "text": [
      "[codecarbon INFO @ 17:55:58] Energy consumed for RAM : 0.000025 kWh. RAM Power : 3.0 W\n",
      "[codecarbon INFO @ 17:55:58] Energy consumed for all CPUs : 0.000042 kWh. Total CPU Power : 5.0 W\n",
      "[codecarbon INFO @ 17:55:58] 0.000067 kWh of electricity used since the beginning.\n"
     ]
    },
    {
     "name": "stdout",
     "output_type": "stream",
     "text": [
      "[CV] END criterion=gini, max_depth=None, min_samples_leaf=1, min_samples_split=2, n_estimators=100; total time=  12.7s\n"
     ]
    },
    {
     "name": "stderr",
     "output_type": "stream",
     "text": [
      "[codecarbon INFO @ 17:56:13] Energy consumed for RAM : 0.000037 kWh. RAM Power : 3.0 W\n",
      "[codecarbon INFO @ 17:56:13] Energy consumed for all CPUs : 0.000063 kWh. Total CPU Power : 5.0 W\n",
      "[codecarbon INFO @ 17:56:13] 0.000100 kWh of electricity used since the beginning.\n"
     ]
    },
    {
     "name": "stdout",
     "output_type": "stream",
     "text": [
      "[CV] END criterion=gini, max_depth=None, min_samples_leaf=1, min_samples_split=2, n_estimators=100; total time=  12.6s\n"
     ]
    },
    {
     "name": "stderr",
     "output_type": "stream",
     "text": [
      "[codecarbon INFO @ 17:56:28] Energy consumed for RAM : 0.000050 kWh. RAM Power : 3.0 W\n",
      "[codecarbon INFO @ 17:56:28] Energy consumed for all CPUs : 0.000083 kWh. Total CPU Power : 5.0 W\n",
      "[codecarbon INFO @ 17:56:28] 0.000133 kWh of electricity used since the beginning.\n"
     ]
    },
    {
     "name": "stdout",
     "output_type": "stream",
     "text": [
      "[CV] END criterion=gini, max_depth=None, min_samples_leaf=1, min_samples_split=2, n_estimators=100; total time=  14.4s\n"
     ]
    },
    {
     "name": "stderr",
     "output_type": "stream",
     "text": [
      "[codecarbon INFO @ 17:56:43] Energy consumed for RAM : 0.000062 kWh. RAM Power : 3.0 W\n",
      "[codecarbon INFO @ 17:56:43] Energy consumed for all CPUs : 0.000104 kWh. Total CPU Power : 5.0 W\n",
      "[codecarbon INFO @ 17:56:43] 0.000167 kWh of electricity used since the beginning.\n",
      "[codecarbon INFO @ 17:56:58] Energy consumed for RAM : 0.000075 kWh. RAM Power : 3.0 W\n",
      "[codecarbon INFO @ 17:56:58] Energy consumed for all CPUs : 0.000125 kWh. Total CPU Power : 5.0 W\n",
      "[codecarbon INFO @ 17:56:58] 0.000200 kWh of electricity used since the beginning.\n"
     ]
    },
    {
     "name": "stdout",
     "output_type": "stream",
     "text": [
      "[CV] END criterion=gini, max_depth=None, min_samples_leaf=1, min_samples_split=2, n_estimators=200; total time=  25.2s\n"
     ]
    },
    {
     "name": "stderr",
     "output_type": "stream",
     "text": [
      "[codecarbon INFO @ 17:57:13] Energy consumed for RAM : 0.000087 kWh. RAM Power : 3.0 W\n",
      "[codecarbon INFO @ 17:57:13] Energy consumed for all CPUs : 0.000146 kWh. Total CPU Power : 5.0 W\n",
      "[codecarbon INFO @ 17:57:13] 0.000233 kWh of electricity used since the beginning.\n"
     ]
    },
    {
     "name": "stdout",
     "output_type": "stream",
     "text": [
      "[CV] END criterion=gini, max_depth=None, min_samples_leaf=1, min_samples_split=2, n_estimators=200; total time=  24.2s\n"
     ]
    },
    {
     "name": "stderr",
     "output_type": "stream",
     "text": [
      "[codecarbon INFO @ 17:57:28] Energy consumed for RAM : 0.000100 kWh. RAM Power : 3.0 W\n",
      "[codecarbon INFO @ 17:57:28] Energy consumed for all CPUs : 0.000167 kWh. Total CPU Power : 5.0 W\n",
      "[codecarbon INFO @ 17:57:28] 0.000266 kWh of electricity used since the beginning.\n",
      "[codecarbon INFO @ 17:57:28] 0.000386 g.CO2eq/s mean an estimation of 12.179346596602427 kg.CO2eq/year\n",
      "[codecarbon INFO @ 17:57:43] Energy consumed for RAM : 0.000112 kWh. RAM Power : 3.0 W\n",
      "[codecarbon INFO @ 17:57:43] Energy consumed for all CPUs : 0.000187 kWh. Total CPU Power : 5.0 W\n",
      "[codecarbon INFO @ 17:57:43] 0.000300 kWh of electricity used since the beginning.\n"
     ]
    },
    {
     "name": "stdout",
     "output_type": "stream",
     "text": [
      "[CV] END criterion=gini, max_depth=None, min_samples_leaf=1, min_samples_split=2, n_estimators=200; total time=  24.4s\n"
     ]
    },
    {
     "name": "stderr",
     "output_type": "stream",
     "text": [
      "[codecarbon INFO @ 17:57:58] Energy consumed for RAM : 0.000125 kWh. RAM Power : 3.0 W\n",
      "[codecarbon INFO @ 17:57:58] Energy consumed for all CPUs : 0.000208 kWh. Total CPU Power : 5.0 W\n",
      "[codecarbon INFO @ 17:57:58] 0.000333 kWh of electricity used since the beginning.\n",
      "[codecarbon INFO @ 17:58:13] Energy consumed for RAM : 0.000137 kWh. RAM Power : 3.0 W\n",
      "[codecarbon INFO @ 17:58:13] Energy consumed for all CPUs : 0.000229 kWh. Total CPU Power : 5.0 W\n",
      "[codecarbon INFO @ 17:58:13] 0.000366 kWh of electricity used since the beginning.\n"
     ]
    },
    {
     "name": "stdout",
     "output_type": "stream",
     "text": [
      "[CV] END criterion=gini, max_depth=None, min_samples_leaf=1, min_samples_split=2, n_estimators=200; total time=  25.8s\n"
     ]
    },
    {
     "name": "stderr",
     "output_type": "stream",
     "text": [
      "[codecarbon INFO @ 17:58:28] Energy consumed for RAM : 0.000150 kWh. RAM Power : 3.0 W\n",
      "[codecarbon INFO @ 17:58:28] Energy consumed for all CPUs : 0.000250 kWh. Total CPU Power : 5.0 W\n",
      "[codecarbon INFO @ 17:58:28] 0.000399 kWh of electricity used since the beginning.\n"
     ]
    },
    {
     "name": "stdout",
     "output_type": "stream",
     "text": [
      "[CV] END criterion=gini, max_depth=None, min_samples_leaf=1, min_samples_split=2, n_estimators=200; total time=  25.7s\n"
     ]
    },
    {
     "name": "stderr",
     "output_type": "stream",
     "text": [
      "[codecarbon INFO @ 17:58:43] Energy consumed for RAM : 0.000162 kWh. RAM Power : 3.0 W\n",
      "[codecarbon INFO @ 17:58:43] Energy consumed for all CPUs : 0.000271 kWh. Total CPU Power : 5.0 W\n",
      "[codecarbon INFO @ 17:58:43] 0.000433 kWh of electricity used since the beginning.\n"
     ]
    },
    {
     "name": "stdout",
     "output_type": "stream",
     "text": [
      "[CV] END criterion=gini, max_depth=None, min_samples_leaf=1, min_samples_split=10, n_estimators=100; total time=  12.5s\n"
     ]
    },
    {
     "name": "stderr",
     "output_type": "stream",
     "text": [
      "[codecarbon INFO @ 17:58:58] Energy consumed for RAM : 0.000175 kWh. RAM Power : 3.0 W\n",
      "[codecarbon INFO @ 17:58:58] Energy consumed for all CPUs : 0.000291 kWh. Total CPU Power : 5.0 W\n",
      "[codecarbon INFO @ 17:58:58] 0.000466 kWh of electricity used since the beginning.\n"
     ]
    },
    {
     "name": "stdout",
     "output_type": "stream",
     "text": [
      "[CV] END criterion=gini, max_depth=None, min_samples_leaf=1, min_samples_split=10, n_estimators=100; total time=  12.3s\n"
     ]
    },
    {
     "name": "stderr",
     "output_type": "stream",
     "text": [
      "[codecarbon INFO @ 17:59:13] Energy consumed for RAM : 0.000187 kWh. RAM Power : 3.0 W\n",
      "[codecarbon INFO @ 17:59:13] Energy consumed for all CPUs : 0.000312 kWh. Total CPU Power : 5.0 W\n",
      "[codecarbon INFO @ 17:59:13] 0.000499 kWh of electricity used since the beginning.\n"
     ]
    },
    {
     "name": "stdout",
     "output_type": "stream",
     "text": [
      "[CV] END criterion=gini, max_depth=None, min_samples_leaf=1, min_samples_split=10, n_estimators=100; total time=  12.3s\n"
     ]
    },
    {
     "name": "stderr",
     "output_type": "stream",
     "text": [
      "[codecarbon INFO @ 17:59:28] Energy consumed for RAM : 0.000200 kWh. RAM Power : 3.0 W\n",
      "[codecarbon INFO @ 17:59:28] Energy consumed for all CPUs : 0.000333 kWh. Total CPU Power : 5.0 W\n",
      "[codecarbon INFO @ 17:59:28] 0.000533 kWh of electricity used since the beginning.\n",
      "[codecarbon INFO @ 17:59:28] 0.000386 g.CO2eq/s mean an estimation of 12.174301239472326 kg.CO2eq/year\n"
     ]
    },
    {
     "name": "stdout",
     "output_type": "stream",
     "text": [
      "[CV] END criterion=gini, max_depth=None, min_samples_leaf=1, min_samples_split=10, n_estimators=100; total time=  12.2s\n"
     ]
    },
    {
     "name": "stderr",
     "output_type": "stream",
     "text": [
      "[codecarbon INFO @ 17:59:43] Energy consumed for RAM : 0.000212 kWh. RAM Power : 3.0 W\n",
      "[codecarbon INFO @ 17:59:43] Energy consumed for all CPUs : 0.000354 kWh. Total CPU Power : 5.0 W\n",
      "[codecarbon INFO @ 17:59:43] 0.000566 kWh of electricity used since the beginning.\n"
     ]
    },
    {
     "name": "stdout",
     "output_type": "stream",
     "text": [
      "[CV] END criterion=gini, max_depth=None, min_samples_leaf=1, min_samples_split=10, n_estimators=100; total time=  13.1s\n"
     ]
    },
    {
     "name": "stderr",
     "output_type": "stream",
     "text": [
      "[codecarbon INFO @ 17:59:58] Energy consumed for RAM : 0.000225 kWh. RAM Power : 3.0 W\n",
      "[codecarbon INFO @ 17:59:58] Energy consumed for all CPUs : 0.000375 kWh. Total CPU Power : 5.0 W\n",
      "[codecarbon INFO @ 17:59:58] 0.000599 kWh of electricity used since the beginning.\n"
     ]
    },
    {
     "name": "stdout",
     "output_type": "stream",
     "text": [
      "[CV] END criterion=gini, max_depth=None, min_samples_leaf=1, min_samples_split=10, n_estimators=200; total time=  24.8s\n"
     ]
    },
    {
     "name": "stderr",
     "output_type": "stream",
     "text": [
      "[codecarbon INFO @ 18:00:13] Energy consumed for RAM : 0.000237 kWh. RAM Power : 3.0 W\n",
      "[codecarbon INFO @ 18:00:13] Energy consumed for all CPUs : 0.000396 kWh. Total CPU Power : 5.0 W\n",
      "[codecarbon INFO @ 18:00:13] 0.000633 kWh of electricity used since the beginning.\n",
      "[codecarbon INFO @ 18:00:28] Energy consumed for RAM : 0.000250 kWh. RAM Power : 3.0 W\n",
      "[codecarbon INFO @ 18:00:28] Energy consumed for all CPUs : 0.000416 kWh. Total CPU Power : 5.0 W\n",
      "[codecarbon INFO @ 18:00:28] 0.000666 kWh of electricity used since the beginning.\n"
     ]
    },
    {
     "name": "stdout",
     "output_type": "stream",
     "text": [
      "[CV] END criterion=gini, max_depth=None, min_samples_leaf=1, min_samples_split=10, n_estimators=200; total time=  24.0s\n"
     ]
    },
    {
     "name": "stderr",
     "output_type": "stream",
     "text": [
      "[codecarbon INFO @ 18:00:43] Energy consumed for RAM : 0.000262 kWh. RAM Power : 3.0 W\n",
      "[codecarbon INFO @ 18:00:43] Energy consumed for all CPUs : 0.000437 kWh. Total CPU Power : 5.0 W\n",
      "[codecarbon INFO @ 18:00:43] 0.000699 kWh of electricity used since the beginning.\n"
     ]
    },
    {
     "name": "stdout",
     "output_type": "stream",
     "text": [
      "[CV] END criterion=gini, max_depth=None, min_samples_leaf=1, min_samples_split=10, n_estimators=200; total time=  24.6s\n"
     ]
    },
    {
     "name": "stderr",
     "output_type": "stream",
     "text": [
      "[codecarbon INFO @ 18:00:58] Energy consumed for RAM : 0.000275 kWh. RAM Power : 3.0 W\n",
      "[codecarbon INFO @ 18:00:58] Energy consumed for all CPUs : 0.000458 kWh. Total CPU Power : 5.0 W\n",
      "[codecarbon INFO @ 18:00:58] 0.000732 kWh of electricity used since the beginning.\n",
      "[codecarbon INFO @ 18:01:13] Energy consumed for RAM : 0.000287 kWh. RAM Power : 3.0 W\n",
      "[codecarbon INFO @ 18:01:13] Energy consumed for all CPUs : 0.000479 kWh. Total CPU Power : 5.0 W\n",
      "[codecarbon INFO @ 18:01:13] 0.000766 kWh of electricity used since the beginning.\n"
     ]
    },
    {
     "name": "stdout",
     "output_type": "stream",
     "text": [
      "[CV] END criterion=gini, max_depth=None, min_samples_leaf=1, min_samples_split=10, n_estimators=200; total time=  24.2s\n"
     ]
    },
    {
     "name": "stderr",
     "output_type": "stream",
     "text": [
      "[codecarbon INFO @ 18:01:28] Energy consumed for RAM : 0.000299 kWh. RAM Power : 3.0 W\n",
      "[codecarbon INFO @ 18:01:28] Energy consumed for all CPUs : 0.000500 kWh. Total CPU Power : 5.0 W\n",
      "[codecarbon INFO @ 18:01:28] 0.000799 kWh of electricity used since the beginning.\n",
      "[codecarbon INFO @ 18:01:28] 0.000386 g.CO2eq/s mean an estimation of 12.170970783022854 kg.CO2eq/year\n",
      "[codecarbon INFO @ 18:01:43] Energy consumed for RAM : 0.000312 kWh. RAM Power : 3.0 W\n",
      "[codecarbon INFO @ 18:01:43] Energy consumed for all CPUs : 0.000520 kWh. Total CPU Power : 5.0 W\n",
      "[codecarbon INFO @ 18:01:43] 0.000832 kWh of electricity used since the beginning.\n"
     ]
    },
    {
     "name": "stdout",
     "output_type": "stream",
     "text": [
      "[CV] END criterion=gini, max_depth=None, min_samples_leaf=1, min_samples_split=10, n_estimators=200; total time=  24.4s\n",
      "[CV] END criterion=gini, max_depth=None, min_samples_leaf=5, min_samples_split=2, n_estimators=100; total time=  11.4s\n"
     ]
    },
    {
     "name": "stderr",
     "output_type": "stream",
     "text": [
      "[codecarbon INFO @ 18:01:58] Energy consumed for RAM : 0.000324 kWh. RAM Power : 3.0 W\n",
      "[codecarbon INFO @ 18:01:58] Energy consumed for all CPUs : 0.000541 kWh. Total CPU Power : 5.0 W\n",
      "[codecarbon INFO @ 18:01:58] 0.000866 kWh of electricity used since the beginning.\n"
     ]
    },
    {
     "name": "stdout",
     "output_type": "stream",
     "text": [
      "[CV] END criterion=gini, max_depth=None, min_samples_leaf=5, min_samples_split=2, n_estimators=100; total time=  11.4s\n"
     ]
    },
    {
     "name": "stderr",
     "output_type": "stream",
     "text": [
      "[codecarbon INFO @ 18:02:13] Energy consumed for RAM : 0.000337 kWh. RAM Power : 3.0 W\n",
      "[codecarbon INFO @ 18:02:13] Energy consumed for all CPUs : 0.000562 kWh. Total CPU Power : 5.0 W\n",
      "[codecarbon INFO @ 18:02:13] 0.000899 kWh of electricity used since the beginning.\n"
     ]
    },
    {
     "name": "stdout",
     "output_type": "stream",
     "text": [
      "[CV] END criterion=gini, max_depth=None, min_samples_leaf=5, min_samples_split=2, n_estimators=100; total time=  11.3s\n"
     ]
    },
    {
     "name": "stderr",
     "output_type": "stream",
     "text": [
      "[codecarbon INFO @ 18:02:28] Energy consumed for RAM : 0.000349 kWh. RAM Power : 3.0 W\n",
      "[codecarbon INFO @ 18:02:28] Energy consumed for all CPUs : 0.000583 kWh. Total CPU Power : 5.0 W\n",
      "[codecarbon INFO @ 18:02:28] 0.000932 kWh of electricity used since the beginning.\n"
     ]
    },
    {
     "name": "stdout",
     "output_type": "stream",
     "text": [
      "[CV] END criterion=gini, max_depth=None, min_samples_leaf=5, min_samples_split=2, n_estimators=100; total time=  13.5s\n"
     ]
    },
    {
     "name": "stderr",
     "output_type": "stream",
     "text": [
      "[codecarbon INFO @ 18:02:43] Energy consumed for RAM : 0.000362 kWh. RAM Power : 3.0 W\n",
      "[codecarbon INFO @ 18:02:43] Energy consumed for all CPUs : 0.000604 kWh. Total CPU Power : 5.0 W\n",
      "[codecarbon INFO @ 18:02:43] 0.000965 kWh of electricity used since the beginning.\n"
     ]
    },
    {
     "name": "stdout",
     "output_type": "stream",
     "text": [
      "[CV] END criterion=gini, max_depth=None, min_samples_leaf=5, min_samples_split=2, n_estimators=100; total time=  12.9s\n"
     ]
    },
    {
     "name": "stderr",
     "output_type": "stream",
     "text": [
      "[codecarbon INFO @ 18:02:58] Energy consumed for RAM : 0.000374 kWh. RAM Power : 3.0 W\n",
      "[codecarbon INFO @ 18:02:58] Energy consumed for all CPUs : 0.000624 kWh. Total CPU Power : 5.0 W\n",
      "[codecarbon INFO @ 18:02:58] 0.000999 kWh of electricity used since the beginning.\n"
     ]
    },
    {
     "name": "stdout",
     "output_type": "stream",
     "text": [
      "[CV] END criterion=gini, max_depth=None, min_samples_leaf=5, min_samples_split=2, n_estimators=200; total time=  23.5s\n"
     ]
    },
    {
     "name": "stderr",
     "output_type": "stream",
     "text": [
      "[codecarbon INFO @ 18:03:13] Energy consumed for RAM : 0.000387 kWh. RAM Power : 3.0 W\n",
      "[codecarbon INFO @ 18:03:13] Energy consumed for all CPUs : 0.000645 kWh. Total CPU Power : 5.0 W\n",
      "[codecarbon INFO @ 18:03:13] 0.001032 kWh of electricity used since the beginning.\n",
      "[codecarbon INFO @ 18:03:28] Energy consumed for RAM : 0.000399 kWh. RAM Power : 3.0 W\n",
      "[codecarbon INFO @ 18:03:28] Energy consumed for all CPUs : 0.000666 kWh. Total CPU Power : 5.0 W\n",
      "[codecarbon INFO @ 18:03:28] 0.001065 kWh of electricity used since the beginning.\n",
      "[codecarbon INFO @ 18:03:28] 0.000386 g.CO2eq/s mean an estimation of 12.181453555948831 kg.CO2eq/year\n"
     ]
    },
    {
     "name": "stdout",
     "output_type": "stream",
     "text": [
      "[CV] END criterion=gini, max_depth=None, min_samples_leaf=5, min_samples_split=2, n_estimators=200; total time=  23.1s\n"
     ]
    },
    {
     "name": "stderr",
     "output_type": "stream",
     "text": [
      "[codecarbon INFO @ 18:03:43] Energy consumed for RAM : 0.000412 kWh. RAM Power : 3.0 W\n",
      "[codecarbon INFO @ 18:03:43] Energy consumed for all CPUs : 0.000687 kWh. Total CPU Power : 5.0 W\n",
      "[codecarbon INFO @ 18:03:43] 0.001099 kWh of electricity used since the beginning.\n"
     ]
    },
    {
     "name": "stdout",
     "output_type": "stream",
     "text": [
      "[CV] END criterion=gini, max_depth=None, min_samples_leaf=5, min_samples_split=2, n_estimators=200; total time=  22.4s\n"
     ]
    },
    {
     "name": "stderr",
     "output_type": "stream",
     "text": [
      "[codecarbon INFO @ 18:03:58] Energy consumed for RAM : 0.000424 kWh. RAM Power : 3.0 W\n",
      "[codecarbon INFO @ 18:03:58] Energy consumed for all CPUs : 0.000708 kWh. Total CPU Power : 5.0 W\n",
      "[codecarbon INFO @ 18:03:58] 0.001132 kWh of electricity used since the beginning.\n",
      "[codecarbon INFO @ 18:04:13] Energy consumed for RAM : 0.000437 kWh. RAM Power : 3.0 W\n",
      "[codecarbon INFO @ 18:04:13] Energy consumed for all CPUs : 0.000729 kWh. Total CPU Power : 5.0 W\n",
      "[codecarbon INFO @ 18:04:13] 0.001165 kWh of electricity used since the beginning.\n"
     ]
    },
    {
     "name": "stdout",
     "output_type": "stream",
     "text": [
      "[CV] END criterion=gini, max_depth=None, min_samples_leaf=5, min_samples_split=2, n_estimators=200; total time=  22.8s\n"
     ]
    },
    {
     "name": "stderr",
     "output_type": "stream",
     "text": [
      "[codecarbon INFO @ 18:04:28] Energy consumed for RAM : 0.000449 kWh. RAM Power : 3.0 W\n",
      "[codecarbon INFO @ 18:04:28] Energy consumed for all CPUs : 0.000749 kWh. Total CPU Power : 5.0 W\n",
      "[codecarbon INFO @ 18:04:28] 0.001199 kWh of electricity used since the beginning.\n",
      "[codecarbon INFO @ 18:04:43] Energy consumed for RAM : 0.000462 kWh. RAM Power : 3.0 W\n",
      "[codecarbon INFO @ 18:04:43] Energy consumed for all CPUs : 0.000770 kWh. Total CPU Power : 5.0 W\n",
      "[codecarbon INFO @ 18:04:43] 0.001232 kWh of electricity used since the beginning.\n"
     ]
    },
    {
     "name": "stdout",
     "output_type": "stream",
     "text": [
      "[CV] END criterion=gini, max_depth=None, min_samples_leaf=5, min_samples_split=2, n_estimators=200; total time=  25.4s\n",
      "[CV] END criterion=gini, max_depth=None, min_samples_leaf=5, min_samples_split=10, n_estimators=100; total time=  13.4s\n"
     ]
    },
    {
     "name": "stderr",
     "output_type": "stream",
     "text": [
      "[codecarbon INFO @ 18:04:58] Energy consumed for RAM : 0.000474 kWh. RAM Power : 3.0 W\n",
      "[codecarbon INFO @ 18:04:58] Energy consumed for all CPUs : 0.000791 kWh. Total CPU Power : 5.0 W\n",
      "[codecarbon INFO @ 18:04:58] 0.001265 kWh of electricity used since the beginning.\n"
     ]
    },
    {
     "name": "stdout",
     "output_type": "stream",
     "text": [
      "[CV] END criterion=gini, max_depth=None, min_samples_leaf=5, min_samples_split=10, n_estimators=100; total time=  12.7s\n"
     ]
    },
    {
     "name": "stderr",
     "output_type": "stream",
     "text": [
      "[codecarbon INFO @ 18:05:13] Energy consumed for RAM : 0.000487 kWh. RAM Power : 3.0 W\n",
      "[codecarbon INFO @ 18:05:13] Energy consumed for all CPUs : 0.000812 kWh. Total CPU Power : 5.0 W\n",
      "[codecarbon INFO @ 18:05:13] 0.001299 kWh of electricity used since the beginning.\n"
     ]
    },
    {
     "name": "stdout",
     "output_type": "stream",
     "text": [
      "[CV] END criterion=gini, max_depth=None, min_samples_leaf=5, min_samples_split=10, n_estimators=100; total time=  12.1s\n"
     ]
    },
    {
     "name": "stderr",
     "output_type": "stream",
     "text": [
      "[codecarbon INFO @ 18:05:28] Energy consumed for RAM : 0.000499 kWh. RAM Power : 3.0 W\n",
      "[codecarbon INFO @ 18:05:28] Energy consumed for all CPUs : 0.000833 kWh. Total CPU Power : 5.0 W\n",
      "[codecarbon INFO @ 18:05:28] 0.001332 kWh of electricity used since the beginning.\n",
      "[codecarbon INFO @ 18:05:28] 0.000386 g.CO2eq/s mean an estimation of 12.184331073143218 kg.CO2eq/year\n"
     ]
    },
    {
     "name": "stdout",
     "output_type": "stream",
     "text": [
      "[CV] END criterion=gini, max_depth=None, min_samples_leaf=5, min_samples_split=10, n_estimators=100; total time=  12.2s\n"
     ]
    },
    {
     "name": "stderr",
     "output_type": "stream",
     "text": [
      "[codecarbon INFO @ 18:05:43] Energy consumed for RAM : 0.000512 kWh. RAM Power : 3.0 W\n",
      "[codecarbon INFO @ 18:05:43] Energy consumed for all CPUs : 0.000854 kWh. Total CPU Power : 5.0 W\n",
      "[codecarbon INFO @ 18:05:43] 0.001365 kWh of electricity used since the beginning.\n"
     ]
    },
    {
     "name": "stdout",
     "output_type": "stream",
     "text": [
      "[CV] END criterion=gini, max_depth=None, min_samples_leaf=5, min_samples_split=10, n_estimators=100; total time=  11.8s\n"
     ]
    },
    {
     "name": "stderr",
     "output_type": "stream",
     "text": [
      "[codecarbon INFO @ 18:05:58] Energy consumed for RAM : 0.000524 kWh. RAM Power : 3.0 W\n",
      "[codecarbon INFO @ 18:05:58] Energy consumed for all CPUs : 0.000874 kWh. Total CPU Power : 5.0 W\n",
      "[codecarbon INFO @ 18:05:58] 0.001399 kWh of electricity used since the beginning.\n"
     ]
    },
    {
     "name": "stdout",
     "output_type": "stream",
     "text": [
      "[CV] END criterion=gini, max_depth=None, min_samples_leaf=5, min_samples_split=10, n_estimators=200; total time=  23.1s\n"
     ]
    },
    {
     "name": "stderr",
     "output_type": "stream",
     "text": [
      "[codecarbon INFO @ 18:06:13] Energy consumed for RAM : 0.000537 kWh. RAM Power : 3.0 W\n",
      "[codecarbon INFO @ 18:06:13] Energy consumed for all CPUs : 0.000895 kWh. Total CPU Power : 5.0 W\n",
      "[codecarbon INFO @ 18:06:13] 0.001432 kWh of electricity used since the beginning.\n",
      "[codecarbon INFO @ 18:06:28] Energy consumed for RAM : 0.000549 kWh. RAM Power : 3.0 W\n",
      "[codecarbon INFO @ 18:06:28] Energy consumed for all CPUs : 0.000916 kWh. Total CPU Power : 5.0 W\n",
      "[codecarbon INFO @ 18:06:28] 0.001465 kWh of electricity used since the beginning.\n"
     ]
    },
    {
     "name": "stdout",
     "output_type": "stream",
     "text": [
      "[CV] END criterion=gini, max_depth=None, min_samples_leaf=5, min_samples_split=10, n_estimators=200; total time=  22.3s\n"
     ]
    },
    {
     "name": "stderr",
     "output_type": "stream",
     "text": [
      "[codecarbon INFO @ 18:06:43] Energy consumed for RAM : 0.000562 kWh. RAM Power : 3.0 W\n",
      "[codecarbon INFO @ 18:06:43] Energy consumed for all CPUs : 0.000937 kWh. Total CPU Power : 5.0 W\n",
      "[codecarbon INFO @ 18:06:43] 0.001498 kWh of electricity used since the beginning.\n"
     ]
    },
    {
     "name": "stdout",
     "output_type": "stream",
     "text": [
      "[CV] END criterion=gini, max_depth=None, min_samples_leaf=5, min_samples_split=10, n_estimators=200; total time=  22.4s\n"
     ]
    },
    {
     "name": "stderr",
     "output_type": "stream",
     "text": [
      "[codecarbon INFO @ 18:06:58] Energy consumed for RAM : 0.000574 kWh. RAM Power : 3.0 W\n",
      "[codecarbon INFO @ 18:06:58] Energy consumed for all CPUs : 0.000958 kWh. Total CPU Power : 5.0 W\n",
      "[codecarbon INFO @ 18:06:58] 0.001532 kWh of electricity used since the beginning.\n",
      "[codecarbon INFO @ 18:07:13] Energy consumed for RAM : 0.000587 kWh. RAM Power : 3.0 W\n",
      "[codecarbon INFO @ 18:07:13] Energy consumed for all CPUs : 0.000978 kWh. Total CPU Power : 5.0 W\n",
      "[codecarbon INFO @ 18:07:13] 0.001565 kWh of electricity used since the beginning.\n"
     ]
    },
    {
     "name": "stdout",
     "output_type": "stream",
     "text": [
      "[CV] END criterion=gini, max_depth=None, min_samples_leaf=5, min_samples_split=10, n_estimators=200; total time=  23.2s\n"
     ]
    },
    {
     "name": "stderr",
     "output_type": "stream",
     "text": [
      "[codecarbon INFO @ 18:07:28] Energy consumed for RAM : 0.000599 kWh. RAM Power : 3.0 W\n",
      "[codecarbon INFO @ 18:07:28] Energy consumed for all CPUs : 0.000999 kWh. Total CPU Power : 5.0 W\n",
      "[codecarbon INFO @ 18:07:28] 0.001598 kWh of electricity used since the beginning.\n",
      "[codecarbon INFO @ 18:07:28] 0.000386 g.CO2eq/s mean an estimation of 12.178074065035817 kg.CO2eq/year\n"
     ]
    },
    {
     "name": "stdout",
     "output_type": "stream",
     "text": [
      "[CV] END criterion=gini, max_depth=None, min_samples_leaf=5, min_samples_split=10, n_estimators=200; total time=  24.3s\n"
     ]
    },
    {
     "name": "stderr",
     "output_type": "stream",
     "text": [
      "[codecarbon INFO @ 18:07:43] Energy consumed for RAM : 0.000612 kWh. RAM Power : 3.0 W\n",
      "[codecarbon INFO @ 18:07:43] Energy consumed for all CPUs : 0.001020 kWh. Total CPU Power : 5.0 W\n",
      "[codecarbon INFO @ 18:07:43] 0.001632 kWh of electricity used since the beginning.\n"
     ]
    },
    {
     "name": "stdout",
     "output_type": "stream",
     "text": [
      "[CV] END criterion=gini, max_depth=10, min_samples_leaf=1, min_samples_split=2, n_estimators=100; total time=   8.0s\n",
      "[CV] END criterion=gini, max_depth=10, min_samples_leaf=1, min_samples_split=2, n_estimators=100; total time=   7.7s\n"
     ]
    },
    {
     "name": "stderr",
     "output_type": "stream",
     "text": [
      "[codecarbon INFO @ 18:07:58] Energy consumed for RAM : 0.000624 kWh. RAM Power : 3.0 W\n",
      "[codecarbon INFO @ 18:07:58] Energy consumed for all CPUs : 0.001041 kWh. Total CPU Power : 5.0 W\n",
      "[codecarbon INFO @ 18:07:58] 0.001665 kWh of electricity used since the beginning.\n"
     ]
    },
    {
     "name": "stdout",
     "output_type": "stream",
     "text": [
      "[CV] END criterion=gini, max_depth=10, min_samples_leaf=1, min_samples_split=2, n_estimators=100; total time=   7.9s\n",
      "[CV] END criterion=gini, max_depth=10, min_samples_leaf=1, min_samples_split=2, n_estimators=100; total time=   7.9s\n"
     ]
    },
    {
     "name": "stderr",
     "output_type": "stream",
     "text": [
      "[codecarbon INFO @ 18:08:13] Energy consumed for RAM : 0.000636 kWh. RAM Power : 3.0 W\n",
      "[codecarbon INFO @ 18:08:13] Energy consumed for all CPUs : 0.001062 kWh. Total CPU Power : 5.0 W\n",
      "[codecarbon INFO @ 18:08:13] 0.001698 kWh of electricity used since the beginning.\n"
     ]
    },
    {
     "name": "stdout",
     "output_type": "stream",
     "text": [
      "[CV] END criterion=gini, max_depth=10, min_samples_leaf=1, min_samples_split=2, n_estimators=100; total time=   7.6s\n"
     ]
    },
    {
     "name": "stderr",
     "output_type": "stream",
     "text": [
      "[codecarbon INFO @ 18:08:28] Energy consumed for RAM : 0.000649 kWh. RAM Power : 3.0 W\n",
      "[codecarbon INFO @ 18:08:28] Energy consumed for all CPUs : 0.001083 kWh. Total CPU Power : 5.0 W\n",
      "[codecarbon INFO @ 18:08:28] 0.001732 kWh of electricity used since the beginning.\n"
     ]
    },
    {
     "name": "stdout",
     "output_type": "stream",
     "text": [
      "[CV] END criterion=gini, max_depth=10, min_samples_leaf=1, min_samples_split=2, n_estimators=200; total time=  16.3s\n"
     ]
    },
    {
     "name": "stderr",
     "output_type": "stream",
     "text": [
      "[codecarbon INFO @ 18:08:43] Energy consumed for RAM : 0.000661 kWh. RAM Power : 3.0 W\n",
      "[codecarbon INFO @ 18:08:43] Energy consumed for all CPUs : 0.001103 kWh. Total CPU Power : 5.0 W\n",
      "[codecarbon INFO @ 18:08:43] 0.001765 kWh of electricity used since the beginning.\n"
     ]
    },
    {
     "name": "stdout",
     "output_type": "stream",
     "text": [
      "[CV] END criterion=gini, max_depth=10, min_samples_leaf=1, min_samples_split=2, n_estimators=200; total time=  14.3s\n"
     ]
    },
    {
     "name": "stderr",
     "output_type": "stream",
     "text": [
      "[codecarbon INFO @ 18:08:58] Energy consumed for RAM : 0.000674 kWh. RAM Power : 3.0 W\n",
      "[codecarbon INFO @ 18:08:58] Energy consumed for all CPUs : 0.001124 kWh. Total CPU Power : 5.0 W\n",
      "[codecarbon INFO @ 18:08:58] 0.001798 kWh of electricity used since the beginning.\n"
     ]
    },
    {
     "name": "stdout",
     "output_type": "stream",
     "text": [
      "[CV] END criterion=gini, max_depth=10, min_samples_leaf=1, min_samples_split=2, n_estimators=200; total time=  14.2s\n"
     ]
    },
    {
     "name": "stderr",
     "output_type": "stream",
     "text": [
      "[codecarbon INFO @ 18:09:13] Energy consumed for RAM : 0.000686 kWh. RAM Power : 3.0 W\n",
      "[codecarbon INFO @ 18:09:13] Energy consumed for all CPUs : 0.001145 kWh. Total CPU Power : 5.0 W\n",
      "[codecarbon INFO @ 18:09:13] 0.001832 kWh of electricity used since the beginning.\n"
     ]
    },
    {
     "name": "stdout",
     "output_type": "stream",
     "text": [
      "[CV] END criterion=gini, max_depth=10, min_samples_leaf=1, min_samples_split=2, n_estimators=200; total time=  14.1s\n"
     ]
    },
    {
     "name": "stderr",
     "output_type": "stream",
     "text": [
      "[codecarbon INFO @ 18:09:28] Energy consumed for RAM : 0.000699 kWh. RAM Power : 3.0 W\n",
      "[codecarbon INFO @ 18:09:28] Energy consumed for all CPUs : 0.001166 kWh. Total CPU Power : 5.0 W\n",
      "[codecarbon INFO @ 18:09:28] 0.001865 kWh of electricity used since the beginning.\n",
      "[codecarbon INFO @ 18:09:28] 0.000386 g.CO2eq/s mean an estimation of 12.184037220040391 kg.CO2eq/year\n"
     ]
    },
    {
     "name": "stdout",
     "output_type": "stream",
     "text": [
      "[CV] END criterion=gini, max_depth=10, min_samples_leaf=1, min_samples_split=2, n_estimators=200; total time=  14.7s\n",
      "[CV] END criterion=gini, max_depth=10, min_samples_leaf=1, min_samples_split=10, n_estimators=100; total time=   7.8s\n"
     ]
    },
    {
     "name": "stderr",
     "output_type": "stream",
     "text": [
      "[codecarbon INFO @ 18:09:43] Energy consumed for RAM : 0.000711 kWh. RAM Power : 3.0 W\n",
      "[codecarbon INFO @ 18:09:43] Energy consumed for all CPUs : 0.001187 kWh. Total CPU Power : 5.0 W\n",
      "[codecarbon INFO @ 18:09:43] 0.001898 kWh of electricity used since the beginning.\n"
     ]
    },
    {
     "name": "stdout",
     "output_type": "stream",
     "text": [
      "[CV] END criterion=gini, max_depth=10, min_samples_leaf=1, min_samples_split=10, n_estimators=100; total time=   7.2s\n",
      "[CV] END criterion=gini, max_depth=10, min_samples_leaf=1, min_samples_split=10, n_estimators=100; total time=   7.1s\n"
     ]
    },
    {
     "name": "stderr",
     "output_type": "stream",
     "text": [
      "[codecarbon INFO @ 18:09:58] Energy consumed for RAM : 0.000724 kWh. RAM Power : 3.0 W\n",
      "[codecarbon INFO @ 18:09:58] Energy consumed for all CPUs : 0.001208 kWh. Total CPU Power : 5.0 W\n",
      "[codecarbon INFO @ 18:09:58] 0.001931 kWh of electricity used since the beginning.\n"
     ]
    },
    {
     "name": "stdout",
     "output_type": "stream",
     "text": [
      "[CV] END criterion=gini, max_depth=10, min_samples_leaf=1, min_samples_split=10, n_estimators=100; total time=   7.2s\n",
      "[CV] END criterion=gini, max_depth=10, min_samples_leaf=1, min_samples_split=10, n_estimators=100; total time=   7.2s\n"
     ]
    },
    {
     "name": "stderr",
     "output_type": "stream",
     "text": [
      "[codecarbon INFO @ 18:10:13] Energy consumed for RAM : 0.000736 kWh. RAM Power : 3.0 W\n",
      "[codecarbon INFO @ 18:10:13] Energy consumed for all CPUs : 0.001228 kWh. Total CPU Power : 5.0 W\n",
      "[codecarbon INFO @ 18:10:13] 0.001965 kWh of electricity used since the beginning.\n"
     ]
    },
    {
     "name": "stdout",
     "output_type": "stream",
     "text": [
      "[CV] END criterion=gini, max_depth=10, min_samples_leaf=1, min_samples_split=10, n_estimators=200; total time=  14.5s\n"
     ]
    },
    {
     "name": "stderr",
     "output_type": "stream",
     "text": [
      "[codecarbon INFO @ 18:10:28] Energy consumed for RAM : 0.000749 kWh. RAM Power : 3.0 W\n",
      "[codecarbon INFO @ 18:10:28] Energy consumed for all CPUs : 0.001249 kWh. Total CPU Power : 5.0 W\n",
      "[codecarbon INFO @ 18:10:28] 0.001998 kWh of electricity used since the beginning.\n"
     ]
    },
    {
     "name": "stdout",
     "output_type": "stream",
     "text": [
      "[CV] END criterion=gini, max_depth=10, min_samples_leaf=1, min_samples_split=10, n_estimators=200; total time=  15.4s\n"
     ]
    },
    {
     "name": "stderr",
     "output_type": "stream",
     "text": [
      "[codecarbon INFO @ 18:10:43] Energy consumed for RAM : 0.000761 kWh. RAM Power : 3.0 W\n",
      "[codecarbon INFO @ 18:10:43] Energy consumed for all CPUs : 0.001270 kWh. Total CPU Power : 5.0 W\n",
      "[codecarbon INFO @ 18:10:43] 0.002032 kWh of electricity used since the beginning.\n"
     ]
    },
    {
     "name": "stdout",
     "output_type": "stream",
     "text": [
      "[CV] END criterion=gini, max_depth=10, min_samples_leaf=1, min_samples_split=10, n_estimators=200; total time=  15.4s\n"
     ]
    },
    {
     "name": "stderr",
     "output_type": "stream",
     "text": [
      "[codecarbon INFO @ 18:10:58] Energy consumed for RAM : 0.000774 kWh. RAM Power : 3.0 W\n",
      "[codecarbon INFO @ 18:10:58] Energy consumed for all CPUs : 0.001291 kWh. Total CPU Power : 5.0 W\n",
      "[codecarbon INFO @ 18:10:58] 0.002065 kWh of electricity used since the beginning.\n"
     ]
    },
    {
     "name": "stdout",
     "output_type": "stream",
     "text": [
      "[CV] END criterion=gini, max_depth=10, min_samples_leaf=1, min_samples_split=10, n_estimators=200; total time=  15.3s\n"
     ]
    },
    {
     "name": "stderr",
     "output_type": "stream",
     "text": [
      "[codecarbon INFO @ 18:11:13] Energy consumed for RAM : 0.000786 kWh. RAM Power : 3.0 W\n",
      "[codecarbon INFO @ 18:11:13] Energy consumed for all CPUs : 0.001312 kWh. Total CPU Power : 5.0 W\n",
      "[codecarbon INFO @ 18:11:13] 0.002098 kWh of electricity used since the beginning.\n"
     ]
    },
    {
     "name": "stdout",
     "output_type": "stream",
     "text": [
      "[CV] END criterion=gini, max_depth=10, min_samples_leaf=1, min_samples_split=10, n_estimators=200; total time=  14.0s\n"
     ]
    },
    {
     "name": "stderr",
     "output_type": "stream",
     "text": [
      "[codecarbon INFO @ 18:11:28] Energy consumed for RAM : 0.000799 kWh. RAM Power : 3.0 W\n",
      "[codecarbon INFO @ 18:11:28] Energy consumed for all CPUs : 0.001333 kWh. Total CPU Power : 5.0 W\n",
      "[codecarbon INFO @ 18:11:28] 0.002131 kWh of electricity used since the beginning.\n",
      "[codecarbon INFO @ 18:11:28] 0.000386 g.CO2eq/s mean an estimation of 12.186544336666657 kg.CO2eq/year\n"
     ]
    },
    {
     "name": "stdout",
     "output_type": "stream",
     "text": [
      "[CV] END criterion=gini, max_depth=10, min_samples_leaf=5, min_samples_split=2, n_estimators=100; total time=   7.0s\n",
      "[CV] END criterion=gini, max_depth=10, min_samples_leaf=5, min_samples_split=2, n_estimators=100; total time=   7.0s\n"
     ]
    },
    {
     "name": "stderr",
     "output_type": "stream",
     "text": [
      "[codecarbon INFO @ 18:11:43] Energy consumed for RAM : 0.000811 kWh. RAM Power : 3.0 W\n",
      "[codecarbon INFO @ 18:11:43] Energy consumed for all CPUs : 0.001353 kWh. Total CPU Power : 5.0 W\n",
      "[codecarbon INFO @ 18:11:44] 0.002165 kWh of electricity used since the beginning.\n"
     ]
    },
    {
     "name": "stdout",
     "output_type": "stream",
     "text": [
      "[CV] END criterion=gini, max_depth=10, min_samples_leaf=5, min_samples_split=2, n_estimators=100; total time=   8.0s\n",
      "[CV] END criterion=gini, max_depth=10, min_samples_leaf=5, min_samples_split=2, n_estimators=100; total time=   8.4s\n"
     ]
    },
    {
     "name": "stderr",
     "output_type": "stream",
     "text": [
      "[codecarbon INFO @ 18:11:58] Energy consumed for RAM : 0.000824 kWh. RAM Power : 3.0 W\n",
      "[codecarbon INFO @ 18:11:58] Energy consumed for all CPUs : 0.001374 kWh. Total CPU Power : 5.0 W\n",
      "[codecarbon INFO @ 18:11:58] 0.002198 kWh of electricity used since the beginning.\n"
     ]
    },
    {
     "name": "stdout",
     "output_type": "stream",
     "text": [
      "[CV] END criterion=gini, max_depth=10, min_samples_leaf=5, min_samples_split=2, n_estimators=100; total time=   8.0s\n"
     ]
    },
    {
     "name": "stderr",
     "output_type": "stream",
     "text": [
      "[codecarbon INFO @ 18:12:13] Energy consumed for RAM : 0.000836 kWh. RAM Power : 3.0 W\n",
      "[codecarbon INFO @ 18:12:13] Energy consumed for all CPUs : 0.001395 kWh. Total CPU Power : 5.0 W\n",
      "[codecarbon INFO @ 18:12:13] 0.002231 kWh of electricity used since the beginning.\n"
     ]
    },
    {
     "name": "stdout",
     "output_type": "stream",
     "text": [
      "[CV] END criterion=gini, max_depth=10, min_samples_leaf=5, min_samples_split=2, n_estimators=200; total time=  14.8s\n"
     ]
    },
    {
     "name": "stderr",
     "output_type": "stream",
     "text": [
      "[codecarbon INFO @ 18:12:28] Energy consumed for RAM : 0.000849 kWh. RAM Power : 3.0 W\n",
      "[codecarbon INFO @ 18:12:28] Energy consumed for all CPUs : 0.001416 kWh. Total CPU Power : 5.0 W\n",
      "[codecarbon INFO @ 18:12:28] 0.002265 kWh of electricity used since the beginning.\n"
     ]
    },
    {
     "name": "stdout",
     "output_type": "stream",
     "text": [
      "[CV] END criterion=gini, max_depth=10, min_samples_leaf=5, min_samples_split=2, n_estimators=200; total time=  14.8s\n"
     ]
    },
    {
     "name": "stderr",
     "output_type": "stream",
     "text": [
      "[codecarbon INFO @ 18:12:43] Energy consumed for RAM : 0.000861 kWh. RAM Power : 3.0 W\n",
      "[codecarbon INFO @ 18:12:43] Energy consumed for all CPUs : 0.001437 kWh. Total CPU Power : 5.0 W\n",
      "[codecarbon INFO @ 18:12:43] 0.002298 kWh of electricity used since the beginning.\n"
     ]
    },
    {
     "name": "stdout",
     "output_type": "stream",
     "text": [
      "[CV] END criterion=gini, max_depth=10, min_samples_leaf=5, min_samples_split=2, n_estimators=200; total time=  15.2s\n"
     ]
    },
    {
     "name": "stderr",
     "output_type": "stream",
     "text": [
      "[codecarbon INFO @ 18:12:58] Energy consumed for RAM : 0.000874 kWh. RAM Power : 3.0 W\n",
      "[codecarbon INFO @ 18:12:58] Energy consumed for all CPUs : 0.001457 kWh. Total CPU Power : 5.0 W\n",
      "[codecarbon INFO @ 18:12:58] 0.002331 kWh of electricity used since the beginning.\n"
     ]
    },
    {
     "name": "stdout",
     "output_type": "stream",
     "text": [
      "[CV] END criterion=gini, max_depth=10, min_samples_leaf=5, min_samples_split=2, n_estimators=200; total time=  15.0s\n"
     ]
    },
    {
     "name": "stderr",
     "output_type": "stream",
     "text": [
      "[codecarbon INFO @ 18:13:13] Energy consumed for RAM : 0.000886 kWh. RAM Power : 3.0 W\n",
      "[codecarbon INFO @ 18:13:13] Energy consumed for all CPUs : 0.001478 kWh. Total CPU Power : 5.0 W\n",
      "[codecarbon INFO @ 18:13:14] 0.002365 kWh of electricity used since the beginning.\n"
     ]
    },
    {
     "name": "stdout",
     "output_type": "stream",
     "text": [
      "[CV] END criterion=gini, max_depth=10, min_samples_leaf=5, min_samples_split=2, n_estimators=200; total time=  15.0s\n",
      "[CV] END criterion=gini, max_depth=10, min_samples_leaf=5, min_samples_split=10, n_estimators=100; total time=   7.2s\n"
     ]
    },
    {
     "name": "stderr",
     "output_type": "stream",
     "text": [
      "[codecarbon INFO @ 18:13:28] Energy consumed for RAM : 0.000899 kWh. RAM Power : 3.0 W\n",
      "[codecarbon INFO @ 18:13:29] Energy consumed for all CPUs : 0.001499 kWh. Total CPU Power : 5.0 W\n",
      "[codecarbon INFO @ 18:13:29] 0.002398 kWh of electricity used since the beginning.\n",
      "[codecarbon INFO @ 18:13:29] 0.000386 g.CO2eq/s mean an estimation of 12.179716447703493 kg.CO2eq/year\n"
     ]
    },
    {
     "name": "stdout",
     "output_type": "stream",
     "text": [
      "[CV] END criterion=gini, max_depth=10, min_samples_leaf=5, min_samples_split=10, n_estimators=100; total time=   7.2s\n",
      "[CV] END criterion=gini, max_depth=10, min_samples_leaf=5, min_samples_split=10, n_estimators=100; total time=   7.4s\n"
     ]
    },
    {
     "name": "stderr",
     "output_type": "stream",
     "text": [
      "[codecarbon INFO @ 18:13:44] Energy consumed for RAM : 0.000911 kWh. RAM Power : 3.0 W\n",
      "[codecarbon INFO @ 18:13:44] Energy consumed for all CPUs : 0.001520 kWh. Total CPU Power : 5.0 W\n",
      "[codecarbon INFO @ 18:13:44] 0.002431 kWh of electricity used since the beginning.\n"
     ]
    },
    {
     "name": "stdout",
     "output_type": "stream",
     "text": [
      "[CV] END criterion=gini, max_depth=10, min_samples_leaf=5, min_samples_split=10, n_estimators=100; total time=   7.2s\n",
      "[CV] END criterion=gini, max_depth=10, min_samples_leaf=5, min_samples_split=10, n_estimators=100; total time=   7.1s\n"
     ]
    },
    {
     "name": "stderr",
     "output_type": "stream",
     "text": [
      "[codecarbon INFO @ 18:13:59] Energy consumed for RAM : 0.000924 kWh. RAM Power : 3.0 W\n",
      "[codecarbon INFO @ 18:13:59] Energy consumed for all CPUs : 0.001541 kWh. Total CPU Power : 5.0 W\n",
      "[codecarbon INFO @ 18:13:59] 0.002464 kWh of electricity used since the beginning.\n"
     ]
    },
    {
     "name": "stdout",
     "output_type": "stream",
     "text": [
      "[CV] END criterion=gini, max_depth=10, min_samples_leaf=5, min_samples_split=10, n_estimators=200; total time=  14.3s\n"
     ]
    },
    {
     "name": "stderr",
     "output_type": "stream",
     "text": [
      "[codecarbon INFO @ 18:14:14] Energy consumed for RAM : 0.000936 kWh. RAM Power : 3.0 W\n",
      "[codecarbon INFO @ 18:14:14] Energy consumed for all CPUs : 0.001562 kWh. Total CPU Power : 5.0 W\n",
      "[codecarbon INFO @ 18:14:14] 0.002498 kWh of electricity used since the beginning.\n"
     ]
    },
    {
     "name": "stdout",
     "output_type": "stream",
     "text": [
      "[CV] END criterion=gini, max_depth=10, min_samples_leaf=5, min_samples_split=10, n_estimators=200; total time=  14.1s\n"
     ]
    },
    {
     "name": "stderr",
     "output_type": "stream",
     "text": [
      "[codecarbon INFO @ 18:14:29] Energy consumed for RAM : 0.000949 kWh. RAM Power : 3.0 W\n",
      "[codecarbon INFO @ 18:14:29] Energy consumed for all CPUs : 0.001582 kWh. Total CPU Power : 5.0 W\n",
      "[codecarbon INFO @ 18:14:29] 0.002531 kWh of electricity used since the beginning.\n"
     ]
    },
    {
     "name": "stdout",
     "output_type": "stream",
     "text": [
      "[CV] END criterion=gini, max_depth=10, min_samples_leaf=5, min_samples_split=10, n_estimators=200; total time=  14.4s\n"
     ]
    },
    {
     "name": "stderr",
     "output_type": "stream",
     "text": [
      "[codecarbon INFO @ 18:14:44] Energy consumed for RAM : 0.000961 kWh. RAM Power : 3.0 W\n",
      "[codecarbon INFO @ 18:14:44] Energy consumed for all CPUs : 0.001603 kWh. Total CPU Power : 5.0 W\n",
      "[codecarbon INFO @ 18:14:44] 0.002564 kWh of electricity used since the beginning.\n"
     ]
    },
    {
     "name": "stdout",
     "output_type": "stream",
     "text": [
      "[CV] END criterion=gini, max_depth=10, min_samples_leaf=5, min_samples_split=10, n_estimators=200; total time=  14.1s\n"
     ]
    },
    {
     "name": "stderr",
     "output_type": "stream",
     "text": [
      "[codecarbon INFO @ 18:14:59] Energy consumed for RAM : 0.000974 kWh. RAM Power : 3.0 W\n",
      "[codecarbon INFO @ 18:14:59] Energy consumed for all CPUs : 0.001624 kWh. Total CPU Power : 5.0 W\n",
      "[codecarbon INFO @ 18:14:59] 0.002598 kWh of electricity used since the beginning.\n"
     ]
    },
    {
     "name": "stdout",
     "output_type": "stream",
     "text": [
      "[CV] END criterion=gini, max_depth=10, min_samples_leaf=5, min_samples_split=10, n_estimators=200; total time=  14.2s\n"
     ]
    },
    {
     "name": "stderr",
     "output_type": "stream",
     "text": [
      "[codecarbon INFO @ 18:15:14] Energy consumed for RAM : 0.000986 kWh. RAM Power : 3.0 W\n",
      "[codecarbon INFO @ 18:15:14] Energy consumed for all CPUs : 0.001645 kWh. Total CPU Power : 5.0 W\n",
      "[codecarbon INFO @ 18:15:14] 0.002631 kWh of electricity used since the beginning.\n"
     ]
    },
    {
     "name": "stdout",
     "output_type": "stream",
     "text": [
      "[CV] END criterion=gini, max_depth=20, min_samples_leaf=1, min_samples_split=2, n_estimators=100; total time=  11.7s\n"
     ]
    },
    {
     "name": "stderr",
     "output_type": "stream",
     "text": [
      "[codecarbon INFO @ 18:15:29] Energy consumed for RAM : 0.000999 kWh. RAM Power : 3.0 W\n",
      "[codecarbon INFO @ 18:15:29] Energy consumed for all CPUs : 0.001666 kWh. Total CPU Power : 5.0 W\n",
      "[codecarbon INFO @ 18:15:29] 0.002664 kWh of electricity used since the beginning.\n",
      "[codecarbon INFO @ 18:15:29] 0.000386 g.CO2eq/s mean an estimation of 12.182337362971085 kg.CO2eq/year\n"
     ]
    },
    {
     "name": "stdout",
     "output_type": "stream",
     "text": [
      "[CV] END criterion=gini, max_depth=20, min_samples_leaf=1, min_samples_split=2, n_estimators=100; total time=  11.7s\n",
      "[CV] END criterion=gini, max_depth=20, min_samples_leaf=1, min_samples_split=2, n_estimators=100; total time=  11.8s\n"
     ]
    },
    {
     "name": "stderr",
     "output_type": "stream",
     "text": [
      "[codecarbon INFO @ 18:15:44] Energy consumed for RAM : 0.001011 kWh. RAM Power : 3.0 W\n",
      "[codecarbon INFO @ 18:15:44] Energy consumed for all CPUs : 0.001687 kWh. Total CPU Power : 5.0 W\n",
      "[codecarbon INFO @ 18:15:44] 0.002698 kWh of electricity used since the beginning.\n"
     ]
    },
    {
     "name": "stdout",
     "output_type": "stream",
     "text": [
      "[CV] END criterion=gini, max_depth=20, min_samples_leaf=1, min_samples_split=2, n_estimators=100; total time=  11.7s\n"
     ]
    },
    {
     "name": "stderr",
     "output_type": "stream",
     "text": [
      "[codecarbon INFO @ 18:15:59] Energy consumed for RAM : 0.001024 kWh. RAM Power : 3.0 W\n",
      "[codecarbon INFO @ 18:15:59] Energy consumed for all CPUs : 0.001707 kWh. Total CPU Power : 5.0 W\n",
      "[codecarbon INFO @ 18:15:59] 0.002731 kWh of electricity used since the beginning.\n"
     ]
    },
    {
     "name": "stdout",
     "output_type": "stream",
     "text": [
      "[CV] END criterion=gini, max_depth=20, min_samples_leaf=1, min_samples_split=2, n_estimators=100; total time=  12.0s\n"
     ]
    },
    {
     "name": "stderr",
     "output_type": "stream",
     "text": [
      "[codecarbon INFO @ 18:16:14] Energy consumed for RAM : 0.001036 kWh. RAM Power : 3.0 W\n",
      "[codecarbon INFO @ 18:16:14] Energy consumed for all CPUs : 0.001728 kWh. Total CPU Power : 5.0 W\n",
      "[codecarbon INFO @ 18:16:14] 0.002764 kWh of electricity used since the beginning.\n"
     ]
    },
    {
     "name": "stdout",
     "output_type": "stream",
     "text": [
      "[CV] END criterion=gini, max_depth=20, min_samples_leaf=1, min_samples_split=2, n_estimators=200; total time=  24.2s\n"
     ]
    },
    {
     "name": "stderr",
     "output_type": "stream",
     "text": [
      "[codecarbon INFO @ 18:16:29] Energy consumed for RAM : 0.001049 kWh. RAM Power : 3.0 W\n",
      "[codecarbon INFO @ 18:16:29] Energy consumed for all CPUs : 0.001749 kWh. Total CPU Power : 5.0 W\n",
      "[codecarbon INFO @ 18:16:29] 0.002797 kWh of electricity used since the beginning.\n",
      "[codecarbon INFO @ 18:16:44] Energy consumed for RAM : 0.001061 kWh. RAM Power : 3.0 W\n",
      "[codecarbon INFO @ 18:16:44] Energy consumed for all CPUs : 0.001770 kWh. Total CPU Power : 5.0 W\n",
      "[codecarbon INFO @ 18:16:44] 0.002831 kWh of electricity used since the beginning.\n"
     ]
    },
    {
     "name": "stdout",
     "output_type": "stream",
     "text": [
      "[CV] END criterion=gini, max_depth=20, min_samples_leaf=1, min_samples_split=2, n_estimators=200; total time=  23.8s\n"
     ]
    },
    {
     "name": "stderr",
     "output_type": "stream",
     "text": [
      "[codecarbon INFO @ 18:16:59] Energy consumed for RAM : 0.001073 kWh. RAM Power : 3.0 W\n",
      "[codecarbon INFO @ 18:16:59] Energy consumed for all CPUs : 0.001791 kWh. Total CPU Power : 5.0 W\n",
      "[codecarbon INFO @ 18:16:59] 0.002864 kWh of electricity used since the beginning.\n",
      "[codecarbon INFO @ 18:17:14] Energy consumed for RAM : 0.001086 kWh. RAM Power : 3.0 W\n",
      "[codecarbon INFO @ 18:17:14] Energy consumed for all CPUs : 0.001811 kWh. Total CPU Power : 5.0 W\n",
      "[codecarbon INFO @ 18:17:14] 0.002897 kWh of electricity used since the beginning.\n"
     ]
    },
    {
     "name": "stdout",
     "output_type": "stream",
     "text": [
      "[CV] END criterion=gini, max_depth=20, min_samples_leaf=1, min_samples_split=2, n_estimators=200; total time=  22.7s\n"
     ]
    },
    {
     "name": "stderr",
     "output_type": "stream",
     "text": [
      "[codecarbon INFO @ 18:17:29] Energy consumed for RAM : 0.001098 kWh. RAM Power : 3.0 W\n",
      "[codecarbon INFO @ 18:17:29] Energy consumed for all CPUs : 0.001832 kWh. Total CPU Power : 5.0 W\n",
      "[codecarbon INFO @ 18:17:29] 0.002931 kWh of electricity used since the beginning.\n",
      "[codecarbon INFO @ 18:17:29] 0.000386 g.CO2eq/s mean an estimation of 12.173316809572723 kg.CO2eq/year\n"
     ]
    },
    {
     "name": "stdout",
     "output_type": "stream",
     "text": [
      "[CV] END criterion=gini, max_depth=20, min_samples_leaf=1, min_samples_split=2, n_estimators=200; total time=  22.6s\n"
     ]
    },
    {
     "name": "stderr",
     "output_type": "stream",
     "text": [
      "[codecarbon INFO @ 18:17:44] Energy consumed for RAM : 0.001111 kWh. RAM Power : 3.0 W\n",
      "[codecarbon INFO @ 18:17:44] Energy consumed for all CPUs : 0.001853 kWh. Total CPU Power : 5.0 W\n",
      "[codecarbon INFO @ 18:17:44] 0.002964 kWh of electricity used since the beginning.\n",
      "[codecarbon INFO @ 18:17:59] Energy consumed for RAM : 0.001123 kWh. RAM Power : 3.0 W\n",
      "[codecarbon INFO @ 18:17:59] Energy consumed for all CPUs : 0.001874 kWh. Total CPU Power : 5.0 W\n",
      "[codecarbon INFO @ 18:17:59] 0.002997 kWh of electricity used since the beginning.\n"
     ]
    },
    {
     "name": "stdout",
     "output_type": "stream",
     "text": [
      "[CV] END criterion=gini, max_depth=20, min_samples_leaf=1, min_samples_split=2, n_estimators=200; total time=  22.8s\n",
      "[CV] END criterion=gini, max_depth=20, min_samples_leaf=1, min_samples_split=10, n_estimators=100; total time=  12.1s\n"
     ]
    },
    {
     "name": "stderr",
     "output_type": "stream",
     "text": [
      "[codecarbon INFO @ 18:18:14] Energy consumed for RAM : 0.001136 kWh. RAM Power : 3.0 W\n",
      "[codecarbon INFO @ 18:18:14] Energy consumed for all CPUs : 0.001895 kWh. Total CPU Power : 5.0 W\n",
      "[codecarbon INFO @ 18:18:14] 0.003031 kWh of electricity used since the beginning.\n"
     ]
    },
    {
     "name": "stdout",
     "output_type": "stream",
     "text": [
      "[CV] END criterion=gini, max_depth=20, min_samples_leaf=1, min_samples_split=10, n_estimators=100; total time=  11.3s\n"
     ]
    },
    {
     "name": "stderr",
     "output_type": "stream",
     "text": [
      "[codecarbon INFO @ 18:18:29] Energy consumed for RAM : 0.001148 kWh. RAM Power : 3.0 W\n",
      "[codecarbon INFO @ 18:18:29] Energy consumed for all CPUs : 0.001915 kWh. Total CPU Power : 5.0 W\n",
      "[codecarbon INFO @ 18:18:29] 0.003064 kWh of electricity used since the beginning.\n"
     ]
    },
    {
     "name": "stdout",
     "output_type": "stream",
     "text": [
      "[CV] END criterion=gini, max_depth=20, min_samples_leaf=1, min_samples_split=10, n_estimators=100; total time=  11.2s\n"
     ]
    },
    {
     "name": "stderr",
     "output_type": "stream",
     "text": [
      "[codecarbon INFO @ 18:18:44] Energy consumed for RAM : 0.001161 kWh. RAM Power : 3.0 W\n",
      "[codecarbon INFO @ 18:18:44] Energy consumed for all CPUs : 0.001936 kWh. Total CPU Power : 5.0 W\n",
      "[codecarbon INFO @ 18:18:44] 0.003097 kWh of electricity used since the beginning.\n"
     ]
    },
    {
     "name": "stdout",
     "output_type": "stream",
     "text": [
      "[CV] END criterion=gini, max_depth=20, min_samples_leaf=1, min_samples_split=10, n_estimators=100; total time=  11.6s\n",
      "[CV] END criterion=gini, max_depth=20, min_samples_leaf=1, min_samples_split=10, n_estimators=100; total time=  11.4s\n"
     ]
    },
    {
     "name": "stderr",
     "output_type": "stream",
     "text": [
      "[codecarbon INFO @ 18:18:59] Energy consumed for RAM : 0.001173 kWh. RAM Power : 3.0 W\n",
      "[codecarbon INFO @ 18:18:59] Energy consumed for all CPUs : 0.001957 kWh. Total CPU Power : 5.0 W\n",
      "[codecarbon INFO @ 18:18:59] 0.003131 kWh of electricity used since the beginning.\n",
      "[codecarbon INFO @ 18:19:14] Energy consumed for RAM : 0.001186 kWh. RAM Power : 3.0 W\n",
      "[codecarbon INFO @ 18:19:14] Energy consumed for all CPUs : 0.001978 kWh. Total CPU Power : 5.0 W\n",
      "[codecarbon INFO @ 18:19:14] 0.003164 kWh of electricity used since the beginning.\n"
     ]
    },
    {
     "name": "stdout",
     "output_type": "stream",
     "text": [
      "[CV] END criterion=gini, max_depth=20, min_samples_leaf=1, min_samples_split=10, n_estimators=200; total time=  22.7s\n"
     ]
    },
    {
     "name": "stderr",
     "output_type": "stream",
     "text": [
      "[codecarbon INFO @ 18:19:29] Energy consumed for RAM : 0.001198 kWh. RAM Power : 3.0 W\n",
      "[codecarbon INFO @ 18:19:29] Energy consumed for all CPUs : 0.001999 kWh. Total CPU Power : 5.0 W\n",
      "[codecarbon INFO @ 18:19:29] 0.003197 kWh of electricity used since the beginning.\n",
      "[codecarbon INFO @ 18:19:29] 0.000386 g.CO2eq/s mean an estimation of 12.18511015934268 kg.CO2eq/year\n"
     ]
    },
    {
     "name": "stdout",
     "output_type": "stream",
     "text": [
      "[CV] END criterion=gini, max_depth=20, min_samples_leaf=1, min_samples_split=10, n_estimators=200; total time=  22.4s\n"
     ]
    },
    {
     "name": "stderr",
     "output_type": "stream",
     "text": [
      "[codecarbon INFO @ 18:19:44] Energy consumed for RAM : 0.001211 kWh. RAM Power : 3.0 W\n",
      "[codecarbon INFO @ 18:19:44] Energy consumed for all CPUs : 0.002020 kWh. Total CPU Power : 5.0 W\n",
      "[codecarbon INFO @ 18:19:44] 0.003230 kWh of electricity used since the beginning.\n",
      "[codecarbon INFO @ 18:19:59] Energy consumed for RAM : 0.001223 kWh. RAM Power : 3.0 W\n",
      "[codecarbon INFO @ 18:19:59] Energy consumed for all CPUs : 0.002040 kWh. Total CPU Power : 5.0 W\n",
      "[codecarbon INFO @ 18:19:59] 0.003264 kWh of electricity used since the beginning.\n"
     ]
    },
    {
     "name": "stdout",
     "output_type": "stream",
     "text": [
      "[CV] END criterion=gini, max_depth=20, min_samples_leaf=1, min_samples_split=10, n_estimators=200; total time=  22.7s\n"
     ]
    },
    {
     "name": "stderr",
     "output_type": "stream",
     "text": [
      "[codecarbon INFO @ 18:20:14] Energy consumed for RAM : 0.001236 kWh. RAM Power : 3.0 W\n",
      "[codecarbon INFO @ 18:20:14] Energy consumed for all CPUs : 0.002061 kWh. Total CPU Power : 5.0 W\n",
      "[codecarbon INFO @ 18:20:14] 0.003297 kWh of electricity used since the beginning.\n"
     ]
    },
    {
     "name": "stdout",
     "output_type": "stream",
     "text": [
      "[CV] END criterion=gini, max_depth=20, min_samples_leaf=1, min_samples_split=10, n_estimators=200; total time=  22.1s\n"
     ]
    },
    {
     "name": "stderr",
     "output_type": "stream",
     "text": [
      "[codecarbon INFO @ 18:20:29] Energy consumed for RAM : 0.001248 kWh. RAM Power : 3.0 W\n",
      "[codecarbon INFO @ 18:20:29] Energy consumed for all CPUs : 0.002082 kWh. Total CPU Power : 5.0 W\n",
      "[codecarbon INFO @ 18:20:29] 0.003330 kWh of electricity used since the beginning.\n",
      "[codecarbon INFO @ 18:20:44] Energy consumed for RAM : 0.001261 kWh. RAM Power : 3.0 W\n",
      "[codecarbon INFO @ 18:20:44] Energy consumed for all CPUs : 0.002103 kWh. Total CPU Power : 5.0 W\n",
      "[codecarbon INFO @ 18:20:44] 0.003364 kWh of electricity used since the beginning.\n"
     ]
    },
    {
     "name": "stdout",
     "output_type": "stream",
     "text": [
      "[CV] END criterion=gini, max_depth=20, min_samples_leaf=1, min_samples_split=10, n_estimators=200; total time=  22.3s\n"
     ]
    },
    {
     "name": "stderr",
     "output_type": "stream",
     "text": [
      "[codecarbon INFO @ 18:20:59] Energy consumed for RAM : 0.001273 kWh. RAM Power : 3.0 W\n",
      "[codecarbon INFO @ 18:20:59] Energy consumed for all CPUs : 0.002124 kWh. Total CPU Power : 5.0 W\n",
      "[codecarbon INFO @ 18:20:59] 0.003397 kWh of electricity used since the beginning.\n"
     ]
    },
    {
     "name": "stdout",
     "output_type": "stream",
     "text": [
      "[CV] END criterion=gini, max_depth=20, min_samples_leaf=5, min_samples_split=2, n_estimators=100; total time=  11.0s\n",
      "[CV] END criterion=gini, max_depth=20, min_samples_leaf=5, min_samples_split=2, n_estimators=100; total time=  10.8s\n"
     ]
    },
    {
     "name": "stderr",
     "output_type": "stream",
     "text": [
      "[codecarbon INFO @ 18:21:14] Energy consumed for RAM : 0.001286 kWh. RAM Power : 3.0 W\n",
      "[codecarbon INFO @ 18:21:14] Energy consumed for all CPUs : 0.002145 kWh. Total CPU Power : 5.0 W\n",
      "[codecarbon INFO @ 18:21:14] 0.003430 kWh of electricity used since the beginning.\n"
     ]
    },
    {
     "name": "stdout",
     "output_type": "stream",
     "text": [
      "[CV] END criterion=gini, max_depth=20, min_samples_leaf=5, min_samples_split=2, n_estimators=100; total time=  11.2s\n"
     ]
    },
    {
     "name": "stderr",
     "output_type": "stream",
     "text": [
      "[codecarbon INFO @ 18:21:29] Energy consumed for RAM : 0.001298 kWh. RAM Power : 3.0 W\n",
      "[codecarbon INFO @ 18:21:29] Energy consumed for all CPUs : 0.002165 kWh. Total CPU Power : 5.0 W\n",
      "[codecarbon INFO @ 18:21:29] 0.003464 kWh of electricity used since the beginning.\n",
      "[codecarbon INFO @ 18:21:29] 0.000386 g.CO2eq/s mean an estimation of 12.181162167526413 kg.CO2eq/year\n"
     ]
    },
    {
     "name": "stdout",
     "output_type": "stream",
     "text": [
      "[CV] END criterion=gini, max_depth=20, min_samples_leaf=5, min_samples_split=2, n_estimators=100; total time=  11.2s\n"
     ]
    },
    {
     "name": "stderr",
     "output_type": "stream",
     "text": [
      "[codecarbon INFO @ 18:21:44] Energy consumed for RAM : 0.001311 kWh. RAM Power : 3.0 W\n",
      "[codecarbon INFO @ 18:21:44] Energy consumed for all CPUs : 0.002186 kWh. Total CPU Power : 5.0 W\n",
      "[codecarbon INFO @ 18:21:44] 0.003497 kWh of electricity used since the beginning.\n"
     ]
    },
    {
     "name": "stdout",
     "output_type": "stream",
     "text": [
      "[CV] END criterion=gini, max_depth=20, min_samples_leaf=5, min_samples_split=2, n_estimators=100; total time=  10.9s\n"
     ]
    },
    {
     "name": "stderr",
     "output_type": "stream",
     "text": [
      "[codecarbon INFO @ 18:21:59] Energy consumed for RAM : 0.001323 kWh. RAM Power : 3.0 W\n",
      "[codecarbon INFO @ 18:21:59] Energy consumed for all CPUs : 0.002207 kWh. Total CPU Power : 5.0 W\n",
      "[codecarbon INFO @ 18:21:59] 0.003530 kWh of electricity used since the beginning.\n"
     ]
    },
    {
     "name": "stdout",
     "output_type": "stream",
     "text": [
      "[CV] END criterion=gini, max_depth=20, min_samples_leaf=5, min_samples_split=2, n_estimators=200; total time=  21.4s\n"
     ]
    },
    {
     "name": "stderr",
     "output_type": "stream",
     "text": [
      "[codecarbon INFO @ 18:22:14] Energy consumed for RAM : 0.001336 kWh. RAM Power : 3.0 W\n",
      "[codecarbon INFO @ 18:22:14] Energy consumed for all CPUs : 0.002228 kWh. Total CPU Power : 5.0 W\n",
      "[codecarbon INFO @ 18:22:14] 0.003563 kWh of electricity used since the beginning.\n"
     ]
    },
    {
     "name": "stdout",
     "output_type": "stream",
     "text": [
      "[CV] END criterion=gini, max_depth=20, min_samples_leaf=5, min_samples_split=2, n_estimators=200; total time=  21.4s\n"
     ]
    },
    {
     "name": "stderr",
     "output_type": "stream",
     "text": [
      "[codecarbon INFO @ 18:22:29] Energy consumed for RAM : 0.001348 kWh. RAM Power : 3.0 W\n",
      "[codecarbon INFO @ 18:22:29] Energy consumed for all CPUs : 0.002249 kWh. Total CPU Power : 5.0 W\n",
      "[codecarbon INFO @ 18:22:29] 0.003597 kWh of electricity used since the beginning.\n",
      "[codecarbon INFO @ 18:22:44] Energy consumed for RAM : 0.001361 kWh. RAM Power : 3.0 W\n",
      "[codecarbon INFO @ 18:22:44] Energy consumed for all CPUs : 0.002269 kWh. Total CPU Power : 5.0 W\n",
      "[codecarbon INFO @ 18:22:44] 0.003630 kWh of electricity used since the beginning.\n"
     ]
    },
    {
     "name": "stdout",
     "output_type": "stream",
     "text": [
      "[CV] END criterion=gini, max_depth=20, min_samples_leaf=5, min_samples_split=2, n_estimators=200; total time=  21.2s\n"
     ]
    },
    {
     "name": "stderr",
     "output_type": "stream",
     "text": [
      "[codecarbon INFO @ 18:22:59] Energy consumed for RAM : 0.001373 kWh. RAM Power : 3.0 W\n",
      "[codecarbon INFO @ 18:22:59] Energy consumed for all CPUs : 0.002290 kWh. Total CPU Power : 5.0 W\n",
      "[codecarbon INFO @ 18:22:59] 0.003663 kWh of electricity used since the beginning.\n"
     ]
    },
    {
     "name": "stdout",
     "output_type": "stream",
     "text": [
      "[CV] END criterion=gini, max_depth=20, min_samples_leaf=5, min_samples_split=2, n_estimators=200; total time=  21.4s\n"
     ]
    },
    {
     "name": "stderr",
     "output_type": "stream",
     "text": [
      "[codecarbon INFO @ 18:23:14] Energy consumed for RAM : 0.001386 kWh. RAM Power : 3.0 W\n",
      "[codecarbon INFO @ 18:23:14] Energy consumed for all CPUs : 0.002311 kWh. Total CPU Power : 5.0 W\n",
      "[codecarbon INFO @ 18:23:14] 0.003697 kWh of electricity used since the beginning.\n",
      "[codecarbon INFO @ 18:23:29] Energy consumed for RAM : 0.001398 kWh. RAM Power : 3.0 W\n",
      "[codecarbon INFO @ 18:23:29] Energy consumed for all CPUs : 0.002332 kWh. Total CPU Power : 5.0 W\n",
      "[codecarbon INFO @ 18:23:29] 0.003730 kWh of electricity used since the beginning.\n",
      "[codecarbon INFO @ 18:23:29] 0.000386 g.CO2eq/s mean an estimation of 12.184238952906425 kg.CO2eq/year\n"
     ]
    },
    {
     "name": "stdout",
     "output_type": "stream",
     "text": [
      "[CV] END criterion=gini, max_depth=20, min_samples_leaf=5, min_samples_split=2, n_estimators=200; total time=  21.8s\n"
     ]
    },
    {
     "name": "stderr",
     "output_type": "stream",
     "text": [
      "[codecarbon INFO @ 18:23:44] Energy consumed for RAM : 0.001411 kWh. RAM Power : 3.0 W\n",
      "[codecarbon INFO @ 18:23:44] Energy consumed for all CPUs : 0.002353 kWh. Total CPU Power : 5.0 W\n"
     ]
    },
    {
     "name": "stdout",
     "output_type": "stream",
     "text": [
      "[CV] END criterion=gini, max_depth=20, min_samples_leaf=5, min_samples_split=10, n_estimators=100; total time=  11.5s\n"
     ]
    },
    {
     "name": "stderr",
     "output_type": "stream",
     "text": [
      "[codecarbon INFO @ 18:23:44] 0.003763 kWh of electricity used since the beginning.\n"
     ]
    },
    {
     "name": "stdout",
     "output_type": "stream",
     "text": [
      "[CV] END criterion=gini, max_depth=20, min_samples_leaf=5, min_samples_split=10, n_estimators=100; total time=  11.0s\n"
     ]
    },
    {
     "name": "stderr",
     "output_type": "stream",
     "text": [
      "[codecarbon INFO @ 18:23:59] Energy consumed for RAM : 0.001423 kWh. RAM Power : 3.0 W\n",
      "[codecarbon INFO @ 18:23:59] Energy consumed for all CPUs : 0.002374 kWh. Total CPU Power : 5.0 W\n",
      "[codecarbon INFO @ 18:23:59] 0.003797 kWh of electricity used since the beginning.\n"
     ]
    },
    {
     "name": "stdout",
     "output_type": "stream",
     "text": [
      "[CV] END criterion=gini, max_depth=20, min_samples_leaf=5, min_samples_split=10, n_estimators=100; total time=  11.1s\n"
     ]
    },
    {
     "name": "stderr",
     "output_type": "stream",
     "text": [
      "[codecarbon INFO @ 18:24:14] Energy consumed for RAM : 0.001435 kWh. RAM Power : 3.0 W\n",
      "[codecarbon INFO @ 18:24:14] Energy consumed for all CPUs : 0.002394 kWh. Total CPU Power : 5.0 W\n",
      "[codecarbon INFO @ 18:24:14] 0.003830 kWh of electricity used since the beginning.\n"
     ]
    },
    {
     "name": "stdout",
     "output_type": "stream",
     "text": [
      "[CV] END criterion=gini, max_depth=20, min_samples_leaf=5, min_samples_split=10, n_estimators=100; total time=  10.9s\n",
      "[CV] END criterion=gini, max_depth=20, min_samples_leaf=5, min_samples_split=10, n_estimators=100; total time=  10.9s\n"
     ]
    },
    {
     "name": "stderr",
     "output_type": "stream",
     "text": [
      "[codecarbon INFO @ 18:24:29] Energy consumed for RAM : 0.001448 kWh. RAM Power : 3.0 W\n",
      "[codecarbon INFO @ 18:24:29] Energy consumed for all CPUs : 0.002415 kWh. Total CPU Power : 5.0 W\n",
      "[codecarbon INFO @ 18:24:29] 0.003863 kWh of electricity used since the beginning.\n",
      "[codecarbon INFO @ 18:24:44] Energy consumed for RAM : 0.001460 kWh. RAM Power : 3.0 W\n",
      "[codecarbon INFO @ 18:24:44] Energy consumed for all CPUs : 0.002436 kWh. Total CPU Power : 5.0 W\n",
      "[codecarbon INFO @ 18:24:44] 0.003896 kWh of electricity used since the beginning.\n"
     ]
    },
    {
     "name": "stdout",
     "output_type": "stream",
     "text": [
      "[CV] END criterion=gini, max_depth=20, min_samples_leaf=5, min_samples_split=10, n_estimators=200; total time=  21.6s\n"
     ]
    },
    {
     "name": "stderr",
     "output_type": "stream",
     "text": [
      "[codecarbon INFO @ 18:24:59] Energy consumed for RAM : 0.001473 kWh. RAM Power : 3.0 W\n",
      "[codecarbon INFO @ 18:24:59] Energy consumed for all CPUs : 0.002457 kWh. Total CPU Power : 5.0 W\n",
      "[codecarbon INFO @ 18:24:59] 0.003930 kWh of electricity used since the beginning.\n"
     ]
    },
    {
     "name": "stdout",
     "output_type": "stream",
     "text": [
      "[CV] END criterion=gini, max_depth=20, min_samples_leaf=5, min_samples_split=10, n_estimators=200; total time=  21.5s\n"
     ]
    },
    {
     "name": "stderr",
     "output_type": "stream",
     "text": [
      "[codecarbon INFO @ 18:25:14] Energy consumed for RAM : 0.001485 kWh. RAM Power : 3.0 W\n",
      "[codecarbon INFO @ 18:25:14] Energy consumed for all CPUs : 0.002478 kWh. Total CPU Power : 5.0 W\n",
      "[codecarbon INFO @ 18:25:14] 0.003963 kWh of electricity used since the beginning.\n",
      "[codecarbon INFO @ 18:25:29] Energy consumed for RAM : 0.001498 kWh. RAM Power : 3.0 W\n",
      "[codecarbon INFO @ 18:25:29] Energy consumed for all CPUs : 0.002498 kWh. Total CPU Power : 5.0 W\n",
      "[codecarbon INFO @ 18:25:29] 0.003996 kWh of electricity used since the beginning.\n",
      "[codecarbon INFO @ 18:25:29] 0.000386 g.CO2eq/s mean an estimation of 12.167822305096818 kg.CO2eq/year\n"
     ]
    },
    {
     "name": "stdout",
     "output_type": "stream",
     "text": [
      "[CV] END criterion=gini, max_depth=20, min_samples_leaf=5, min_samples_split=10, n_estimators=200; total time=  21.2s\n"
     ]
    },
    {
     "name": "stderr",
     "output_type": "stream",
     "text": [
      "[codecarbon INFO @ 18:25:44] Energy consumed for RAM : 0.001510 kWh. RAM Power : 3.0 W\n",
      "[codecarbon INFO @ 18:25:44] Energy consumed for all CPUs : 0.002519 kWh. Total CPU Power : 5.0 W\n",
      "[codecarbon INFO @ 18:25:44] 0.004030 kWh of electricity used since the beginning.\n"
     ]
    },
    {
     "name": "stdout",
     "output_type": "stream",
     "text": [
      "[CV] END criterion=gini, max_depth=20, min_samples_leaf=5, min_samples_split=10, n_estimators=200; total time=  21.2s\n"
     ]
    },
    {
     "name": "stderr",
     "output_type": "stream",
     "text": [
      "[codecarbon INFO @ 18:25:59] Energy consumed for RAM : 0.001523 kWh. RAM Power : 3.0 W\n",
      "[codecarbon INFO @ 18:25:59] Energy consumed for all CPUs : 0.002540 kWh. Total CPU Power : 5.0 W\n",
      "[codecarbon INFO @ 18:25:59] 0.004063 kWh of electricity used since the beginning.\n",
      "[codecarbon INFO @ 18:26:14] Energy consumed for RAM : 0.001535 kWh. RAM Power : 3.0 W\n",
      "[codecarbon INFO @ 18:26:14] Energy consumed for all CPUs : 0.002561 kWh. Total CPU Power : 5.0 W\n",
      "[codecarbon INFO @ 18:26:14] 0.004096 kWh of electricity used since the beginning.\n"
     ]
    },
    {
     "name": "stdout",
     "output_type": "stream",
     "text": [
      "[CV] END criterion=gini, max_depth=20, min_samples_leaf=5, min_samples_split=10, n_estimators=200; total time=  21.7s\n"
     ]
    },
    {
     "name": "stderr",
     "output_type": "stream",
     "text": [
      "[codecarbon INFO @ 18:26:29] Energy consumed for RAM : 0.001548 kWh. RAM Power : 3.0 W\n",
      "[codecarbon INFO @ 18:26:29] Energy consumed for all CPUs : 0.002582 kWh. Total CPU Power : 5.0 W\n",
      "[codecarbon INFO @ 18:26:29] 0.004130 kWh of electricity used since the beginning.\n"
     ]
    },
    {
     "name": "stdout",
     "output_type": "stream",
     "text": [
      "[CV] END criterion=entropy, max_depth=None, min_samples_leaf=1, min_samples_split=2, n_estimators=100; total time=  15.2s\n"
     ]
    },
    {
     "name": "stderr",
     "output_type": "stream",
     "text": [
      "[codecarbon INFO @ 18:26:44] Energy consumed for RAM : 0.001560 kWh. RAM Power : 3.0 W\n",
      "[codecarbon INFO @ 18:26:44] Energy consumed for all CPUs : 0.002603 kWh. Total CPU Power : 5.0 W\n",
      "[codecarbon INFO @ 18:26:44] 0.004163 kWh of electricity used since the beginning.\n"
     ]
    },
    {
     "name": "stdout",
     "output_type": "stream",
     "text": [
      "[CV] END criterion=entropy, max_depth=None, min_samples_leaf=1, min_samples_split=2, n_estimators=100; total time=  15.4s\n"
     ]
    },
    {
     "name": "stderr",
     "output_type": "stream",
     "text": [
      "[codecarbon INFO @ 18:26:59] Energy consumed for RAM : 0.001573 kWh. RAM Power : 3.0 W\n",
      "[codecarbon INFO @ 18:26:59] Energy consumed for all CPUs : 0.002623 kWh. Total CPU Power : 5.0 W\n",
      "[codecarbon INFO @ 18:26:59] 0.004196 kWh of electricity used since the beginning.\n"
     ]
    },
    {
     "name": "stdout",
     "output_type": "stream",
     "text": [
      "[CV] END criterion=entropy, max_depth=None, min_samples_leaf=1, min_samples_split=2, n_estimators=100; total time=  15.2s\n"
     ]
    },
    {
     "name": "stderr",
     "output_type": "stream",
     "text": [
      "[codecarbon INFO @ 18:27:14] Energy consumed for RAM : 0.001585 kWh. RAM Power : 3.0 W\n",
      "[codecarbon INFO @ 18:27:14] Energy consumed for all CPUs : 0.002644 kWh. Total CPU Power : 5.0 W\n",
      "[codecarbon INFO @ 18:27:14] 0.004229 kWh of electricity used since the beginning.\n"
     ]
    },
    {
     "name": "stdout",
     "output_type": "stream",
     "text": [
      "[CV] END criterion=entropy, max_depth=None, min_samples_leaf=1, min_samples_split=2, n_estimators=100; total time=  15.3s\n"
     ]
    },
    {
     "name": "stderr",
     "output_type": "stream",
     "text": [
      "[codecarbon INFO @ 18:27:29] Energy consumed for RAM : 0.001598 kWh. RAM Power : 3.0 W\n",
      "[codecarbon INFO @ 18:27:29] Energy consumed for all CPUs : 0.002665 kWh. Total CPU Power : 5.0 W\n",
      "[codecarbon INFO @ 18:27:29] 0.004263 kWh of electricity used since the beginning.\n",
      "[codecarbon INFO @ 18:27:29] 0.000386 g.CO2eq/s mean an estimation of 12.184117351233661 kg.CO2eq/year\n"
     ]
    },
    {
     "name": "stdout",
     "output_type": "stream",
     "text": [
      "[CV] END criterion=entropy, max_depth=None, min_samples_leaf=1, min_samples_split=2, n_estimators=100; total time=  15.4s\n"
     ]
    },
    {
     "name": "stderr",
     "output_type": "stream",
     "text": [
      "[codecarbon INFO @ 18:27:44] Energy consumed for RAM : 0.001610 kWh. RAM Power : 3.0 W\n",
      "[codecarbon INFO @ 18:27:44] Energy consumed for all CPUs : 0.002686 kWh. Total CPU Power : 5.0 W\n",
      "[codecarbon INFO @ 18:27:44] 0.004296 kWh of electricity used since the beginning.\n",
      "[codecarbon INFO @ 18:27:59] Energy consumed for RAM : 0.001623 kWh. RAM Power : 3.0 W\n",
      "[codecarbon INFO @ 18:27:59] Energy consumed for all CPUs : 0.002707 kWh. Total CPU Power : 5.0 W\n",
      "[codecarbon INFO @ 18:27:59] 0.004329 kWh of electricity used since the beginning.\n"
     ]
    },
    {
     "name": "stdout",
     "output_type": "stream",
     "text": [
      "[CV] END criterion=entropy, max_depth=None, min_samples_leaf=1, min_samples_split=2, n_estimators=200; total time=  31.0s\n"
     ]
    },
    {
     "name": "stderr",
     "output_type": "stream",
     "text": [
      "[codecarbon INFO @ 18:28:14] Energy consumed for RAM : 0.001635 kWh. RAM Power : 3.0 W\n",
      "[codecarbon INFO @ 18:28:14] Energy consumed for all CPUs : 0.002728 kWh. Total CPU Power : 5.0 W\n",
      "[codecarbon INFO @ 18:28:14] 0.004363 kWh of electricity used since the beginning.\n",
      "[codecarbon INFO @ 18:28:29] Energy consumed for RAM : 0.001648 kWh. RAM Power : 3.0 W\n",
      "[codecarbon INFO @ 18:28:29] Energy consumed for all CPUs : 0.002748 kWh. Total CPU Power : 5.0 W\n",
      "[codecarbon INFO @ 18:28:29] 0.004396 kWh of electricity used since the beginning.\n"
     ]
    },
    {
     "name": "stdout",
     "output_type": "stream",
     "text": [
      "[CV] END criterion=entropy, max_depth=None, min_samples_leaf=1, min_samples_split=2, n_estimators=200; total time=  31.1s\n"
     ]
    },
    {
     "name": "stderr",
     "output_type": "stream",
     "text": [
      "[codecarbon INFO @ 18:28:44] Energy consumed for RAM : 0.001660 kWh. RAM Power : 3.0 W\n",
      "[codecarbon INFO @ 18:28:44] Energy consumed for all CPUs : 0.002769 kWh. Total CPU Power : 5.0 W\n",
      "[codecarbon INFO @ 18:28:44] 0.004429 kWh of electricity used since the beginning.\n",
      "[codecarbon INFO @ 18:28:59] Energy consumed for RAM : 0.001673 kWh. RAM Power : 3.0 W\n",
      "[codecarbon INFO @ 18:28:59] Energy consumed for all CPUs : 0.002790 kWh. Total CPU Power : 5.0 W\n",
      "[codecarbon INFO @ 18:28:59] 0.004463 kWh of electricity used since the beginning.\n"
     ]
    },
    {
     "name": "stdout",
     "output_type": "stream",
     "text": [
      "[CV] END criterion=entropy, max_depth=None, min_samples_leaf=1, min_samples_split=2, n_estimators=200; total time=  30.8s\n"
     ]
    },
    {
     "name": "stderr",
     "output_type": "stream",
     "text": [
      "[codecarbon INFO @ 18:29:14] Energy consumed for RAM : 0.001685 kWh. RAM Power : 3.0 W\n",
      "[codecarbon INFO @ 18:29:14] Energy consumed for all CPUs : 0.002811 kWh. Total CPU Power : 5.0 W\n",
      "[codecarbon INFO @ 18:29:14] 0.004496 kWh of electricity used since the beginning.\n",
      "[codecarbon INFO @ 18:29:29] Energy consumed for RAM : 0.001698 kWh. RAM Power : 3.0 W\n",
      "[codecarbon INFO @ 18:29:29] Energy consumed for all CPUs : 0.002832 kWh. Total CPU Power : 5.0 W\n",
      "[codecarbon INFO @ 18:29:29] 0.004529 kWh of electricity used since the beginning.\n",
      "[codecarbon INFO @ 18:29:29] 0.000386 g.CO2eq/s mean an estimation of 12.174793374086573 kg.CO2eq/year\n"
     ]
    },
    {
     "name": "stdout",
     "output_type": "stream",
     "text": [
      "[CV] END criterion=entropy, max_depth=None, min_samples_leaf=1, min_samples_split=2, n_estimators=200; total time=  31.2s\n"
     ]
    },
    {
     "name": "stderr",
     "output_type": "stream",
     "text": [
      "[codecarbon INFO @ 18:29:44] Energy consumed for RAM : 0.001710 kWh. RAM Power : 3.0 W\n",
      "[codecarbon INFO @ 18:29:44] Energy consumed for all CPUs : 0.002852 kWh. Total CPU Power : 5.0 W\n",
      "[codecarbon INFO @ 18:29:44] 0.004563 kWh of electricity used since the beginning.\n",
      "[codecarbon INFO @ 18:29:59] Energy consumed for RAM : 0.001722 kWh. RAM Power : 3.0 W\n",
      "[codecarbon INFO @ 18:29:59] Energy consumed for all CPUs : 0.002873 kWh. Total CPU Power : 5.0 W\n",
      "[codecarbon INFO @ 18:29:59] 0.004596 kWh of electricity used since the beginning.\n"
     ]
    },
    {
     "name": "stdout",
     "output_type": "stream",
     "text": [
      "[CV] END criterion=entropy, max_depth=None, min_samples_leaf=1, min_samples_split=2, n_estimators=200; total time=  30.4s\n"
     ]
    },
    {
     "name": "stderr",
     "output_type": "stream",
     "text": [
      "[codecarbon INFO @ 18:30:14] Energy consumed for RAM : 0.001735 kWh. RAM Power : 3.0 W\n",
      "[codecarbon INFO @ 18:30:14] Energy consumed for all CPUs : 0.002894 kWh. Total CPU Power : 5.0 W\n",
      "[codecarbon INFO @ 18:30:14] 0.004629 kWh of electricity used since the beginning.\n"
     ]
    },
    {
     "name": "stdout",
     "output_type": "stream",
     "text": [
      "[CV] END criterion=entropy, max_depth=None, min_samples_leaf=1, min_samples_split=10, n_estimators=100; total time=  15.0s\n"
     ]
    },
    {
     "name": "stderr",
     "output_type": "stream",
     "text": [
      "[codecarbon INFO @ 18:30:29] Energy consumed for RAM : 0.001747 kWh. RAM Power : 3.0 W\n",
      "[codecarbon INFO @ 18:30:29] Energy consumed for all CPUs : 0.002915 kWh. Total CPU Power : 5.0 W\n",
      "[codecarbon INFO @ 18:30:29] 0.004662 kWh of electricity used since the beginning.\n"
     ]
    },
    {
     "name": "stdout",
     "output_type": "stream",
     "text": [
      "[CV] END criterion=entropy, max_depth=None, min_samples_leaf=1, min_samples_split=10, n_estimators=100; total time=  15.2s\n"
     ]
    },
    {
     "name": "stderr",
     "output_type": "stream",
     "text": [
      "[codecarbon INFO @ 18:30:44] Energy consumed for RAM : 0.001760 kWh. RAM Power : 3.0 W\n",
      "[codecarbon INFO @ 18:30:44] Energy consumed for all CPUs : 0.002936 kWh. Total CPU Power : 5.0 W\n",
      "[codecarbon INFO @ 18:30:44] 0.004696 kWh of electricity used since the beginning.\n"
     ]
    },
    {
     "name": "stdout",
     "output_type": "stream",
     "text": [
      "[CV] END criterion=entropy, max_depth=None, min_samples_leaf=1, min_samples_split=10, n_estimators=100; total time=  15.1s\n"
     ]
    },
    {
     "name": "stderr",
     "output_type": "stream",
     "text": [
      "[codecarbon INFO @ 18:30:59] Energy consumed for RAM : 0.001772 kWh. RAM Power : 3.0 W\n",
      "[codecarbon INFO @ 18:30:59] Energy consumed for all CPUs : 0.002957 kWh. Total CPU Power : 5.0 W\n",
      "[codecarbon INFO @ 18:30:59] 0.004729 kWh of electricity used since the beginning.\n"
     ]
    },
    {
     "name": "stdout",
     "output_type": "stream",
     "text": [
      "[CV] END criterion=entropy, max_depth=None, min_samples_leaf=1, min_samples_split=10, n_estimators=100; total time=  15.3s\n"
     ]
    },
    {
     "name": "stderr",
     "output_type": "stream",
     "text": [
      "[codecarbon INFO @ 18:31:14] Energy consumed for RAM : 0.001785 kWh. RAM Power : 3.0 W\n",
      "[codecarbon INFO @ 18:31:14] Energy consumed for all CPUs : 0.002977 kWh. Total CPU Power : 5.0 W\n",
      "[codecarbon INFO @ 18:31:14] 0.004762 kWh of electricity used since the beginning.\n"
     ]
    },
    {
     "name": "stdout",
     "output_type": "stream",
     "text": [
      "[CV] END criterion=entropy, max_depth=None, min_samples_leaf=1, min_samples_split=10, n_estimators=100; total time=  15.5s\n"
     ]
    },
    {
     "name": "stderr",
     "output_type": "stream",
     "text": [
      "[codecarbon INFO @ 18:31:29] Energy consumed for RAM : 0.001797 kWh. RAM Power : 3.0 W\n",
      "[codecarbon INFO @ 18:31:29] Energy consumed for all CPUs : 0.002998 kWh. Total CPU Power : 5.0 W\n",
      "[codecarbon INFO @ 18:31:29] 0.004796 kWh of electricity used since the beginning.\n",
      "[codecarbon INFO @ 18:31:29] 0.000386 g.CO2eq/s mean an estimation of 12.177261129900103 kg.CO2eq/year\n",
      "[codecarbon INFO @ 18:31:44] Energy consumed for RAM : 0.001810 kWh. RAM Power : 3.0 W\n",
      "[codecarbon INFO @ 18:31:44] Energy consumed for all CPUs : 0.003019 kWh. Total CPU Power : 5.0 W\n",
      "[codecarbon INFO @ 18:31:44] 0.004829 kWh of electricity used since the beginning.\n"
     ]
    },
    {
     "name": "stdout",
     "output_type": "stream",
     "text": [
      "[CV] END criterion=entropy, max_depth=None, min_samples_leaf=1, min_samples_split=10, n_estimators=200; total time=  30.0s\n"
     ]
    },
    {
     "name": "stderr",
     "output_type": "stream",
     "text": [
      "[codecarbon INFO @ 18:31:59] Energy consumed for RAM : 0.001822 kWh. RAM Power : 3.0 W\n",
      "[codecarbon INFO @ 18:31:59] Energy consumed for all CPUs : 0.003040 kWh. Total CPU Power : 5.0 W\n",
      "[codecarbon INFO @ 18:31:59] 0.004862 kWh of electricity used since the beginning.\n",
      "[codecarbon INFO @ 18:32:14] Energy consumed for RAM : 0.001835 kWh. RAM Power : 3.0 W\n",
      "[codecarbon INFO @ 18:32:14] Energy consumed for all CPUs : 0.003061 kWh. Total CPU Power : 5.0 W\n",
      "[codecarbon INFO @ 18:32:14] 0.004896 kWh of electricity used since the beginning.\n"
     ]
    },
    {
     "name": "stdout",
     "output_type": "stream",
     "text": [
      "[CV] END criterion=entropy, max_depth=None, min_samples_leaf=1, min_samples_split=10, n_estimators=200; total time=  30.0s\n"
     ]
    },
    {
     "name": "stderr",
     "output_type": "stream",
     "text": [
      "[codecarbon INFO @ 18:32:29] Energy consumed for RAM : 0.001847 kWh. RAM Power : 3.0 W\n",
      "[codecarbon INFO @ 18:32:29] Energy consumed for all CPUs : 0.003082 kWh. Total CPU Power : 5.0 W\n",
      "[codecarbon INFO @ 18:32:29] 0.004929 kWh of electricity used since the beginning.\n",
      "[codecarbon INFO @ 18:32:44] Energy consumed for RAM : 0.001860 kWh. RAM Power : 3.0 W\n",
      "[codecarbon INFO @ 18:32:44] Energy consumed for all CPUs : 0.003102 kWh. Total CPU Power : 5.0 W\n",
      "[codecarbon INFO @ 18:32:44] 0.004962 kWh of electricity used since the beginning.\n"
     ]
    },
    {
     "name": "stdout",
     "output_type": "stream",
     "text": [
      "[CV] END criterion=entropy, max_depth=None, min_samples_leaf=1, min_samples_split=10, n_estimators=200; total time=  30.3s\n"
     ]
    },
    {
     "name": "stderr",
     "output_type": "stream",
     "text": [
      "[codecarbon INFO @ 18:32:59] Energy consumed for RAM : 0.001872 kWh. RAM Power : 3.0 W\n",
      "[codecarbon INFO @ 18:32:59] Energy consumed for all CPUs : 0.003123 kWh. Total CPU Power : 5.0 W\n",
      "[codecarbon INFO @ 18:32:59] 0.004995 kWh of electricity used since the beginning.\n",
      "[codecarbon INFO @ 18:33:14] Energy consumed for RAM : 0.001885 kWh. RAM Power : 3.0 W\n",
      "[codecarbon INFO @ 18:33:14] Energy consumed for all CPUs : 0.003144 kWh. Total CPU Power : 5.0 W\n",
      "[codecarbon INFO @ 18:33:14] 0.005029 kWh of electricity used since the beginning.\n"
     ]
    },
    {
     "name": "stdout",
     "output_type": "stream",
     "text": [
      "[CV] END criterion=entropy, max_depth=None, min_samples_leaf=1, min_samples_split=10, n_estimators=200; total time=  30.5s\n"
     ]
    },
    {
     "name": "stderr",
     "output_type": "stream",
     "text": [
      "[codecarbon INFO @ 18:33:29] Energy consumed for RAM : 0.001897 kWh. RAM Power : 3.0 W\n",
      "[codecarbon INFO @ 18:33:29] Energy consumed for all CPUs : 0.003165 kWh. Total CPU Power : 5.0 W\n",
      "[codecarbon INFO @ 18:33:29] 0.005062 kWh of electricity used since the beginning.\n",
      "[codecarbon INFO @ 18:33:29] 0.000386 g.CO2eq/s mean an estimation of 12.179741231769311 kg.CO2eq/year\n",
      "[codecarbon INFO @ 18:33:44] Energy consumed for RAM : 0.001910 kWh. RAM Power : 3.0 W\n",
      "[codecarbon INFO @ 18:33:44] Energy consumed for all CPUs : 0.003186 kWh. Total CPU Power : 5.0 W\n",
      "[codecarbon INFO @ 18:33:44] 0.005095 kWh of electricity used since the beginning.\n"
     ]
    },
    {
     "name": "stdout",
     "output_type": "stream",
     "text": [
      "[CV] END criterion=entropy, max_depth=None, min_samples_leaf=1, min_samples_split=10, n_estimators=200; total time=  30.7s\n"
     ]
    },
    {
     "name": "stderr",
     "output_type": "stream",
     "text": [
      "[codecarbon INFO @ 18:33:59] Energy consumed for RAM : 0.001922 kWh. RAM Power : 3.0 W\n",
      "[codecarbon INFO @ 18:33:59] Energy consumed for all CPUs : 0.003207 kWh. Total CPU Power : 5.0 W\n",
      "[codecarbon INFO @ 18:33:59] 0.005129 kWh of electricity used since the beginning.\n"
     ]
    },
    {
     "name": "stdout",
     "output_type": "stream",
     "text": [
      "[CV] END criterion=entropy, max_depth=None, min_samples_leaf=5, min_samples_split=2, n_estimators=100; total time=  15.5s\n"
     ]
    },
    {
     "name": "stderr",
     "output_type": "stream",
     "text": [
      "[codecarbon INFO @ 18:34:14] Energy consumed for RAM : 0.001935 kWh. RAM Power : 3.0 W\n",
      "[codecarbon INFO @ 18:34:14] Energy consumed for all CPUs : 0.003227 kWh. Total CPU Power : 5.0 W\n",
      "[codecarbon INFO @ 18:34:14] 0.005162 kWh of electricity used since the beginning.\n"
     ]
    },
    {
     "name": "stdout",
     "output_type": "stream",
     "text": [
      "[CV] END criterion=entropy, max_depth=None, min_samples_leaf=5, min_samples_split=2, n_estimators=100; total time=  14.6s\n"
     ]
    },
    {
     "name": "stderr",
     "output_type": "stream",
     "text": [
      "[codecarbon INFO @ 18:34:29] Energy consumed for RAM : 0.001947 kWh. RAM Power : 3.0 W\n",
      "[codecarbon INFO @ 18:34:29] Energy consumed for all CPUs : 0.003248 kWh. Total CPU Power : 5.0 W\n",
      "[codecarbon INFO @ 18:34:29] 0.005195 kWh of electricity used since the beginning.\n"
     ]
    },
    {
     "name": "stdout",
     "output_type": "stream",
     "text": [
      "[CV] END criterion=entropy, max_depth=None, min_samples_leaf=5, min_samples_split=2, n_estimators=100; total time=  14.7s\n"
     ]
    },
    {
     "name": "stderr",
     "output_type": "stream",
     "text": [
      "[codecarbon INFO @ 18:34:44] Energy consumed for RAM : 0.001960 kWh. RAM Power : 3.0 W\n",
      "[codecarbon INFO @ 18:34:44] Energy consumed for all CPUs : 0.003269 kWh. Total CPU Power : 5.0 W\n",
      "[codecarbon INFO @ 18:34:44] 0.005228 kWh of electricity used since the beginning.\n"
     ]
    },
    {
     "name": "stdout",
     "output_type": "stream",
     "text": [
      "[CV] END criterion=entropy, max_depth=None, min_samples_leaf=5, min_samples_split=2, n_estimators=100; total time=  14.8s\n"
     ]
    },
    {
     "name": "stderr",
     "output_type": "stream",
     "text": [
      "[codecarbon INFO @ 18:34:59] Energy consumed for RAM : 0.001972 kWh. RAM Power : 3.0 W\n",
      "[codecarbon INFO @ 18:34:59] Energy consumed for all CPUs : 0.003290 kWh. Total CPU Power : 5.0 W\n",
      "[codecarbon INFO @ 18:34:59] 0.005262 kWh of electricity used since the beginning.\n"
     ]
    },
    {
     "name": "stdout",
     "output_type": "stream",
     "text": [
      "[CV] END criterion=entropy, max_depth=None, min_samples_leaf=5, min_samples_split=2, n_estimators=100; total time=  14.7s\n"
     ]
    },
    {
     "name": "stderr",
     "output_type": "stream",
     "text": [
      "[codecarbon INFO @ 18:35:14] Energy consumed for RAM : 0.001985 kWh. RAM Power : 3.0 W\n",
      "[codecarbon INFO @ 18:35:14] Energy consumed for all CPUs : 0.003310 kWh. Total CPU Power : 5.0 W\n",
      "[codecarbon INFO @ 18:35:14] 0.005295 kWh of electricity used since the beginning.\n",
      "[codecarbon INFO @ 18:35:29] Energy consumed for RAM : 0.001997 kWh. RAM Power : 3.0 W\n",
      "[codecarbon INFO @ 18:35:29] Energy consumed for all CPUs : 0.003331 kWh. Total CPU Power : 5.0 W\n",
      "[codecarbon INFO @ 18:35:29] 0.005328 kWh of electricity used since the beginning.\n",
      "[codecarbon INFO @ 18:35:29] 0.000386 g.CO2eq/s mean an estimation of 12.17105690709328 kg.CO2eq/year\n"
     ]
    },
    {
     "name": "stdout",
     "output_type": "stream",
     "text": [
      "[CV] END criterion=entropy, max_depth=None, min_samples_leaf=5, min_samples_split=2, n_estimators=200; total time=  28.7s\n"
     ]
    },
    {
     "name": "stderr",
     "output_type": "stream",
     "text": [
      "[codecarbon INFO @ 18:35:44] Energy consumed for RAM : 0.002009 kWh. RAM Power : 3.0 W\n",
      "[codecarbon INFO @ 18:35:44] Energy consumed for all CPUs : 0.003352 kWh. Total CPU Power : 5.0 W\n",
      "[codecarbon INFO @ 18:35:44] 0.005362 kWh of electricity used since the beginning.\n",
      "[codecarbon INFO @ 18:35:59] Energy consumed for RAM : 0.002022 kWh. RAM Power : 3.0 W\n",
      "[codecarbon INFO @ 18:35:59] Energy consumed for all CPUs : 0.003373 kWh. Total CPU Power : 5.0 W\n",
      "[codecarbon INFO @ 18:35:59] 0.005395 kWh of electricity used since the beginning.\n"
     ]
    },
    {
     "name": "stdout",
     "output_type": "stream",
     "text": [
      "[CV] END criterion=entropy, max_depth=None, min_samples_leaf=5, min_samples_split=2, n_estimators=200; total time=  28.4s\n"
     ]
    },
    {
     "name": "stderr",
     "output_type": "stream",
     "text": [
      "[codecarbon INFO @ 18:36:14] Energy consumed for RAM : 0.002034 kWh. RAM Power : 3.0 W\n",
      "[codecarbon INFO @ 18:36:14] Energy consumed for all CPUs : 0.003394 kWh. Total CPU Power : 5.0 W\n",
      "[codecarbon INFO @ 18:36:14] 0.005428 kWh of electricity used since the beginning.\n",
      "[codecarbon INFO @ 18:36:29] Energy consumed for RAM : 0.002047 kWh. RAM Power : 3.0 W\n",
      "[codecarbon INFO @ 18:36:29] Energy consumed for all CPUs : 0.003415 kWh. Total CPU Power : 5.0 W\n",
      "[codecarbon INFO @ 18:36:29] 0.005462 kWh of electricity used since the beginning.\n"
     ]
    },
    {
     "name": "stdout",
     "output_type": "stream",
     "text": [
      "[CV] END criterion=entropy, max_depth=None, min_samples_leaf=5, min_samples_split=2, n_estimators=200; total time=  30.3s\n"
     ]
    },
    {
     "name": "stderr",
     "output_type": "stream",
     "text": [
      "[codecarbon INFO @ 18:36:44] Energy consumed for RAM : 0.002059 kWh. RAM Power : 3.0 W\n",
      "[codecarbon INFO @ 18:36:44] Energy consumed for all CPUs : 0.003435 kWh. Total CPU Power : 5.0 W\n",
      "[codecarbon INFO @ 18:36:44] 0.005495 kWh of electricity used since the beginning.\n",
      "[codecarbon INFO @ 18:36:59] Energy consumed for RAM : 0.002072 kWh. RAM Power : 3.0 W\n",
      "[codecarbon INFO @ 18:36:59] Energy consumed for all CPUs : 0.003456 kWh. Total CPU Power : 5.0 W\n",
      "[codecarbon INFO @ 18:36:59] 0.005528 kWh of electricity used since the beginning.\n"
     ]
    },
    {
     "name": "stdout",
     "output_type": "stream",
     "text": [
      "[CV] END criterion=entropy, max_depth=None, min_samples_leaf=5, min_samples_split=2, n_estimators=200; total time=  29.7s\n"
     ]
    },
    {
     "name": "stderr",
     "output_type": "stream",
     "text": [
      "[codecarbon INFO @ 18:37:14] Energy consumed for RAM : 0.002084 kWh. RAM Power : 3.0 W\n",
      "[codecarbon INFO @ 18:37:14] Energy consumed for all CPUs : 0.003477 kWh. Total CPU Power : 5.0 W\n",
      "[codecarbon INFO @ 18:37:14] 0.005561 kWh of electricity used since the beginning.\n",
      "[codecarbon INFO @ 18:37:29] Energy consumed for RAM : 0.002097 kWh. RAM Power : 3.0 W\n",
      "[codecarbon INFO @ 18:37:29] Energy consumed for all CPUs : 0.003498 kWh. Total CPU Power : 5.0 W\n",
      "[codecarbon INFO @ 18:37:29] 0.005595 kWh of electricity used since the beginning.\n",
      "[codecarbon INFO @ 18:37:29] 0.000386 g.CO2eq/s mean an estimation of 12.182862031771638 kg.CO2eq/year\n"
     ]
    },
    {
     "name": "stdout",
     "output_type": "stream",
     "text": [
      "[CV] END criterion=entropy, max_depth=None, min_samples_leaf=5, min_samples_split=2, n_estimators=200; total time=  29.0s\n"
     ]
    },
    {
     "name": "stderr",
     "output_type": "stream",
     "text": [
      "[codecarbon INFO @ 18:37:44] Energy consumed for RAM : 0.002109 kWh. RAM Power : 3.0 W\n",
      "[codecarbon INFO @ 18:37:44] Energy consumed for all CPUs : 0.003519 kWh. Total CPU Power : 5.0 W\n",
      "[codecarbon INFO @ 18:37:44] 0.005628 kWh of electricity used since the beginning.\n"
     ]
    },
    {
     "name": "stdout",
     "output_type": "stream",
     "text": [
      "[CV] END criterion=entropy, max_depth=None, min_samples_leaf=5, min_samples_split=10, n_estimators=100; total time=  14.6s\n"
     ]
    },
    {
     "name": "stderr",
     "output_type": "stream",
     "text": [
      "[codecarbon INFO @ 18:37:59] Energy consumed for RAM : 0.002122 kWh. RAM Power : 3.0 W\n",
      "[codecarbon INFO @ 18:37:59] Energy consumed for all CPUs : 0.003540 kWh. Total CPU Power : 5.0 W\n",
      "[codecarbon INFO @ 18:37:59] 0.005661 kWh of electricity used since the beginning.\n"
     ]
    },
    {
     "name": "stdout",
     "output_type": "stream",
     "text": [
      "[CV] END criterion=entropy, max_depth=None, min_samples_leaf=5, min_samples_split=10, n_estimators=100; total time=  14.6s\n"
     ]
    },
    {
     "name": "stderr",
     "output_type": "stream",
     "text": [
      "[codecarbon INFO @ 18:38:14] Energy consumed for RAM : 0.002134 kWh. RAM Power : 3.0 W\n",
      "[codecarbon INFO @ 18:38:14] Energy consumed for all CPUs : 0.003560 kWh. Total CPU Power : 5.0 W\n",
      "[codecarbon INFO @ 18:38:14] 0.005695 kWh of electricity used since the beginning.\n"
     ]
    },
    {
     "name": "stdout",
     "output_type": "stream",
     "text": [
      "[CV] END criterion=entropy, max_depth=None, min_samples_leaf=5, min_samples_split=10, n_estimators=100; total time=  14.6s\n"
     ]
    },
    {
     "name": "stderr",
     "output_type": "stream",
     "text": [
      "[codecarbon INFO @ 18:38:29] Energy consumed for RAM : 0.002147 kWh. RAM Power : 3.0 W\n",
      "[codecarbon INFO @ 18:38:29] Energy consumed for all CPUs : 0.003581 kWh. Total CPU Power : 5.0 W\n",
      "[codecarbon INFO @ 18:38:29] 0.005728 kWh of electricity used since the beginning.\n"
     ]
    },
    {
     "name": "stdout",
     "output_type": "stream",
     "text": [
      "[CV] END criterion=entropy, max_depth=None, min_samples_leaf=5, min_samples_split=10, n_estimators=100; total time=  14.4s\n"
     ]
    },
    {
     "name": "stderr",
     "output_type": "stream",
     "text": [
      "[codecarbon INFO @ 18:38:44] Energy consumed for RAM : 0.002159 kWh. RAM Power : 3.0 W\n",
      "[codecarbon INFO @ 18:38:44] Energy consumed for all CPUs : 0.003602 kWh. Total CPU Power : 5.0 W\n",
      "[codecarbon INFO @ 18:38:44] 0.005761 kWh of electricity used since the beginning.\n"
     ]
    },
    {
     "name": "stdout",
     "output_type": "stream",
     "text": [
      "[CV] END criterion=entropy, max_depth=None, min_samples_leaf=5, min_samples_split=10, n_estimators=100; total time=  15.0s\n"
     ]
    },
    {
     "name": "stderr",
     "output_type": "stream",
     "text": [
      "[codecarbon INFO @ 18:38:59] Energy consumed for RAM : 0.002172 kWh. RAM Power : 3.0 W\n",
      "[codecarbon INFO @ 18:38:59] Energy consumed for all CPUs : 0.003623 kWh. Total CPU Power : 5.0 W\n",
      "[codecarbon INFO @ 18:38:59] 0.005795 kWh of electricity used since the beginning.\n",
      "[codecarbon INFO @ 18:39:14] Energy consumed for RAM : 0.002184 kWh. RAM Power : 3.0 W\n",
      "[codecarbon INFO @ 18:39:14] Energy consumed for all CPUs : 0.003644 kWh. Total CPU Power : 5.0 W\n",
      "[codecarbon INFO @ 18:39:14] 0.005828 kWh of electricity used since the beginning.\n"
     ]
    },
    {
     "name": "stdout",
     "output_type": "stream",
     "text": [
      "[CV] END criterion=entropy, max_depth=None, min_samples_leaf=5, min_samples_split=10, n_estimators=200; total time=  29.8s\n"
     ]
    },
    {
     "name": "stderr",
     "output_type": "stream",
     "text": [
      "[codecarbon INFO @ 18:39:29] Energy consumed for RAM : 0.002197 kWh. RAM Power : 3.0 W\n",
      "[codecarbon INFO @ 18:39:29] Energy consumed for all CPUs : 0.003664 kWh. Total CPU Power : 5.0 W\n",
      "[codecarbon INFO @ 18:39:29] 0.005861 kWh of electricity used since the beginning.\n",
      "[codecarbon INFO @ 18:39:29] 0.000386 g.CO2eq/s mean an estimation of 12.177103037177256 kg.CO2eq/year\n",
      "[codecarbon INFO @ 18:39:44] Energy consumed for RAM : 0.002209 kWh. RAM Power : 3.0 W\n",
      "[codecarbon INFO @ 18:39:44] Energy consumed for all CPUs : 0.003685 kWh. Total CPU Power : 5.0 W\n",
      "[codecarbon INFO @ 18:39:44] 0.005895 kWh of electricity used since the beginning.\n"
     ]
    },
    {
     "name": "stdout",
     "output_type": "stream",
     "text": [
      "[CV] END criterion=entropy, max_depth=None, min_samples_leaf=5, min_samples_split=10, n_estimators=200; total time=  28.8s\n"
     ]
    },
    {
     "name": "stderr",
     "output_type": "stream",
     "text": [
      "[codecarbon INFO @ 18:39:59] Energy consumed for RAM : 0.002222 kWh. RAM Power : 3.0 W\n",
      "[codecarbon INFO @ 18:39:59] Energy consumed for all CPUs : 0.003706 kWh. Total CPU Power : 5.0 W\n",
      "[codecarbon INFO @ 18:39:59] 0.005928 kWh of electricity used since the beginning.\n",
      "[codecarbon INFO @ 18:40:14] Energy consumed for RAM : 0.002234 kWh. RAM Power : 3.0 W\n",
      "[codecarbon INFO @ 18:40:14] Energy consumed for all CPUs : 0.003727 kWh. Total CPU Power : 5.0 W\n",
      "[codecarbon INFO @ 18:40:14] 0.005961 kWh of electricity used since the beginning.\n"
     ]
    },
    {
     "name": "stdout",
     "output_type": "stream",
     "text": [
      "[CV] END criterion=entropy, max_depth=None, min_samples_leaf=5, min_samples_split=10, n_estimators=200; total time=  28.6s\n"
     ]
    },
    {
     "name": "stderr",
     "output_type": "stream",
     "text": [
      "[codecarbon INFO @ 18:40:29] Energy consumed for RAM : 0.002247 kWh. RAM Power : 3.0 W\n",
      "[codecarbon INFO @ 18:40:30] Energy consumed for all CPUs : 0.003748 kWh. Total CPU Power : 5.0 W\n",
      "[codecarbon INFO @ 18:40:30] 0.005994 kWh of electricity used since the beginning.\n"
     ]
    },
    {
     "name": "stdout",
     "output_type": "stream",
     "text": [
      "[CV] END criterion=entropy, max_depth=None, min_samples_leaf=5, min_samples_split=10, n_estimators=200; total time=  29.8s\n"
     ]
    },
    {
     "name": "stderr",
     "output_type": "stream",
     "text": [
      "[codecarbon INFO @ 18:40:45] Energy consumed for RAM : 0.002259 kWh. RAM Power : 3.0 W\n",
      "[codecarbon INFO @ 18:40:45] Energy consumed for all CPUs : 0.003769 kWh. Total CPU Power : 5.0 W\n",
      "[codecarbon INFO @ 18:40:45] 0.006028 kWh of electricity used since the beginning.\n",
      "[codecarbon INFO @ 18:41:00] Energy consumed for RAM : 0.002272 kWh. RAM Power : 3.0 W\n",
      "[codecarbon INFO @ 18:41:00] Energy consumed for all CPUs : 0.003789 kWh. Total CPU Power : 5.0 W\n",
      "[codecarbon INFO @ 18:41:00] 0.006061 kWh of electricity used since the beginning.\n"
     ]
    },
    {
     "name": "stdout",
     "output_type": "stream",
     "text": [
      "[CV] END criterion=entropy, max_depth=None, min_samples_leaf=5, min_samples_split=10, n_estimators=200; total time=  28.5s\n"
     ]
    },
    {
     "name": "stderr",
     "output_type": "stream",
     "text": [
      "[codecarbon INFO @ 18:41:15] Energy consumed for RAM : 0.002284 kWh. RAM Power : 3.0 W\n",
      "[codecarbon INFO @ 18:41:15] Energy consumed for all CPUs : 0.003810 kWh. Total CPU Power : 5.0 W\n",
      "[codecarbon INFO @ 18:41:15] 0.006094 kWh of electricity used since the beginning.\n"
     ]
    },
    {
     "name": "stdout",
     "output_type": "stream",
     "text": [
      "[CV] END criterion=entropy, max_depth=10, min_samples_leaf=1, min_samples_split=2, n_estimators=100; total time=   9.2s\n"
     ]
    },
    {
     "name": "stderr",
     "output_type": "stream",
     "text": [
      "[codecarbon INFO @ 18:41:30] Energy consumed for RAM : 0.002297 kWh. RAM Power : 3.0 W\n",
      "[codecarbon INFO @ 18:41:30] Energy consumed for all CPUs : 0.003831 kWh. Total CPU Power : 5.0 W\n",
      "[codecarbon INFO @ 18:41:30] 0.006128 kWh of electricity used since the beginning.\n",
      "[codecarbon INFO @ 18:41:30] 0.000386 g.CO2eq/s mean an estimation of 12.177479887411435 kg.CO2eq/year\n"
     ]
    },
    {
     "name": "stdout",
     "output_type": "stream",
     "text": [
      "[CV] END criterion=entropy, max_depth=10, min_samples_leaf=1, min_samples_split=2, n_estimators=100; total time=   9.1s\n",
      "[CV] END criterion=entropy, max_depth=10, min_samples_leaf=1, min_samples_split=2, n_estimators=100; total time=   9.2s\n"
     ]
    },
    {
     "name": "stderr",
     "output_type": "stream",
     "text": [
      "[codecarbon INFO @ 18:41:45] Energy consumed for RAM : 0.002309 kWh. RAM Power : 3.0 W\n",
      "[codecarbon INFO @ 18:41:45] Energy consumed for all CPUs : 0.003852 kWh. Total CPU Power : 5.0 W\n",
      "[codecarbon INFO @ 18:41:45] 0.006161 kWh of electricity used since the beginning.\n"
     ]
    },
    {
     "name": "stdout",
     "output_type": "stream",
     "text": [
      "[CV] END criterion=entropy, max_depth=10, min_samples_leaf=1, min_samples_split=2, n_estimators=100; total time=   9.1s\n",
      "[CV] END criterion=entropy, max_depth=10, min_samples_leaf=1, min_samples_split=2, n_estimators=100; total time=   9.2s\n"
     ]
    },
    {
     "name": "stderr",
     "output_type": "stream",
     "text": [
      "[codecarbon INFO @ 18:42:00] Energy consumed for RAM : 0.002322 kWh. RAM Power : 3.0 W\n",
      "[codecarbon INFO @ 18:42:00] Energy consumed for all CPUs : 0.003873 kWh. Total CPU Power : 5.0 W\n",
      "[codecarbon INFO @ 18:42:00] 0.006194 kWh of electricity used since the beginning.\n",
      "[codecarbon INFO @ 18:42:15] Energy consumed for RAM : 0.002334 kWh. RAM Power : 3.0 W\n",
      "[codecarbon INFO @ 18:42:15] Energy consumed for all CPUs : 0.003894 kWh. Total CPU Power : 5.0 W\n",
      "[codecarbon INFO @ 18:42:15] 0.006228 kWh of electricity used since the beginning.\n"
     ]
    },
    {
     "name": "stdout",
     "output_type": "stream",
     "text": [
      "[CV] END criterion=entropy, max_depth=10, min_samples_leaf=1, min_samples_split=2, n_estimators=200; total time=  18.3s\n"
     ]
    },
    {
     "name": "stderr",
     "output_type": "stream",
     "text": [
      "[codecarbon INFO @ 18:42:30] Energy consumed for RAM : 0.002347 kWh. RAM Power : 3.0 W\n",
      "[codecarbon INFO @ 18:42:30] Energy consumed for all CPUs : 0.003914 kWh. Total CPU Power : 5.0 W\n",
      "[codecarbon INFO @ 18:42:30] 0.006261 kWh of electricity used since the beginning.\n"
     ]
    },
    {
     "name": "stdout",
     "output_type": "stream",
     "text": [
      "[CV] END criterion=entropy, max_depth=10, min_samples_leaf=1, min_samples_split=2, n_estimators=200; total time=  17.9s\n"
     ]
    },
    {
     "name": "stderr",
     "output_type": "stream",
     "text": [
      "[codecarbon INFO @ 18:42:45] Energy consumed for RAM : 0.002359 kWh. RAM Power : 3.0 W\n",
      "[codecarbon INFO @ 18:42:45] Energy consumed for all CPUs : 0.003935 kWh. Total CPU Power : 5.0 W\n",
      "[codecarbon INFO @ 18:42:45] 0.006294 kWh of electricity used since the beginning.\n"
     ]
    },
    {
     "name": "stdout",
     "output_type": "stream",
     "text": [
      "[CV] END criterion=entropy, max_depth=10, min_samples_leaf=1, min_samples_split=2, n_estimators=200; total time=  18.2s\n"
     ]
    },
    {
     "name": "stderr",
     "output_type": "stream",
     "text": [
      "[codecarbon INFO @ 18:43:00] Energy consumed for RAM : 0.002372 kWh. RAM Power : 3.0 W\n",
      "[codecarbon INFO @ 18:43:00] Energy consumed for all CPUs : 0.003956 kWh. Total CPU Power : 5.0 W\n",
      "[codecarbon INFO @ 18:43:00] 0.006328 kWh of electricity used since the beginning.\n"
     ]
    },
    {
     "name": "stdout",
     "output_type": "stream",
     "text": [
      "[CV] END criterion=entropy, max_depth=10, min_samples_leaf=1, min_samples_split=2, n_estimators=200; total time=  18.2s\n"
     ]
    },
    {
     "name": "stderr",
     "output_type": "stream",
     "text": [
      "[codecarbon INFO @ 18:43:15] Energy consumed for RAM : 0.002384 kWh. RAM Power : 3.0 W\n",
      "[codecarbon INFO @ 18:43:15] Energy consumed for all CPUs : 0.003977 kWh. Total CPU Power : 5.0 W\n",
      "[codecarbon INFO @ 18:43:15] 0.006361 kWh of electricity used since the beginning.\n"
     ]
    },
    {
     "name": "stdout",
     "output_type": "stream",
     "text": [
      "[CV] END criterion=entropy, max_depth=10, min_samples_leaf=1, min_samples_split=2, n_estimators=200; total time=  18.2s\n"
     ]
    },
    {
     "name": "stderr",
     "output_type": "stream",
     "text": [
      "[codecarbon INFO @ 18:43:30] Energy consumed for RAM : 0.002396 kWh. RAM Power : 3.0 W\n",
      "[codecarbon INFO @ 18:43:30] Energy consumed for all CPUs : 0.003998 kWh. Total CPU Power : 5.0 W\n",
      "[codecarbon INFO @ 18:43:30] 0.006394 kWh of electricity used since the beginning.\n",
      "[codecarbon INFO @ 18:43:30] 0.000386 g.CO2eq/s mean an estimation of 12.187464603540947 kg.CO2eq/year\n"
     ]
    },
    {
     "name": "stdout",
     "output_type": "stream",
     "text": [
      "[CV] END criterion=entropy, max_depth=10, min_samples_leaf=1, min_samples_split=10, n_estimators=100; total time=   9.6s\n"
     ]
    },
    {
     "name": "stderr",
     "output_type": "stream",
     "text": [
      "[codecarbon INFO @ 18:43:45] Energy consumed for RAM : 0.002409 kWh. RAM Power : 3.0 W\n",
      "[codecarbon INFO @ 18:43:45] Energy consumed for all CPUs : 0.004019 kWh. Total CPU Power : 5.0 W\n",
      "[codecarbon INFO @ 18:43:45] 0.006428 kWh of electricity used since the beginning.\n"
     ]
    },
    {
     "name": "stdout",
     "output_type": "stream",
     "text": [
      "[CV] END criterion=entropy, max_depth=10, min_samples_leaf=1, min_samples_split=10, n_estimators=100; total time=   9.1s\n",
      "[CV] END criterion=entropy, max_depth=10, min_samples_leaf=1, min_samples_split=10, n_estimators=100; total time=   9.3s\n"
     ]
    },
    {
     "name": "stderr",
     "output_type": "stream",
     "text": [
      "[codecarbon INFO @ 18:44:00] Energy consumed for RAM : 0.002421 kWh. RAM Power : 3.0 W\n",
      "[codecarbon INFO @ 18:44:00] Energy consumed for all CPUs : 0.004039 kWh. Total CPU Power : 5.0 W\n",
      "[codecarbon INFO @ 18:44:00] 0.006461 kWh of electricity used since the beginning.\n"
     ]
    },
    {
     "name": "stdout",
     "output_type": "stream",
     "text": [
      "[CV] END criterion=entropy, max_depth=10, min_samples_leaf=1, min_samples_split=10, n_estimators=100; total time=   9.4s\n"
     ]
    },
    {
     "name": "stderr",
     "output_type": "stream",
     "text": [
      "[codecarbon INFO @ 18:44:15] Energy consumed for RAM : 0.002434 kWh. RAM Power : 3.0 W\n",
      "[codecarbon INFO @ 18:44:15] Energy consumed for all CPUs : 0.004060 kWh. Total CPU Power : 5.0 W\n",
      "[codecarbon INFO @ 18:44:15] 0.006494 kWh of electricity used since the beginning.\n"
     ]
    },
    {
     "name": "stdout",
     "output_type": "stream",
     "text": [
      "[CV] END criterion=entropy, max_depth=10, min_samples_leaf=1, min_samples_split=10, n_estimators=100; total time=   9.1s\n"
     ]
    },
    {
     "name": "stderr",
     "output_type": "stream",
     "text": [
      "[codecarbon INFO @ 18:44:30] Energy consumed for RAM : 0.002446 kWh. RAM Power : 3.0 W\n",
      "[codecarbon INFO @ 18:44:30] Energy consumed for all CPUs : 0.004081 kWh. Total CPU Power : 5.0 W\n",
      "[codecarbon INFO @ 18:44:30] 0.006527 kWh of electricity used since the beginning.\n"
     ]
    },
    {
     "name": "stdout",
     "output_type": "stream",
     "text": [
      "[CV] END criterion=entropy, max_depth=10, min_samples_leaf=1, min_samples_split=10, n_estimators=200; total time=  18.3s\n"
     ]
    },
    {
     "name": "stderr",
     "output_type": "stream",
     "text": [
      "[codecarbon INFO @ 18:44:45] Energy consumed for RAM : 0.002459 kWh. RAM Power : 3.0 W\n",
      "[codecarbon INFO @ 18:44:45] Energy consumed for all CPUs : 0.004102 kWh. Total CPU Power : 5.0 W\n",
      "[codecarbon INFO @ 18:44:45] 0.006561 kWh of electricity used since the beginning.\n"
     ]
    },
    {
     "name": "stdout",
     "output_type": "stream",
     "text": [
      "[CV] END criterion=entropy, max_depth=10, min_samples_leaf=1, min_samples_split=10, n_estimators=200; total time=  17.9s\n"
     ]
    },
    {
     "name": "stderr",
     "output_type": "stream",
     "text": [
      "[codecarbon INFO @ 18:45:00] Energy consumed for RAM : 0.002471 kWh. RAM Power : 3.0 W\n",
      "[codecarbon INFO @ 18:45:00] Energy consumed for all CPUs : 0.004123 kWh. Total CPU Power : 5.0 W\n",
      "[codecarbon INFO @ 18:45:00] 0.006594 kWh of electricity used since the beginning.\n"
     ]
    },
    {
     "name": "stdout",
     "output_type": "stream",
     "text": [
      "[CV] END criterion=entropy, max_depth=10, min_samples_leaf=1, min_samples_split=10, n_estimators=200; total time=  18.2s\n"
     ]
    },
    {
     "name": "stderr",
     "output_type": "stream",
     "text": [
      "[codecarbon INFO @ 18:45:15] Energy consumed for RAM : 0.002484 kWh. RAM Power : 3.0 W\n",
      "[codecarbon INFO @ 18:45:15] Energy consumed for all CPUs : 0.004144 kWh. Total CPU Power : 5.0 W\n",
      "[codecarbon INFO @ 18:45:15] 0.006627 kWh of electricity used since the beginning.\n"
     ]
    },
    {
     "name": "stdout",
     "output_type": "stream",
     "text": [
      "[CV] END criterion=entropy, max_depth=10, min_samples_leaf=1, min_samples_split=10, n_estimators=200; total time=  18.1s\n"
     ]
    },
    {
     "name": "stderr",
     "output_type": "stream",
     "text": [
      "[codecarbon INFO @ 18:45:30] Energy consumed for RAM : 0.002496 kWh. RAM Power : 3.0 W\n",
      "[codecarbon INFO @ 18:45:30] Energy consumed for all CPUs : 0.004164 kWh. Total CPU Power : 5.0 W\n",
      "[codecarbon INFO @ 18:45:30] 0.006661 kWh of electricity used since the beginning.\n",
      "[codecarbon INFO @ 18:45:30] 0.000386 g.CO2eq/s mean an estimation of 12.176817153005372 kg.CO2eq/year\n",
      "[codecarbon INFO @ 18:45:45] Energy consumed for RAM : 0.002509 kWh. RAM Power : 3.0 W\n",
      "[codecarbon INFO @ 18:45:45] Energy consumed for all CPUs : 0.004185 kWh. Total CPU Power : 5.0 W\n",
      "[codecarbon INFO @ 18:45:45] 0.006694 kWh of electricity used since the beginning.\n"
     ]
    },
    {
     "name": "stdout",
     "output_type": "stream",
     "text": [
      "[CV] END criterion=entropy, max_depth=10, min_samples_leaf=1, min_samples_split=10, n_estimators=200; total time=  17.9s\n",
      "[CV] END criterion=entropy, max_depth=10, min_samples_leaf=5, min_samples_split=2, n_estimators=100; total time=   9.1s\n"
     ]
    },
    {
     "name": "stderr",
     "output_type": "stream",
     "text": [
      "[codecarbon INFO @ 18:46:00] Energy consumed for RAM : 0.002521 kWh. RAM Power : 3.0 W\n",
      "[codecarbon INFO @ 18:46:00] Energy consumed for all CPUs : 0.004206 kWh. Total CPU Power : 5.0 W\n",
      "[codecarbon INFO @ 18:46:00] 0.006727 kWh of electricity used since the beginning.\n"
     ]
    },
    {
     "name": "stdout",
     "output_type": "stream",
     "text": [
      "[CV] END criterion=entropy, max_depth=10, min_samples_leaf=5, min_samples_split=2, n_estimators=100; total time=   9.3s\n",
      "[CV] END criterion=entropy, max_depth=10, min_samples_leaf=5, min_samples_split=2, n_estimators=100; total time=   9.0s\n"
     ]
    },
    {
     "name": "stderr",
     "output_type": "stream",
     "text": [
      "[codecarbon INFO @ 18:46:15] Energy consumed for RAM : 0.002534 kWh. RAM Power : 3.0 W\n",
      "[codecarbon INFO @ 18:46:15] Energy consumed for all CPUs : 0.004227 kWh. Total CPU Power : 5.0 W\n",
      "[codecarbon INFO @ 18:46:15] 0.006761 kWh of electricity used since the beginning.\n"
     ]
    },
    {
     "name": "stdout",
     "output_type": "stream",
     "text": [
      "[CV] END criterion=entropy, max_depth=10, min_samples_leaf=5, min_samples_split=2, n_estimators=100; total time=   9.2s\n"
     ]
    },
    {
     "name": "stderr",
     "output_type": "stream",
     "text": [
      "[codecarbon INFO @ 18:46:30] Energy consumed for RAM : 0.002546 kWh. RAM Power : 3.0 W\n",
      "[codecarbon INFO @ 18:46:30] Energy consumed for all CPUs : 0.004248 kWh. Total CPU Power : 5.0 W\n",
      "[codecarbon INFO @ 18:46:30] 0.006794 kWh of electricity used since the beginning.\n"
     ]
    },
    {
     "name": "stdout",
     "output_type": "stream",
     "text": [
      "[CV] END criterion=entropy, max_depth=10, min_samples_leaf=5, min_samples_split=2, n_estimators=100; total time=  18.6s\n"
     ]
    },
    {
     "name": "stderr",
     "output_type": "stream",
     "text": [
      "[codecarbon INFO @ 18:46:50] Energy consumed for RAM : 0.002559 kWh. RAM Power : 3.0 W\n",
      "[codecarbon INFO @ 18:46:50] Energy consumed for all CPUs : 0.004268 kWh. Total CPU Power : 5.0 W\n",
      "[codecarbon INFO @ 18:46:50] 0.006827 kWh of electricity used since the beginning.\n"
     ]
    },
    {
     "name": "stdout",
     "output_type": "stream",
     "text": [
      "[CV] END criterion=entropy, max_depth=10, min_samples_leaf=5, min_samples_split=2, n_estimators=200; total time=  20.8s\n"
     ]
    },
    {
     "name": "stderr",
     "output_type": "stream",
     "text": [
      "[codecarbon INFO @ 18:47:05] Energy consumed for RAM : 0.002571 kWh. RAM Power : 3.0 W\n",
      "[codecarbon INFO @ 18:47:05] Energy consumed for all CPUs : 0.004289 kWh. Total CPU Power : 5.0 W\n",
      "[codecarbon INFO @ 18:47:05] 0.006861 kWh of electricity used since the beginning.\n",
      "[codecarbon INFO @ 18:47:20] Energy consumed for RAM : 0.002584 kWh. RAM Power : 3.0 W\n",
      "[codecarbon INFO @ 18:47:20] Energy consumed for all CPUs : 0.004310 kWh. Total CPU Power : 5.0 W\n",
      "[codecarbon INFO @ 18:47:20] 0.006894 kWh of electricity used since the beginning.\n"
     ]
    },
    {
     "name": "stdout",
     "output_type": "stream",
     "text": [
      "[CV] END criterion=entropy, max_depth=10, min_samples_leaf=5, min_samples_split=2, n_estimators=200; total time=  19.6s\n"
     ]
    },
    {
     "name": "stderr",
     "output_type": "stream",
     "text": [
      "[codecarbon INFO @ 18:47:35] Energy consumed for RAM : 0.002596 kWh. RAM Power : 3.0 W\n",
      "[codecarbon INFO @ 18:47:35] Energy consumed for all CPUs : 0.004331 kWh. Total CPU Power : 5.0 W\n",
      "[codecarbon INFO @ 18:47:35] 0.006927 kWh of electricity used since the beginning.\n",
      "[codecarbon INFO @ 18:47:35] 0.000386 g.CO2eq/s mean an estimation of 12.178180911748523 kg.CO2eq/year\n"
     ]
    },
    {
     "name": "stdout",
     "output_type": "stream",
     "text": [
      "[CV] END criterion=entropy, max_depth=10, min_samples_leaf=5, min_samples_split=2, n_estimators=200; total time=  19.2s\n"
     ]
    },
    {
     "name": "stderr",
     "output_type": "stream",
     "text": [
      "[codecarbon INFO @ 18:47:50] Energy consumed for RAM : 0.002609 kWh. RAM Power : 3.0 W\n",
      "[codecarbon INFO @ 18:47:50] Energy consumed for all CPUs : 0.004352 kWh. Total CPU Power : 5.0 W\n",
      "[codecarbon INFO @ 18:47:50] 0.006960 kWh of electricity used since the beginning.\n"
     ]
    },
    {
     "name": "stdout",
     "output_type": "stream",
     "text": [
      "[CV] END criterion=entropy, max_depth=10, min_samples_leaf=5, min_samples_split=2, n_estimators=200; total time=  18.9s\n"
     ]
    },
    {
     "name": "stderr",
     "output_type": "stream",
     "text": [
      "[codecarbon INFO @ 18:48:05] Energy consumed for RAM : 0.002621 kWh. RAM Power : 3.0 W\n",
      "[codecarbon INFO @ 18:48:05] Energy consumed for all CPUs : 0.004373 kWh. Total CPU Power : 5.0 W\n",
      "[codecarbon INFO @ 18:48:05] 0.006994 kWh of electricity used since the beginning.\n"
     ]
    },
    {
     "name": "stdout",
     "output_type": "stream",
     "text": [
      "[CV] END criterion=entropy, max_depth=10, min_samples_leaf=5, min_samples_split=2, n_estimators=200; total time=  19.4s\n"
     ]
    },
    {
     "name": "stderr",
     "output_type": "stream",
     "text": [
      "[codecarbon INFO @ 18:48:20] Energy consumed for RAM : 0.002634 kWh. RAM Power : 3.0 W\n",
      "[codecarbon INFO @ 18:48:20] Energy consumed for all CPUs : 0.004393 kWh. Total CPU Power : 5.0 W\n",
      "[codecarbon INFO @ 18:48:20] 0.007027 kWh of electricity used since the beginning.\n"
     ]
    },
    {
     "name": "stdout",
     "output_type": "stream",
     "text": [
      "[CV] END criterion=entropy, max_depth=10, min_samples_leaf=5, min_samples_split=10, n_estimators=100; total time=   9.6s\n"
     ]
    },
    {
     "name": "stderr",
     "output_type": "stream",
     "text": [
      "[codecarbon INFO @ 18:48:35] Energy consumed for RAM : 0.002646 kWh. RAM Power : 3.0 W\n",
      "[codecarbon INFO @ 18:48:35] Energy consumed for all CPUs : 0.004414 kWh. Total CPU Power : 5.0 W\n",
      "[codecarbon INFO @ 18:48:35] 0.007060 kWh of electricity used since the beginning.\n"
     ]
    },
    {
     "name": "stdout",
     "output_type": "stream",
     "text": [
      "[CV] END criterion=entropy, max_depth=10, min_samples_leaf=5, min_samples_split=10, n_estimators=100; total time=   9.6s\n",
      "[CV] END criterion=entropy, max_depth=10, min_samples_leaf=5, min_samples_split=10, n_estimators=100; total time=   9.3s\n"
     ]
    },
    {
     "name": "stderr",
     "output_type": "stream",
     "text": [
      "[codecarbon INFO @ 18:48:50] Energy consumed for RAM : 0.002659 kWh. RAM Power : 3.0 W\n",
      "[codecarbon INFO @ 18:48:50] Energy consumed for all CPUs : 0.004435 kWh. Total CPU Power : 5.0 W\n",
      "[codecarbon INFO @ 18:48:50] 0.007094 kWh of electricity used since the beginning.\n"
     ]
    },
    {
     "name": "stdout",
     "output_type": "stream",
     "text": [
      "[CV] END criterion=entropy, max_depth=10, min_samples_leaf=5, min_samples_split=10, n_estimators=100; total time=   9.4s\n"
     ]
    },
    {
     "name": "stderr",
     "output_type": "stream",
     "text": [
      "[codecarbon INFO @ 18:49:05] Energy consumed for RAM : 0.002671 kWh. RAM Power : 3.0 W\n",
      "[codecarbon INFO @ 18:49:05] Energy consumed for all CPUs : 0.004456 kWh. Total CPU Power : 5.0 W\n",
      "[codecarbon INFO @ 18:49:05] 0.007127 kWh of electricity used since the beginning.\n"
     ]
    },
    {
     "name": "stdout",
     "output_type": "stream",
     "text": [
      "[CV] END criterion=entropy, max_depth=10, min_samples_leaf=5, min_samples_split=10, n_estimators=100; total time=   9.9s\n"
     ]
    },
    {
     "name": "stderr",
     "output_type": "stream",
     "text": [
      "[codecarbon INFO @ 18:49:20] Energy consumed for RAM : 0.002684 kWh. RAM Power : 3.0 W\n",
      "[codecarbon INFO @ 18:49:20] Energy consumed for all CPUs : 0.004477 kWh. Total CPU Power : 5.0 W\n",
      "[codecarbon INFO @ 18:49:20] 0.007160 kWh of electricity used since the beginning.\n"
     ]
    },
    {
     "name": "stdout",
     "output_type": "stream",
     "text": [
      "[CV] END criterion=entropy, max_depth=10, min_samples_leaf=5, min_samples_split=10, n_estimators=200; total time=  18.5s\n"
     ]
    },
    {
     "name": "stderr",
     "output_type": "stream",
     "text": [
      "[codecarbon INFO @ 18:49:35] Energy consumed for RAM : 0.002696 kWh. RAM Power : 3.0 W\n",
      "[codecarbon INFO @ 18:49:35] Energy consumed for all CPUs : 0.004497 kWh. Total CPU Power : 5.0 W\n",
      "[codecarbon INFO @ 18:49:35] 0.007194 kWh of electricity used since the beginning.\n",
      "[codecarbon INFO @ 18:49:35] 0.000386 g.CO2eq/s mean an estimation of 12.18300409206661 kg.CO2eq/year\n"
     ]
    },
    {
     "name": "stdout",
     "output_type": "stream",
     "text": [
      "[CV] END criterion=entropy, max_depth=10, min_samples_leaf=5, min_samples_split=10, n_estimators=200; total time=  18.8s\n"
     ]
    },
    {
     "name": "stderr",
     "output_type": "stream",
     "text": [
      "[codecarbon INFO @ 18:49:50] Energy consumed for RAM : 0.002709 kWh. RAM Power : 3.0 W\n",
      "[codecarbon INFO @ 18:49:50] Energy consumed for all CPUs : 0.004518 kWh. Total CPU Power : 5.0 W\n",
      "[codecarbon INFO @ 18:49:50] 0.007227 kWh of electricity used since the beginning.\n"
     ]
    },
    {
     "name": "stdout",
     "output_type": "stream",
     "text": [
      "[CV] END criterion=entropy, max_depth=10, min_samples_leaf=5, min_samples_split=10, n_estimators=200; total time=  18.8s\n"
     ]
    },
    {
     "name": "stderr",
     "output_type": "stream",
     "text": [
      "[codecarbon INFO @ 18:50:05] Energy consumed for RAM : 0.002721 kWh. RAM Power : 3.0 W\n",
      "[codecarbon INFO @ 18:50:05] Energy consumed for all CPUs : 0.004539 kWh. Total CPU Power : 5.0 W\n",
      "[codecarbon INFO @ 18:50:05] 0.007260 kWh of electricity used since the beginning.\n",
      "[codecarbon INFO @ 18:50:20] Energy consumed for RAM : 0.002734 kWh. RAM Power : 3.0 W\n",
      "[codecarbon INFO @ 18:50:20] Energy consumed for all CPUs : 0.004560 kWh. Total CPU Power : 5.0 W\n",
      "[codecarbon INFO @ 18:50:20] 0.007294 kWh of electricity used since the beginning.\n"
     ]
    },
    {
     "name": "stdout",
     "output_type": "stream",
     "text": [
      "[CV] END criterion=entropy, max_depth=10, min_samples_leaf=5, min_samples_split=10, n_estimators=200; total time=  18.4s\n"
     ]
    },
    {
     "name": "stderr",
     "output_type": "stream",
     "text": [
      "[codecarbon INFO @ 18:50:35] Energy consumed for RAM : 0.002746 kWh. RAM Power : 3.0 W\n",
      "[codecarbon INFO @ 18:50:35] Energy consumed for all CPUs : 0.004581 kWh. Total CPU Power : 5.0 W\n",
      "[codecarbon INFO @ 18:50:35] 0.007327 kWh of electricity used since the beginning.\n"
     ]
    },
    {
     "name": "stdout",
     "output_type": "stream",
     "text": [
      "[CV] END criterion=entropy, max_depth=10, min_samples_leaf=5, min_samples_split=10, n_estimators=200; total time=  18.5s\n"
     ]
    },
    {
     "name": "stderr",
     "output_type": "stream",
     "text": [
      "[codecarbon INFO @ 18:50:50] Energy consumed for RAM : 0.002759 kWh. RAM Power : 3.0 W\n",
      "[codecarbon INFO @ 18:50:50] Energy consumed for all CPUs : 0.004602 kWh. Total CPU Power : 5.0 W\n",
      "[codecarbon INFO @ 18:50:50] 0.007360 kWh of electricity used since the beginning.\n"
     ]
    },
    {
     "name": "stdout",
     "output_type": "stream",
     "text": [
      "[CV] END criterion=entropy, max_depth=20, min_samples_leaf=1, min_samples_split=2, n_estimators=100; total time=  15.0s\n"
     ]
    },
    {
     "name": "stderr",
     "output_type": "stream",
     "text": [
      "[codecarbon INFO @ 18:51:05] Energy consumed for RAM : 0.002771 kWh. RAM Power : 3.0 W\n",
      "[codecarbon INFO @ 18:51:05] Energy consumed for all CPUs : 0.004622 kWh. Total CPU Power : 5.0 W\n",
      "[codecarbon INFO @ 18:51:05] 0.007394 kWh of electricity used since the beginning.\n"
     ]
    },
    {
     "name": "stdout",
     "output_type": "stream",
     "text": [
      "[CV] END criterion=entropy, max_depth=20, min_samples_leaf=1, min_samples_split=2, n_estimators=100; total time=  15.0s\n"
     ]
    },
    {
     "name": "stderr",
     "output_type": "stream",
     "text": [
      "[codecarbon INFO @ 18:51:20] Energy consumed for RAM : 0.002784 kWh. RAM Power : 3.0 W\n",
      "[codecarbon INFO @ 18:51:20] Energy consumed for all CPUs : 0.004643 kWh. Total CPU Power : 5.0 W\n",
      "[codecarbon INFO @ 18:51:20] 0.007427 kWh of electricity used since the beginning.\n"
     ]
    },
    {
     "name": "stdout",
     "output_type": "stream",
     "text": [
      "[CV] END criterion=entropy, max_depth=20, min_samples_leaf=1, min_samples_split=2, n_estimators=100; total time=  14.9s\n"
     ]
    },
    {
     "name": "stderr",
     "output_type": "stream",
     "text": [
      "[codecarbon INFO @ 18:51:35] Energy consumed for RAM : 0.002796 kWh. RAM Power : 3.0 W\n",
      "[codecarbon INFO @ 18:51:35] Energy consumed for all CPUs : 0.004664 kWh. Total CPU Power : 5.0 W\n",
      "[codecarbon INFO @ 18:51:35] 0.007460 kWh of electricity used since the beginning.\n",
      "[codecarbon INFO @ 18:51:35] 0.000387 g.CO2eq/s mean an estimation of 12.194330785777185 kg.CO2eq/year\n"
     ]
    },
    {
     "name": "stdout",
     "output_type": "stream",
     "text": [
      "[CV] END criterion=entropy, max_depth=20, min_samples_leaf=1, min_samples_split=2, n_estimators=100; total time=  15.1s\n"
     ]
    },
    {
     "name": "stderr",
     "output_type": "stream",
     "text": [
      "[codecarbon INFO @ 18:51:50] Energy consumed for RAM : 0.002809 kWh. RAM Power : 3.0 W\n",
      "[codecarbon INFO @ 18:51:50] Energy consumed for all CPUs : 0.004685 kWh. Total CPU Power : 5.0 W\n",
      "[codecarbon INFO @ 18:51:50] 0.007494 kWh of electricity used since the beginning.\n"
     ]
    },
    {
     "name": "stdout",
     "output_type": "stream",
     "text": [
      "[CV] END criterion=entropy, max_depth=20, min_samples_leaf=1, min_samples_split=2, n_estimators=100; total time=  15.2s\n"
     ]
    },
    {
     "name": "stderr",
     "output_type": "stream",
     "text": [
      "[codecarbon INFO @ 18:52:05] Energy consumed for RAM : 0.002821 kWh. RAM Power : 3.0 W\n",
      "[codecarbon INFO @ 18:52:05] Energy consumed for all CPUs : 0.004706 kWh. Total CPU Power : 5.0 W\n",
      "[codecarbon INFO @ 18:52:05] 0.007527 kWh of electricity used since the beginning.\n",
      "[codecarbon INFO @ 18:52:20] Energy consumed for RAM : 0.002834 kWh. RAM Power : 3.0 W\n",
      "[codecarbon INFO @ 18:52:20] Energy consumed for all CPUs : 0.004727 kWh. Total CPU Power : 5.0 W\n",
      "[codecarbon INFO @ 18:52:20] 0.007560 kWh of electricity used since the beginning.\n"
     ]
    },
    {
     "name": "stdout",
     "output_type": "stream",
     "text": [
      "[CV] END criterion=entropy, max_depth=20, min_samples_leaf=1, min_samples_split=2, n_estimators=200; total time=  30.3s\n"
     ]
    },
    {
     "name": "stderr",
     "output_type": "stream",
     "text": [
      "[codecarbon INFO @ 18:52:35] Energy consumed for RAM : 0.002846 kWh. RAM Power : 3.0 W\n",
      "[codecarbon INFO @ 18:52:35] Energy consumed for all CPUs : 0.004747 kWh. Total CPU Power : 5.0 W\n",
      "[codecarbon INFO @ 18:52:35] 0.007594 kWh of electricity used since the beginning.\n",
      "[codecarbon INFO @ 18:52:50] Energy consumed for RAM : 0.002859 kWh. RAM Power : 3.0 W\n",
      "[codecarbon INFO @ 18:52:50] Energy consumed for all CPUs : 0.004768 kWh. Total CPU Power : 5.0 W\n",
      "[codecarbon INFO @ 18:52:50] 0.007627 kWh of electricity used since the beginning.\n"
     ]
    },
    {
     "name": "stdout",
     "output_type": "stream",
     "text": [
      "[CV] END criterion=entropy, max_depth=20, min_samples_leaf=1, min_samples_split=2, n_estimators=200; total time=  29.8s\n"
     ]
    },
    {
     "name": "stderr",
     "output_type": "stream",
     "text": [
      "[codecarbon INFO @ 18:53:05] Energy consumed for RAM : 0.002871 kWh. RAM Power : 3.0 W\n",
      "[codecarbon INFO @ 18:53:05] Energy consumed for all CPUs : 0.004789 kWh. Total CPU Power : 5.0 W\n",
      "[codecarbon INFO @ 18:53:05] 0.007660 kWh of electricity used since the beginning.\n",
      "[codecarbon INFO @ 18:53:20] Energy consumed for RAM : 0.002884 kWh. RAM Power : 3.0 W\n",
      "[codecarbon INFO @ 18:53:20] Energy consumed for all CPUs : 0.004810 kWh. Total CPU Power : 5.0 W\n",
      "[codecarbon INFO @ 18:53:20] 0.007693 kWh of electricity used since the beginning.\n"
     ]
    },
    {
     "name": "stdout",
     "output_type": "stream",
     "text": [
      "[CV] END criterion=entropy, max_depth=20, min_samples_leaf=1, min_samples_split=2, n_estimators=200; total time=  29.6s\n"
     ]
    },
    {
     "name": "stderr",
     "output_type": "stream",
     "text": [
      "[codecarbon INFO @ 18:53:35] Energy consumed for RAM : 0.002896 kWh. RAM Power : 3.0 W\n",
      "[codecarbon INFO @ 18:53:35] Energy consumed for all CPUs : 0.004831 kWh. Total CPU Power : 5.0 W\n",
      "[codecarbon INFO @ 18:53:35] 0.007727 kWh of electricity used since the beginning.\n",
      "[codecarbon INFO @ 18:53:35] 0.000386 g.CO2eq/s mean an estimation of 12.185565542947035 kg.CO2eq/year\n",
      "[codecarbon INFO @ 18:53:50] Energy consumed for RAM : 0.002909 kWh. RAM Power : 3.0 W\n",
      "[codecarbon INFO @ 18:53:50] Energy consumed for all CPUs : 0.004852 kWh. Total CPU Power : 5.0 W\n",
      "[codecarbon INFO @ 18:53:50] 0.007760 kWh of electricity used since the beginning.\n"
     ]
    },
    {
     "name": "stdout",
     "output_type": "stream",
     "text": [
      "[CV] END criterion=entropy, max_depth=20, min_samples_leaf=1, min_samples_split=2, n_estimators=200; total time=  30.5s\n"
     ]
    },
    {
     "name": "stderr",
     "output_type": "stream",
     "text": [
      "[codecarbon INFO @ 18:54:05] Energy consumed for RAM : 0.002921 kWh. RAM Power : 3.0 W\n",
      "[codecarbon INFO @ 18:54:05] Energy consumed for all CPUs : 0.004872 kWh. Total CPU Power : 5.0 W\n",
      "[codecarbon INFO @ 18:54:05] 0.007793 kWh of electricity used since the beginning.\n",
      "[codecarbon INFO @ 18:54:20] Energy consumed for RAM : 0.002933 kWh. RAM Power : 3.0 W\n",
      "[codecarbon INFO @ 18:54:20] Energy consumed for all CPUs : 0.004893 kWh. Total CPU Power : 5.0 W\n",
      "[codecarbon INFO @ 18:54:20] 0.007827 kWh of electricity used since the beginning.\n"
     ]
    },
    {
     "name": "stdout",
     "output_type": "stream",
     "text": [
      "[CV] END criterion=entropy, max_depth=20, min_samples_leaf=1, min_samples_split=2, n_estimators=200; total time=  30.3s\n"
     ]
    },
    {
     "name": "stderr",
     "output_type": "stream",
     "text": [
      "[codecarbon INFO @ 18:54:35] Energy consumed for RAM : 0.002946 kWh. RAM Power : 3.0 W\n",
      "[codecarbon INFO @ 18:54:35] Energy consumed for all CPUs : 0.004914 kWh. Total CPU Power : 5.0 W\n",
      "[codecarbon INFO @ 18:54:35] 0.007860 kWh of electricity used since the beginning.\n"
     ]
    },
    {
     "name": "stdout",
     "output_type": "stream",
     "text": [
      "[CV] END criterion=entropy, max_depth=20, min_samples_leaf=1, min_samples_split=10, n_estimators=100; total time=  15.6s\n"
     ]
    },
    {
     "name": "stderr",
     "output_type": "stream",
     "text": [
      "[codecarbon INFO @ 18:54:50] Energy consumed for RAM : 0.002958 kWh. RAM Power : 3.0 W\n",
      "[codecarbon INFO @ 18:54:50] Energy consumed for all CPUs : 0.004935 kWh. Total CPU Power : 5.0 W\n",
      "[codecarbon INFO @ 18:54:50] 0.007893 kWh of electricity used since the beginning.\n"
     ]
    },
    {
     "name": "stdout",
     "output_type": "stream",
     "text": [
      "[CV] END criterion=entropy, max_depth=20, min_samples_leaf=1, min_samples_split=10, n_estimators=100; total time=  15.6s\n"
     ]
    },
    {
     "name": "stderr",
     "output_type": "stream",
     "text": [
      "[codecarbon INFO @ 18:55:05] Energy consumed for RAM : 0.002971 kWh. RAM Power : 3.0 W\n",
      "[codecarbon INFO @ 18:55:05] Energy consumed for all CPUs : 0.004956 kWh. Total CPU Power : 5.0 W\n",
      "[codecarbon INFO @ 18:55:05] 0.007927 kWh of electricity used since the beginning.\n"
     ]
    },
    {
     "name": "stdout",
     "output_type": "stream",
     "text": [
      "[CV] END criterion=entropy, max_depth=20, min_samples_leaf=1, min_samples_split=10, n_estimators=100; total time=  15.3s\n"
     ]
    },
    {
     "name": "stderr",
     "output_type": "stream",
     "text": [
      "[codecarbon INFO @ 18:55:20] Energy consumed for RAM : 0.002983 kWh. RAM Power : 3.0 W\n",
      "[codecarbon INFO @ 18:55:20] Energy consumed for all CPUs : 0.004976 kWh. Total CPU Power : 5.0 W\n",
      "[codecarbon INFO @ 18:55:20] 0.007960 kWh of electricity used since the beginning.\n"
     ]
    },
    {
     "name": "stdout",
     "output_type": "stream",
     "text": [
      "[CV] END criterion=entropy, max_depth=20, min_samples_leaf=1, min_samples_split=10, n_estimators=100; total time=  15.0s\n"
     ]
    },
    {
     "name": "stderr",
     "output_type": "stream",
     "text": [
      "[codecarbon INFO @ 18:55:35] Energy consumed for RAM : 0.002996 kWh. RAM Power : 3.0 W\n",
      "[codecarbon INFO @ 18:55:35] Energy consumed for all CPUs : 0.004997 kWh. Total CPU Power : 5.0 W\n",
      "[codecarbon INFO @ 18:55:35] 0.007993 kWh of electricity used since the beginning.\n",
      "[codecarbon INFO @ 18:55:35] 0.000386 g.CO2eq/s mean an estimation of 12.173239472731769 kg.CO2eq/year\n"
     ]
    },
    {
     "name": "stdout",
     "output_type": "stream",
     "text": [
      "[CV] END criterion=entropy, max_depth=20, min_samples_leaf=1, min_samples_split=10, n_estimators=100; total time=  15.1s\n"
     ]
    },
    {
     "name": "stderr",
     "output_type": "stream",
     "text": [
      "[codecarbon INFO @ 18:55:50] Energy consumed for RAM : 0.003008 kWh. RAM Power : 3.0 W\n",
      "[codecarbon INFO @ 18:55:50] Energy consumed for all CPUs : 0.005018 kWh. Total CPU Power : 5.0 W\n",
      "[codecarbon INFO @ 18:55:50] 0.008026 kWh of electricity used since the beginning.\n",
      "[codecarbon INFO @ 18:56:05] Energy consumed for RAM : 0.003021 kWh. RAM Power : 3.0 W\n",
      "[codecarbon INFO @ 18:56:05] Energy consumed for all CPUs : 0.005039 kWh. Total CPU Power : 5.0 W\n",
      "[codecarbon INFO @ 18:56:05] 0.008060 kWh of electricity used since the beginning.\n"
     ]
    },
    {
     "name": "stdout",
     "output_type": "stream",
     "text": [
      "[CV] END criterion=entropy, max_depth=20, min_samples_leaf=1, min_samples_split=10, n_estimators=200; total time=  29.6s\n"
     ]
    },
    {
     "name": "stderr",
     "output_type": "stream",
     "text": [
      "[codecarbon INFO @ 18:56:20] Energy consumed for RAM : 0.003033 kWh. RAM Power : 3.0 W\n",
      "[codecarbon INFO @ 18:56:20] Energy consumed for all CPUs : 0.005060 kWh. Total CPU Power : 5.0 W\n",
      "[codecarbon INFO @ 18:56:20] 0.008093 kWh of electricity used since the beginning.\n",
      "[codecarbon INFO @ 18:56:35] Energy consumed for RAM : 0.003046 kWh. RAM Power : 3.0 W\n",
      "[codecarbon INFO @ 18:56:35] Energy consumed for all CPUs : 0.005081 kWh. Total CPU Power : 5.0 W\n",
      "[codecarbon INFO @ 18:56:35] 0.008126 kWh of electricity used since the beginning.\n"
     ]
    },
    {
     "name": "stdout",
     "output_type": "stream",
     "text": [
      "[CV] END criterion=entropy, max_depth=20, min_samples_leaf=1, min_samples_split=10, n_estimators=200; total time=  29.5s\n"
     ]
    },
    {
     "name": "stderr",
     "output_type": "stream",
     "text": [
      "[codecarbon INFO @ 18:56:50] Energy consumed for RAM : 0.003058 kWh. RAM Power : 3.0 W\n",
      "[codecarbon INFO @ 18:56:50] Energy consumed for all CPUs : 0.005101 kWh. Total CPU Power : 5.0 W\n",
      "[codecarbon INFO @ 18:56:50] 0.008160 kWh of electricity used since the beginning.\n",
      "[codecarbon INFO @ 18:57:05] Energy consumed for RAM : 0.003071 kWh. RAM Power : 3.0 W\n",
      "[codecarbon INFO @ 18:57:05] Energy consumed for all CPUs : 0.005122 kWh. Total CPU Power : 5.0 W\n",
      "[codecarbon INFO @ 18:57:05] 0.008193 kWh of electricity used since the beginning.\n"
     ]
    },
    {
     "name": "stdout",
     "output_type": "stream",
     "text": [
      "[CV] END criterion=entropy, max_depth=20, min_samples_leaf=1, min_samples_split=10, n_estimators=200; total time=  30.4s\n"
     ]
    },
    {
     "name": "stderr",
     "output_type": "stream",
     "text": [
      "[codecarbon INFO @ 18:57:20] Energy consumed for RAM : 0.003083 kWh. RAM Power : 3.0 W\n",
      "[codecarbon INFO @ 18:57:20] Energy consumed for all CPUs : 0.005143 kWh. Total CPU Power : 5.0 W\n",
      "[codecarbon INFO @ 18:57:20] 0.008226 kWh of electricity used since the beginning.\n",
      "[codecarbon INFO @ 18:57:35] Energy consumed for RAM : 0.003096 kWh. RAM Power : 3.0 W\n",
      "[codecarbon INFO @ 18:57:35] Energy consumed for all CPUs : 0.005164 kWh. Total CPU Power : 5.0 W\n",
      "[codecarbon INFO @ 18:57:35] 0.008260 kWh of electricity used since the beginning.\n",
      "[codecarbon INFO @ 18:57:35] 0.000386 g.CO2eq/s mean an estimation of 12.182013880094816 kg.CO2eq/year\n"
     ]
    },
    {
     "name": "stdout",
     "output_type": "stream",
     "text": [
      "[CV] END criterion=entropy, max_depth=20, min_samples_leaf=1, min_samples_split=10, n_estimators=200; total time=  30.1s\n"
     ]
    },
    {
     "name": "stderr",
     "output_type": "stream",
     "text": [
      "[codecarbon INFO @ 18:57:50] Energy consumed for RAM : 0.003108 kWh. RAM Power : 3.0 W\n",
      "[codecarbon INFO @ 18:57:50] Energy consumed for all CPUs : 0.005185 kWh. Total CPU Power : 5.0 W\n",
      "[codecarbon INFO @ 18:57:50] 0.008293 kWh of electricity used since the beginning.\n",
      "[codecarbon INFO @ 18:58:05] Energy consumed for RAM : 0.003121 kWh. RAM Power : 3.0 W\n",
      "[codecarbon INFO @ 18:58:05] Energy consumed for all CPUs : 0.005206 kWh. Total CPU Power : 5.0 W\n",
      "[codecarbon INFO @ 18:58:05] 0.008326 kWh of electricity used since the beginning.\n"
     ]
    },
    {
     "name": "stdout",
     "output_type": "stream",
     "text": [
      "[CV] END criterion=entropy, max_depth=20, min_samples_leaf=1, min_samples_split=10, n_estimators=200; total time=  30.6s\n"
     ]
    },
    {
     "name": "stderr",
     "output_type": "stream",
     "text": [
      "[codecarbon INFO @ 18:58:20] Energy consumed for RAM : 0.003133 kWh. RAM Power : 3.0 W\n",
      "[codecarbon INFO @ 18:58:20] Energy consumed for all CPUs : 0.005226 kWh. Total CPU Power : 5.0 W\n",
      "[codecarbon INFO @ 18:58:20] 0.008360 kWh of electricity used since the beginning.\n"
     ]
    },
    {
     "name": "stdout",
     "output_type": "stream",
     "text": [
      "[CV] END criterion=entropy, max_depth=20, min_samples_leaf=5, min_samples_split=2, n_estimators=100; total time=  14.8s\n"
     ]
    },
    {
     "name": "stderr",
     "output_type": "stream",
     "text": [
      "[codecarbon INFO @ 18:58:35] Energy consumed for RAM : 0.003146 kWh. RAM Power : 3.0 W\n",
      "[codecarbon INFO @ 18:58:35] Energy consumed for all CPUs : 0.005247 kWh. Total CPU Power : 5.0 W\n",
      "[codecarbon INFO @ 18:58:35] 0.008393 kWh of electricity used since the beginning.\n"
     ]
    },
    {
     "name": "stdout",
     "output_type": "stream",
     "text": [
      "[CV] END criterion=entropy, max_depth=20, min_samples_leaf=5, min_samples_split=2, n_estimators=100; total time=  16.1s\n"
     ]
    },
    {
     "name": "stderr",
     "output_type": "stream",
     "text": [
      "[codecarbon INFO @ 18:58:50] Energy consumed for RAM : 0.003158 kWh. RAM Power : 3.0 W\n",
      "[codecarbon INFO @ 18:58:50] Energy consumed for all CPUs : 0.005268 kWh. Total CPU Power : 5.0 W\n",
      "[codecarbon INFO @ 18:58:50] 0.008426 kWh of electricity used since the beginning.\n"
     ]
    },
    {
     "name": "stdout",
     "output_type": "stream",
     "text": [
      "[CV] END criterion=entropy, max_depth=20, min_samples_leaf=5, min_samples_split=2, n_estimators=100; total time=  15.0s\n"
     ]
    },
    {
     "name": "stderr",
     "output_type": "stream",
     "text": [
      "[codecarbon INFO @ 18:59:05] Energy consumed for RAM : 0.003171 kWh. RAM Power : 3.0 W\n",
      "[codecarbon INFO @ 18:59:05] Energy consumed for all CPUs : 0.005289 kWh. Total CPU Power : 5.0 W\n",
      "[codecarbon INFO @ 18:59:05] 0.008460 kWh of electricity used since the beginning.\n"
     ]
    },
    {
     "name": "stdout",
     "output_type": "stream",
     "text": [
      "[CV] END criterion=entropy, max_depth=20, min_samples_leaf=5, min_samples_split=2, n_estimators=100; total time=  15.2s\n"
     ]
    },
    {
     "name": "stderr",
     "output_type": "stream",
     "text": [
      "[codecarbon INFO @ 18:59:20] Energy consumed for RAM : 0.003183 kWh. RAM Power : 3.0 W\n",
      "[codecarbon INFO @ 18:59:20] Energy consumed for all CPUs : 0.005310 kWh. Total CPU Power : 5.0 W\n",
      "[codecarbon INFO @ 18:59:20] 0.008493 kWh of electricity used since the beginning.\n",
      "[codecarbon INFO @ 18:59:35] Energy consumed for RAM : 0.003196 kWh. RAM Power : 3.0 W\n",
      "[codecarbon INFO @ 18:59:35] Energy consumed for all CPUs : 0.005331 kWh. Total CPU Power : 5.0 W\n",
      "[codecarbon INFO @ 18:59:35] 0.008526 kWh of electricity used since the beginning.\n",
      "[codecarbon INFO @ 18:59:35] 0.000386 g.CO2eq/s mean an estimation of 12.186063998735584 kg.CO2eq/year\n"
     ]
    },
    {
     "name": "stdout",
     "output_type": "stream",
     "text": [
      "[CV] END criterion=entropy, max_depth=20, min_samples_leaf=5, min_samples_split=2, n_estimators=100; total time=  21.5s\n"
     ]
    },
    {
     "name": "stderr",
     "output_type": "stream",
     "text": [
      "[codecarbon INFO @ 18:59:50] Energy consumed for RAM : 0.003208 kWh. RAM Power : 3.0 W\n",
      "[codecarbon INFO @ 18:59:50] Energy consumed for all CPUs : 0.005351 kWh. Total CPU Power : 5.0 W\n",
      "[codecarbon INFO @ 18:59:50] 0.008560 kWh of electricity used since the beginning.\n",
      "[codecarbon INFO @ 19:00:05] Energy consumed for RAM : 0.003221 kWh. RAM Power : 3.0 W\n",
      "[codecarbon INFO @ 19:00:05] Energy consumed for all CPUs : 0.005372 kWh. Total CPU Power : 5.0 W\n",
      "[codecarbon INFO @ 19:00:05] 0.008593 kWh of electricity used since the beginning.\n"
     ]
    },
    {
     "name": "stdout",
     "output_type": "stream",
     "text": [
      "[CV] END criterion=entropy, max_depth=20, min_samples_leaf=5, min_samples_split=2, n_estimators=200; total time=  32.0s\n"
     ]
    },
    {
     "name": "stderr",
     "output_type": "stream",
     "text": [
      "[codecarbon INFO @ 19:00:20] Energy consumed for RAM : 0.003233 kWh. RAM Power : 3.0 W\n",
      "[codecarbon INFO @ 19:00:20] Energy consumed for all CPUs : 0.005393 kWh. Total CPU Power : 5.0 W\n",
      "[codecarbon INFO @ 19:00:21] 0.008626 kWh of electricity used since the beginning.\n",
      "[codecarbon INFO @ 19:00:35] Energy consumed for RAM : 0.003246 kWh. RAM Power : 3.0 W\n",
      "[codecarbon INFO @ 19:00:35] Energy consumed for all CPUs : 0.005414 kWh. Total CPU Power : 5.0 W\n",
      "[codecarbon INFO @ 19:00:35] 0.008659 kWh of electricity used since the beginning.\n"
     ]
    },
    {
     "name": "stdout",
     "output_type": "stream",
     "text": [
      "[CV] END criterion=entropy, max_depth=20, min_samples_leaf=5, min_samples_split=2, n_estimators=200; total time=  30.5s\n"
     ]
    },
    {
     "name": "stderr",
     "output_type": "stream",
     "text": [
      "[codecarbon INFO @ 19:00:50] Energy consumed for RAM : 0.003258 kWh. RAM Power : 3.0 W\n",
      "[codecarbon INFO @ 19:00:50] Energy consumed for all CPUs : 0.005435 kWh. Total CPU Power : 5.0 W\n",
      "[codecarbon INFO @ 19:00:50] 0.008693 kWh of electricity used since the beginning.\n",
      "[codecarbon INFO @ 19:01:05] Energy consumed for RAM : 0.003271 kWh. RAM Power : 3.0 W\n",
      "[codecarbon INFO @ 19:01:05] Energy consumed for all CPUs : 0.005456 kWh. Total CPU Power : 5.0 W\n",
      "[codecarbon INFO @ 19:01:06] 0.008726 kWh of electricity used since the beginning.\n"
     ]
    },
    {
     "name": "stdout",
     "output_type": "stream",
     "text": [
      "[CV] END criterion=entropy, max_depth=20, min_samples_leaf=5, min_samples_split=2, n_estimators=200; total time=  29.7s\n"
     ]
    },
    {
     "name": "stderr",
     "output_type": "stream",
     "text": [
      "[codecarbon INFO @ 19:01:21] Energy consumed for RAM : 0.003283 kWh. RAM Power : 3.0 W\n",
      "[codecarbon INFO @ 19:01:21] Energy consumed for all CPUs : 0.005476 kWh. Total CPU Power : 5.0 W\n",
      "[codecarbon INFO @ 19:01:21] 0.008759 kWh of electricity used since the beginning.\n",
      "[codecarbon INFO @ 19:01:36] Energy consumed for RAM : 0.003296 kWh. RAM Power : 3.0 W\n",
      "[codecarbon INFO @ 19:01:36] Energy consumed for all CPUs : 0.005497 kWh. Total CPU Power : 5.0 W\n",
      "[codecarbon INFO @ 19:01:36] 0.008793 kWh of electricity used since the beginning.\n",
      "[codecarbon INFO @ 19:01:36] 0.000386 g.CO2eq/s mean an estimation of 12.182290835333449 kg.CO2eq/year\n"
     ]
    },
    {
     "name": "stdout",
     "output_type": "stream",
     "text": [
      "[CV] END criterion=entropy, max_depth=20, min_samples_leaf=5, min_samples_split=2, n_estimators=200; total time=  29.2s\n"
     ]
    },
    {
     "name": "stderr",
     "output_type": "stream",
     "text": [
      "[codecarbon INFO @ 19:01:51] Energy consumed for RAM : 0.003308 kWh. RAM Power : 3.0 W\n",
      "[codecarbon INFO @ 19:01:51] Energy consumed for all CPUs : 0.005518 kWh. Total CPU Power : 5.0 W\n",
      "[codecarbon INFO @ 19:01:51] 0.008826 kWh of electricity used since the beginning.\n",
      "[codecarbon INFO @ 19:02:06] Energy consumed for RAM : 0.003321 kWh. RAM Power : 3.0 W\n",
      "[codecarbon INFO @ 19:02:06] Energy consumed for all CPUs : 0.005539 kWh. Total CPU Power : 5.0 W\n",
      "[codecarbon INFO @ 19:02:06] 0.008859 kWh of electricity used since the beginning.\n"
     ]
    },
    {
     "name": "stdout",
     "output_type": "stream",
     "text": [
      "[CV] END criterion=entropy, max_depth=20, min_samples_leaf=5, min_samples_split=2, n_estimators=200; total time=  29.1s\n"
     ]
    },
    {
     "name": "stderr",
     "output_type": "stream",
     "text": [
      "[codecarbon INFO @ 19:02:21] Energy consumed for RAM : 0.003333 kWh. RAM Power : 3.0 W\n",
      "[codecarbon INFO @ 19:02:21] Energy consumed for all CPUs : 0.005560 kWh. Total CPU Power : 5.0 W\n",
      "[codecarbon INFO @ 19:02:21] 0.008893 kWh of electricity used since the beginning.\n"
     ]
    },
    {
     "name": "stdout",
     "output_type": "stream",
     "text": [
      "[CV] END criterion=entropy, max_depth=20, min_samples_leaf=5, min_samples_split=10, n_estimators=100; total time=  14.8s\n",
      "[CV] END criterion=entropy, max_depth=20, min_samples_leaf=5, min_samples_split=10, n_estimators=100; total time=  14.5s\n"
     ]
    },
    {
     "name": "stderr",
     "output_type": "stream",
     "text": [
      "[codecarbon INFO @ 19:02:36] Energy consumed for RAM : 0.003346 kWh. RAM Power : 3.0 W\n",
      "[codecarbon INFO @ 19:02:36] Energy consumed for all CPUs : 0.005581 kWh. Total CPU Power : 5.0 W\n",
      "[codecarbon INFO @ 19:02:36] 0.008926 kWh of electricity used since the beginning.\n"
     ]
    },
    {
     "name": "stdout",
     "output_type": "stream",
     "text": [
      "[CV] END criterion=entropy, max_depth=20, min_samples_leaf=5, min_samples_split=10, n_estimators=100; total time=  14.7s\n"
     ]
    },
    {
     "name": "stderr",
     "output_type": "stream",
     "text": [
      "[codecarbon INFO @ 19:02:51] Energy consumed for RAM : 0.003358 kWh. RAM Power : 3.0 W\n",
      "[codecarbon INFO @ 19:02:51] Energy consumed for all CPUs : 0.005601 kWh. Total CPU Power : 5.0 W\n",
      "[codecarbon INFO @ 19:02:51] 0.008959 kWh of electricity used since the beginning.\n"
     ]
    },
    {
     "name": "stdout",
     "output_type": "stream",
     "text": [
      "[CV] END criterion=entropy, max_depth=20, min_samples_leaf=5, min_samples_split=10, n_estimators=100; total time=  14.7s\n"
     ]
    },
    {
     "name": "stderr",
     "output_type": "stream",
     "text": [
      "[codecarbon INFO @ 19:03:06] Energy consumed for RAM : 0.003371 kWh. RAM Power : 3.0 W\n",
      "[codecarbon INFO @ 19:03:06] Energy consumed for all CPUs : 0.005622 kWh. Total CPU Power : 5.0 W\n",
      "[codecarbon INFO @ 19:03:06] 0.008993 kWh of electricity used since the beginning.\n"
     ]
    },
    {
     "name": "stdout",
     "output_type": "stream",
     "text": [
      "[CV] END criterion=entropy, max_depth=20, min_samples_leaf=5, min_samples_split=10, n_estimators=100; total time=  14.9s\n"
     ]
    },
    {
     "name": "stderr",
     "output_type": "stream",
     "text": [
      "[codecarbon INFO @ 19:03:21] Energy consumed for RAM : 0.003383 kWh. RAM Power : 3.0 W\n",
      "[codecarbon INFO @ 19:03:21] Energy consumed for all CPUs : 0.005643 kWh. Total CPU Power : 5.0 W\n",
      "[codecarbon INFO @ 19:03:21] 0.009026 kWh of electricity used since the beginning.\n",
      "[codecarbon INFO @ 19:03:36] Energy consumed for RAM : 0.003396 kWh. RAM Power : 3.0 W\n",
      "[codecarbon INFO @ 19:03:36] Energy consumed for all CPUs : 0.005664 kWh. Total CPU Power : 5.0 W\n",
      "[codecarbon INFO @ 19:03:36] 0.009059 kWh of electricity used since the beginning.\n",
      "[codecarbon INFO @ 19:03:36] 0.000386 g.CO2eq/s mean an estimation of 12.184732465205448 kg.CO2eq/year\n"
     ]
    },
    {
     "name": "stdout",
     "output_type": "stream",
     "text": [
      "[CV] END criterion=entropy, max_depth=20, min_samples_leaf=5, min_samples_split=10, n_estimators=200; total time=  29.2s\n"
     ]
    },
    {
     "name": "stderr",
     "output_type": "stream",
     "text": [
      "[codecarbon INFO @ 19:03:51] Energy consumed for RAM : 0.003408 kWh. RAM Power : 3.0 W\n",
      "[codecarbon INFO @ 19:03:51] Energy consumed for all CPUs : 0.005685 kWh. Total CPU Power : 5.0 W\n",
      "[codecarbon INFO @ 19:03:51] 0.009093 kWh of electricity used since the beginning.\n",
      "[codecarbon INFO @ 19:04:06] Energy consumed for RAM : 0.003421 kWh. RAM Power : 3.0 W\n",
      "[codecarbon INFO @ 19:04:06] Energy consumed for all CPUs : 0.005706 kWh. Total CPU Power : 5.0 W\n",
      "[codecarbon INFO @ 19:04:06] 0.009126 kWh of electricity used since the beginning.\n"
     ]
    },
    {
     "name": "stdout",
     "output_type": "stream",
     "text": [
      "[CV] END criterion=entropy, max_depth=20, min_samples_leaf=5, min_samples_split=10, n_estimators=200; total time=  29.0s\n"
     ]
    },
    {
     "name": "stderr",
     "output_type": "stream",
     "text": [
      "[codecarbon INFO @ 19:04:21] Energy consumed for RAM : 0.003433 kWh. RAM Power : 3.0 W\n",
      "[codecarbon INFO @ 19:04:21] Energy consumed for all CPUs : 0.005726 kWh. Total CPU Power : 5.0 W\n",
      "[codecarbon INFO @ 19:04:21] 0.009159 kWh of electricity used since the beginning.\n",
      "[codecarbon INFO @ 19:04:36] Energy consumed for RAM : 0.003446 kWh. RAM Power : 3.0 W\n",
      "[codecarbon INFO @ 19:04:36] Energy consumed for all CPUs : 0.005747 kWh. Total CPU Power : 5.0 W\n",
      "[codecarbon INFO @ 19:04:36] 0.009193 kWh of electricity used since the beginning.\n"
     ]
    },
    {
     "name": "stdout",
     "output_type": "stream",
     "text": [
      "[CV] END criterion=entropy, max_depth=20, min_samples_leaf=5, min_samples_split=10, n_estimators=200; total time=  28.8s\n"
     ]
    },
    {
     "name": "stderr",
     "output_type": "stream",
     "text": [
      "[codecarbon INFO @ 19:04:51] Energy consumed for RAM : 0.003458 kWh. RAM Power : 3.0 W\n",
      "[codecarbon INFO @ 19:04:51] Energy consumed for all CPUs : 0.005768 kWh. Total CPU Power : 5.0 W\n",
      "[codecarbon INFO @ 19:04:51] 0.009226 kWh of electricity used since the beginning.\n",
      "[codecarbon INFO @ 19:05:06] Energy consumed for RAM : 0.003470 kWh. RAM Power : 3.0 W\n",
      "[codecarbon INFO @ 19:05:06] Energy consumed for all CPUs : 0.005789 kWh. Total CPU Power : 5.0 W\n",
      "[codecarbon INFO @ 19:05:06] 0.009259 kWh of electricity used since the beginning.\n"
     ]
    },
    {
     "name": "stdout",
     "output_type": "stream",
     "text": [
      "[CV] END criterion=entropy, max_depth=20, min_samples_leaf=5, min_samples_split=10, n_estimators=200; total time=  28.8s\n"
     ]
    },
    {
     "name": "stderr",
     "output_type": "stream",
     "text": [
      "[codecarbon INFO @ 19:05:21] Energy consumed for RAM : 0.003483 kWh. RAM Power : 3.0 W\n",
      "[codecarbon INFO @ 19:05:21] Energy consumed for all CPUs : 0.005810 kWh. Total CPU Power : 5.0 W\n",
      "[codecarbon INFO @ 19:05:21] 0.009292 kWh of electricity used since the beginning.\n",
      "[codecarbon INFO @ 19:05:36] Energy consumed for RAM : 0.003495 kWh. RAM Power : 3.0 W\n",
      "[codecarbon INFO @ 19:05:36] Energy consumed for all CPUs : 0.005830 kWh. Total CPU Power : 5.0 W\n",
      "[codecarbon INFO @ 19:05:36] 0.009326 kWh of electricity used since the beginning.\n",
      "[codecarbon INFO @ 19:05:36] 0.000386 g.CO2eq/s mean an estimation of 12.176140622793369 kg.CO2eq/year\n"
     ]
    },
    {
     "name": "stdout",
     "output_type": "stream",
     "text": [
      "[CV] END criterion=entropy, max_depth=20, min_samples_leaf=5, min_samples_split=10, n_estimators=200; total time=  28.3s\n"
     ]
    },
    {
     "name": "stderr",
     "output_type": "stream",
     "text": [
      "[codecarbon INFO @ 19:05:51] Energy consumed for RAM : 0.003508 kWh. RAM Power : 3.0 W\n",
      "[codecarbon INFO @ 19:05:51] Energy consumed for all CPUs : 0.005851 kWh. Total CPU Power : 5.0 W\n",
      "[codecarbon INFO @ 19:05:51] 0.009359 kWh of electricity used since the beginning.\n",
      "[codecarbon INFO @ 19:06:06] Energy consumed for RAM : 0.003520 kWh. RAM Power : 3.0 W\n",
      "[codecarbon INFO @ 19:06:06] Energy consumed for all CPUs : 0.005872 kWh. Total CPU Power : 5.0 W\n",
      "[codecarbon INFO @ 19:06:06] 0.009392 kWh of electricity used since the beginning.\n",
      "[codecarbon INFO @ 19:06:21] Energy consumed for RAM : 0.003533 kWh. RAM Power : 3.0 W\n",
      "[codecarbon INFO @ 19:06:21] Energy consumed for all CPUs : 0.005893 kWh. Total CPU Power : 5.0 W\n",
      "[codecarbon INFO @ 19:06:21] 0.009426 kWh of electricity used since the beginning.\n"
     ]
    },
    {
     "data": {
      "text/html": [
       "<style>#sk-container-id-1 {color: black;background-color: white;}#sk-container-id-1 pre{padding: 0;}#sk-container-id-1 div.sk-toggleable {background-color: white;}#sk-container-id-1 label.sk-toggleable__label {cursor: pointer;display: block;width: 100%;margin-bottom: 0;padding: 0.3em;box-sizing: border-box;text-align: center;}#sk-container-id-1 label.sk-toggleable__label-arrow:before {content: \"▸\";float: left;margin-right: 0.25em;color: #696969;}#sk-container-id-1 label.sk-toggleable__label-arrow:hover:before {color: black;}#sk-container-id-1 div.sk-estimator:hover label.sk-toggleable__label-arrow:before {color: black;}#sk-container-id-1 div.sk-toggleable__content {max-height: 0;max-width: 0;overflow: hidden;text-align: left;background-color: #f0f8ff;}#sk-container-id-1 div.sk-toggleable__content pre {margin: 0.2em;color: black;border-radius: 0.25em;background-color: #f0f8ff;}#sk-container-id-1 input.sk-toggleable__control:checked~div.sk-toggleable__content {max-height: 200px;max-width: 100%;overflow: auto;}#sk-container-id-1 input.sk-toggleable__control:checked~label.sk-toggleable__label-arrow:before {content: \"▾\";}#sk-container-id-1 div.sk-estimator input.sk-toggleable__control:checked~label.sk-toggleable__label {background-color: #d4ebff;}#sk-container-id-1 div.sk-label input.sk-toggleable__control:checked~label.sk-toggleable__label {background-color: #d4ebff;}#sk-container-id-1 input.sk-hidden--visually {border: 0;clip: rect(1px 1px 1px 1px);clip: rect(1px, 1px, 1px, 1px);height: 1px;margin: -1px;overflow: hidden;padding: 0;position: absolute;width: 1px;}#sk-container-id-1 div.sk-estimator {font-family: monospace;background-color: #f0f8ff;border: 1px dotted black;border-radius: 0.25em;box-sizing: border-box;margin-bottom: 0.5em;}#sk-container-id-1 div.sk-estimator:hover {background-color: #d4ebff;}#sk-container-id-1 div.sk-parallel-item::after {content: \"\";width: 100%;border-bottom: 1px solid gray;flex-grow: 1;}#sk-container-id-1 div.sk-label:hover label.sk-toggleable__label {background-color: #d4ebff;}#sk-container-id-1 div.sk-serial::before {content: \"\";position: absolute;border-left: 1px solid gray;box-sizing: border-box;top: 0;bottom: 0;left: 50%;z-index: 0;}#sk-container-id-1 div.sk-serial {display: flex;flex-direction: column;align-items: center;background-color: white;padding-right: 0.2em;padding-left: 0.2em;position: relative;}#sk-container-id-1 div.sk-item {position: relative;z-index: 1;}#sk-container-id-1 div.sk-parallel {display: flex;align-items: stretch;justify-content: center;background-color: white;position: relative;}#sk-container-id-1 div.sk-item::before, #sk-container-id-1 div.sk-parallel-item::before {content: \"\";position: absolute;border-left: 1px solid gray;box-sizing: border-box;top: 0;bottom: 0;left: 50%;z-index: -1;}#sk-container-id-1 div.sk-parallel-item {display: flex;flex-direction: column;z-index: 1;position: relative;background-color: white;}#sk-container-id-1 div.sk-parallel-item:first-child::after {align-self: flex-end;width: 50%;}#sk-container-id-1 div.sk-parallel-item:last-child::after {align-self: flex-start;width: 50%;}#sk-container-id-1 div.sk-parallel-item:only-child::after {width: 0;}#sk-container-id-1 div.sk-dashed-wrapped {border: 1px dashed gray;margin: 0 0.4em 0.5em 0.4em;box-sizing: border-box;padding-bottom: 0.4em;background-color: white;}#sk-container-id-1 div.sk-label label {font-family: monospace;font-weight: bold;display: inline-block;line-height: 1.2em;}#sk-container-id-1 div.sk-label-container {text-align: center;}#sk-container-id-1 div.sk-container {/* jupyter's `normalize.less` sets `[hidden] { display: none; }` but bootstrap.min.css set `[hidden] { display: none !important; }` so we also need the `!important` here to be able to override the default hidden behavior on the sphinx rendered scikit-learn.org. See: https://github.com/scikit-learn/scikit-learn/issues/21755 */display: inline-block !important;position: relative;}#sk-container-id-1 div.sk-text-repr-fallback {display: none;}</style><div id=\"sk-container-id-1\" class=\"sk-top-container\"><div class=\"sk-text-repr-fallback\"><pre>GridSearchCV(cv=5, estimator=RandomForestClassifier(n_jobs=-1, random_state=42),\n",
       "             param_grid={&#x27;criterion&#x27;: [&#x27;gini&#x27;, &#x27;entropy&#x27;],\n",
       "                         &#x27;max_depth&#x27;: [None, 10, 20],\n",
       "                         &#x27;min_samples_leaf&#x27;: [1, 5],\n",
       "                         &#x27;min_samples_split&#x27;: [2, 10],\n",
       "                         &#x27;n_estimators&#x27;: [100, 200]},\n",
       "             scoring=&#x27;f1&#x27;, verbose=2)</pre><b>In a Jupyter environment, please rerun this cell to show the HTML representation or trust the notebook. <br />On GitHub, the HTML representation is unable to render, please try loading this page with nbviewer.org.</b></div><div class=\"sk-container\" hidden><div class=\"sk-item sk-dashed-wrapped\"><div class=\"sk-label-container\"><div class=\"sk-label sk-toggleable\"><input class=\"sk-toggleable__control sk-hidden--visually\" id=\"sk-estimator-id-1\" type=\"checkbox\" ><label for=\"sk-estimator-id-1\" class=\"sk-toggleable__label sk-toggleable__label-arrow\">GridSearchCV</label><div class=\"sk-toggleable__content\"><pre>GridSearchCV(cv=5, estimator=RandomForestClassifier(n_jobs=-1, random_state=42),\n",
       "             param_grid={&#x27;criterion&#x27;: [&#x27;gini&#x27;, &#x27;entropy&#x27;],\n",
       "                         &#x27;max_depth&#x27;: [None, 10, 20],\n",
       "                         &#x27;min_samples_leaf&#x27;: [1, 5],\n",
       "                         &#x27;min_samples_split&#x27;: [2, 10],\n",
       "                         &#x27;n_estimators&#x27;: [100, 200]},\n",
       "             scoring=&#x27;f1&#x27;, verbose=2)</pre></div></div></div><div class=\"sk-parallel\"><div class=\"sk-parallel-item\"><div class=\"sk-item\"><div class=\"sk-label-container\"><div class=\"sk-label sk-toggleable\"><input class=\"sk-toggleable__control sk-hidden--visually\" id=\"sk-estimator-id-2\" type=\"checkbox\" ><label for=\"sk-estimator-id-2\" class=\"sk-toggleable__label sk-toggleable__label-arrow\">estimator: RandomForestClassifier</label><div class=\"sk-toggleable__content\"><pre>RandomForestClassifier(n_jobs=-1, random_state=42)</pre></div></div></div><div class=\"sk-serial\"><div class=\"sk-item\"><div class=\"sk-estimator sk-toggleable\"><input class=\"sk-toggleable__control sk-hidden--visually\" id=\"sk-estimator-id-3\" type=\"checkbox\" ><label for=\"sk-estimator-id-3\" class=\"sk-toggleable__label sk-toggleable__label-arrow\">RandomForestClassifier</label><div class=\"sk-toggleable__content\"><pre>RandomForestClassifier(n_jobs=-1, random_state=42)</pre></div></div></div></div></div></div></div></div></div></div>"
      ],
      "text/plain": [
       "GridSearchCV(cv=5, estimator=RandomForestClassifier(n_jobs=-1, random_state=42),\n",
       "             param_grid={'criterion': ['gini', 'entropy'],\n",
       "                         'max_depth': [None, 10, 20],\n",
       "                         'min_samples_leaf': [1, 5],\n",
       "                         'min_samples_split': [2, 10],\n",
       "                         'n_estimators': [100, 200]},\n",
       "             scoring='f1', verbose=2)"
      ]
     },
     "execution_count": 7,
     "metadata": {},
     "output_type": "execute_result"
    }
   ],
   "source": [
    "from sklearn.ensemble import RandomForestClassifier\n",
    "from sklearn.model_selection import GridSearchCV\n",
    "\n",
    "# Definir el grid de hiperparámetros\n",
    "param_grid = {\n",
    "    'n_estimators': [100, 200],\n",
    "    'max_depth': [None, 10, 20],\n",
    "    'min_samples_split': [2, 10],\n",
    "    'min_samples_leaf': [1, 5],\n",
    "    'criterion': ['gini', 'entropy']\n",
    "}\n",
    "\n",
    "# Instanciar el clasificador base\n",
    "rf = RandomForestClassifier(random_state=42, n_jobs=-1)\n",
    "\n",
    "# Búsqueda con validación cruzada\n",
    "grid_rf = GridSearchCV(\n",
    "    estimator=rf,\n",
    "    param_grid=param_grid,\n",
    "    cv=5,\n",
    "    scoring='f1',\n",
    "    verbose=2\n",
    ")\n",
    "\n",
    "# Entrenar\n",
    "grid_rf.fit(X_train, y_train)\n"
   ]
  },
  {
   "cell_type": "code",
   "execution_count": 8,
   "id": "ecc8300e",
   "metadata": {},
   "outputs": [
    {
     "name": "stdout",
     "output_type": "stream",
     "text": [
      "🔍 Mejores parámetros encontrados:\n",
      "{'criterion': 'entropy', 'max_depth': None, 'min_samples_leaf': 5, 'min_samples_split': 2, 'n_estimators': 200}\n",
      "\n",
      "Accuracy: 0.83882\n",
      "\n",
      "Classification report:\n",
      "              precision    recall  f1-score   support\n",
      "\n",
      "           0     0.8584    0.9040    0.8806     32867\n",
      "           1     0.7949    0.7138    0.7522     17133\n",
      "\n",
      "    accuracy                         0.8388     50000\n",
      "   macro avg     0.8266    0.8089    0.8164     50000\n",
      "weighted avg     0.8366    0.8388    0.8366     50000\n",
      "\n",
      "\n",
      "AUC-ROC: 0.9060980717861513\n"
     ]
    }
   ],
   "source": [
    "from sklearn.metrics import accuracy_score, classification_report, roc_auc_score\n",
    "\n",
    "# Guardar el mejor modelo\n",
    "best_rf = grid_rf.best_estimator_\n",
    "\n",
    "# Predecir en test\n",
    "y_pred = best_rf.predict(X_test)\n",
    "y_proba = best_rf.predict_proba(X_test)[:, 1]\n",
    "\n",
    "# Métricas\n",
    "print(\"🔍 Mejores parámetros encontrados:\")\n",
    "print(grid_rf.best_params_)\n",
    "print(\"\\nAccuracy:\", accuracy_score(y_test, y_pred))\n",
    "print(\"\\nClassification report:\")\n",
    "print(classification_report(y_test, y_pred, digits=4))\n",
    "print(\"\\nAUC-ROC:\", roc_auc_score(y_test, y_proba))\n"
   ]
  },
  {
   "cell_type": "code",
   "execution_count": 9,
   "id": "7c1df617",
   "metadata": {},
   "outputs": [
    {
     "name": "stderr",
     "output_type": "stream",
     "text": [
      "[codecarbon INFO @ 19:06:22] Energy consumed for RAM : 0.003534 kWh. RAM Power : 3.0 W\n",
      "[codecarbon INFO @ 19:06:22] Energy consumed for all CPUs : 0.005894 kWh. Total CPU Power : 5.0 W\n",
      "[codecarbon INFO @ 19:06:22] 0.009428 kWh of electricity used since the beginning.\n"
     ]
    }
   ],
   "source": [
    "emissions = tracker.stop()"
   ]
  }
 ],
 "metadata": {
  "kernelspec": {
   "display_name": "base",
   "language": "python",
   "name": "python3"
  },
  "language_info": {
   "codemirror_mode": {
    "name": "ipython",
    "version": 3
   },
   "file_extension": ".py",
   "mimetype": "text/x-python",
   "name": "python",
   "nbconvert_exporter": "python",
   "pygments_lexer": "ipython3",
   "version": "3.9.12"
  }
 },
 "nbformat": 4,
 "nbformat_minor": 5
}
